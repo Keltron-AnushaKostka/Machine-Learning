{
  "nbformat": 4,
  "nbformat_minor": 0,
  "metadata": {
    "colab": {
      "provenance": []
    },
    "kernelspec": {
      "name": "python3",
      "display_name": "Python 3"
    },
    "language_info": {
      "name": "python"
    }
  },
  "cells": [
    {
      "cell_type": "markdown",
      "source": [
        "# **Homework**"
      ],
      "metadata": {
        "id": "Llr9Bf7iU4Kn"
      }
    },
    {
      "cell_type": "markdown",
      "source": [
        "# **Stroke Prediction**"
      ],
      "metadata": {
        "id": "r1uHTeCUVA8D"
      }
    },
    {
      "cell_type": "code",
      "execution_count": 211,
      "metadata": {
        "id": "wHuf1rJS4cLU"
      },
      "outputs": [],
      "source": [
        "import numpy as np\n",
        "import pandas as pd\n",
        "import seaborn as sns\n",
        "from sklearn.model_selection import train_test_split\n",
        "from sklearn import svm\n",
        "from sklearn.metrics import accuracy_score"
      ]
    },
    {
      "cell_type": "code",
      "source": [
        "from google.colab import files\n",
        "files.upload()"
      ],
      "metadata": {
        "colab": {
          "base_uri": "https://localhost:8080/",
          "height": 1000
        },
        "id": "7BHFP7zz4_LZ",
        "outputId": "0f3a57e3-b814-4916-8206-846eca7057f4"
      },
      "execution_count": 212,
      "outputs": [
        {
          "output_type": "display_data",
          "data": {
            "text/plain": [
              "<IPython.core.display.HTML object>"
            ],
            "text/html": [
              "\n",
              "     <input type=\"file\" id=\"files-81081cd5-7e44-498d-b3e8-ad9587d121df\" name=\"files[]\" multiple disabled\n",
              "        style=\"border:none\" />\n",
              "     <output id=\"result-81081cd5-7e44-498d-b3e8-ad9587d121df\">\n",
              "      Upload widget is only available when the cell has been executed in the\n",
              "      current browser session. Please rerun this cell to enable.\n",
              "      </output>\n",
              "      <script>// Copyright 2017 Google LLC\n",
              "//\n",
              "// Licensed under the Apache License, Version 2.0 (the \"License\");\n",
              "// you may not use this file except in compliance with the License.\n",
              "// You may obtain a copy of the License at\n",
              "//\n",
              "//      http://www.apache.org/licenses/LICENSE-2.0\n",
              "//\n",
              "// Unless required by applicable law or agreed to in writing, software\n",
              "// distributed under the License is distributed on an \"AS IS\" BASIS,\n",
              "// WITHOUT WARRANTIES OR CONDITIONS OF ANY KIND, either express or implied.\n",
              "// See the License for the specific language governing permissions and\n",
              "// limitations under the License.\n",
              "\n",
              "/**\n",
              " * @fileoverview Helpers for google.colab Python module.\n",
              " */\n",
              "(function(scope) {\n",
              "function span(text, styleAttributes = {}) {\n",
              "  const element = document.createElement('span');\n",
              "  element.textContent = text;\n",
              "  for (const key of Object.keys(styleAttributes)) {\n",
              "    element.style[key] = styleAttributes[key];\n",
              "  }\n",
              "  return element;\n",
              "}\n",
              "\n",
              "// Max number of bytes which will be uploaded at a time.\n",
              "const MAX_PAYLOAD_SIZE = 100 * 1024;\n",
              "\n",
              "function _uploadFiles(inputId, outputId) {\n",
              "  const steps = uploadFilesStep(inputId, outputId);\n",
              "  const outputElement = document.getElementById(outputId);\n",
              "  // Cache steps on the outputElement to make it available for the next call\n",
              "  // to uploadFilesContinue from Python.\n",
              "  outputElement.steps = steps;\n",
              "\n",
              "  return _uploadFilesContinue(outputId);\n",
              "}\n",
              "\n",
              "// This is roughly an async generator (not supported in the browser yet),\n",
              "// where there are multiple asynchronous steps and the Python side is going\n",
              "// to poll for completion of each step.\n",
              "// This uses a Promise to block the python side on completion of each step,\n",
              "// then passes the result of the previous step as the input to the next step.\n",
              "function _uploadFilesContinue(outputId) {\n",
              "  const outputElement = document.getElementById(outputId);\n",
              "  const steps = outputElement.steps;\n",
              "\n",
              "  const next = steps.next(outputElement.lastPromiseValue);\n",
              "  return Promise.resolve(next.value.promise).then((value) => {\n",
              "    // Cache the last promise value to make it available to the next\n",
              "    // step of the generator.\n",
              "    outputElement.lastPromiseValue = value;\n",
              "    return next.value.response;\n",
              "  });\n",
              "}\n",
              "\n",
              "/**\n",
              " * Generator function which is called between each async step of the upload\n",
              " * process.\n",
              " * @param {string} inputId Element ID of the input file picker element.\n",
              " * @param {string} outputId Element ID of the output display.\n",
              " * @return {!Iterable<!Object>} Iterable of next steps.\n",
              " */\n",
              "function* uploadFilesStep(inputId, outputId) {\n",
              "  const inputElement = document.getElementById(inputId);\n",
              "  inputElement.disabled = false;\n",
              "\n",
              "  const outputElement = document.getElementById(outputId);\n",
              "  outputElement.innerHTML = '';\n",
              "\n",
              "  const pickedPromise = new Promise((resolve) => {\n",
              "    inputElement.addEventListener('change', (e) => {\n",
              "      resolve(e.target.files);\n",
              "    });\n",
              "  });\n",
              "\n",
              "  const cancel = document.createElement('button');\n",
              "  inputElement.parentElement.appendChild(cancel);\n",
              "  cancel.textContent = 'Cancel upload';\n",
              "  const cancelPromise = new Promise((resolve) => {\n",
              "    cancel.onclick = () => {\n",
              "      resolve(null);\n",
              "    };\n",
              "  });\n",
              "\n",
              "  // Wait for the user to pick the files.\n",
              "  const files = yield {\n",
              "    promise: Promise.race([pickedPromise, cancelPromise]),\n",
              "    response: {\n",
              "      action: 'starting',\n",
              "    }\n",
              "  };\n",
              "\n",
              "  cancel.remove();\n",
              "\n",
              "  // Disable the input element since further picks are not allowed.\n",
              "  inputElement.disabled = true;\n",
              "\n",
              "  if (!files) {\n",
              "    return {\n",
              "      response: {\n",
              "        action: 'complete',\n",
              "      }\n",
              "    };\n",
              "  }\n",
              "\n",
              "  for (const file of files) {\n",
              "    const li = document.createElement('li');\n",
              "    li.append(span(file.name, {fontWeight: 'bold'}));\n",
              "    li.append(span(\n",
              "        `(${file.type || 'n/a'}) - ${file.size} bytes, ` +\n",
              "        `last modified: ${\n",
              "            file.lastModifiedDate ? file.lastModifiedDate.toLocaleDateString() :\n",
              "                                    'n/a'} - `));\n",
              "    const percent = span('0% done');\n",
              "    li.appendChild(percent);\n",
              "\n",
              "    outputElement.appendChild(li);\n",
              "\n",
              "    const fileDataPromise = new Promise((resolve) => {\n",
              "      const reader = new FileReader();\n",
              "      reader.onload = (e) => {\n",
              "        resolve(e.target.result);\n",
              "      };\n",
              "      reader.readAsArrayBuffer(file);\n",
              "    });\n",
              "    // Wait for the data to be ready.\n",
              "    let fileData = yield {\n",
              "      promise: fileDataPromise,\n",
              "      response: {\n",
              "        action: 'continue',\n",
              "      }\n",
              "    };\n",
              "\n",
              "    // Use a chunked sending to avoid message size limits. See b/62115660.\n",
              "    let position = 0;\n",
              "    do {\n",
              "      const length = Math.min(fileData.byteLength - position, MAX_PAYLOAD_SIZE);\n",
              "      const chunk = new Uint8Array(fileData, position, length);\n",
              "      position += length;\n",
              "\n",
              "      const base64 = btoa(String.fromCharCode.apply(null, chunk));\n",
              "      yield {\n",
              "        response: {\n",
              "          action: 'append',\n",
              "          file: file.name,\n",
              "          data: base64,\n",
              "        },\n",
              "      };\n",
              "\n",
              "      let percentDone = fileData.byteLength === 0 ?\n",
              "          100 :\n",
              "          Math.round((position / fileData.byteLength) * 100);\n",
              "      percent.textContent = `${percentDone}% done`;\n",
              "\n",
              "    } while (position < fileData.byteLength);\n",
              "  }\n",
              "\n",
              "  // All done.\n",
              "  yield {\n",
              "    response: {\n",
              "      action: 'complete',\n",
              "    }\n",
              "  };\n",
              "}\n",
              "\n",
              "scope.google = scope.google || {};\n",
              "scope.google.colab = scope.google.colab || {};\n",
              "scope.google.colab._files = {\n",
              "  _uploadFiles,\n",
              "  _uploadFilesContinue,\n",
              "};\n",
              "})(self);\n",
              "</script> "
            ]
          },
          "metadata": {}
        },
        {
          "output_type": "stream",
          "name": "stdout",
          "text": [
            "Saving healthcare-dataset-stroke-data.csv to healthcare-dataset-stroke-data (1).csv\n"
          ]
        },
        {
          "output_type": "execute_result",
          "data": {
            "text/plain": [
              "{'healthcare-dataset-stroke-data.csv': b'id,gender,age,hypertension,heart_disease,ever_married,work_type,Residence_type,avg_glucose_level,bmi,smoking_status,stroke\\n9046,Male,67,0,1,Yes,Private,Urban,228.69,36.6,formerly smoked,1\\n51676,Female,61,0,0,Yes,Self-employed,Rural,202.21,N/A,never smoked,1\\n31112,Male,80,0,1,Yes,Private,Rural,105.92,32.5,never smoked,1\\n60182,Female,49,0,0,Yes,Private,Urban,171.23,34.4,smokes,1\\n1665,Female,79,1,0,Yes,Self-employed,Rural,174.12,24,never smoked,1\\n56669,Male,81,0,0,Yes,Private,Urban,186.21,29,formerly smoked,1\\n53882,Male,74,1,1,Yes,Private,Rural,70.09,27.4,never smoked,1\\n10434,Female,69,0,0,No,Private,Urban,94.39,22.8,never smoked,1\\n27419,Female,59,0,0,Yes,Private,Rural,76.15,N/A,Unknown,1\\n60491,Female,78,0,0,Yes,Private,Urban,58.57,24.2,Unknown,1\\n12109,Female,81,1,0,Yes,Private,Rural,80.43,29.7,never smoked,1\\n12095,Female,61,0,1,Yes,Govt_job,Rural,120.46,36.8,smokes,1\\n12175,Female,54,0,0,Yes,Private,Urban,104.51,27.3,smokes,1\\n8213,Male,78,0,1,Yes,Private,Urban,219.84,N/A,Unknown,1\\n5317,Female,79,0,1,Yes,Private,Urban,214.09,28.2,never smoked,1\\n58202,Female,50,1,0,Yes,Self-employed,Rural,167.41,30.9,never smoked,1\\n56112,Male,64,0,1,Yes,Private,Urban,191.61,37.5,smokes,1\\n34120,Male,75,1,0,Yes,Private,Urban,221.29,25.8,smokes,1\\n27458,Female,60,0,0,No,Private,Urban,89.22,37.8,never smoked,1\\n25226,Male,57,0,1,No,Govt_job,Urban,217.08,N/A,Unknown,1\\n70630,Female,71,0,0,Yes,Govt_job,Rural,193.94,22.4,smokes,1\\n13861,Female,52,1,0,Yes,Self-employed,Urban,233.29,48.9,never smoked,1\\n68794,Female,79,0,0,Yes,Self-employed,Urban,228.7,26.6,never smoked,1\\n64778,Male,82,0,1,Yes,Private,Rural,208.3,32.5,Unknown,1\\n4219,Male,71,0,0,Yes,Private,Urban,102.87,27.2,formerly smoked,1\\n70822,Male,80,0,0,Yes,Self-employed,Rural,104.12,23.5,never smoked,1\\n38047,Female,65,0,0,Yes,Private,Rural,100.98,28.2,formerly smoked,1\\n61843,Male,58,0,0,Yes,Private,Rural,189.84,N/A,Unknown,1\\n54827,Male,69,0,1,Yes,Self-employed,Urban,195.23,28.3,smokes,1\\n69160,Male,59,0,0,Yes,Private,Rural,211.78,N/A,formerly smoked,1\\n43717,Male,57,1,0,Yes,Private,Urban,212.08,44.2,smokes,1\\n33879,Male,42,0,0,Yes,Private,Rural,83.41,25.4,Unknown,1\\n39373,Female,82,1,0,Yes,Self-employed,Urban,196.92,22.2,never smoked,1\\n54401,Male,80,0,1,Yes,Self-employed,Urban,252.72,30.5,formerly smoked,1\\n14248,Male,48,0,0,No,Govt_job,Urban,84.2,29.7,never smoked,1\\n712,Female,82,1,1,No,Private,Rural,84.03,26.5,formerly smoked,1\\n47269,Male,74,0,0,Yes,Private,Rural,219.72,33.7,formerly smoked,1\\n24977,Female,72,1,0,Yes,Private,Rural,74.63,23.1,formerly smoked,1\\n47306,Male,58,0,0,No,Private,Rural,92.62,32,Unknown,1\\n62602,Female,49,0,0,Yes,Private,Urban,60.91,29.9,never smoked,1\\n4651,Male,78,0,0,Yes,Private,Rural,78.03,23.9,formerly smoked,1\\n1261,Male,54,0,0,Yes,Private,Urban,71.22,28.5,never smoked,1\\n61960,Male,82,0,1,Yes,Private,Urban,144.9,26.4,smokes,1\\n1845,Female,63,0,0,Yes,Private,Urban,90.9,N/A,formerly smoked,1\\n7937,Male,60,1,0,Yes,Govt_job,Urban,213.03,20.2,smokes,1\\n19824,Male,76,1,0,Yes,Private,Rural,243.58,33.6,never smoked,1\\n37937,Female,75,0,1,No,Self-employed,Urban,109.78,N/A,Unknown,1\\n47472,Female,58,0,0,Yes,Private,Urban,107.26,38.6,formerly smoked,1\\n35626,Male,81,0,0,Yes,Self-employed,Urban,99.33,33.7,never smoked,1\\n36338,Female,39,1,0,Yes,Private,Rural,58.09,39.2,smokes,1\\n18587,Female,76,0,0,No,Private,Urban,89.96,N/A,Unknown,1\\n15102,Male,78,1,0,Yes,Private,Urban,75.32,N/A,formerly smoked,1\\n59190,Female,79,0,1,Yes,Private,Rural,127.29,27.7,never smoked,1\\n47167,Female,77,1,0,Yes,Self-employed,Urban,124.13,31.4,never smoked,1\\n8752,Female,63,0,0,Yes,Govt_job,Urban,197.54,N/A,never smoked,1\\n25831,Male,63,0,1,Yes,Private,Rural,196.71,36.5,formerly smoked,1\\n38829,Female,82,0,0,Yes,Private,Rural,59.32,33.2,never smoked,1\\n66400,Male,78,0,0,Yes,Private,Urban,237.75,N/A,formerly smoked,1\\n58631,Male,73,1,0,Yes,Self-employed,Urban,194.99,32.8,never smoked,1\\n5111,Female,54,1,0,Yes,Govt_job,Urban,180.93,27.7,never smoked,1\\n10710,Female,56,0,0,Yes,Private,Urban,185.17,40.4,formerly smoked,1\\n55927,Female,80,1,0,Yes,Private,Rural,74.9,22.2,never smoked,1\\n65842,Female,67,1,0,Yes,Self-employed,Rural,61.94,25.3,smokes,1\\n19557,Female,45,0,0,Yes,Private,Rural,93.72,30.2,formerly smoked,1\\n7356,Male,75,0,0,Yes,Private,Urban,104.72,N/A,Unknown,1\\n17013,Male,78,1,0,No,Private,Urban,113.01,24,never smoked,1\\n17004,Female,70,0,0,Yes,Private,Urban,221.58,47.5,never smoked,1\\n72366,Male,76,0,0,Yes,Private,Urban,104.47,20.3,Unknown,1\\n6118,Male,59,0,0,Yes,Private,Urban,86.23,30,formerly smoked,1\\n7371,Female,80,1,0,Yes,Self-employed,Rural,72.67,28.9,never smoked,1\\n70676,Female,76,0,0,Yes,Govt_job,Rural,62.57,N/A,formerly smoked,1\\n2326,Female,67,1,0,Yes,Private,Rural,179.12,28.1,formerly smoked,1\\n27169,Female,66,1,0,Yes,Govt_job,Rural,116.55,31.1,formerly smoked,1\\n50784,Male,63,0,0,Yes,Private,Rural,228.56,27.4,never smoked,1\\n19773,Female,52,0,0,Yes,Private,Rural,96.59,26.4,never smoked,1\\n66159,Female,80,0,1,Yes,Self-employed,Rural,66.72,21.7,formerly smoked,1\\n36236,Male,80,1,0,Yes,Private,Urban,240.09,27,never smoked,1\\n71673,Female,79,0,0,Yes,Private,Urban,110.85,24.1,formerly smoked,1\\n45805,Female,51,0,0,Yes,Private,Urban,165.31,N/A,never smoked,1\\n42117,Male,43,0,0,Yes,Self-employed,Urban,143.43,45.9,Unknown,1\\n57419,Male,59,0,0,Yes,Private,Rural,96.16,44.1,Unknown,1\\n26015,Female,66,0,0,Yes,Self-employed,Urban,101.45,N/A,Unknown,1\\n26727,Female,79,0,0,No,Private,Rural,88.92,22.9,never smoked,1\\n66638,Female,68,1,0,No,Self-employed,Urban,79.79,29.7,never smoked,1\\n70042,Male,58,0,0,Yes,Private,Urban,71.2,N/A,Unknown,1\\n32399,Male,54,0,0,Yes,Private,Rural,96.97,29.1,smokes,1\\n3253,Male,61,0,1,Yes,Private,Rural,111.81,27.3,smokes,1\\n71796,Female,70,0,1,Yes,Private,Rural,59.35,32.3,formerly smoked,1\\n14499,Male,47,0,0,Yes,Private,Urban,86.94,41.1,formerly smoked,1\\n49130,Male,74,0,0,Yes,Private,Urban,98.55,25.6,Unknown,1\\n28291,Female,79,0,1,Yes,Private,Urban,226.98,29.8,never smoked,1\\n51169,Male,81,0,0,Yes,Private,Urban,72.81,26.3,never smoked,1\\n66315,Female,57,0,0,No,Self-employed,Urban,68.02,37.5,never smoked,1\\n37726,Female,80,1,0,Yes,Self-employed,Urban,68.56,26.2,Unknown,1\\n54385,Male,45,0,0,Yes,Private,Rural,64.14,29.4,never smoked,1\\n2458,Female,78,0,0,Yes,Private,Rural,235.63,32.3,never smoked,1\\n35512,Female,70,0,0,Yes,Self-employed,Rural,76.34,24.4,formerly smoked,1\\n56841,Male,58,0,1,Yes,Private,Rural,240.59,31.4,smokes,1\\n8154,Male,57,1,0,Yes,Govt_job,Urban,78.92,27.7,formerly smoked,1\\n4639,Female,69,0,0,Yes,Govt_job,Urban,82.81,28,never smoked,1\\n12363,Male,64,0,1,Yes,Govt_job,Urban,74.1,28.8,Unknown,1\\n63973,Female,77,0,0,Yes,Govt_job,Rural,190.32,31.4,never smoked,1\\n45277,Female,74,0,0,Yes,Private,Rural,231.61,34.6,formerly smoked,1\\n4712,Female,81,0,1,Yes,Self-employed,Rural,78.7,19.4,Unknown,1\\n33175,Female,57,0,0,Yes,Govt_job,Urban,110.52,28.5,Unknown,1\\n2346,Male,58,0,0,Yes,Private,Urban,82.3,N/A,smokes,1\\n42072,Female,50,1,0,Yes,Private,Rural,73.18,30.3,formerly smoked,1\\n12062,Female,54,0,0,Yes,Self-employed,Rural,191.82,40.4,smokes,1\\n30456,Female,79,0,0,Yes,Private,Rural,93.05,24.2,never smoked,1\\n59125,Female,53,0,0,Yes,Govt_job,Urban,64.17,41.5,never smoked,1\\n56546,Male,79,0,1,Yes,Private,Rural,129.98,22.6,formerly smoked,1\\n48405,Male,80,0,1,Yes,Private,Urban,68.53,24.2,smokes,1\\n36706,Female,76,0,0,Yes,Self-employed,Urban,106.41,N/A,formerly smoked,1\\n41069,Female,45,0,0,Yes,Private,Rural,224.1,56.6,never smoked,1\\n71639,Female,68,0,0,No,Govt_job,Urban,82.1,27.1,Unknown,1\\n53401,Male,71,1,1,No,Govt_job,Rural,216.94,30.9,never smoked,1\\n60744,Male,61,1,0,Yes,Self-employed,Rural,76.11,27.3,smokes,1\\n7547,Male,74,0,0,Yes,Private,Urban,72.96,31.3,smokes,1\\n31720,Female,38,0,0,No,Self-employed,Urban,82.28,24,formerly smoked,1\\n5563,Female,77,0,0,Yes,Private,Urban,105.22,31,never smoked,1\\n68798,Female,58,0,0,Yes,Private,Rural,59.86,28,formerly smoked,1\\n72918,Female,53,1,0,Yes,Private,Urban,62.55,30.3,Unknown,1\\n13491,Male,80,0,0,Yes,Private,Rural,259.63,31.7,smokes,1\\n44033,Male,56,1,0,Yes,Private,Rural,249.31,35.8,never smoked,1\\n14164,Female,72,0,0,Yes,Private,Urban,219.91,N/A,Unknown,1\\n50522,Female,72,0,0,Yes,Govt_job,Urban,131.41,28.4,never smoked,1\\n3352,Male,78,1,0,Yes,Self-employed,Urban,93.13,N/A,formerly smoked,1\\n70943,Female,80,0,0,Yes,Private,Urban,73.54,24,Unknown,1\\n37132,Male,82,0,0,Yes,Govt_job,Urban,200.59,29,formerly smoked,1\\n48796,Female,75,0,0,Yes,Govt_job,Urban,62.48,N/A,Unknown,1\\n53440,Female,73,1,0,Yes,Private,Rural,190.14,36.5,never smoked,1\\n16817,Female,78,1,0,No,Private,Urban,130.54,20.1,never smoked,1\\n69551,Male,69,1,0,No,Private,Rural,182.99,36.5,never smoked,1\\n31563,Female,38,0,0,Yes,Private,Rural,101.45,N/A,formerly smoked,1\\n20387,Female,68,1,0,Yes,Self-employed,Rural,206.09,26.7,never smoked,1\\n71279,Female,71,0,0,Yes,Govt_job,Urban,263.32,38.7,never smoked,1\\n55824,Male,76,0,0,Yes,Private,Urban,140.1,29.9,formerly smoked,1\\n11762,Female,76,0,0,Yes,Private,Urban,207.28,34.9,Unknown,1\\n29281,Male,76,1,0,Yes,Self-employed,Rural,194.37,27,formerly smoked,1\\n30683,Female,75,0,0,Yes,Private,Rural,199.2,26.6,Unknown,1\\n20439,Male,82,0,1,Yes,Govt_job,Rural,103.68,25,never smoked,1\\n45965,Female,59,0,0,Yes,Private,Rural,116.44,23.8,smokes,1\\n8045,Female,74,1,0,Yes,Private,Urban,70.28,21.8,never smoked,1\\n37651,Female,69,1,1,No,Self-employed,Urban,72.17,36.8,never smoked,1\\n17308,Female,72,1,0,Yes,Private,Urban,221.79,30,never smoked,1\\n67981,Male,66,0,0,Yes,Private,Urban,151.16,27.5,formerly smoked,1\\n41241,Male,65,0,0,Yes,Self-employed,Urban,68.43,N/A,formerly smoked,1\\n62861,Female,78,0,0,Yes,Private,Urban,67.29,24.6,never smoked,1\\n72081,Female,57,1,0,Yes,Govt_job,Rural,67.41,32.9,never smoked,1\\n58978,Female,70,0,1,Yes,Private,Rural,239.07,26.1,never smoked,1\\n11933,Female,79,0,0,Yes,Private,Rural,169.67,N/A,Unknown,1\\n46703,Male,68,0,1,Yes,Private,Urban,223.83,31.9,formerly smoked,1\\n32503,Female,80,0,0,Yes,Self-employed,Urban,76.57,34.1,never smoked,1\\n12482,Male,68,0,0,Yes,Self-employed,Urban,77.82,27.5,smokes,1\\n56939,Female,55,0,0,Yes,Self-employed,Rural,92.98,25.6,never smoked,1\\n24669,Female,77,0,1,Yes,Private,Rural,231.56,36.9,never smoked,1\\n43054,Female,50,0,0,Yes,Private,Rural,102.16,31.4,smokes,1\\n59437,Female,57,0,0,Yes,Private,Urban,221.89,37.3,smokes,1\\n66258,Female,71,0,0,Yes,Self-employed,Urban,195.71,34.1,formerly smoked,1\\n34567,Female,81,1,0,Yes,Self-employed,Rural,74.02,25,never smoked,1\\n50931,Female,76,0,0,Yes,Private,Urban,57.92,N/A,formerly smoked,1\\n16590,Male,71,0,1,Yes,Private,Urban,81.76,N/A,smokes,1\\n69768,Female,1.32,0,0,No,children,Urban,70.37,N/A,Unknown,1\\n20426,Female,78,1,0,No,Private,Urban,203.87,45.7,never smoked,1\\n3512,Female,70,1,0,Yes,Self-employed,Urban,89.13,34.2,formerly smoked,1\\n42899,Male,78,0,0,Yes,Self-employed,Urban,133.19,23.6,formerly smoked,1\\n63453,Female,56,0,0,Yes,Govt_job,Rural,162.23,27.3,Unknown,1\\n43364,Male,79,1,0,Yes,Private,Rural,75.02,N/A,never smoked,1\\n44993,Female,79,1,0,No,Govt_job,Urban,98.02,22.3,formerly smoked,1\\n210,Male,81,0,0,Yes,Self-employed,Rural,91.54,31.4,never smoked,1\\n28939,Male,64,0,0,Yes,Self-employed,Rural,111.98,N/A,formerly smoked,1\\n60739,Female,79,1,1,No,Self-employed,Rural,60.94,N/A,never smoked,1\\n67432,Female,60,0,0,Yes,Private,Urban,97.43,26.4,smokes,1\\n2182,Female,80,1,0,Yes,Self-employed,Rural,91.02,32.9,formerly smoked,1\\n40899,Female,78,0,0,Yes,Self-employed,Rural,60.67,N/A,formerly smoked,1\\n14431,Male,72,1,0,Yes,Self-employed,Rural,185.49,37.1,never smoked,1\\n62466,Female,80,0,0,Yes,Private,Urban,64.44,45,never smoked,1\\n36841,Male,78,1,0,Yes,Self-employed,Rural,56.11,25.5,formerly smoked,1\\n33486,Female,80,0,0,Yes,Govt_job,Urban,110.66,N/A,Unknown,1\\n65105,Male,81,0,0,Yes,Private,Urban,213.22,26.1,Unknown,1\\n54567,Female,46,0,0,Yes,Private,Urban,78.18,30.8,never smoked,1\\n66204,Male,59,0,0,Yes,Private,Urban,111.04,32,formerly smoked,1\\n39912,Female,32,0,0,Yes,Private,Rural,76.13,29.9,smokes,1\\n8003,Female,77,0,0,No,Private,Urban,81.32,N/A,Unknown,1\\n28378,Male,61,1,1,Yes,Private,Urban,112.24,37.4,smokes,1\\n41081,Male,63,0,0,Yes,Private,Rural,137.3,31.7,formerly smoked,1\\n16077,Male,63,0,1,Yes,Self-employed,Urban,116.69,34.5,formerly smoked,1\\n67895,Female,82,1,1,Yes,Govt_job,Urban,215.94,27.9,formerly smoked,1\\n30184,Male,82,0,0,Yes,Private,Rural,86.62,29.5,formerly smoked,1\\n66955,Male,61,0,1,Yes,Private,Urban,209.86,N/A,Unknown,1\\n24905,Female,65,0,0,Yes,Private,Urban,205.77,46,formerly smoked,1\\n66071,Male,51,1,0,Yes,Private,Urban,112.16,42.5,formerly smoked,1\\n36255,Male,59,0,0,Yes,Self-employed,Rural,118.03,35.5,smokes,1\\n69112,Male,68,1,1,Yes,Private,Rural,271.74,31.1,smokes,1\\n23410,Female,72,0,0,Yes,Private,Rural,97.92,26.9,smokes,1\\n64373,Male,59,0,0,Yes,Private,Urban,200.62,35.8,formerly smoked,1\\n58267,Male,70,1,0,Yes,Private,Rural,242.52,45.5,formerly smoked,1\\n35684,Male,69,0,0,Yes,Private,Rural,93.81,28.5,Unknown,1\\n18937,Male,79,0,0,Yes,Private,Rural,114.77,N/A,formerly smoked,1\\n491,Female,74,0,0,Yes,Self-employed,Urban,74.96,26.6,never smoked,1\\n54695,Male,74,0,0,Yes,Private,Urban,167.13,N/A,Unknown,1\\n68627,Male,80,1,1,Yes,Private,Urban,175.29,31.5,formerly smoked,1\\n8580,Female,77,0,0,Yes,Self-employed,Rural,90,32,never smoked,1\\n28484,Female,78,0,0,Yes,Self-employed,Rural,109.47,30.8,never smoked,1\\n62019,Male,54,0,0,Yes,Govt_job,Rural,87.85,31.1,smokes,1\\n51314,Female,78,0,0,Yes,Private,Urban,106.74,33,formerly smoked,1\\n37060,Female,81,0,0,Yes,Private,Rural,80.13,23.4,never smoked,1\\n35578,Male,78,0,0,No,Self-employed,Urban,90.19,26.9,never smoked,1\\n54921,Male,78,1,0,Yes,Self-employed,Rural,134.8,33.6,Unknown,1\\n33454,Female,63,0,0,Yes,Govt_job,Rural,106.58,23.9,Unknown,1\\n33943,Female,39,0,0,Yes,Private,Urban,83.24,26.3,never smoked,1\\n62439,Female,51,0,0,Yes,Govt_job,Rural,103.43,27.3,formerly smoked,1\\n31179,Male,63,0,0,Yes,Private,Urban,208.65,30.7,never smoked,1\\n66866,Female,48,0,0,Yes,Private,Urban,74.11,20.5,never smoked,1\\n2548,Female,81,0,0,Yes,Self-employed,Urban,95.84,21.5,never smoked,1\\n68025,Female,79,0,1,No,Private,Urban,205.33,31,smokes,1\\n2390,Male,78,0,0,Yes,Self-employed,Urban,116.1,27.1,never smoked,1\\n29552,Female,55,1,1,Yes,Private,Urban,210.4,40,smokes,1\\n25904,Female,76,1,1,Yes,Self-employed,Urban,199.86,N/A,smokes,1\\n31421,Male,73,0,1,Yes,Govt_job,Rural,219.73,28.6,never smoked,1\\n20463,Male,81,1,1,Yes,Private,Urban,250.89,28.1,smokes,1\\n68023,Male,79,0,0,Yes,Private,Rural,72.73,28.4,never smoked,1\\n12689,Female,63,0,0,Yes,Govt_job,Rural,205.35,42.2,formerly smoked,1\\n54724,Female,81,0,0,No,Govt_job,Urban,70.3,25.8,smokes,1\\n8899,Male,49,0,0,No,Private,Rural,104.86,31.9,smokes,1\\n39186,Female,57,0,1,Yes,Private,Urban,216.58,31,Unknown,1\\n32729,Female,81,0,0,Yes,Private,Rural,184.4,27.5,never smoked,1\\n39105,Male,74,0,0,Yes,Self-employed,Rural,60.98,N/A,never smoked,1\\n31154,Female,39,0,0,Yes,Self-employed,Urban,97.76,29.6,smokes,1\\n69959,Female,80,1,0,No,Private,Urban,66.03,35.4,never smoked,1\\n10552,Female,81,0,0,Yes,Self-employed,Rural,81.95,16.9,never smoked,1\\n12917,Female,79,0,0,Yes,Private,Urban,97.73,21.5,smokes,1\\n68356,Female,73,0,0,Yes,Self-employed,Urban,70.94,34.4,never smoked,1\\n23368,Female,77,1,0,Yes,Self-employed,Urban,199.84,28,formerly smoked,1\\n25974,Male,78,0,0,Yes,Self-employed,Urban,218.46,26.8,Unknown,1\\n1210,Female,68,0,0,Yes,Private,Rural,211.06,39.3,Unknown,1\\n28493,Male,57,0,0,Yes,Private,Urban,86.3,31.7,Unknown,1\\n36857,Male,77,0,0,Yes,Self-employed,Rural,162.14,32.6,formerly smoked,1\\n1836,Female,51,1,0,Yes,Private,Urban,88.2,28.4,never smoked,1\\n32221,Male,60,0,1,Yes,Private,Urban,91.92,35.9,smokes,1\\n10548,Male,66,0,0,Yes,Private,Rural,76.46,21.2,formerly smoked,1\\n52282,Male,57,0,0,Yes,Private,Rural,197.28,34.5,formerly smoked,1\\n45535,Male,68,0,0,Yes,Private,Rural,233.94,42.4,never smoked,1\\n40460,Female,68,1,1,Yes,Private,Urban,247.51,40.5,formerly smoked,1\\n17739,Male,57,0,0,Yes,Private,Rural,84.96,36.7,Unknown,1\\n49669,Female,14,0,0,No,children,Rural,57.93,30.9,Unknown,1\\n27153,Female,75,0,0,Yes,Self-employed,Rural,78.8,29.3,formerly smoked,1\\n34060,Male,71,1,0,Yes,Self-employed,Rural,87.8,N/A,Unknown,1\\n43424,Female,78,0,0,Yes,Private,Rural,78.81,19.6,Unknown,1\\n30669,Male,3,0,0,No,children,Rural,95.12,18,Unknown,0\\n30468,Male,58,1,0,Yes,Private,Urban,87.96,39.2,never smoked,0\\n16523,Female,8,0,0,No,Private,Urban,110.89,17.6,Unknown,0\\n56543,Female,70,0,0,Yes,Private,Rural,69.04,35.9,formerly smoked,0\\n46136,Male,14,0,0,No,Never_worked,Rural,161.28,19.1,Unknown,0\\n32257,Female,47,0,0,Yes,Private,Urban,210.95,50.1,Unknown,0\\n52800,Female,52,0,0,Yes,Private,Urban,77.59,17.7,formerly smoked,0\\n41413,Female,75,0,1,Yes,Self-employed,Rural,243.53,27,never smoked,0\\n15266,Female,32,0,0,Yes,Private,Rural,77.67,32.3,smokes,0\\n28674,Female,74,1,0,Yes,Self-employed,Urban,205.84,54.6,never smoked,0\\n10460,Female,79,0,0,Yes,Govt_job,Urban,77.08,35,Unknown,0\\n64908,Male,79,0,1,Yes,Private,Urban,57.08,22,formerly smoked,0\\n63884,Female,37,0,0,Yes,Private,Rural,162.96,39.4,never smoked,0\\n37893,Female,37,0,0,Yes,Private,Rural,73.5,26.1,formerly smoked,0\\n67855,Female,40,0,0,Yes,Private,Rural,95.04,42.4,never smoked,0\\n25774,Male,35,0,0,No,Private,Rural,85.37,33,never smoked,0\\n19584,Female,20,0,0,No,Private,Urban,84.62,19.7,smokes,0\\n24447,Female,42,0,0,Yes,Private,Rural,82.67,22.5,never smoked,0\\n49589,Female,44,0,0,Yes,Govt_job,Urban,57.33,24.6,smokes,0\\n17986,Female,79,0,1,Yes,Self-employed,Urban,67.84,25.2,smokes,0\\n29217,Female,65,1,0,Yes,Private,Rural,75.7,41.8,Unknown,0\\n72911,Female,57,1,0,Yes,Private,Rural,129.54,60.9,smokes,0\\n47175,Female,49,0,0,Yes,Private,Rural,60.22,31.5,smokes,0\\n4057,Male,71,0,0,Yes,Private,Urban,198.21,27.3,formerly smoked,0\\n48588,Female,59,0,0,Yes,Private,Urban,109.82,23.7,never smoked,0\\n70336,Female,25,0,0,Yes,Private,Urban,60.84,24.5,never smoked,0\\n66767,Female,67,0,0,Yes,Govt_job,Rural,94.61,28.4,smokes,0\\n45801,Female,38,0,0,No,Private,Rural,97.49,26.9,never smoked,0\\n36275,Female,54,0,0,Yes,Private,Rural,206.72,26.7,never smoked,0\\n11577,Female,70,0,0,Yes,Self-employed,Rural,214.45,31.2,never smoked,0\\n67210,Male,27,0,0,Yes,Self-employed,Urban,82.9,25,Unknown,0\\n29908,Female,47,0,0,Yes,Private,Urban,103.26,25.4,Unknown,0\\n45222,Male,58,1,0,No,Private,Urban,55.78,27.5,smokes,0\\n33759,Female,3,0,0,No,children,Urban,73.74,16,Unknown,0\\n40311,Female,58,0,0,Yes,Private,Urban,149.75,27,Unknown,0\\n26325,Male,14,0,0,No,Govt_job,Urban,82.34,31.6,Unknown,0\\n65460,Female,32,0,0,Yes,Private,Rural,62.6,25.1,formerly smoked,0\\n36811,Female,23,0,0,No,Private,Urban,94.09,30.9,never smoked,0\\n71750,Female,55,0,0,Yes,Private,Urban,55.42,24.8,Unknown,0\\n70970,Female,17,0,0,No,Self-employed,Urban,82.18,23.4,Unknown,0\\n42203,Male,59,0,0,Yes,Private,Urban,117.92,29.4,smokes,0\\n55680,Male,13,0,0,No,children,Urban,114.84,18.3,Unknown,0\\n11014,Male,4,0,0,No,children,Rural,79.17,20,Unknown,0\\n44338,Female,16,0,0,No,children,Rural,110.63,19.5,Unknown,0\\n20980,Male,67,0,0,Yes,Private,Urban,190.7,36,formerly smoked,0\\n34974,Female,22,0,0,No,Private,Rural,79.81,27.7,Unknown,0\\n71379,Female,45,0,0,Yes,Govt_job,Urban,113.63,27.5,smokes,0\\n58261,Female,66,0,0,Yes,Private,Rural,141.24,28.5,never smoked,0\\n67318,Male,58,1,0,Yes,Govt_job,Rural,56.96,26.8,smokes,0\\n28526,Male,69,0,0,Yes,Self-employed,Rural,203.04,33.6,never smoked,0\\n8831,Female,58,0,0,Yes,Private,Rural,94.3,29.1,Unknown,0\\n65199,Female,53,0,0,Yes,Self-employed,Urban,81.51,28.5,Unknown,0\\n43454,Female,78,0,0,No,Self-employed,Urban,137.74,34.9,formerly smoked,0\\n7282,Male,44,0,0,Yes,Private,Rural,81.84,25.1,never smoked,0\\n18518,Male,66,0,0,Yes,Private,Rural,242.3,35.3,smokes,0\\n41648,Male,27,0,0,Yes,Private,Rural,102.64,26.4,smokes,0\\n49003,Male,43,0,0,Yes,Private,Urban,146.01,31.5,smokes,0\\n16371,Female,13,0,0,No,children,Urban,75.42,40.1,Unknown,0\\n42807,Male,51,0,0,Yes,Govt_job,Urban,220.49,43.1,Unknown,0\\n40181,Female,30,0,0,Yes,Private,Urban,61.45,36.7,smokes,0\\n66174,Male,46,0,0,Yes,Self-employed,Rural,88.19,29.3,formerly smoked,0\\n45538,Female,43,0,0,Yes,Self-employed,Rural,115.22,21.2,Unknown,0\\n6319,Female,79,0,0,Yes,Private,Urban,97.93,31.2,Unknown,0\\n68249,Female,27,0,0,Yes,Private,Rural,85.6,21.4,Unknown,0\\n55232,Female,38,0,0,Yes,Private,Rural,79.83,27.9,smokes,0\\n11120,Female,78,1,0,Yes,Private,Urban,218.46,34.3,never smoked,0\\n41940,Male,57,0,1,Yes,Private,Rural,62.2,31,formerly smoked,0\\n72214,Male,61,0,0,Yes,Self-employed,Urban,69.15,27.7,formerly smoked,0\\n37089,Female,37,1,0,Yes,Self-employed,Rural,127.71,36,never smoked,0\\n68614,Female,48,0,0,Yes,Private,Rural,216.7,38.7,formerly smoked,0\\n1686,Female,29,0,0,No,Private,Urban,71.89,27.6,never smoked,0\\n22284,Male,22,0,0,No,Private,Rural,103.56,25.1,Unknown,0\\n39038,Male,11,0,0,No,children,Rural,79.03,16.5,Unknown,0\\n21956,Female,22,0,0,No,Private,Urban,69.94,22.8,Unknown,0\\n52134,Male,53,0,0,Yes,Private,Rural,90.12,35.4,Unknown,0\\n30171,Male,27,0,0,No,Govt_job,Urban,95.1,24.3,formerly smoked,0\\n4480,Male,76,0,0,Yes,Private,Rural,234.58,34.3,formerly smoked,0\\n2982,Female,57,1,0,Yes,Private,Rural,235.85,40.1,never smoked,0\\n65535,Male,8,0,0,No,children,Rural,78.05,25.7,Unknown,0\\n29865,Female,21,0,0,No,Private,Rural,89.44,21.9,smokes,0\\n54918,Female,18,0,0,No,Private,Rural,111.38,38.4,smokes,0\\n59368,Female,78,0,0,Yes,Private,Urban,243.5,26.1,never smoked,0\\n65836,Female,78,1,0,Yes,Private,Urban,182.2,30.5,formerly smoked,0\\n21130,Male,33,0,0,Yes,Self-employed,Urban,229.92,25.9,smokes,0\\n1703,Female,52,0,0,Yes,Private,Urban,82.24,54.7,formerly smoked,0\\n16934,Female,51,0,0,Yes,Self-employed,Rural,89.84,29.9,Unknown,0\\n28799,Male,11,0,0,No,children,Rural,90.69,18.6,Unknown,0\\n32689,Female,48,0,0,Yes,Private,Urban,84.38,27.1,Unknown,0\\n56357,Female,82,0,1,No,Private,Urban,215.6,24.9,never smoked,0\\n18051,Female,54,0,0,Yes,Govt_job,Rural,91.61,25.2,never smoked,0\\n40840,Female,49,0,0,Yes,Private,Rural,138.16,19.4,never smoked,0\\n10449,Female,24,0,0,Yes,Private,Urban,75.23,29,never smoked,0\\n38805,Female,37,0,0,Yes,Private,Rural,75.18,48.2,formerly smoked,0\\n31091,Male,34,0,1,Yes,Private,Urban,106.23,N/A,formerly smoked,0\\n45053,Male,64,0,0,Yes,Govt_job,Urban,239.64,34.6,formerly smoked,0\\n61837,Female,66,0,0,Yes,Self-employed,Urban,58.95,24.6,never smoked,0\\n9487,Female,23,0,0,No,Private,Urban,99.92,25.8,never smoked,0\\n49713,Male,68,0,0,Yes,Private,Rural,116.23,26.1,never smoked,0\\n17608,Female,55,0,0,Yes,Govt_job,Urban,118.82,29,formerly smoked,0\\n28102,Female,25,0,0,No,Private,Rural,66.3,27.2,never smoked,0\\n1506,Female,48,0,0,No,Govt_job,Urban,101.41,20.7,smokes,0\\n28333,Female,79,1,1,Yes,Self-employed,Urban,200.28,30,formerly smoked,0\\n62608,Female,47,0,0,Yes,Private,Urban,136.8,37.3,never smoked,0\\n40670,Female,20,0,0,No,Private,Rural,96.57,34.1,never smoked,0\\n4630,Female,60,0,0,Yes,Private,Rural,66.42,23.6,never smoked,0\\n21284,Female,32,0,0,Yes,Private,Urban,98.09,25.2,smokes,0\\n49421,Female,66,1,0,Yes,Private,Rural,205.23,39.5,never smoked,0\\n5973,Male,43,0,0,Yes,Private,Urban,86.78,23.5,smokes,0\\n42996,Female,36,0,0,No,Govt_job,Rural,126.82,23.3,never smoked,0\\n66333,Male,52,0,0,Yes,Self-employed,Urban,78.4,64.8,never smoked,0\\n46785,Female,29,0,0,Yes,Private,Urban,63.69,28.1,smokes,0\\n54312,Female,76,1,0,Yes,Self-employed,Urban,209.58,N/A,never smoked,0\\n21408,Female,39,0,0,Yes,Self-employed,Rural,89.86,24.4,never smoked,0\\n49916,Male,76,0,0,Yes,Private,Rural,110.99,29.8,formerly smoked,0\\n7559,Female,0.64,0,0,No,children,Urban,83.82,24.9,Unknown,0\\n71038,Male,34,0,0,Yes,Private,Urban,137.96,35.1,Unknown,0\\n69037,Female,72,0,0,Yes,Private,Rural,210.78,32.3,formerly smoked,0\\n58617,Female,43,0,0,Yes,Self-employed,Rural,118.89,43.6,never smoked,0\\n69064,Female,57,0,0,No,Self-employed,Rural,72.55,21,never smoked,0\\n9404,Female,44,0,0,Yes,Private,Rural,107.41,47.3,never smoked,0\\n8171,Female,4,0,0,No,children,Rural,93.25,16.6,Unknown,0\\n28286,Male,44,0,0,Yes,Private,Rural,74.91,37.5,never smoked,0\\n43232,Female,18,0,0,No,Private,Urban,80.05,24.2,never smoked,0\\n10159,Male,41,0,0,Yes,Private,Urban,99.8,31.6,never smoked,0\\n34402,Female,23,0,0,Yes,Private,Rural,91.97,21.6,formerly smoked,0\\n58282,Female,53,0,0,Yes,Govt_job,Rural,64.4,31,smokes,0\\n64489,Male,56,0,0,Yes,Govt_job,Rural,73.02,31.1,never smoked,0\\n22706,Female,0.88,0,0,No,children,Rural,88.11,15.5,Unknown,0\\n71539,Male,25,0,0,No,Private,Urban,138.29,27.3,Unknown,0\\n28637,Female,14,0,0,No,children,Rural,72.36,20.5,Unknown,0\\n64553,Female,53,0,0,Yes,Private,Rural,68.76,35.6,formerly smoked,0\\n31741,Male,4,0,0,No,children,Rural,106.22,16.7,Unknown,0\\n69936,Female,39,0,0,Yes,Private,Urban,101.52,41.8,never smoked,0\\n46527,Male,53,1,1,Yes,Govt_job,Rural,109.51,41.9,never smoked,0\\n22537,Male,5,0,0,No,children,Rural,85.84,16.4,Unknown,0\\n50611,Male,4,0,0,No,children,Rural,110.15,17.1,Unknown,0\\n13547,Female,37,0,0,Yes,Private,Urban,91.72,29.2,never smoked,0\\n63732,Male,70,1,0,Yes,Self-employed,Urban,251.6,27.1,never smoked,0\\n9608,Male,24,0,0,No,Private,Urban,123.1,37.9,never smoked,0\\n10504,Male,55,0,0,Yes,Govt_job,Rural,97.4,44.6,formerly smoked,0\\n37090,Female,70,0,0,Yes,Private,Rural,68.34,22.8,formerly smoked,0\\n60148,Male,34,0,0,Yes,Private,Urban,80.81,33.2,never smoked,0\\n9637,Male,26,0,0,Yes,Private,Rural,120.31,22.3,smokes,0\\n44862,Female,39,0,0,Yes,Private,Rural,83.51,26.4,never smoked,0\\n52173,Male,38,0,0,No,Self-employed,Urban,74.09,39.6,never smoked,0\\n5708,Female,20,0,0,No,Private,Urban,91.6,28.1,never smoked,0\\n23462,Female,17,0,0,No,Private,Urban,87.52,39.2,never smoked,0\\n2374,Male,60,1,0,Yes,Private,Rural,213.37,36,never smoked,0\\n11091,Female,75,0,0,Yes,Self-employed,Rural,75.39,37.8,never smoked,0\\n70374,Female,31,0,0,Yes,Private,Rural,122.41,40.3,smokes,0\\n15528,Male,58,1,0,Yes,Private,Rural,223.36,41.5,formerly smoked,0\\n65357,Female,5,0,0,No,children,Rural,84.59,17.7,Unknown,0\\n49465,Female,13,0,0,No,children,Urban,70.16,21.2,never smoked,0\\n31143,Female,22,0,0,No,Private,Rural,107.52,41.6,Unknown,0\\n66972,Female,52,0,0,Yes,Govt_job,Urban,80.88,23.8,smokes,0\\n55810,Female,61,0,0,Yes,Self-employed,Rural,93.48,23.7,Unknown,0\\n37031,Female,78,0,1,Yes,Govt_job,Urban,70.21,24.8,never smoked,0\\n34608,Male,57,0,0,Yes,Private,Rural,86.67,39,Unknown,0\\n36007,Female,21,0,0,Yes,Private,Rural,101.37,37.9,never smoked,0\\n14123,Female,22,0,0,Yes,Private,Rural,105.22,31.1,never smoked,0\\n48298,Female,80,0,0,Yes,Private,Rural,70.31,23.2,Unknown,0\\n54975,Male,7,0,0,No,Self-employed,Rural,64.06,18.9,Unknown,0\\n27213,Male,64,1,0,Yes,Self-employed,Rural,178.29,36.1,never smoked,0\\n44749,Female,64,0,0,No,Govt_job,Rural,81.6,36.3,smokes,0\\n46468,Female,38,0,0,Yes,Self-employed,Urban,147.48,40.5,Unknown,0\\n10913,Male,12,0,0,No,children,Urban,86.86,25.4,never smoked,0\\n51983,Female,33,0,0,Yes,Private,Rural,71.16,46.5,smokes,0\\n27029,Female,3,0,0,No,children,Urban,73.2,16.8,Unknown,0\\n22320,Female,37,0,0,Yes,Private,Urban,203.81,46.6,never smoked,0\\n45719,Female,22,0,0,No,Private,Rural,82,26.4,never smoked,0\\n129,Female,24,0,0,No,Private,Urban,97.55,26.2,never smoked,0\\n20351,Male,75,0,0,Yes,Govt_job,Urban,94.29,35.2,Unknown,0\\n530,Female,12,0,0,No,children,Rural,75.22,20.9,Unknown,0\\n55351,Male,63,0,0,Yes,Private,Urban,90.07,36.8,Unknown,0\\n67431,Female,52,0,0,Yes,Private,Urban,73.73,34.4,formerly smoked,0\\n20546,Female,68,0,0,Yes,Private,Urban,79.58,22.2,never smoked,0\\n6107,Female,5,0,0,No,children,Urban,77.88,13.8,Unknown,0\\n50305,Female,56,1,0,Yes,Private,Rural,205.26,40.3,never smoked,0\\n52342,Female,43,0,0,Yes,Private,Rural,58.63,28.4,smokes,0\\n59906,Female,40,0,0,Yes,Private,Rural,139.9,31.7,smokes,0\\n59729,Male,53,0,0,Yes,Private,Urban,211.03,34.2,formerly smoked,0\\n53144,Female,52,0,1,Yes,Private,Urban,72.79,54.7,never smoked,0\\n3655,Male,31,0,0,Yes,Govt_job,Rural,91.65,24.6,formerly smoked,0\\n11999,Female,63,0,0,Yes,Govt_job,Rural,79.92,N/A,smokes,0\\n12985,Female,69,0,0,Yes,Self-employed,Rural,225.47,36.9,never smoked,0\\n38119,Male,64,0,0,Yes,Govt_job,Urban,94.48,31.1,never smoked,0\\n3355,Female,64,0,0,Yes,Private,Urban,82.34,31.9,never smoked,0\\n22091,Female,62,0,0,Yes,Self-employed,Urban,180.63,31.8,formerly smoked,0\\n5010,Female,2,0,0,No,children,Rural,92.48,18,Unknown,0\\n67177,Male,53,0,0,Yes,Private,Rural,116.66,28.5,formerly smoked,0\\n58600,Male,65,1,0,Yes,Private,Urban,112.09,29.5,never smoked,0\\n56681,Female,22,0,0,No,Private,Urban,130.34,22,never smoked,0\\n56716,Female,26,0,0,No,Private,Urban,82.59,29.4,never smoked,0\\n65946,Male,53,0,0,Yes,Private,Rural,123.87,28.8,Unknown,0\\n61350,Male,20,0,0,No,Govt_job,Rural,98.7,26.2,Unknown,0\\n17291,Female,63,1,0,Yes,Self-employed,Rural,227.1,26.9,Unknown,0\\n61465,Male,13,0,0,No,children,Rural,55.39,23.2,Unknown,0\\n18108,Male,21,0,0,No,Govt_job,Urban,66.07,27.9,Unknown,0\\n48368,Female,65,0,0,Yes,Self-employed,Rural,104.21,36.8,never smoked,0\\n36471,Male,65,0,0,Yes,Private,Urban,145.15,28.9,Unknown,0\\n15689,Male,42,0,0,Yes,Govt_job,Urban,68.19,31,never smoked,0\\n8233,Male,72,0,1,Yes,Self-employed,Rural,97.53,29.4,smokes,0\\n46436,Male,13,0,0,No,children,Urban,122.31,15.3,never smoked,0\\n23221,Male,29,0,0,No,Private,Urban,83.51,37.1,never smoked,0\\n31830,Male,59,0,0,Yes,Self-employed,Urban,86.46,30.5,Unknown,0\\n15296,Female,42,0,0,Yes,Private,Rural,112.06,38.2,never smoked,0\\n7351,Male,13,0,0,No,Private,Urban,92.14,23.2,never smoked,0\\n66196,Male,75,0,1,No,Private,Rural,201.76,30.2,formerly smoked,0\\n17718,Female,33,1,0,Yes,Private,Urban,74.44,45.2,smokes,0\\n31164,Female,43,0,0,Yes,Private,Rural,95.93,21.8,Unknown,0\\n48272,Female,11,0,0,No,children,Rural,87.51,24.4,Unknown,0\\n2893,Female,7,0,0,No,children,Rural,72.35,17,Unknown,0\\n34376,Female,16,0,0,No,children,Rural,113.47,19.5,Unknown,0\\n18498,Female,44,0,0,No,Private,Rural,103.78,49.8,formerly smoked,0\\n56735,Female,78,0,0,Yes,Self-employed,Rural,115.43,27.8,never smoked,0\\n8595,Male,25,0,0,Yes,Private,Rural,95.59,25.1,never smoked,0\\n621,Male,69,0,0,Yes,Private,Rural,101.52,26.8,smokes,0\\n1307,Female,61,1,0,Yes,Private,Rural,170.05,60.2,smokes,0\\n35846,Female,43,1,0,No,Self-employed,Rural,217.3,27.5,never smoked,0\\n28645,Female,38,1,0,Yes,Private,Urban,196.01,28.1,never smoked,0\\n5835,Male,68,0,0,Yes,Private,Urban,92.21,27.3,Unknown,0\\n46474,Male,26,0,0,Yes,Private,Rural,100.09,27.4,never smoked,0\\n69687,Female,18,0,0,No,Self-employed,Rural,93.88,22.2,never smoked,0\\n2953,Female,43,0,0,Yes,Private,Rural,75.05,22.9,smokes,0\\n11838,Female,43,0,0,Yes,Govt_job,Rural,70.08,26.6,never smoked,0\\n9179,Female,32,0,0,No,Private,Urban,74.2,23,smokes,0\\n38165,Female,81,0,0,No,Private,Rural,69.01,32.6,never smoked,0\\n63050,Male,25,0,0,No,Private,Rural,96.17,22.1,Unknown,0\\n22470,Male,61,0,0,Yes,Govt_job,Urban,184.15,N/A,Unknown,0\\n71585,Female,66,0,0,Yes,Govt_job,Urban,87.24,22.5,formerly smoked,0\\n15649,Male,54,1,0,Yes,Private,Rural,198.69,N/A,smokes,0\\n11974,Male,11,0,0,No,children,Urban,82.58,25.5,Unknown,0\\n3009,Female,53,0,0,Yes,Self-employed,Rural,96.88,31.4,Unknown,0\\n32361,Female,78,0,1,Yes,Self-employed,Urban,73.32,26,Unknown,0\\n41523,Male,9,0,0,No,children,Rural,94.59,20,Unknown,0\\n53910,Female,48,0,0,Yes,Self-employed,Rural,132.08,31.6,smokes,0\\n67548,Female,31,0,0,Yes,Private,Urban,98.99,31.2,never smoked,0\\n50441,Male,20,0,0,No,Private,Rural,104.48,21.7,never smoked,0\\n16927,Male,21,0,0,Yes,Private,Rural,98.01,24.2,Unknown,0\\n28265,Female,42,0,0,Yes,Self-employed,Rural,79.14,25,formerly smoked,0\\n33404,Male,35,0,0,Yes,Private,Urban,89.32,36.7,Unknown,0\\n50965,Male,53,0,0,No,Private,Rural,65.24,28.9,Unknown,0\\n21077,Male,60,0,0,Yes,Private,Rural,80.98,29.7,formerly smoked,0\\n12982,Male,74,0,0,Yes,Self-employed,Urban,186.17,44.3,Unknown,0\\n66570,Female,23,0,0,No,Private,Rural,69.24,51,never smoked,0\\n29158,Female,55,0,0,Yes,Private,Rural,111.19,39.7,formerly smoked,0\\n34299,Female,71,0,0,Yes,Private,Urban,93.28,34.7,never smoked,0\\n54375,Male,5,0,0,No,children,Rural,122.19,35,Unknown,0\\n37832,Female,14,0,0,No,children,Rural,129.53,21.3,never smoked,0\\n21058,Female,15,0,0,No,children,Rural,114.53,29.1,Unknown,0\\n7696,Female,66,0,0,No,Private,Urban,93.73,23.9,smokes,0\\n34668,Female,56,0,0,Yes,Private,Urban,77.49,36,formerly smoked,0\\n68483,Female,60,0,0,Yes,Private,Urban,65.38,41.2,formerly smoked,0\\n6072,Female,57,0,0,Yes,Private,Urban,94.18,27.1,never smoked,0\\n51112,Male,29,0,0,Yes,Self-employed,Urban,118.7,33.2,Unknown,0\\n69673,Female,76,0,0,Yes,Govt_job,Urban,96.29,25.4,smokes,0\\n71238,Male,52,1,0,Yes,Private,Rural,74.64,30.7,smokes,0\\n63958,Female,42,0,0,Yes,Private,Urban,96.99,34.8,formerly smoked,0\\n34511,Female,71,0,0,Yes,Private,Rural,100.61,19.2,Unknown,0\\n24892,Male,64,0,0,Yes,Private,Rural,97.08,31.7,Unknown,0\\n29496,Female,39,0,0,Yes,Private,Rural,84.79,35.7,never smoked,0\\n19939,Female,46,0,0,Yes,Private,Rural,78.75,37.8,formerly smoked,0\\n27832,Female,51,0,0,Yes,Private,Rural,82.93,29.7,smokes,0\\n27757,Male,31,0,0,Yes,Private,Urban,88.78,35.8,smokes,0\\n31279,Male,22,0,0,No,Private,Urban,122.1,23.6,smokes,0\\n25099,Male,41,0,0,No,Govt_job,Rural,74.81,39.7,smokes,0\\n67733,Female,28,0,0,Yes,Private,Urban,183.45,40.5,smokes,0\\n9201,Female,44,0,0,Yes,Self-employed,Urban,114.94,21.4,never smoked,0\\n33123,Female,68,0,0,Yes,Self-employed,Rural,104.38,40.8,formerly smoked,0\\n21713,Male,49,0,0,Yes,Private,Urban,102.91,24.7,Unknown,0\\n22622,Male,10,0,0,No,children,Rural,108.79,21,Unknown,0\\n6726,Female,31,0,0,Yes,Private,Urban,73.31,45,never smoked,0\\n17242,Male,67,0,0,Yes,Self-employed,Urban,68.52,26.2,never smoked,0\\n16380,Male,40,0,0,Yes,Private,Rural,89.77,N/A,smokes,0\\n9729,Male,70,0,0,Yes,Private,Urban,102.64,28.3,never smoked,0\\n56974,Female,38,0,0,Yes,Govt_job,Urban,70.92,41.6,never smoked,0\\n29933,Female,5,0,0,No,children,Rural,86.11,19,Unknown,0\\n65574,Female,54,0,0,Yes,Private,Urban,129.16,32.4,never smoked,0\\n17019,Female,30,0,0,Yes,Govt_job,Urban,113.85,34,never smoked,0\\n41800,Female,23,0,0,Yes,Private,Rural,79.35,39.4,formerly smoked,0\\n7621,Female,31,0,0,Yes,Private,Rural,80.79,28.7,Unknown,0\\n6855,Male,72,1,0,Yes,Self-employed,Urban,114.01,31.8,formerly smoked,0\\n5374,Male,23,0,0,No,Private,Rural,93.74,31.2,never smoked,0\\n31564,Female,25,0,0,Yes,Private,Rural,90.65,20.9,Unknown,0\\n26028,Male,51,0,0,Yes,Private,Urban,98.41,32.1,never smoked,0\\n71808,Female,20,0,0,No,Private,Urban,127.18,31,Unknown,0\\n56998,Female,12,0,0,No,children,Urban,138.06,23.1,Unknown,0\\n14712,Male,57,0,0,Yes,Private,Urban,89.44,26.7,never smoked,0\\n23094,Male,65,0,0,Yes,Self-employed,Urban,105.61,27.9,Unknown,0\\n43134,Female,16,0,0,No,Private,Rural,155.43,27.3,never smoked,0\\n40622,Female,43,0,0,Yes,Private,Rural,80.83,51.5,Unknown,0\\n39383,Female,30,0,0,Yes,Private,Urban,80.19,20.4,never smoked,0\\n63606,Male,29,0,0,Yes,Govt_job,Urban,60.34,29.6,formerly smoked,0\\n46438,Female,54,0,0,Yes,Self-employed,Urban,79.3,30.6,formerly smoked,0\\n65144,Female,57,0,0,Yes,Self-employed,Urban,98.44,33.6,Unknown,0\\n545,Male,42,0,0,Yes,Private,Rural,210.48,71.9,never smoked,0\\n36331,Male,18,0,0,No,Private,Rural,70.34,24.2,Unknown,0\\n42359,Male,9,0,0,No,children,Urban,122.22,17.7,Unknown,0\\n20751,Female,26,0,0,Yes,Private,Rural,75.29,22.6,smokes,0\\n34641,Male,40,0,0,No,Private,Rural,100.35,28.1,never smoked,0\\n15791,Male,77,0,0,Yes,Private,Urban,193.83,26.5,never smoked,0\\n68241,Female,15,0,0,No,children,Urban,126.96,28.7,Unknown,0\\n67780,Female,76,0,0,Yes,Private,Urban,183.34,39.5,formerly smoked,0\\n68275,Male,52,0,0,Yes,Private,Urban,247.69,35.1,Unknown,0\\n13129,Female,55,0,0,Yes,Self-employed,Rural,76.2,27.9,never smoked,0\\n60902,Male,5,0,0,No,children,Rural,71.43,19.3,Unknown,0\\n37629,Female,55,0,0,No,Private,Rural,93.36,28.4,never smoked,0\\n58439,Male,36,0,0,No,Private,Urban,61.29,26.7,never smoked,0\\n62936,Male,46,0,0,Yes,Private,Urban,103.62,40.9,Unknown,0\\n29010,Male,5,0,0,No,children,Rural,100.52,17.2,Unknown,0\\n36561,Female,39,0,0,Yes,Govt_job,Rural,191.47,28.3,never smoked,0\\n44912,Male,12,0,0,No,children,Urban,67.06,16.1,Unknown,0\\n59829,Male,67,0,1,Yes,Private,Urban,144.1,27.6,never smoked,0\\n45238,Female,1.8,0,0,No,children,Urban,58.26,16.5,Unknown,0\\n47811,Female,72,0,0,Yes,Self-employed,Urban,239.82,35.8,never smoked,0\\n61511,Female,0.32,0,0,No,children,Rural,73.71,16.2,Unknown,0\\n55424,Female,64,1,0,Yes,Private,Rural,88.53,24.6,never smoked,0\\n36942,Male,27,0,0,No,Private,Urban,114.79,32,Unknown,0\\n61697,Male,25,0,0,No,Private,Rural,113.8,35.3,formerly smoked,0\\n55138,Female,81,0,0,No,Self-employed,Urban,71.91,19.2,Unknown,0\\n39399,Female,32,0,0,No,Self-employed,Urban,65.3,40.4,never smoked,0\\n17148,Male,57,0,0,Yes,Private,Urban,189.57,30.7,never smoked,0\\n721,Female,52,1,0,Yes,Self-employed,Urban,114.25,24.3,formerly smoked,0\\n40448,Male,54,0,0,Yes,Private,Urban,81.26,26.4,formerly smoked,0\\n58007,Female,36,0,0,Yes,Private,Urban,87.88,34.7,smokes,0\\n15095,Male,18,0,0,No,Private,Urban,112.17,31.7,Unknown,0\\n11960,Male,45,0,0,Yes,Private,Rural,99.97,35.6,never smoked,0\\n56179,Male,29,0,0,No,Private,Urban,207.58,22.8,smokes,0\\n24592,Female,51,1,0,Yes,Private,Urban,109.16,28,smokes,0\\n67744,Female,23,0,0,No,Private,Urban,74.46,35.6,formerly smoked,0\\n8328,Female,54,0,0,Yes,Private,Rural,118.51,40.6,never smoked,0\\n32437,Female,54,0,0,Yes,Self-employed,Urban,107.47,29.3,formerly smoked,0\\n44315,Male,18,0,0,No,Self-employed,Rural,182.86,21,Unknown,0\\n68245,Female,26,0,0,Yes,Private,Rural,59.17,20,Unknown,0\\n25483,Male,72,0,0,Yes,Private,Rural,215.64,26.7,formerly smoked,0\\n47732,Male,5,0,0,No,children,Rural,163.7,18.4,Unknown,0\\n50118,Female,65,0,1,Yes,Private,Rural,196.36,34.5,formerly smoked,0\\n55420,Female,42,0,0,No,Private,Rural,139.77,27.7,Unknown,0\\n55709,Female,47,0,0,Yes,Self-employed,Urban,141.23,21.1,never smoked,0\\n15311,Female,24,0,0,Yes,Private,Urban,89.99,24.4,formerly smoked,0\\n53660,Male,57,0,0,Yes,Private,Urban,108.53,19.4,smokes,0\\n56553,Male,51,0,0,Yes,Private,Urban,63.61,42.3,Unknown,0\\n30480,Male,48,0,0,Yes,Private,Urban,85.54,32.2,smokes,0\\n31988,Female,56,0,0,Yes,Private,Urban,100.83,26.8,never smoked,0\\n59807,Female,30,0,0,Yes,Private,Urban,59.82,25.4,never smoked,0\\n45585,Female,63,1,0,Yes,Private,Urban,105.95,23.5,smokes,0\\n39639,Female,46,0,0,Yes,Private,Rural,188.11,50.2,smokes,0\\n52063,Female,53,0,0,Yes,Self-employed,Urban,71.15,26.1,formerly smoked,0\\n40639,Female,1.08,0,0,No,children,Rural,60.53,17.5,Unknown,0\\n31090,Male,15,0,0,No,children,Rural,205.5,24.2,never smoked,0\\n64174,Female,59,1,0,Yes,Private,Urban,204.86,30.8,never smoked,0\\n8544,Female,24,0,0,No,Self-employed,Rural,115.03,23.4,never smoked,0\\n27377,Male,53,0,0,Yes,Private,Rural,79.87,30.9,never smoked,0\\n3361,Female,39,0,0,Yes,Govt_job,Rural,97.89,23.6,never smoked,0\\n61408,Male,23,0,0,No,Never_worked,Urban,125.26,18.7,never smoked,0\\n33552,Male,31,0,0,Yes,Private,Rural,114.32,27.7,smokes,0\\n31364,Male,5,0,0,No,children,Urban,92.23,16.7,Unknown,0\\n7446,Male,44,0,0,Yes,Private,Urban,83.51,31.2,never smoked,0\\n9906,Female,1.8,0,0,No,children,Urban,102.34,17,Unknown,0\\n65130,Male,40,0,0,Yes,Private,Rural,144.48,29.8,smokes,0\\n27794,Male,7,0,0,No,children,Rural,88.39,19.7,Unknown,0\\n48993,Female,56,0,0,Yes,Private,Rural,228.08,29.1,Unknown,0\\n30753,Male,42,0,0,Yes,Govt_job,Urban,93.79,27.2,never smoked,0\\n46809,Male,48,0,0,Yes,Private,Rural,147.14,22.3,Unknown,0\\n22853,Male,82,0,0,No,Self-employed,Rural,106.43,27,smokes,0\\n12465,Female,52,0,0,No,Private,Rural,88.04,42.1,never smoked,0\\n64849,Female,42,0,0,Yes,Private,Urban,92.2,34.2,Unknown,0\\n39659,Female,73,0,0,Yes,Govt_job,Urban,219.53,40.9,never smoked,0\\n24183,Female,55,0,0,Yes,Govt_job,Rural,75.56,29.4,smokes,0\\n71533,Male,50,0,0,Yes,Private,Urban,158.31,32.8,formerly smoked,0\\n35565,Male,43,0,0,Yes,Private,Urban,111.43,21.9,smokes,0\\n34558,Male,33,0,0,Yes,Private,Rural,219.97,39.6,never smoked,0\\n42553,Female,80,0,0,Yes,Private,Rural,148.91,28.3,never smoked,0\\n39601,Female,33,0,0,Yes,Private,Urban,69.4,47.8,never smoked,0\\n46891,Female,74,0,0,Yes,Private,Rural,68.34,39.3,Unknown,0\\n38987,Male,65,0,1,Yes,Self-employed,Urban,58.37,28,smokes,0\\n21886,Female,40,0,0,Yes,Private,Urban,71.2,27.1,never smoked,0\\n5353,Male,52,0,1,No,Private,Rural,101.5,31.2,smokes,0\\n44300,Female,66,0,0,Yes,Govt_job,Urban,92.04,23.1,never smoked,0\\n48144,Female,20,0,0,No,Govt_job,Rural,73,20.8,never smoked,0\\n46218,Female,51,0,0,Yes,Self-employed,Urban,111.15,34.1,smokes,0\\n39745,Female,60,0,0,Yes,Self-employed,Rural,58.65,30.1,never smoked,0\\n13517,Male,59,0,0,Yes,Private,Urban,100.54,35.8,never smoked,0\\n36355,Male,58,0,0,Yes,Govt_job,Rural,111.73,34.6,never smoked,0\\n22678,Female,42,0,0,Yes,Govt_job,Urban,97.78,29.8,Unknown,0\\n2532,Male,28,0,0,No,Private,Rural,85.79,26.7,Unknown,0\\n52512,Male,57,0,0,Yes,Private,Rural,98.54,30.2,never smoked,0\\n3579,Female,66,0,1,Yes,Private,Urban,94.62,29.7,formerly smoked,0\\n3130,Female,56,0,0,Yes,Private,Rural,112.43,54.6,never smoked,0\\n5545,Male,48,0,0,Yes,Self-employed,Urban,99.67,23.3,formerly smoked,0\\n63693,Male,37,0,0,No,Private,Urban,67.39,35.6,Unknown,0\\n34363,Female,27,0,0,Yes,Private,Urban,95.12,27,never smoked,0\\n23650,Male,15,0,0,No,children,Rural,85.06,21.6,never smoked,0\\n53515,Male,61,0,0,Yes,Private,Rural,214.05,29.4,formerly smoked,0\\n33528,Female,80,0,1,Yes,Self-employed,Urban,79.09,22.8,never smoked,0\\n23046,Female,43,0,0,Yes,Self-employed,Urban,98.09,17.3,never smoked,0\\n11068,Male,53,0,0,Yes,Self-employed,Urban,76.36,29.8,Unknown,0\\n62233,Female,70,0,0,No,Self-employed,Urban,98.42,36.4,formerly smoked,0\\n7291,Female,58,0,0,No,Private,Urban,82.01,34.7,formerly smoked,0\\n36814,Female,49,0,0,Yes,Private,Rural,56.11,28.7,smokes,0\\n48265,Male,65,0,0,Yes,Govt_job,Rural,111.85,26.7,never smoked,0\\n10139,Female,54,0,0,Yes,Self-employed,Urban,92.39,22.1,never smoked,0\\n12662,Male,74,1,0,Yes,Self-employed,Urban,112.54,27.7,formerly smoked,0\\n43174,Female,56,0,0,Yes,Private,Urban,63.71,40.5,formerly smoked,0\\n72823,Female,79,0,0,Yes,Private,Urban,70.35,23,formerly smoked,0\\n30567,Male,71,1,0,Yes,Private,Urban,94.65,25.3,formerly smoked,0\\n41927,Female,28,0,0,Yes,Private,Rural,64.64,22.1,never smoked,0\\n54866,Female,9,0,0,No,children,Rural,57.27,28,Unknown,0\\n20364,Female,4,0,0,No,children,Urban,107.25,12,Unknown,0\\n21117,Female,36,0,0,No,Self-employed,Rural,77.12,28.4,never smoked,0\\n50491,Male,78,0,0,Yes,Self-employed,Urban,55.32,29.6,smokes,0\\n61013,Male,52,0,0,No,Private,Rural,69.37,36.2,Unknown,0\\n71010,Female,80,0,0,No,Self-employed,Urban,57.57,22.8,never smoked,0\\n23551,Male,28,0,0,Yes,Private,Urban,87.43,55.7,Unknown,0\\n10997,Female,38,0,0,Yes,Private,Rural,98.73,24.3,never smoked,0\\n12738,Male,56,0,0,Yes,Private,Rural,81.18,26.9,never smoked,0\\n57772,Female,75,0,0,Yes,Govt_job,Rural,56.23,25.3,never smoked,0\\n16615,Male,76,1,0,Yes,Self-employed,Rural,69.61,35.3,never smoked,0\\n62999,Male,10,0,0,No,children,Rural,59.49,18.3,Unknown,0\\n68995,Female,48,1,0,No,Private,Rural,118.14,N/A,formerly smoked,0\\n66184,Male,40,0,0,Yes,Govt_job,Rural,100.26,26,Unknown,0\\n53010,Male,82,0,0,Yes,Self-employed,Rural,56.75,21,never smoked,0\\n967,Male,61,0,1,Yes,Private,Urban,88.27,N/A,never smoked,0\\n31145,Female,17,0,0,No,Private,Urban,67.81,55.7,never smoked,0\\n54338,Female,58,0,0,Yes,Govt_job,Rural,77.46,27.6,never smoked,0\\n22870,Male,12,0,0,No,children,Urban,76.26,20.5,never smoked,0\\n13223,Female,53,0,0,Yes,Govt_job,Rural,86.39,30.2,never smoked,0\\n57523,Female,26,0,0,Yes,Private,Urban,116.38,21.9,formerly smoked,0\\n67932,Female,48,0,0,Yes,Private,Rural,75.74,28.8,smokes,0\\n10255,Male,25,0,0,Yes,Private,Rural,92.14,36.2,Unknown,0\\n68131,Female,27,0,0,No,Private,Rural,149.95,25.9,never smoked,0\\n29873,Male,31,1,0,Yes,Govt_job,Urban,92.11,N/A,never smoked,0\\n54182,Female,16,0,0,No,Private,Rural,74.98,21.4,never smoked,0\\n61300,Male,20,0,0,No,Private,Urban,55.25,20.4,never smoked,0\\n15274,Female,2,0,0,No,children,Rural,79.89,31.6,Unknown,0\\n53016,Female,1.8,0,0,No,children,Urban,130.61,14.4,Unknown,0\\n28848,Male,28,0,0,No,Private,Urban,94.26,23.7,Unknown,0\\n27012,Male,32,0,0,No,Private,Urban,94.34,30.2,formerly smoked,0\\n7745,Female,35,0,0,Yes,Private,Urban,109.03,19.5,formerly smoked,0\\n20541,Female,52,1,0,Yes,Private,Rural,81.03,32.6,never smoked,0\\n5892,Female,55,1,0,Yes,Private,Rural,99.82,34.2,never smoked,0\\n66883,Female,42,0,0,Yes,Self-employed,Urban,140.08,43,never smoked,0\\n43196,Female,52,0,0,Yes,Self-employed,Urban,59.54,42.2,Unknown,0\\n12593,Female,18,0,0,No,Private,Urban,80.33,19.7,never smoked,0\\n51514,Female,13,0,0,No,children,Urban,131.51,41.7,never smoked,0\\n15553,Female,45,0,0,Yes,Private,Rural,89.21,21.6,formerly smoked,0\\n45796,Female,29,0,0,Yes,Private,Rural,91.45,24.2,never smoked,0\\n31840,Female,12,0,0,No,children,Rural,90.58,19.2,Unknown,0\\n58767,Female,37,0,0,Yes,Private,Urban,91.45,25.8,Unknown,0\\n14391,Female,30,0,0,Yes,Private,Rural,89.63,23.2,smokes,0\\n22321,Female,44,0,0,Yes,Private,Urban,124.06,20.8,never smoked,0\\n38184,Female,79,1,0,Yes,Private,Rural,99.47,28.4,never smoked,0\\n13997,Male,38,0,0,Yes,Private,Urban,88.97,30.2,never smoked,0\\n41673,Female,45,0,0,Yes,Private,Rural,80.93,23.1,never smoked,0\\n27796,Female,66,0,0,Yes,Private,Urban,102.07,16.7,smokes,0\\n18390,Female,19,0,0,No,Private,Rural,91.69,39.5,Unknown,0\\n63409,Female,49,0,0,Yes,Private,Urban,63.71,33.8,smokes,0\\n9752,Female,66,0,0,Yes,Govt_job,Rural,200.49,34.6,smokes,0\\n72882,Male,47,0,0,Yes,Private,Rural,75.3,25,formerly smoked,0\\n49744,Female,59,0,0,Yes,Private,Urban,240.71,43.9,formerly smoked,0\\n49086,Female,23,0,0,No,Private,Urban,60.5,27.1,formerly smoked,0\\n40866,Female,79,0,0,Yes,Self-employed,Rural,131.85,25.9,Unknown,0\\n47523,Female,37,0,0,No,Self-employed,Rural,134.39,22.7,formerly smoked,0\\n63561,Male,78,0,0,Yes,Private,Urban,56.18,27.1,never smoked,0\\n51422,Female,70,1,0,Yes,Private,Rural,113.64,25.6,formerly smoked,0\\n56870,Female,34,0,0,No,Private,Rural,156.57,28.4,Unknown,0\\n3590,Female,28,1,0,No,Private,Rural,80.4,57.5,never smoked,0\\n60665,Male,29,0,0,No,Private,Urban,59.26,35.8,smokes,0\\n40791,Female,13,0,0,No,children,Rural,63.26,19.5,Unknown,0\\n54304,Female,22,0,0,Yes,Private,Urban,86.24,31.2,never smoked,0\\n22485,Male,56,0,0,Yes,Private,Urban,197.1,43.6,formerly smoked,0\\n18430,Female,81,0,0,Yes,Self-employed,Urban,90.9,31.2,formerly smoked,0\\n19234,Female,28,0,0,No,Private,Rural,84.59,23.5,Unknown,0\\n52454,Male,9,0,0,No,children,Rural,121.8,18.7,Unknown,0\\n13365,Male,50,0,0,Yes,Private,Rural,77.65,24.4,smokes,0\\n60983,Male,70,0,0,Yes,Private,Urban,64.41,29.4,smokes,0\\n14615,Female,30,0,0,No,Private,Urban,75.19,37,smokes,0\\n50277,Female,51,0,0,Yes,Self-employed,Rural,67.97,29.4,smokes,0\\n50811,Male,24,0,0,No,Private,Urban,119.34,38.5,never smoked,0\\n16575,Male,17,0,0,No,Private,Rural,94.92,23.5,never smoked,0\\n1246,Female,43,0,0,Yes,Govt_job,Rural,107.42,N/A,never smoked,0\\n11176,Male,9,0,0,No,children,Rural,85.02,16.3,Unknown,0\\n30712,Male,50,0,0,Yes,Private,Urban,103.51,35.9,never smoked,0\\n31308,Female,49,0,0,Yes,Private,Urban,114.5,35.9,formerly smoked,0\\n9612,Male,6,0,0,No,children,Urban,70.78,20.3,Unknown,0\\n3325,Male,30,0,0,Yes,Self-employed,Rural,95.01,32.3,smokes,0\\n52808,Male,73,0,0,Yes,Private,Urban,84.11,27.9,never smoked,0\\n41513,Female,20,0,0,Yes,Private,Urban,74.02,22.3,never smoked,0\\n36109,Male,42,0,0,Yes,Private,Urban,78.49,31.8,smokes,0\\n53336,Female,79,0,0,Yes,Govt_job,Urban,74.22,29.7,Unknown,0\\n56831,Female,55,0,0,Yes,Private,Urban,55.34,27.1,smokes,0\\n52580,Female,27,0,0,No,Private,Rural,75.04,24.5,never smoked,0\\n55592,Male,71,0,0,Yes,Private,Rural,109.73,28.9,never smoked,0\\n33723,Female,9,0,0,No,children,Urban,95.81,N/A,Unknown,0\\n26235,Male,23,0,0,No,Private,Rural,96.78,24.6,smokes,0\\n16685,Female,71,1,0,Yes,Private,Urban,194.62,31.6,never smoked,0\\n44583,Female,56,0,1,Yes,Private,Rural,70.02,32.3,never smoked,0\\n25315,Male,31,0,0,Yes,Private,Urban,222.21,41.1,smokes,0\\n58227,Female,64,0,0,Yes,Govt_job,Rural,62.41,30,never smoked,0\\n60810,Male,46,0,0,Yes,Self-employed,Urban,55.83,26.4,never smoked,0\\n34612,Male,55,0,0,Yes,Govt_job,Rural,65.12,30,never smoked,0\\n8320,Male,2,0,0,No,children,Rural,73.62,20.8,Unknown,0\\n25595,Female,58,1,0,Yes,Private,Urban,85.83,44,formerly smoked,0\\n30550,Female,78,0,0,No,Private,Urban,103.86,30.6,Unknown,0\\n49529,Female,1.16,0,0,No,children,Urban,60.98,17.2,Unknown,0\\n13367,Female,35,0,0,Yes,Private,Rural,82.69,29.1,Unknown,0\\n33585,Female,64,0,0,Yes,Private,Rural,250.2,27.4,Unknown,0\\n49785,Female,18,0,0,No,Private,Rural,128.97,23.5,Unknown,0\\n6886,Male,19,0,0,No,Private,Rural,84.31,31.8,never smoked,0\\n38609,Male,47,0,0,Yes,Govt_job,Rural,74.8,23.5,never smoked,0\\n22159,Female,54,1,0,No,Private,Urban,97.06,28.5,formerly smoked,0\\n37413,Female,39,0,0,Yes,Private,Urban,77.54,32.7,Unknown,0\\n4169,Female,37,0,0,No,Private,Rural,92.78,54.2,never smoked,0\\n40055,Female,17,0,0,No,Private,Rural,173.43,25.6,smokes,0\\n18888,Female,20,0,0,Yes,Private,Urban,79.08,41.2,never smoked,0\\n45283,Female,31,0,0,Yes,Private,Urban,106.18,27,smokes,0\\n42503,Female,56,0,0,Yes,Private,Rural,114.21,21.3,never smoked,0\\n23645,Female,31,0,0,No,Private,Rural,91.08,34.3,never smoked,0\\n62382,Male,82,0,0,Yes,Private,Urban,105.77,29.5,Unknown,0\\n59521,Male,33,0,0,Yes,Private,Rural,74.88,31.6,smokes,0\\n55386,Male,42,0,0,Yes,Private,Rural,123.15,26.1,smokes,0\\n22685,Male,20,0,0,No,Private,Rural,184.25,27.5,never smoked,0\\n46745,Male,22,0,0,Yes,Govt_job,Rural,117.69,26.5,never smoked,0\\n72547,Male,61,0,0,Yes,Private,Rural,55.26,33.2,Unknown,0\\n26973,Female,31,0,0,Yes,Private,Urban,106.51,40.2,never smoked,0\\n41033,Female,31,0,0,Yes,Govt_job,Rural,55.27,32.5,formerly smoked,0\\n5046,Male,17,0,0,No,Self-employed,Urban,98.42,23.4,Unknown,0\\n71442,Female,30,0,0,Yes,Private,Rural,99.2,32.5,never smoked,0\\n49624,Male,69,0,0,Yes,Private,Urban,98.92,23.9,formerly smoked,0\\n10572,Female,63,0,0,Yes,Private,Rural,92.7,29.5,never smoked,0\\n55847,Male,19,0,0,No,Private,Rural,106.7,24,never smoked,0\\n42441,Male,7,0,0,No,children,Urban,152.81,17.7,Unknown,0\\n28910,Female,51,0,0,Yes,Private,Urban,82.59,26.2,formerly smoked,0\\n10381,Female,38,1,0,Yes,Self-employed,Urban,91,33.3,never smoked,0\\n14387,Male,2,0,0,No,children,Urban,93.88,17.4,Unknown,0\\n31956,Female,58,0,0,Yes,Private,Urban,76.99,29,never smoked,0\\n17813,Female,69,0,1,Yes,Private,Rural,254.6,21.7,Unknown,0\\n24665,Female,64,1,0,Yes,Private,Rural,93.99,37.8,formerly smoked,0\\n13683,Female,31,0,0,Yes,Private,Urban,109.68,41.8,never smoked,0\\n7387,Female,59,1,0,Yes,Private,Rural,92.04,24.2,never smoked,0\\n57011,Female,54,0,0,Yes,Private,Rural,111.41,31.1,never smoked,0\\n22384,Female,24,0,0,Yes,Private,Rural,97.92,23.1,never smoked,0\\n24108,Male,19,0,0,No,Private,Urban,65.61,25.1,Unknown,0\\n50053,Male,17,0,0,No,Private,Urban,62.37,41.3,never smoked,0\\n69427,Female,29,0,0,No,Private,Urban,101.28,22.7,never smoked,0\\n21688,Female,42,0,0,Yes,Private,Rural,88.31,24,smokes,0\\n60777,Female,31,0,0,Yes,Govt_job,Rural,103.55,20.5,formerly smoked,0\\n64732,Female,29,0,0,No,Private,Urban,60.26,20.4,never smoked,0\\n42710,Female,23,0,0,No,Private,Urban,79.39,27.6,never smoked,0\\n46683,Female,25,0,0,No,Private,Urban,122.01,27,smokes,0\\n58909,Female,14,0,0,No,children,Rural,78.09,26.4,Unknown,0\\n51125,Female,66,0,0,Yes,Private,Urban,89.7,34.9,smokes,0\\n29077,Female,77,0,0,Yes,Private,Rural,95.1,35,never smoked,0\\n4970,Male,79,0,0,Yes,Self-employed,Rural,112.64,28.5,formerly smoked,0\\n58291,Female,52,0,0,Yes,Private,Rural,79.8,32.3,formerly smoked,0\\n18616,Female,41,0,0,Yes,Private,Urban,82.2,23.9,Unknown,0\\n99,Female,31,0,0,No,Private,Urban,108.89,52.3,Unknown,0\\n55529,Male,39,0,0,Yes,Private,Rural,114.32,26.4,never smoked,0\\n12204,Female,51,0,0,No,Govt_job,Rural,116.14,20.9,never smoked,0\\n21397,Female,40,0,0,Yes,Govt_job,Urban,122.74,23.3,Unknown,0\\n64633,Female,48,0,0,Yes,Private,Urban,94.04,32.7,never smoked,0\\n23016,Male,55,0,0,Yes,Private,Rural,86.6,26.5,never smoked,0\\n18412,Male,41,0,0,Yes,Private,Rural,82.32,27.9,Unknown,0\\n67412,Female,39,0,0,Yes,Private,Rural,83.83,30.3,never smoked,0\\n37545,Male,41,0,0,No,Govt_job,Urban,106.98,27.6,never smoked,0\\n10324,Female,5,0,0,No,children,Urban,93.88,14.6,Unknown,0\\n14491,Male,38,0,0,Yes,Govt_job,Urban,70.53,40.9,smokes,0\\n64582,Male,40,1,0,Yes,Govt_job,Rural,212.01,28.4,never smoked,0\\n25514,Male,12,0,0,No,children,Rural,65.88,23.7,Unknown,0\\n7663,Male,20,0,0,No,Govt_job,Rural,106.97,27.9,formerly smoked,0\\n66220,Male,53,0,0,Yes,Private,Urban,126.35,25.2,never smoked,0\\n71793,Female,21,0,0,No,Private,Urban,129.16,34.4,Unknown,0\\n25458,Female,70,1,0,Yes,Govt_job,Rural,88.66,36.7,formerly smoked,0\\n69645,Male,61,0,0,Yes,Govt_job,Rural,112.95,22.2,formerly smoked,0\\n53695,Male,70,0,0,Yes,Govt_job,Urban,81.59,27.2,never smoked,0\\n26692,Female,38,0,0,Yes,Govt_job,Rural,76.82,27.3,never smoked,0\\n33400,Male,59,0,0,Yes,Govt_job,Rural,73.75,27.3,smokes,0\\n67078,Female,36,1,0,Yes,Private,Urban,91.56,42.2,never smoked,0\\n32352,Female,31,0,0,Yes,Govt_job,Rural,104.55,26.4,never smoked,0\\n22540,Female,65,0,0,Yes,Govt_job,Urban,84.84,39.4,Unknown,0\\n26999,Male,61,1,1,Yes,Govt_job,Rural,86.06,34.8,never smoked,0\\n65218,Male,2,0,0,No,children,Rural,109.1,20,Unknown,0\\n30102,Male,52,0,0,Yes,Private,Rural,68.35,34.1,never smoked,0\\n49521,Female,33,0,0,Yes,Private,Urban,121.04,31.4,Unknown,0\\n54643,Male,5,0,0,No,children,Rural,160.83,17.8,Unknown,0\\n29134,Female,32,0,0,Yes,Private,Rural,85.62,46.1,smokes,0\\n68281,Female,54,0,0,Yes,Govt_job,Urban,74.23,28.1,formerly smoked,0\\n40350,Female,51,0,0,No,Private,Urban,110.76,24.7,formerly smoked,0\\n33410,Female,39,0,0,No,Govt_job,Urban,79.44,22.7,never smoked,0\\n39375,Female,40,0,0,Yes,Private,Rural,119.52,34.6,never smoked,0\\n2543,Female,19,0,0,Yes,Private,Rural,90.42,21.4,never smoked,0\\n45289,Female,9,0,0,No,children,Urban,109.32,27.4,Unknown,0\\n12106,Male,53,1,0,Yes,Govt_job,Rural,78.16,36.6,never smoked,0\\n10792,Female,23,0,0,No,Private,Rural,79.13,32.9,formerly smoked,0\\n19153,Female,19,0,0,No,Self-employed,Urban,84.06,24.7,never smoked,0\\n47876,Male,1,0,0,No,children,Rural,89.3,21.4,Unknown,0\\n25283,Female,48,0,0,Yes,Private,Urban,69.21,33.1,never smoked,0\\n12270,Male,71,0,0,Yes,Govt_job,Rural,186.45,26.7,never smoked,0\\n49949,Male,44,0,0,Yes,Private,Urban,58.47,24.4,never smoked,0\\n50826,Female,53,0,0,Yes,Govt_job,Rural,189.49,25.8,Unknown,0\\n28681,Female,70,1,0,Yes,Self-employed,Urban,99.6,34.3,formerly smoked,0\\n41615,Female,1.4,0,0,No,children,Rural,126.18,18.1,Unknown,0\\n14147,Male,49,0,0,Yes,Private,Urban,186.32,43.8,smokes,0\\n41537,Female,17,0,0,No,Private,Rural,62.49,26.9,never smoked,0\\n62332,Female,40,0,0,Yes,Private,Rural,74.51,36.6,never smoked,0\\n25488,Female,46,0,0,Yes,Self-employed,Urban,94.63,24.9,never smoked,0\\n45759,Female,32,0,0,Yes,Private,Rural,91.98,27.6,smokes,0\\n71929,Male,2,0,0,No,children,Rural,56.77,20.9,Unknown,0\\n14807,Female,40,0,0,Yes,Private,Urban,75.87,30.3,never smoked,0\\n16110,Female,19,0,0,No,Private,Rural,77.19,37.4,smokes,0\\n40970,Male,43,0,0,Yes,Private,Urban,135.75,35.9,smokes,0\\n28933,Female,46,0,0,Yes,Private,Rural,100.15,50.3,smokes,0\\n11709,Male,71,0,0,No,Private,Urban,95.08,31.5,never smoked,0\\n37154,Female,31,0,0,Yes,Private,Urban,125.38,24.4,smokes,0\\n16809,Male,41,0,0,Yes,Private,Urban,111.71,38.9,formerly smoked,0\\n13907,Male,65,0,0,Yes,Self-employed,Rural,94.64,28.6,never smoked,0\\n2314,Male,52,0,0,Yes,Private,Urban,226.7,N/A,smokes,0\\n70380,Female,20,0,0,No,Private,Urban,112.96,27.5,never smoked,0\\n63058,Female,77,0,1,Yes,Private,Rural,183.1,N/A,never smoked,0\\n54071,Female,51,0,0,Yes,Private,Urban,105.36,43.7,Unknown,0\\n67405,Female,37,0,0,Yes,Private,Urban,84.13,27,never smoked,0\\n28024,Male,49,0,0,Yes,Private,Rural,102.47,29.3,formerly smoked,0\\n11730,Female,62,1,0,Yes,Govt_job,Rural,77.04,34.7,never smoked,0\\n2549,Female,17,0,0,No,Private,Rural,83.23,N/A,never smoked,0\\n17245,Female,28,0,0,Yes,Private,Rural,87.01,39.9,never smoked,0\\n70852,Male,80,0,0,Yes,Private,Rural,56.99,26.7,never smoked,0\\n60957,Male,45,0,0,Yes,Private,Rural,73.01,24.8,formerly smoked,0\\n19742,Female,37,0,0,Yes,Private,Urban,106.35,29.7,never smoked,0\\n10782,Female,3,0,0,No,children,Rural,80.63,15.9,Unknown,0\\n61742,Male,26,0,0,No,Private,Urban,103.61,31.4,never smoked,0\\n4808,Female,71,0,0,Yes,Self-employed,Urban,91.35,N/A,formerly smoked,0\\n13571,Male,58,0,0,Yes,Govt_job,Urban,194.04,27.8,never smoked,0\\n49928,Female,59,0,0,Yes,Govt_job,Rural,111.99,35.5,formerly smoked,0\\n52688,Male,74,1,0,Yes,Private,Rural,57.51,31.7,smokes,0\\n24099,Male,17,0,0,No,Private,Rural,68.49,33.2,never smoked,0\\n65698,Female,62,0,0,Yes,Private,Urban,60.2,27.7,formerly smoked,0\\n47885,Male,37,0,0,Yes,Self-employed,Urban,160,31.9,formerly smoked,0\\n13948,Female,19,0,0,No,Never_worked,Urban,86.96,25.8,never smoked,0\\n17351,Female,59,0,0,Yes,Private,Rural,237.15,27.7,never smoked,0\\n820,Female,59,1,0,Yes,Private,Rural,99.06,23.4,never smoked,0\\n55721,Male,62,0,1,Yes,Self-employed,Urban,56.31,24.3,formerly smoked,0\\n72310,Male,80,1,1,Yes,Self-employed,Urban,84.31,30.3,smokes,0\\n24115,Female,54,0,0,Yes,Private,Rural,90.92,29.1,never smoked,0\\n65766,Female,27,0,0,No,Private,Rural,104.33,20.1,never smoked,0\\n42482,Female,4,0,0,No,children,Urban,62.61,21.2,Unknown,0\\n25627,Male,81,1,0,Yes,Self-employed,Urban,231.19,31.6,formerly smoked,0\\n7122,Female,41,0,0,No,Private,Rural,94.3,41.6,Unknown,0\\n48755,Male,27,0,0,Yes,Private,Rural,104.48,36.4,smokes,0\\n33551,Female,51,1,0,Yes,Private,Urban,72.62,30.5,never smoked,0\\n62716,Female,59,0,0,Yes,Self-employed,Urban,81.64,32.8,Unknown,0\\n68438,Female,51,0,0,Yes,Private,Rural,90.78,32.3,never smoked,0\\n41148,Male,71,0,1,Yes,Private,Urban,70.71,30.1,never smoked,0\\n14924,Male,48,0,0,Yes,Private,Urban,72.36,34.7,smokes,0\\n47950,Female,49,0,0,Yes,Self-employed,Urban,59.76,29.7,Unknown,0\\n8008,Female,35,0,0,No,Govt_job,Urban,83.76,N/A,smokes,0\\n56089,Female,25,0,0,Yes,Private,Rural,63.64,31.3,formerly smoked,0\\n9262,Female,31,0,0,Yes,Private,Rural,76.26,35.6,never smoked,0\\n71896,Female,68,0,0,Yes,Private,Rural,82.06,35.2,formerly smoked,0\\n38623,Male,39,0,0,No,Private,Urban,110.91,27.6,never smoked,0\\n26503,Female,32,0,0,No,Private,Rural,77.16,35.2,smokes,0\\n5475,Female,39,0,0,Yes,Private,Rural,69.58,28.1,Unknown,0\\n15525,Female,63,0,0,Yes,Private,Urban,96.26,31.8,Unknown,0\\n48748,Female,69,0,0,Yes,Private,Rural,87.27,23.3,smokes,0\\n11745,Female,29,0,0,Yes,Private,Urban,65.36,28.8,formerly smoked,0\\n17733,Female,1.72,0,0,No,children,Rural,109.51,19.5,Unknown,0\\n71591,Female,58,0,0,Yes,Private,Urban,89.03,30,smokes,0\\n11743,Female,32,0,0,Yes,Private,Urban,91.34,25.5,formerly smoked,0\\n67864,Male,63,0,0,Yes,Private,Rural,57.82,28.8,formerly smoked,0\\n34857,Male,57,0,0,Yes,Self-employed,Urban,81.15,40.2,formerly smoked,0\\n34995,Female,77,0,0,Yes,Private,Rural,115.29,32.9,Unknown,0\\n3606,Male,8,0,0,No,children,Urban,111.02,22.4,Unknown,0\\n22952,Female,21,0,0,No,Govt_job,Urban,111.61,36.9,smokes,0\\n32554,Female,16,0,0,No,children,Rural,109.02,19.8,Unknown,0\\n45893,Female,8,0,0,No,children,Urban,106.51,12.3,Unknown,0\\n72020,Male,71,0,1,Yes,Self-employed,Rural,207.32,32.4,smokes,0\\n57879,Female,74,0,0,Yes,Private,Urban,87.11,24.8,never smoked,0\\n53538,Female,7,0,0,No,children,Urban,61.68,16.4,Unknown,0\\n17006,Male,19,0,0,No,Private,Rural,119.04,35.9,Unknown,0\\n36638,Male,64,0,0,Yes,Private,Urban,86.05,23,Unknown,0\\n41097,Female,23,1,0,No,Private,Urban,70.03,78,smokes,0\\n36618,Male,75,0,1,Yes,Self-employed,Urban,207.64,30.5,formerly smoked,0\\n37290,Male,80,0,0,Yes,Self-employed,Rural,236.84,26.8,never smoked,0\\n54620,Male,40,0,0,Yes,Private,Urban,78.11,35.3,never smoked,0\\n42108,Female,24,0,0,No,Govt_job,Rural,100.97,27.9,never smoked,0\\n19681,Female,74,0,0,Yes,Self-employed,Urban,99.21,22.1,never smoked,0\\n6988,Female,52,0,0,Yes,Self-employed,Urban,113.21,38.3,never smoked,0\\n25287,Male,54,0,0,Yes,Private,Urban,92.95,41,never smoked,0\\n224,Female,23,0,0,No,Private,Urban,110.16,N/A,never smoked,0\\n56679,Male,19,0,0,No,Private,Rural,142.57,22.8,Unknown,0\\n27146,Female,23,0,0,No,Private,Rural,92.87,30.1,never smoked,0\\n16556,Male,13,0,0,No,Never_worked,Rural,111.48,20.8,Unknown,0\\n5934,Female,51,0,0,Yes,Private,Urban,123,31.7,never smoked,0\\n58999,Male,60,0,0,Yes,Govt_job,Urban,100.54,30.1,never smoked,0\\n28261,Male,79,0,1,Yes,Self-employed,Urban,106.68,30.8,never smoked,0\\n35222,Female,75,0,0,Yes,Private,Urban,86.4,42.6,never smoked,0\\n44105,Female,69,1,0,Yes,Self-employed,Urban,61.81,37.1,Unknown,0\\n65256,Female,57,0,0,Yes,Self-employed,Rural,128.28,34.2,never smoked,0\\n62709,Female,47,0,0,Yes,Private,Rural,204.63,43.4,never smoked,0\\n36698,Female,33,0,0,Yes,Private,Urban,89.98,18.7,smokes,0\\n7273,Female,51,0,0,Yes,Self-employed,Urban,232.89,34,smokes,0\\n20044,Female,47,0,0,Yes,Private,Rural,98.58,23.2,never smoked,0\\n54769,Male,15,0,0,No,Private,Urban,57.94,41.7,Unknown,0\\n57372,Male,1,0,0,No,children,Rural,123.21,15.1,Unknown,0\\n30605,Female,20,0,0,No,Private,Urban,76.34,20.6,smokes,0\\n13622,Male,6,0,0,No,children,Rural,92.98,18.9,Unknown,0\\n12686,Male,50,0,0,No,Govt_job,Rural,92.81,26.6,never smoked,0\\n39250,Male,31,0,0,Yes,Private,Urban,85.16,30.1,smokes,0\\n2879,Female,15,0,0,No,Self-employed,Urban,90.1,32.1,never smoked,0\\n59684,Female,3,0,0,No,children,Urban,65.15,15.1,Unknown,0\\n48830,Male,30,0,0,Yes,Private,Urban,104.62,33.5,smokes,0\\n56986,Male,17,0,0,No,Never_worked,Urban,113.25,23.4,never smoked,0\\n47924,Male,24,0,0,No,Private,Urban,59.28,43.2,never smoked,0\\n16402,Female,5,0,0,No,children,Urban,93.07,19.1,Unknown,0\\n40889,Male,33,0,0,No,Private,Rural,77.42,26.1,Unknown,0\\n4083,Female,30,0,0,No,Private,Rural,73.69,17.3,never smoked,0\\n59336,Male,66,1,0,Yes,Private,Rural,74.9,32.1,never smoked,0\\n5684,Male,40,0,0,No,Private,Urban,88.27,N/A,formerly smoked,0\\n48843,Female,27,0,0,No,Private,Urban,58.39,30.4,never smoked,0\\n5694,Male,21,0,0,No,Private,Rural,102.05,29.9,never smoked,0\\n3673,Female,55,0,0,Yes,Private,Rural,112.47,32.8,smokes,0\\n44481,Female,19,0,0,No,Private,Rural,72.84,22.7,never smoked,0\\n10538,Male,75,1,1,Yes,Self-employed,Urban,195.03,28.7,formerly smoked,0\\n9648,Female,71,0,1,Yes,Private,Urban,170.95,35.2,never smoked,0\\n19101,Female,16,0,0,No,Private,Urban,87.98,22.4,never smoked,0\\n31867,Female,49,0,0,No,Private,Rural,65.81,32.3,Unknown,0\\n11973,Female,10,0,0,No,children,Urban,124.6,18.6,Unknown,0\\n23633,Female,37,0,0,Yes,Private,Rural,83.65,42.1,smokes,0\\n52549,Male,59,0,0,Yes,Govt_job,Rural,88.81,38,formerly smoked,0\\n59178,Female,7,0,0,No,children,Urban,86.75,22.3,Unknown,0\\n37349,Female,61,0,0,Yes,Private,Rural,123.36,33.4,never smoked,0\\n44281,Male,34,0,0,No,Private,Rural,89.68,23.2,smokes,0\\n55599,Female,9,0,0,No,children,Rural,69.87,18,Unknown,0\\n45224,Female,46,0,0,Yes,Private,Rural,109.22,20.1,never smoked,0\\n54747,Male,0.88,0,0,No,children,Rural,157.57,19.2,Unknown,0\\n2751,Male,50,0,0,Yes,Govt_job,Urban,110.73,28.7,smokes,0\\n6090,Male,19,0,0,Yes,Private,Urban,99.14,28.1,never smoked,0\\n46385,Female,21,0,0,Yes,Private,Urban,59.15,22.6,never smoked,0\\n46323,Female,2,0,0,No,children,Rural,165.11,18,Unknown,0\\n28122,Female,37,0,0,Yes,Self-employed,Rural,77.44,21.4,formerly smoked,0\\n50843,Male,20,0,0,No,Private,Rural,100.33,27.8,Unknown,0\\n64464,Male,50,0,0,Yes,Private,Urban,57.93,27.6,Unknown,0\\n66922,Male,61,1,1,No,Private,Rural,148.24,32.2,formerly smoked,0\\n66494,Male,48,0,0,Yes,Private,Urban,91.96,24.9,Unknown,0\\n42786,Male,82,0,1,Yes,Self-employed,Rural,72.93,27.1,formerly smoked,0\\n33401,Male,64,0,0,Yes,Private,Rural,84.27,24.6,Unknown,0\\n24174,Female,50,0,0,Yes,Govt_job,Rural,124.45,24.6,never smoked,0\\n60211,Male,1.4,0,0,No,children,Urban,90.51,18.9,Unknown,0\\n53279,Male,0.24,0,0,No,children,Rural,118.87,16.3,Unknown,0\\n61715,Male,55,0,0,Yes,Private,Rural,56.42,31.8,never smoked,0\\n37830,Female,29,0,0,No,Private,Urban,73.67,21,Unknown,0\\n2454,Male,4,0,0,No,children,Rural,89.11,20.1,Unknown,0\\n60663,Male,70,1,0,Yes,Private,Rural,74.04,29.1,never smoked,0\\n46875,Male,35,0,0,Yes,Private,Urban,145.23,32.3,never smoked,0\\n69091,Female,80,0,1,Yes,Private,Rural,100.8,29.4,never smoked,0\\n1821,Female,54,0,0,Yes,Private,Urban,85.22,50.2,never smoked,0\\n44978,Male,39,0,0,Yes,Govt_job,Rural,72.49,44.9,formerly smoked,0\\n3437,Female,26,0,0,No,Private,Urban,82.61,28.5,smokes,0\\n6355,Female,6,0,0,No,children,Rural,72.07,19.5,Unknown,0\\n10762,Female,41,0,0,Yes,Private,Rural,79.85,45,Unknown,0\\n58567,Female,42,0,0,Yes,Private,Rural,84.86,22.8,Unknown,0\\n62187,Male,9,0,0,No,children,Urban,131.89,25.5,Unknown,0\\n84,Male,55,0,0,Yes,Private,Urban,89.17,31.5,never smoked,0\\n8521,Male,71,0,0,Yes,Private,Rural,227.91,31.6,formerly smoked,0\\n72779,Female,14,0,0,No,children,Urban,131.77,31,Unknown,0\\n45824,Female,77,1,0,Yes,Self-employed,Urban,102.01,29.5,Unknown,0\\n61838,Female,50,0,0,Yes,Govt_job,Urban,128.63,23.1,Unknown,0\\n57212,Male,49,0,0,No,Private,Urban,144.1,30.7,smokes,0\\n62668,Female,51,0,0,Yes,Self-employed,Urban,143.15,44.7,formerly smoked,0\\n33142,Male,79,0,0,Yes,Self-employed,Rural,116.67,33.5,never smoked,0\\n17437,Female,63,0,0,Yes,Self-employed,Rural,85.6,25.9,Unknown,0\\n38303,Female,66,0,0,Yes,Self-employed,Urban,142.12,28.3,never smoked,0\\n12396,Female,20,0,0,No,Private,Urban,100.81,26.8,Unknown,0\\n36484,Female,37,0,0,Yes,Govt_job,Urban,69.17,27.8,never smoked,0\\n60047,Male,22,0,0,No,Private,Rural,58.38,36,never smoked,0\\n16542,Female,60,0,0,Yes,Govt_job,Urban,86.34,22.1,never smoked,0\\n18805,Male,39,0,0,Yes,Private,Urban,95.44,38.4,never smoked,0\\n17869,Female,53,0,0,Yes,Private,Urban,94.78,30.1,Unknown,0\\n6793,Female,55,0,0,Yes,Private,Rural,109.59,26.2,formerly smoked,0\\n49265,Female,63,0,0,Yes,Private,Rural,79.26,26.6,smokes,0\\n6606,Female,57,0,0,Yes,Private,Urban,78.46,32.6,never smoked,0\\n23031,Male,82,0,0,Yes,Self-employed,Rural,85.29,27,never smoked,0\\n69330,Male,56,0,0,Yes,Private,Rural,156.18,25.3,smokes,0\\n22902,Male,41,1,0,Yes,Private,Urban,69.52,31.9,never smoked,0\\n69622,Female,8,0,0,No,children,Urban,65.32,18.4,Unknown,0\\n4807,Male,34,0,0,No,Private,Urban,108.47,30.4,smokes,0\\n9641,Male,75,0,0,Yes,Private,Urban,105.63,28.2,smokes,0\\n10313,Male,57,0,0,Yes,Private,Urban,77.93,35.7,formerly smoked,0\\n12097,Female,72,0,0,Yes,Private,Urban,95.2,35,never smoked,0\\n58037,Male,21,0,0,No,Private,Rural,78.52,27.2,never smoked,0\\n45323,Female,51,0,0,Yes,Private,Urban,114.89,23,never smoked,0\\n34281,Female,15,0,0,No,Private,Rural,95.43,25,Unknown,0\\n7990,Female,24,0,0,Yes,Private,Rural,84.08,24.5,Unknown,0\\n57622,Female,30,0,0,Yes,Govt_job,Rural,110.55,30.9,smokes,0\\n39120,Female,82,0,0,No,Self-employed,Urban,82.21,26,never smoked,0\\n68344,Female,62,0,0,Yes,Private,Urban,82.38,27.2,formerly smoked,0\\n66752,Female,79,0,0,Yes,Govt_job,Urban,93.89,30.4,never smoked,0\\n11691,Female,19,0,0,No,Private,Rural,75.08,21.7,Unknown,0\\n5077,Male,45,0,0,Yes,Private,Urban,76.72,29.1,Unknown,0\\n13319,Female,5,0,0,No,children,Rural,84.93,17.6,Unknown,0\\n49279,Male,57,0,1,Yes,Private,Urban,76.5,29.2,formerly smoked,0\\n53815,Female,31,0,0,No,Private,Urban,65.47,28.1,never smoked,0\\n42856,Male,61,0,0,Yes,Private,Urban,99.16,26.6,smokes,0\\n51579,Male,27,0,0,No,Self-employed,Rural,63.53,26.9,never smoked,0\\n10752,Female,61,0,0,Yes,Private,Rural,78.65,36.2,formerly smoked,0\\n42133,Female,53,0,0,Yes,Self-employed,Urban,63.78,25.9,never smoked,0\\n4842,Female,76,0,0,No,Self-employed,Urban,77.52,40.9,formerly smoked,0\\n58138,Male,57,0,0,Yes,Private,Rural,111.64,31.5,never smoked,0\\n58203,Male,9,0,0,No,children,Urban,97.84,23.3,Unknown,0\\n65053,Female,34,0,0,Yes,Private,Urban,113.01,37.6,never smoked,0\\n24168,Male,51,1,0,Yes,Private,Urban,56.48,39.8,never smoked,0\\n5824,Male,61,0,0,Yes,Private,Rural,204.5,35.1,formerly smoked,0\\n6965,Female,19,0,0,No,Private,Rural,96.02,21.9,never smoked,0\\n8332,Female,50,0,0,Yes,Private,Rural,206.25,53.4,formerly smoked,0\\n61973,Female,80,1,1,Yes,Private,Rural,115.52,34.4,Unknown,0\\n42821,Female,13,0,0,No,Private,Rural,60.69,24,smokes,0\\n18687,Male,55,0,0,Yes,Self-employed,Urban,93.67,29.3,Unknown,0\\n72642,Male,67,0,0,Yes,Govt_job,Urban,67.79,26,formerly smoked,0\\n54782,Female,30,0,0,No,Self-employed,Rural,56.07,31.3,never smoked,0\\n55862,Male,67,1,1,Yes,Private,Rural,254.63,31,never smoked,0\\n24437,Female,82,0,0,Yes,Private,Rural,96.63,26.5,Unknown,0\\n10367,Male,5,0,0,No,children,Rural,84.3,16,Unknown,0\\n42550,Female,81,0,0,Yes,Self-employed,Rural,246.34,21.1,never smoked,0\\n14178,Female,48,0,0,Yes,Private,Rural,195.16,42.2,Unknown,0\\n65429,Female,66,0,0,Yes,Govt_job,Rural,93.34,27.7,never smoked,0\\n66530,Female,38,0,0,Yes,Private,Urban,162.3,23.6,never smoked,0\\n43146,Male,8,0,0,No,children,Urban,106.4,18.3,Unknown,0\\n3509,Male,47,1,0,Yes,Private,Urban,110.25,44.3,never smoked,0\\n57497,Male,27,0,0,No,Private,Rural,69.7,27.3,never smoked,0\\n15220,Female,53,1,0,Yes,Private,Urban,87.03,55.2,formerly smoked,0\\n4813,Male,27,0,0,No,Private,Urban,112.98,44.7,never smoked,0\\n31166,Female,36,0,0,Yes,Govt_job,Rural,82.47,33.1,smokes,0\\n9051,Female,50,0,0,Yes,Private,Urban,75.88,30,never smoked,0\\n28669,Female,32,0,0,Yes,Private,Urban,84.63,40.1,Unknown,0\\n59894,Female,58,0,0,Yes,Govt_job,Rural,109.56,23.1,never smoked,0\\n18684,Female,73,0,0,Yes,Self-employed,Rural,89.45,30.3,formerly smoked,0\\n35866,Female,62,0,0,Yes,Private,Rural,91.65,30.5,never smoked,0\\n51907,Female,50,0,0,Yes,Self-employed,Urban,121.14,22.8,never smoked,0\\n7250,Female,51,0,0,No,Private,Rural,87.77,42,Unknown,0\\n16147,Female,19,0,0,No,Private,Rural,106.56,29.9,never smoked,0\\n18306,Female,30,0,0,No,Private,Rural,93.88,24,formerly smoked,0\\n69143,Female,45,0,0,No,Private,Rural,153.76,36.7,Unknown,0\\n61769,Male,30,0,0,No,Private,Urban,88.65,22.2,never smoked,0\\n26134,Female,28,0,0,Yes,Private,Urban,111.22,25.5,Unknown,0\\n67603,Male,70,0,0,Yes,Self-employed,Urban,223.68,34.3,formerly smoked,0\\n66772,Female,0.32,0,0,No,children,Rural,55.86,16,Unknown,0\\n41861,Female,23,0,0,No,Private,Rural,63.73,25.6,smokes,0\\n954,Male,18,0,0,No,Private,Rural,103.94,23.3,never smoked,0\\n37888,Male,41,0,0,Yes,Private,Rural,92.49,41.6,Unknown,0\\n34326,Male,52,0,0,Yes,Private,Urban,229.2,35.6,formerly smoked,0\\n42329,Female,77,0,0,Yes,Private,Rural,75.06,22,Unknown,0\\n23565,Male,34,0,0,Yes,Private,Urban,85.57,26.8,Unknown,0\\n27323,Female,67,0,0,Yes,Self-employed,Urban,68.61,31.9,never smoked,0\\n57854,Male,1.64,0,0,No,children,Urban,56.3,19.7,Unknown,0\\n18414,Female,23,0,0,No,Private,Rural,193.22,N/A,smokes,0\\n72836,Female,59,0,0,Yes,Private,Urban,65.98,31.1,Unknown,0\\n17708,Male,62,0,0,Yes,Govt_job,Rural,204.57,34.4,Unknown,0\\n66321,Male,47,0,0,Yes,Govt_job,Urban,64.99,33.2,never smoked,0\\n53817,Female,71,1,0,Yes,Self-employed,Rural,66.12,N/A,never smoked,0\\n66678,Female,22,0,0,No,Private,Urban,73.4,21.6,never smoked,0\\n56734,Male,33,0,0,Yes,Govt_job,Urban,82.83,25.4,Unknown,0\\n32240,Female,27,0,0,No,Private,Urban,93.55,41.6,never smoked,0\\n28127,Female,44,0,0,Yes,Private,Rural,90.4,33.1,formerly smoked,0\\n20347,Female,18,0,0,No,Private,Rural,98.1,21.8,never smoked,0\\n40824,Male,47,0,0,Yes,Private,Rural,142.02,30,Unknown,0\\n38678,Female,66,0,0,Yes,Self-employed,Rural,251.46,35.2,smokes,0\\n29380,Female,42,1,0,Yes,Private,Rural,89.96,35.6,never smoked,0\\n809,Male,13,0,0,No,children,Urban,71.73,N/A,Unknown,0\\n65453,Female,56,1,0,Yes,Govt_job,Urban,82.44,27.8,smokes,0\\n9415,Female,69,0,0,Yes,Self-employed,Urban,80.85,29.3,formerly smoked,0\\n30989,Female,65,0,0,Yes,Self-employed,Rural,220.52,37.2,smokes,0\\n65258,Male,53,0,0,Yes,Private,Urban,86.73,26.1,Unknown,0\\n67052,Female,36,0,0,Yes,Private,Urban,76.93,21.6,never smoked,0\\n62756,Female,69,0,0,Yes,Self-employed,Urban,113.1,22.7,never smoked,0\\n69224,Male,19,0,0,No,Private,Rural,96.84,30.2,formerly smoked,0\\n13323,Male,3,0,0,No,children,Urban,100.91,18,Unknown,0\\n59940,Male,15,0,0,No,children,Urban,116.5,27.8,Unknown,0\\n49042,Female,59,1,0,No,Private,Rural,57.26,23.5,never smoked,0\\n66362,Female,61,0,0,Yes,Private,Urban,129.31,41.2,Unknown,0\\n46093,Female,28,0,0,Yes,Private,Rural,56.47,22.7,never smoked,0\\n10370,Male,52,0,0,Yes,Govt_job,Urban,86.06,29.2,formerly smoked,0\\n156,Female,33,0,0,Yes,Private,Rural,86.97,42.2,never smoked,0\\n11105,Male,80,0,0,Yes,Private,Urban,78.78,24,formerly smoked,0\\n22363,Female,47,0,0,Yes,Private,Rural,195.04,45.5,never smoked,0\\n46072,Male,2,0,0,No,children,Rural,103.25,19.4,Unknown,0\\n65667,Female,48,0,0,Yes,Private,Rural,134.59,28.2,smokes,0\\n47848,Male,1.56,0,0,No,children,Rural,93.74,20.1,Unknown,0\\n71440,Female,26,0,0,Yes,Private,Urban,90.66,27.2,Unknown,0\\n35231,Male,62,0,0,Yes,Govt_job,Urban,91.68,26.5,Unknown,0\\n59734,Male,1.72,0,0,No,children,Urban,75.79,17.6,Unknown,0\\n1893,Female,38,0,0,Yes,Private,Urban,91.68,42.8,formerly smoked,0\\n32733,Female,28,0,0,Yes,Private,Rural,106.68,29.3,never smoked,0\\n34728,Female,67,0,0,Yes,Private,Rural,82.31,21.3,never smoked,0\\n30352,Male,57,0,0,Yes,Private,Rural,90.06,29.8,Unknown,0\\n61338,Female,40,0,0,Yes,Private,Rural,65.47,24.1,smokes,0\\n59275,Male,10,0,0,No,children,Rural,58.03,35.2,Unknown,0\\n45497,Female,55,0,0,No,Private,Rural,83.09,18.8,never smoked,0\\n19996,Female,7,0,0,No,children,Urban,88.6,17.4,Unknown,0\\n50371,Male,56,0,0,Yes,Private,Urban,63.18,31.5,Unknown,0\\n32687,Male,37,0,0,Yes,Private,Rural,78.42,29.9,never smoked,0\\n35295,Male,69,0,0,Yes,Private,Urban,65.08,27.3,formerly smoked,0\\n15746,Female,45,0,0,Yes,Govt_job,Urban,79.47,28.1,never smoked,0\\n31517,Female,28,0,0,Yes,Private,Rural,95.52,28.9,never smoked,0\\n43268,Female,52,1,0,No,Private,Urban,73,25.2,smokes,0\\n54540,Male,46,0,0,Yes,Private,Rural,138.07,24.3,never smoked,0\\n20973,Male,45,0,0,Yes,Govt_job,Rural,86.99,37.9,never smoked,0\\n56245,Female,21,0,0,No,Private,Urban,112.07,28.2,never smoked,0\\n9225,Male,4,0,0,No,children,Rural,105.76,18.4,Unknown,0\\n45955,Female,45,0,0,Yes,Private,Urban,55.67,23.1,smokes,0\\n3532,Female,71,0,0,Yes,Private,Urban,90.55,39.4,formerly smoked,0\\n41291,Female,46,0,0,Yes,Private,Rural,218.65,29.5,never smoked,0\\n53943,Female,3,0,0,No,children,Rural,111.21,18.3,Unknown,0\\n52550,Female,79,0,0,Yes,Govt_job,Urban,83.56,28.7,smokes,0\\n47414,Female,71,1,0,Yes,Private,Urban,116.76,32.9,formerly smoked,0\\n38804,Male,74,0,0,Yes,Private,Rural,83.5,26.7,Unknown,0\\n72861,Female,52,0,0,Yes,Private,Urban,69.3,20.1,never smoked,0\\n53276,Female,49,0,0,Yes,Private,Urban,67.55,17.6,formerly smoked,0\\n30944,Female,32,0,0,Yes,Private,Rural,80.28,43.7,never smoked,0\\n33622,Male,62,1,0,Yes,Private,Urban,211.49,41.1,Unknown,0\\n26191,Female,78,0,0,No,Private,Urban,67.96,26.8,Unknown,0\\n69312,Female,48,0,0,Yes,Self-employed,Urban,99.29,31.2,never smoked,0\\n39661,Male,18,0,0,Yes,Private,Rural,140.52,27.4,never smoked,0\\n20162,Female,80,0,0,Yes,Private,Rural,75.62,25.1,smokes,0\\n48989,Female,34,0,0,No,Govt_job,Rural,120.06,33,never smoked,0\\n30411,Female,40,0,0,No,Private,Rural,117.45,30.7,smokes,0\\n47735,Female,59,0,0,Yes,Private,Rural,224.71,42.9,never smoked,0\\n51162,Female,11,0,0,No,children,Rural,122.75,14.3,Unknown,0\\n8598,Female,35,0,0,Yes,Govt_job,Urban,82.39,33.2,never smoked,0\\n57347,Female,29,0,0,No,Govt_job,Rural,57.02,43,formerly smoked,0\\n4683,Male,23,0,0,No,Private,Urban,115.98,22.3,never smoked,0\\n55775,Female,59,0,0,Yes,Private,Rural,226.11,32.8,formerly smoked,0\\n32645,Female,44,0,0,Yes,Private,Rural,97.59,30.5,smokes,0\\n46643,Female,62,0,0,Yes,Private,Rural,82.57,36,formerly smoked,0\\n782,Female,32,0,0,No,Private,Urban,79.34,26.5,formerly smoked,0\\n63565,Female,2,0,0,No,children,Rural,125.68,20.1,Unknown,0\\n13602,Male,73,1,0,Yes,Self-employed,Rural,102.06,N/A,Unknown,0\\n28326,Female,79,0,0,Yes,Private,Urban,65.59,28.1,never smoked,0\\n26389,Female,2,0,0,No,children,Urban,120.85,16.2,Unknown,0\\n16906,Male,43,0,0,Yes,Govt_job,Urban,101.65,30,never smoked,0\\n35140,Male,43,0,0,Yes,Govt_job,Urban,210.94,31.3,never smoked,0\\n16837,Male,62,1,0,Yes,Private,Rural,77.92,26.7,never smoked,0\\n2750,Male,73,1,1,Yes,Self-employed,Rural,230.68,37.7,Unknown,0\\n47585,Female,31,0,0,No,Self-employed,Urban,62.68,35.8,never smoked,0\\n37404,Male,42,0,0,Yes,Private,Urban,55.22,27,never smoked,0\\n39518,Female,20,0,0,No,Private,Rural,78.94,20.7,never smoked,0\\n70678,Female,55,0,1,No,Private,Rural,109.69,22.2,smokes,0\\n542,Female,3,0,0,No,children,Urban,79.63,N/A,Unknown,0\\n38649,Female,23,0,0,No,Private,Rural,79.33,41.5,never smoked,0\\n53266,Female,33,0,0,Yes,Private,Urban,79.91,33.5,never smoked,0\\n26031,Female,14,0,0,No,Private,Rural,84.46,21.8,Unknown,0\\n1191,Female,79,0,1,Yes,Private,Urban,68.4,22.1,formerly smoked,0\\n36820,Male,64,1,0,Yes,Private,Rural,78.43,30.2,smokes,0\\n62783,Female,76,0,0,Yes,Private,Urban,198.02,38.7,Unknown,0\\n10133,Male,46,0,0,Yes,Private,Urban,85.35,32.1,smokes,0\\n19778,Male,80,0,0,No,Self-employed,Rural,204.17,41.3,formerly smoked,0\\n38255,Male,21,0,0,No,Private,Urban,82.71,20.1,formerly smoked,0\\n41565,Female,33,0,0,No,Private,Urban,121.19,22.1,never smoked,0\\n39423,Female,32,0,0,Yes,Private,Rural,106.02,24.9,smokes,0\\n68908,Female,0.72,0,0,No,children,Urban,66.36,23,Unknown,0\\n22440,Female,49,0,0,Yes,Private,Urban,267.76,29.3,formerly smoked,0\\n28418,Female,41,0,0,Yes,Private,Rural,107.18,22.8,never smoked,0\\n22566,Male,37,0,0,Yes,Private,Rural,74.58,31.6,Unknown,0\\n7055,Female,58,0,0,Yes,Private,Urban,80.92,19.4,Unknown,0\\n69177,Female,79,0,0,Yes,Private,Rural,90.77,22.5,never smoked,0\\n33162,Female,23,0,0,No,Private,Rural,90.84,31.6,never smoked,0\\n44764,Female,78,1,0,Yes,Self-employed,Rural,59.2,29.1,Unknown,0\\n32157,Male,51,0,0,Yes,Private,Rural,217.71,N/A,formerly smoked,0\\n61983,Female,41,0,0,Yes,Private,Urban,133.76,43.4,smokes,0\\n72268,Male,68,0,0,Yes,Self-employed,Urban,61.36,26.5,formerly smoked,0\\n39467,Female,30,0,0,No,Private,Rural,118.62,29.7,Unknown,0\\n20282,Male,1.88,0,0,No,children,Rural,77.91,21.8,Unknown,0\\n51159,Female,32,0,0,No,Govt_job,Urban,68.98,23.4,formerly smoked,0\\n7167,Female,20,0,0,No,Private,Rural,112.08,23,never smoked,0\\n59147,Male,20,0,0,No,Private,Urban,96.2,21.5,never smoked,0\\n18192,Male,10,0,0,No,children,Rural,93.11,14.6,Unknown,0\\n14049,Male,8,0,0,No,children,Rural,115.54,28.5,Unknown,0\\n35927,Male,65,0,0,Yes,Private,Urban,88.57,29,smokes,0\\n28150,Female,65,1,0,Yes,Private,Urban,180.76,26.9,Unknown,0\\n8727,Male,46,0,0,Yes,Self-employed,Urban,83.12,29.6,formerly smoked,0\\n7516,Male,53,0,0,Yes,Self-employed,Urban,94.89,28.5,never smoked,0\\n6419,Female,79,0,0,No,Private,Rural,239.52,25.5,never smoked,0\\n20425,Male,43,0,0,Yes,Self-employed,Rural,99.15,30.5,formerly smoked,0\\n59878,Female,56,0,0,Yes,Self-employed,Urban,124.16,23,never smoked,0\\n69355,Male,3,0,0,No,children,Rural,86.38,22.8,Unknown,0\\n5858,Male,32,0,0,No,Private,Rural,93.68,31.4,never smoked,0\\n39823,Female,41,0,0,Yes,Govt_job,Rural,229.86,35.2,smokes,0\\n37053,Male,53,0,0,Yes,Govt_job,Rural,78.73,23.3,never smoked,0\\n2082,Male,35,0,0,Yes,Private,Rural,115.92,N/A,formerly smoked,0\\n48073,Male,67,0,0,Yes,Govt_job,Rural,93.71,31.2,formerly smoked,0\\n16449,Female,33,0,0,Yes,Govt_job,Rural,76.66,24.8,never smoked,0\\n5447,Female,21,0,0,No,Private,Rural,112.38,25.8,Unknown,0\\n27145,Female,26,0,0,No,Private,Rural,89.3,48.4,smokes,0\\n30328,Female,69,1,0,Yes,Govt_job,Rural,103.44,43.1,formerly smoked,0\\n739,Female,73,0,0,Yes,Self-employed,Rural,79.69,N/A,formerly smoked,0\\n44224,Male,15,0,0,No,Private,Rural,61.61,27.8,never smoked,0\\n533,Female,3,0,0,No,children,Rural,94.12,21.4,Unknown,0\\n45554,Female,1.24,0,0,No,children,Urban,62.4,22.1,Unknown,0\\n32884,Female,80,1,0,Yes,Private,Urban,210.96,31.8,never smoked,0\\n55744,Male,2,0,0,No,children,Urban,76.25,20.1,Unknown,0\\n28414,Male,50,0,0,Yes,Private,Urban,103.48,29.1,smokes,0\\n25767,Female,30,0,0,No,Private,Urban,96.42,22.6,Unknown,0\\n71319,Male,15,0,0,No,Private,Rural,78.59,25.1,Unknown,0\\n70031,Female,71,1,0,Yes,Private,Rural,195.25,33.3,never smoked,0\\n23604,Male,4,0,0,No,children,Rural,103.76,15.9,Unknown,0\\n46576,Male,2,0,0,No,children,Rural,68.52,20.8,Unknown,0\\n31293,Male,11,0,0,No,children,Urban,92.17,19.5,Unknown,0\\n70610,Female,45,0,0,Yes,Private,Rural,81.02,39,never smoked,0\\n6044,Male,22,0,0,No,Govt_job,Rural,94.33,23.1,never smoked,0\\n62284,Male,63,0,0,Yes,Self-employed,Rural,78.43,18.8,never smoked,0\\n5821,Female,50,0,0,Yes,Private,Rural,217.39,50.6,Unknown,0\\n22295,Female,25,0,0,No,Private,Urban,82.77,36.3,Unknown,0\\n27583,Male,49,0,0,Yes,Private,Rural,88.13,32.8,never smoked,0\\n9696,Male,39,0,0,Yes,Private,Urban,102.77,35.8,smokes,0\\n1164,Female,43,0,0,No,Private,Rural,101.75,26.7,smokes,0\\n48781,Male,67,0,0,Yes,Private,Rural,113.34,26.3,formerly smoked,0\\n50947,Male,48,0,0,Yes,Private,Urban,63.33,26.5,smokes,0\\n47844,Female,38,0,0,Yes,Private,Urban,69.34,43.7,never smoked,0\\n45209,Female,14,0,0,No,Private,Rural,118.81,24.7,Unknown,0\\n49412,Male,63,0,0,Yes,Govt_job,Urban,66.13,46.2,never smoked,0\\n43088,Male,37,0,0,No,Private,Urban,67.53,49.5,formerly smoked,0\\n16355,Male,20,0,0,No,Private,Urban,96.58,43.3,never smoked,0\\n43172,Female,60,0,0,Yes,Private,Urban,57.89,30.9,formerly smoked,0\\n43155,Female,13,0,0,No,children,Rural,78.38,38.7,Unknown,0\\n11882,Male,34,0,0,No,Private,Urban,94.15,28.6,never smoked,0\\n45669,Male,22,0,0,No,Private,Urban,89.53,30.2,Unknown,0\\n65339,Female,46,0,0,Yes,Private,Urban,127.75,30.5,never smoked,0\\n60399,Male,53,0,0,Yes,Self-employed,Rural,76.79,33.9,Unknown,0\\n59604,Female,28,0,0,Yes,Private,Rural,141.15,28.6,never smoked,0\\n22488,Female,62,0,0,Yes,Govt_job,Urban,88.63,24.5,never smoked,0\\n33187,Female,6,0,0,No,children,Urban,201.25,N/A,Unknown,0\\n44192,Female,11,0,0,No,children,Urban,130.15,17.2,Unknown,0\\n16114,Male,66,0,0,No,Private,Urban,108.03,27.2,never smoked,0\\n35293,Female,80,0,0,Yes,Self-employed,Rural,104.07,19.3,formerly smoked,0\\n728,Male,8,0,0,No,children,Urban,88.83,18.5,Unknown,0\\n45788,Male,53,0,1,Yes,Private,Rural,197.79,32,Unknown,0\\n52150,Male,63,1,1,Yes,Private,Urban,150.45,44.5,formerly smoked,0\\n26172,Male,31,0,0,Yes,Private,Rural,100.39,37,never smoked,0\\n67814,Male,43,0,0,Yes,Govt_job,Rural,79.92,30.8,formerly smoked,0\\n12618,Male,79,0,1,Yes,Self-employed,Urban,96.79,24.7,Unknown,0\\n28952,Male,8,0,0,No,children,Rural,86.84,18.3,Unknown,0\\n39123,Male,38,0,0,Yes,Private,Rural,61.27,44,Unknown,0\\n53967,Female,80,0,0,Yes,Self-employed,Rural,72.61,27.6,never smoked,0\\n34772,Female,49,0,0,Yes,Private,Rural,82.41,45.4,smokes,0\\n43124,Female,50,0,0,Yes,Govt_job,Urban,74.72,28.5,never smoked,0\\n51916,Male,13,0,0,No,children,Rural,57.37,17.6,Unknown,0\\n68003,Male,46,1,0,Yes,Private,Rural,73.72,N/A,smokes,0\\n59157,Male,73,1,0,Yes,Private,Urban,88.34,27.5,never smoked,0\\n54383,Male,60,0,0,Yes,Private,Rural,101.34,32.8,never smoked,0\\n6928,Male,44,0,0,Yes,Private,Rural,119.01,29.5,never smoked,0\\n321,Female,79,0,0,No,Self-employed,Rural,71.98,36.4,never smoked,0\\n21857,Female,5,0,0,No,children,Urban,84.91,26.1,Unknown,0\\n33526,Female,51,0,0,Yes,Self-employed,Rural,91.63,35.3,Unknown,0\\n37327,Female,71,0,0,Yes,Private,Urban,214.77,N/A,Unknown,0\\n55976,Male,5,0,0,No,children,Rural,145.71,18.1,Unknown,0\\n56090,Female,65,0,0,Yes,Self-employed,Rural,167.31,27.1,never smoked,0\\n38350,Female,81,0,0,Yes,Self-employed,Urban,63.65,23,Unknown,0\\n6040,Female,46,0,0,No,Private,Rural,79.63,55,Unknown,0\\n17639,Male,44,0,0,Yes,Govt_job,Rural,87.49,26.6,never smoked,0\\n1678,Female,54,1,0,Yes,Private,Rural,98.74,N/A,never smoked,0\\n27572,Female,25,0,0,No,Private,Rural,92.82,24.1,never smoked,0\\n57668,Male,49,0,0,Yes,Govt_job,Urban,72.2,30.3,formerly smoked,0\\n22001,Male,80,0,1,Yes,Govt_job,Rural,181.23,32.2,formerly smoked,0\\n54184,Female,22,0,0,No,Private,Urban,63.37,26.5,never smoked,0\\n27966,Female,61,0,0,Yes,Private,Urban,74.82,30.6,never smoked,0\\n4702,Female,3,0,0,No,children,Rural,97.6,25.8,Unknown,0\\n38123,Male,50,0,0,Yes,Private,Rural,93.04,41.9,smokes,0\\n47345,Male,45,0,0,Yes,Private,Rural,97.12,29.2,never smoked,0\\n17222,Male,55,1,0,Yes,Self-employed,Rural,82.81,44.3,never smoked,0\\n45048,Female,21,0,0,No,Private,Urban,134.45,29.1,never smoked,0\\n30084,Male,0.8,0,0,No,children,Rural,98.67,17.5,Unknown,0\\n7195,Male,50,0,1,No,Private,Urban,85.82,31.9,never smoked,0\\n16260,Male,73,0,1,Yes,Self-employed,Rural,189.45,32.2,never smoked,0\\n52457,Female,58,0,1,Yes,Private,Rural,144.16,26,smokes,0\\n50650,Male,30,0,0,No,Private,Rural,82.56,25.4,formerly smoked,0\\n35913,Female,55,1,0,Yes,Private,Urban,206.4,54.8,never smoked,0\\n52306,Male,57,0,0,Yes,Self-employed,Urban,67.97,27.9,never smoked,0\\n132,Female,80,0,0,Yes,Govt_job,Urban,84.86,N/A,Unknown,0\\n8951,Female,77,1,0,Yes,Self-employed,Urban,71.7,32.8,never smoked,0\\n64752,Female,29,0,0,No,Private,Urban,72.02,34,formerly smoked,0\\n51285,Female,46,0,0,Yes,Private,Urban,61.81,25.5,Unknown,0\\n14349,Female,40,0,0,Yes,Private,Urban,103.09,35.6,Unknown,0\\n40571,Male,29,0,0,No,Private,Urban,73.75,28.3,never smoked,0\\n40624,Female,37,0,0,Yes,Private,Rural,156.7,36.9,never smoked,0\\n13072,Female,35,0,0,Yes,Self-employed,Urban,70.87,22.1,formerly smoked,0\\n66310,Male,54,0,0,Yes,Self-employed,Rural,138.47,31.5,never smoked,0\\n58101,Female,56,0,1,Yes,Private,Rural,64.66,26.7,formerly smoked,0\\n22969,Female,26,0,0,Yes,Private,Rural,91.88,24.9,formerly smoked,0\\n28904,Female,75,0,0,Yes,Self-employed,Rural,74.79,32.4,never smoked,0\\n6563,Female,44,0,0,No,Private,Rural,78.18,32.2,never smoked,0\\n55315,Male,63,0,0,Yes,Private,Rural,77.82,30.3,Unknown,0\\n47537,Female,17,0,0,No,Private,Rural,112.23,28.7,never smoked,0\\n45945,Male,46,0,1,Yes,Private,Urban,178.76,24.1,never smoked,0\\n65849,Female,47,0,0,Yes,Private,Rural,121.43,25.3,never smoked,0\\n31125,Female,50,0,0,Yes,Private,Rural,94.22,24.8,never smoked,0\\n5103,Female,49,0,0,Yes,Private,Rural,67.27,N/A,formerly smoked,0\\n54526,Male,76,1,0,Yes,Self-employed,Rural,197.58,34.8,formerly smoked,0\\n67309,Male,47,0,0,Yes,Private,Rural,86.37,39.2,smokes,0\\n2275,Female,47,0,0,Yes,Private,Urban,112.09,24.7,smokes,0\\n29869,Male,49,0,0,Yes,Private,Urban,199.96,28.6,never smoked,0\\n15757,Male,71,0,0,Yes,Private,Urban,85.33,27.7,never smoked,0\\n38523,Female,65,0,0,No,Self-employed,Rural,86.33,33.1,never smoked,0\\n65388,Female,40,0,0,No,Private,Urban,80.47,27.3,smokes,0\\n60816,Female,82,1,0,Yes,Private,Urban,62.46,20.3,formerly smoked,0\\n67350,Female,64,0,0,Yes,Govt_job,Rural,78.85,33.9,never smoked,0\\n40124,Male,72,0,0,Yes,Self-employed,Rural,72.09,N/A,smokes,0\\n20370,Female,50,0,0,Yes,Self-employed,Rural,103.81,28.3,never smoked,0\\n35188,Female,40,0,0,No,Private,Urban,78.04,32.4,smokes,0\\n28716,Female,74,0,0,Yes,Self-employed,Rural,94.67,19.7,Unknown,0\\n56166,Female,30,0,0,Yes,Govt_job,Rural,62.25,33.7,never smoked,0\\n47159,Male,68,0,0,Yes,Private,Urban,155.17,35.5,never smoked,0\\n26242,Male,6,0,0,No,children,Urban,83.28,20,Unknown,0\\n36226,Male,4,0,0,No,children,Urban,132.41,16.3,Unknown,0\\n47357,Female,60,0,0,Yes,Private,Rural,62.78,36.4,Unknown,0\\n33167,Female,59,0,0,Yes,Private,Urban,89.96,28.1,Unknown,0\\n21042,Female,72,0,0,Yes,Self-employed,Rural,103.25,26.9,formerly smoked,0\\n71062,Female,62,0,0,Yes,Private,Rural,126.99,29.4,formerly smoked,0\\n32723,Female,13,0,0,No,children,Rural,102.27,17.2,never smoked,0\\n49646,Male,72,0,1,Yes,Self-employed,Rural,113.63,26.5,Unknown,0\\n35737,Male,1.08,0,0,No,children,Urban,86.09,19.5,Unknown,0\\n24256,Male,35,0,0,Yes,Private,Rural,108.08,30.6,formerly smoked,0\\n62340,Male,54,0,0,Yes,Private,Urban,108.34,31.9,never smoked,0\\n39927,Male,40,0,0,Yes,Private,Rural,56.07,26.6,never smoked,0\\n30677,Female,3,0,0,No,children,Urban,82.91,19.9,Unknown,0\\n50453,Male,2,0,0,No,children,Urban,94.75,18,Unknown,0\\n17398,Male,41,0,0,Yes,Private,Rural,101.79,26.7,Unknown,0\\n20938,Female,61,0,0,Yes,Private,Rural,88.41,25.3,formerly smoked,0\\n21850,Male,58,0,0,Yes,Govt_job,Urban,101.05,31.4,Unknown,0\\n14241,Male,17,0,0,No,Private,Urban,85.07,21.1,never smoked,0\\n43905,Female,64,0,0,No,Govt_job,Rural,108.1,17.9,never smoked,0\\n40144,Female,32,0,0,No,Self-employed,Rural,93.17,27.5,smokes,0\\n7806,Female,42,0,0,Yes,Private,Urban,158.89,37.6,smokes,0\\n63984,Male,39,0,0,Yes,Private,Rural,205.77,24.1,never smoked,0\\n13504,Female,10,0,0,No,children,Urban,112.34,18.1,Unknown,0\\n62272,Female,78,0,0,Yes,Private,Urban,119.03,31,never smoked,0\\n5878,Female,68,0,0,Yes,Private,Urban,237.21,26.6,smokes,0\\n62767,Female,24,0,0,Yes,Private,Urban,89.68,38.7,never smoked,0\\n239,Male,59,1,1,Yes,Private,Rural,246.53,27.2,formerly smoked,0\\n3184,Female,45,0,0,Yes,Private,Urban,89.05,27.8,formerly smoked,0\\n51959,Male,12,0,0,No,children,Rural,81.74,28.3,Unknown,0\\n2092,Female,37,0,0,Yes,Private,Rural,98.12,27.5,never smoked,0\\n69239,Female,43,0,0,Yes,Self-employed,Rural,105.59,43.3,smokes,0\\n68235,Male,12,0,0,No,children,Rural,86,20.1,formerly smoked,0\\n3956,Male,13,0,0,No,children,Urban,65.51,25.9,Unknown,0\\n42703,Male,74,0,0,Yes,Self-employed,Urban,61.78,25.8,Unknown,0\\n34436,Female,2,0,0,No,children,Rural,109.56,16.4,Unknown,0\\n39258,Female,59,0,0,Yes,Self-employed,Urban,65.82,29.4,never smoked,0\\n40513,Female,21,0,0,No,Private,Urban,90.16,28.9,smokes,0\\n48648,Female,55,0,0,Yes,Private,Urban,64.45,26.7,never smoked,0\\n48836,Female,14,0,0,No,children,Urban,91.85,27.8,never smoked,0\\n71444,Female,53,0,0,Yes,Private,Rural,97.89,38.7,formerly smoked,0\\n33983,Male,75,0,0,Yes,Govt_job,Rural,206.33,26.8,never smoked,0\\n35372,Male,37,0,0,Yes,Govt_job,Rural,74.29,36.1,never smoked,0\\n31849,Female,49,0,0,Yes,Private,Rural,107.4,26.7,smokes,0\\n2772,Male,55,0,0,Yes,Private,Urban,87.72,27,Unknown,0\\n11148,Male,57,0,0,Yes,Private,Rural,85.99,21.2,Unknown,0\\n62387,Female,45,0,0,Yes,Private,Urban,100.84,21,never smoked,0\\n50775,Male,46,0,0,No,Private,Urban,124.61,37.4,Unknown,0\\n3807,Female,12,0,0,No,children,Urban,86.55,26.5,Unknown,0\\n51339,Male,12,0,0,No,children,Rural,90.42,28.9,Unknown,0\\n69259,Female,77,0,0,Yes,Private,Rural,100.85,29.5,smokes,0\\n32826,Male,6,0,0,No,children,Urban,87.74,17.7,Unknown,0\\n12414,Male,76,1,0,Yes,Private,Rural,80.15,34.9,formerly smoked,0\\n21381,Female,52,0,0,Yes,Private,Urban,107.29,28.1,never smoked,0\\n29375,Male,62,0,0,Yes,Private,Urban,206.98,36.8,smokes,0\\n62452,Male,82,1,0,Yes,Private,Rural,227.28,33.3,never smoked,0\\n68650,Male,69,0,1,Yes,Private,Rural,80.43,29.2,Unknown,0\\n47622,Male,78,0,1,Yes,Self-employed,Urban,228.7,34,Unknown,0\\n57124,Male,37,0,0,Yes,Private,Urban,120.07,33.9,smokes,0\\n19382,Female,50,0,0,Yes,Private,Rural,93.47,28.7,never smoked,0\\n44179,Female,41,0,0,Yes,Private,Urban,80.77,21.1,never smoked,0\\n50098,Male,54,0,0,Yes,Private,Rural,150.27,38.2,smokes,0\\n24674,Male,43,0,0,Yes,Private,Urban,81.94,27.7,smokes,0\\n72361,Female,37,0,0,Yes,Private,Urban,70.75,35.8,Unknown,0\\n14563,Male,9,0,0,No,children,Urban,83.83,27.1,Unknown,0\\n40237,Female,11,0,0,No,children,Urban,73.66,20.5,never smoked,0\\n36523,Male,56,1,0,Yes,Private,Urban,102.37,35.6,never smoked,0\\n65970,Female,5,0,0,No,children,Rural,77.83,15.6,Unknown,0\\n1577,Female,17,0,0,No,Private,Urban,70.01,43,Unknown,0\\n51109,Female,6,0,0,No,children,Rural,119.88,17.8,Unknown,0\\n5984,Male,25,0,0,Yes,Private,Rural,78.29,N/A,smokes,0\\n46373,Female,57,0,0,Yes,Private,Rural,169.97,25.8,never smoked,0\\n13062,Male,18,0,0,No,Private,Rural,123.79,20.5,Unknown,0\\n47770,Male,2,0,0,No,children,Urban,80.98,19.9,Unknown,0\\n32459,Female,76,0,0,Yes,Govt_job,Rural,84.21,24.4,never smoked,0\\n12687,Male,1,0,0,No,children,Urban,101.31,18.3,Unknown,0\\n7725,Male,54,0,0,Yes,Private,Urban,86.26,35.1,formerly smoked,0\\n67217,Female,45,0,0,Yes,Private,Urban,92.86,35.1,formerly smoked,0\\n49976,Female,54,0,1,Yes,Private,Urban,140.28,37.1,formerly smoked,0\\n71318,Male,67,0,0,Yes,Govt_job,Rural,244.28,29.4,formerly smoked,0\\n42201,Male,53,0,0,Yes,Private,Urban,124.16,31.7,never smoked,0\\n11232,Male,47,0,0,Yes,Private,Rural,93.55,31.4,never smoked,0\\n14709,Male,44,0,0,Yes,Private,Urban,99.34,33.1,never smoked,0\\n57137,Male,65,0,0,Yes,Private,Urban,59.87,28.5,smokes,0\\n36858,Female,40,0,0,Yes,Private,Rural,72.76,24,formerly smoked,0\\n50373,Female,3,0,0,No,children,Rural,68.34,18,Unknown,0\\n51124,Male,81,0,0,Yes,Self-employed,Urban,61.1,27.6,smokes,0\\n13191,Female,24,0,0,No,Private,Rural,120.77,16.9,never smoked,0\\n47330,Male,9,0,0,No,children,Rural,60.39,16.4,Unknown,0\\n42191,Female,52,0,0,Yes,Govt_job,Urban,126.34,35.1,never smoked,0\\n35332,Female,63,0,0,Yes,Private,Rural,93.24,28.8,never smoked,0\\n49341,Female,78,0,0,Yes,Private,Rural,154.75,17.6,never smoked,0\\n64750,Female,22,0,0,No,Private,Rural,62.81,21.3,never smoked,0\\n70259,Female,2,0,0,No,children,Rural,65.96,19.7,Unknown,0\\n36960,Female,79,0,0,Yes,Private,Rural,79.53,37.3,never smoked,0\\n12992,Female,49,0,0,Yes,Private,Rural,96.85,35.5,never smoked,0\\n4692,Female,74,0,0,Yes,Govt_job,Urban,251.99,25.5,never smoked,0\\n62460,Male,62,0,0,Yes,Private,Rural,115.13,30,smokes,0\\n72132,Male,16,0,0,No,children,Urban,102.3,21.9,Unknown,0\\n41402,Male,62,0,0,Yes,Self-employed,Urban,78.99,45.5,never smoked,0\\n40253,Male,27,0,0,No,Private,Rural,191.79,N/A,smokes,0\\n63577,Female,50,1,0,Yes,Self-employed,Rural,68.8,34.9,never smoked,0\\n11726,Female,49,0,0,Yes,Govt_job,Rural,83.84,19.3,formerly smoked,0\\n13736,Male,24,0,0,Yes,Private,Urban,94.66,32.1,formerly smoked,0\\n43913,Female,21,0,0,No,Private,Rural,107.98,26.9,never smoked,0\\n41870,Male,17,0,0,No,Never_worked,Rural,61.01,32.5,Unknown,0\\n37907,Female,22,0,0,No,Private,Urban,135.64,19.5,never smoked,0\\n15987,Male,13,0,0,No,children,Urban,92.65,31.7,never smoked,0\\n57166,Female,21,0,0,No,Private,Rural,121.11,21,Unknown,0\\n44950,Male,51,1,0,Yes,Private,Rural,163.56,N/A,formerly smoked,0\\n47627,Male,8,0,0,No,children,Urban,107.69,20.3,Unknown,0\\n42460,Male,48,0,0,Yes,Self-employed,Rural,216.88,N/A,smokes,0\\n8723,Female,16,0,0,No,Private,Rural,70.15,21.5,Unknown,0\\n52559,Male,18,0,0,No,Private,Urban,83.02,40.4,Unknown,0\\n937,Male,7,0,0,No,children,Urban,87.94,N/A,Unknown,0\\n41271,Male,68,1,0,Yes,Govt_job,Urban,222.29,30.1,never smoked,0\\n66893,Male,49,1,0,Yes,Govt_job,Urban,139.43,40.2,formerly smoked,0\\n21491,Female,80,0,0,Yes,Private,Urban,213.11,34.7,never smoked,0\\n51806,Male,31,0,0,Yes,Private,Rural,77.23,25.9,smokes,0\\n59412,Female,25,0,0,Yes,Private,Urban,58.48,23.7,never smoked,0\\n742,Female,39,0,0,No,Govt_job,Rural,87.33,34.3,never smoked,0\\n42902,Male,35,0,0,Yes,Private,Rural,102.34,34.3,never smoked,0\\n43059,Female,71,0,0,Yes,Self-employed,Rural,151.3,26.3,never smoked,0\\n61512,Female,71,0,0,Yes,Self-employed,Urban,144.23,22.1,formerly smoked,0\\n10943,Female,40,0,0,Yes,Govt_job,Rural,110.6,33.3,formerly smoked,0\\n11447,Female,41,0,0,Yes,Govt_job,Urban,80.28,37.3,never smoked,0\\n29233,Male,2,0,0,No,children,Rural,111.02,20.5,Unknown,0\\n17762,Female,3,0,0,No,children,Rural,114.88,19.1,Unknown,0\\n46284,Male,53,1,0,Yes,Self-employed,Urban,227.51,34.7,formerly smoked,0\\n1405,Male,1.88,0,0,No,children,Urban,111.65,16.3,Unknown,0\\n38493,Male,60,1,1,Yes,Private,Urban,201.01,28,never smoked,0\\n57953,Female,5,0,0,No,children,Urban,129.01,17.2,Unknown,0\\n30746,Female,30,0,0,Yes,Private,Rural,124.08,41.1,Unknown,0\\n16949,Female,49,1,0,Yes,Govt_job,Rural,107.91,25,Unknown,0\\n45297,Male,68,1,0,Yes,Private,Rural,95.4,27.5,never smoked,0\\n40251,Female,23,0,0,No,Private,Rural,65.9,21.5,never smoked,0\\n27013,Male,2,0,0,No,children,Urban,78.98,15.1,Unknown,0\\n7586,Male,24,0,0,No,Self-employed,Rural,111.33,29.6,formerly smoked,0\\n26452,Female,41,0,0,Yes,Private,Rural,104.36,30.2,never smoked,0\\n16378,Female,63,0,0,Yes,Govt_job,Urban,123.87,34.9,Unknown,0\\n5137,Male,64,0,0,Yes,Self-employed,Rural,210,30.7,formerly smoked,0\\n4559,Male,38,0,0,No,Private,Rural,86.86,36.5,Unknown,0\\n45357,Female,1.24,0,0,No,children,Rural,113.96,21.5,Unknown,0\\n45257,Female,38,0,0,Yes,Private,Rural,81.28,33.2,smokes,0\\n34386,Female,43,0,0,Yes,Private,Rural,102.5,50.2,never smoked,0\\n15219,Female,27,0,0,No,Private,Rural,78.05,22.3,never smoked,0\\n39202,Female,61,1,1,Yes,Private,Urban,237.58,N/A,formerly smoked,0\\n9076,Male,42,0,0,Yes,Self-employed,Urban,86.07,27.3,Unknown,0\\n72824,Male,46,0,0,Yes,Private,Rural,59.05,28.3,formerly smoked,0\\n64132,Male,67,0,1,Yes,Self-employed,Rural,95.88,31.9,Unknown,0\\n52987,Female,34,0,0,Yes,Govt_job,Rural,70.18,24.9,Unknown,0\\n17827,Male,51,0,0,Yes,Private,Rural,111.13,32.7,formerly smoked,0\\n29378,Female,77,0,0,Yes,Private,Urban,79.3,26.4,Unknown,0\\n29327,Female,30,0,0,No,Self-employed,Urban,65.84,24.8,smokes,0\\n48609,Female,81,0,1,Yes,Private,Rural,123.49,30.7,smokes,0\\n4833,Female,12,0,0,No,children,Rural,207.45,25.4,smokes,0\\n8085,Male,18,0,0,No,Private,Rural,143.45,32,smokes,0\\n41820,Female,35,0,0,Yes,Govt_job,Rural,89.11,24.4,never smoked,0\\n72474,Female,82,0,0,Yes,Govt_job,Rural,58.3,20.4,never smoked,0\\n32094,Male,53,1,0,Yes,Self-employed,Urban,78.68,29.5,never smoked,0\\n66818,Male,75,0,0,Yes,Govt_job,Urban,98.91,24.4,never smoked,0\\n49057,Female,32,0,0,No,Private,Rural,67.92,22.8,smokes,0\\n18070,Female,27,0,0,No,Private,Rural,73,20,never smoked,0\\n17860,Male,56,0,0,Yes,Private,Rural,97.5,36.3,formerly smoked,0\\n17078,Male,71,0,0,Yes,Private,Urban,108.43,32.8,smokes,0\\n23836,Male,78,0,0,Yes,Private,Urban,90.43,34.4,formerly smoked,0\\n5296,Female,44,0,0,No,Private,Urban,76.3,30.5,never smoked,0\\n48184,Male,62,0,0,Yes,Private,Rural,121.27,29.7,smokes,0\\n9511,Male,27,0,0,No,Private,Urban,119.67,36.9,Unknown,0\\n19389,Female,42,0,1,Yes,Govt_job,Urban,226.93,34.2,smokes,0\\n25559,Female,66,0,1,Yes,Govt_job,Rural,76.11,37,Unknown,0\\n11770,Female,25,0,0,Yes,Govt_job,Urban,93.23,N/A,smokes,0\\n34496,Female,82,0,0,Yes,Private,Urban,253.16,47.5,Unknown,0\\n8096,Female,49,0,0,Yes,Private,Urban,101.02,24.2,smokes,0\\n49709,Female,77,1,0,Yes,Self-employed,Rural,238.53,30.6,never smoked,0\\n19735,Female,59,0,0,Yes,Private,Rural,79.18,52.8,formerly smoked,0\\n31415,Female,54,0,0,Yes,Private,Urban,207.79,38.6,never smoked,0\\n71322,Female,38,0,0,Yes,Private,Rural,196.2,32.8,never smoked,0\\n72337,Female,55,0,0,Yes,Private,Urban,231.76,42.9,never smoked,0\\n25454,Female,13,0,0,No,children,Rural,93.3,25.9,Unknown,0\\n15310,Female,45,0,0,Yes,Private,Urban,110.47,24.7,smokes,0\\n10245,Female,54,0,0,Yes,Self-employed,Rural,77.52,35.8,never smoked,0\\n29224,Male,30,0,0,Yes,Private,Urban,91.23,N/A,smokes,0\\n7550,Female,51,0,0,Yes,Private,Rural,216.92,31.2,Unknown,0\\n57917,Female,47,0,0,Yes,Private,Urban,157.01,26.1,smokes,0\\n24219,Male,25,0,0,Yes,Private,Urban,93.51,30.8,never smoked,0\\n49023,Male,61,1,0,Yes,Self-employed,Rural,102.54,40.5,never smoked,0\\n51020,Female,55,0,0,Yes,Private,Rural,87.78,25.2,formerly smoked,0\\n52089,Female,23,0,0,No,Private,Urban,126.67,28.7,smokes,0\\n29095,Male,71,1,0,Yes,Self-employed,Rural,93.6,N/A,never smoked,0\\n41424,Male,59,0,1,Yes,Self-employed,Rural,194.98,30.4,Unknown,0\\n7297,Male,4,0,0,No,children,Rural,99.96,15.2,Unknown,0\\n68994,Male,65,0,0,Yes,Private,Urban,58.87,36.6,never smoked,0\\n25935,Female,50,0,0,No,Self-employed,Urban,77.67,34.5,Unknown,0\\n29910,Male,42,0,0,Yes,Private,Urban,83.14,23.7,never smoked,0\\n24567,Male,51,0,0,Yes,Self-employed,Urban,69.18,35.7,smokes,0\\n54858,Male,66,0,0,Yes,Govt_job,Rural,218.54,38.9,smokes,0\\n36679,Female,22,1,0,No,Private,Urban,71.22,40,never smoked,0\\n59339,Male,5,0,0,No,children,Urban,82.41,18.4,Unknown,0\\n18754,Male,19,0,0,No,Self-employed,Rural,82.07,29,never smoked,0\\n34312,Female,47,0,0,Yes,Self-employed,Urban,73,20.6,never smoked,0\\n57798,Male,12,0,0,No,children,Rural,127.25,28.2,Unknown,0\\n37759,Female,53,0,0,Yes,Private,Rural,72.63,66.8,Unknown,0\\n11605,Female,26,0,0,No,Private,Rural,108.2,26.2,never smoked,0\\n47558,Male,62,1,1,Yes,Private,Urban,123.95,34.8,formerly smoked,0\\n54264,Female,81,1,0,Yes,Private,Urban,58.71,34.5,never smoked,0\\n47893,Male,63,0,0,Yes,Private,Rural,98.46,30.6,never smoked,0\\n3178,Female,25,0,0,Yes,Private,Rural,68.78,55.1,formerly smoked,0\\n61924,Male,8,0,0,No,children,Rural,133.63,18.8,Unknown,0\\n18141,Male,76,0,1,Yes,Self-employed,Rural,101.43,29.1,Unknown,0\\n58015,Female,44,0,0,No,Private,Rural,65.3,22.1,smokes,0\\n354,Female,65,0,0,Yes,Private,Urban,72.49,28.9,smokes,0\\n5777,Female,54,0,0,Yes,Private,Urban,65.49,34.7,Unknown,0\\n43271,Female,24,0,0,No,Govt_job,Urban,63.4,20.3,smokes,0\\n46210,Female,65,0,0,Yes,Self-employed,Rural,105.29,25.1,formerly smoked,0\\n39714,Male,12,0,0,No,children,Urban,64.08,18.2,Unknown,0\\n21785,Female,33,0,0,No,Private,Urban,78.34,25.5,never smoked,0\\n36620,Female,74,0,0,Yes,Private,Rural,66.32,34.4,formerly smoked,0\\n49495,Female,18,0,0,No,Private,Rural,168.15,48.5,never smoked,0\\n21720,Female,77,0,0,Yes,Private,Rural,93.48,25.2,formerly smoked,0\\n6304,Male,48,1,0,Yes,Self-employed,Urban,79.2,32.5,never smoked,0\\n18887,Male,52,0,0,Yes,Private,Rural,107.45,42.1,formerly smoked,0\\n30214,Male,23,0,0,No,Private,Rural,83.86,19.5,never smoked,0\\n66419,Male,25,0,0,Yes,Private,Rural,119.96,27.7,never smoked,0\\n57468,Female,44,0,0,Yes,Private,Rural,70.58,25.1,never smoked,0\\n24218,Female,78,0,0,No,Private,Rural,87.7,29.6,never smoked,0\\n69792,Female,37,0,0,Yes,Govt_job,Urban,65.29,32.9,never smoked,0\\n6372,Female,32,0,0,Yes,Private,Urban,97.14,55.9,never smoked,0\\n34664,Male,67,0,0,Yes,Private,Urban,110.68,25.1,formerly smoked,0\\n40931,Female,41,0,0,Yes,Govt_job,Urban,91.93,24.7,smokes,0\\n28559,Male,2,0,0,No,children,Urban,88.54,17.5,Unknown,0\\n15166,Female,75,1,0,Yes,Private,Urban,183,20.8,Unknown,0\\n49815,Female,17,0,0,No,Govt_job,Rural,115.93,23.3,never smoked,0\\n1625,Female,13,0,0,No,children,Urban,99.13,22.8,Unknown,0\\n56309,Female,25,0,0,Yes,Private,Rural,69.24,26.6,never smoked,0\\n30116,Female,57,0,0,Yes,Private,Rural,102.28,25.5,never smoked,0\\n52034,Male,31,0,0,Yes,Private,Urban,71.31,25.8,never smoked,0\\n35584,Male,61,0,0,Yes,Private,Rural,89.75,25.4,never smoked,0\\n2898,Male,46,0,0,Yes,Private,Urban,87.66,57.3,never smoked,0\\n16593,Male,47,0,0,No,Private,Rural,237.17,N/A,Unknown,0\\n17175,Female,15,0,0,No,children,Urban,81.11,20.2,Unknown,0\\n63663,Male,47,0,0,Yes,Private,Urban,178.33,27.7,never smoked,0\\n10603,Female,68,0,0,Yes,Private,Rural,81.38,23.1,Unknown,0\\n40544,Male,0.4,0,0,No,children,Urban,109.56,14.3,Unknown,0\\n49152,Female,40,0,0,No,Private,Rural,70.45,23.3,smokes,0\\n1231,Female,62,0,0,Yes,Govt_job,Rural,73.44,23.4,Unknown,0\\n43672,Female,45,0,0,Yes,Private,Urban,146.44,22.8,formerly smoked,0\\n25107,Female,47,0,0,Yes,Private,Urban,65.04,30.9,never smoked,0\\n39286,Female,35,0,0,Yes,Self-employed,Rural,151.25,28.4,Unknown,0\\n32766,Male,51,0,0,No,Private,Rural,106.41,41.9,smokes,0\\n15988,Male,60,1,0,Yes,Private,Urban,197.09,34.3,Unknown,0\\n9011,Male,59,0,0,Yes,Private,Urban,93.58,25.1,smokes,0\\n38043,Female,1.24,0,0,No,children,Rural,122.04,10.3,Unknown,0\\n71721,Female,18,0,0,No,Private,Rural,80.06,31.8,Unknown,0\\n14832,Female,81,0,1,Yes,Private,Urban,84.93,31.8,Unknown,0\\n38094,Male,15,0,0,No,Self-employed,Urban,68.4,23,never smoked,0\\n49789,Female,73,0,0,No,Govt_job,Urban,62.99,25.4,formerly smoked,0\\n47350,Female,0.08,0,0,No,children,Urban,139.67,14.1,Unknown,0\\n33525,Male,53,0,0,Yes,Govt_job,Urban,113.4,35.1,smokes,0\\n12318,Male,45,0,0,Yes,Self-employed,Urban,101.92,26.9,Unknown,0\\n54553,Male,70,1,0,Yes,Private,Urban,65.98,33,formerly smoked,0\\n45976,Male,56,0,0,Yes,Private,Urban,84.3,22.1,Unknown,0\\n43675,Female,7,0,0,No,children,Urban,61.42,20.8,Unknown,0\\n12915,Female,66,0,0,Yes,Govt_job,Rural,85.52,30,never smoked,0\\n4542,Female,53,0,0,Yes,Govt_job,Urban,83.79,44,Unknown,0\\n65801,Female,20,0,0,No,Private,Urban,73.83,16.6,Unknown,0\\n59953,Female,15,0,0,No,Private,Rural,69.38,28.4,never smoked,0\\n60973,Male,51,0,0,Yes,Private,Urban,66.11,26.3,never smoked,0\\n68739,Male,34,0,0,Yes,Private,Urban,149.62,39.4,formerly smoked,0\\n35829,Female,33,0,0,Yes,Private,Urban,242.84,15.7,smokes,0\\n53909,Female,53,1,0,Yes,Private,Urban,202.66,34.1,smokes,0\\n5799,Male,69,0,1,Yes,Private,Rural,216.9,29.8,formerly smoked,0\\n43772,Female,28,0,0,No,Private,Urban,103.78,23.6,Unknown,0\\n3154,Female,81,0,0,Yes,Self-employed,Rural,114.88,18.3,formerly smoked,0\\n45754,Female,20,0,0,No,Private,Urban,75.94,28.3,never smoked,0\\n57485,Female,1.48,0,0,No,children,Rural,55.51,18.5,Unknown,0\\n6128,Male,2,0,0,No,children,Rural,93.74,18.4,Unknown,0\\n22623,Male,77,0,0,Yes,Private,Urban,71.44,24.1,smokes,0\\n37082,Female,38,0,0,Yes,Govt_job,Urban,58.29,25.5,formerly smoked,0\\n64541,Male,23,0,0,Yes,Private,Urban,115.83,25.3,never smoked,0\\n47037,Female,67,0,0,Yes,Private,Urban,102.71,39.9,formerly smoked,0\\n48614,Male,59,0,0,Yes,Govt_job,Urban,99.69,28.8,smokes,0\\n15969,Female,41,0,0,Yes,Self-employed,Rural,102.89,37.2,formerly smoked,0\\n17752,Male,76,0,1,Yes,Private,Urban,79.05,N/A,Unknown,0\\n50889,Female,21,0,0,No,Govt_job,Rural,56.63,49.8,never smoked,0\\n56459,Male,41,0,0,Yes,Private,Rural,87.34,34.3,formerly smoked,0\\n34163,Male,54,0,0,Yes,Private,Rural,109.51,29,never smoked,0\\n4538,Female,29,0,0,No,Private,Urban,81.43,N/A,formerly smoked,0\\n14222,Female,25,0,0,No,Private,Urban,78.59,37.2,never smoked,0\\n31461,Female,48,0,1,Yes,Self-employed,Urban,101.22,N/A,formerly smoked,0\\n34001,Female,6,0,0,No,children,Urban,78.26,19.4,Unknown,0\\n48964,Male,21,0,0,No,Private,Rural,105.47,26.2,never smoked,0\\n40393,Female,32,0,0,No,Private,Urban,68.19,21.1,never smoked,0\\n16488,Female,57,1,0,Yes,Private,Urban,210,N/A,never smoked,0\\n47947,Female,64,0,0,Yes,Self-employed,Rural,114.47,31.6,smokes,0\\n51149,Male,70,0,0,Yes,Private,Urban,66.85,29.3,Unknown,0\\n17079,Male,44,0,0,Yes,Private,Rural,94.71,28.4,smokes,0\\n44781,Female,60,0,1,Yes,Private,Urban,208.05,35.3,smokes,0\\n29385,Female,56,0,0,Yes,Private,Rural,222.6,40.1,smokes,0\\n53610,Male,53,0,0,Yes,Private,Urban,80.81,39,formerly smoked,0\\n48210,Male,59,0,0,Yes,Private,Rural,64.51,31.5,never smoked,0\\n48072,Female,53,1,0,Yes,Private,Urban,151.56,28.5,Unknown,0\\n32776,Male,63,0,0,Yes,Private,Urban,199.14,28.5,never smoked,0\\n8960,Female,42,0,0,No,Self-employed,Rural,73.41,56,smokes,0\\n63491,Female,63,0,0,Yes,Private,Urban,109.65,28.6,formerly smoked,0\\n51883,Female,52,0,0,Yes,Govt_job,Rural,69.11,35.2,never smoked,0\\n20460,Female,62,0,0,Yes,Private,Urban,114.41,32.5,never smoked,0\\n47181,Female,68,0,0,Yes,Private,Urban,103.46,35.9,never smoked,0\\n35432,Female,36,0,0,Yes,Private,Rural,95.36,25.1,never smoked,0\\n44010,Female,3,0,0,No,children,Urban,57.33,16.8,Unknown,0\\n50841,Female,40,0,0,Yes,Private,Rural,191.48,27.9,smokes,0\\n71044,Female,8,0,0,No,children,Rural,71.63,16.3,Unknown,0\\n1842,Male,58,0,0,Yes,Private,Urban,94,N/A,Unknown,0\\n34720,Male,45,0,1,Yes,Private,Rural,93.77,N/A,Unknown,0\\n9489,Female,65,0,0,Yes,Private,Urban,84.75,21.4,Unknown,0\\n28725,Female,28,0,0,No,Private,Rural,89.24,32.7,formerly smoked,0\\n30290,Female,40,0,0,Yes,Private,Urban,70.13,23.6,never smoked,0\\n13723,Female,65,0,0,Yes,Private,Urban,82.26,19.8,formerly smoked,0\\n26328,Male,58,1,0,Yes,Private,Urban,200.16,33.1,never smoked,0\\n60104,Male,44,0,0,Yes,Private,Urban,80.73,28.1,smokes,0\\n48722,Female,54,0,0,Yes,Private,Urban,75.09,38.9,formerly smoked,0\\n14481,Female,79,0,0,Yes,Self-employed,Urban,80.57,23.8,never smoked,0\\n67963,Female,62,1,0,No,Private,Rural,77.04,33.8,formerly smoked,0\\n70752,Male,37,0,0,Yes,Private,Urban,145.26,26.7,Unknown,0\\n52419,Male,66,0,0,Yes,Private,Urban,190.4,N/A,formerly smoked,0\\n14711,Male,63,0,0,Yes,Self-employed,Urban,82.08,32.2,formerly smoked,0\\n26366,Female,27,0,0,No,Private,Rural,103.35,28.1,formerly smoked,0\\n12436,Male,6,0,0,No,children,Urban,97.46,21.3,Unknown,0\\n36722,Female,30,0,0,Yes,Private,Urban,123.65,44,smokes,0\\n37698,Female,15,0,0,No,children,Urban,87.96,21.5,formerly smoked,0\\n55235,Female,50,0,0,Yes,Self-employed,Urban,85.92,37.3,smokes,0\\n20468,Female,32,0,0,Yes,Private,Urban,80.8,44.8,never smoked,0\\n14677,Female,33,0,0,Yes,Self-employed,Rural,99.3,21.4,never smoked,0\\n44171,Male,62,0,0,Yes,Private,Rural,62.56,32.3,never smoked,0\\n70344,Male,82,0,0,Yes,Private,Urban,144.2,35.4,smokes,0\\n8470,Female,71,0,0,Yes,Private,Urban,71.38,19.7,never smoked,0\\n42743,Female,20,0,0,No,Private,Urban,95.5,31.3,Unknown,0\\n13949,Female,44,0,0,Yes,Govt_job,Urban,67.06,35.5,never smoked,0\\n61096,Male,57,0,0,Yes,Private,Rural,70.16,25.8,formerly smoked,0\\n19239,Female,50,0,0,Yes,Govt_job,Urban,104.24,32.8,Unknown,0\\n70447,Male,50,0,0,Yes,Private,Rural,122.48,35.9,smokes,0\\n6879,Female,44,0,0,No,Govt_job,Urban,215.9,41.8,smokes,0\\n37451,Female,47,0,0,Yes,Govt_job,Rural,108.56,27.3,formerly smoked,0\\n5686,Male,35,0,0,Yes,Private,Urban,69.88,27.7,Unknown,0\\n4789,Male,8,0,0,No,children,Rural,91.54,13.4,Unknown,0\\n897,Male,3,0,0,No,children,Rural,65.85,17,Unknown,0\\n69553,Female,29,0,0,Yes,Private,Rural,60.74,20,never smoked,0\\n58438,Male,36,0,0,No,Private,Rural,233.52,40.9,never smoked,0\\n29104,Female,19,0,0,No,Private,Urban,110.7,38.5,never smoked,0\\n26862,Female,41,0,0,Yes,Govt_job,Rural,78.93,30.9,formerly smoked,0\\n38036,Female,23,0,0,No,Private,Urban,124.5,33.4,Unknown,0\\n36666,Male,14,0,0,No,children,Urban,57.95,17.1,Unknown,0\\n16316,Male,35,0,0,Yes,Private,Rural,92.82,28.6,Unknown,0\\n61365,Male,45,0,0,Yes,Private,Rural,58.25,24,smokes,0\\n12512,Female,52,1,0,Yes,Private,Rural,213.54,32,never smoked,0\\n31835,Male,19,0,0,No,Private,Urban,74.86,28.4,never smoked,0\\n4099,Female,21,0,0,No,Private,Urban,78.35,20.3,Unknown,0\\n26893,Male,8,0,0,No,children,Urban,101.26,33.8,Unknown,0\\n35143,Female,35,0,0,Yes,Private,Urban,86.87,43.2,Unknown,0\\n1486,Female,33,0,0,Yes,Private,Rural,124.01,22.7,Unknown,0\\n5043,Female,53,0,0,Yes,Private,Urban,83.41,29.9,never smoked,0\\n2513,Male,59,0,1,Yes,Govt_job,Urban,188.69,N/A,formerly smoked,0\\n5451,Male,34,0,0,Yes,Private,Rural,86.51,N/A,formerly smoked,0\\n3640,Female,31,0,0,No,Self-employed,Rural,70.65,29.9,Unknown,0\\n17835,Female,43,0,0,No,Self-employed,Rural,92.4,22.7,Unknown,0\\n26826,Female,61,0,0,Yes,Self-employed,Urban,73.36,16.1,never smoked,0\\n45713,Female,57,0,0,Yes,Govt_job,Urban,219.5,33.8,formerly smoked,0\\n37660,Male,11,0,0,No,children,Rural,105.73,22.6,never smoked,0\\n24782,Male,36,0,0,Yes,Private,Rural,83.79,25.5,smokes,0\\n63416,Female,16,0,0,No,Private,Urban,58.02,22.5,Unknown,0\\n16953,Female,60,0,0,Yes,Govt_job,Rural,61.94,27.9,formerly smoked,0\\n42082,Male,13,0,0,No,children,Rural,99.71,23.5,Unknown,0\\n51660,Female,69,0,0,Yes,Self-employed,Rural,63.19,32.2,never smoked,0\\n27135,Male,69,1,0,Yes,Private,Rural,107.11,N/A,smokes,0\\n54058,Female,22,0,0,No,Private,Urban,56.84,29.9,smokes,0\\n24272,Male,63,0,0,Yes,Govt_job,Rural,217.66,28.7,formerly smoked,0\\n16028,Female,45,0,0,Yes,Private,Rural,77.19,37.2,smokes,0\\n49645,Male,58,0,0,No,Private,Rural,76.22,22.2,formerly smoked,0\\n54347,Male,61,0,0,Yes,Self-employed,Rural,155.32,26.6,formerly smoked,0\\n4861,Female,30,0,0,Yes,Private,Urban,70.67,24.6,smokes,0\\n54353,Female,78,1,1,Yes,Private,Urban,227.16,41.7,never smoked,0\\n71016,Female,68,0,0,Yes,Private,Rural,58.69,26.2,formerly smoked,0\\n33768,Female,16,0,0,No,Self-employed,Urban,88.85,27.1,Unknown,0\\n62681,Female,38,1,0,Yes,Private,Urban,137.94,41.8,never smoked,0\\n41007,Female,39,0,0,Yes,Private,Urban,60.6,34.2,never smoked,0\\n35450,Female,51,0,0,Yes,Private,Rural,93.67,19.2,never smoked,0\\n62793,Male,37,0,0,Yes,Private,Urban,79.56,25.2,never smoked,0\\n66592,Male,16,0,0,No,Private,Rural,122.46,18.7,never smoked,0\\n33462,Male,39,0,0,Yes,Private,Urban,92.32,43,never smoked,0\\n29804,Male,24,1,0,Yes,Private,Rural,80.63,28.2,smokes,0\\n33906,Male,51,0,0,Yes,Govt_job,Urban,92.32,34.7,smokes,0\\n43510,Female,50,1,0,Yes,Govt_job,Urban,59.89,25.5,never smoked,0\\n21202,Female,27,0,0,Yes,Private,Urban,80.57,39.8,smokes,0\\n7222,Female,73,0,0,Yes,Self-employed,Urban,88.52,20.8,formerly smoked,0\\n13561,Female,65,0,0,Yes,Private,Urban,88.82,28.2,formerly smoked,0\\n29179,Female,76,1,1,Yes,Private,Rural,102.08,31,smokes,0\\n5511,Male,66,0,0,Yes,Self-employed,Urban,71.38,N/A,formerly smoked,0\\n20825,Female,53,0,0,Yes,Govt_job,Rural,84.9,21.6,never smoked,0\\n67144,Female,65,0,0,Yes,Self-employed,Urban,82.21,26.2,Unknown,0\\n15515,Female,48,0,0,Yes,Self-employed,Rural,209.9,N/A,smokes,0\\n3753,Male,31,0,0,Yes,Private,Urban,74.05,26,Unknown,0\\n27279,Male,1.72,0,0,No,children,Urban,90.46,22.5,Unknown,0\\n48759,Female,45,0,0,Yes,Private,Rural,176.48,24,formerly smoked,0\\n69524,Male,56,0,0,Yes,Self-employed,Urban,94.07,31.5,never smoked,0\\n28443,Male,62,0,0,Yes,Self-employed,Urban,85.12,36.3,formerly smoked,0\\n38578,Female,35,0,0,No,Private,Urban,71.81,25.4,Unknown,0\\n66502,Male,16,0,0,No,Private,Rural,111.93,32.2,never smoked,0\\n50978,Female,31,0,0,Yes,Govt_job,Urban,94.4,39.8,Unknown,0\\n9034,Male,5,0,0,No,children,Urban,70,18.6,Unknown,0\\n16582,Male,26,0,0,Yes,Private,Rural,95.57,30.7,smokes,0\\n28500,Male,10,0,0,No,children,Urban,91.98,16.4,Unknown,0\\n70241,Female,22,0,0,No,Private,Urban,66.29,20.5,smokes,0\\n32452,Female,82,0,1,Yes,Self-employed,Rural,211.88,28.7,never smoked,0\\n45573,Female,50,0,0,Yes,Private,Rural,76.55,29,smokes,0\\n64412,Female,47,0,0,Yes,Private,Urban,56.67,24.4,never smoked,0\\n66647,Male,31,0,0,Yes,Private,Rural,100.52,29.9,Unknown,0\\n39450,Male,22,0,0,No,Private,Rural,58.96,25.3,Unknown,0\\n57109,Female,12,0,0,No,children,Rural,81.66,23.5,formerly smoked,0\\n3591,Female,63,1,0,Yes,Private,Rural,96.77,20.5,never smoked,0\\n25138,Female,78,1,0,Yes,Private,Rural,91.63,33.5,smokes,0\\n17277,Male,4,0,0,No,children,Urban,97.51,22,Unknown,0\\n35333,Male,76,1,0,Yes,Private,Rural,225.6,29,never smoked,0\\n18861,Male,32,0,0,No,Private,Rural,95.58,N/A,smokes,0\\n15120,Female,81,1,0,Yes,Self-employed,Rural,210.23,30.7,never smoked,0\\n29221,Female,39,0,0,Yes,Private,Urban,92.82,37.4,never smoked,0\\n11412,Female,59,0,0,Yes,Private,Rural,234.82,51.8,never smoked,0\\n38858,Male,2,0,0,No,children,Rural,65.67,16.6,Unknown,0\\n6802,Female,37,0,0,Yes,Private,Urban,74.51,29.5,Unknown,0\\n8644,Female,78,0,1,Yes,Private,Rural,81.99,27.3,formerly smoked,0\\n54579,Female,75,0,0,Yes,Self-employed,Urban,87.69,27.5,formerly smoked,0\\n41935,Male,34,0,0,No,Private,Rural,125.29,33.9,never smoked,0\\n17926,Female,48,0,0,Yes,Govt_job,Rural,111.64,27.9,Unknown,0\\n13862,Female,13,0,0,No,Never_worked,Urban,70.93,22.9,never smoked,0\\n64523,Male,54,1,0,Yes,Private,Urban,89.93,32.1,never smoked,0\\n66065,Male,13,0,0,No,children,Rural,137.45,18.2,Unknown,0\\n71869,Female,24,0,0,No,Private,Rural,72.06,30.2,formerly smoked,0\\n11024,Female,76,0,0,Yes,Private,Rural,97.9,31.3,formerly smoked,0\\n46035,Male,1,0,0,No,children,Urban,84.85,20.3,Unknown,0\\n24630,Male,57,0,0,Yes,Private,Rural,230.59,23.2,formerly smoked,0\\n11238,Male,46,0,0,Yes,Private,Rural,92.81,30.8,Unknown,0\\n54946,Female,26,0,0,No,Private,Urban,168.15,22.9,never smoked,0\\n24229,Female,56,0,0,Yes,Self-employed,Urban,224.63,42.8,never smoked,0\\n29934,Male,34,0,0,Yes,Private,Urban,108.12,22.2,Unknown,0\\n28998,Male,25,0,0,No,Private,Rural,85.17,28.7,smokes,0\\n19805,Male,60,0,0,No,Private,Urban,84.14,32.3,never smoked,0\\n63668,Male,22,0,0,No,Private,Rural,85.57,24.2,formerly smoked,0\\n24876,Male,35,0,0,Yes,Private,Urban,82.81,23.9,never smoked,0\\n34719,Male,48,1,0,No,Private,Urban,110.53,34.2,never smoked,0\\n48769,Female,38,0,0,Yes,Private,Rural,61.88,29,Unknown,0\\n22536,Female,12,0,0,No,children,Urban,85.04,29.9,never smoked,0\\n8760,Female,22,0,0,No,Private,Urban,140.4,23,smokes,0\\n53126,Female,0.64,0,0,No,children,Urban,62.27,17.3,Unknown,0\\n18179,Male,13,0,0,No,Private,Rural,99.44,21,never smoked,0\\n38242,Female,78,0,1,Yes,Self-employed,Rural,88.9,34.3,Unknown,0\\n68708,Female,23,0,0,No,Private,Urban,64.1,19.8,Unknown,0\\n12366,Female,35,0,0,No,Private,Urban,97.58,24.3,Unknown,0\\n42465,Female,78,1,0,Yes,Private,Rural,58.66,16.4,never smoked,0\\n24638,Male,50,0,0,Yes,Govt_job,Urban,88.24,32.6,Unknown,0\\n58587,Male,61,0,0,Yes,Private,Urban,61.32,23.7,smokes,0\\n9170,Male,60,0,0,Yes,Self-employed,Urban,185.71,N/A,Unknown,0\\n36545,Male,43,0,0,Yes,Private,Rural,62.99,27,formerly smoked,0\\n19467,Male,60,1,0,Yes,Private,Urban,86.04,25.6,smokes,0\\n16868,Female,51,0,0,Yes,Private,Rural,83.3,34,formerly smoked,0\\n47608,Female,21,0,0,No,Private,Urban,208.17,24.9,never smoked,0\\n38440,Male,16,0,0,No,Private,Rural,133.2,26.3,Unknown,0\\n23543,Female,25,0,0,No,Private,Rural,81.54,43.1,Unknown,0\\n65396,Female,36,0,0,Yes,Private,Rural,146.61,39.6,never smoked,0\\n34621,Female,8,0,0,No,children,Urban,79.33,15.2,Unknown,0\\n23561,Female,48,0,0,Yes,Private,Rural,84.56,41.8,never smoked,0\\n16091,Male,14,0,0,No,Private,Rural,103.44,20.1,never smoked,0\\n63597,Female,60,0,0,Yes,Private,Urban,185.31,39.3,never smoked,0\\n57533,Male,61,1,0,Yes,Private,Urban,102.53,28.3,formerly smoked,0\\n59370,Female,60,0,0,Yes,Private,Urban,65.78,27.5,Unknown,0\\n57285,Male,56,0,0,No,Private,Rural,62.6,33.9,never smoked,0\\n17515,Female,9,0,0,No,children,Rural,81.18,20,Unknown,0\\n23988,Female,45,0,0,Yes,Private,Rural,76.68,34.8,smokes,0\\n34958,Male,14,0,0,No,children,Urban,92.86,20.7,formerly smoked,0\\n30620,Male,37,0,0,No,Private,Urban,90.95,24.6,smokes,0\\n31811,Female,52,0,1,Yes,Private,Urban,85.66,39.4,never smoked,0\\n1818,Female,30,0,0,No,Govt_job,Urban,88.2,N/A,smokes,0\\n5478,Female,60,0,0,Yes,Self-employed,Urban,203.04,N/A,smokes,0\\n26830,Female,47,0,0,Yes,Self-employed,Rural,68.37,29.4,smokes,0\\n25883,Female,82,1,0,Yes,Self-employed,Urban,77.32,24.8,Unknown,0\\n43657,Male,64,0,0,Yes,Govt_job,Rural,187.87,32.3,never smoked,0\\n71917,Male,12,0,0,No,children,Rural,213.87,25.3,never smoked,0\\n61299,Female,79,1,0,Yes,Private,Rural,119.62,39,Unknown,0\\n24603,Male,77,0,0,Yes,Private,Urban,222.85,29.4,formerly smoked,0\\n70654,Female,25,0,0,No,Private,Rural,100.82,31.9,Unknown,0\\n49485,Female,26,0,0,No,Private,Rural,136.1,26.4,Unknown,0\\n61641,Male,14,0,0,No,children,Rural,149.42,20.6,Unknown,0\\n12600,Female,42,0,0,Yes,Self-employed,Rural,79.99,26.3,never smoked,0\\n11566,Male,37,0,0,Yes,Private,Rural,118.21,23.6,Unknown,0\\n72108,Male,8,0,0,No,children,Rural,56.3,18,Unknown,0\\n35117,Female,78,0,0,Yes,Self-employed,Rural,84.49,26.4,never smoked,0\\n22967,Male,18,0,0,No,Private,Rural,89.61,22,never smoked,0\\n28913,Male,78,0,0,Yes,Private,Rural,100.09,30.5,Unknown,0\\n70857,Female,55,0,0,Yes,Govt_job,Urban,198.36,29.1,smokes,0\\n42229,Female,68,0,0,Yes,Self-employed,Rural,93.61,24.9,never smoked,0\\n23459,Female,47,0,0,Yes,Private,Rural,75.43,36.4,smokes,0\\n2209,Female,47,0,0,Yes,Govt_job,Urban,100.31,31.2,smokes,0\\n38673,Female,51,0,0,Yes,Private,Rural,105.63,32.8,never smoked,0\\n42184,Male,43,0,0,Yes,Self-employed,Rural,82.84,31.6,never smoked,0\\n59250,Female,78,0,0,Yes,Govt_job,Urban,58.88,35.8,Unknown,0\\n29525,Male,63,0,0,Yes,Private,Urban,92.27,35.2,formerly smoked,0\\n42713,Female,45,0,0,Yes,Private,Urban,115.23,28,never smoked,0\\n16066,Female,53,1,1,Yes,Private,Urban,196.25,24.9,smokes,0\\n33692,Female,12,0,0,No,children,Rural,85.97,35.7,Unknown,0\\n29232,Female,56,0,0,Yes,Private,Urban,114.33,30.7,smokes,0\\n70122,Female,29,0,0,Yes,Private,Rural,72.52,33.9,never smoked,0\\n25305,Male,10,0,0,No,children,Rural,99.87,N/A,formerly smoked,0\\n66110,Female,55,0,0,Yes,Private,Rural,63.47,27.8,Unknown,0\\n69461,Female,49,0,0,Yes,Govt_job,Urban,90.58,23.2,Unknown,0\\n7885,Female,23,0,0,No,Private,Rural,92.26,17.1,Unknown,0\\n60050,Female,53,0,0,Yes,Self-employed,Urban,113.74,31.6,smokes,0\\n21608,Male,56,1,0,Yes,Govt_job,Urban,72.79,23.8,smokes,0\\n32150,Female,56,0,0,Yes,Self-employed,Rural,94.71,29.6,smokes,0\\n48069,Female,61,0,0,Yes,Private,Rural,194.53,45,never smoked,0\\n24066,Female,45,0,0,Yes,Private,Urban,72.65,25.6,Unknown,0\\n39242,Male,80,1,1,Yes,Private,Urban,86.68,27.7,formerly smoked,0\\n57618,Female,47,0,0,Yes,Self-employed,Rural,140.39,25.5,never smoked,0\\n14599,Female,3,0,0,No,children,Rural,77.87,18.3,Unknown,0\\n27479,Male,63,0,0,Yes,Self-employed,Rural,104.7,21,formerly smoked,0\\n10238,Female,68,1,0,Yes,Private,Urban,95.82,28.6,never smoked,0\\n49014,Female,76,0,0,Yes,Govt_job,Urban,204.05,23.5,never smoked,0\\n67063,Male,62,0,0,Yes,Self-employed,Urban,130.56,36.1,Unknown,0\\n38488,Female,30,0,0,Yes,Private,Urban,67.78,29.2,smokes,0\\n33298,Female,44,0,0,Yes,Private,Urban,105.29,27.6,formerly smoked,0\\n48739,Male,47,0,0,Yes,Self-employed,Urban,135.19,36,smokes,0\\n52428,Male,25,0,0,No,Private,Urban,116.12,20.4,smokes,0\\n61171,Female,31,0,0,No,Private,Rural,59.63,19.9,never smoked,0\\n40878,Male,71,0,0,Yes,Self-employed,Rural,56.43,29.2,formerly smoked,0\\n61247,Female,32,0,0,No,Private,Rural,199.18,27.9,never smoked,0\\n27799,Male,72,0,0,Yes,Private,Rural,209.26,38.1,formerly smoked,0\\n2824,Female,44,0,0,Yes,Govt_job,Urban,91.21,24.1,never smoked,0\\n12376,Male,63,0,0,Yes,Govt_job,Urban,95.16,37.8,formerly smoked,0\\n72435,Female,37,0,0,Yes,Private,Urban,217.11,29.1,never smoked,0\\n46864,Male,54,0,1,Yes,Govt_job,Urban,222.46,35.7,never smoked,0\\n2019,Male,20,0,0,No,Private,Rural,70.96,N/A,Unknown,0\\n26154,Male,56,0,0,Yes,Private,Rural,82.44,34.5,never smoked,0\\n47972,Female,25,0,0,No,Govt_job,Rural,74.11,34.1,smokes,0\\n47751,Female,19,0,0,No,Private,Urban,131.23,21.1,Unknown,0\\n25405,Male,62,0,0,Yes,Govt_job,Urban,187.52,57.7,never smoked,0\\n34525,Female,27,0,0,No,Private,Rural,83.26,22.2,never smoked,0\\n13755,Male,5,0,0,No,children,Rural,99.07,20.5,Unknown,0\\n56019,Female,20,0,0,No,Private,Urban,76.63,26.2,never smoked,0\\n67942,Male,21,0,0,No,Private,Rural,65.09,23.5,never smoked,0\\n43806,Male,44,0,0,Yes,Private,Urban,142.31,29.1,smokes,0\\n39849,Male,39,1,0,No,Private,Urban,80.99,39.8,Unknown,0\\n7344,Male,38,0,0,Yes,Govt_job,Rural,237.74,21.2,never smoked,0\\n1741,Male,77,0,0,Yes,Private,Urban,74.26,N/A,formerly smoked,0\\n52220,Female,26,0,0,No,Private,Rural,154.08,20.2,formerly smoked,0\\n20129,Male,51,0,0,Yes,Private,Rural,78.29,30.8,never smoked,0\\n61178,Male,39,0,0,Yes,Private,Urban,164.67,33.8,Unknown,0\\n48226,Female,5,0,0,No,children,Rural,59.61,17.1,Unknown,0\\n1151,Female,59,0,0,Yes,Self-employed,Urban,67.75,21.3,formerly smoked,0\\n6672,Male,67,0,0,Yes,Private,Urban,92.73,N/A,never smoked,0\\n10333,Female,45,0,0,Yes,Private,Urban,90.35,22.3,never smoked,0\\n11134,Male,43,0,0,Yes,Private,Rural,77.86,28.9,never smoked,0\\n25199,Female,80,0,0,Yes,Private,Rural,71.88,26.7,never smoked,0\\n66490,Male,42,1,0,Yes,Govt_job,Urban,118.82,41,smokes,0\\n10390,Female,8,0,0,No,children,Urban,67.33,16.7,Unknown,0\\n33144,Female,68,0,0,No,Govt_job,Urban,121.66,29.1,smokes,0\\n72497,Female,5,0,0,No,children,Rural,111.92,23.6,Unknown,0\\n16783,Male,57,0,1,Yes,Self-employed,Urban,92.82,27.8,formerly smoked,0\\n727,Male,44,0,0,Yes,Private,Rural,95.46,31.4,smokes,0\\n51935,Male,16,0,0,No,Never_worked,Urban,59.99,28.2,never smoked,0\\n44177,Female,60,0,0,Yes,Self-employed,Rural,68.96,30.8,Unknown,0\\n2421,Female,58,0,0,Yes,Private,Urban,90.26,36.1,never smoked,0\\n48693,Female,43,0,0,Yes,Private,Rural,91.9,32.7,formerly smoked,0\\n5723,Female,50,0,0,Yes,Private,Urban,91.08,26.4,never smoked,0\\n29470,Female,1.48,0,0,No,children,Rural,118.55,20.7,Unknown,0\\n71590,Female,5,0,0,No,children,Rural,102.04,18.5,Unknown,0\\n16600,Male,9,0,0,No,children,Rural,65.52,33.5,Unknown,0\\n28309,Female,67,0,0,Yes,Private,Urban,82.09,14.1,never smoked,0\\n41911,Female,21,0,0,Yes,Private,Rural,149.9,23.4,Unknown,0\\n3390,Female,36,0,0,Yes,Private,Rural,100.33,23.2,never smoked,0\\n31806,Female,70,0,0,Yes,Private,Urban,91.25,36,Unknown,0\\n68750,Male,57,0,0,Yes,Private,Rural,89.81,35.6,never smoked,0\\n32840,Female,52,0,0,Yes,Private,Urban,97.32,21.8,smokes,0\\n49797,Female,28,0,0,No,Private,Rural,75.53,34.9,never smoked,0\\n72096,Female,41,0,0,Yes,Private,Rural,121.44,20.4,never smoked,0\\n13503,Male,81,0,0,Yes,Self-employed,Urban,83.52,25,never smoked,0\\n41536,Female,33,0,0,Yes,Govt_job,Rural,57.92,22.3,Unknown,0\\n17441,Female,31,0,0,No,Self-employed,Rural,75.27,27.3,never smoked,0\\n62238,Female,42,0,0,No,Private,Urban,80.24,28.9,never smoked,0\\n737,Male,10,0,0,No,children,Urban,88.69,30.4,Unknown,0\\n4627,Male,34,0,0,No,Private,Urban,69.09,36.9,formerly smoked,0\\n47208,Female,70,0,0,Yes,Self-employed,Rural,62.67,27.7,never smoked,0\\n6844,Male,33,0,0,Yes,Private,Urban,98.74,44.4,never smoked,0\\n60001,Female,58,0,0,Yes,Private,Rural,56.51,28.2,smokes,0\\n44503,Female,25,0,0,No,Private,Rural,65.95,35,never smoked,0\\n44938,Female,1.4,0,0,No,children,Urban,129.07,20.6,Unknown,0\\n40371,Female,47,0,0,Yes,Private,Urban,62.47,26.5,never smoked,0\\n39011,Female,14,0,0,No,children,Urban,69.82,25.1,never smoked,0\\n1460,Female,82,0,0,Yes,Private,Urban,99.68,22.2,Unknown,0\\n48364,Male,52,0,0,Yes,Govt_job,Urban,223.35,27.3,formerly smoked,0\\n30285,Male,72,0,1,Yes,Self-employed,Rural,74.36,27.3,never smoked,0\\n21472,Male,52,0,1,Yes,Self-employed,Rural,102.97,41.9,formerly smoked,0\\n71182,Female,61,1,0,Yes,Govt_job,Urban,153.38,38.8,never smoked,0\\n33412,Female,15,0,0,No,Private,Rural,87.1,18.3,never smoked,0\\n16061,Female,1.56,0,0,No,children,Urban,113.4,19.5,Unknown,0\\n60266,Male,6,0,0,No,children,Rural,94.88,17.2,Unknown,0\\n70965,Male,3,0,0,No,children,Urban,82.73,20.8,Unknown,0\\n56736,Male,18,0,0,No,Private,Rural,67.8,23.8,Unknown,0\\n6537,Female,53,0,0,Yes,Self-employed,Urban,84.85,24.7,never smoked,0\\n41827,Male,58,0,0,Yes,Private,Rural,135.89,23.1,formerly smoked,0\\n49480,Female,31,0,0,No,Private,Urban,106.13,22.4,never smoked,0\\n36704,Female,29,0,0,Yes,Self-employed,Rural,74.33,29.9,smokes,0\\n8884,Female,5,0,0,No,children,Rural,109.4,20,Unknown,0\\n49775,Male,40,0,0,Yes,Private,Rural,75.4,28.7,Unknown,0\\n25777,Male,75,0,0,Yes,Private,Rural,87.69,26.2,formerly smoked,0\\n2070,Male,52,0,0,Yes,Private,Urban,95.85,29.6,smokes,0\\n15752,Male,39,0,0,Yes,Private,Urban,90.36,30.8,formerly smoked,0\\n45915,Female,40,0,0,No,Private,Rural,63.45,32.7,formerly smoked,0\\n48775,Female,78,1,0,Yes,Self-employed,Rural,201.07,21.8,Unknown,0\\n65697,Female,39,0,0,Yes,Private,Urban,122.91,35.7,never smoked,0\\n65229,Female,17,0,0,No,Private,Rural,55.41,25.4,Unknown,0\\n56889,Male,45,1,0,Yes,Private,Urban,60.99,32.8,Unknown,0\\n6596,Male,0.56,0,0,No,children,Rural,111.77,21.1,Unknown,0\\n46577,Female,13,0,0,No,Private,Urban,77.63,31.7,never smoked,0\\n63455,Male,26,0,0,Yes,Private,Urban,70.61,20,never smoked,0\\n21724,Female,42,0,0,Yes,Self-employed,Urban,124.34,34.7,formerly smoked,0\\n29863,Male,44,0,0,No,Private,Urban,103.44,28,never smoked,0\\n69249,Female,3,0,0,No,children,Urban,124.5,16.4,Unknown,0\\n8968,Female,42,0,0,Yes,Private,Urban,208.06,N/A,smokes,0\\n20310,Male,25,0,0,No,Govt_job,Urban,75.5,24.6,never smoked,0\\n11450,Female,41,0,0,Yes,Self-employed,Urban,98.85,24.6,never smoked,0\\n31999,Male,51,0,1,Yes,Private,Rural,96.06,30.3,Unknown,0\\n34133,Female,20,0,0,No,Private,Rural,93.74,23.7,Unknown,0\\n44202,Female,25,0,0,Yes,Private,Urban,65.6,33.5,never smoked,0\\n72311,Male,18,0,0,No,Private,Urban,113.24,24.9,Unknown,0\\n18704,Female,37,0,0,Yes,Private,Rural,94.77,48.9,Unknown,0\\n36518,Female,51,0,0,Yes,Private,Urban,145.22,31.4,Unknown,0\\n35651,Male,2,0,0,No,children,Urban,112.92,18.4,Unknown,0\\n13749,Female,38,0,0,Yes,Private,Rural,84.79,24.2,formerly smoked,0\\n21521,Male,64,0,1,Yes,Private,Urban,103.28,34.3,smokes,0\\n27163,Female,60,1,0,Yes,Private,Urban,109,N/A,Unknown,0\\n8882,Male,22,0,0,No,Govt_job,Rural,96.18,25.1,never smoked,0\\n32016,Male,71,1,0,Yes,Private,Rural,186.95,33.3,never smoked,0\\n14287,Female,32,0,0,Yes,Private,Urban,68.66,22.6,Unknown,0\\n60139,Female,32,0,0,Yes,Self-employed,Rural,128.72,26.3,smokes,0\\n2447,Female,63,0,0,Yes,Private,Urban,85.04,29.7,formerly smoked,0\\n42500,Male,0.24,0,0,No,children,Rural,146.97,18.5,Unknown,0\\n44391,Male,54,0,0,Yes,Private,Urban,65.69,21.4,never smoked,0\\n12741,Female,25,0,0,Yes,Private,Rural,97.52,45.5,formerly smoked,0\\n15418,Female,80,0,0,Yes,Self-employed,Rural,90.43,34.2,never smoked,0\\n69482,Female,31,0,0,Yes,Govt_job,Urban,81.71,32.7,Unknown,0\\n32270,Male,53,0,0,Yes,Private,Rural,198.24,38.1,never smoked,0\\n50983,Male,35,0,0,Yes,Private,Rural,90.51,26.7,never smoked,0\\n6493,Male,31,0,0,No,Private,Urban,97.78,22.6,smokes,0\\n45399,Male,60,0,0,Yes,Private,Urban,80.74,27.7,Unknown,0\\n67099,Male,0.56,0,0,No,children,Rural,57.02,20.7,Unknown,0\\n19585,Female,21,0,0,No,Private,Rural,93,25.7,never smoked,0\\n26247,Female,78,0,0,Yes,Private,Rural,95.37,17.3,Unknown,0\\n25818,Male,59,0,0,Yes,Govt_job,Rural,96.25,23.3,formerly smoked,0\\n34261,Male,0.64,0,0,No,children,Rural,86.74,16.2,Unknown,0\\n64128,Male,10,0,0,No,children,Urban,63.08,20.5,smokes,0\\n62817,Male,60,0,0,Yes,Private,Urban,129.16,33.6,smokes,0\\n69339,Male,11,0,0,No,children,Urban,99.79,20.2,Unknown,0\\n25919,Male,48,1,0,Yes,Self-employed,Urban,83.34,49.3,never smoked,0\\n71978,Female,50,0,0,Yes,Private,Urban,95.01,26.2,formerly smoked,0\\n1473,Male,69,1,0,Yes,Private,Urban,229.21,30.1,smokes,0\\n66546,Female,20,0,0,No,Private,Urban,80.08,25.1,never smoked,0\\n56584,Female,22,0,0,No,Private,Rural,62,32.7,smokes,0\\n38316,Male,55,0,0,Yes,Private,Rural,118.69,26.4,Unknown,0\\n15647,Female,57,0,0,No,Private,Rural,77.57,21,Unknown,0\\n59933,Female,29,0,0,No,Private,Rural,108.75,24.1,Unknown,0\\n3429,Female,32,0,0,No,Govt_job,Urban,108.23,20.4,Unknown,0\\n60963,Female,54,0,0,Yes,Private,Rural,151.33,30.9,formerly smoked,0\\n67689,Male,37,0,0,Yes,Self-employed,Rural,82.43,39.1,Unknown,0\\n31689,Female,58,0,0,Yes,Private,Rural,107.17,27.7,Unknown,0\\n23240,Female,41,0,0,Yes,Private,Rural,91.46,29.5,never smoked,0\\n30850,Male,72,0,0,Yes,Private,Urban,81.05,30.3,Unknown,0\\n38920,Male,0.48,0,0,No,children,Urban,73.02,N/A,Unknown,0\\n66080,Female,32,0,0,No,Private,Urban,114.37,37.8,Unknown,0\\n57263,Female,54,0,0,Yes,Private,Urban,100.29,30.2,never smoked,0\\n60126,Female,79,0,0,Yes,Private,Urban,68.37,24.2,smokes,0\\n64393,Male,56,0,0,No,Self-employed,Rural,87.95,25.2,never smoked,0\\n69285,Female,45,0,0,Yes,Private,Urban,73.27,22.2,smokes,0\\n24428,Male,6,0,0,No,children,Rural,131.43,17.7,Unknown,0\\n59642,Female,45,0,0,Yes,Private,Urban,107.29,29.6,never smoked,0\\n12064,Male,60,0,0,Yes,Private,Rural,68.24,32.2,Unknown,0\\n59737,Female,65,0,0,Yes,Private,Urban,74.01,28.7,smokes,0\\n19352,Female,57,0,0,Yes,Private,Urban,95.4,19.5,Unknown,0\\n61903,Male,58,0,0,No,Govt_job,Rural,95.75,38.5,smokes,0\\n47701,Male,8,0,0,No,children,Urban,104.51,20.6,Unknown,0\\n15225,Male,18,0,0,No,Private,Rural,108.87,21.5,Unknown,0\\n66431,Male,49,0,0,Yes,Private,Urban,209.06,43.8,Unknown,0\\n57236,Male,2,0,0,No,children,Rural,86.57,18,Unknown,0\\n48453,Female,52,0,0,Yes,Private,Urban,120.25,28.2,Unknown,0\\n8031,Female,63,0,0,Yes,Self-employed,Rural,85.51,26.6,smokes,0\\n39139,Female,57,0,0,Yes,Private,Rural,84.18,35.5,never smoked,0\\n4838,Female,50,0,0,Yes,Govt_job,Urban,82.37,30.7,never smoked,0\\n22689,Male,12,0,0,No,children,Rural,96.15,18.7,Unknown,0\\n37752,Female,35,0,0,Yes,Private,Rural,74.55,22.4,never smoked,0\\n32320,Female,35,0,0,Yes,Self-employed,Urban,114.45,25.2,smokes,0\\n14889,Male,64,0,0,Yes,Govt_job,Rural,113.68,24.2,never smoked,0\\n13964,Female,42,0,0,Yes,Private,Rural,107.91,20.5,never smoked,0\\n31746,Female,62,0,0,Yes,Private,Rural,83.85,24.5,never smoked,0\\n17492,Female,3,0,0,No,children,Urban,101.3,24.8,Unknown,0\\n1499,Female,43,0,0,Yes,Govt_job,Rural,72.13,42.6,never smoked,0\\n34396,Female,52,1,0,Yes,Private,Urban,94.98,23.8,never smoked,0\\n36750,Male,64,1,0,Yes,Private,Rural,228.42,42.3,formerly smoked,0\\n68816,Male,59,0,0,Yes,Private,Rural,93.9,42.2,never smoked,0\\n16129,Female,81,0,0,Yes,Self-employed,Urban,93.13,26.1,Unknown,0\\n64006,Female,15,0,0,No,Private,Urban,121.6,22.8,never smoked,0\\n51845,Male,50,0,0,Yes,Govt_job,Rural,84.4,42.3,formerly smoked,0\\n30692,Male,73,0,0,Yes,Private,Rural,82.13,28.5,never smoked,0\\n65712,Male,19,0,0,No,Private,Urban,73.33,23,never smoked,0\\n42161,Female,30,0,0,Yes,Private,Urban,75.88,32.8,Unknown,0\\n16938,Female,40,0,0,Yes,Self-employed,Rural,212.97,49.8,formerly smoked,0\\n16113,Female,47,0,0,Yes,Govt_job,Rural,100.41,23.8,never smoked,0\\n29388,Female,66,0,0,Yes,Private,Urban,202.05,31.7,smokes,0\\n65109,Male,47,0,0,Yes,Private,Urban,71.42,34.9,smokes,0\\n61242,Female,41,1,0,Yes,Govt_job,Rural,107.5,54,never smoked,0\\n65252,Female,63,0,0,Yes,Govt_job,Rural,55.57,26.8,formerly smoked,0\\n49615,Female,12,0,0,No,children,Urban,58.14,21.3,never smoked,0\\n63511,Male,1.32,0,0,No,children,Rural,78.53,19.8,Unknown,0\\n14089,Female,46,0,0,Yes,Private,Urban,78.79,42.4,smokes,0\\n16987,Female,8,0,0,No,children,Urban,96.62,16.4,Unknown,0\\n53399,Male,74,0,0,Yes,Private,Rural,65.28,28.2,never smoked,0\\n36946,Male,74,0,0,Yes,Private,Rural,92.67,26.3,formerly smoked,0\\n55522,Female,4,0,0,No,children,Rural,206.25,17,Unknown,0\\n27954,Female,26,0,0,No,Private,Urban,114.18,23.3,never smoked,0\\n5355,Male,63,0,0,Yes,Govt_job,Rural,231.69,56.1,formerly smoked,0\\n69069,Female,48,0,1,No,Private,Rural,101.89,25.1,smokes,0\\n11539,Female,24,1,0,No,Private,Urban,107.22,35.3,smokes,0\\n16847,Male,47,0,0,No,Private,Rural,101.99,36.3,never smoked,0\\n15873,Male,70,0,0,Yes,Private,Rural,72.56,30.4,formerly smoked,0\\n15415,Male,41,1,1,Yes,Private,Urban,94.47,43.9,never smoked,0\\n22891,Female,42,0,0,Yes,Self-employed,Urban,98.76,26.4,smokes,0\\n7394,Female,57,1,0,No,Private,Rural,116.93,28.3,never smoked,0\\n29915,Female,51,0,0,No,Private,Rural,219.96,42.3,never smoked,0\\n62607,Male,15,0,0,No,Private,Urban,75.77,38,never smoked,0\\n24404,Male,11,0,0,No,children,Urban,124.35,32.7,Unknown,0\\n69666,Female,27,0,0,Yes,Self-employed,Urban,88.97,28.8,never smoked,0\\n54997,Female,53,0,0,Yes,Self-employed,Rural,72.49,38.5,never smoked,0\\n6199,Female,52,0,0,Yes,Govt_job,Rural,107.27,30.1,Unknown,0\\n4635,Female,68,0,0,Yes,Private,Rural,97.96,31.3,never smoked,0\\n3305,Male,65,0,0,Yes,Private,Urban,197.69,28.4,smokes,0\\n24342,Female,23,0,0,No,Private,Rural,112.3,26.6,Unknown,0\\n65093,Female,43,0,0,Yes,Self-employed,Urban,75.77,20.4,formerly smoked,0\\n46261,Male,55,0,0,Yes,Private,Urban,76.51,34.7,Unknown,0\\n42624,Female,52,0,0,Yes,Private,Urban,93.14,32.5,never smoked,0\\n24735,Female,21,0,0,No,Private,Rural,80.84,30.7,Unknown,0\\n50671,Male,78,1,1,Yes,Self-employed,Rural,199.88,29.6,formerly smoked,0\\n1679,Male,35,0,0,Yes,Private,Rural,77.48,N/A,formerly smoked,0\\n66680,Female,49,1,0,Yes,Private,Rural,65.34,39.4,never smoked,0\\n34248,Male,50,1,0,No,Private,Urban,81.96,N/A,formerly smoked,0\\n65336,Female,27,0,0,Yes,Private,Urban,98.71,26.1,formerly smoked,0\\n68333,Female,52,1,0,No,Private,Rural,170.22,27.2,formerly smoked,0\\n60210,Female,22,0,0,No,Private,Urban,73.5,41.3,smokes,0\\n11573,Female,19,0,0,No,Private,Rural,72.39,N/A,smokes,0\\n67890,Male,77,0,1,Yes,Private,Urban,102.96,20.9,formerly smoked,0\\n49254,Male,57,1,0,Yes,Private,Urban,80.72,41.5,formerly smoked,0\\n9199,Male,13,0,0,No,Self-employed,Urban,74.19,31.1,formerly smoked,0\\n35402,Male,14,0,0,No,Private,Urban,77.12,24.5,formerly smoked,0\\n25996,Female,29,0,0,Yes,Private,Urban,81.2,23,Unknown,0\\n8345,Female,49,0,0,Yes,Private,Rural,114.76,24.7,never smoked,0\\n63219,Male,1.24,0,0,No,children,Urban,109.97,19.3,Unknown,0\\n8770,Male,21,0,0,No,Self-employed,Urban,92.87,37,never smoked,0\\n22370,Male,36,1,0,No,Govt_job,Urban,113.05,31,smokes,0\\n25930,Male,42,0,0,Yes,Private,Urban,68.24,33.1,formerly smoked,0\\n33478,Female,56,0,0,No,Private,Rural,74.35,26.6,smokes,0\\n23009,Male,46,0,0,Yes,Private,Urban,91.08,27.7,never smoked,0\\n24885,Male,79,0,1,Yes,Self-employed,Urban,88.83,40.3,smokes,0\\n58591,Female,25,0,0,No,Private,Rural,134.33,19.5,Unknown,0\\n44777,Male,67,0,0,Yes,Private,Rural,208.78,26.7,Unknown,0\\n46363,Male,37,0,0,Yes,Private,Rural,66.17,26.1,never smoked,0\\n36377,Female,44,0,0,Yes,Private,Rural,222.29,38.2,never smoked,0\\n15440,Female,36,0,0,Yes,Private,Rural,114.16,21.3,smokes,0\\n56420,Male,17,1,0,No,Private,Rural,61.67,97.6,Unknown,0\\n39531,Male,50,1,0,Yes,Private,Rural,220.36,40.9,formerly smoked,0\\n55220,Male,53,0,0,Yes,Private,Urban,76.03,27.3,never smoked,0\\n30731,Female,39,0,0,No,Self-employed,Urban,73.06,20.9,never smoked,0\\n14479,Female,71,0,1,Yes,Private,Urban,187.88,29.2,formerly smoked,0\\n40471,Female,18,0,0,No,Private,Urban,79.89,17.9,Unknown,0\\n7384,Male,55,0,0,No,Self-employed,Rural,79.02,38,Unknown,0\\n53422,Male,52,0,0,Yes,Private,Rural,191.66,26.1,smokes,0\\n59745,Female,27,0,0,Yes,Private,Urban,76.74,53.9,Unknown,0\\n24721,Male,24,0,0,No,Private,Urban,72.29,22.2,Unknown,0\\n9644,Male,72,0,0,Yes,Private,Urban,92.59,24.6,formerly smoked,0\\n50837,Male,41,0,0,Yes,Self-employed,Rural,80.42,33.4,formerly smoked,0\\n67941,Female,29,0,0,No,Self-employed,Rural,62.47,34.4,formerly smoked,0\\n43590,Female,26,0,0,Yes,Private,Rural,63.94,17.6,never smoked,0\\n29014,Female,23,0,0,Yes,Private,Rural,77.73,19.2,never smoked,0\\n66051,Male,43,0,0,Yes,Self-employed,Rural,115.79,31.8,Unknown,0\\n70783,Female,43,0,0,Yes,Private,Urban,96.3,28.1,smokes,0\\n10716,Female,49,0,0,Yes,Private,Rural,107.46,32.1,never smoked,0\\n7868,Male,13,0,0,No,children,Rural,108.33,17.4,never smoked,0\\n58350,Female,26,0,0,No,Govt_job,Rural,89.37,20.2,never smoked,0\\n18927,Female,10,0,0,No,children,Urban,93.64,23.4,Unknown,0\\n19550,Male,39,0,0,Yes,Private,Urban,217.75,39.5,never smoked,0\\n31372,Female,41,0,0,Yes,Private,Rural,83.44,21.5,Unknown,0\\n55262,Male,25,0,0,Yes,Private,Rural,93.88,24.3,smokes,0\\n50238,Male,10,0,0,No,children,Urban,55.34,15.3,Unknown,0\\n2868,Female,54,0,0,Yes,Govt_job,Rural,102.61,32.4,Unknown,0\\n51343,Male,7,0,0,No,children,Rural,62.08,16.1,Unknown,0\\n56324,Female,53,0,0,Yes,Self-employed,Rural,81.76,34.3,formerly smoked,0\\n42047,Female,55,0,0,Yes,Self-employed,Urban,59.2,43.8,never smoked,0\\n36486,Male,6,0,0,No,children,Urban,55.61,19.6,Unknown,0\\n62456,Female,72,0,0,Yes,Self-employed,Urban,226.88,36.7,formerly smoked,0\\n64980,Female,42,0,0,Yes,Govt_job,Urban,65.66,33.7,never smoked,0\\n65962,Male,50,0,0,Yes,Private,Urban,58.7,38.9,smokes,0\\n47521,Female,55,1,0,Yes,Govt_job,Urban,186.4,28,never smoked,0\\n41501,Female,47,0,0,Yes,Govt_job,Urban,122.32,23.9,Unknown,0\\n47582,Male,3,0,0,No,children,Urban,59.05,16.6,Unknown,0\\n63938,Female,49,0,0,Yes,Self-employed,Urban,149.13,42.9,smokes,0\\n49627,Female,12,0,0,No,children,Urban,82.39,17.1,never smoked,0\\n61291,Male,28,0,0,Yes,Private,Rural,169.49,27.2,Unknown,0\\n53032,Male,40,0,0,Yes,Private,Rural,80.25,30.3,formerly smoked,0\\n45040,Male,55,0,0,Yes,Private,Urban,203.81,33.9,formerly smoked,0\\n56791,Male,9,0,0,No,children,Urban,170.76,20,Unknown,0\\n37320,Female,77,0,0,Yes,Private,Rural,80.85,19.4,Unknown,0\\n72514,Male,18,0,0,No,Private,Rural,120.58,21.5,never smoked,0\\n3842,Male,73,0,0,Yes,Private,Rural,86.57,28.5,formerly smoked,0\\n38143,Female,67,1,0,Yes,Private,Urban,90.01,34.4,smokes,0\\n54296,Male,58,0,0,Yes,Self-employed,Rural,68.84,43.7,formerly smoked,0\\n48435,Female,2,0,0,No,children,Rural,155.14,13.7,Unknown,0\\n42212,Female,38,0,0,Yes,Private,Urban,158.48,33.7,formerly smoked,0\\n47607,Male,5,0,0,No,children,Rural,92.56,18,Unknown,0\\n16535,Female,34,0,0,No,Private,Rural,90.15,27.9,formerly smoked,0\\n66677,Male,78,0,0,Yes,Private,Rural,80.09,21.8,never smoked,0\\n57270,Female,57,0,0,Yes,Private,Rural,189.44,35.8,never smoked,0\\n22414,Female,17,0,0,No,Private,Rural,70.03,23.1,smokes,0\\n63401,Female,71,0,0,Yes,Self-employed,Rural,249.29,30.3,smokes,0\\n32252,Female,19,0,0,No,Private,Rural,72.52,32,Unknown,0\\n17950,Male,56,0,0,Yes,Private,Urban,96.93,25,smokes,0\\n53990,Male,64,0,1,Yes,Private,Urban,211.35,30.7,formerly smoked,0\\n20565,Male,13,0,0,No,children,Rural,85.87,24.3,Unknown,0\\n59993,Male,40,0,0,Yes,Private,Rural,60.96,11.5,never smoked,0\\n42830,Male,80,0,1,Yes,Private,Urban,120.09,30.7,never smoked,0\\n34721,Female,62,1,0,Yes,Govt_job,Urban,92.13,33.7,never smoked,0\\n5157,Male,79,1,0,Yes,Self-employed,Urban,83.07,26.5,smokes,0\\n48851,Female,9,0,0,No,children,Rural,77.67,17.6,Unknown,0\\n26084,Female,77,1,0,Yes,Self-employed,Urban,109.51,N/A,never smoked,0\\n23413,Female,26,0,0,No,Private,Urban,97.24,22.5,never smoked,0\\n49970,Male,1.72,0,0,No,children,Rural,127.29,18.5,Unknown,0\\n72414,Male,16,0,0,No,Private,Urban,134.8,22.4,never smoked,0\\n21374,Female,40,0,0,Yes,Private,Urban,74.65,25.3,formerly smoked,0\\n69623,Male,46,0,0,Yes,Private,Urban,85.84,37.3,never smoked,0\\n40378,Male,45,1,0,Yes,Self-employed,Urban,90.43,39.7,smokes,0\\n4671,Female,59,0,0,No,Private,Urban,74.35,28,never smoked,0\\n17295,Female,31,0,0,Yes,Self-employed,Urban,206.59,41.4,smokes,0\\n55466,Female,69,0,1,Yes,Private,Urban,196.33,25.3,never smoked,0\\n65419,Male,73,0,1,Yes,Govt_job,Rural,70.23,28.1,never smoked,0\\n34448,Female,56,0,0,Yes,Self-employed,Urban,242.94,41.2,never smoked,0\\n14406,Female,80,0,1,Yes,Self-employed,Rural,103.06,28.8,never smoked,0\\n924,Female,60,0,0,Yes,Govt_job,Urban,80.86,31,smokes,0\\n71339,Female,40,0,0,Yes,Govt_job,Urban,114.32,28.3,smokes,0\\n31443,Female,30,0,0,Yes,Govt_job,Urban,83.91,23.9,Unknown,0\\n49672,Female,66,0,0,Yes,Govt_job,Rural,152.02,44.2,formerly smoked,0\\n394,Male,78,1,0,Yes,Self-employed,Rural,75.19,27.6,never smoked,0\\n63362,Female,37,0,0,Yes,Private,Urban,60.61,35.7,formerly smoked,0\\n59928,Female,41,0,0,Yes,Self-employed,Rural,89.14,37.4,formerly smoked,0\\n62289,Female,34,0,0,Yes,Private,Urban,97.23,27.5,Unknown,0\\n59464,Female,18,0,0,No,Private,Rural,135.19,23.4,never smoked,0\\n18680,Male,69,0,0,Yes,Self-employed,Urban,78.48,25.8,formerly smoked,0\\n19439,Male,67,0,1,Yes,Private,Rural,97.24,N/A,Unknown,0\\n27017,Male,28,0,0,No,Private,Urban,75.92,22.8,never smoked,0\\n8277,Female,3,0,0,No,children,Urban,93.3,19.5,Unknown,0\\n14099,Female,57,0,0,Yes,Govt_job,Urban,97.39,38,Unknown,0\\n37128,Male,34,0,0,Yes,Private,Rural,134.61,23.4,never smoked,0\\n57774,Male,50,0,0,Yes,Private,Rural,104.02,29.5,never smoked,0\\n64033,Male,55,0,1,No,Private,Urban,56.9,28.2,never smoked,0\\n72701,Male,2,0,0,No,children,Rural,112.66,14.2,Unknown,0\\n59130,Female,27,0,0,No,Private,Rural,226.75,28.9,Unknown,0\\n48472,Male,57,0,0,Yes,Private,Rural,76.28,31.4,formerly smoked,0\\n67956,Female,73,0,0,Yes,Private,Urban,90.01,32.4,formerly smoked,0\\n35602,Female,52,0,0,Yes,Govt_job,Rural,107.84,22,formerly smoked,0\\n13818,Female,65,0,0,Yes,Private,Rural,71.06,26.4,never smoked,0\\n34661,Male,48,1,0,Yes,Private,Urban,185,26.1,never smoked,0\\n64895,Male,54,1,0,Yes,Self-employed,Rural,104.42,37.6,smokes,0\\n21969,Male,8,0,0,No,children,Urban,89.57,18.8,Unknown,0\\n38320,Male,45,1,0,Yes,Private,Rural,136.2,23.8,Unknown,0\\n42040,Female,48,0,0,Yes,Govt_job,Urban,128.23,49.4,never smoked,0\\n31857,Female,77,0,0,Yes,Self-employed,Rural,104.23,23.8,smokes,0\\n64494,Female,34,0,0,Yes,Private,Urban,133.82,20.4,never smoked,0\\n34764,Female,33,0,0,Yes,Private,Rural,80.82,40.3,never smoked,0\\n20673,Male,39,0,0,Yes,Private,Rural,102.35,23.6,never smoked,0\\n64817,Male,39,0,0,Yes,Self-employed,Rural,88.48,34.3,never smoked,0\\n72450,Male,40,0,0,Yes,Private,Rural,88.81,32.7,Unknown,0\\n13988,Female,46,0,0,Yes,Private,Rural,75.09,28.7,never smoked,0\\n54985,Female,1,0,0,No,children,Urban,199.83,24.5,Unknown,0\\n6049,Female,5,0,0,No,children,Rural,73.69,24.8,Unknown,0\\n13380,Male,14,0,0,No,children,Urban,111.27,23.2,Unknown,0\\n64371,Female,49,0,0,Yes,Self-employed,Rural,68.44,23,smokes,0\\n50295,Female,45,0,0,Yes,Private,Urban,65.36,39.3,never smoked,0\\n14404,Female,13,0,0,No,children,Urban,94.12,20.1,never smoked,0\\n58645,Female,76,0,0,Yes,Private,Rural,96.24,25.4,never smoked,0\\n19419,Male,14,0,0,No,children,Rural,91.25,23.8,Unknown,0\\n24518,Female,20,0,0,No,Private,Rural,77.29,28.4,never smoked,0\\n53494,Female,9,0,0,No,children,Rural,125.09,15.4,Unknown,0\\n42599,Female,78,0,1,Yes,Private,Urban,107.18,28.2,never smoked,0\\n68370,Male,49,0,0,Yes,Private,Urban,130.07,26,never smoked,0\\n57813,Female,55,0,0,Yes,Private,Urban,57.3,41.5,never smoked,0\\n1329,Female,43,0,0,No,Govt_job,Rural,101.35,32.2,never smoked,0\\n15255,Female,16,0,0,No,Private,Rural,94.03,25.7,never smoked,0\\n65680,Male,58,0,1,Yes,Self-employed,Urban,227.81,33,formerly smoked,0\\n32974,Male,67,0,0,Yes,Govt_job,Urban,66.67,35,smokes,0\\n5863,Female,71,0,0,Yes,Private,Urban,240.81,27.4,never smoked,0\\n10584,Male,8,0,0,No,children,Urban,88.02,16.4,Unknown,0\\n38675,Female,18,0,0,No,Private,Urban,152.87,31.5,Unknown,0\\n47600,Female,47,0,0,Yes,Private,Urban,96.04,29.2,Unknown,0\\n48246,Male,59,0,0,Yes,Private,Urban,60.35,25.9,formerly smoked,0\\n61743,Male,28,0,0,No,Govt_job,Urban,118.66,32.3,never smoked,0\\n3879,Female,20,0,0,No,Private,Urban,89.03,N/A,smokes,0\\n58086,Male,67,0,0,Yes,Private,Urban,58.51,30.4,formerly smoked,0\\n53957,Male,71,0,0,Yes,Self-employed,Urban,96.04,45.1,formerly smoked,0\\n40137,Female,56,0,0,Yes,Self-employed,Rural,110.92,25.9,Unknown,0\\n70500,Female,44,0,0,No,Private,Rural,92.72,36.6,never smoked,0\\n35085,Female,6,0,0,No,children,Rural,108.23,18.6,Unknown,0\\n43872,Female,78,0,0,Yes,Private,Rural,56.34,27.5,Unknown,0\\n62951,Female,32,0,0,Yes,Private,Rural,61.83,31.3,never smoked,0\\n43244,Female,40,0,0,Yes,Private,Rural,131.99,37.5,never smoked,0\\n31198,Female,63,0,0,Yes,Self-employed,Rural,136.81,23.1,smokes,0\\n23223,Male,51,0,0,Yes,Private,Rural,239.28,35,never smoked,0\\n38474,Male,22,0,0,Yes,Govt_job,Urban,131.3,27,never smoked,0\\n4591,Female,82,0,0,Yes,Self-employed,Rural,117.75,29.8,never smoked,0\\n1451,Female,17,0,0,No,Private,Urban,78.46,23.5,Unknown,0\\n37150,Female,34,0,0,Yes,Private,Rural,83.53,48.5,formerly smoked,0\\n65632,Male,42,0,0,Yes,Private,Rural,145.5,31.8,formerly smoked,0\\n62834,Female,32,0,0,Yes,Private,Urban,88.33,20,Unknown,0\\n21826,Male,73,0,0,Yes,Self-employed,Rural,101.25,29.4,formerly smoked,0\\n21036,Female,47,0,0,Yes,Private,Urban,131.43,24.3,never smoked,0\\n55566,Female,34,0,0,Yes,Private,Rural,231.5,45.4,never smoked,0\\n46923,Male,64,0,1,Yes,Private,Rural,82.89,29.5,never smoked,0\\n63990,Male,52,1,0,Yes,Self-employed,Rural,192.37,49.2,never smoked,0\\n2265,Male,49,0,0,Yes,Private,Rural,79.64,N/A,smokes,0\\n2860,Male,55,0,0,Yes,Private,Rural,82.88,29.4,Unknown,0\\n15964,Female,64,1,0,Yes,Private,Rural,99.4,29.1,never smoked,0\\n46483,Male,23,0,0,No,Private,Urban,77.75,38.8,smokes,0\\n33284,Male,18,0,0,No,Private,Rural,75.03,23.4,never smoked,0\\n61895,Female,65,0,0,Yes,Private,Rural,220.47,48.7,never smoked,0\\n48875,Male,12,0,0,No,children,Rural,196.91,19.7,Unknown,0\\n36589,Female,61,0,0,Yes,Self-employed,Urban,180.8,20.3,never smoked,0\\n28651,Male,66,0,0,Yes,Private,Urban,247.48,33.5,smokes,0\\n45033,Male,59,0,0,Yes,Govt_job,Urban,216,36.7,smokes,0\\n32166,Male,47,1,0,Yes,Private,Urban,75.64,24.4,never smoked,0\\n34188,Female,47,0,0,Yes,Govt_job,Urban,95.07,38.8,formerly smoked,0\\n58359,Female,71,1,0,Yes,Private,Urban,129.97,44.2,smokes,0\\n59347,Male,62,0,0,Yes,Private,Urban,124.26,33.4,never smoked,0\\n12849,Female,28,0,0,Yes,Private,Urban,87.92,32.5,Unknown,0\\n6104,Female,7,0,0,No,children,Rural,85.15,15.1,Unknown,0\\n29694,Female,68,0,0,Yes,Private,Rural,95.36,21.5,smokes,0\\n30806,Male,37,0,0,Yes,Self-employed,Urban,87.16,30.4,formerly smoked,0\\n20316,Female,75,0,0,Yes,Govt_job,Rural,219.39,33.4,smokes,0\\n58253,Male,5,0,0,No,children,Urban,71.92,18.2,Unknown,0\\n57679,Male,1.08,0,0,No,children,Urban,167.66,18.7,Unknown,0\\n39956,Female,34,0,0,No,Private,Rural,87.21,38.4,Unknown,0\\n7683,Male,49,0,0,Yes,Self-employed,Rural,220.47,36.4,smokes,0\\n9197,Female,8,0,0,No,children,Urban,80.47,20.6,Unknown,0\\n58543,Female,50,0,0,Yes,Govt_job,Urban,89.95,48.9,formerly smoked,0\\n6968,Male,2,0,0,No,children,Rural,111.32,18.2,Unknown,0\\n35838,Female,1.16,0,0,No,children,Urban,65.01,17,Unknown,0\\n57549,Female,76,0,0,Yes,Self-employed,Urban,110.07,31.8,never smoked,0\\n59200,Male,18,0,0,No,Private,Urban,60.56,33,never smoked,0\\n24289,Male,82,0,0,Yes,Private,Urban,89.83,24.7,smokes,0\\n6206,Female,67,0,0,Yes,Self-employed,Rural,90.35,28.1,Unknown,0\\n28227,Female,27,0,0,Yes,Private,Urban,71.5,40.3,smokes,0\\n35229,Male,57,0,0,Yes,Govt_job,Urban,71.71,35.2,smokes,0\\n23176,Female,51,1,0,Yes,Private,Urban,173.96,31.2,formerly smoked,0\\n3045,Male,68,1,0,Yes,Private,Urban,96.06,37.6,never smoked,0\\n22386,Female,56,0,0,Yes,Private,Urban,113.2,38.7,smokes,0\\n1077,Male,77,0,1,Yes,Govt_job,Rural,106.03,N/A,Unknown,0\\n57903,Female,52,1,0,Yes,Self-employed,Rural,111.38,N/A,smokes,0\\n22108,Female,18,0,0,No,Private,Rural,73.29,28.1,smokes,0\\n55982,Female,63,0,0,Yes,Self-employed,Urban,65.71,29.2,smokes,0\\n55465,Female,31,0,0,Yes,Private,Rural,60.41,31.1,Unknown,0\\n29258,Female,37,0,0,No,Private,Urban,89.11,24.1,never smoked,0\\n38432,Female,64,0,0,Yes,Private,Urban,63.32,18.7,formerly smoked,0\\n49666,Male,47,0,0,Yes,Self-employed,Urban,85.68,39.6,never smoked,0\\n59904,Female,1.8,0,0,No,children,Urban,162.93,15.7,Unknown,0\\n32365,Male,42,0,0,Yes,Private,Rural,89.22,53.8,Unknown,0\\n15351,Male,37,0,0,Yes,Private,Rural,91.68,32.4,formerly smoked,0\\n61000,Female,69,0,1,No,Private,Urban,198.33,42.7,smokes,0\\n77,Female,13,0,0,No,children,Rural,85.81,18.6,Unknown,0\\n17466,Male,73,0,0,No,Govt_job,Rural,79.59,31.4,smokes,0\\n57569,Male,48,0,0,Yes,Private,Rural,106.74,33.7,formerly smoked,0\\n9026,Female,78,1,0,Yes,Self-employed,Urban,191.33,24.5,never smoked,0\\n54590,Female,21,0,0,No,Private,Rural,59.52,33.7,never smoked,0\\n54301,Male,54,0,0,Yes,Private,Rural,206.52,35.4,smokes,0\\n170,Male,43,0,0,Yes,Govt_job,Rural,80.07,N/A,never smoked,0\\n52554,Male,19,0,0,No,Private,Rural,64.92,22.5,Unknown,0\\n10649,Female,82,0,0,Yes,Private,Urban,80,33.6,never smoked,0\\n28258,Female,80,0,0,Yes,Self-employed,Urban,75.06,29.7,Unknown,0\\n22269,Female,69,1,0,Yes,Govt_job,Urban,112.2,N/A,never smoked,0\\n12557,Female,21,0,0,No,Self-employed,Urban,91.18,25.7,never smoked,0\\n2846,Female,46,0,0,Yes,Private,Rural,85.81,20.2,formerly smoked,0\\n61219,Female,14,0,0,No,Never_worked,Urban,148.37,22.7,never smoked,0\\n65321,Male,6,0,0,No,children,Rural,64.55,17.4,Unknown,0\\n23946,Female,3,0,0,No,children,Rural,97.31,22.2,Unknown,0\\n56312,Male,47,0,0,No,Private,Rural,111.15,23.8,never smoked,0\\n20256,Male,34,0,0,Yes,Private,Urban,80.97,28.7,never smoked,0\\n26993,Female,41,0,0,Yes,Private,Rural,89.88,33.1,formerly smoked,0\\n58599,Female,67,0,0,Yes,Private,Rural,62.66,28,formerly smoked,0\\n27849,Female,5,0,0,No,children,Urban,122.25,16.7,Unknown,0\\n33367,Male,20,0,0,No,Private,Rural,87.08,27.1,never smoked,0\\n61764,Female,63,0,0,Yes,Private,Rural,85,26.4,smokes,0\\n13620,Female,73,0,0,Yes,Self-employed,Urban,100.49,23.7,smokes,0\\n39308,Male,62,0,0,Yes,Private,Urban,145.37,33.3,Unknown,0\\n1275,Male,0.88,0,0,No,children,Urban,112.19,18.9,Unknown,0\\n34336,Male,50,1,0,Yes,Govt_job,Rural,79.73,25.5,smokes,0\\n1505,Male,71,0,1,Yes,Self-employed,Rural,101.13,35.9,formerly smoked,0\\n31887,Female,30,0,0,Yes,Private,Urban,101.98,23.2,Unknown,0\\n60258,Female,80,0,1,Yes,Self-employed,Rural,98.39,22.2,smokes,0\\n63450,Female,64,0,0,Yes,Self-employed,Rural,128.04,34,smokes,0\\n35178,Male,7,0,0,No,children,Urban,98.12,20.4,Unknown,0\\n3099,Female,36,0,0,No,Private,Urban,216.96,34.5,Unknown,0\\n43903,Male,79,0,0,Yes,Self-employed,Rural,94.92,31.9,Unknown,0\\n9013,Female,35,0,0,Yes,Private,Rural,83.27,19.8,formerly smoked,0\\n60158,Female,28,0,0,No,Private,Rural,96.86,29,Unknown,0\\n15579,Male,72,0,0,Yes,Self-employed,Rural,99.73,36.7,formerly smoked,0\\n8563,Female,12,0,0,No,children,Rural,91.71,21.3,Unknown,0\\n61573,Male,25,0,0,No,Private,Rural,65.77,23.7,smokes,0\\n43827,Female,27,0,0,Yes,Private,Urban,161.57,25.7,smokes,0\\n43090,Female,62,1,0,Yes,Self-employed,Rural,74.32,34,never smoked,0\\n46068,Male,58,0,0,No,Self-employed,Rural,170.93,30.7,Unknown,0\\n12469,Female,30,0,0,Yes,Private,Urban,74.43,44.8,never smoked,0\\n58820,Male,56,0,0,Yes,Private,Rural,86.36,27.7,formerly smoked,0\\n31893,Female,28,0,0,Yes,Private,Rural,97.06,23.2,Unknown,0\\n45259,Male,47,0,0,Yes,Private,Rural,110.38,30.1,Unknown,0\\n63779,Female,16,0,0,No,Private,Rural,79.03,29.3,Unknown,0\\n71250,Female,29,0,0,Yes,Private,Rural,62.48,29.5,never smoked,0\\n55051,Male,26,0,0,Yes,Private,Rural,55.62,25.8,never smoked,0\\n2520,Female,26,0,0,Yes,Private,Rural,84.9,26.2,never smoked,0\\n3715,Male,55,0,0,Yes,Private,Rural,232.81,28.8,Unknown,0\\n21206,Female,29,0,0,No,Private,Rural,86.55,29.8,smokes,0\\n60159,Female,29,0,0,No,Govt_job,Rural,118.61,26.5,never smoked,0\\n3113,Female,33,0,0,No,Private,Rural,80.21,27.8,formerly smoked,0\\n62126,Female,19,1,0,No,Private,Rural,65.96,29,never smoked,0\\n51275,Female,10,0,0,No,children,Urban,61.34,19.1,Unknown,0\\n3115,Female,3,0,0,No,children,Urban,116.6,17.1,Unknown,0\\n9986,Female,60,0,0,Yes,Private,Urban,85.13,24.6,Unknown,0\\n35974,Female,16,0,0,No,Private,Rural,86.32,18.3,Unknown,0\\n46488,Male,35,0,0,Yes,Private,Rural,69.22,42.8,never smoked,0\\n54172,Female,41,0,0,Yes,Private,Urban,140.93,46.5,Unknown,0\\n21804,Female,19,0,0,No,Private,Urban,83.43,38.4,Unknown,0\\n50402,Female,79,0,0,Yes,Private,Urban,207.95,26,formerly smoked,0\\n36317,Female,41,0,0,Yes,Private,Rural,134.29,26.8,smokes,0\\n44676,Male,1.64,0,0,No,children,Urban,115.12,21.1,Unknown,0\\n3724,Female,51,0,0,Yes,Govt_job,Urban,86.25,29,never smoked,0\\n69668,Female,33,0,0,Yes,Self-employed,Rural,112.94,43,never smoked,0\\n59274,Female,33,0,0,Yes,Govt_job,Rural,73.54,36.6,smokes,0\\n29676,Male,48,0,0,No,Private,Urban,80.86,27.5,Unknown,0\\n37655,Male,45,0,0,Yes,Private,Rural,83.91,40.2,Unknown,0\\n16980,Female,61,0,0,No,Private,Rural,69.91,37.1,never smoked,0\\n40213,Male,31,0,0,No,Private,Rural,95.62,32,smokes,0\\n47831,Male,60,1,0,No,Private,Urban,63.95,32.2,never smoked,0\\n40977,Male,51,0,0,Yes,Private,Rural,122.5,20.6,Unknown,0\\n39129,Male,53,0,0,Yes,Govt_job,Rural,86,24.1,never smoked,0\\n40837,Male,52,0,0,Yes,Govt_job,Urban,120.27,25,never smoked,0\\n59000,Female,42,0,0,Yes,Govt_job,Urban,56.71,25.2,Unknown,0\\n44510,Female,56,0,0,Yes,Private,Rural,131.63,27.6,never smoked,0\\n3793,Male,14,0,0,No,Private,Urban,79.36,48.8,never smoked,0\\n32215,Female,40,0,0,No,Private,Urban,120.77,27.6,never smoked,0\\n35296,Female,58,0,0,Yes,Private,Rural,100.42,39.5,smokes,0\\n69502,Female,52,1,0,Yes,Private,Urban,155.86,27.2,smokes,0\\n67620,Male,30,0,0,Yes,Govt_job,Rural,66.01,26.3,smokes,0\\n27664,Female,47,0,0,Yes,Private,Urban,86.99,28.9,smokes,0\\n49555,Female,34,0,0,Yes,Govt_job,Urban,90.55,30,never smoked,0\\n16812,Female,82,0,1,Yes,Self-employed,Rural,229.58,23.7,Unknown,0\\n63665,Female,31,0,0,Yes,Private,Urban,60.06,25.5,smokes,0\\n68141,Female,58,0,0,Yes,Private,Rural,65.66,24.6,formerly smoked,0\\n33674,Female,47,0,0,Yes,Private,Urban,104.7,20.7,smokes,0\\n30432,Male,65,1,0,Yes,Self-employed,Urban,113.86,36.4,never smoked,0\\n10886,Female,13,0,0,No,children,Rural,99.49,23.4,Unknown,0\\n62629,Male,37,1,0,Yes,Private,Urban,165.99,32.3,never smoked,0\\n67758,Male,9,0,0,No,children,Urban,114.99,18.8,Unknown,0\\n41244,Female,7,0,0,No,children,Urban,79.58,15.5,Unknown,0\\n50309,Female,37,0,0,No,Govt_job,Rural,77.37,21.4,never smoked,0\\n6480,Male,62,0,0,No,Govt_job,Urban,93.55,31.7,never smoked,0\\n27007,Male,14,0,0,No,Self-employed,Urban,187.22,29.7,Unknown,0\\n63912,Female,77,0,0,Yes,Govt_job,Rural,167.59,34.3,formerly smoked,0\\n37483,Male,36,0,0,Yes,Private,Urban,98.03,22.1,smokes,0\\n29855,Female,3,0,0,No,children,Urban,88.79,21.5,Unknown,0\\n22136,Male,78,1,1,No,Self-employed,Urban,92.9,30.4,smokes,0\\n66637,Female,49,0,0,Yes,Govt_job,Urban,117.34,21.6,never smoked,0\\n2244,Male,44,0,0,Yes,Private,Urban,80.75,30.9,never smoked,0\\n22259,Male,10,0,0,No,children,Rural,77.51,21.9,Unknown,0\\n19088,Male,8,0,0,No,children,Urban,105.63,19.2,Unknown,0\\n61010,Female,60,0,0,Yes,Private,Urban,114.34,30.3,smokes,0\\n49574,Female,56,0,0,Yes,Private,Rural,227.04,23,smokes,0\\n12336,Female,73,0,0,Yes,Self-employed,Urban,87.56,24.1,never smoked,0\\n3668,Female,65,0,0,Yes,Govt_job,Urban,84.47,52.7,smokes,0\\n6034,Female,34,0,0,Yes,Self-employed,Rural,96.26,27.6,Unknown,0\\n61418,Male,13,0,0,No,children,Rural,116.64,23.9,Unknown,0\\n68725,Female,80,0,0,Yes,Private,Urban,79.57,26.9,never smoked,0\\n464,Male,46,0,0,Yes,Private,Rural,78.44,23.9,never smoked,0\\n42225,Female,80,0,0,Yes,Self-employed,Urban,64.15,40.5,never smoked,0\\n51254,Female,65,0,0,No,Private,Urban,74.5,32,never smoked,0\\n59164,Female,24,0,0,No,Private,Urban,70.32,20.5,Unknown,0\\n70429,Female,33,0,0,Yes,Private,Urban,84.48,44.5,never smoked,0\\n54253,Male,11,0,0,No,children,Urban,144.08,16.2,formerly smoked,0\\n47937,Female,57,0,0,Yes,Self-employed,Rural,78.14,35.8,never smoked,0\\n66882,Female,19,0,0,No,Govt_job,Urban,133.58,24,never smoked,0\\n7411,Male,82,0,0,Yes,Private,Urban,214.42,33.9,formerly smoked,0\\n39593,Female,39,0,0,Yes,Private,Urban,80.63,36,smokes,0\\n6239,Female,14,0,0,No,Private,Rural,233.71,22.9,never smoked,0\\n35378,Female,60,1,0,No,Private,Urban,96,44.5,smokes,0\\n54012,Female,3,0,0,No,children,Urban,74.52,17.5,Unknown,0\\n69835,Female,57,0,0,Yes,Private,Rural,131.4,32.3,never smoked,0\\n44591,Male,79,0,0,Yes,Private,Urban,216.4,30.3,never smoked,0\\n4709,Female,65,0,0,Yes,Private,Rural,108.8,33.5,Unknown,0\\n20393,Female,67,1,0,Yes,Private,Urban,97.06,30.9,never smoked,0\\n27626,Female,60,0,0,No,Govt_job,Rural,266.59,25.5,never smoked,0\\n45864,Female,36,0,0,No,Private,Rural,55.58,30,never smoked,0\\n68685,Male,36,0,0,Yes,Govt_job,Urban,65.87,32.2,formerly smoked,0\\n28711,Female,26,0,0,No,Private,Urban,89.28,21.7,smokes,0\\n44962,Male,71,0,0,Yes,Govt_job,Urban,56.12,24.7,Unknown,0\\n7892,Male,78,0,0,Yes,Private,Urban,74.7,28.8,formerly smoked,0\\n11744,Male,77,0,0,Yes,Self-employed,Urban,83.06,27,Unknown,0\\n12279,Male,74,0,0,Yes,Private,Urban,227.94,26,Unknown,0\\n20740,Female,50,0,0,Yes,Self-employed,Rural,84.88,27.1,never smoked,0\\n58257,Male,9,0,0,No,children,Urban,64.2,18.5,Unknown,0\\n36547,Male,1.64,0,0,No,children,Rural,137.22,18.8,Unknown,0\\n559,Female,54,0,0,Yes,Private,Urban,81.44,31.5,formerly smoked,0\\n13728,Male,8,0,0,No,children,Rural,90.26,18.1,Unknown,0\\n4400,Female,36,0,0,Yes,Private,Urban,68.48,24.3,never smoked,0\\n68524,Female,38,0,0,Yes,Private,Urban,100.02,28,never smoked,0\\n24096,Female,34,1,0,Yes,Self-employed,Urban,100.61,N/A,Unknown,0\\n65643,Female,7,0,0,No,children,Urban,156.82,17.3,Unknown,0\\n30186,Female,5,0,0,No,children,Urban,81.66,17.2,Unknown,0\\n11904,Male,14,0,0,No,children,Rural,112.22,26.9,Unknown,0\\n20257,Male,0.88,0,0,No,children,Urban,90.62,22.4,Unknown,0\\n2822,Female,30,0,0,Yes,Private,Rural,72.49,25.8,never smoked,0\\n18072,Female,39,0,0,Yes,Govt_job,Urban,107.47,21.3,Unknown,0\\n34896,Female,17,0,0,No,Private,Rural,92.11,43,never smoked,0\\n53328,Female,14,0,0,No,Private,Rural,70.54,24.4,formerly smoked,0\\n28303,Female,52,0,0,Yes,Self-employed,Rural,205,30.1,never smoked,0\\n44325,Male,78,0,0,Yes,Self-employed,Rural,126.39,21.3,smokes,0\\n8579,Female,2,0,0,No,children,Rural,89.72,17.8,Unknown,0\\n29229,Male,32,0,0,Yes,Private,Urban,92.08,28.4,smokes,0\\n48406,Male,0.88,0,0,No,children,Urban,85.38,23.4,Unknown,0\\n3761,Female,50,0,0,Yes,Self-employed,Rural,95.25,24.3,never smoked,0\\n65324,Female,48,0,0,Yes,Govt_job,Rural,75.91,27.8,Unknown,0\\n7658,Male,66,0,0,Yes,Govt_job,Rural,203.44,30.5,formerly smoked,0\\n35997,Male,78,0,1,Yes,Self-employed,Urban,243.73,N/A,smokes,0\\n34383,Male,46,0,0,Yes,Private,Urban,88.23,25.8,Unknown,0\\n8646,Female,54,0,0,Yes,Private,Rural,97.47,26.7,never smoked,0\\n46653,Female,81,1,1,Yes,Private,Rural,59.28,28.1,never smoked,0\\n1099,Female,15,0,0,No,children,Rural,101.15,22.2,Unknown,0\\n61676,Male,77,0,0,Yes,Self-employed,Urban,68.38,25.1,Unknown,0\\n38131,Female,59,0,0,Yes,Self-employed,Rural,55.46,20.9,never smoked,0\\n61848,Female,48,0,0,Yes,Private,Urban,113.87,28.9,never smoked,0\\n56228,Male,76,0,1,Yes,Self-employed,Urban,67.03,N/A,never smoked,0\\n4949,Male,49,0,0,Yes,Private,Rural,96.35,35.9,never smoked,0\\n46688,Female,44,0,0,No,Private,Urban,127.21,29.8,smokes,0\\n30491,Female,39,0,0,Yes,Private,Urban,78.9,26.7,never smoked,0\\n43478,Male,34,0,0,Yes,Private,Urban,59.91,28.4,formerly smoked,0\\n25443,Male,50,0,0,No,Private,Urban,160.94,26.7,smokes,0\\n52519,Male,62,0,0,Yes,Private,Rural,59.61,32.5,Unknown,0\\n24361,Female,38,0,0,Yes,Private,Urban,87.94,43.8,never smoked,0\\n29514,Female,43,0,0,Yes,Private,Rural,97.55,28.3,formerly smoked,0\\n35893,Male,28,0,0,No,Private,Urban,116.02,36.6,formerly smoked,0\\n58568,Female,58,0,0,Yes,Private,Rural,127.32,33.1,smokes,0\\n63303,Male,28,0,0,No,Private,Urban,75.5,27,smokes,0\\n70625,Male,18,0,0,No,Private,Urban,79.35,23.6,Unknown,0\\n54807,Male,62,1,1,Yes,Private,Rural,176.25,N/A,never smoked,0\\n18820,Male,31,0,0,No,Private,Rural,108.56,21.8,never smoked,0\\n64029,Male,55,1,0,Yes,Private,Urban,168.06,23.5,smokes,0\\n72703,Female,54,0,0,Yes,Private,Urban,75.52,28.7,formerly smoked,0\\n11394,Male,73,0,1,Yes,Private,Rural,82.15,31.6,formerly smoked,0\\n12298,Male,26,0,0,No,Self-employed,Urban,200.28,31.9,formerly smoked,0\\n70845,Male,73,0,1,Yes,Private,Rural,62.44,25.2,smokes,0\\n44494,Female,38,0,0,Yes,Private,Rural,84.31,25.9,smokes,0\\n30953,Male,75,1,1,Yes,Private,Rural,221.43,32.5,Unknown,0\\n47861,Male,81,0,0,Yes,Private,Urban,165.47,28.1,Unknown,0\\n13465,Female,20,0,0,No,Private,Rural,96.69,27.4,smokes,0\\n62454,Female,12,0,0,No,children,Urban,63.98,21.2,formerly smoked,0\\n52593,Male,78,0,1,Yes,Private,Urban,145.03,26.8,formerly smoked,0\\n91,Female,42,0,0,No,Private,Urban,98.53,18.5,never smoked,0\\n22056,Female,71,1,0,Yes,Private,Urban,105.55,N/A,smokes,0\\n45469,Male,16,0,0,No,children,Rural,134.23,30.6,Unknown,0\\n41284,Male,4,0,0,No,children,Rural,62.48,19.9,Unknown,0\\n20112,Male,79,0,1,Yes,Private,Urban,213.38,N/A,Unknown,0\\n45627,Male,60,0,0,Yes,Private,Rural,70.52,26.5,formerly smoked,0\\n4174,Female,45,1,0,Yes,Private,Urban,93.21,43.8,never smoked,0\\n31660,Male,23,0,0,No,Private,Rural,82.39,31.8,Unknown,0\\n36196,Male,21,0,0,No,Private,Rural,88.29,36.6,smokes,0\\n19769,Female,67,0,0,Yes,Self-employed,Rural,80.18,22.9,formerly smoked,0\\n8341,Male,10,0,0,No,children,Rural,84.02,18.7,never smoked,0\\n42172,Female,24,0,0,Yes,Self-employed,Rural,69.72,29.6,never smoked,0\\n14372,Male,50,0,0,Yes,Self-employed,Urban,192.16,43.6,never smoked,0\\n61252,Male,79,0,1,Yes,Private,Rural,82.27,N/A,never smoked,0\\n15251,Male,14,0,0,No,children,Urban,101.87,20.3,never smoked,0\\n67800,Female,13,0,0,No,children,Rural,77.55,21.3,Unknown,0\\n10416,Male,71,0,1,Yes,Private,Urban,215.72,39.2,smokes,0\\n19504,Female,66,0,0,Yes,Private,Rural,87.84,52.8,Unknown,0\\n7476,Male,32,0,0,No,Govt_job,Rural,91.93,30.2,never smoked,0\\n55526,Male,46,0,0,Yes,Govt_job,Urban,58.63,35.3,never smoked,0\\n452,Male,48,1,0,Yes,Private,Urban,173.14,37,smokes,0\\n55790,Female,45,0,0,Yes,Private,Urban,106.83,32.1,formerly smoked,0\\n38541,Male,55,0,0,Yes,Private,Urban,84.44,30.5,formerly smoked,0\\n23748,Female,31,0,0,Yes,Private,Urban,92.16,22.8,never smoked,0\\n18790,Male,25,0,0,No,Private,Urban,85.96,34.5,formerly smoked,0\\n45751,Male,73,1,0,Yes,Self-employed,Rural,202.57,37.4,never smoked,0\\n72369,Female,14,0,0,No,children,Rural,65.41,19.5,Unknown,0\\n7171,Female,56,0,0,Yes,Govt_job,Urban,102.51,55.7,Unknown,0\\n52826,Male,60,0,0,Yes,Private,Rural,62.6,30.4,Unknown,0\\n42556,Male,27,0,0,Yes,Private,Urban,150.1,25.3,never smoked,0\\n507,Female,28,0,0,Yes,Private,Rural,94.15,23.1,smokes,0\\n56746,Male,46,1,0,Yes,Private,Urban,65.5,30.7,never smoked,0\\n54072,Female,11,0,0,No,children,Urban,81.31,18.8,never smoked,0\\n49760,Female,63,0,0,Yes,Private,Rural,78.96,28.6,never smoked,0\\n61821,Female,59,0,0,Yes,Private,Rural,123.47,27.5,Unknown,0\\n65481,Male,57,0,0,Yes,Private,Urban,90.4,26.5,never smoked,0\\n6174,Female,35,0,0,No,Private,Urban,71.59,40.3,never smoked,0\\n68224,Male,54,0,0,Yes,Private,Rural,209.5,37.9,formerly smoked,0\\n61559,Male,7,0,0,No,children,Urban,86.6,17.1,Unknown,0\\n65564,Female,48,0,0,Yes,Private,Urban,57.43,53.5,formerly smoked,0\\n18890,Male,69,1,0,Yes,Private,Rural,87.93,33.6,never smoked,0\\n58936,Male,59,0,0,Yes,Private,Rural,203.16,43.4,Unknown,0\\n67667,Female,72,1,0,Yes,Self-employed,Rural,112.12,30.5,never smoked,0\\n68138,Male,49,0,0,Yes,Private,Urban,92.02,38.1,never smoked,0\\n50363,Female,73,1,0,Yes,Private,Rural,60.98,29.9,formerly smoked,0\\n4740,Female,24,0,0,No,Private,Urban,86.35,32.7,never smoked,0\\n39683,Male,26,0,0,No,Private,Rural,71.26,28.6,Unknown,0\\n49903,Male,27,0,0,No,Private,Urban,72.61,38.5,never smoked,0\\n63457,Female,78,0,1,No,Self-employed,Urban,110.78,22.9,never smoked,0\\n18595,Female,77,0,0,Yes,Private,Urban,99.78,38,never smoked,0\\n64912,Female,59,0,0,Yes,Self-employed,Rural,201.45,43.8,smokes,0\\n68382,Male,0.32,0,0,No,children,Urban,127.78,20.8,Unknown,0\\n69510,Male,39,0,0,Yes,Private,Rural,121.32,26.8,never smoked,0\\n29872,Female,35,0,0,Yes,Private,Urban,83.89,25.5,never smoked,0\\n1924,Male,54,0,0,Yes,Private,Rural,74.06,N/A,never smoked,0\\n67243,Female,75,0,1,Yes,Private,Urban,206.15,25.4,never smoked,0\\n3494,Female,80,0,0,Yes,Private,Rural,102.9,26.7,Unknown,0\\n37307,Female,35,0,0,Yes,Private,Urban,65.48,50.5,never smoked,0\\n41175,Female,22,0,0,No,Govt_job,Urban,123.23,21.3,Unknown,0\\n48303,Male,39,0,0,Yes,Private,Rural,71.3,34.7,never smoked,0\\n31473,Male,6,0,0,No,children,Rural,79.05,17.9,Unknown,0\\n31402,Female,62,0,0,Yes,Self-employed,Rural,102.21,36.3,never smoked,0\\n18996,Female,13,0,0,No,children,Urban,105.22,18.4,Unknown,0\\n2573,Male,56,0,0,Yes,Govt_job,Rural,84.58,34.5,Unknown,0\\n60683,Male,53,0,1,Yes,Govt_job,Urban,77.3,33.4,never smoked,0\\n70537,Male,5,0,0,No,children,Rural,74.79,19.4,Unknown,0\\n63193,Female,44,0,0,Yes,Private,Rural,88.75,25.6,Unknown,0\\n12228,Male,13,0,0,No,children,Rural,97.97,24.5,never smoked,0\\n58107,Female,59,0,0,Yes,Private,Rural,79.18,30,Unknown,0\\n28647,Female,35,0,0,Yes,Private,Urban,81.33,28.9,never smoked,0\\n57086,Female,52,0,0,Yes,Private,Urban,126.68,28.1,never smoked,0\\n5505,Female,76,0,0,Yes,Private,Urban,196.61,23,never smoked,0\\n44112,Female,51,0,0,Yes,Self-employed,Urban,219.92,33.5,formerly smoked,0\\n56645,Female,79,0,0,Yes,Govt_job,Rural,79.16,34.8,formerly smoked,0\\n16652,Female,69,0,0,Yes,Self-employed,Urban,99.68,17.6,formerly smoked,0\\n32445,Female,78,0,0,Yes,Self-employed,Urban,79.55,21.1,formerly smoked,0\\n18752,Male,60,0,0,Yes,Private,Rural,87.86,29,formerly smoked,0\\n35152,Male,10,0,0,No,children,Urban,76.92,15.8,Unknown,0\\n70081,Male,42,1,0,Yes,Self-employed,Rural,77.24,41.2,Unknown,0\\n72340,Male,21,0,0,No,Private,Urban,120.94,29.7,formerly smoked,0\\n67112,Female,56,0,0,Yes,Private,Rural,77.66,40.8,never smoked,0\\n42323,Male,59,0,0,Yes,Govt_job,Rural,231.95,33.2,never smoked,0\\n35022,Female,69,0,0,Yes,Private,Urban,111.48,37,smokes,0\\n21625,Female,25,0,0,Yes,Private,Urban,84.25,24.5,Unknown,0\\n49972,Male,63,0,0,Yes,Self-employed,Rural,216.38,34.5,never smoked,0\\n44142,Male,25,0,0,No,Private,Rural,95.01,28,never smoked,0\\n364,Female,58,0,0,Yes,Private,Urban,105.74,26.8,formerly smoked,0\\n59669,Female,28,0,0,Yes,Private,Rural,58.41,21,Unknown,0\\n69900,Female,46,0,0,Yes,Govt_job,Urban,56.89,23.8,smokes,0\\n12753,Male,53,0,0,Yes,Private,Urban,86.25,29.3,never smoked,0\\n10273,Female,37,0,0,Yes,Private,Rural,86.49,24.4,Unknown,0\\n30824,Male,12,0,0,No,children,Rural,115.47,22.6,Unknown,0\\n587,Female,14,0,0,No,children,Rural,92.22,22.8,Unknown,0\\n55856,Female,60,0,0,Yes,Private,Rural,83.16,29.7,smokes,0\\n47196,Male,42,0,0,Yes,Private,Rural,110.68,32.4,formerly smoked,0\\n67724,Female,65,0,0,Yes,Private,Rural,70.06,35.8,Unknown,0\\n23488,Male,80,1,0,Yes,Self-employed,Urban,213.33,31.1,formerly smoked,0\\n2849,Male,32,0,0,Yes,Private,Urban,93.52,31.9,Unknown,0\\n12134,Female,53,0,0,Yes,Govt_job,Rural,87.62,33.7,smokes,0\\n24058,Female,50,0,0,Yes,Govt_job,Rural,77.67,25.6,never smoked,0\\n15117,Female,23,0,0,No,Private,Rural,95.66,19.9,smokes,0\\n72915,Female,45,0,0,Yes,Private,Urban,172.33,45.3,formerly smoked,0\\n61836,Female,0.8,0,0,No,children,Urban,106.59,15.5,Unknown,0\\n13116,Male,49,0,0,Yes,Private,Urban,87.06,28.3,never smoked,0\\n48146,Male,70,0,1,Yes,Private,Rural,93.02,40.2,formerly smoked,0\\n72819,Female,82,0,0,Yes,Self-employed,Urban,243.59,24.3,never smoked,0\\n20070,Male,23,0,0,No,Private,Urban,86.7,24.6,Unknown,0\\n8778,Female,79,0,0,Yes,Self-employed,Rural,97.81,26.6,formerly smoked,0\\n13764,Female,74,0,0,Yes,Private,Urban,116.04,30.9,never smoked,0\\n2005,Male,78,0,1,Yes,Self-employed,Urban,169.43,23.5,formerly smoked,0\\n8616,Female,50,0,0,Yes,Private,Rural,68.41,23.9,smokes,0\\n51524,Female,34,0,0,Yes,Private,Rural,94.44,34.2,Unknown,0\\n50541,Male,47,0,0,Yes,Govt_job,Urban,73.48,34.9,smokes,0\\n21971,Female,52,0,0,Yes,Govt_job,Rural,183.87,26.2,never smoked,0\\n32183,Female,67,0,0,Yes,Private,Rural,66.08,36.2,never smoked,0\\n30145,Female,62,0,0,Yes,Private,Rural,72.19,22.4,Unknown,0\\n30482,Female,18,0,0,No,Private,Rural,101.09,19.3,smokes,0\\n30790,Female,75,1,0,Yes,Govt_job,Urban,88.83,41.7,never smoked,0\\n63337,Female,42,0,0,Yes,Private,Rural,69.99,46,smokes,0\\n66264,Male,29,0,0,Yes,Govt_job,Urban,102.4,26.9,smokes,0\\n641,Male,52,0,0,Yes,Govt_job,Rural,87.26,40.1,smokes,0\\n42412,Female,18,0,0,No,Private,Urban,146.59,27.7,Unknown,0\\n65693,Male,67,0,0,Yes,Govt_job,Rural,59,29.5,Unknown,0\\n3746,Female,66,0,0,Yes,Private,Urban,76.83,26,never smoked,0\\n71304,Male,5,0,0,No,children,Urban,101.83,22.7,Unknown,0\\n34935,Female,18,0,0,No,Govt_job,Urban,90.92,16,never smoked,0\\n29173,Male,52,0,0,Yes,Govt_job,Urban,67.5,27.7,smokes,0\\n26474,Female,44,0,0,Yes,Govt_job,Urban,97.16,33.1,Unknown,0\\n56857,Male,46,1,0,Yes,Govt_job,Urban,85.62,33.1,formerly smoked,0\\n13529,Female,36,0,0,Yes,Govt_job,Rural,129.43,29.7,never smoked,0\\n61979,Female,61,0,0,Yes,Govt_job,Urban,106.01,34,smokes,0\\n70886,Female,7,0,0,No,children,Rural,114.82,33.3,Unknown,0\\n27693,Female,15,0,0,No,children,Urban,121.39,27,Unknown,0\\n59762,Male,61,0,0,Yes,Private,Urban,227.98,14.2,Unknown,0\\n57308,Male,20,0,0,No,Private,Urban,78.97,19.4,never smoked,0\\n3701,Female,2,0,0,No,children,Urban,84.12,15.3,Unknown,0\\n61339,Male,47,0,0,Yes,Self-employed,Urban,95.04,28.7,never smoked,0\\n24965,Female,25,0,0,No,Govt_job,Rural,103.15,21,smokes,0\\n33952,Male,66,1,0,Yes,Private,Urban,82.91,28.9,formerly smoked,0\\n39042,Male,2,0,0,No,children,Urban,70.93,20.3,Unknown,0\\n43039,Female,63,0,0,Yes,Private,Rural,153.6,28,formerly smoked,0\\n59915,Female,53,0,0,No,Private,Urban,129.43,29.6,never smoked,0\\n4727,Female,33,0,0,Yes,Govt_job,Rural,81,30.2,formerly smoked,0\\n16481,Female,23,0,0,No,Govt_job,Rural,71.81,22.2,Unknown,0\\n15018,Female,23,0,0,No,Govt_job,Urban,84.46,28.4,formerly smoked,0\\n49702,Female,81,0,0,Yes,Self-employed,Rural,101.32,29.6,formerly smoked,0\\n48017,Male,55,0,0,Yes,Private,Urban,62.56,28.6,never smoked,0\\n15313,Female,69,1,0,Yes,Govt_job,Urban,208.2,32.6,formerly smoked,0\\n22231,Male,58,0,0,Yes,Private,Urban,199.42,29,never smoked,0\\n45461,Female,70,0,0,Yes,Private,Urban,91.28,30.1,Unknown,0\\n30678,Female,48,0,0,Yes,Private,Urban,77.99,31.2,formerly smoked,0\\n57904,Male,15,0,0,No,Private,Urban,190.13,20.7,never smoked,0\\n67483,Male,31,1,0,Yes,Private,Urban,149.68,45.1,never smoked,0\\n5646,Female,2,0,0,No,children,Rural,92.3,14.8,Unknown,0\\n67911,Male,80,0,0,No,Self-employed,Rural,235.54,37.4,formerly smoked,0\\n16856,Female,69,0,0,Yes,Private,Rural,84.46,19.9,Unknown,0\\n37972,Female,52,0,0,Yes,Private,Rural,68.7,16,Unknown,0\\n62414,Male,80,1,0,Yes,Self-employed,Urban,178.89,27.4,Unknown,0\\n50485,Male,54,0,0,Yes,Private,Rural,227.74,33.4,smokes,0\\n47405,Female,2,0,0,No,children,Rural,100.66,18.5,Unknown,0\\n70928,Male,39,0,0,Yes,Govt_job,Urban,73.62,33.4,Unknown,0\\n4679,Female,38,0,0,Yes,Private,Rural,100.05,20.8,smokes,0\\n15070,Male,76,0,1,Yes,Private,Rural,213.8,22,never smoked,0\\n25625,Female,45,0,0,No,Private,Rural,103.94,32.5,smokes,0\\n35123,Female,1.24,0,0,No,children,Urban,84.2,19.2,Unknown,0\\n20165,Female,77,0,0,Yes,Private,Urban,250.8,32.9,never smoked,0\\n41730,Female,46,0,0,No,Govt_job,Rural,112.29,23.5,Unknown,0\\n38761,Female,50,0,0,Yes,Private,Urban,65.98,21.7,never smoked,0\\n4797,Female,52,0,0,Yes,Private,Urban,99.1,29.1,Unknown,0\\n19199,Female,73,1,0,Yes,Private,Rural,217.84,N/A,never smoked,0\\n30402,Male,41,0,0,Yes,Private,Urban,104.34,30.3,Unknown,0\\n25088,Female,40,0,0,No,Private,Rural,217,29.4,formerly smoked,0\\n54756,Female,59,0,0,Yes,Private,Rural,57.47,30.1,formerly smoked,0\\n19590,Male,48,0,0,Yes,Govt_job,Urban,78.24,32.9,never smoked,0\\n23332,Female,42,0,0,Yes,Private,Rural,94.38,34,never smoked,0\\n16971,Female,26,0,0,No,Private,Urban,100.31,38.6,never smoked,0\\n11727,Male,39,0,0,Yes,Self-employed,Urban,74.29,29.3,smokes,0\\n60255,Female,34,0,0,No,Private,Rural,103.43,43.6,smokes,0\\n38796,Female,54,0,0,Yes,Private,Urban,99.83,22.7,formerly smoked,0\\n46498,Female,57,0,0,Yes,Private,Urban,217.4,36.6,never smoked,0\\n41042,Female,1.56,0,0,No,children,Urban,71.81,22.6,Unknown,0\\n35069,Female,50,1,1,No,Govt_job,Urban,79.79,25.6,smokes,0\\n61103,Female,64,1,0,Yes,Self-employed,Urban,190.92,31.4,never smoked,0\\n25095,Male,44,0,0,Yes,Govt_job,Urban,94.76,26,formerly smoked,0\\n55607,Male,38,0,0,Yes,Private,Urban,101.43,27,formerly smoked,0\\n63029,Male,32,0,0,Yes,Private,Rural,115.86,33.3,never smoked,0\\n2919,Male,17,0,0,No,Private,Rural,95.27,17.3,Unknown,0\\n60003,Male,81,0,0,Yes,Govt_job,Rural,89.02,26.9,never smoked,0\\n46256,Male,15,0,0,No,Private,Urban,77.55,24.8,Unknown,0\\n23659,Female,5,0,0,No,children,Urban,75.86,20,Unknown,0\\n2952,Male,70,1,1,Yes,Private,Rural,93.62,35.8,never smoked,0\\n49229,Male,52,0,0,No,Govt_job,Rural,72.71,36.9,formerly smoked,0\\n2457,Female,67,0,1,Yes,Self-employed,Rural,94.45,29.6,formerly smoked,0\\n23508,Female,17,0,0,No,Never_worked,Rural,88.57,31.1,never smoked,0\\n28364,Male,61,0,0,Yes,Private,Urban,84.12,25.1,formerly smoked,0\\n31360,Female,31,0,0,No,Private,Urban,89.11,51.9,smokes,0\\n19335,Male,58,0,0,Yes,Self-employed,Rural,99.83,36.3,smokes,0\\n40390,Female,12,0,0,No,children,Rural,150.03,28.2,never smoked,0\\n63936,Female,30,0,0,No,Private,Urban,69.67,35.8,formerly smoked,0\\n24832,Female,65,0,0,Yes,Self-employed,Urban,77.46,30.9,formerly smoked,0\\n25219,Female,23,0,0,No,Private,Urban,100.54,22.1,smokes,0\\n42393,Male,14,0,0,No,children,Rural,142.38,17.6,never smoked,0\\n17951,Male,27,0,0,No,Self-employed,Rural,110.87,29.5,smokes,0\\n17443,Female,53,0,0,Yes,Private,Urban,73.6,27,never smoked,0\\n52242,Female,58,1,0,Yes,Govt_job,Rural,59.52,33.2,never smoked,0\\n45931,Male,9,0,0,No,children,Urban,142.68,24.4,Unknown,0\\n7828,Male,59,1,0,Yes,Self-employed,Urban,182.9,34.4,smokes,0\\n21547,Female,46,0,0,Yes,Govt_job,Urban,75.28,36.7,formerly smoked,0\\n42305,Female,41,0,0,No,Private,Rural,100.75,27.2,never smoked,0\\n9442,Male,55,0,0,Yes,Self-employed,Rural,163.82,27.5,never smoked,0\\n57047,Female,43,0,0,Yes,Private,Urban,110.42,32.6,smokes,0\\n2538,Female,5,0,0,No,children,Rural,105.18,N/A,Unknown,0\\n28461,Male,15,0,0,No,Never_worked,Rural,79.59,28.4,Unknown,0\\n16433,Female,36,0,0,Yes,Private,Rural,107.99,25.5,never smoked,0\\n50681,Female,36,0,0,Yes,Private,Rural,90.22,28.7,formerly smoked,0\\n71327,Female,47,0,0,No,Private,Rural,143.45,23.8,never smoked,0\\n46699,Female,18,0,0,No,Private,Rural,78.57,34.4,Unknown,0\\n25248,Male,19,0,0,No,Private,Rural,79.82,26.1,Unknown,0\\n35315,Male,65,0,0,Yes,Self-employed,Urban,95.88,28.5,never smoked,0\\n63144,Male,17,0,0,No,Govt_job,Urban,123.04,29.6,never smoked,0\\n21517,Male,54,0,0,Yes,Private,Urban,92.34,29.4,smokes,0\\n29789,Female,46,0,0,Yes,Private,Rural,116.84,28.2,never smoked,0\\n52207,Female,59,0,0,Yes,Self-employed,Urban,90.04,28.7,formerly smoked,0\\n19209,Female,48,0,0,Yes,Govt_job,Rural,255.17,38.1,formerly smoked,0\\n42041,Female,38,0,0,Yes,Private,Rural,217.55,N/A,smokes,0\\n58153,Female,18,0,0,No,Private,Urban,123.66,22.2,never smoked,0\\n27717,Female,56,0,0,Yes,Self-employed,Urban,112.16,25.7,Unknown,0\\n35106,Male,3,0,0,No,children,Urban,88.43,17.7,Unknown,0\\n47730,Female,41,0,0,No,Private,Urban,86.03,26.4,never smoked,0\\n20657,Female,67,0,0,Yes,Private,Urban,227.96,32.8,Unknown,0\\n63411,Female,60,0,0,Yes,Private,Rural,85.6,34.5,Unknown,0\\n18671,Female,47,0,0,Yes,Govt_job,Rural,111.68,39.5,never smoked,0\\n3843,Female,24,0,0,No,Private,Urban,73.49,23.5,never smoked,0\\n1225,Male,43,0,0,Yes,Private,Urban,87.82,38.8,formerly smoked,0\\n40264,Female,17,0,0,No,Private,Rural,99.29,21.2,Unknown,0\\n72451,Female,45,0,0,Yes,Private,Rural,63.73,32,Unknown,0\\n20292,Female,24,0,0,Yes,Private,Urban,85.55,63.3,never smoked,0\\n31201,Female,79,0,0,No,Self-employed,Urban,79.2,32.6,never smoked,0\\n59359,Male,79,0,0,Yes,Self-employed,Urban,105.93,25.2,never smoked,0\\n57985,Female,27,0,0,Yes,Private,Urban,94.19,27.4,formerly smoked,0\\n2885,Male,72,1,0,Yes,Private,Rural,231.71,N/A,Unknown,0\\n59743,Male,64,0,1,Yes,Self-employed,Rural,69.28,38.6,formerly smoked,0\\n11544,Female,34,0,0,Yes,Private,Urban,71.37,32.9,never smoked,0\\n11969,Female,50,0,0,Yes,Self-employed,Urban,110.18,26,formerly smoked,0\\n42929,Female,58,0,0,Yes,Self-employed,Rural,59.68,29.2,formerly smoked,0\\n72776,Male,26,0,0,Yes,Govt_job,Urban,94.24,29.2,formerly smoked,0\\n21438,Female,50,0,0,Yes,Private,Rural,82.1,26.4,Unknown,0\\n51084,Female,80,0,0,Yes,Private,Urban,62.62,23.1,formerly smoked,0\\n13440,Male,2,0,0,No,children,Urban,107.83,21.2,Unknown,0\\n15533,Male,46,0,0,No,Private,Urban,107.59,26.2,formerly smoked,0\\n50903,Female,29,0,0,Yes,Private,Urban,116.98,23.4,never smoked,0\\n35276,Female,6,0,0,No,children,Rural,84.1,19.8,Unknown,0\\n44472,Male,32,0,0,Yes,Self-employed,Urban,160.64,20.4,smokes,0\\n23587,Female,16,0,0,No,Never_worked,Urban,84.4,25.9,never smoked,0\\n66794,Female,44,0,0,Yes,Govt_job,Rural,81.13,34.1,never smoked,0\\n35854,Female,23,0,0,No,Private,Urban,88.19,18.3,never smoked,0\\n60907,Male,48,0,0,Yes,Private,Rural,127.13,35,Unknown,0\\n12449,Female,34,0,0,Yes,Private,Rural,119.61,26.4,Unknown,0\\n54371,Male,78,0,0,Yes,Govt_job,Urban,143.47,27.6,formerly smoked,0\\n8106,Female,42,0,0,Yes,Private,Rural,84.6,27,smokes,0\\n2013,Male,14,0,0,No,Private,Rural,110.72,N/A,never smoked,0\\n61785,Female,40,0,0,No,Private,Rural,158.93,31.3,smokes,0\\n2707,Male,10,0,0,No,children,Rural,68.94,18,Unknown,0\\n49120,Female,39,0,0,Yes,Govt_job,Rural,69.38,22.1,Unknown,0\\n30752,Female,42,0,0,No,Self-employed,Urban,72,34.4,never smoked,0\\n64972,Male,47,0,0,Yes,Private,Rural,57.76,33.2,smokes,0\\n49537,Male,14,0,0,No,Private,Rural,108.65,23.1,never smoked,0\\n315,Male,45,0,0,Yes,Private,Rural,65.42,39.7,never smoked,0\\n62814,Male,58,0,0,No,Private,Rural,78.93,40.7,formerly smoked,0\\n7665,Female,73,0,0,Yes,Private,Rural,98.34,30.9,Unknown,0\\n28108,Female,62,0,0,Yes,Private,Rural,82.57,27.5,Unknown,0\\n50536,Female,62,0,1,Yes,Govt_job,Urban,124.37,28.3,never smoked,0\\n8655,Female,51,0,1,Yes,Self-employed,Urban,100.96,33.4,never smoked,0\\n760,Male,0.8,0,0,No,children,Urban,75.22,33.1,Unknown,0\\n47501,Female,57,0,0,Yes,Private,Urban,59.85,41.5,never smoked,0\\n16863,Female,8,0,0,No,children,Rural,104.75,17.1,Unknown,0\\n51342,Female,69,0,0,Yes,Govt_job,Rural,70.98,30,Unknown,0\\n35759,Female,16,0,0,No,Private,Rural,92.77,24.9,Unknown,0\\n17270,Female,56,0,0,Yes,Private,Urban,82.12,32.5,smokes,0\\n53862,Female,41,0,0,Yes,Govt_job,Rural,106.35,26.1,never smoked,0\\n40951,Female,1.24,0,0,No,children,Rural,77.33,19.2,Unknown,0\\n56976,Female,42,0,0,Yes,Private,Urban,96.01,38.7,Unknown,0\\n37299,Male,57,0,0,Yes,Private,Urban,107.49,29.5,never smoked,0\\n33247,Male,20,0,0,No,Private,Rural,88.47,28.1,smokes,0\\n32560,Female,8,0,0,No,children,Rural,87.92,14.1,Unknown,0\\n10973,Male,43,0,0,Yes,Private,Urban,91.13,33.9,never smoked,0\\n3816,Male,62,0,0,Yes,Private,Rural,80.72,26,formerly smoked,0\\n50215,Male,42,0,0,No,Govt_job,Rural,59.83,52.8,never smoked,0\\n10351,Male,50,0,0,Yes,Private,Urban,67.02,N/A,formerly smoked,0\\n69665,Female,63,0,0,Yes,Private,Rural,60.22,29.2,never smoked,0\\n14976,Male,80,0,1,Yes,Private,Rural,82.41,26.3,smokes,0\\n28183,Female,13,0,0,No,children,Urban,75.78,23.6,Unknown,0\\n33085,Female,20,0,0,No,Private,Rural,102.42,18.6,never smoked,0\\n13386,Female,71,0,1,Yes,Self-employed,Rural,98.45,29.7,Unknown,0\\n15601,Female,50,0,0,Yes,Private,Urban,93.51,30.9,smokes,0\\n22254,Female,76,0,0,Yes,Private,Rural,113.68,22.8,Unknown,0\\n15539,Female,41,0,0,Yes,Private,Rural,97.41,25.5,never smoked,0\\n58235,Male,76,0,0,Yes,Private,Urban,58.65,25.6,smokes,0\\n21162,Female,78,0,0,Yes,Self-employed,Rural,81.68,23,Unknown,0\\n67880,Male,5,0,0,No,children,Urban,148.52,20.6,Unknown,0\\n42545,Male,29,1,0,Yes,Private,Urban,77.55,N/A,formerly smoked,0\\n48359,Female,43,0,0,Yes,Private,Rural,142.12,28.4,smokes,0\\n54815,Female,49,0,0,Yes,Private,Urban,125.3,29.7,formerly smoked,0\\n6233,Male,70,1,0,Yes,Self-employed,Rural,118.81,26,smokes,0\\n52225,Male,24,0,0,No,Private,Urban,84.16,37.5,smokes,0\\n50463,Female,41,0,0,Yes,Private,Urban,78.74,42.3,smokes,0\\n49084,Male,20,0,0,No,Private,Urban,57.51,21.4,Unknown,0\\n61889,Male,34,0,0,Yes,Private,Urban,61.11,29.3,never smoked,0\\n25525,Male,32,0,0,Yes,Private,Urban,78.3,31,Unknown,0\\n9730,Male,27,0,0,Yes,Private,Urban,76.19,22,never smoked,0\\n30622,Female,44,0,0,Yes,Govt_job,Rural,115.99,20.9,never smoked,0\\n26480,Male,20,0,0,No,Private,Rural,100.8,45.9,never smoked,0\\n65895,Female,52,0,0,Yes,Private,Urban,98.27,61.2,Unknown,0\\n4913,Female,57,0,0,Yes,Private,Rural,93.85,29.1,never smoked,0\\n20676,Male,29,0,0,No,Private,Rural,94.69,28.4,smokes,0\\n52410,Female,16,0,0,No,Private,Urban,136.23,22.6,Unknown,0\\n57944,Female,35,0,0,Yes,Govt_job,Rural,56.12,24.2,smokes,0\\n20290,Female,5,0,0,No,children,Rural,93.03,16.3,Unknown,0\\n10875,Male,63,0,0,Yes,Private,Rural,196.81,35.9,never smoked,0\\n2393,Male,59,1,0,Yes,Private,Rural,87.81,29.8,formerly smoked,0\\n66464,Male,63,0,0,Yes,Private,Urban,222.66,37,formerly smoked,0\\n40548,Male,52,0,0,Yes,Private,Rural,223.58,35.8,never smoked,0\\n19699,Female,50,0,0,No,Private,Urban,85.77,21.1,never smoked,0\\n205,Female,43,0,0,Yes,Private,Rural,88.23,37.6,Unknown,0\\n54805,Female,27,0,0,No,Self-employed,Urban,73.65,24.8,Unknown,0\\n53195,Male,30,0,0,No,Private,Urban,141.8,31.9,never smoked,0\\n9107,Female,8,0,0,No,children,Rural,92.65,17.5,Unknown,0\\n65196,Male,75,1,0,Yes,Private,Rural,198.79,N/A,smokes,0\\n58833,Male,14,0,0,No,Private,Rural,61.04,17.6,Unknown,0\\n4309,Female,23,0,0,Yes,Private,Rural,102.88,38.9,Unknown,0\\n55462,Male,6,0,0,No,children,Urban,123.39,15.2,Unknown,0\\n51746,Female,37,0,0,Yes,Govt_job,Rural,67.07,27.4,never smoked,0\\n59335,Male,38,0,0,Yes,Govt_job,Rural,69.88,27.9,smokes,0\\n65644,Male,3,0,0,No,children,Urban,57.02,16.1,Unknown,0\\n52790,Female,26,0,0,No,Govt_job,Urban,123.81,39,never smoked,0\\n42681,Female,58,0,0,Yes,Govt_job,Rural,73.36,36.6,formerly smoked,0\\n33697,Male,57,0,0,Yes,Private,Rural,90.54,33.7,never smoked,0\\n51963,Male,58,0,0,Yes,Private,Urban,69.24,27.6,never smoked,0\\n13375,Male,76,0,0,Yes,Private,Urban,192.39,31,never smoked,0\\n37526,Female,68,1,1,Yes,Private,Rural,233.3,N/A,Unknown,0\\n59454,Female,79,0,0,Yes,Self-employed,Urban,74.35,28.5,formerly smoked,0\\n23600,Male,34,0,0,Yes,Private,Rural,71.94,31.4,smokes,0\\n61245,Male,75,0,0,Yes,Self-employed,Rural,82.35,25.3,never smoked,0\\n53489,Male,11,0,0,No,children,Rural,73.28,17.2,never smoked,0\\n42284,Male,71,1,0,Yes,Self-employed,Rural,97.57,26.9,Unknown,0\\n69089,Female,40,0,0,Yes,Private,Rural,83.3,32,smokes,0\\n68970,Female,24,0,0,No,Private,Urban,85.07,22.5,Unknown,0\\n42938,Male,0.64,0,0,No,children,Urban,60.4,17.3,Unknown,0\\n11327,Female,82,0,0,Yes,Self-employed,Urban,79.96,27,formerly smoked,0\\n5464,Male,32,0,0,Yes,Private,Rural,70.96,33.1,Unknown,0\\n56995,Female,81,0,0,Yes,Private,Urban,82.86,25,never smoked,0\\n53646,Female,33,1,0,No,Private,Rural,97.87,N/A,smokes,0\\n45139,Female,79,0,1,Yes,Private,Rural,201.38,31.1,never smoked,0\\n38354,Female,62,0,0,Yes,Self-employed,Urban,91.82,19.6,Unknown,0\\n15566,Male,39,0,0,Yes,Private,Rural,91.85,24.7,smokes,0\\n4793,Female,60,1,0,Yes,Self-employed,Urban,99.23,48,formerly smoked,0\\n59223,Male,48,0,0,Yes,Private,Urban,68.13,38,formerly smoked,0\\n30927,Male,24,0,0,No,Private,Rural,93.76,24,formerly smoked,0\\n966,Female,70,1,0,Yes,Self-employed,Rural,103.89,30,never smoked,0\\n62923,Female,17,0,0,No,Private,Urban,87.39,24.6,Unknown,0\\n30627,Female,56,0,0,Yes,Govt_job,Urban,89.53,23.1,Unknown,0\\n17236,Female,3,0,0,No,children,Urban,66.61,17.4,Unknown,0\\n27566,Male,65,0,0,Yes,Private,Rural,236.14,43.1,Unknown,0\\n6368,Male,72,0,1,Yes,Private,Urban,99.76,27.1,formerly smoked,0\\n33876,Male,10,0,0,No,children,Urban,87.09,14.3,Unknown,0\\n52164,Male,29,0,0,Yes,Private,Urban,193.81,46.8,never smoked,0\\n32446,Female,44,0,0,Yes,Private,Rural,97.27,26,never smoked,0\\n56855,Male,46,0,0,Yes,Private,Urban,137.77,29.3,never smoked,0\\n43837,Male,33,0,0,Yes,Private,Urban,105.19,50.1,smokes,0\\n5477,Male,63,0,1,Yes,Self-employed,Urban,82.72,N/A,never smoked,0\\n64974,Male,0.24,0,0,No,children,Urban,58.35,18.6,Unknown,0\\n33976,Male,55,0,0,Yes,Private,Urban,68.79,27,never smoked,0\\n31019,Female,56,0,0,Yes,Private,Urban,94.19,25.7,never smoked,0\\n4699,Male,50,0,0,No,Govt_job,Rural,121.17,25.5,formerly smoked,0\\n60276,Male,78,1,1,Yes,Self-employed,Rural,106.41,27.3,never smoked,0\\n24420,Male,63,0,0,Yes,Private,Rural,104.79,24.1,Unknown,0\\n28478,Female,31,0,0,Yes,Private,Urban,82.18,42.7,never smoked,0\\n63236,Male,65,0,0,Yes,Private,Urban,96.81,41.2,smokes,0\\n6324,Male,51,0,0,Yes,Private,Rural,107.42,20.2,formerly smoked,0\\n62059,Male,60,0,0,Yes,Private,Rural,69.2,30.9,never smoked,0\\n28400,Male,69,0,0,Yes,Self-employed,Urban,92.73,27.7,never smoked,0\\n5841,Female,23,0,0,No,Private,Urban,86.11,22.3,never smoked,0\\n5681,Male,46,0,0,Yes,Private,Rural,111.78,39.4,smokes,0\\n16587,Female,16,0,0,No,Private,Urban,122.26,34.2,never smoked,0\\n3477,Female,26,0,0,No,Private,Rural,78.16,20.1,never smoked,0\\n23890,Female,44,1,0,Yes,Govt_job,Rural,105.77,36.8,never smoked,0\\n3803,Female,56,0,0,Yes,Private,Urban,102.97,N/A,smokes,0\\n34068,Female,23,0,0,Yes,Govt_job,Urban,77.53,33.9,formerly smoked,0\\n60145,Female,38,0,0,Yes,Private,Urban,77.35,27.7,never smoked,0\\n11702,Female,18,0,0,No,Never_worked,Urban,82.36,22.7,Unknown,0\\n50508,Female,63,0,1,Yes,Self-employed,Rural,239.95,32.2,smokes,0\\n65473,Male,23,0,0,No,Private,Urban,61.96,22,smokes,0\\n51257,Male,32,0,0,No,Private,Rural,72.1,23.2,never smoked,0\\n47810,Male,8,0,0,No,children,Rural,107.97,26.7,Unknown,0\\n38737,Male,77,0,0,Yes,Self-employed,Urban,60.77,23,smokes,0\\n39060,Female,41,0,0,Yes,Private,Urban,71.06,23.4,never smoked,0\\n56804,Female,34,0,0,No,Govt_job,Urban,60.36,24.1,never smoked,0\\n45099,Male,25,0,0,Yes,Self-employed,Urban,83.33,31.5,Unknown,0\\n22221,Female,35,0,0,Yes,Self-employed,Urban,65.33,26.1,never smoked,0\\n57134,Male,15,0,0,No,children,Urban,113.28,23.7,never smoked,0\\n57609,Male,1.64,0,0,No,children,Urban,170.88,20.8,Unknown,0\\n6132,Male,4,0,0,No,children,Urban,103.34,18.8,Unknown,0\\n31600,Female,33,0,0,No,Private,Rural,106.08,32.5,formerly smoked,0\\n51497,Male,28,0,0,Yes,Self-employed,Urban,156.45,24.3,never smoked,0\\n48455,Female,37,0,0,Yes,Private,Urban,60.05,24.1,Unknown,0\\n13049,Female,50,0,0,Yes,Private,Rural,114.05,32.5,never smoked,0\\n9079,Female,76,0,1,Yes,Self-employed,Urban,202.21,39.3,formerly smoked,0\\n68568,Female,72,0,0,Yes,Self-employed,Rural,57.28,23.9,never smoked,0\\n72867,Male,16,0,0,No,Private,Rural,99.49,22,Unknown,0\\n53121,Male,44,0,0,Yes,Private,Urban,63.6,37.3,never smoked,0\\n33779,Male,46,0,1,Yes,Govt_job,Urban,80.01,33,formerly smoked,0\\n52367,Male,46,0,0,Yes,Private,Urban,58.42,24.7,formerly smoked,0\\n29314,Female,73,1,1,Yes,Govt_job,Urban,67.38,32.8,formerly smoked,0\\n18366,Female,29,0,0,Yes,Self-employed,Rural,73.58,29.8,Unknown,0\\n32522,Male,19,0,0,No,Private,Urban,103.92,24.1,Unknown,0\\n3980,Female,27,0,0,No,Private,Rural,80.22,21.6,never smoked,0\\n5350,Female,36,0,0,Yes,Private,Rural,103.76,27.1,never smoked,0\\n3428,Female,61,0,0,Yes,Self-employed,Urban,77.06,27,never smoked,0\\n62552,Female,9,0,0,No,children,Rural,90.22,18.7,Unknown,0\\n51085,Female,25,0,0,No,Private,Urban,181.3,35.8,never smoked,0\\n60586,Female,68,0,0,Yes,Private,Rural,85.29,27.1,formerly smoked,0\\n59988,Female,26,1,0,Yes,Private,Urban,107.59,33.1,smokes,0\\n34122,Female,17,0,0,No,Private,Urban,87.72,25.9,smokes,0\\n11392,Male,75,0,0,Yes,Private,Rural,70.73,26.7,smokes,0\\n53632,Male,34,0,0,No,Govt_job,Urban,72.75,22.2,Unknown,0\\n32202,Male,53,0,0,Yes,Private,Rural,95.47,26,smokes,0\\n52489,Female,18,0,0,No,Private,Urban,70.54,23.5,Unknown,0\\n13374,Male,48,0,0,Yes,Private,Urban,100.03,23.5,never smoked,0\\n66370,Female,5,0,0,No,children,Rural,59.78,15.9,Unknown,0\\n259,Male,79,0,0,Yes,Private,Urban,198.79,24.9,never smoked,0\\n12092,Male,16,0,0,No,Private,Rural,90.39,26.5,never smoked,0\\n38263,Female,32,0,0,Yes,Private,Rural,147.04,35.7,Unknown,0\\n1666,Male,70,0,0,Yes,Govt_job,Urban,202.55,N/A,formerly smoked,0\\n48922,Male,55,1,1,Yes,Private,Rural,64.92,32.1,smokes,0\\n58061,Female,70,1,0,Yes,Self-employed,Rural,154.6,28.5,formerly smoked,0\\n50283,Female,51,0,0,Yes,Private,Urban,95.98,40.1,smokes,0\\n26605,Female,39,0,0,Yes,Private,Rural,102.51,26.6,smokes,0\\n10396,Male,79,1,0,No,Private,Urban,96.52,21.7,Unknown,0\\n14695,Male,80,1,0,Yes,Self-employed,Rural,232.12,28.8,never smoked,0\\n2579,Female,34,0,0,Yes,Self-employed,Rural,78.12,32,Unknown,0\\n71061,Male,59,0,0,Yes,Govt_job,Urban,70.04,31.4,never smoked,0\\n41250,Female,54,0,0,Yes,Private,Rural,97.61,32.1,smokes,0\\n53923,Female,22,0,0,No,Private,Urban,113.11,19.8,Unknown,0\\n54139,Female,21,0,0,No,Private,Rural,71.06,25.3,formerly smoked,0\\n32430,Female,4,0,0,No,children,Rural,104.95,28.8,Unknown,0\\n14928,Female,26,0,0,No,Private,Urban,81.94,26,smokes,0\\n32457,Male,62,0,0,Yes,Private,Urban,96.37,30.7,formerly smoked,0\\n59718,Female,33,0,0,Yes,Private,Rural,114.16,43.3,never smoked,0\\n4948,Male,51,0,0,Yes,Self-employed,Rural,93.58,35.2,smokes,0\\n40870,Female,75,0,0,Yes,Govt_job,Urban,73.89,20.9,Unknown,0\\n2218,Male,42,0,0,Yes,Private,Rural,107.83,35.3,smokes,0\\n57494,Female,82,1,0,Yes,Self-employed,Urban,107.21,27,formerly smoked,0\\n1534,Female,61,0,0,Yes,Private,Rural,99.35,26.1,smokes,0\\n69329,Female,62,0,0,Yes,Private,Rural,203.57,29.1,Unknown,0\\n39852,Male,59,1,1,Yes,Govt_job,Rural,81.51,32.6,never smoked,0\\n65358,Female,31,0,0,Yes,Private,Rural,69.26,21.8,formerly smoked,0\\n36488,Male,12,0,0,No,children,Urban,111.47,32.3,never smoked,0\\n55567,Female,76,0,1,Yes,Private,Rural,86.09,28.1,never smoked,0\\n33562,Male,71,0,1,Yes,Govt_job,Rural,72.94,32.3,formerly smoked,0\\n20006,Female,15,0,0,No,Private,Urban,76.77,21.7,Unknown,0\\n47696,Male,44,0,0,Yes,Private,Rural,60.32,25,never smoked,0\\n60117,Male,30,0,0,No,Private,Rural,133.24,28.9,never smoked,0\\n5032,Female,47,0,0,Yes,Private,Rural,65.01,21.7,formerly smoked,0\\n5780,Female,47,0,0,Yes,Private,Urban,74.63,45.3,never smoked,0\\n52236,Female,60,0,0,Yes,Private,Rural,230.78,40.2,never smoked,0\\n59752,Male,62,0,0,Yes,Private,Urban,72.5,22.5,formerly smoked,0\\n47005,Female,47,0,0,Yes,Private,Urban,68.48,21.3,never smoked,0\\n4750,Male,78,0,0,Yes,Private,Urban,85.03,26.1,formerly smoked,0\\n65127,Female,35,0,0,Yes,Private,Urban,80.76,28.8,smokes,0\\n4498,Male,71,0,1,Yes,Private,Urban,204.98,N/A,formerly smoked,0\\n32203,Female,57,0,0,Yes,Self-employed,Rural,95.36,32.4,formerly smoked,0\\n27436,Male,12,0,0,No,children,Urban,110.33,20.4,Unknown,0\\n34999,Male,26,0,0,Yes,Private,Urban,89.18,25.9,formerly smoked,0\\n4213,Male,33,0,0,No,Self-employed,Rural,91.53,38.8,formerly smoked,0\\n71669,Male,60,0,0,Yes,Private,Rural,65.16,30.8,never smoked,0\\n36803,Female,35,0,0,No,Private,Rural,74.53,24.6,never smoked,0\\n17725,Female,10,0,0,No,children,Rural,93.29,20.6,Unknown,0\\n57983,Male,50,0,0,Yes,Govt_job,Urban,227.89,38.8,formerly smoked,0\\n68089,Female,44,0,0,Yes,Private,Urban,121.46,40.4,Unknown,0\\n3135,Female,73,0,0,No,Self-employed,Rural,69.35,N/A,never smoked,0\\n563,Female,41,0,0,Yes,Private,Rural,216.71,36.2,never smoked,0\\n19364,Female,7,0,0,No,children,Rural,74.96,18.8,Unknown,0\\n34590,Male,45,0,0,Yes,Self-employed,Rural,75.25,27.6,smokes,0\\n55459,Female,60,0,0,No,Private,Rural,91.82,28.3,formerly smoked,0\\n38724,Female,49,1,0,Yes,Govt_job,Urban,56.37,39.4,smokes,0\\n52968,Female,45,0,0,Yes,Self-employed,Rural,149.15,33.5,Unknown,0\\n35716,Female,55,1,0,Yes,Private,Urban,202.67,40.4,formerly smoked,0\\n51421,Female,54,0,0,Yes,Private,Rural,65.38,25.9,Unknown,0\\n72525,Female,39,0,0,Yes,Private,Urban,90.31,27.6,smokes,0\\n33009,Male,76,0,0,Yes,Self-employed,Rural,221.8,44.7,formerly smoked,0\\n35437,Female,28,0,0,Yes,Private,Rural,73.39,30.8,Unknown,0\\n37253,Female,70,1,0,Yes,Private,Urban,147.12,22.3,formerly smoked,0\\n46171,Male,28,0,0,Yes,Private,Urban,109.85,27.9,Unknown,0\\n18143,Male,79,0,0,Yes,Self-employed,Rural,103.21,22.9,formerly smoked,0\\n35330,Male,30,0,0,Yes,Private,Urban,81.25,27.3,smokes,0\\n32127,Female,26,0,0,Yes,Govt_job,Urban,84.69,25,never smoked,0\\n69834,Female,57,0,0,Yes,Govt_job,Rural,87.1,48.3,smokes,0\\n56311,Female,16,0,0,No,Private,Rural,81.92,22.7,Unknown,0\\n13439,Male,40,1,0,Yes,Private,Urban,90.91,39.1,Unknown,0\\n36366,Male,77,0,0,Yes,Govt_job,Urban,64.4,27.8,never smoked,0\\n13111,Female,67,1,0,Yes,Private,Rural,85.48,N/A,smokes,0\\n28932,Female,36,0,0,Yes,Private,Rural,67.29,36.7,formerly smoked,0\\n67521,Female,40,1,0,Yes,Private,Urban,124.48,38.5,Unknown,0\\n65688,Male,2,0,1,No,children,Urban,62.89,29.4,Unknown,0\\n58761,Male,52,0,0,Yes,Private,Urban,87.51,30.5,formerly smoked,0\\n21192,Female,78,0,0,Yes,Private,Urban,93.15,23.6,Unknown,0\\n72348,Female,22,0,0,No,Private,Urban,64.87,20.6,Unknown,0\\n1825,Male,33,0,0,Yes,Self-employed,Urban,90.68,31.7,smokes,0\\n25674,Male,40,0,0,Yes,Private,Urban,104.64,24.9,Unknown,0\\n33035,Female,20,0,0,No,Private,Urban,92.44,33.4,never smoked,0\\n54297,Male,19,0,0,No,Private,Rural,120.46,22.2,Unknown,0\\n9122,Male,25,0,0,Yes,Private,Urban,89.87,26.5,never smoked,0\\n1218,Female,23,0,0,No,Private,Urban,105.28,27.1,formerly smoked,0\\n57210,Female,28,0,0,Yes,Private,Rural,131.8,30.3,never smoked,0\\n37096,Female,6,0,0,No,children,Rural,66.33,18.6,Unknown,0\\n38243,Female,37,0,0,Yes,Private,Rural,101.07,26.4,Unknown,0\\n17198,Female,10,0,0,No,children,Rural,83.37,17.8,formerly smoked,0\\n70884,Female,34,0,0,Yes,Private,Urban,79.8,37.4,smokes,0\\n51809,Female,60,0,0,Yes,Self-employed,Rural,103.17,32.1,formerly smoked,0\\n40602,Female,22,0,0,No,Private,Urban,62.52,38.2,never smoked,0\\n65116,Female,62,1,0,Yes,Self-employed,Urban,75.78,N/A,smokes,0\\n70455,Female,52,0,0,Yes,Govt_job,Urban,110.36,39.1,formerly smoked,0\\n41618,Male,61,0,0,No,Private,Rural,140.07,29.5,never smoked,0\\n21209,Female,10,0,0,No,children,Rural,84.86,28.6,never smoked,0\\n26103,Male,36,0,0,Yes,Private,Rural,106.85,40.1,never smoked,0\\n10436,Female,29,0,0,Yes,Private,Rural,102.07,31.8,never smoked,0\\n16550,Female,69,0,1,No,Govt_job,Urban,202.38,34.6,Unknown,0\\n17697,Female,62,0,0,Yes,Govt_job,Urban,67.07,24.5,never smoked,0\\n10744,Male,62,0,1,Yes,Govt_job,Rural,73.7,26.2,never smoked,0\\n7799,Female,79,0,0,No,Self-employed,Urban,77.59,33,never smoked,0\\n57183,Male,13,0,0,No,children,Rural,69.16,22.3,Unknown,0\\n121,Female,38,0,0,Yes,Private,Urban,91.44,N/A,Unknown,0\\n32604,Male,49,0,0,Yes,Self-employed,Rural,215.81,58.1,never smoked,0\\n49883,Female,41,0,0,Yes,Private,Rural,65.4,36.9,formerly smoked,0\\n68242,Male,56,0,0,Yes,Private,Urban,139.72,43.9,never smoked,0\\n33726,Female,8,0,0,No,children,Urban,72.81,18.2,Unknown,0\\n56255,Female,24,0,0,No,Private,Urban,149.17,23.1,never smoked,0\\n46455,Female,61,0,0,Yes,Private,Urban,125.74,32.6,Unknown,0\\n13270,Female,40,0,0,No,Govt_job,Urban,90.21,41.2,never smoked,0\\n38067,Female,22,0,0,No,Private,Urban,139.48,28.6,formerly smoked,0\\n9160,Female,80,1,0,Yes,Private,Urban,90.77,26,never smoked,0\\n52843,Female,60,1,1,Yes,Private,Urban,220.24,36.8,never smoked,0\\n67343,Female,57,0,0,Yes,Private,Rural,81.42,35.8,never smoked,0\\n50805,Female,55,0,0,Yes,Private,Urban,102.36,24.2,never smoked,0\\n10826,Female,39,0,0,Yes,Self-employed,Urban,82.85,22.9,smokes,0\\n60358,Female,51,0,0,Yes,Private,Urban,102.11,23.1,never smoked,0\\n72231,Female,47,0,0,Yes,Self-employed,Rural,195.61,N/A,never smoked,0\\n58586,Male,77,1,1,Yes,Self-employed,Urban,80.92,28.9,smokes,0\\n50499,Female,32,0,0,Yes,Private,Rural,71.8,26.5,never smoked,0\\n18986,Female,45,0,0,No,Self-employed,Urban,88.47,29.3,never smoked,0\\n51177,Female,49,0,0,Yes,Private,Urban,67.68,24.8,formerly smoked,0\\n575,Male,13,0,0,No,children,Rural,98.65,20.1,Unknown,0\\n47321,Female,74,0,0,Yes,Private,Rural,83.58,18.2,never smoked,0\\n7754,Female,72,0,0,Yes,Self-employed,Rural,104.04,34.7,formerly smoked,0\\n66270,Female,57,0,0,Yes,Private,Rural,69.4,24,Unknown,0\\n2814,Male,51,1,0,No,Govt_job,Urban,106.22,29,never smoked,0\\n52847,Female,55,0,0,Yes,Private,Rural,112.46,27.3,never smoked,0\\n60235,Male,73,0,1,Yes,Private,Rural,72.42,27.6,never smoked,0\\n10981,Male,12,0,0,No,children,Rural,96.73,20.4,never smoked,0\\n62833,Female,6,0,0,No,children,Urban,107.4,17.7,Unknown,0\\n26267,Female,76,0,0,Yes,Self-employed,Urban,267.61,27.9,smokes,0\\n69918,Female,38,1,0,Yes,Private,Rural,109.46,41.5,never smoked,0\\n44927,Female,50,0,0,Yes,Govt_job,Rural,120.05,27.4,Unknown,0\\n20169,Female,75,0,0,Yes,Private,Rural,106.33,27.8,Unknown,0\\n31481,Female,1.16,0,0,No,children,Urban,97.28,17.8,Unknown,0\\n27721,Male,32,0,0,Yes,Private,Rural,83.13,32,smokes,0\\n71419,Male,12,0,0,No,children,Urban,97.35,37.3,Unknown,0\\n25642,Male,32,0,0,No,Private,Urban,79.54,28.1,Unknown,0\\n31932,Female,13,0,0,No,children,Urban,76.55,29.1,Unknown,0\\n13629,Male,1.32,0,0,No,children,Urban,56.11,22.9,Unknown,0\\n38258,Female,63,0,0,Yes,Private,Rural,91.36,38.8,formerly smoked,0\\n70602,Female,29,0,0,No,Private,Rural,79.27,29,smokes,0\\n60056,Male,53,0,0,Yes,Private,Urban,113.21,28.6,smokes,0\\n31156,Female,49,0,0,Yes,Private,Urban,105.99,29.8,never smoked,0\\n69643,Male,81,0,0,Yes,Private,Rural,59.93,28.9,formerly smoked,0\\n23171,Male,66,0,0,Yes,Private,Rural,88.83,29.1,Unknown,0\\n42309,Female,42,0,0,Yes,Private,Urban,73.37,N/A,smokes,0\\n2877,Female,61,0,0,Yes,Private,Urban,115.42,16.7,smokes,0\\n37011,Female,52,0,0,Yes,Private,Rural,71.93,34.1,Unknown,0\\n355,Male,8,0,0,No,children,Rural,96.43,25.7,Unknown,0\\n53252,Male,82,0,0,No,Self-employed,Urban,161.95,30.8,never smoked,0\\n3553,Female,43,0,0,Yes,Govt_job,Urban,104.55,23.9,smokes,0\\n72178,Female,4,0,0,No,children,Urban,71.25,18.8,Unknown,0\\n11817,Male,58,0,0,Yes,Govt_job,Urban,160.87,N/A,formerly smoked,0\\n26468,Female,45,0,0,Yes,Govt_job,Urban,82.02,41.8,smokes,0\\n13176,Female,62,1,0,Yes,Private,Urban,78.02,36.4,never smoked,0\\n67032,Male,42,0,0,No,Govt_job,Urban,115.21,28.7,Unknown,0\\n39784,Female,72,0,0,Yes,Self-employed,Urban,65.12,28.3,never smoked,0\\n56156,Other,26,0,0,No,Private,Rural,143.33,22.4,formerly smoked,0\\n15230,Female,9,0,0,No,children,Rural,80.55,15.1,Unknown,0\\n25218,Female,31,0,0,Yes,Govt_job,Urban,88.2,22.7,never smoked,0\\n39637,Female,20,0,0,No,Private,Rural,147.42,26.6,Unknown,0\\n26777,Male,22,0,0,No,Private,Rural,86.53,20.8,never smoked,0\\n60533,Female,23,0,0,No,Private,Rural,91.95,23,Unknown,0\\n44375,Female,57,1,0,Yes,Self-employed,Rural,63.72,35.8,smokes,0\\n49848,Male,52,0,0,Yes,Private,Rural,63.78,29.9,never smoked,0\\n65413,Female,64,0,0,Yes,Private,Urban,55.64,43.4,never smoked,0\\n31161,Female,26,0,0,No,Govt_job,Urban,88.88,36.3,never smoked,0\\n61787,Male,54,0,0,Yes,Self-employed,Urban,114.61,40.1,formerly smoked,0\\n53482,Male,32,0,0,No,Self-employed,Rural,56.08,35.9,formerly smoked,0\\n71387,Female,66,0,0,Yes,Govt_job,Rural,59.62,32.4,never smoked,0\\n7577,Male,13,0,0,No,children,Urban,75.85,20.3,Unknown,0\\n34400,Female,77,1,0,Yes,Self-employed,Rural,176.71,33.2,never smoked,0\\n45175,Male,18,0,0,No,Private,Urban,80.07,22.3,Unknown,0\\n71192,Male,11,0,0,No,children,Rural,56.33,18.1,Unknown,0\\n26997,Female,16,0,0,No,Private,Urban,87.16,28.2,never smoked,0\\n33532,Female,73,0,1,Yes,Private,Rural,102.46,29.7,never smoked,0\\n33704,Male,44,1,0,Yes,Private,Rural,84.1,N/A,Unknown,0\\n51897,Male,36,0,0,Yes,Private,Rural,161,29,smokes,0\\n43016,Male,10,0,0,No,children,Urban,70.7,25.4,Unknown,0\\n3370,Female,54,0,0,Yes,Private,Rural,81.26,26.5,Unknown,0\\n39984,Female,42,0,0,Yes,Govt_job,Rural,157.67,22.7,formerly smoked,0\\n59232,Female,52,0,0,Yes,Self-employed,Urban,89.59,27.5,Unknown,0\\n57896,Male,32,0,0,Yes,Private,Urban,64.02,23.8,smokes,0\\n21917,Male,43,0,0,Yes,Govt_job,Rural,110.69,35.6,Unknown,0\\n66435,Female,28,0,0,Yes,Private,Rural,71.97,27.2,never smoked,0\\n3442,Female,79,0,0,No,Self-employed,Rural,82.07,30.4,Unknown,0\\n48064,Male,11,0,0,No,children,Rural,65.07,21.5,never smoked,0\\n13358,Female,75,0,0,Yes,Self-employed,Rural,207.62,31.8,never smoked,0\\n64986,Male,55,0,0,Yes,Private,Urban,108.64,29.5,never smoked,0\\n6032,Male,78,0,0,Yes,Self-employed,Urban,201.58,30.6,Unknown,0\\n52924,Female,48,0,0,Yes,Private,Urban,116.2,27.6,formerly smoked,0\\n69979,Male,73,0,0,Yes,Self-employed,Rural,231.43,23,smokes,0\\n50489,Female,56,0,0,Yes,Govt_job,Urban,112.62,24.8,never smoked,0\\n20094,Male,54,1,0,Yes,Private,Urban,220.26,28,formerly smoked,0\\n16618,Female,55,0,0,Yes,Private,Urban,84.37,22.2,Unknown,0\\n63280,Female,65,0,0,Yes,Private,Rural,82.83,27.8,formerly smoked,0\\n14551,Female,69,0,0,No,Private,Urban,102.48,30.2,formerly smoked,0\\n22098,Female,29,0,0,Yes,Self-employed,Rural,69.12,26.8,never smoked,0\\n17771,Female,64,1,0,Yes,Govt_job,Urban,211.12,22,never smoked,0\\n11803,Female,16,0,0,No,Private,Rural,95.38,34.3,formerly smoked,0\\n34356,Female,75,0,0,Yes,Private,Rural,108.72,29.2,formerly smoked,0\\n26528,Female,17,0,0,No,Private,Rural,88.65,30.3,never smoked,0\\n51554,Male,42,0,0,Yes,Private,Urban,177.91,N/A,Unknown,0\\n2296,Male,78,1,0,Yes,Self-employed,Urban,90.19,N/A,Unknown,0\\n10624,Male,24,0,0,Yes,Private,Rural,73.78,21.4,smokes,0\\n1681,Female,68,0,0,No,Private,Urban,82.85,N/A,smokes,0\\n36375,Male,50,0,0,Yes,Private,Rural,59.48,26.6,Unknown,0\\n8117,Male,52,0,0,Yes,Private,Rural,75.77,30,formerly smoked,0\\n49849,Female,82,0,0,Yes,Private,Rural,80.96,33.7,formerly smoked,0\\n19436,Male,56,0,0,Yes,Private,Rural,82.4,30.9,smokes,0\\n10523,Male,56,0,0,Yes,Private,Urban,78.93,31.1,Unknown,0\\n39322,Male,18,0,0,No,Private,Urban,80.59,23,Unknown,0\\n53265,Female,33,0,0,Yes,Self-employed,Urban,70.59,20.2,Unknown,0\\n40379,Female,57,0,0,Yes,Private,Rural,98.57,31.6,never smoked,0\\n66841,Male,30,0,0,No,Private,Rural,61.87,23.9,Unknown,0\\n38900,Female,52,0,0,Yes,Private,Urban,68.88,26.1,Unknown,0\\n18180,Female,3,0,0,No,children,Urban,66.25,15.8,Unknown,0\\n1183,Male,39,0,0,Yes,Private,Rural,84.18,N/A,smokes,0\\n22964,Male,44,0,0,Yes,Govt_job,Rural,69.23,28.7,smokes,0\\n64597,Female,33,0,0,Yes,Private,Rural,73.2,28.9,Unknown,0\\n23893,Male,24,0,0,Yes,Private,Urban,103.45,25.1,smokes,0\\n51564,Female,24,0,0,No,Govt_job,Urban,104.86,19.8,never smoked,0\\n14410,Male,54,0,1,Yes,Govt_job,Urban,90.3,30.8,smokes,0\\n4964,Female,72,1,0,Yes,Private,Rural,90.87,22.1,never smoked,0\\n15020,Female,37,0,0,No,Govt_job,Rural,76.21,20.4,Unknown,0\\n27380,Female,36,0,0,Yes,Private,Rural,74.14,31.2,formerly smoked,0\\n21523,Female,22,0,0,No,Govt_job,Urban,87.25,24.9,smokes,0\\n8819,Female,68,0,0,Yes,Govt_job,Rural,215.33,27,formerly smoked,0\\n68408,Male,24,0,0,No,Private,Urban,88.38,20.1,smokes,0\\n8976,Female,35,0,0,Yes,Private,Rural,104.4,24.4,never smoked,0\\n22290,Female,32,0,0,Yes,Private,Urban,104.92,22.6,never smoked,0\\n7700,Female,52,0,0,Yes,Private,Urban,106.54,22.4,never smoked,0\\n40503,Male,21,0,0,No,Private,Rural,62.91,26.2,never smoked,0\\n47917,Female,82,1,0,No,Private,Rural,61.47,22.9,never smoked,0\\n30303,Male,33,0,0,No,Private,Rural,88.5,32.6,formerly smoked,0\\n63864,Male,62,0,0,Yes,Private,Rural,107.61,31.3,Unknown,0\\n24177,Female,57,1,0,Yes,Private,Urban,90.77,43.9,formerly smoked,0\\n57274,Male,14,0,0,No,Never_worked,Urban,137.91,41.8,never smoked,0\\n37213,Male,60,0,0,Yes,Self-employed,Rural,212.02,N/A,Unknown,0\\n59992,Female,63,1,0,Yes,Self-employed,Urban,228.2,37.7,never smoked,0\\n27382,Female,50,0,0,Yes,Govt_job,Urban,92.15,20.8,never smoked,0\\n61017,Female,12,0,0,No,children,Urban,126.32,21.6,Unknown,0\\n61699,Male,80,0,0,Yes,Private,Rural,94.96,22.1,formerly smoked,0\\n14489,Female,74,0,0,No,Self-employed,Urban,89.52,39.2,Unknown,0\\n54053,Male,46,0,0,Yes,Private,Rural,66.59,36.7,formerly smoked,0\\n38348,Female,66,0,0,Yes,Private,Urban,80.1,32,never smoked,0\\n17668,Male,26,0,0,Yes,Self-employed,Urban,73.72,25.9,smokes,0\\n11792,Female,70,0,0,Yes,Private,Urban,90.49,28.9,formerly smoked,0\\n22917,Female,62,0,0,Yes,Private,Urban,92.99,29.3,formerly smoked,0\\n36204,Male,15,0,0,No,children,Rural,62.57,32.3,never smoked,0\\n49554,Male,67,0,0,Yes,Private,Rural,65.51,33.2,formerly smoked,0\\n72594,Male,63,0,0,Yes,Private,Urban,95.29,31.6,smokes,0\\n28027,Female,42,0,0,Yes,Govt_job,Urban,83.7,20.6,never smoked,0\\n54177,Female,49,1,0,Yes,Govt_job,Rural,63.16,23.3,formerly smoked,0\\n32602,Male,78,0,1,Yes,Self-employed,Urban,87.77,30.8,Unknown,0\\n1213,Female,31,0,0,Yes,Self-employed,Urban,87.23,N/A,formerly smoked,0\\n21534,Male,67,0,0,Yes,Private,Urban,260.85,N/A,Unknown,0\\n6852,Female,52,1,0,Yes,Self-employed,Rural,104.45,N/A,never smoked,0\\n3379,Female,61,0,0,Yes,Private,Urban,87.52,23.7,Unknown,0\\n41146,Male,41,0,0,Yes,Private,Rural,113.65,49.3,never smoked,0\\n20391,Female,73,0,0,Yes,Govt_job,Rural,65.93,30.3,never smoked,0\\n69379,Female,64,1,0,Yes,Self-employed,Urban,93.78,24.4,never smoked,0\\n34778,Male,65,0,0,Yes,Private,Rural,223.9,28.2,formerly smoked,0\\n49270,Female,81,0,0,Yes,Private,Urban,77.54,33.8,Unknown,0\\n55407,Female,47,0,0,Yes,Private,Urban,93.18,42.6,formerly smoked,0\\n36744,Male,40,0,0,Yes,Self-employed,Rural,169.74,31.9,never smoked,0\\n26603,Male,46,1,0,Yes,Self-employed,Urban,101.93,34,Unknown,0\\n71414,Female,2,0,0,No,children,Urban,125.03,19.8,Unknown,0\\n14517,Male,56,0,0,Yes,Private,Urban,82.25,30.5,formerly smoked,0\\n69050,Male,54,0,0,Yes,Private,Urban,85.81,21.7,formerly smoked,0\\n52080,Female,26,0,0,No,Private,Rural,85.27,24.6,never smoked,0\\n27493,Female,45,0,0,Yes,Private,Urban,86.06,38.1,never smoked,0\\n6295,Female,57,0,0,Yes,Govt_job,Urban,104.36,19.2,smokes,0\\n20375,Female,78,0,0,Yes,Private,Urban,78.29,30.1,formerly smoked,0\\n29017,Male,2,0,0,No,children,Urban,93.55,23.3,Unknown,0\\n56635,Male,76,1,0,Yes,Self-employed,Rural,207.96,34.5,formerly smoked,0\\n4280,Female,51,0,0,Yes,Govt_job,Rural,105.52,30.8,never smoked,0\\n22896,Female,54,0,0,Yes,Private,Rural,109.27,43.8,formerly smoked,0\\n70297,Female,36,0,0,Yes,Private,Urban,91.34,29.9,never smoked,0\\n47776,Female,57,0,0,Yes,Govt_job,Rural,176.78,50.4,never smoked,0\\n53141,Female,25,0,0,No,Private,Rural,67.73,22.6,never smoked,0\\n16145,Female,7,0,0,No,children,Rural,73.27,19.5,Unknown,0\\n41593,Female,76,0,0,Yes,Self-employed,Rural,70.29,33.4,formerly smoked,0\\n50651,Female,45,0,0,No,Private,Rural,91.47,24.2,Unknown,0\\n11111,Female,66,1,0,Yes,Govt_job,Urban,205.01,52.7,formerly smoked,0\\n15803,Female,45,0,0,Yes,Private,Rural,73.87,25.6,Unknown,0\\n71597,Female,79,1,0,Yes,Private,Rural,64.44,26.9,formerly smoked,0\\n22804,Female,25,0,0,No,Private,Rural,111.65,35.2,formerly smoked,0\\n64498,Female,53,0,0,Yes,Private,Rural,90.65,22.1,formerly smoked,0\\n41182,Female,35,1,0,Yes,Private,Urban,94.2,34.4,smokes,0\\n56606,Female,78,0,0,Yes,Self-employed,Urban,56.95,26,Unknown,0\\n36958,Female,32,0,0,Yes,Private,Rural,92.37,26.9,never smoked,0\\n14877,Male,0.56,0,0,No,children,Rural,127.23,20.1,Unknown,0\\n65988,Female,26,0,0,No,Private,Rural,191.78,24.7,Unknown,0\\n50001,Female,34,0,0,Yes,Govt_job,Rural,86.36,32.1,smokes,0\\n27034,Female,65,0,0,Yes,Govt_job,Urban,82.72,29.8,smokes,0\\n8950,Female,15,0,0,No,Private,Urban,113.57,27.5,formerly smoked,0\\n31850,Female,17,0,0,No,Private,Urban,89.58,22.8,Unknown,0\\n14288,Female,71,0,0,Yes,Private,Rural,91.85,27.6,formerly smoked,0\\n3180,Female,42,0,0,Yes,Govt_job,Urban,88.89,33,never smoked,0\\n13899,Male,30,0,0,Yes,Private,Urban,79.55,33.7,never smoked,0\\n23730,Female,75,0,0,Yes,Self-employed,Urban,108.62,25.1,Unknown,0\\n6011,Male,9,0,0,No,children,Urban,78.24,15.3,Unknown,0\\n14376,Male,47,0,0,Yes,Private,Rural,88.49,22.2,smokes,0\\n22052,Female,75,1,0,No,Self-employed,Rural,91.85,21.4,formerly smoked,0\\n24836,Female,61,0,0,Yes,Private,Rural,72.01,26,formerly smoked,0\\n11861,Male,61,0,0,Yes,Self-employed,Rural,81.96,29.9,never smoked,0\\n25613,Female,27,0,0,Yes,Private,Urban,70.56,28.6,smokes,0\\n71496,Female,55,0,0,Yes,Private,Urban,71.02,21.2,never smoked,0\\n24074,Female,2,0,0,No,children,Rural,99.75,16,Unknown,0\\n44937,Female,51,0,0,Yes,Govt_job,Urban,127.2,22.7,never smoked,0\\n72082,Female,45,0,0,Yes,Self-employed,Rural,69.76,25.3,smokes,0\\n53271,Male,36,0,0,Yes,Private,Rural,74.63,31.6,formerly smoked,0\\n34077,Male,46,0,0,Yes,Govt_job,Rural,102.27,38.9,formerly smoked,0\\n42330,Female,48,0,0,Yes,Private,Rural,73.56,27.1,smokes,0\\n69487,Female,79,0,0,Yes,Self-employed,Urban,57.77,24.1,formerly smoked,0\\n70973,Female,50,0,0,Yes,Govt_job,Urban,151.25,31.5,never smoked,0\\n44986,Female,79,0,0,Yes,Self-employed,Urban,78.32,32,Unknown,0\\n2633,Male,32,0,0,Yes,Private,Rural,71.5,31.8,never smoked,0\\n21834,Female,36,0,0,Yes,Private,Urban,84.7,34,never smoked,0\\n49196,Female,27,0,0,Yes,Private,Urban,127.28,23.4,Unknown,0\\n22939,Female,22,0,0,No,Private,Rural,80.72,29.3,Unknown,0\\n55400,Female,5,0,0,No,children,Rural,73.92,17.2,Unknown,0\\n30870,Male,9,0,0,No,children,Urban,93.24,31.9,Unknown,0\\n247,Male,31,0,0,No,Private,Urban,72.6,31.6,never smoked,0\\n7979,Female,26,0,0,No,Private,Rural,69.77,23.2,never smoked,0\\n56189,Male,43,0,0,No,Govt_job,Urban,84.43,30,smokes,0\\n3984,Female,33,0,0,Yes,Private,Rural,84.13,26.3,never smoked,0\\n49753,Male,34,0,0,No,Self-employed,Rural,81.54,31.8,formerly smoked,0\\n71719,Male,66,0,0,Yes,Govt_job,Rural,57.17,25.5,formerly smoked,0\\n11313,Female,44,0,0,Yes,Private,Rural,86.15,21.3,never smoked,0\\n38070,Female,56,0,0,Yes,Private,Rural,163.02,29.6,never smoked,0\\n50455,Female,67,0,0,Yes,Self-employed,Urban,110.41,28.7,never smoked,0\\n31766,Male,18,0,0,No,Private,Rural,102.58,30.8,never smoked,0\\n24245,Male,55,0,0,Yes,Private,Urban,90.97,32.1,Unknown,0\\n50726,Male,61,0,0,Yes,Private,Rural,140.96,34,smokes,0\\n29955,Male,0.08,0,0,No,children,Rural,70.33,16.9,Unknown,0\\n64742,Male,48,0,0,No,Self-employed,Rural,64.18,32.1,never smoked,0\\n48518,Male,44,0,0,Yes,Self-employed,Rural,127.57,22.6,never smoked,0\\n42999,Female,68,0,0,Yes,Private,Urban,109.23,31.3,never smoked,0\\n71447,Male,52,0,1,Yes,Private,Urban,124.49,29,never smoked,0\\n61437,Male,15,0,0,No,Govt_job,Rural,142.82,27.6,never smoked,0\\n50428,Male,2,0,0,No,children,Rural,75.69,17.7,Unknown,0\\n8816,Male,60,0,0,Yes,Private,Urban,74.08,35.9,Unknown,0\\n49556,Female,37,0,0,Yes,Govt_job,Urban,75.98,33.8,Unknown,0\\n67654,Female,5,0,0,No,children,Rural,57.8,17.6,Unknown,0\\n21989,Female,25,0,0,No,Private,Urban,76.44,48.3,Unknown,0\\n46434,Male,52,1,0,Yes,Govt_job,Urban,214.43,39.9,smokes,0\\n3205,Female,79,0,0,Yes,Self-employed,Urban,79.03,11.3,Unknown,0\\n68692,Male,61,1,0,Yes,Private,Urban,66.46,31.5,formerly smoked,0\\n44531,Male,36,0,0,Yes,Private,Urban,56.42,29.6,never smoked,0\\n70392,Male,34,0,0,Yes,Private,Rural,112.72,19.4,Unknown,0\\n37025,Female,2,0,0,No,children,Urban,114.02,18.1,Unknown,0\\n68965,Male,43,0,0,Yes,Private,Urban,72.33,36.2,smokes,0\\n53843,Female,1.48,0,0,No,children,Rural,55.59,17.9,Unknown,0\\n5236,Female,49,0,0,Yes,Private,Rural,73.48,33,never smoked,0\\n32110,Female,2,0,0,No,children,Urban,105.05,20.4,Unknown,0\\n17893,Female,82,0,0,Yes,Self-employed,Urban,84.78,33.6,formerly smoked,0\\n65794,Female,81,1,0,Yes,Private,Rural,164.77,34.5,never smoked,0\\n65955,Male,81,1,1,No,Private,Rural,220.64,30,never smoked,0\\n53924,Female,1.08,0,0,No,children,Urban,159.39,12.8,Unknown,0\\n70674,Male,60,0,0,Yes,Self-employed,Urban,69.53,26.2,never smoked,0\\n56410,Male,1.88,0,0,No,children,Urban,81.42,13.5,Unknown,0\\n9955,Female,58,0,0,No,Private,Urban,83.93,25.6,formerly smoked,0\\n8410,Female,8,0,0,No,children,Rural,98.9,18.8,Unknown,0\\n46854,Female,9,0,0,No,children,Urban,82.64,14.5,Unknown,0\\n8168,Female,34,0,0,Yes,Private,Rural,112.54,23.4,formerly smoked,0\\n30405,Female,23,0,0,No,Private,Rural,75.25,39.7,formerly smoked,0\\n1301,Female,74,0,0,No,Self-employed,Urban,204.77,40.8,never smoked,0\\n42348,Male,72,0,1,Yes,Self-employed,Urban,63.86,29.5,smokes,0\\n38560,Male,47,0,0,Yes,Private,Rural,72.2,33,Unknown,0\\n48129,Female,56,0,0,Yes,Private,Urban,80.08,25.6,never smoked,0\\n10511,Male,5,0,0,No,children,Urban,101.61,33.1,Unknown,0\\n42481,Male,27,0,0,Yes,Private,Urban,114.32,28.1,Unknown,0\\n59872,Female,38,0,0,Yes,Private,Rural,80.82,49.3,never smoked,0\\n56282,Male,13,0,0,No,Private,Rural,90.6,16.9,never smoked,0\\n6540,Female,41,0,0,Yes,Private,Rural,93.67,35.9,Unknown,0\\n31378,Female,50,0,0,Yes,Self-employed,Rural,87.15,32.1,never smoked,0\\n32317,Female,41,0,0,Yes,Private,Urban,80.72,34.1,smokes,0\\n9948,Male,6,0,0,No,children,Urban,83.16,15.1,Unknown,0\\n35182,Female,62,0,0,Yes,Govt_job,Rural,98.14,42,Unknown,0\\n5655,Male,4,0,0,No,children,Urban,83.13,16.8,Unknown,0\\n51762,Female,59,0,0,Yes,Private,Rural,134.24,28.8,Unknown,0\\n68193,Male,63,0,0,Yes,Self-employed,Urban,248.37,32.2,smokes,0\\n49459,Male,9,0,0,No,children,Rural,61.75,16.2,Unknown,0\\n54776,Male,41,0,0,No,Private,Urban,70.55,44.2,Unknown,0\\n45701,Female,72,0,1,No,Self-employed,Rural,124.38,23.4,formerly smoked,0\\n7953,Female,45,0,0,Yes,Private,Rural,92.21,31,never smoked,0\\n65508,Male,80,0,0,Yes,Govt_job,Urban,148.72,28.7,never smoked,0\\n68539,Female,19,0,0,No,Private,Urban,79.25,23.6,Unknown,0\\n12022,Male,37,0,0,Yes,Govt_job,Urban,82.09,35.7,smokes,0\\n3348,Female,58,1,0,Yes,Private,Urban,194.53,39.5,never smoked,0\\n58466,Male,77,0,0,Yes,Private,Rural,98.84,27.3,Unknown,0\\n50434,Male,38,0,0,Yes,Govt_job,Rural,135.74,31.3,formerly smoked,0\\n49974,Male,49,0,0,Yes,Private,Rural,66.55,33.4,Unknown,0\\n54574,Female,20,0,0,No,Private,Urban,115.69,29.2,never smoked,0\\n39342,Male,23,0,0,No,Private,Rural,67.76,26,never smoked,0\\n2972,Male,55,0,0,No,Govt_job,Rural,88.65,18.1,formerly smoked,0\\n32717,Male,16,0,0,No,children,Rural,106.11,22.4,Unknown,0\\n14063,Male,81,0,1,No,Self-employed,Rural,95.49,29.4,Unknown,0\\n71724,Female,23,0,0,No,Private,Urban,59.07,21.6,never smoked,0\\n4753,Male,82,0,1,Yes,Self-employed,Urban,228.92,27.9,formerly smoked,0\\n62076,Male,48,0,0,Yes,Private,Rural,62.89,29.6,Unknown,0\\n6665,Male,56,0,0,Yes,Private,Rural,96.84,30.2,Unknown,0\\n51385,Male,61,0,0,Yes,Private,Rural,81.25,43.4,smokes,0\\n66973,Male,43,0,0,Yes,Private,Urban,92.71,30.5,formerly smoked,0\\n59671,Female,39,0,0,No,Private,Rural,85.59,33.2,Unknown,0\\n3946,Female,22,0,0,Yes,Private,Urban,89.06,27.7,never smoked,0\\n17623,Male,41,0,0,No,Self-employed,Urban,87.44,33.5,Unknown,0\\n50644,Male,37,0,0,Yes,Private,Urban,64.07,28,Unknown,0\\n54294,Female,65,0,0,Yes,Govt_job,Urban,79.39,31.5,formerly smoked,0\\n46767,Female,8,0,0,No,children,Rural,67.84,24,Unknown,0\\n12911,Female,51,0,0,Yes,Private,Rural,81.73,27.4,never smoked,0\\n16109,Male,63,0,0,Yes,Private,Urban,105.52,37.9,formerly smoked,0\\n47499,Female,48,0,0,Yes,Govt_job,Rural,77.55,26.2,Unknown,0\\n8790,Female,17,0,0,No,Private,Urban,127.42,22.4,Unknown,0\\n11259,Female,53,0,0,Yes,Private,Urban,227.68,N/A,never smoked,0\\n12003,Female,75,0,0,Yes,Private,Rural,226.73,43.7,never smoked,0\\n71099,Female,51,0,0,Yes,Self-employed,Urban,89.74,28.4,never smoked,0\\n62090,Male,51,0,0,No,Self-employed,Rural,219.17,29.8,never smoked,0\\n10138,Female,41,0,0,Yes,Private,Urban,74.85,24.8,formerly smoked,0\\n71424,Female,75,1,0,Yes,Self-employed,Urban,55.96,34.8,never smoked,0\\n44759,Male,57,0,0,Yes,Private,Urban,215.92,27.4,smokes,0\\n21953,Female,33,0,0,No,Private,Urban,84.4,N/A,smokes,0\\n52234,Female,72,0,0,Yes,Govt_job,Urban,104.05,33.5,never smoked,0\\n46461,Female,52,0,0,Yes,Private,Urban,62.54,35,smokes,0\\n6973,Male,11,0,0,No,children,Rural,87.54,24.4,Unknown,0\\n5068,Female,28,0,0,No,Private,Urban,76.81,28.3,smokes,0\\n65277,Female,78,1,0,No,Self-employed,Rural,198.12,29.1,never smoked,0\\n52679,Female,82,0,0,Yes,Self-employed,Rural,78,31.3,formerly smoked,0\\n36728,Male,74,0,0,Yes,Private,Urban,79.44,32.8,never smoked,0\\n46797,Female,31,0,0,Yes,Private,Rural,75.82,29.1,never smoked,0\\n63898,Female,53,1,0,Yes,Private,Urban,240.86,31.9,never smoked,0\\n11371,Male,0.24,0,0,No,children,Urban,89.28,14.2,Unknown,0\\n13155,Female,67,1,0,Yes,Govt_job,Rural,263.56,26.3,never smoked,0\\n27125,Female,17,0,0,No,Private,Urban,81.13,22.8,never smoked,0\\n15383,Female,29,0,0,Yes,Private,Urban,118.44,24.8,never smoked,0\\n19828,Female,56,1,0,Yes,Private,Rural,97.37,34.1,smokes,0\\n6289,Female,15,0,0,No,children,Urban,80.51,21.5,Unknown,0\\n44243,Female,29,0,0,No,Private,Rural,78.88,26.1,never smoked,0\\n40167,Female,79,1,1,Yes,Govt_job,Rural,83.61,21.4,smokes,0\\n38078,Female,82,1,1,Yes,Private,Urban,73.19,33.5,never smoked,0\\n34257,Male,17,0,0,No,Govt_job,Urban,68.91,23,Unknown,0\\n21653,Male,8,0,0,No,children,Rural,104.3,18.5,Unknown,0\\n63764,Male,23,0,0,No,Private,Urban,87.87,23.4,never smoked,0\\n22194,Female,36,0,0,Yes,Private,Urban,96.7,31.4,Unknown,0\\n16010,Male,47,0,0,Yes,Private,Rural,91.05,31.1,formerly smoked,0\\n5074,Male,24,0,0,No,Private,Rural,200.14,37.7,smokes,0\\n10243,Female,60,0,0,Yes,Govt_job,Urban,73.04,25.3,never smoked,0\\n52588,Female,63,0,0,Yes,Private,Rural,85.81,35.6,never smoked,0\\n56996,Male,44,0,0,Yes,Private,Urban,65.41,24.8,smokes,0\\n28315,Male,38,0,0,Yes,Private,Rural,108.68,32.7,never smoked,0\\n15104,Female,26,0,0,Yes,Private,Rural,88.79,24.9,never smoked,0\\n26604,Female,18,0,0,No,Private,Rural,107.82,26,never smoked,0\\n27916,Male,18,0,0,No,Private,Urban,97.39,22.8,never smoked,0\\n60249,Male,13,0,0,No,Private,Urban,141.09,24,Unknown,0\\n45787,Male,13,0,0,No,children,Urban,122.38,20.3,Unknown,0\\n65526,Female,47,0,0,Yes,Private,Urban,77.91,30.3,formerly smoked,0\\n72354,Female,80,1,0,Yes,Self-employed,Rural,103.6,23.7,never smoked,0\\n38938,Female,24,0,0,No,Private,Rural,159.7,25.7,Unknown,0\\n39017,Female,72,0,0,Yes,Govt_job,Rural,118.22,21.9,formerly smoked,0\\n13219,Male,5,0,0,No,children,Urban,84.5,15.8,Unknown,0\\n3003,Female,51,0,0,Yes,Govt_job,Rural,85.59,30.5,never smoked,0\\n34543,Female,82,0,0,Yes,Self-employed,Rural,84.42,25.7,Unknown,0\\n21762,Male,5,0,0,No,children,Rural,100.98,19,Unknown,0\\n22003,Male,66,0,0,Yes,Private,Rural,81.11,28.8,formerly smoked,0\\n6731,Female,53,0,0,No,Private,Rural,235.45,N/A,formerly smoked,0\\n19032,Female,15,0,0,No,Private,Rural,79.2,22.4,never smoked,0\\n55370,Female,53,0,0,Yes,Private,Urban,207.71,32.4,Unknown,0\\n57288,Female,78,0,0,Yes,Private,Rural,99.84,36.6,never smoked,0\\n31925,Female,62,0,0,Yes,Private,Rural,98.05,27.9,never smoked,0\\n8264,Male,41,0,0,Yes,Self-employed,Rural,105.9,27.7,Unknown,0\\n448,Female,49,0,0,Yes,Private,Rural,107.55,N/A,Unknown,0\\n38783,Female,41,0,0,Yes,Self-employed,Urban,146.21,34.3,Unknown,0\\n45961,Female,78,0,0,Yes,Private,Urban,79.94,26.7,never smoked,0\\n27518,Male,14,0,0,No,Self-employed,Rural,72.28,19,Unknown,0\\n51106,Female,1.48,0,0,No,children,Rural,123.1,20.6,Unknown,0\\n42251,Male,71,1,1,Yes,Self-employed,Rural,67.06,26.7,smokes,0\\n33115,Male,32,0,0,Yes,Private,Rural,82.68,29.2,never smoked,0\\n31701,Male,16,0,0,No,Private,Rural,125.89,21.3,never smoked,0\\n21661,Female,68,0,0,Yes,Govt_job,Urban,228.05,51.9,Unknown,0\\n18837,Male,0.56,0,0,No,children,Urban,98.23,14.1,Unknown,0\\n57777,Female,59,0,0,Yes,Self-employed,Urban,90.06,28.9,smokes,0\\n62610,Male,32,0,0,Yes,Private,Urban,119.9,30.9,smokes,0\\n2730,Male,58,0,0,Yes,Private,Urban,94.53,36.1,never smoked,0\\n51116,Female,40,0,0,Yes,Self-employed,Urban,64.66,25,formerly smoked,0\\n22607,Female,41,0,0,Yes,Private,Urban,103.79,28.6,never smoked,0\\n11595,Female,21,0,0,No,Private,Urban,88.51,20.5,never smoked,0\\n24355,Female,1.88,0,0,No,children,Rural,97.26,16.7,Unknown,0\\n32563,Male,55,0,0,Yes,Govt_job,Urban,92.59,36.6,never smoked,0\\n18266,Female,67,0,0,Yes,Private,Rural,102.89,26.4,never smoked,0\\n60088,Male,49,1,0,Yes,Self-employed,Rural,92.26,33.1,formerly smoked,0\\n14912,Female,42,0,0,Yes,Private,Rural,80,27.5,never smoked,0\\n49939,Female,54,0,0,Yes,Self-employed,Urban,56.75,26.9,never smoked,0\\n64534,Female,25,0,0,Yes,Private,Urban,104.66,23.9,never smoked,0\\n62914,Male,62,0,0,Yes,Private,Rural,60.39,26.9,Unknown,0\\n4297,Male,75,0,0,Yes,Govt_job,Urban,223.14,27.8,never smoked,0\\n20399,Female,72,1,0,Yes,Private,Urban,105.51,32.7,never smoked,0\\n1112,Female,14,0,0,No,Private,Urban,83.42,28.7,never smoked,0\\n13276,Female,38,0,0,Yes,Private,Urban,71.06,22.6,Unknown,0\\n1260,Male,59,0,0,Yes,Govt_job,Urban,101.24,26.5,never smoked,0\\n40509,Female,23,0,0,No,Private,Urban,91.19,28.3,never smoked,0\\n15241,Female,63,1,1,No,Govt_job,Urban,174.43,24.3,never smoked,0\\n31344,Male,82,0,0,Yes,Self-employed,Urban,214.51,24,formerly smoked,0\\n55169,Male,34,0,0,Yes,Private,Rural,72.64,32.4,never smoked,0\\n55740,Female,8,0,0,No,children,Urban,62.69,28.7,Unknown,0\\n62513,Female,28,0,0,Yes,Private,Rural,141.16,36.7,never smoked,0\\n18040,Female,49,0,0,Yes,Govt_job,Rural,89.61,27.7,never smoked,0\\n10374,Female,24,0,0,Yes,Private,Rural,76.42,24.8,smokes,0\\n37209,Male,17,0,0,No,Never_worked,Rural,124.38,31.2,never smoked,0\\n62306,Female,69,1,0,Yes,Self-employed,Urban,111.81,26.1,formerly smoked,0\\n54101,Female,58,0,0,Yes,Self-employed,Rural,57.57,26.8,Unknown,0\\n12259,Male,50,0,0,Yes,Private,Urban,77.82,26.7,formerly smoked,0\\n37634,Male,5,0,0,No,children,Urban,60.09,19.6,Unknown,0\\n22548,Female,34,0,0,Yes,Private,Urban,91.02,25.8,never smoked,0\\n65407,Female,64,0,0,Yes,Self-employed,Rural,65.46,32.5,formerly smoked,0\\n50723,Male,47,0,0,Yes,Private,Rural,131.19,28.3,smokes,0\\n20890,Female,61,0,0,Yes,Private,Rural,79.89,24.5,smokes,0\\n52472,Male,14,0,0,No,children,Urban,74.54,25.2,Unknown,0\\n42859,Female,57,0,0,Yes,Private,Urban,231.31,32.3,never smoked,0\\n3167,Male,53,0,1,Yes,Private,Urban,91.57,30.1,formerly smoked,0\\n56469,Male,67,0,0,Yes,Private,Urban,238.78,35.7,formerly smoked,0\\n23851,Female,57,0,0,No,Private,Rural,87.18,20,formerly smoked,0\\n30571,Female,38,0,0,Yes,Govt_job,Rural,78.94,23.5,Unknown,0\\n67786,Female,13,0,0,No,children,Rural,69.01,23.4,Unknown,0\\n41404,Female,37,0,0,Yes,Private,Rural,110.28,22.3,never smoked,0\\n33960,Male,39,1,0,Yes,Self-employed,Urban,71.66,28.7,never smoked,0\\n70833,Female,13,0,0,No,Private,Urban,62.57,20.9,Unknown,0\\n65731,Male,57,0,0,Yes,Self-employed,Urban,83.64,29.4,smokes,0\\n57968,Female,11,0,0,No,children,Urban,107.18,27.6,Unknown,0\\n57539,Female,68,0,0,Yes,Private,Rural,233.59,43.9,never smoked,0\\n17745,Male,79,1,0,Yes,Self-employed,Urban,84.88,28.7,formerly smoked,0\\n33252,Female,24,0,0,No,Private,Rural,97.95,34.7,Unknown,0\\n69789,Female,44,0,0,Yes,Private,Rural,58.19,37.1,Unknown,0\\n40076,Female,46,0,0,Yes,Private,Rural,70.11,24.2,never smoked,0\\n10323,Female,66,0,0,Yes,Private,Urban,112.77,22.7,smokes,0\\n23514,Female,61,0,0,Yes,Self-employed,Urban,75.46,29.3,formerly smoked,0\\n37395,Female,16,0,0,No,Private,Urban,63.63,20,smokes,0\\n8240,Female,37,0,0,Yes,Private,Urban,100.22,22.7,smokes,0\\n9620,Female,43,0,0,Yes,Govt_job,Rural,81.77,25.4,never smoked,0\\n7092,Female,27,0,0,Yes,Private,Rural,94.25,37.6,never smoked,0\\n50216,Male,44,1,0,Yes,Self-employed,Rural,188.13,44.7,formerly smoked,0\\n59506,Male,14,0,0,No,Private,Rural,164.7,26.3,Unknown,0\\n43397,Male,81,0,1,Yes,Self-employed,Rural,68.27,25,Unknown,0\\n62384,Male,52,0,1,No,Self-employed,Rural,79.81,N/A,formerly smoked,0\\n10651,Male,54,1,0,Yes,Govt_job,Rural,100.12,32.3,formerly smoked,0\\n69750,Female,77,0,0,Yes,Self-employed,Urban,151.23,24.9,never smoked,0\\n55455,Male,27,0,0,No,Private,Rural,112.41,33.7,never smoked,0\\n34230,Female,35,0,0,Yes,Self-employed,Urban,205.97,26.6,formerly smoked,0\\n65154,Female,30,0,0,Yes,Private,Urban,112.19,53.4,never smoked,0\\n36298,Female,48,0,0,Yes,Self-employed,Rural,71.93,41.7,never smoked,0\\n13171,Female,15,0,0,No,children,Urban,190.89,22,never smoked,0\\n62983,Female,26,0,0,Yes,Private,Urban,138.02,20.3,smokes,0\\n44834,Female,38,0,0,Yes,Private,Rural,66.16,42.7,Unknown,0\\n67411,Male,29,0,0,No,Private,Rural,105.73,28.2,smokes,0\\n5455,Male,49,0,0,Yes,Private,Rural,78.34,32.5,Unknown,0\\n49267,Female,55,0,0,Yes,Private,Urban,102.1,22.5,formerly smoked,0\\n60464,Male,52,0,0,Yes,Private,Urban,97.37,26.5,smokes,0\\n56286,Male,49,0,0,Yes,Private,Urban,193.87,41,Unknown,0\\n5223,Female,21,0,0,No,Private,Rural,78.32,27,Unknown,0\\n53302,Female,24,0,0,Yes,Private,Rural,130,25.9,formerly smoked,0\\n59309,Male,18,0,0,No,Self-employed,Urban,74,23.7,Unknown,0\\n69824,Male,52,0,0,Yes,Private,Rural,111.04,30,never smoked,0\\n13173,Male,70,1,0,Yes,Private,Urban,214.77,15,formerly smoked,0\\n52579,Female,51,0,0,Yes,Self-employed,Rural,97.25,21.5,never smoked,0\\n59451,Male,58,0,0,Yes,Private,Urban,79.95,25.9,never smoked,0\\n56875,Female,46,0,0,Yes,Govt_job,Urban,162.24,24.3,smokes,0\\n16774,Female,79,0,0,No,Self-employed,Urban,74.36,39.2,Unknown,0\\n61672,Female,11,0,0,No,children,Urban,69.68,14.4,Unknown,0\\n25811,Female,61,0,0,Yes,Private,Urban,98.35,26.6,never smoked,0\\n7780,Male,51,0,0,Yes,Self-employed,Urban,75.73,30.7,never smoked,0\\n58149,Female,21,0,0,No,Private,Rural,85.86,35.4,Unknown,0\\n38742,Female,71,0,0,Yes,Private,Urban,80.34,29.2,never smoked,0\\n29613,Female,13,0,0,No,Private,Rural,73.76,26.7,Unknown,0\\n20655,Male,16,0,0,No,Private,Rural,94.96,21.5,never smoked,0\\n53897,Female,61,0,0,Yes,Private,Urban,108.18,19.1,never smoked,0\\n29792,Female,49,0,0,Yes,Private,Rural,85.23,25.4,Unknown,0\\n15990,Male,65,1,0,Yes,Govt_job,Rural,189.88,34,never smoked,0\\n45112,Male,40,0,0,No,Govt_job,Urban,197.11,23.9,never smoked,0\\n28385,Female,44,0,0,Yes,Private,Rural,100.08,20.9,smokes,0\\n63423,Male,11,0,0,No,children,Rural,68.62,18.2,Unknown,0\\n187,Female,20,0,0,No,Private,Rural,84.07,27.6,smokes,0\\n18891,Male,24,0,0,No,Govt_job,Rural,99.65,50.3,never smoked,0\\n34657,Female,44,0,0,Yes,Self-employed,Urban,82.33,24.5,never smoked,0\\n40546,Male,5,0,0,No,children,Urban,94.49,16.6,Unknown,0\\n56755,Male,41,0,0,Yes,Private,Rural,108.71,24,never smoked,0\\n71097,Female,23,0,0,No,Private,Urban,64.94,18.8,never smoked,0\\n21025,Female,7,0,0,No,children,Urban,98.22,34,Unknown,0\\n69020,Female,74,0,0,Yes,Private,Urban,83.5,25.8,never smoked,0\\n48883,Male,61,0,0,Yes,Govt_job,Rural,192.47,30.3,never smoked,0\\n71297,Female,80,1,0,Yes,Private,Urban,125.89,28.9,smokes,0\\n52216,Female,35,0,0,Yes,Private,Urban,87.72,21.3,never smoked,0\\n20421,Female,43,0,0,Yes,Private,Rural,68.94,26.8,never smoked,0\\n36896,Male,25,0,0,Yes,Private,Rural,66.51,29.2,Unknown,0\\n23535,Male,72,0,1,Yes,Self-employed,Urban,85.82,25,formerly smoked,0\\n1323,Female,45,0,0,Yes,Private,Rural,87.47,21.5,never smoked,0\\n47309,Male,9,0,0,No,children,Urban,87.74,17.1,Unknown,0\\n34161,Male,33,1,0,Yes,Private,Rural,85.12,32.5,never smoked,0\\n57405,Male,53,0,0,Yes,Self-employed,Urban,103.37,26.9,formerly smoked,0\\n15824,Female,67,0,0,Yes,Private,Rural,81.68,30.4,never smoked,0\\n32103,Male,59,0,0,Yes,Self-employed,Urban,76.51,29.8,never smoked,0\\n18205,Female,1.32,0,0,No,children,Rural,110.17,20.3,Unknown,0\\n71420,Male,27,0,0,No,Govt_job,Rural,65.12,41.1,smokes,0\\n298,Female,41,0,0,Yes,Self-employed,Rural,76.66,N/A,Unknown,0\\n15136,Male,64,0,1,Yes,Private,Rural,109.88,33.9,Unknown,0\\n9879,Female,55,0,1,Yes,Private,Urban,199.38,39,Unknown,0\\n68302,Female,40,0,0,Yes,Private,Urban,65.77,31.2,never smoked,0\\n65507,Male,33,0,0,Yes,Private,Rural,55.72,38.2,never smoked,0\\n63949,Female,33,0,0,Yes,Govt_job,Urban,75.67,44.7,never smoked,0\\n62475,Male,39,1,0,Yes,Private,Rural,88.18,33.5,smokes,0\\n35648,Female,74,0,0,Yes,Self-employed,Rural,95.94,27,never smoked,0\\n72276,Male,38,0,0,Yes,Private,Urban,86.93,31.1,never smoked,0\\n49661,Male,53,0,0,Yes,Govt_job,Urban,85.17,29.2,never smoked,0\\n31590,Male,22,0,0,No,Private,Urban,111.1,26.6,never smoked,0\\n8584,Female,5,0,0,No,children,Rural,92,17.9,Unknown,0\\n7964,Male,24,0,0,No,Private,Urban,97.47,24.2,formerly smoked,0\\n25130,Female,27,0,0,Yes,Private,Urban,79.21,19.5,Unknown,0\\n3531,Male,41,0,0,Yes,Private,Rural,83.97,28.5,formerly smoked,0\\n6529,Female,20,0,0,No,Private,Urban,98.55,21.3,never smoked,0\\n22272,Female,71,1,0,Yes,Private,Rural,202.98,41.3,never smoked,0\\n40702,Female,65,0,0,No,Govt_job,Urban,60.7,31.3,never smoked,0\\n1656,Male,38,0,0,Yes,Private,Urban,92.22,40.8,never smoked,0\\n51988,Female,25,0,0,Yes,Private,Rural,79.94,36.6,Unknown,0\\n48323,Male,53,0,0,Yes,Govt_job,Rural,83.68,26.7,Unknown,0\\n35155,Female,50,0,0,Yes,Self-employed,Urban,69.92,18.7,formerly smoked,0\\n46314,Female,1.24,0,0,No,children,Rural,136.96,15.2,Unknown,0\\n12906,Female,55,0,0,Yes,Self-employed,Rural,95.32,26.8,never smoked,0\\n24961,Female,38,0,0,Yes,Private,Rural,107.78,25.1,never smoked,0\\n14000,Female,72,1,1,Yes,Private,Urban,198.32,31.3,formerly smoked,0\\n23047,Male,43,0,0,Yes,Private,Urban,100.16,59.7,never smoked,0\\n6827,Male,30,0,0,Yes,Private,Urban,96.02,29.8,never smoked,0\\n44656,Female,69,1,0,Yes,Private,Rural,112.69,33.5,formerly smoked,0\\n59801,Female,61,0,0,Yes,Private,Urban,60.61,24.5,never smoked,0\\n51073,Female,34,0,0,Yes,Self-employed,Urban,79.77,33.6,never smoked,0\\n34966,Female,43,0,0,Yes,Self-employed,Urban,87.41,39.7,formerly smoked,0\\n41122,Female,62,0,0,Yes,Private,Rural,226.38,47.4,never smoked,0\\n4449,Male,48,0,0,Yes,Govt_job,Rural,124.64,26.4,smokes,0\\n54726,Female,37,0,0,Yes,Private,Urban,69.42,33,never smoked,0\\n1772,Female,64,0,0,Yes,Govt_job,Urban,77.68,31.4,never smoked,0\\n4850,Male,51,0,0,Yes,Private,Rural,112.79,27.2,never smoked,0\\n44886,Male,69,1,0,Yes,Self-employed,Rural,236.79,35.7,formerly smoked,0\\n26076,Female,75,1,0,Yes,Self-employed,Rural,219.82,29.5,formerly smoked,0\\n54962,Female,27,0,0,No,Private,Urban,82.05,21,Unknown,0\\n1116,Female,49,0,0,No,Govt_job,Rural,104.08,26.6,never smoked,0\\n28247,Male,82,0,0,No,Self-employed,Urban,101.57,24.3,smokes,0\\n39563,Female,36,0,0,Yes,Private,Rural,71.32,43.9,smokes,0\\n49553,Male,1.88,0,0,No,children,Rural,143.97,N/A,Unknown,0\\n14872,Male,45,1,0,Yes,Self-employed,Rural,239.19,52.5,Unknown,0\\n57598,Female,64,0,0,Yes,Private,Rural,78.45,27,formerly smoked,0\\n70022,Male,32,0,0,No,Private,Rural,61.11,32.7,never smoked,0\\n70365,Female,15,0,0,No,Private,Urban,87.29,29.4,Unknown,0\\n57219,Female,1.64,0,0,No,children,Rural,82.49,15.1,Unknown,0\\n28344,Male,34,0,0,Yes,Private,Urban,83.15,32.1,Unknown,0\\n50785,Male,17,0,0,No,Private,Rural,83.26,32.9,never smoked,0\\n17251,Female,76,1,0,Yes,Self-employed,Urban,78.7,27.6,formerly smoked,0\\n48459,Male,61,0,0,Yes,Self-employed,Urban,111.94,26.5,smokes,0\\n68843,Male,30,0,0,Yes,Private,Rural,104.77,19.2,smokes,0\\n27523,Female,18,0,0,No,Private,Urban,104.26,25.9,Unknown,0\\n61651,Male,48,0,0,Yes,Private,Rural,113.84,21.9,never smoked,0\\n22877,Male,0.16,0,0,No,children,Urban,114.71,17.4,Unknown,0\\n52859,Female,4,0,0,No,children,Urban,61.54,13.2,Unknown,0\\n55631,Male,38,0,0,Yes,Private,Rural,133.62,25.2,never smoked,0\\n7003,Female,27,0,0,Yes,Private,Rural,111.96,28.2,never smoked,0\\n68447,Female,50,0,0,No,Private,Urban,112.44,31.5,Unknown,0\\n13817,Male,19,0,0,No,Private,Urban,123.61,25.2,Unknown,0\\n12117,Male,8,0,0,No,children,Urban,84.68,14.5,Unknown,0\\n40210,Male,78,0,1,Yes,Self-employed,Rural,206.62,28,formerly smoked,0\\n23360,Male,0.8,0,0,No,children,Rural,114.54,15.1,Unknown,0\\n28447,Female,53,1,0,Yes,Private,Rural,216.88,31.4,smokes,0\\n72398,Female,73,1,0,Yes,Private,Urban,110.38,26.3,never smoked,0\\n7859,Male,34,0,0,Yes,Private,Urban,99.23,N/A,smokes,0\\n20140,Male,58,0,0,Yes,Govt_job,Rural,204.92,39.6,never smoked,0\\n46903,Female,62,0,0,Yes,Private,Urban,56.74,28.9,never smoked,0\\n61333,Female,78,0,0,No,Self-employed,Rural,68.35,31.4,Unknown,0\\n7403,Female,51,0,0,Yes,Private,Urban,83.52,34.3,Unknown,0\\n69370,Male,78,0,0,Yes,Govt_job,Urban,59.74,27,formerly smoked,0\\n43549,Female,40,1,0,Yes,Private,Rural,81.59,27.2,never smoked,0\\n2903,Female,35,0,0,No,Private,Rural,123.83,23.8,never smoked,0\\n70268,Male,82,0,0,Yes,Private,Urban,226.84,25.3,formerly smoked,0\\n11003,Female,46,0,0,Yes,Self-employed,Rural,93.2,32.6,Unknown,0\\n61475,Female,51,1,0,Yes,Private,Rural,85.84,31.8,never smoked,0\\n27608,Female,53,0,0,Yes,Govt_job,Urban,74.64,22.4,Unknown,0\\n9923,Male,55,0,1,Yes,Private,Urban,80.17,28,never smoked,0\\n28091,Female,43,0,0,Yes,Govt_job,Urban,85.03,23.9,formerly smoked,0\\n59749,Male,81,0,0,Yes,Private,Urban,234.35,25.3,formerly smoked,0\\n8719,Male,12,0,0,No,children,Urban,116.25,16.4,formerly smoked,0\\n58154,Female,20,0,0,No,Private,Urban,66.55,26.9,smokes,0\\n31712,Female,53,0,0,Yes,Private,Urban,88.38,25.4,never smoked,0\\n14249,Female,1.32,0,0,No,children,Urban,81.05,18.7,Unknown,0\\n30693,Female,22,0,0,No,Private,Urban,68.4,37.5,never smoked,0\\n18866,Female,75,0,0,Yes,Self-employed,Urban,96.95,41.4,never smoked,0\\n36909,Female,66,0,0,Yes,Self-employed,Rural,66.24,37.5,never smoked,0\\n63562,Male,7,0,0,No,children,Rural,91.81,15.8,Unknown,0\\n29352,Female,26,0,0,No,Private,Urban,84.86,37.6,never smoked,0\\n44024,Female,14,0,0,No,Private,Rural,118.88,30.5,never smoked,0\\n24068,Female,32,0,0,Yes,Private,Urban,85.91,22.1,Unknown,0\\n57602,Male,6,0,0,No,children,Rural,115.4,19.2,Unknown,0\\n16536,Female,42,0,0,Yes,Self-employed,Rural,75.34,38,never smoked,0\\n6639,Male,4,0,0,No,children,Rural,100.19,18.7,Unknown,0\\n6528,Male,75,0,0,Yes,Govt_job,Urban,200.73,25.7,formerly smoked,0\\n42594,Male,80,1,0,Yes,Govt_job,Urban,114.09,30.1,never smoked,0\\n59045,Female,52,0,0,Yes,Private,Urban,67.3,36.3,never smoked,0\\n31608,Male,11,0,0,No,children,Rural,96.91,20.4,Unknown,0\\n47949,Male,14,0,0,No,children,Rural,116.2,20.9,Unknown,0\\n41362,Female,74,0,0,Yes,Self-employed,Rural,72.54,28.4,never smoked,0\\n18187,Male,58,0,0,Yes,Private,Rural,96.01,33.8,Unknown,0\\n8983,Female,80,1,0,Yes,Private,Urban,89.16,24,never smoked,0\\n20098,Female,31,0,0,Yes,Self-employed,Rural,108.64,43.3,never smoked,0\\n3777,Female,28,1,0,Yes,Govt_job,Rural,83.66,36.4,never smoked,0\\n11651,Female,25,0,0,Yes,Private,Rural,81.21,37.9,never smoked,0\\n28527,Male,71,0,0,No,Private,Urban,86.96,32.6,never smoked,0\\n63282,Female,51,0,0,Yes,Govt_job,Rural,92.95,23.9,never smoked,0\\n37038,Male,15,0,0,No,children,Urban,95.86,18.1,Unknown,0\\n4528,Male,45,1,0,No,Private,Rural,85.52,36.4,never smoked,0\\n41665,Male,53,0,0,Yes,Govt_job,Rural,159.39,29.2,never smoked,0\\n26539,Male,69,0,0,Yes,Self-employed,Urban,202.51,30.8,formerly smoked,0\\n25325,Female,42,0,0,Yes,Private,Rural,82.24,23.8,formerly smoked,0\\n69462,Female,4,0,0,No,children,Rural,109.81,17.9,Unknown,0\\n29816,Male,64,1,0,Yes,Private,Rural,91.85,31.8,formerly smoked,0\\n47784,Female,5,0,0,No,children,Rural,123.49,19.5,Unknown,0\\n18181,Male,44,0,0,Yes,Private,Rural,105.49,31.5,smokes,0\\n8614,Male,78,0,1,Yes,Self-employed,Urban,101.53,24.1,formerly smoked,0\\n347,Female,16,0,0,No,Private,Urban,89.45,N/A,Unknown,0\\n61336,Female,69,0,0,Yes,Self-employed,Urban,126.04,35.9,never smoked,0\\n27647,Male,80,0,1,Yes,Self-employed,Rural,95.49,31.6,Unknown,0\\n25676,Female,7,0,0,No,children,Rural,89.38,19,Unknown,0\\n65894,Female,2,0,0,No,children,Urban,82.3,18.8,Unknown,0\\n2291,Female,80,1,0,Yes,Self-employed,Urban,218,33.5,Unknown,0\\n25630,Female,69,0,0,Yes,Self-employed,Urban,79.7,25,never smoked,0\\n38575,Male,58,1,0,Yes,Self-employed,Rural,209.15,52.9,formerly smoked,0\\n29326,Female,75,0,0,Yes,Self-employed,Rural,70.22,24.8,formerly smoked,0\\n59292,Female,60,0,0,Yes,Self-employed,Rural,83.57,24.5,never smoked,0\\n52051,Female,75,0,0,Yes,Self-employed,Urban,60.6,40.4,smokes,0\\n64508,Female,10,0,0,No,children,Urban,97.24,20.2,Unknown,0\\n36593,Male,38,0,0,No,Private,Rural,162.72,31.9,smokes,0\\n39834,Male,28,0,0,No,Private,Urban,73.27,25.4,smokes,0\\n54111,Female,3,0,0,No,children,Urban,92.62,15.4,Unknown,0\\n53476,Female,31,0,0,Yes,Private,Urban,90,38.6,never smoked,0\\n479,Female,59,1,0,Yes,Private,Rural,78.28,31,formerly smoked,0\\n37237,Female,31,0,0,No,Private,Rural,87.81,26.4,smokes,0\\n5496,Female,45,0,0,Yes,Private,Urban,202.66,N/A,never smoked,0\\n56075,Female,58,0,0,Yes,Private,Rural,196.5,37.7,never smoked,0\\n46130,Female,57,0,0,Yes,Self-employed,Urban,142.31,35.2,smokes,0\\n7730,Male,31,0,0,No,Private,Rural,94.96,54.7,smokes,0\\n12380,Male,43,0,0,Yes,Govt_job,Rural,83.78,21.6,never smoked,0\\n15324,Female,40,0,0,No,Private,Urban,86.1,23.9,Unknown,0\\n11658,Male,1.08,0,0,No,children,Rural,74.5,N/A,Unknown,0\\n22778,Male,34,0,0,Yes,Private,Urban,66.96,26.1,never smoked,0\\n4128,Female,55,0,0,Yes,Private,Rural,76.7,39.7,formerly smoked,0\\n36825,Female,39,0,0,Yes,Private,Rural,103.12,29.9,formerly smoked,0\\n1454,Female,42,0,0,No,Private,Urban,84.03,31.4,never smoked,0\\n12674,Male,44,0,0,Yes,Private,Rural,74.15,34.5,formerly smoked,0\\n55375,Male,69,1,0,Yes,Private,Rural,73.29,29.4,never smoked,0\\n3726,Male,16,0,0,No,Private,Urban,115.16,26.9,Unknown,0\\n48652,Female,8,0,0,No,children,Urban,83.55,22.4,Unknown,0\\n68657,Female,1.48,0,0,No,children,Urban,61.53,20.5,Unknown,0\\n17337,Female,1.88,0,0,No,children,Rural,100.74,18.6,Unknown,0\\n44831,Female,69,0,0,No,Private,Urban,59.31,31.4,smokes,0\\n68420,Female,13,0,0,No,children,Urban,63.22,18.5,formerly smoked,0\\n39632,Female,53,0,0,Yes,Private,Urban,209.5,41.8,never smoked,0\\n49095,Female,16,0,0,No,children,Urban,64.51,21.2,Unknown,0\\n46292,Male,64,0,0,Yes,Private,Rural,90.07,28.6,never smoked,0\\n43492,Female,7,0,0,No,children,Urban,113.95,16,Unknown,0\\n55766,Male,41,0,0,Yes,Private,Rural,119.32,30.6,Unknown,0\\n17740,Male,65,0,0,Yes,Private,Rural,99.12,29,formerly smoked,0\\n64189,Male,61,0,0,Yes,Self-employed,Rural,152.84,28.6,Unknown,0\\n24202,Male,63,0,0,Yes,Private,Rural,78.23,34.8,never smoked,0\\n32514,Male,1.8,0,0,No,children,Urban,68.8,N/A,Unknown,0\\n9866,Female,54,0,0,Yes,Private,Urban,76.05,42,Unknown,0\\n54816,Female,14,0,0,No,children,Rural,116.49,30.3,never smoked,0\\n59880,Male,45,0,0,Yes,Private,Rural,99.91,30.9,Unknown,0\\n20625,Male,51,1,0,Yes,Private,Urban,76.1,32.1,smokes,0\\n65969,Male,8,0,0,No,children,Rural,121.99,19.6,Unknown,0\\n56923,Male,52,1,0,Yes,Private,Rural,116.21,32.8,smokes,0\\n44001,Female,39,0,0,Yes,Private,Urban,55.28,31.5,Unknown,0\\n51852,Female,13,0,0,No,children,Rural,219.81,N/A,Unknown,0\\n27176,Female,69,0,0,Yes,Private,Rural,103.73,34.7,never smoked,0\\n70874,Male,71,1,0,Yes,Govt_job,Urban,153.08,21.5,Unknown,0\\n34287,Female,73,0,0,Yes,Self-employed,Rural,98.69,27.6,Unknown,0\\n23052,Female,54,0,0,Yes,Private,Rural,94.11,28.6,formerly smoked,0\\n67499,Male,10,0,0,No,children,Rural,117.03,21.1,never smoked,0\\n5380,Female,26,0,0,Yes,Private,Urban,91.35,23.8,never smoked,0\\n20154,Female,41,0,0,Yes,Private,Rural,82.48,33.5,Unknown,0\\n29546,Male,71,0,0,Yes,Govt_job,Rural,99.76,33.4,formerly smoked,0\\n3718,Female,46,0,0,Yes,Govt_job,Urban,111.1,23.3,smokes,0\\n43734,Male,15,0,0,No,Private,Rural,122.25,21,never smoked,0\\n41917,Female,29,0,0,No,Private,Urban,84.19,21.2,never smoked,0\\n8050,Male,8,0,0,No,children,Urban,84.6,18.4,Unknown,0\\n44426,Female,21,0,0,Yes,Private,Urban,126.35,26.9,never smoked,0\\n34700,Female,56,1,0,No,Self-employed,Urban,87.5,20.2,formerly smoked,0\\n70230,Female,14,0,0,No,Self-employed,Rural,77.52,21.9,never smoked,0\\n68721,Female,78,0,0,Yes,Private,Rural,133.13,24.2,Unknown,0\\n23170,Female,36,0,0,No,Private,Urban,96.1,29.6,never smoked,0\\n5731,Female,57,1,0,Yes,Private,Urban,108.61,38.1,smokes,0\\n62791,Male,79,1,1,Yes,Self-employed,Rural,205.23,22,never smoked,0\\n18943,Male,26,0,0,No,Govt_job,Rural,76.74,29.8,Unknown,0\\n45472,Male,22,0,0,Yes,Private,Urban,138.55,24,never smoked,0\\n3942,Male,72,0,1,Yes,Private,Urban,234.27,26.9,never smoked,0\\n30201,Female,54,0,0,Yes,Private,Urban,75.16,38,never smoked,0\\n38284,Male,8,0,0,No,children,Rural,77.08,16.9,Unknown,0\\n53552,Female,62,0,0,Yes,Private,Urban,101.19,23.4,never smoked,0\\n59663,Female,28,0,0,No,Private,Urban,107.74,38.5,never smoked,0\\n68631,Female,50,0,0,Yes,Private,Rural,62.32,21.6,Unknown,0\\n49900,Male,7,0,0,No,children,Urban,56.32,15.9,Unknown,0\\n18140,Female,33,0,0,Yes,Private,Rural,131.28,25.1,never smoked,0\\n52340,Male,55,0,0,Yes,Private,Urban,67.02,41.1,smokes,0\\n2327,Female,25,0,0,No,Private,Rural,76.72,21.5,Unknown,0\\n55137,Female,25,0,0,No,Private,Urban,125.98,21,smokes,0\\n458,Female,37,0,0,Yes,Govt_job,Urban,72.09,24.1,smokes,0\\n57044,Male,58,0,0,Yes,Private,Urban,88.05,30.6,Unknown,0\\n71548,Male,45,0,0,Yes,Govt_job,Urban,55.47,19.8,smokes,0\\n67438,Female,60,0,0,Yes,Govt_job,Rural,145.94,29.2,Unknown,0\\n36524,Male,66,0,1,Yes,Private,Rural,239.21,33.7,formerly smoked,0\\n61827,Male,80,0,0,Yes,Self-employed,Rural,196.08,31,formerly smoked,0\\n31454,Female,38,0,0,Yes,Govt_job,Rural,93.93,21.5,never smoked,0\\n15663,Female,11,0,0,No,children,Urban,76.74,19.1,Unknown,0\\n4707,Female,63,0,0,Yes,Private,Urban,83.74,21.4,Unknown,0\\n55885,Male,19,0,0,No,Private,Urban,119.58,24.8,Unknown,0\\n47563,Female,17,0,0,No,Private,Rural,68.66,35.1,never smoked,0\\n63729,Female,19,0,0,No,Private,Urban,65.79,28.6,smokes,0\\n5286,Female,40,0,0,Yes,Govt_job,Urban,176.38,35.7,never smoked,0\\n29878,Male,49,0,0,Yes,Private,Urban,175.74,45.4,Unknown,0\\n42628,Female,69,0,1,No,Private,Urban,193.45,34.5,never smoked,0\\n5006,Female,46,0,0,Yes,Self-employed,Rural,85.84,21.2,never smoked,0\\n11250,Male,78,0,0,Yes,Self-employed,Rural,93.85,22.7,formerly smoked,0\\n41858,Female,63,0,1,Yes,Private,Rural,86.21,39.1,never smoked,0\\n15742,Female,3,0,0,No,children,Rural,75.41,21.9,Unknown,0\\n27300,Female,1.8,0,0,No,children,Rural,95.28,16.5,Unknown,0\\n34965,Female,18,0,0,No,Private,Urban,95.87,23,never smoked,0\\n65748,Female,46,0,0,Yes,Private,Urban,180.45,22.5,never smoked,0\\n44635,Female,8,0,0,No,children,Urban,95.39,20.4,Unknown,0\\n72284,Female,53,0,0,Yes,Private,Rural,60.77,28.7,smokes,0\\n20217,Female,38,0,0,Yes,Govt_job,Urban,102.84,22.4,never smoked,0\\n44259,Female,74,0,0,Yes,Private,Urban,130.37,26.3,Unknown,0\\n52668,Female,24,0,0,No,Private,Urban,65.44,23.6,never smoked,0\\n37446,Male,78,0,0,Yes,Private,Rural,79.84,25.9,never smoked,0\\n46895,Male,60,0,0,Yes,Private,Rural,62.61,30.7,never smoked,0\\n57667,Male,12,0,0,No,children,Urban,70.07,24.5,formerly smoked,0\\n41962,Female,32,0,0,Yes,Private,Rural,108.8,24,Unknown,0\\n25495,Male,5,0,0,No,children,Urban,112.11,20.1,Unknown,0\\n2029,Female,40,0,0,Yes,Private,Rural,92.35,38,never smoked,0\\n13993,Female,19,0,0,No,Private,Urban,76.57,26.6,Unknown,0\\n18876,Female,28,0,0,Yes,Private,Urban,69.5,24.5,never smoked,0\\n22865,Female,61,0,0,Yes,Private,Rural,219.38,N/A,never smoked,0\\n365,Female,44,1,0,Yes,Private,Rural,69.48,41.3,never smoked,0\\n37631,Male,50,0,0,Yes,Govt_job,Urban,89.18,34.8,smokes,0\\n5500,Female,50,0,1,Yes,Govt_job,Urban,68.09,35.5,smokes,0\\n53217,Female,18,0,0,No,Private,Rural,92.71,24.1,Unknown,0\\n56712,Male,1.64,0,0,No,children,Rural,56.21,19,Unknown,0\\n10055,Female,37,0,0,No,Govt_job,Rural,72.08,N/A,formerly smoked,0\\n4959,Female,5,0,0,No,children,Urban,82.56,16.6,Unknown,0\\n22155,Female,39,0,0,Yes,Private,Urban,78.24,28.6,Unknown,0\\n22860,Female,65,0,0,Yes,Govt_job,Rural,84.66,22.4,never smoked,0\\n6960,Female,26,0,0,No,Govt_job,Urban,90.35,38.6,Unknown,0\\n57209,Male,42,0,0,Yes,Govt_job,Rural,68.12,32,Unknown,0\\n66581,Female,34,0,0,Yes,Private,Rural,59.14,40.1,never smoked,0\\n17347,Female,45,0,0,Yes,Govt_job,Urban,85.64,32,formerly smoked,0\\n58422,Male,43,0,0,Yes,Govt_job,Rural,56.08,23.9,Unknown,0\\n19043,Female,40,0,0,No,Private,Rural,99,25,never smoked,0\\n52897,Male,35,0,0,No,Private,Urban,93.6,28.5,smokes,0\\n16329,Female,2,0,0,No,children,Urban,105.75,19.8,Unknown,0\\n40353,Female,61,0,0,Yes,Private,Urban,114.09,25.7,never smoked,0\\n56778,Male,64,1,0,Yes,Private,Urban,57.42,28,smokes,0\\n41153,Female,32,0,0,Yes,Private,Urban,100.01,37.2,never smoked,0\\n63725,Male,23,0,0,No,Private,Urban,62,24.8,formerly smoked,0\\n19675,Female,51,0,0,Yes,Self-employed,Rural,103.61,39.2,never smoked,0\\n72784,Female,52,0,0,Yes,Private,Rural,118.46,61.6,smokes,0\\n8541,Female,75,0,0,Yes,Govt_job,Rural,94.77,27.2,never smoked,0\\n45565,Female,40,0,0,Yes,Private,Urban,72.12,38,never smoked,0\\n36431,Male,39,0,0,Yes,Govt_job,Rural,155.23,36.2,never smoked,0\\n6171,Male,6,0,0,No,children,Urban,90.6,16.6,Unknown,0\\n29419,Female,32,0,0,Yes,Private,Urban,81.92,38,never smoked,0\\n65673,Female,55,0,0,No,Self-employed,Rural,67.1,31.4,never smoked,0\\n64662,Female,23,0,0,No,Private,Rural,58.01,35.3,never smoked,0\\n51693,Female,52,0,0,Yes,Private,Rural,173.9,35.8,never smoked,0\\n50495,Male,58,1,0,Yes,Private,Rural,106.27,28.6,never smoked,0\\n37086,Male,17,0,0,No,Private,Rural,60.57,34,Unknown,0\\n71396,Male,3,0,0,No,children,Urban,105.34,15.5,Unknown,0\\n27854,Female,23,0,0,No,Private,Rural,96.28,31.1,never smoked,0\\n53759,Male,56,0,0,Yes,Self-employed,Urban,122.73,37.5,formerly smoked,0\\n14407,Male,45,0,0,No,Self-employed,Urban,104.12,37.7,Unknown,0\\n887,Female,14,0,0,No,Private,Urban,69.74,24.2,formerly smoked,0\\n13328,Female,45,0,0,Yes,Private,Rural,106.95,33.4,Unknown,0\\n62507,Female,57,0,0,Yes,Private,Urban,94.63,33,never smoked,0\\n51797,Female,35,0,0,Yes,Private,Urban,86.97,25.7,Unknown,0\\n61536,Female,8,0,0,No,children,Rural,76.12,19.4,Unknown,0\\n71221,Female,42,0,0,Yes,Govt_job,Urban,99.94,33.4,never smoked,0\\n6948,Male,8,0,0,No,children,Urban,91.53,18,Unknown,0\\n66083,Male,62,0,0,Yes,Private,Rural,145.46,40.1,never smoked,0\\n21238,Female,43,0,0,Yes,Private,Urban,74.86,26.9,never smoked,0\\n70992,Female,8,0,0,No,children,Urban,74.42,22.5,Unknown,0\\n20376,Male,40,0,0,Yes,Self-employed,Urban,70.07,27.6,smokes,0\\n6613,Male,2,0,0,No,children,Urban,89.85,23.3,Unknown,0\\n27818,Female,27,0,0,No,Private,Rural,104.21,35.7,never smoked,0\\n3062,Female,47,0,0,Yes,Self-employed,Rural,157.77,28.4,never smoked,0\\n11692,Female,53,0,0,No,Govt_job,Urban,101.81,29.4,smokes,0\\n25070,Male,62,0,0,Yes,Govt_job,Rural,103,31.9,Unknown,0\\n39556,Male,50,0,0,Yes,Self-employed,Urban,101.85,25.1,smokes,0\\n18437,Male,26,0,0,No,Private,Urban,85.92,35.6,smokes,0\\n59540,Female,19,0,0,No,Private,Rural,56.85,21.1,never smoked,0\\n13857,Male,0.32,0,0,No,children,Urban,89.04,17.8,Unknown,0\\n57924,Female,45,0,0,Yes,Govt_job,Rural,63.01,31.5,never smoked,0\\n38069,Male,45,0,0,Yes,Private,Rural,65.48,26.6,Unknown,0\\n48871,Female,54,0,0,Yes,Private,Rural,68.6,44.8,smokes,0\\n63420,Male,64,1,0,Yes,Private,Urban,81.68,31.3,formerly smoked,0\\n67665,Male,2,0,0,No,children,Urban,65.21,17.2,Unknown,0\\n50638,Female,66,0,0,Yes,Govt_job,Urban,72.53,25.3,smokes,0\\n43892,Female,73,0,0,Yes,Private,Rural,81.78,28.8,never smoked,0\\n9335,Female,31,0,0,No,Private,Rural,116.85,49.9,smokes,0\\n38830,Female,1.88,0,0,No,children,Rural,80.83,18,Unknown,0\\n14019,Female,58,0,0,Yes,Private,Urban,96.21,23.5,never smoked,0\\n65888,Male,12,0,0,No,children,Rural,117.04,18.1,Unknown,0\\n62986,Female,60,1,0,Yes,Private,Rural,78.26,41.7,formerly smoked,0\\n61409,Male,32,1,0,No,Govt_job,Urban,58.24,N/A,formerly smoked,0\\n72041,Male,23,0,0,No,Private,Urban,82.53,20.7,smokes,0\\n51584,Male,26,0,0,No,Private,Urban,71.25,30.3,smokes,0\\n56476,Male,36,0,0,Yes,Private,Rural,129.73,27.8,never smoked,0\\n51740,Female,3,0,0,No,children,Urban,115.47,18.9,Unknown,0\\n45983,Male,21,0,0,No,Private,Urban,56.79,20.4,Unknown,0\\n16079,Female,67,0,0,Yes,Private,Urban,100.16,31.8,Unknown,0\\n24920,Female,35,0,0,Yes,Govt_job,Rural,97.6,44.8,smokes,0\\n72818,Female,26,0,0,No,Private,Rural,90.54,37.1,Unknown,0\\n65944,Female,47,0,0,Yes,Self-employed,Urban,105.88,39.9,smokes,0\\n63836,Male,81,1,1,Yes,Govt_job,Rural,217.94,24.1,formerly smoked,0\\n46729,Female,1.64,0,0,No,children,Urban,69.89,18.1,Unknown,0\\n44642,Male,52,0,0,Yes,Govt_job,Urban,93.28,36.3,never smoked,0\\n70693,Female,28,0,1,Yes,Private,Rural,111.27,19.1,smokes,0\\n54065,Female,45,0,0,Yes,Private,Urban,91.04,21.1,never smoked,0\\n9926,Male,20,0,0,No,Private,Urban,87.2,28.9,smokes,0\\n29201,Male,1.56,0,0,No,children,Rural,109.12,18.9,Unknown,0\\n33308,Female,65,0,0,No,Private,Urban,216.64,43.3,formerly smoked,0\\n15937,Male,45,1,0,Yes,Self-employed,Rural,74.28,37.2,formerly smoked,0\\n53748,Male,77,0,0,Yes,Self-employed,Urban,57.6,32.2,Unknown,0\\n47803,Male,37,0,0,Yes,Govt_job,Urban,173.97,26.3,Unknown,0\\n41554,Female,50,0,0,Yes,Private,Rural,65.25,25.4,smokes,0\\n69435,Female,0.56,0,0,No,children,Urban,80.92,18.3,Unknown,0\\n41049,Female,30,0,0,Yes,Private,Rural,124.37,21.4,never smoked,0\\n13859,Female,31,0,0,No,Private,Urban,102.39,22.9,smokes,0\\n24257,Male,4,0,0,No,children,Rural,90.42,16.2,Unknown,0\\n14417,Male,65,1,0,Yes,Private,Rural,79.17,29.6,Unknown,0\\n45260,Female,68,0,0,Yes,Self-employed,Urban,71.08,21.5,never smoked,0\\n12807,Female,63,1,0,Yes,Private,Urban,81.54,24.2,never smoked,0\\n71417,Male,46,0,0,No,Private,Urban,159.67,37.3,never smoked,0\\n37479,Female,54,0,0,Yes,Private,Urban,93.96,33.3,smokes,0\\n23850,Male,66,0,0,Yes,Private,Urban,103.01,33.1,never smoked,0\\n17791,Female,29,0,0,Yes,Govt_job,Rural,92.49,22.2,never smoked,0\\n2544,Male,78,0,0,Yes,Private,Urban,208.85,24.4,formerly smoked,0\\n4961,Male,56,0,0,Yes,Govt_job,Urban,122.39,30.3,Unknown,0\\n2702,Female,57,0,0,Yes,Private,Rural,65.91,28.2,Unknown,0\\n11208,Female,2,0,0,No,children,Rural,70.25,17,Unknown,0\\n4077,Male,49,0,0,Yes,Private,Urban,219.7,53.8,Unknown,0\\n36548,Male,31,0,0,Yes,Govt_job,Urban,65.7,30.4,formerly smoked,0\\n71596,Female,47,0,0,Yes,Private,Urban,67.08,22.3,Unknown,0\\n61050,Male,37,0,0,Yes,Govt_job,Rural,107.58,25.3,never smoked,0\\n6172,Female,79,0,0,Yes,Private,Rural,208.05,N/A,smokes,0\\n15098,Female,65,0,0,Yes,Private,Rural,95.87,29.8,never smoked,0\\n34895,Male,61,0,0,Yes,Private,Urban,68.17,43.8,formerly smoked,0\\n6443,Female,66,0,0,Yes,Private,Urban,95.37,34.5,smokes,0\\n67635,Male,24,0,0,No,Private,Urban,90,25.5,never smoked,0\\n19931,Male,66,0,0,Yes,Self-employed,Rural,106.1,31.5,smokes,0\\n57302,Female,64,1,0,Yes,Private,Rural,56.13,39.2,Unknown,0\\n26197,Female,38,0,0,Yes,Private,Rural,104.03,47.3,smokes,0\\n54982,Female,7,0,0,No,children,Rural,157.01,17,Unknown,0\\n13398,Female,63,0,0,Yes,Private,Urban,84.35,38.2,never smoked,0\\n21101,Male,71,0,0,Yes,Private,Rural,67.99,31.1,never smoked,0\\n39958,Male,18,0,0,No,Private,Rural,118.93,22.4,never smoked,0\\n51894,Female,65,0,0,Yes,Private,Rural,185.28,32,smokes,0\\n56001,Male,57,0,0,Yes,Private,Rural,82.08,24.7,Unknown,0\\n56137,Female,62,0,0,Yes,Private,Urban,88.32,36.3,Unknown,0\\n25900,Male,1.8,0,0,No,children,Rural,85.16,20.2,Unknown,0\\n69213,Male,35,0,0,No,Private,Rural,69.54,27.4,never smoked,0\\n38613,Female,50,0,0,Yes,Govt_job,Rural,62.12,29.6,never smoked,0\\n27660,Female,73,1,0,No,Self-employed,Rural,198.3,54.3,formerly smoked,0\\n33790,Female,23,0,0,No,Private,Rural,100.06,28.6,never smoked,0\\n50845,Female,32,0,0,Yes,Govt_job,Urban,101.13,43.9,formerly smoked,0\\n44628,Female,38,0,0,Yes,Private,Rural,91.09,22.2,never smoked,0\\n38951,Female,50,0,0,Yes,Self-employed,Rural,61.54,28.4,Unknown,0\\n52792,Female,39,0,0,Yes,Private,Urban,62.02,23.7,smokes,0\\n27675,Female,7,0,0,No,children,Urban,103.11,18.3,Unknown,0\\n6903,Female,15,0,0,No,children,Rural,77.57,18.3,Unknown,0\\n35463,Male,67,0,0,Yes,Private,Urban,97.34,28.9,never smoked,0\\n172,Male,8,0,0,No,children,Urban,78.76,N/A,Unknown,0\\n16876,Female,32,0,0,Yes,Private,Rural,67.1,27.1,Unknown,0\\n60926,Male,5,0,0,No,children,Urban,79.89,13.8,Unknown,0\\n21333,Male,56,1,0,Yes,Private,Rural,206.66,21.9,smokes,0\\n69183,Male,49,0,0,No,Private,Urban,95.79,24,Unknown,0\\n2313,Female,75,0,1,Yes,Self-employed,Urban,83.88,N/A,smokes,0\\n8041,Female,11,0,0,No,children,Rural,93.51,20.8,Unknown,0\\n68171,Male,61,0,0,Yes,Self-employed,Urban,116.78,39.8,formerly smoked,0\\n27948,Male,76,0,0,Yes,Self-employed,Rural,117.63,26.2,never smoked,0\\n45673,Female,34,0,0,Yes,Private,Rural,60.01,43.9,Unknown,0\\n50810,Male,20,0,0,No,Private,Rural,64.6,27.3,Unknown,0\\n2467,Female,79,1,0,Yes,Self-employed,Rural,92.43,N/A,never smoked,0\\n64165,Female,24,0,0,No,Private,Urban,71.63,22,formerly smoked,0\\n22352,Female,39,0,0,Yes,Self-employed,Urban,87.79,40,formerly smoked,0\\n62990,Female,55,0,0,Yes,Govt_job,Rural,99.64,20.1,formerly smoked,0\\n1737,Female,16,0,0,No,Private,Rural,86.53,42.2,never smoked,0\\n26357,Male,36,0,0,No,Private,Urban,200.68,25.8,Unknown,0\\n28013,Female,38,0,0,Yes,Self-employed,Urban,98.37,27.2,never smoked,0\\n24727,Male,20,0,0,No,Private,Rural,117.98,30.9,smokes,0\\n37608,Female,38,0,0,No,Private,Urban,218.6,47.9,formerly smoked,0\\n13870,Female,52,0,0,Yes,Private,Urban,101.3,33.1,smokes,0\\n4655,Male,49,0,0,Yes,Private,Urban,79.51,37.8,never smoked,0\\n55356,Female,80,0,0,Yes,Self-employed,Urban,223.26,25.4,never smoked,0\\n49400,Male,75,0,0,Yes,Private,Rural,97.22,28.4,never smoked,0\\n38132,Female,13,0,0,No,Private,Rural,172.27,16.6,never smoked,0\\n50136,Female,54,1,0,Yes,Private,Urban,221.83,35.1,smokes,0\\n3094,Male,28,0,0,No,Private,Urban,74.61,32.7,Unknown,0\\n42727,Female,61,0,0,Yes,Private,Rural,60.91,29.8,Unknown,0\\n41500,Male,0.16,0,0,No,children,Rural,69.79,13,Unknown,0\\n33185,Male,59,0,0,No,Govt_job,Urban,83.6,27.5,formerly smoked,0\\n7057,Male,12,0,0,No,children,Urban,83.95,23.6,Unknown,0\\n48244,Female,38,0,0,No,Private,Rural,77.5,36.9,smokes,0\\n69559,Male,15,0,0,No,Never_worked,Urban,64.29,16.7,Unknown,0\\n61757,Male,31,0,0,Yes,Self-employed,Rural,61.1,26.5,never smoked,0\\n10541,Male,52,1,0,Yes,Private,Rural,100.71,37,never smoked,0\\n48169,Female,61,0,0,Yes,Self-employed,Urban,65.21,27.7,Unknown,0\\n64202,Male,50,0,0,Yes,Private,Rural,119.77,23.5,Unknown,0\\n7069,Female,41,0,0,Yes,Private,Rural,102.39,40.4,formerly smoked,0\\n52050,Male,20,0,0,No,Private,Urban,59.67,27.7,never smoked,0\\n31692,Male,67,0,0,Yes,Private,Rural,83.16,28.3,never smoked,0\\n11192,Female,45,0,0,Yes,Private,Rural,218.1,55,smokes,0\\n69404,Male,73,0,0,Yes,Govt_job,Rural,76.45,28.7,Unknown,0\\n42700,Female,52,0,0,Yes,Private,Rural,200.46,25,Unknown,0\\n7638,Female,51,0,0,Yes,Private,Urban,95.7,24.8,formerly smoked,0\\n7298,Female,56,0,0,Yes,Self-employed,Rural,70.23,35.5,never smoked,0\\n43615,Female,49,0,0,Yes,Self-employed,Urban,75.15,25,Unknown,0\\n18134,Male,10,0,0,No,children,Rural,95.8,17.3,Unknown,0\\n19324,Female,51,0,0,Yes,Govt_job,Urban,90.67,37.8,Unknown,0\\n18827,Male,57,0,0,Yes,Self-employed,Rural,84.79,32.8,formerly smoked,0\\n68291,Male,76,0,0,Yes,Private,Urban,147.5,28.7,Unknown,0\\n70661,Female,28,0,0,No,Private,Rural,134.12,28.8,formerly smoked,0\\n6019,Female,57,0,0,Yes,Private,Urban,82.62,28.4,never smoked,0\\n56616,Male,39,0,0,Yes,Private,Rural,125.11,24.9,formerly smoked,0\\n14399,Female,41,0,0,Yes,Private,Urban,92.14,29.6,formerly smoked,0\\n8009,Female,72,1,1,Yes,Private,Urban,217.79,26.1,formerly smoked,0\\n30961,Male,45,0,0,Yes,Private,Rural,95.62,29.5,smokes,0\\n24201,Male,33,0,0,Yes,Private,Rural,93.8,23.9,never smoked,0\\n18032,Male,62,0,1,Yes,Private,Rural,90.61,25.8,smokes,0\\n62396,Female,27,0,0,Yes,Private,Urban,139.2,36.2,never smoked,0\\n67055,Female,31,0,0,Yes,Private,Rural,77.01,31.3,formerly smoked,0\\n51024,Female,24,0,0,Yes,Private,Urban,105.26,26.1,never smoked,0\\n60774,Male,1.88,0,0,No,children,Rural,68.35,19.1,Unknown,0\\n35039,Female,28,0,0,No,Private,Rural,99.07,17.6,never smoked,0\\n46141,Female,24,0,0,No,Private,Rural,147.74,21.4,Unknown,0\\n54240,Female,30,0,0,Yes,Govt_job,Urban,61.29,24,Unknown,0\\n15929,Male,38,0,0,Yes,Govt_job,Rural,98.92,25.5,never smoked,0\\n19849,Female,1.64,0,0,No,children,Urban,90.74,19.9,Unknown,0\\n43282,Male,0.72,0,0,No,children,Rural,159.79,19.9,Unknown,0\\n50372,Male,57,0,0,Yes,Private,Rural,233.47,35.5,never smoked,0\\n5834,Female,27,0,0,No,Govt_job,Urban,85.53,26.9,smokes,0\\n69847,Female,30,0,0,Yes,Self-employed,Urban,76.7,24.2,never smoked,0\\n67277,Male,42,0,0,Yes,Private,Rural,67.87,30,never smoked,0\\n41181,Male,36,0,0,Yes,Private,Urban,77.26,30.9,never smoked,0\\n36388,Male,44,1,0,Yes,Private,Rural,91.28,26.5,never smoked,0\\n49272,Male,59,0,0,Yes,Govt_job,Urban,129.19,30.6,never smoked,0\\n52024,Female,61,0,0,Yes,Govt_job,Urban,97.86,19.1,formerly smoked,0\\n58508,Female,18,0,0,No,Govt_job,Rural,112.33,23.2,formerly smoked,0\\n64159,Female,44,0,0,Yes,Private,Rural,110.41,30.5,smokes,0\\n29453,Male,16,0,0,No,children,Rural,91.58,15.8,Unknown,0\\n52838,Male,13,0,0,No,children,Urban,58.86,16.9,never smoked,0\\n43024,Male,9,0,0,No,children,Rural,76.88,18,Unknown,0\\n8247,Male,0.16,0,0,No,children,Urban,109.52,13.9,Unknown,0\\n42159,Female,81,1,0,Yes,Self-employed,Urban,181.23,36.7,never smoked,0\\n37761,Female,38,0,0,Yes,Private,Urban,103.58,30.8,formerly smoked,0\\n27624,Female,58,0,0,Yes,Self-employed,Rural,81.96,34.6,never smoked,0\\n40242,Male,5,0,0,No,children,Rural,104.55,16.3,Unknown,0\\n4383,Female,64,0,0,Yes,Govt_job,Urban,76.12,38.2,formerly smoked,0\\n58577,Female,38,0,0,Yes,Govt_job,Rural,64.27,27.3,never smoked,0\\n59916,Female,56,0,0,Yes,Private,Rural,200.98,30.4,smokes,0\\n44526,Male,58,0,0,Yes,Govt_job,Urban,101.96,34.5,never smoked,0\\n12990,Male,9,0,0,No,children,Rural,84.17,17.4,Unknown,0\\n14414,Female,34,0,0,Yes,Private,Rural,85.79,32,never smoked,0\\n46343,Female,79,0,0,Yes,Private,Urban,71.46,33.4,Unknown,0\\n29539,Male,62,1,0,Yes,Self-employed,Rural,95.49,40.2,smokes,0\\n10924,Female,60,0,0,Yes,Private,Rural,87.62,30.1,smokes,0\\n30248,Female,42,0,0,No,Private,Rural,118.55,46.2,smokes,0\\n39769,Female,59,0,0,Yes,Self-employed,Urban,82.14,35.6,smokes,0\\n28778,Female,54,0,0,Yes,Private,Urban,219.67,29.4,smokes,0\\n65257,Male,59,0,0,Yes,Private,Urban,135.84,27.3,never smoked,0\\n7233,Male,15,0,0,No,children,Rural,74.83,17.4,Unknown,0\\n67773,Female,14,0,0,No,children,Urban,60.37,26.9,Unknown,0\\n14993,Male,5,0,0,No,children,Rural,67.28,17.7,Unknown,0\\n59054,Male,17,0,0,No,Private,Rural,77.79,23.6,Unknown,0\\n22554,Female,13,0,0,No,children,Rural,88.51,27.7,Unknown,0\\n72512,Female,48,0,0,Yes,Self-employed,Urban,90.38,38,smokes,0\\n56195,Male,37,0,0,Yes,Govt_job,Urban,156.69,35.2,never smoked,0\\n7524,Female,69,0,1,Yes,Private,Urban,207.6,N/A,never smoked,0\\n45795,Female,74,0,0,Yes,Private,Urban,158.9,32.4,formerly smoked,0\\n64433,Male,54,0,0,Yes,Private,Urban,247.97,36.1,formerly smoked,0\\n70106,Female,64,0,1,Yes,Private,Rural,114.71,30.6,never smoked,0\\n50072,Female,26,0,0,No,Private,Rural,58.55,29,never smoked,0\\n52530,Male,55,0,0,Yes,Govt_job,Urban,231.15,22.3,never smoked,0\\n768,Female,74,0,0,Yes,Self-employed,Urban,68.18,27.3,formerly smoked,0\\n40255,Female,0.48,0,0,No,children,Rural,118.75,17.4,Unknown,0\\n50073,Female,41,0,1,No,Private,Rural,186.54,39,formerly smoked,0\\n52439,Male,68,0,1,Yes,Private,Rural,96.14,26.7,never smoked,0\\n65379,Male,9,0,0,No,children,Urban,69.52,24.2,Unknown,0\\n38605,Female,36,0,0,Yes,Private,Rural,101.93,22.8,smokes,0\\n35772,Male,17,0,0,No,Private,Urban,71.58,25.6,Unknown,0\\n38014,Male,24,0,0,Yes,Private,Urban,83.1,21.9,smokes,0\\n68330,Female,69,0,0,Yes,Self-employed,Rural,110.96,25.9,never smoked,0\\n47271,Male,38,0,0,Yes,Govt_job,Urban,122.83,30.6,Unknown,0\\n26330,Female,69,0,0,Yes,Private,Urban,91.65,25.7,formerly smoked,0\\n24022,Female,32,0,0,No,Private,Urban,84.1,33.3,Unknown,0\\n45622,Female,25,0,0,No,Private,Rural,118.85,23.8,smokes,0\\n60732,Male,2,0,0,No,children,Urban,89.32,17.2,Unknown,0\\n53694,Male,79,0,0,No,Self-employed,Urban,128.72,31,Unknown,0\\n11280,Female,28,0,0,Yes,Private,Urban,98.05,24.7,never smoked,0\\n28734,Female,16,0,0,No,Never_worked,Urban,102.1,27.1,never smoked,0\\n12693,Male,31,0,0,Yes,Private,Urban,108.62,N/A,smokes,0\\n17683,Male,66,0,0,Yes,Self-employed,Urban,96.19,38.3,smokes,0\\n36155,Female,57,1,0,Yes,Private,Urban,98.07,50.9,formerly smoked,0\\n31390,Female,61,0,0,Yes,Private,Rural,71.4,29.2,formerly smoked,0\\n10636,Female,74,0,0,Yes,Self-employed,Rural,82.27,23.6,formerly smoked,0\\n71659,Female,70,0,0,Yes,Govt_job,Rural,158.33,33.5,never smoked,0\\n52305,Female,8,0,0,No,children,Rural,102.5,16.3,Unknown,0\\n9602,Female,49,0,0,Yes,Private,Urban,72.18,30.8,Unknown,0\\n68407,Male,30,0,0,Yes,Govt_job,Urban,95.94,31.1,never smoked,0\\n72011,Male,51,0,0,No,Self-employed,Rural,87.15,26.4,formerly smoked,0\\n40568,Female,10,0,0,No,children,Urban,82.59,18.6,formerly smoked,0\\n50206,Female,34,0,0,Yes,Private,Rural,89.31,37.3,formerly smoked,0\\n41191,Male,40,0,0,Yes,Private,Rural,64.84,26.6,never smoked,0\\n7129,Male,3,0,0,No,children,Urban,107.52,17.6,Unknown,0\\n45485,Female,45,0,0,Yes,Self-employed,Urban,92.76,22.3,Unknown,0\\n32023,Male,4,0,0,No,children,Urban,79.16,20.2,Unknown,0\\n33064,Male,52,0,1,Yes,Private,Urban,87,30.9,never smoked,0\\n60896,Male,68,0,1,Yes,Private,Rural,145.25,31.5,never smoked,0\\n2109,Female,8,0,0,No,children,Urban,125.14,29.7,Unknown,0\\n27705,Female,82,0,1,Yes,Self-employed,Rural,88.6,32.5,Unknown,0\\n36850,Male,36,0,0,Yes,Govt_job,Urban,57.59,32.8,Unknown,0\\n52500,Female,42,0,0,Yes,Govt_job,Urban,59.43,25.4,never smoked,0\\n43698,Female,27,0,0,No,Govt_job,Rural,65.43,27.2,Unknown,0\\n49901,Male,55,0,0,Yes,Govt_job,Urban,154.03,31.6,smokes,0\\n69120,Female,31,0,0,Yes,Self-employed,Rural,139.81,39.6,never smoked,0\\n25510,Male,82,0,0,Yes,Self-employed,Urban,111.81,19.8,formerly smoked,0\\n60416,Female,57,0,0,Yes,Self-employed,Urban,106.84,29.6,never smoked,0\\n15135,Female,78,0,1,Yes,Private,Rural,221.06,25.5,formerly smoked,0\\n34660,Male,55,0,0,Yes,Self-employed,Urban,69.97,25.8,formerly smoked,0\\n11713,Male,51,0,0,Yes,Private,Rural,77.07,32.1,formerly smoked,0\\n40704,Male,80,0,0,No,Private,Urban,59.49,25.6,Unknown,0\\n71298,Female,17,0,0,No,Private,Rural,109.39,26.3,never smoked,0\\n54497,Female,61,0,0,Yes,Private,Rural,93.97,39.4,Unknown,0\\n30129,Female,62,0,0,Yes,Govt_job,Urban,163.17,25.6,never smoked,0\\n44965,Female,14,0,0,No,Self-employed,Urban,124.39,34,Unknown,0\\n38549,Female,62,0,0,Yes,Private,Urban,212.62,35.8,never smoked,0\\n39236,Female,56,0,0,No,Self-employed,Urban,128.63,24.9,smokes,0\\n50545,Male,41,0,0,Yes,Govt_job,Urban,84.1,29.3,never smoked,0\\n28435,Female,59,0,0,Yes,Self-employed,Urban,77.6,23.4,Unknown,0\\n4631,Male,29,0,0,Yes,Private,Urban,70.51,24.5,Unknown,0\\n9912,Male,39,0,0,Yes,Private,Rural,109.19,29.8,Unknown,0\\n43028,Male,66,0,0,Yes,Self-employed,Rural,55.23,28.9,Unknown,0\\n38894,Female,35,0,0,Yes,Private,Urban,120.15,27.3,never smoked,0\\n41238,Female,36,0,0,Yes,Private,Urban,72.16,23.2,never smoked,0\\n51828,Male,35,0,0,Yes,Private,Rural,95.89,34.2,Unknown,0\\n64196,Male,26,0,0,No,Private,Urban,64.68,23.3,smokes,0\\n10626,Female,31,0,0,No,Private,Rural,70.51,26.9,formerly smoked,0\\n4117,Female,56,0,0,Yes,Self-employed,Rural,81.77,21.8,never smoked,0\\n37993,Female,36,0,0,Yes,Govt_job,Urban,66.47,26.9,never smoked,0\\n57765,Female,41,0,0,Yes,Govt_job,Rural,146.08,29.9,never smoked,0\\n7841,Female,50,0,0,Yes,Private,Urban,91.68,22.4,never smoked,0\\n18398,Female,42,0,0,Yes,Private,Rural,108.96,27.5,never smoked,0\\n50210,Male,79,0,0,Yes,Self-employed,Urban,113.41,35,never smoked,0\\n52461,Male,57,0,0,Yes,Private,Urban,111.08,27.9,never smoked,0\\n32523,Male,68,0,1,Yes,Private,Urban,217.74,25.5,Unknown,0\\n49509,Female,25,0,0,Yes,Private,Rural,78.5,28.6,never smoked,0\\n16377,Male,69,0,0,Yes,Private,Urban,89.06,34.8,formerly smoked,0\\n13902,Female,42,0,0,Yes,Private,Urban,74.8,50.6,Unknown,0\\n44047,Male,37,0,0,Yes,Govt_job,Rural,80.2,30.9,never smoked,0\\n34184,Female,2,0,0,No,children,Rural,76.52,14.8,Unknown,0\\n11312,Female,78,0,0,Yes,Self-employed,Rural,208.99,31.4,formerly smoked,0\\n39616,Female,36,0,0,Yes,Private,Urban,99.72,22.3,smokes,0\\n57322,Male,10,0,0,No,children,Urban,102.97,19.1,Unknown,0\\n28011,Male,39,1,0,Yes,Private,Rural,197.36,27.4,Unknown,0\\n242,Male,4,0,0,No,children,Urban,98.56,17.5,Unknown,0\\n18178,Female,48,0,0,Yes,Private,Urban,86.06,36.2,never smoked,0\\n51823,Male,72,0,0,Yes,Self-employed,Urban,123.08,25.4,smokes,0\\n23439,Male,63,0,1,No,Private,Urban,75,25.7,smokes,0\\n12594,Female,28,0,0,Yes,Private,Rural,105.9,28.6,smokes,0\\n2692,Female,80,0,0,Yes,Self-employed,Urban,73.87,33.7,never smoked,0\\n26062,Male,49,0,0,Yes,Private,Rural,78.04,37.9,never smoked,0\\n6805,Male,57,0,0,No,Private,Urban,107.74,28.4,Unknown,0\\n45817,Female,59,0,0,Yes,Private,Rural,60.64,20,never smoked,0\\n66306,Female,43,0,0,Yes,Private,Rural,82.57,29.1,never smoked,0\\n62167,Female,47,0,0,Yes,Private,Rural,115.98,27.6,Unknown,0\\n16627,Male,54,0,0,Yes,Self-employed,Rural,110.38,27.6,formerly smoked,0\\n34285,Male,57,0,0,Yes,Private,Rural,92.59,24.2,Unknown,0\\n71151,Male,56,0,0,Yes,Private,Urban,82.64,31,never smoked,0\\n2580,Male,66,0,1,No,Govt_job,Urban,70.28,34.5,never smoked,0\\n11891,Male,18,0,0,No,Govt_job,Urban,106.54,27,never smoked,0\\n57080,Female,81,1,1,Yes,Self-employed,Urban,59.11,20.7,formerly smoked,0\\n47456,Male,30,0,0,Yes,Private,Rural,58.89,26.1,formerly smoked,0\\n56139,Male,8,0,0,No,children,Urban,129.66,19.2,Unknown,0\\n12857,Male,55,0,0,Yes,Self-employed,Rural,73.57,28,smokes,0\\n40980,Male,79,1,0,Yes,Self-employed,Urban,72.04,23.6,formerly smoked,0\\n47668,Female,49,0,0,Yes,Private,Rural,125.63,57.2,Unknown,0\\n72792,Female,53,1,0,Yes,Private,Rural,77.94,33,never smoked,0\\n37728,Female,26,0,0,Yes,Private,Urban,68.99,22.2,never smoked,0\\n47410,Female,14,0,0,No,children,Rural,111.76,24.8,Unknown,0\\n56450,Male,25,0,0,No,Private,Rural,65.36,24.7,never smoked,0\\n9189,Female,20,0,0,No,Private,Urban,80.27,27.9,never smoked,0\\n71966,Female,18,0,0,No,Never_worked,Urban,81.73,21.6,never smoked,0\\n59272,Male,38,0,0,Yes,Private,Rural,79.22,34.8,smokes,0\\n45563,Female,72,0,1,Yes,Self-employed,Urban,142.63,32.9,smokes,0\\n19907,Female,52,0,0,Yes,Private,Rural,97.05,28,Unknown,0\\n40163,Female,82,1,0,Yes,Private,Urban,222.52,N/A,formerly smoked,0\\n62738,Male,71,0,1,Yes,Private,Rural,70.38,25,smokes,0\\n51651,Male,46,0,0,Yes,Private,Rural,114.46,24.7,formerly smoked,0\\n39940,Female,33,0,0,Yes,Private,Urban,64.62,27.3,never smoked,0\\n8122,Female,37,0,0,Yes,Private,Urban,94.12,34.2,Unknown,0\\n71057,Female,54,0,0,Yes,Private,Rural,70.19,39.1,smokes,0\\n67921,Female,5,0,0,No,children,Urban,55.35,22.7,Unknown,0\\n12834,Male,45,0,0,Yes,Private,Urban,115.52,33.9,formerly smoked,0\\n56567,Male,14,0,0,No,children,Urban,60.7,18.6,Unknown,0\\n11872,Male,5,0,0,No,children,Urban,69.24,16.7,Unknown,0\\n6574,Female,35,0,0,Yes,Self-employed,Urban,103.29,20.6,never smoked,0\\n5294,Female,20,0,0,Yes,Private,Rural,92.74,20.1,Unknown,0\\n10870,Male,51,0,0,Yes,Private,Rural,232.64,45.2,never smoked,0\\n15062,Male,40,0,0,Yes,Govt_job,Urban,82.46,25.3,smokes,0\\n46454,Female,79,0,0,Yes,Govt_job,Urban,63.57,32.4,never smoked,0\\n31795,Male,61,0,0,Yes,Self-employed,Urban,73.24,34.9,never smoked,0\\n62395,Male,33,0,0,Yes,Private,Urban,78.43,43.7,smokes,0\\n42760,Female,27,0,0,Yes,Private,Urban,57.46,23,smokes,0\\n27119,Female,28,0,0,No,Private,Rural,104.16,21.5,never smoked,0\\n47113,Female,67,0,0,Yes,Self-employed,Rural,110.42,24.9,never smoked,0\\n36045,Female,35,0,0,Yes,Private,Rural,119.4,22.9,never smoked,0\\n54871,Female,78,0,0,Yes,Private,Urban,119.13,25,never smoked,0\\n48824,Female,20,0,0,No,Private,Rural,120.22,21.3,never smoked,0\\n67356,Female,43,0,0,Yes,Private,Urban,80.8,46.1,never smoked,0\\n70670,Female,27,0,0,Yes,Private,Rural,57.96,64.4,never smoked,0\\n58477,Female,45,0,0,Yes,Private,Urban,81.24,37,never smoked,0\\n53636,Female,11,0,0,No,children,Urban,88.79,21.3,never smoked,0\\n24262,Female,31,0,0,Yes,Private,Rural,70.91,28.3,never smoked,0\\n33886,Female,30,0,0,No,Private,Rural,87.12,31.1,smokes,0\\n59126,Female,27,0,0,No,Private,Urban,126.09,25.1,Unknown,0\\n31697,Female,34,0,0,Yes,Private,Urban,76.42,27.6,smokes,0\\n10018,Male,19,0,0,No,Private,Rural,56.33,29.4,Unknown,0\\n52447,Female,3,0,0,No,children,Rural,131.81,14.1,Unknown,0\\n23238,Male,53,0,1,Yes,Private,Rural,95.23,35.2,smokes,0\\n4148,Male,81,0,0,Yes,Self-employed,Urban,71.18,23.9,formerly smoked,0\\n63404,Female,44,0,0,Yes,Private,Rural,87.71,34,formerly smoked,0\\n13540,Female,59,0,0,Yes,Self-employed,Rural,115.68,27.1,Unknown,0\\n44288,Male,43,0,0,Yes,Private,Rural,207.37,29.5,formerly smoked,0\\n23194,Male,32,1,0,No,Private,Rural,74.43,N/A,Unknown,0\\n751,Female,5,0,0,No,children,Rural,75.1,20.7,Unknown,0\\n7047,Female,31,0,0,Yes,Private,Rural,69.72,39.5,smokes,0\\n68020,Male,47,0,0,Yes,Private,Urban,111.84,33.7,Unknown,0\\n11325,Female,12,0,0,No,children,Rural,111.08,23.2,never smoked,0\\n25636,Male,40,0,0,Yes,Private,Rural,201.96,30.1,Unknown,0\\n60602,Female,49,0,0,Yes,Govt_job,Urban,68.68,28.8,never smoked,0\\n51856,Male,38,1,0,Yes,Private,Rural,56.9,92,never smoked,0\\n13031,Female,15,0,0,No,children,Urban,91.16,38,never smoked,0\\n19498,Female,81,0,1,No,Self-employed,Urban,99.44,27.7,Unknown,0\\n51476,Male,48,0,0,Yes,Private,Urban,78.85,43.2,never smoked,0\\n49762,Female,24,0,0,No,Private,Rural,123.89,24.1,smokes,0\\n23449,Male,47,0,0,Yes,Self-employed,Rural,90.44,28.7,never smoked,0\\n51374,Female,13,0,0,No,children,Rural,138.44,34.8,Unknown,0\\n41263,Female,16,0,0,No,Private,Urban,75.06,23.5,never smoked,0\\n6599,Male,64,1,0,Yes,Self-employed,Rural,85.66,28.5,never smoked,0\\n16320,Female,11,0,0,No,children,Urban,102.76,20.3,Unknown,0\\n64670,Female,55,0,0,Yes,Govt_job,Urban,71.79,43,formerly smoked,0\\n35941,Male,38,0,0,Yes,Private,Urban,167.16,18.3,never smoked,0\\n64931,Male,37,0,0,Yes,Private,Rural,131.05,27.2,never smoked,0\\n27416,Female,34,0,0,Yes,Private,Rural,86.92,22,Unknown,0\\n43433,Female,52,0,0,Yes,Self-employed,Rural,59.62,50.8,Unknown,0\\n21366,Female,50,0,0,Yes,Private,Urban,103.72,35.4,formerly smoked,0\\n14658,Female,37,0,0,Yes,Private,Rural,77.1,55.9,Unknown,0\\n7538,Female,55,0,0,Yes,Self-employed,Rural,94.75,27.9,smokes,0\\n52092,Female,2,0,0,No,children,Rural,77.72,19.8,Unknown,0\\n45372,Male,68,0,0,Yes,Self-employed,Rural,76.09,26,smokes,0\\n63043,Female,27,0,0,No,Private,Urban,61.8,26.8,formerly smoked,0\\n67,Female,17,0,0,No,Private,Urban,92.97,N/A,formerly smoked,0\\n68034,Female,53,1,0,Yes,Govt_job,Urban,83.73,32.5,never smoked,0\\n63026,Male,5,0,0,No,children,Rural,79.33,15,Unknown,0\\n18352,Female,3,0,0,No,children,Rural,108.32,14.2,Unknown,0\\n36087,Female,20,0,0,No,Private,Rural,103.65,17,formerly smoked,0\\n27480,Male,19,0,0,No,Private,Rural,86.19,26.2,never smoked,0\\n38074,Female,31,0,0,Yes,Private,Urban,131.42,24.9,smokes,0\\n66690,Female,63,0,0,Yes,Self-employed,Urban,69.46,26.6,never smoked,0\\n31131,Female,49,0,1,Yes,Private,Rural,76.78,22.7,smokes,0\\n26884,Female,72,0,0,Yes,Self-employed,Urban,103.78,32.7,formerly smoked,0\\n26935,Female,50,1,0,Yes,Private,Urban,213.43,36.7,smokes,0\\n17569,Male,41,0,0,Yes,Self-employed,Rural,93.52,31.5,Unknown,0\\n24585,Male,40,0,0,Yes,Govt_job,Urban,115.07,36.9,never smoked,0\\n53954,Male,17,0,0,No,Private,Rural,69.45,27.6,Unknown,0\\n13286,Male,3,0,0,No,children,Rural,81,20.7,Unknown,0\\n7653,Female,33,0,0,No,Private,Urban,83.16,20.2,Unknown,0\\n59027,Female,12,0,0,No,children,Rural,108.63,23.4,never smoked,0\\n70318,Male,23,0,0,No,Private,Rural,88.06,25.3,Unknown,0\\n15422,Male,31,0,0,No,Govt_job,Rural,80.57,28.2,formerly smoked,0\\n56692,Female,65,0,0,Yes,Self-employed,Urban,248.24,27,smokes,0\\n45395,Female,43,0,0,Yes,Private,Urban,57.79,24.8,smokes,0\\n39977,Female,22,0,0,No,Private,Urban,87.4,34.8,never smoked,0\\n14553,Male,7,0,0,No,children,Urban,76.63,17.3,Unknown,0\\n40998,Female,81,0,0,Yes,Self-employed,Rural,58.01,27.8,never smoked,0\\n71900,Female,10,0,0,No,children,Urban,77.43,16.2,Unknown,0\\n3318,Female,18,0,0,No,Private,Rural,101.12,N/A,smokes,0\\n41481,Female,5,0,0,No,children,Rural,64.45,21.7,Unknown,0\\n24854,Female,24,0,0,No,Self-employed,Urban,79.42,21.4,never smoked,0\\n22330,Female,45,0,0,Yes,Self-employed,Urban,82.94,29.3,Unknown,0\\n14892,Female,46,1,0,Yes,Private,Rural,81.58,36.2,never smoked,0\\n36710,Male,64,0,0,Yes,Private,Urban,62.21,28.3,Unknown,0\\n29267,Male,25,0,0,No,Private,Rural,229.94,23.5,never smoked,0\\n17098,Female,12,0,0,No,children,Urban,116.06,25.9,Unknown,0\\n61384,Male,81,1,0,Yes,Private,Urban,117.77,27.1,never smoked,0\\n69732,Male,65,0,0,Yes,Self-employed,Urban,66.69,21.5,never smoked,0\\n61238,Female,40,0,0,Yes,Private,Rural,122.23,30.5,Unknown,0\\n18696,Male,81,0,0,No,Private,Urban,168.68,23.4,formerly smoked,0\\n25643,Male,36,0,0,Yes,Private,Rural,119.9,37.6,never smoked,0\\n63333,Female,32,0,0,Yes,Self-employed,Urban,110.33,24,smokes,0\\n23210,Male,31,0,0,No,Private,Rural,77.95,25.1,never smoked,0\\n2647,Male,55,0,0,Yes,Private,Rural,80.35,28.7,smokes,0\\n60934,Male,39,0,0,Yes,Private,Urban,57.38,41.8,formerly smoked,0\\n50412,Female,17,0,0,No,Private,Urban,96.47,25.6,Unknown,0\\n1192,Female,31,0,0,No,Govt_job,Rural,70.66,27.2,never smoked,0\\n55361,Female,36,0,0,Yes,Self-employed,Urban,202.06,24.4,never smoked,0\\n50141,Female,5,0,0,No,children,Urban,91.3,20.7,Unknown,0\\n12963,Female,29,0,0,No,Self-employed,Rural,67.56,19.6,Unknown,0\\n55337,Female,2,0,0,No,children,Rural,126.12,24.8,Unknown,0\\n23989,Female,62,0,0,Yes,Self-employed,Urban,86.4,32.6,smokes,0\\n26025,Female,45,0,0,Yes,Govt_job,Urban,103.22,20.5,never smoked,0\\n67711,Female,18,0,0,No,Private,Rural,88.85,36.2,Unknown,0\\n53105,Female,29,0,0,Yes,Private,Urban,63.9,45.4,smokes,0\\n10696,Female,52,0,0,Yes,Private,Urban,81.32,27.6,formerly smoked,0\\n43656,Male,59,1,0,Yes,Govt_job,Rural,253.93,N/A,formerly smoked,0\\n52361,Male,69,1,1,Yes,Private,Urban,78.11,34.7,formerly smoked,0\\n57343,Female,71,0,0,Yes,Private,Urban,134.65,32.4,Unknown,0\\n23339,Male,3,0,0,No,children,Rural,194.75,N/A,Unknown,0\\n51408,Male,33,0,0,Yes,Govt_job,Rural,77.94,28.7,never smoked,0\\n47886,Female,43,1,0,Yes,Govt_job,Rural,56.94,45.3,Unknown,0\\n21407,Male,39,0,0,Yes,Private,Rural,117.03,40.3,formerly smoked,0\\n34026,Female,60,0,0,Yes,Private,Rural,207.84,38.9,never smoked,0\\n53004,Female,54,0,0,Yes,Govt_job,Rural,228.26,46,never smoked,0\\n18833,Male,61,0,0,Yes,Self-employed,Rural,84.43,32.4,smokes,0\\n69222,Male,0.24,0,0,No,children,Urban,57.09,19.4,Unknown,0\\n32610,Female,11,0,0,No,children,Urban,94.89,27.5,never smoked,0\\n57645,Female,75,0,0,Yes,Govt_job,Rural,132.46,26.2,Unknown,0\\n21677,Female,64,0,0,Yes,Private,Rural,75.13,31.1,formerly smoked,0\\n50410,Female,78,0,0,No,Govt_job,Rural,76.64,34.6,never smoked,0\\n25051,Female,14,0,0,No,Private,Rural,91.32,24.3,never smoked,0\\n31642,Female,66,0,0,Yes,Self-employed,Rural,85.9,34.6,never smoked,0\\n60455,Male,48,0,0,Yes,Private,Urban,76.19,28.5,never smoked,0\\n52172,Female,44,0,0,Yes,Private,Rural,85.77,32.1,Unknown,0\\n69647,Male,30,0,0,No,Private,Urban,63.42,28,never smoked,0\\n24972,Male,1.48,0,0,No,children,Rural,112.02,20.9,Unknown,0\\n13172,Female,61,0,0,Yes,Self-employed,Urban,203.76,33.8,never smoked,0\\n31911,Female,54,0,0,Yes,Govt_job,Urban,98.44,25.8,formerly smoked,0\\n34415,Female,22,0,0,No,Govt_job,Urban,79.57,31.8,Unknown,0\\n53219,Male,47,0,0,Yes,Private,Urban,63.98,26.8,smokes,0\\n7924,Female,67,0,0,Yes,Private,Urban,101.46,25.9,formerly smoked,0\\n72491,Male,53,0,0,Yes,Private,Urban,74.66,29.2,smokes,0\\n59058,Female,45,0,0,Yes,Govt_job,Rural,68.66,25.3,never smoked,0\\n52619,Female,65,0,0,Yes,Private,Rural,205.78,41.7,never smoked,0\\n36162,Male,39,1,0,Yes,Private,Rural,111.24,38.8,never smoked,0\\n68371,Male,57,0,0,Yes,Private,Urban,134.76,29.1,Unknown,0\\n21067,Female,45,0,0,Yes,Self-employed,Urban,110.1,30.9,never smoked,0\\n25718,Female,28,0,0,Yes,Private,Urban,100.8,39.3,formerly smoked,0\\n24421,Male,30,0,0,No,Private,Urban,113.08,41.8,Unknown,0\\n69528,Female,31,0,0,Yes,Private,Urban,56.48,26.2,formerly smoked,0\\n56594,Female,70,0,0,Yes,Private,Urban,77.77,33.8,smokes,0\\n35095,Female,17,0,0,No,Private,Urban,104.02,26.1,Unknown,0\\n30002,Male,44,1,0,Yes,Self-employed,Rural,83.59,24.1,never smoked,0\\n71143,Male,65,0,0,Yes,Self-employed,Urban,179.67,30.7,formerly smoked,0\\n32669,Male,6,0,0,No,children,Urban,91.89,22.4,Unknown,0\\n17174,Male,15,0,0,No,children,Rural,78.9,23,Unknown,0\\n2818,Female,80,0,0,No,Self-employed,Rural,230.74,30.2,formerly smoked,0\\n30650,Male,54,0,0,Yes,Govt_job,Rural,216.19,30.3,formerly smoked,0\\n3013,Female,79,0,0,Yes,Self-employed,Rural,83.7,28.7,never smoked,0\\n42806,Female,60,1,0,Yes,Private,Rural,200.66,36.3,smokes,0\\n6390,Female,12,0,0,No,children,Rural,73.99,16.3,Unknown,0\\n46647,Female,36,0,0,No,Private,Urban,228.5,34.5,never smoked,0\\n6625,Female,54,0,0,Yes,Self-employed,Urban,70.43,20.8,smokes,0\\n49605,Male,63,0,0,Yes,Private,Urban,74.39,31,formerly smoked,0\\n72940,Female,2,0,0,No,children,Urban,102.92,17.6,Unknown,0\\n24783,Female,28,0,0,No,Private,Urban,87.91,22.7,formerly smoked,0\\n22515,Female,38,1,0,Yes,Private,Rural,118.55,38.4,smokes,0\\n3700,Male,37,0,0,Yes,Private,Urban,232.29,40.8,smokes,0\\n53802,Male,80,0,1,Yes,Private,Rural,125.32,32.9,Unknown,0\\n49955,Male,43,0,0,No,Private,Urban,78.98,31.3,formerly smoked,0\\n2456,Male,60,1,0,Yes,Govt_job,Rural,100.2,28.5,smokes,0\\n71515,Female,66,0,0,Yes,Private,Rural,200.91,27.6,never smoked,0\\n44662,Female,45,0,0,Yes,Govt_job,Rural,95.24,40.2,Unknown,0\\n38661,Female,29,0,0,No,Private,Urban,56.64,24.7,never smoked,0\\n15978,Male,4,0,0,No,children,Urban,80.48,17.7,Unknown,0\\n35210,Female,48,0,0,Yes,Private,Urban,112.96,25.4,never smoked,0\\n49930,Female,68,0,0,Yes,Private,Rural,236.04,28.5,never smoked,0\\n27789,Female,57,0,0,Yes,Private,Urban,73,26.2,never smoked,0\\n45325,Female,29,0,0,No,Private,Urban,61.13,26,never smoked,0\\n31092,Female,30,0,0,Yes,Private,Urban,88.56,45.3,never smoked,0\\n40705,Female,47,0,0,Yes,Self-employed,Rural,66.16,31.5,never smoked,0\\n28513,Female,73,0,0,Yes,Private,Rural,88.98,20.6,smokes,0\\n12367,Female,66,0,0,Yes,Self-employed,Urban,94.39,29.4,Unknown,0\\n63915,Female,39,0,0,Yes,Private,Urban,87.39,57.9,never smoked,0\\n10166,Male,66,0,0,No,Govt_job,Rural,77.91,39.1,Unknown,0\\n35999,Female,52,0,0,Yes,Private,Urban,86.85,23.8,formerly smoked,0\\n8964,Female,34,0,0,No,Private,Rural,94.37,38.1,never smoked,0\\n38207,Female,79,1,0,Yes,Self-employed,Rural,76.64,19.5,never smoked,0\\n52681,Female,39,0,0,Yes,Private,Urban,254.95,35.5,smokes,0\\n38980,Male,61,0,0,Yes,Govt_job,Urban,107.33,26.4,formerly smoked,0\\n33924,Female,26,0,0,No,Private,Urban,80.94,22.2,smokes,0\\n10135,Female,37,0,0,No,Private,Rural,112.02,29.1,Unknown,0\\n46517,Female,66,0,1,Yes,Private,Rural,196.58,41.9,formerly smoked,0\\n65966,Female,16,0,0,No,Private,Urban,89.14,22.6,formerly smoked,0\\n56575,Female,51,1,0,Yes,Govt_job,Urban,69.94,33.3,smokes,0\\n43138,Male,15,0,0,No,Private,Urban,55.79,21.3,never smoked,0\\n36633,Male,1.72,0,0,No,children,Urban,73.08,20.4,Unknown,0\\n11632,Male,60,0,0,Yes,Private,Urban,96.02,28.7,Unknown,0\\n31153,Male,66,0,0,Yes,Self-employed,Rural,189.82,28.8,formerly smoked,0\\n52247,Female,75,0,0,Yes,Govt_job,Urban,89.68,38.7,never smoked,0\\n61987,Female,40,0,0,Yes,Private,Urban,101.06,32.3,smokes,0\\n64416,Female,52,0,0,Yes,Govt_job,Rural,62.66,37.9,Unknown,0\\n31708,Female,13,0,0,No,children,Urban,84.03,25.3,Unknown,0\\n62296,Female,44,0,0,Yes,Govt_job,Rural,108.38,27.7,Unknown,0\\n53976,Female,37,0,0,No,Private,Rural,78.79,25.1,Unknown,0\\n16446,Male,2,0,0,No,children,Rural,76.12,16.8,Unknown,0\\n51329,Female,48,0,0,Yes,Private,Rural,68.01,27.7,never smoked,0\\n33560,Female,81,0,1,Yes,Govt_job,Urban,90.11,28.6,never smoked,0\\n37866,Female,76,0,0,Yes,Self-employed,Urban,193.61,37.6,never smoked,0\\n8553,Female,58,0,0,Yes,Govt_job,Rural,195.74,32.7,Unknown,0\\n5654,Female,11,0,0,No,children,Rural,94.77,22.7,Unknown,0\\n17238,Female,9,0,0,No,children,Urban,85,16,Unknown,0\\n45252,Male,54,0,0,Yes,Private,Urban,141.37,23.5,never smoked,0\\n14444,Female,37,0,0,No,Self-employed,Urban,90.71,45.8,Unknown,0\\n46503,Female,16,0,0,No,Private,Rural,106.8,20.8,never smoked,0\\n18578,Male,11,0,0,No,children,Rural,121.66,16.7,Unknown,0\\n917,Female,32,0,0,Yes,Private,Urban,85.18,22.2,smokes,0\\n60981,Female,26,0,0,No,Private,Rural,130.07,33.1,never smoked,0\\n28873,Female,21,0,0,No,Private,Rural,74.24,32.7,never smoked,0\\n25446,Female,45,0,0,Yes,Govt_job,Urban,79.98,41.4,never smoked,0\\n54127,Female,40,0,0,Yes,Self-employed,Urban,106.76,24.1,formerly smoked,0\\n63478,Female,41,0,0,Yes,Private,Urban,76.34,28,Unknown,0\\n15464,Female,71,1,1,Yes,Private,Rural,221.24,24.2,Unknown,0\\n63312,Male,16,0,0,No,Private,Urban,80.55,23.5,smokes,0\\n55681,Female,7,0,0,No,children,Rural,63.98,23,Unknown,0\\n63804,Female,27,0,0,No,Private,Rural,55.93,20.3,smokes,0\\n10321,Female,22,0,0,Yes,Private,Rural,73.94,24.8,Unknown,0\\n56339,Female,79,0,0,Yes,Self-employed,Rural,65.58,26.1,Unknown,0\\n56277,Female,38,0,0,Yes,Private,Rural,83.8,24.2,smokes,0\\n33657,Female,64,0,0,Yes,Private,Urban,95.87,19.3,formerly smoked,0\\n7054,Male,4,0,0,No,children,Rural,112.83,18.2,Unknown,0\\n72393,Female,23,0,0,Yes,Govt_job,Rural,84.93,24.2,never smoked,0\\n68059,Male,35,0,0,Yes,Govt_job,Rural,103.08,41.5,smokes,0\\n14996,Male,66,0,0,Yes,Self-employed,Rural,85.98,28,Unknown,0\\n841,Male,34,0,0,Yes,Private,Urban,83.75,37,never smoked,0\\n22880,Female,19,0,0,No,Private,Urban,125.43,32.2,Unknown,0\\n1552,Male,73,0,0,Yes,Private,Urban,101.58,35.9,never smoked,0\\n68853,Female,70,0,0,Yes,Private,Rural,149.8,47.6,Unknown,0\\n49190,Female,45,0,0,Yes,Private,Rural,112.55,32.1,never smoked,0\\n49277,Female,34,0,0,No,Private,Urban,70.87,55.7,formerly smoked,0\\n711,Male,81,0,0,Yes,Private,Rural,92.96,22.2,never smoked,0\\n1953,Female,0.72,0,0,No,children,Rural,112.19,20.1,Unknown,0\\n34900,Male,13,0,0,No,Never_worked,Urban,85.08,14.6,Unknown,0\\n13237,Male,57,0,1,Yes,Self-employed,Urban,112.37,28.4,never smoked,0\\n61684,Female,38,0,0,Yes,Private,Urban,151.26,20.6,never smoked,0\\n28382,Male,21,0,0,No,Private,Urban,73.81,19.8,Unknown,0\\n13768,Female,38,0,0,Yes,Private,Urban,77.2,23.4,Unknown,0\\n32726,Female,41,0,0,No,Private,Urban,76.08,25.1,never smoked,0\\n65729,Female,26,0,0,Yes,Private,Rural,123.98,30.1,never smoked,0\\n6422,Female,48,0,0,Yes,Self-employed,Urban,108.51,33.3,Unknown,0\\n11382,Male,18,0,0,No,Private,Rural,98.07,24,never smoked,0\\n31703,Male,66,0,0,Yes,Self-employed,Urban,85.82,27.8,never smoked,0\\n33439,Female,27,0,0,No,Private,Rural,86.21,21.4,Unknown,0\\n5647,Female,18,0,0,No,Private,Urban,99.01,25.5,formerly smoked,0\\n1847,Female,20,0,0,No,Govt_job,Rural,79.53,N/A,never smoked,0\\n12900,Male,11,0,0,No,children,Rural,80.08,21.8,never smoked,0\\n28367,Female,7,0,0,No,children,Rural,69.47,18.9,Unknown,0\\n71551,Female,54,0,0,No,Private,Urban,85.07,21.9,Unknown,0\\n13846,Male,43,0,0,Yes,Govt_job,Rural,88,30.6,never smoked,0\\n61667,Female,61,0,0,Yes,Private,Rural,144.14,29.8,never smoked,0\\n46079,Male,31,0,0,No,Private,Urban,78.8,28.7,smokes,0\\n7871,Female,40,0,0,Yes,Private,Urban,86.78,35.5,smokes,0\\n60964,Female,71,1,0,Yes,Govt_job,Rural,105.72,29.1,formerly smoked,0\\n72562,Female,57,0,0,Yes,Private,Rural,64.37,32.8,never smoked,0\\n63773,Female,13,0,0,No,children,Rural,146.1,22.8,never smoked,0\\n53998,Female,21,0,0,No,Private,Urban,58.66,31.3,never smoked,0\\n16617,Female,63,1,0,Yes,Govt_job,Urban,192.5,29,never smoked,0\\n54117,Male,7,0,0,No,children,Rural,103.5,19,Unknown,0\\n5987,Female,78,0,0,Yes,Private,Urban,89.42,24.1,never smoked,0\\n72215,Female,66,0,0,Yes,Self-employed,Rural,212.92,21.4,never smoked,0\\n39796,Male,41,0,0,No,Self-employed,Rural,60.73,28,never smoked,0\\n12345,Male,11,0,0,No,children,Urban,73.18,27.6,never smoked,0\\n65636,Male,55,0,0,Yes,Private,Urban,82.26,28.7,Unknown,0\\n47356,Female,42,0,0,Yes,Private,Urban,87.4,24.5,formerly smoked,0\\n27859,Male,51,0,0,Yes,Private,Rural,86.95,25,formerly smoked,0\\n41715,Female,79,1,0,Yes,Self-employed,Rural,74,29.6,never smoked,0\\n38617,Male,28,0,0,Yes,Self-employed,Urban,73.98,29.9,never smoked,0\\n32638,Female,73,1,0,Yes,Self-employed,Rural,124.78,35.6,never smoked,0\\n47799,Female,42,0,0,Yes,Private,Urban,191.94,27.9,never smoked,0\\n41942,Female,37,0,0,Yes,Private,Urban,247.87,42.6,never smoked,0\\n69010,Male,78,0,0,Yes,Private,Rural,83.2,21.2,formerly smoked,0\\n47144,Female,74,0,0,Yes,Self-employed,Urban,88.62,28.5,formerly smoked,0\\n65103,Female,59,0,0,Yes,Private,Urban,81.51,25.6,formerly smoked,0\\n6472,Female,78,0,0,Yes,Govt_job,Urban,101.76,N/A,smokes,0\\n27596,Female,82,1,0,Yes,Private,Urban,115.71,31.1,formerly smoked,0\\n59522,Male,71,1,0,Yes,Private,Rural,229.73,30.4,never smoked,0\\n51512,Female,19,0,0,No,Private,Rural,57.4,22.9,Unknown,0\\n53821,Male,18,0,0,No,Private,Rural,100.47,31.9,never smoked,0\\n51532,Female,53,0,0,Yes,Govt_job,Rural,81.36,48.8,never smoked,0\\n50070,Female,62,1,0,Yes,Self-employed,Rural,261.67,43,formerly smoked,0\\n41654,Male,3,0,0,No,children,Rural,110.2,21.8,Unknown,0\\n5714,Female,49,1,0,Yes,Govt_job,Rural,98.9,35.5,never smoked,0\\n2304,Male,51,0,0,Yes,Govt_job,Rural,95.19,24.3,smokes,0\\n8543,Female,53,0,0,Yes,Private,Rural,105.28,23.1,never smoked,0\\n45279,Female,10,0,0,No,children,Rural,83.03,18.5,Unknown,0\\n57870,Male,54,0,0,Yes,Private,Rural,89.41,42.4,smokes,0\\n56961,Female,40,0,0,No,Govt_job,Rural,70.56,32.3,never smoked,0\\n8623,Female,3,0,0,No,children,Urban,78.79,22.6,Unknown,0\\n21346,Female,12,0,0,No,children,Rural,70.13,17.8,Unknown,0\\n36922,Male,56,0,0,Yes,Private,Rural,62.68,18.4,never smoked,0\\n19814,Female,43,0,0,No,Private,Urban,71.77,26.9,never smoked,0\\n22151,Female,28,0,0,No,Govt_job,Rural,77.99,32,smokes,0\\n47802,Male,28,0,0,No,Private,Urban,256.74,23.4,formerly smoked,0\\n25404,Male,56,0,0,Yes,Private,Rural,93.72,31.4,never smoked,0\\n43487,Female,14,0,0,No,children,Urban,63.74,22.4,Unknown,0\\n58313,Female,63,0,0,Yes,Self-employed,Urban,60.67,28.9,formerly smoked,0\\n16629,Female,29,0,0,Yes,Private,Urban,112.08,27.4,never smoked,0\\n60675,Female,48,1,0,Yes,Govt_job,Rural,221.08,57.2,never smoked,0\\n1119,Male,47,0,1,Yes,Govt_job,Urban,101.81,28.4,smokes,0\\n64864,Male,63,1,0,Yes,Private,Rural,60.17,23.5,smokes,0\\n55244,Male,40,0,0,Yes,Self-employed,Rural,65.29,28.3,never smoked,0\\n23568,Female,40,0,0,Yes,Private,Urban,153.24,38.2,Unknown,0\\n56979,Male,55,0,0,Yes,Private,Rural,61.42,33.3,smokes,0\\n66006,Female,43,0,0,Yes,Private,Urban,86.67,33.3,never smoked,0\\n40447,Female,59,0,0,Yes,Private,Rural,82.42,28.8,never smoked,0\\n62798,Female,78,1,0,Yes,Private,Rural,100.54,32.1,smokes,0\\n38397,Female,27,0,0,No,Private,Urban,111.48,28.9,never smoked,0\\n66945,Female,49,0,0,Yes,Private,Urban,85.33,25.5,never smoked,0\\n44992,Male,14,0,0,No,Private,Urban,126.57,25.9,formerly smoked,0\\n50009,Female,17,0,0,No,Private,Urban,81.51,19.5,formerly smoked,0\\n5170,Male,42,0,0,Yes,Govt_job,Rural,67.97,23.8,Unknown,0\\n16263,Female,36,0,0,Yes,Self-employed,Urban,77.92,24.9,Unknown,0\\n16024,Male,19,0,0,No,Private,Urban,80.54,18.5,smokes,0\\n47057,Male,55,0,0,Yes,Self-employed,Urban,76.47,30.6,Unknown,0\\n34045,Female,8,0,0,No,children,Urban,87.15,16.1,Unknown,0\\n59691,Female,56,0,0,Yes,Govt_job,Urban,86.07,32.5,Unknown,0\\n49261,Male,54,0,0,No,Private,Rural,106.52,27.4,formerly smoked,0\\n30734,Male,15,0,0,No,children,Rural,94.24,30.2,Unknown,0\\n72184,Female,43,0,0,Yes,Self-employed,Urban,89.73,23.5,formerly smoked,0\\n37440,Male,52,0,0,Yes,Govt_job,Urban,208.39,36,formerly smoked,0\\n54400,Female,62,0,0,Yes,Self-employed,Rural,128.61,24.8,never smoked,0\\n56547,Male,54,0,0,Yes,Private,Rural,57.56,27.5,never smoked,0\\n13598,Male,60,0,0,Yes,Self-employed,Urban,227.23,40,formerly smoked,0\\n24246,Male,7,0,0,No,children,Urban,77.76,18.1,Unknown,0\\n29276,Male,3,0,0,No,children,Urban,72.76,18.8,Unknown,0\\n20979,Female,39,0,0,No,Private,Rural,90.11,23.6,never smoked,0\\n46048,Male,60,0,0,Yes,Govt_job,Rural,203.27,29.7,never smoked,0\\n35217,Female,60,1,0,Yes,Private,Urban,234.5,43.7,never smoked,0\\n11816,Female,46,0,0,Yes,Self-employed,Urban,71.12,27.3,never smoked,0\\n48721,Male,26,0,0,No,Private,Urban,190.67,20.2,never smoked,0\\n24163,Female,12,0,0,No,children,Rural,116.04,23.8,Unknown,0\\n8022,Male,16,0,0,No,Private,Urban,82.95,21.4,never smoked,0\\n10950,Female,2,0,0,No,children,Urban,112.75,25.1,Unknown,0\\n21830,Female,82,0,0,Yes,Private,Urban,82.63,17.9,smokes,0\\n26594,Female,32,0,0,Yes,Private,Urban,92.75,34.5,smokes,0\\n14789,Female,62,0,0,Yes,Private,Rural,117.63,27.1,formerly smoked,0\\n46670,Female,75,1,0,Yes,Self-employed,Rural,197.06,26.1,never smoked,0\\n31426,Female,81,1,0,Yes,Govt_job,Urban,216.07,43.4,never smoked,0\\n64435,Female,37,0,0,Yes,Private,Rural,76.03,33.2,never smoked,0\\n68789,Female,28,0,0,No,Private,Urban,62.44,37.2,Unknown,0\\n56254,Female,25,0,0,No,Private,Rural,108.82,41.3,smokes,0\\n17478,Male,44,0,0,Yes,Govt_job,Urban,101.66,35.4,never smoked,0\\n59908,Female,11,0,0,No,children,Rural,121.15,26.1,Unknown,0\\n34130,Male,54,1,0,Yes,Private,Rural,116.44,24.5,never smoked,0\\n22282,Male,52,1,0,Yes,Govt_job,Rural,116.62,N/A,smokes,0\\n21110,Female,43,0,0,Yes,Private,Urban,93.3,32.7,never smoked,0\\n71622,Female,56,0,0,Yes,Private,Urban,144.33,29.2,never smoked,0\\n10056,Female,37,0,0,Yes,Private,Urban,98.02,20.4,never smoked,0\\n2424,Male,60,0,0,Yes,Private,Urban,80.67,33.5,Unknown,0\\n24736,Female,4,0,0,No,children,Urban,94.27,14,Unknown,0\\n8920,Female,51,0,0,Yes,Self-employed,Rural,76.35,33.5,formerly smoked,0\\n62715,Male,82,0,1,Yes,Private,Urban,57.56,27.5,never smoked,0\\n70615,Female,56,0,0,Yes,Govt_job,Urban,179.14,35.3,Unknown,0\\n43507,Female,60,0,0,Yes,Private,Rural,63.49,30.1,never smoked,0\\n43035,Male,35,0,0,Yes,Private,Rural,145.18,32.6,smokes,0\\n44799,Female,32,0,0,Yes,Private,Rural,66.3,47.5,never smoked,0\\n49053,Female,45,0,0,No,Private,Rural,120.56,31.6,never smoked,0\\n33102,Male,10,0,0,No,children,Rural,69.2,23.5,formerly smoked,0\\n59405,Female,68,1,0,Yes,Private,Urban,150.74,40.3,Unknown,0\\n18283,Female,51,0,0,Yes,Govt_job,Urban,81.38,34.1,smokes,0\\n4929,Male,8,0,0,No,children,Urban,78.48,16.1,Unknown,0\\n37289,Female,63,0,0,Yes,Self-employed,Rural,203.87,26.4,never smoked,0\\n6202,Male,4,0,0,No,children,Urban,87,19,Unknown,0\\n24106,Female,33,0,0,Yes,Private,Rural,84.68,34.7,formerly smoked,0\\n32126,Female,56,0,1,Yes,Private,Urban,91.89,23.3,smokes,0\\n56322,Male,49,0,1,Yes,Govt_job,Rural,88.97,32.6,never smoked,0\\n54869,Female,30,0,0,Yes,Private,Urban,116.98,26,never smoked,0\\n40887,Male,16,0,0,No,children,Urban,135.82,35.1,never smoked,0\\n29764,Female,1.8,0,0,No,children,Rural,96.62,18.6,Unknown,0\\n38287,Male,54,0,0,Yes,Private,Rural,106.53,30.4,formerly smoked,0\\n53426,Male,49,0,0,Yes,Private,Rural,58.42,32.8,formerly smoked,0\\n14943,Female,17,0,0,No,Private,Rural,79.62,21.6,never smoked,0\\n65351,Male,11,0,0,No,children,Urban,141.84,23.3,Unknown,0\\n61830,Male,51,0,0,Yes,Private,Rural,78.05,31.4,never smoked,0\\n71777,Male,74,1,1,Yes,Private,Rural,77.16,26.3,never smoked,0\\n69059,Female,42,0,0,Yes,Private,Urban,86.3,20.1,never smoked,0\\n11908,Female,69,0,0,Yes,Self-employed,Urban,83.55,28.3,formerly smoked,0\\n24955,Female,22,0,0,No,Private,Rural,102,40.4,smokes,0\\n61477,Female,25,0,0,No,Private,Urban,68.07,18.6,smokes,0\\n724,Male,17,0,0,No,Private,Rural,81.77,44.7,never smoked,0\\n22614,Male,64,0,0,No,Self-employed,Rural,82.62,25.3,smokes,0\\n61997,Female,50,0,0,Yes,Private,Urban,102.03,28.3,Unknown,0\\n6605,Male,52,1,0,Yes,Govt_job,Urban,235.06,39.9,formerly smoked,0\\n46987,Female,65,0,1,Yes,Private,Rural,57.52,N/A,formerly smoked,0\\n70428,Female,37,0,0,Yes,Govt_job,Urban,76.98,34.7,never smoked,0\\n2267,Female,31,0,0,Yes,Self-employed,Urban,82.31,31.9,never smoked,0\\n25476,Female,52,0,0,Yes,Private,Urban,83.84,35,Unknown,0\\n52960,Female,56,0,0,Yes,Self-employed,Urban,98.14,32.7,formerly smoked,0\\n56600,Female,43,0,0,Yes,Private,Rural,84.04,30.6,Unknown,0\\n9394,Male,11,0,0,No,children,Rural,92.24,27.9,Unknown,0\\n42400,Female,2,0,0,No,children,Urban,94.92,20.4,Unknown,0\\n36210,Female,16,0,0,No,Private,Rural,112.7,29.6,never smoked,0\\n34416,Male,23,0,0,No,Private,Urban,74.34,23.5,never smoked,0\\n37192,Female,40,0,0,Yes,Private,Urban,72.99,46.4,Unknown,0\\n20237,Male,15,0,0,No,Private,Urban,104.9,27.4,never smoked,0\\n60635,Male,48,0,0,Yes,Private,Rural,99.96,25.2,never smoked,0\\n32571,Male,33,0,0,Yes,Private,Urban,85.27,25.8,Unknown,0\\n52368,Male,46,0,0,Yes,Private,Urban,60.32,33.3,smokes,0\\n66786,Female,53,0,0,Yes,Private,Rural,94.14,27.7,smokes,0\\n12668,Male,68,0,0,Yes,Self-employed,Urban,195.43,28.9,never smoked,0\\n64155,Male,60,0,0,Yes,Govt_job,Rural,200.25,33.1,never smoked,0\\n17885,Male,57,0,0,No,Govt_job,Rural,90.31,38.1,smokes,0\\n18930,Female,51,0,0,Yes,Govt_job,Urban,95.33,27.9,never smoked,0\\n15728,Female,0.4,0,0,No,children,Rural,85.65,17.4,Unknown,0\\n71846,Female,76,0,0,Yes,Govt_job,Urban,223.64,27.1,smokes,0\\n37515,Female,46,0,0,Yes,Govt_job,Rural,76.43,22.7,Unknown,0\\n25763,Female,23,0,0,No,Private,Urban,98.66,28.3,Unknown,0\\n16566,Male,9,0,0,No,children,Urban,75.84,21.5,Unknown,0\\n30836,Female,53,0,0,Yes,Private,Urban,85.46,30,never smoked,0\\n68060,Male,4,0,0,No,children,Urban,81.33,18.6,Unknown,0\\n51958,Female,62,1,0,No,Private,Urban,199.78,45.2,Unknown,0\\n45285,Male,37,0,0,Yes,Private,Urban,176.42,39.7,Unknown,0\\n19271,Female,82,1,1,Yes,Self-employed,Urban,101.56,31.5,never smoked,0\\n6576,Female,33,0,0,Yes,Private,Urban,84.48,23.2,formerly smoked,0\\n6850,Male,3,0,0,No,children,Urban,93.21,27.3,Unknown,0\\n25798,Male,14,0,0,No,Private,Urban,72.88,26.5,never smoked,0\\n28611,Male,16,0,0,No,Private,Urban,84.1,19.3,Unknown,0\\n15061,Male,40,0,0,Yes,Govt_job,Rural,72.84,26.1,Unknown,0\\n40323,Female,18,0,0,No,Private,Urban,70.89,19.8,never smoked,0\\n40842,Female,29,0,0,Yes,Private,Rural,108.14,25.1,formerly smoked,0\\n23765,Female,56,0,0,Yes,Govt_job,Rural,244.3,37.3,never smoked,0\\n66287,Male,33,0,0,Yes,Private,Rural,88.04,30.3,formerly smoked,0\\n50804,Male,2,0,0,No,children,Rural,65.84,16.1,Unknown,0\\n25927,Male,36,0,0,Yes,Private,Rural,106.73,25.1,never smoked,0\\n41970,Male,30,0,0,No,Private,Urban,106.03,26.7,Unknown,0\\n54206,Female,31,0,0,No,Govt_job,Urban,80.88,29.3,formerly smoked,0\\n46691,Male,16,0,0,No,children,Urban,140.1,38.7,never smoked,0\\n37553,Male,58,0,0,Yes,Private,Urban,127.4,35.8,formerly smoked,0\\n27507,Female,19,0,0,No,Private,Urban,87.72,21.7,never smoked,0\\n68209,Male,47,0,0,Yes,Govt_job,Rural,58.23,31.4,formerly smoked,0\\n42841,Male,59,0,0,Yes,Private,Rural,69.37,26.9,formerly smoked,0\\n51889,Female,40,0,0,Yes,Private,Urban,58.64,33,never smoked,0\\n72725,Female,26,0,0,No,Govt_job,Urban,59.67,24.5,smokes,0\\n18605,Female,17,0,0,No,Never_worked,Urban,78.08,44.9,never smoked,0\\n23599,Female,30,0,0,No,Private,Urban,105.08,25.5,never smoked,0\\n45530,Female,19,0,0,No,Private,Urban,89.3,22.1,never smoked,0\\n56425,Female,78,0,0,Yes,Govt_job,Rural,61.38,24.3,Unknown,0\\n69972,Female,55,0,0,Yes,Private,Rural,56.11,32.4,formerly smoked,0\\n5774,Male,59,0,0,Yes,Private,Urban,223.16,N/A,Unknown,0\\n13307,Male,57,0,0,Yes,Govt_job,Urban,75.53,33.1,formerly smoked,0\\n72188,Male,33,0,0,No,Private,Urban,107.47,26.7,never smoked,0\\n60226,Female,35,0,0,Yes,Private,Urban,76,37.9,Unknown,0\\n34940,Male,32,0,0,Yes,Private,Urban,90.28,39.6,never smoked,0\\n4403,Female,55,0,0,Yes,Private,Urban,65.22,19.8,never smoked,0\\n33051,Male,28,0,0,No,Private,Urban,86.24,30,Unknown,0\\n37668,Male,25,0,0,Yes,Govt_job,Urban,166.38,23.1,never smoked,0\\n27276,Female,45,0,0,Yes,Private,Urban,78.91,34.3,Unknown,0\\n37808,Female,34,0,0,No,Govt_job,Urban,226.28,38.4,Unknown,0\\n21678,Male,33,0,0,Yes,Private,Urban,90.73,32.8,smokes,0\\n40087,Male,65,0,0,Yes,Private,Rural,172.86,34.4,never smoked,0\\n38658,Female,62,0,0,Yes,Self-employed,Rural,213.92,44.6,never smoked,0\\n30353,Male,36,0,0,Yes,Private,Urban,92.23,32.8,never smoked,0\\n28803,Male,31,0,0,Yes,Private,Urban,79.81,26.4,never smoked,0\\n10445,Male,54,0,0,Yes,Govt_job,Rural,81.78,27.3,Unknown,0\\n12812,Female,53,0,0,Yes,Private,Rural,102,32.4,never smoked,0\\n72289,Female,44,0,0,Yes,Private,Rural,68.42,43.2,smokes,0\\n30433,Male,77,0,0,Yes,Private,Urban,94.68,33.6,Unknown,0\\n37640,Female,67,0,0,Yes,Govt_job,Rural,125.33,26.4,Unknown,0\\n54378,Female,48,0,0,Yes,Self-employed,Urban,212.19,46.9,never smoked,0\\n34138,Male,42,0,0,Yes,Private,Urban,89,36.3,formerly smoked,0\\n72160,Male,72,1,1,Yes,Private,Rural,60.98,34.9,formerly smoked,0\\n44447,Male,49,0,0,Yes,Private,Urban,58.19,29.6,smokes,0\\n5927,Female,1.32,0,0,No,children,Rural,67.68,16.5,Unknown,0\\n44233,Female,45,0,0,Yes,Govt_job,Rural,84.99,35.4,Unknown,0\\n56021,Female,63,1,0,Yes,Private,Urban,62.13,23.6,never smoked,0\\n65038,Female,33,0,0,Yes,Private,Rural,57.1,33.1,never smoked,0\\n3595,Male,32,0,0,Yes,Private,Urban,97.95,40.2,smokes,0\\n25783,Female,0.48,0,0,No,children,Rural,94.06,14.8,Unknown,0\\n68268,Female,63,0,0,Yes,Self-employed,Urban,93.88,34.8,Unknown,0\\n7564,Male,70,0,0,Yes,Private,Rural,90.3,33.5,formerly smoked,0\\n26723,Female,57,0,0,Yes,Private,Urban,83.14,31.9,never smoked,0\\n9995,Male,8,0,0,No,children,Urban,118.66,16.1,Unknown,0\\n68074,Male,54,0,0,Yes,Private,Rural,100.47,50.2,formerly smoked,0\\n8385,Male,37,0,0,Yes,Private,Urban,90.78,35.9,Unknown,0\\n21796,Male,59,0,0,Yes,Private,Urban,66.46,39.6,formerly smoked,0\\n53115,Female,78,0,0,Yes,Govt_job,Urban,73.56,27.5,formerly smoked,0\\n27623,Female,59,0,0,Yes,Private,Urban,200.8,32.3,Unknown,0\\n70823,Female,10,0,0,No,children,Urban,57.28,15.4,never smoked,0\\n5173,Male,21,0,0,No,Private,Rural,92.87,28.4,smokes,0\\n21852,Male,2,0,0,No,children,Rural,96.47,19.5,Unknown,0\\n24711,Female,55,0,0,Yes,Govt_job,Urban,99.44,25,formerly smoked,0\\n21967,Female,20,0,0,Yes,Private,Urban,77.96,26.3,smokes,0\\n36793,Female,38,1,0,Yes,Private,Rural,60.13,39.6,never smoked,0\\n37492,Female,33,0,0,Yes,Private,Rural,88.17,38.6,formerly smoked,0\\n45658,Male,14,0,0,No,Private,Rural,84.41,33.9,never smoked,0\\n6264,Male,32,0,0,Yes,Private,Rural,72.34,32.2,Unknown,0\\n37507,Female,32,0,0,No,Private,Rural,68.72,25.1,never smoked,0\\n50557,Female,68,0,0,Yes,Self-employed,Urban,222.58,37.4,smokes,0\\n21973,Male,70,0,0,Yes,Private,Rural,66.06,30.1,formerly smoked,0\\n53346,Female,24,0,0,Yes,Private,Rural,156.43,27,formerly smoked,0\\n41210,Male,44,0,0,No,Self-employed,Urban,105.76,32.4,formerly smoked,0\\n29078,Male,39,0,0,Yes,Govt_job,Rural,73.07,26.8,smokes,0\\n24873,Female,81,0,0,Yes,Private,Rural,99.48,27.2,never smoked,0\\n15387,Male,19,0,0,No,Private,Rural,79.6,36.7,Unknown,0\\n63880,Female,69,0,0,Yes,Self-employed,Urban,70,36,never smoked,0\\n49833,Female,42,0,0,Yes,Govt_job,Rural,112.98,37.2,formerly smoked,0\\n43773,Male,8,0,0,No,children,Urban,61.07,19.1,Unknown,0\\n53095,Male,8,0,0,No,children,Rural,63.43,21.8,Unknown,0\\n56185,Female,28,0,0,No,Private,Urban,73.2,26.5,smokes,0\\n57043,Female,66,0,0,Yes,Self-employed,Urban,102.73,35,formerly smoked,0\\n55545,Female,66,0,0,Yes,Self-employed,Rural,74.88,32.6,never smoked,0\\n60899,Female,47,0,0,Yes,Private,Urban,122.43,23.9,never smoked,0\\n16136,Female,78,0,0,Yes,Self-employed,Urban,84.21,33.7,never smoked,0\\n11843,Female,65,0,0,Yes,Self-employed,Rural,80.42,29.4,formerly smoked,0\\n3609,Male,78,0,0,Yes,Private,Urban,80.44,29,never smoked,0\\n29172,Female,68,0,0,Yes,Self-employed,Rural,80.63,20.2,never smoked,0\\n49894,Female,78,1,1,Yes,Private,Rural,206.53,N/A,never smoked,0\\n6048,Female,65,0,0,Yes,Private,Urban,104.12,27.4,never smoked,0\\n16029,Female,70,0,0,Yes,Self-employed,Rural,96.82,25,never smoked,0\\n63022,Female,59,0,0,Yes,Self-employed,Urban,88.1,30.7,never smoked,0\\n40041,Male,31,0,0,No,Self-employed,Rural,64.85,23,Unknown,0\\n6924,Female,32,0,0,Yes,Private,Rural,102.87,26.6,smokes,0\\n22590,Male,5,0,0,No,children,Urban,83.75,18.1,Unknown,0\\n25878,Male,55,0,0,Yes,Self-employed,Rural,97.68,47.1,formerly smoked,0\\n11169,Female,61,0,0,Yes,Private,Urban,97.58,29.7,formerly smoked,0\\n44355,Female,48,0,0,Yes,Private,Rural,74.16,19.9,never smoked,0\\n31113,Female,1.16,0,0,No,children,Urban,86,13.3,Unknown,0\\n46514,Female,50,0,0,Yes,Govt_job,Urban,100.93,32.7,never smoked,0\\n67466,Male,63,1,0,Yes,Private,Urban,232.78,31.8,formerly smoked,0\\n3612,Male,67,0,0,Yes,Private,Rural,86.96,31.4,formerly smoked,0\\n66590,Female,43,0,0,Yes,Self-employed,Urban,67.5,20.4,formerly smoked,0\\n19611,Male,59,0,0,Yes,Private,Urban,81.21,33.2,smokes,0\\n47216,Male,47,0,0,Yes,Private,Rural,110.14,30.5,smokes,0\\n55591,Male,50,0,0,Yes,Private,Urban,120.44,30.3,never smoked,0\\n24381,Male,51,0,1,Yes,Self-employed,Urban,187.47,34.2,never smoked,0\\n8037,Male,44,0,1,No,Govt_job,Urban,94.62,34.4,Unknown,0\\n23911,Female,39,0,0,No,Private,Rural,89.57,48.1,never smoked,0\\n31596,Female,24,0,0,No,Private,Urban,95.31,22.8,never smoked,0\\n44647,Male,62,0,0,No,Govt_job,Rural,75.07,30.5,never smoked,0\\n51486,Female,61,0,0,Yes,Private,Rural,106.65,35.9,formerly smoked,0\\n18263,Female,78,0,0,Yes,Self-employed,Urban,234.06,33.7,never smoked,0\\n41930,Male,15,0,0,No,Private,Rural,144.15,24.1,never smoked,0\\n45922,Female,23,0,0,No,Private,Urban,58.81,25.4,never smoked,0\\n52934,Male,79,0,0,Yes,Self-employed,Urban,242.62,25.5,never smoked,0\\n18020,Male,57,0,0,Yes,Private,Urban,93.04,29.2,never smoked,0\\n2044,Female,70,0,1,Yes,Self-employed,Rural,65.68,N/A,Unknown,0\\n63467,Male,9,0,0,No,children,Urban,150,17.4,Unknown,0\\n38642,Male,55,0,0,Yes,Private,Urban,63.56,29.9,Unknown,0\\n5387,Female,82,0,0,No,Private,Rural,96.98,21.5,never smoked,0\\n68417,Female,19,0,0,No,Private,Rural,66.7,24.7,never smoked,0\\n22477,Male,41,0,0,Yes,Private,Rural,79.66,25.1,Unknown,0\\n23968,Female,79,0,0,Yes,Govt_job,Rural,90.16,34.4,never smoked,0\\n8111,Female,23,0,0,No,Private,Rural,104.09,27.9,Unknown,0\\n15282,Female,77,0,0,Yes,Private,Rural,90.96,31.5,formerly smoked,0\\n54395,Female,78,1,0,Yes,Self-employed,Rural,152.38,31.8,never smoked,0\\n25408,Female,24,0,0,Yes,Self-employed,Rural,114.54,30.1,smokes,0\\n69284,Female,81,1,0,Yes,Self-employed,Urban,174.54,26.4,never smoked,0\\n28348,Female,46,0,0,Yes,Private,Rural,106.47,27.2,Unknown,0\\n46015,Female,29,0,0,No,Private,Urban,73.63,22.5,smokes,0\\n69047,Female,59,0,0,Yes,Govt_job,Urban,98.52,29.8,formerly smoked,0\\n39706,Male,41,0,0,Yes,Self-employed,Rural,62.93,26.1,smokes,0\\n9143,Female,17,0,0,No,Private,Urban,67.87,24.9,formerly smoked,0\\n64879,Female,8,0,0,No,children,Rural,120.43,23.5,Unknown,0\\n17130,Female,23,0,0,No,Private,Rural,76.56,30.1,never smoked,0\\n16420,Female,45,0,0,Yes,Private,Urban,108.03,37.3,never smoked,0\\n7529,Male,67,0,0,Yes,Private,Rural,83.16,25.5,formerly smoked,0\\n54022,Female,78,0,0,Yes,Self-employed,Rural,67.9,35.3,never smoked,0\\n35660,Male,18,0,0,No,Private,Rural,115.46,27.6,Unknown,0\\n50605,Female,35,0,0,Yes,Private,Rural,123.94,28.7,never smoked,0\\n27803,Female,54,0,0,Yes,Govt_job,Urban,231.54,29.9,never smoked,0\\n68981,Female,71,1,0,Yes,Govt_job,Urban,219.8,34.2,formerly smoked,0\\n61505,Female,24,0,0,No,Private,Rural,187.99,24.9,smokes,0\\n70677,Male,60,0,0,Yes,Private,Rural,234.45,36.8,formerly smoked,0\\n49620,Male,75,0,0,Yes,Private,Rural,75.47,24.5,formerly smoked,0\\n5319,Male,48,0,0,Yes,Private,Rural,98.24,34.6,never smoked,0\\n51100,Male,62,0,0,Yes,Govt_job,Rural,66.2,30,Unknown,0\\n163,Female,20,0,0,No,Private,Rural,94.67,28.8,Unknown,0\\n55140,Male,69,1,0,No,Private,Urban,75.95,28.6,never smoked,0\\n52882,Female,60,0,0,Yes,Govt_job,Rural,111.79,23.6,smokes,0\\n54344,Female,12,0,0,No,children,Rural,80.89,20.1,Unknown,0\\n2550,Female,28,0,0,Yes,Govt_job,Rural,86.91,21.1,formerly smoked,0\\n58610,Female,55,0,0,Yes,Private,Urban,59.36,34.1,smokes,0\\n16902,Female,70,0,1,Yes,Self-employed,Urban,240.69,N/A,smokes,0\\n60603,Female,51,0,0,No,Private,Rural,66.67,29.5,never smoked,0\\n808,Female,16,0,0,No,Private,Rural,87.54,37.8,never smoked,0\\n61881,Male,56,0,0,No,Self-employed,Urban,139.87,31.2,smokes,0\\n41600,Male,52,0,0,Yes,Private,Rural,67.92,31.1,never smoked,0\\n12786,Female,59,0,0,Yes,Private,Urban,83.62,34.2,Unknown,0\\n11935,Female,9,0,0,No,children,Rural,110.97,17.7,Unknown,0\\n44655,Female,34,0,0,Yes,Private,Rural,70.53,39.2,never smoked,0\\n48644,Female,47,0,0,Yes,Self-employed,Rural,115.91,22.2,formerly smoked,0\\n41527,Male,46,0,0,Yes,Private,Urban,59.74,29.5,smokes,0\\n50975,Male,49,0,0,Yes,Private,Rural,62.64,27,never smoked,0\\n49179,Male,10,0,0,No,children,Rural,84.81,16.8,never smoked,0\\n27509,Female,76,1,0,Yes,Self-employed,Urban,78.68,23.3,never smoked,0\\n19191,Male,82,0,0,Yes,Private,Urban,217.57,33.5,formerly smoked,0\\n25149,Female,3,0,0,No,children,Rural,79.76,15.6,Unknown,0\\n42626,Female,76,1,0,Yes,Govt_job,Rural,63.28,28.2,never smoked,0\\n2578,Male,16,0,0,No,Govt_job,Rural,78.48,22.6,never smoked,0\\n55975,Female,44,0,0,Yes,Govt_job,Rural,70.48,20.2,never smoked,0\\n62182,Female,17,0,0,No,Private,Rural,120.96,22.2,formerly smoked,0\\n12037,Female,73,0,0,Yes,Self-employed,Rural,77.29,22.6,never smoked,0\\n21963,Male,31,0,0,Yes,Private,Urban,108.51,26.7,Unknown,0\\n26250,Male,17,0,0,No,Self-employed,Urban,113.85,22.9,Unknown,0\\n13960,Female,18,0,0,No,Never_worked,Urban,97.65,21.5,Unknown,0\\n56573,Male,73,0,0,Yes,Private,Rural,121.83,30.3,formerly smoked,0\\n10659,Female,8,0,0,No,children,Urban,81.53,14.8,Unknown,0\\n50763,Male,42,0,0,Yes,Govt_job,Urban,58.35,24.3,never smoked,0\\n62075,Female,40,0,0,Yes,Private,Urban,65.42,17.4,formerly smoked,0\\n10119,Male,79,0,0,Yes,Private,Rural,69.34,29,never smoked,0\\n48127,Male,53,0,0,Yes,Self-employed,Urban,109.09,26.3,smokes,0\\n65892,Female,58,0,0,Yes,Self-employed,Urban,66.71,51.7,never smoked,0\\n33370,Female,48,0,0,Yes,Private,Rural,114.92,29.2,Unknown,0\\n59049,Female,17,0,0,No,Private,Rural,120.58,18.3,never smoked,0\\n53896,Female,23,0,0,No,Private,Rural,165.36,21.9,smokes,0\\n21980,Male,9,0,0,No,children,Urban,66.11,16.3,Unknown,0\\n70497,Female,81,1,1,Yes,Private,Rural,126.34,27.4,smokes,0\\n58652,Female,16,0,0,No,Never_worked,Rural,68.27,20.4,never smoked,0\\n30335,Male,21,0,0,No,Private,Rural,92.86,23.2,never smoked,0\\n26305,Male,29,0,0,No,Self-employed,Rural,96.77,30.3,formerly smoked,0\\n31227,Male,8,0,0,No,children,Rural,89.24,16.7,Unknown,0\\n5581,Female,39,0,0,Yes,Private,Rural,89.32,31,formerly smoked,0\\n1989,Male,37,0,0,Yes,Private,Rural,107.06,N/A,smokes,0\\n43803,Female,64,0,0,Yes,Private,Urban,65.63,33.5,smokes,0\\n41395,Male,9,0,0,No,children,Urban,123.66,17,Unknown,0\\n71784,Male,17,0,0,No,Private,Rural,63.82,19.4,smokes,0\\n57979,Male,8,0,0,No,children,Rural,108.06,14.6,Unknown,0\\n54437,Male,62,0,0,Yes,Self-employed,Rural,136.18,32.2,Unknown,0\\n67159,Male,73,1,0,No,Govt_job,Urban,71.29,37.7,never smoked,0\\n7230,Male,48,0,0,Yes,Govt_job,Rural,76.58,27.4,never smoked,0\\n68306,Male,17,0,0,No,Private,Rural,119.58,25,never smoked,0\\n33087,Female,10,0,0,No,children,Urban,109.3,20.1,Unknown,0\\n40850,Female,74,0,0,Yes,Govt_job,Urban,111.94,21.7,never smoked,0\\n57612,Male,62,0,0,Yes,Private,Urban,81.64,38.2,never smoked,0\\n37029,Male,5,0,0,No,children,Rural,97.64,17,Unknown,0\\n338,Female,43,0,0,Yes,Private,Rural,110.32,28.4,never smoked,0\\n9565,Female,39,0,0,No,Private,Rural,79,30,never smoked,0\\n3623,Female,37,0,0,Yes,Self-employed,Urban,95.08,34.1,never smoked,0\\n69723,Male,15,0,0,No,Private,Urban,137.27,19.3,never smoked,0\\n47662,Female,36,0,0,No,Self-employed,Urban,57.83,21.6,smokes,0\\n58495,Male,34,0,0,Yes,Private,Rural,84.08,32.9,never smoked,0\\n71222,Male,75,1,0,Yes,Private,Urban,234.51,27.2,formerly smoked,0\\n37865,Male,53,0,0,Yes,Private,Urban,142.64,27.8,smokes,0\\n20185,Female,61,0,0,Yes,Self-employed,Rural,69.77,29.9,never smoked,0\\n41875,Female,45,0,0,Yes,Private,Urban,71.4,28.4,smokes,0\\n67602,Female,17,0,0,No,Private,Urban,79.61,24.1,Unknown,0\\n40387,Female,17,0,0,No,Private,Rural,77.46,24,Unknown,0\\n43208,Female,19,0,0,No,Private,Urban,96.85,23.4,Unknown,0\\n54324,Female,54,1,0,No,Govt_job,Urban,182.22,32.6,formerly smoked,0\\n51110,Female,51,0,0,Yes,Self-employed,Urban,67.26,33.1,formerly smoked,0\\n36969,Female,44,0,0,Yes,Private,Rural,60.02,33.8,formerly smoked,0\\n48118,Female,82,0,0,Yes,Self-employed,Urban,113.45,30.3,never smoked,0\\n4607,Female,49,0,0,Yes,Self-employed,Urban,112.31,36.9,Unknown,0\\n62471,Female,34,0,0,Yes,Self-employed,Rural,68.53,29.7,never smoked,0\\n43821,Female,63,1,0,Yes,Private,Rural,57.15,38.8,never smoked,0\\n7218,Female,79,0,0,Yes,Private,Rural,214.73,30.9,never smoked,0\\n23427,Female,81,0,0,Yes,Private,Rural,91.82,36.9,Unknown,0\\n66014,Female,14,0,0,No,children,Urban,71.8,18.8,Unknown,0\\n41652,Female,31,0,0,No,Private,Urban,63.41,25.5,formerly smoked,0\\n16605,Male,57,0,0,Yes,Private,Urban,106.24,32.3,never smoked,0\\n42091,Male,32,0,0,Yes,Govt_job,Rural,83.01,25.8,smokes,0\\n66067,Male,66,0,0,Yes,Private,Rural,67.92,31.1,formerly smoked,0\\n50222,Female,22,0,0,No,Private,Rural,74.99,27.9,smokes,0\\n41214,Female,1.32,0,0,No,children,Rural,75.22,18.6,Unknown,0\\n72386,Female,20,0,0,No,Private,Urban,61.88,20.1,never smoked,0\\n14918,Female,41,0,0,Yes,Private,Urban,65.67,26.7,smokes,0\\n55457,Female,48,0,0,Yes,Private,Urban,110.18,30.3,smokes,0\\n63323,Male,49,1,0,Yes,Self-employed,Rural,119.3,30.4,formerly smoked,0\\n35446,Male,73,0,0,Yes,Govt_job,Rural,208.69,30,Unknown,0\\n8208,Male,19,0,0,No,Private,Rural,95.18,24.9,smokes,0\\n5131,Female,51,0,0,Yes,Private,Urban,107.72,60.9,Unknown,0\\n68157,Male,1.08,0,0,No,children,Rural,83.27,24.3,Unknown,0\\n4795,Female,31,0,0,No,Private,Rural,90.29,38.7,Unknown,0\\n7581,Male,4,0,0,No,children,Urban,81.87,18.6,Unknown,0\\n47383,Male,1.8,0,0,No,children,Urban,153.31,17.1,Unknown,0\\n14036,Male,44,0,0,Yes,Private,Rural,101.46,29.4,Unknown,0\\n25942,Female,4,0,0,No,children,Urban,72.49,16.9,Unknown,0\\n24018,Male,55,0,0,Yes,Private,Rural,86.58,34.2,never smoked,0\\n27801,Female,34,0,0,Yes,Private,Urban,113.26,27.6,never smoked,0\\n52978,Female,30,0,0,Yes,Private,Urban,84.92,47.8,never smoked,0\\n15593,Female,7,0,0,No,children,Urban,128.17,18.9,Unknown,0\\n11098,Male,75,0,0,Yes,Govt_job,Rural,93.93,24.4,formerly smoked,0\\n12015,Male,14,0,0,No,children,Urban,99.87,25.2,Unknown,0\\n47348,Female,61,0,0,Yes,Private,Urban,129.31,30.7,formerly smoked,0\\n44155,Female,55,0,0,Yes,Govt_job,Urban,89.43,26.1,formerly smoked,0\\n62656,Female,14,0,0,No,children,Rural,101.6,25.3,never smoked,0\\n8838,Female,36,0,0,No,Private,Rural,66.55,32.8,smokes,0\\n42563,Female,57,1,1,Yes,Private,Rural,231.72,45.7,formerly smoked,0\\n31254,Female,20,0,0,No,Private,Urban,96.69,24.6,Unknown,0\\n27922,Male,32,0,0,Yes,Private,Rural,102.13,32.3,never smoked,0\\n1696,Female,43,0,0,Yes,Private,Urban,100.88,47.6,smokes,0\\n54162,Male,43,0,0,Yes,Private,Rural,66.22,34.4,Unknown,0\\n70396,Female,1.08,0,0,No,children,Urban,109.33,18.2,Unknown,0\\n65907,Female,49,0,0,Yes,Private,Urban,206.53,44.5,smokes,0\\n49451,Female,53,0,0,Yes,Private,Rural,83.91,36.6,Unknown,0\\n68601,Female,18,0,0,No,Private,Urban,67.92,19.4,never smoked,0\\n13236,Female,13,0,0,No,children,Rural,73.48,22.9,Unknown,0\\n65998,Male,5,0,0,No,children,Rural,101.31,20,Unknown,0\\n5875,Female,37,0,0,Yes,Private,Urban,103.66,36.1,smokes,0\\n47427,Male,49,0,0,Yes,Self-employed,Urban,70.73,27.3,formerly smoked,0\\n29734,Female,45,0,0,No,Govt_job,Rural,77.45,42.2,formerly smoked,0\\n72715,Female,50,0,1,Yes,Private,Urban,193.8,26.4,never smoked,0\\n59847,Female,12,0,0,No,children,Rural,114.34,23.6,never smoked,0\\n59911,Male,12,0,0,No,children,Urban,69.25,18.6,Unknown,0\\n13583,Female,5,0,0,No,children,Rural,88.44,18,Unknown,0\\n22897,Male,39,0,0,Yes,Private,Rural,84.09,31.1,formerly smoked,0\\n11898,Female,41,0,0,Yes,Private,Urban,87.06,30,never smoked,0\\n14785,Female,41,0,0,Yes,Private,Rural,92.64,43.8,never smoked,0\\n45163,Female,47,0,0,Yes,Private,Urban,99.36,23.8,smokes,0\\n57254,Female,57,0,0,Yes,Private,Rural,135.63,36.2,formerly smoked,0\\n30658,Male,16,0,0,No,children,Rural,82.44,32.6,Unknown,0\\n32617,Male,3,0,0,No,children,Urban,81.88,18,Unknown,0\\n65376,Female,65,0,0,Yes,Self-employed,Urban,95.44,25.5,smokes,0\\n1731,Female,80,0,0,No,Self-employed,Urban,72.71,29.9,never smoked,0\\n38441,Female,58,0,0,Yes,Private,Urban,65.45,32.1,never smoked,0\\n22147,Female,74,0,0,Yes,Private,Urban,203.01,25.4,never smoked,0\\n50663,Female,62,0,0,Yes,Govt_job,Urban,110.84,23.4,smokes,0\\n19165,Male,33,0,0,Yes,Private,Urban,83.12,23.4,Unknown,0\\n60562,Female,21,0,0,No,Private,Rural,55.12,21.8,never smoked,0\\n22013,Female,17,0,0,No,Private,Rural,105.91,30.8,never smoked,0\\n39936,Female,49,0,0,Yes,Private,Rural,61.57,37.9,formerly smoked,0\\n6517,Female,24,0,0,Yes,Govt_job,Urban,83.1,42.5,smokes,0\\n62576,Female,56,0,0,Yes,Private,Urban,66.32,23.4,never smoked,0\\n18636,Female,26,0,0,Yes,Govt_job,Urban,72.56,35.4,never smoked,0\\n24299,Male,54,1,0,Yes,Self-employed,Rural,97.99,32.3,smokes,0\\n40826,Female,42,0,0,No,Private,Urban,63.27,27,never smoked,0\\n53323,Female,34,0,0,No,Govt_job,Urban,79.6,46.3,never smoked,0\\n28717,Female,56,1,0,Yes,Private,Rural,177.56,30.1,never smoked,0\\n53028,Female,39,0,0,Yes,Private,Rural,81.31,34.7,never smoked,0\\n57757,Female,77,0,0,Yes,Self-employed,Rural,59.91,18.3,never smoked,0\\n54795,Female,12,0,0,No,children,Rural,132.85,16.2,never smoked,0\\n70267,Male,65,0,0,Yes,Private,Rural,198.84,33.2,formerly smoked,0\\n34084,Male,7,0,0,No,children,Urban,77.12,18.6,Unknown,0\\n20258,Male,25,0,0,No,Private,Urban,87.17,25.1,never smoked,0\\n65333,Female,31,0,0,Yes,Private,Rural,96.03,24.1,Unknown,0\\n56629,Female,14,0,0,No,Private,Rural,83.56,33.1,Unknown,0\\n22417,Female,5,0,0,No,children,Rural,80.93,24.8,Unknown,0\\n49925,Female,60,0,0,Yes,Private,Rural,84.54,23.4,smokes,0\\n72696,Female,53,0,0,Yes,Private,Urban,70.51,54.1,never smoked,0\\n39708,Male,55,0,0,Yes,Private,Rural,56.87,28.9,formerly smoked,0\\n60426,Female,69,0,0,Yes,Self-employed,Urban,67.55,38.1,Unknown,0\\n70540,Female,39,0,0,Yes,Private,Urban,243.52,37.2,smokes,0\\n37622,Female,0.32,0,0,No,children,Urban,108.63,19.6,Unknown,0\\n44813,Female,34,0,0,No,Private,Rural,69.06,29,smokes,0\\n47153,Female,80,0,0,Yes,Private,Urban,73.89,26.7,formerly smoked,0\\n8175,Male,20,0,0,No,Private,Urban,84.49,20.5,never smoked,0\\n61528,Female,45,0,0,Yes,Govt_job,Urban,73.71,34.1,never smoked,0\\n38771,Female,41,0,0,No,Govt_job,Urban,129.01,42.4,Unknown,0\\n31189,Male,54,0,0,Yes,Govt_job,Urban,72.96,37.7,smokes,0\\n27804,Male,23,0,0,No,Private,Rural,110.23,39.1,Unknown,0\\n41842,Male,75,0,0,Yes,Govt_job,Rural,79.49,28.9,Unknown,0\\n11962,Male,36,0,0,Yes,Private,Urban,89.33,30.7,never smoked,0\\n45404,Female,75,0,0,Yes,Private,Rural,68.38,33.8,Unknown,0\\n4062,Male,72,0,1,Yes,Private,Rural,238.27,N/A,smokes,0\\n63650,Female,47,0,0,Yes,Govt_job,Urban,135.79,32.1,formerly smoked,0\\n72186,Female,15,0,0,No,Private,Rural,82.19,40.5,never smoked,0\\n40240,Male,40,1,0,Yes,Self-employed,Urban,93.2,24.8,smokes,0\\n25931,Female,71,0,0,Yes,Self-employed,Urban,208.31,31.8,formerly smoked,0\\n21292,Male,38,0,0,Yes,Private,Rural,111.33,27,never smoked,0\\n25391,Female,10,0,0,No,children,Rural,69.84,13.7,Unknown,0\\n65469,Male,11,0,0,No,children,Rural,121.71,23.4,never smoked,0\\n29487,Male,0.72,0,0,No,children,Urban,80.08,16.4,Unknown,0\\n63575,Male,9,0,0,No,children,Urban,84.4,14.9,Unknown,0\\n30457,Female,53,1,0,Yes,Govt_job,Rural,98.61,38.8,smokes,0\\n5951,Male,28,1,0,No,Private,Urban,86.61,38.6,smokes,0\\n8690,Female,81,0,0,Yes,Private,Urban,80.44,32.2,never smoked,0\\n32147,Male,1.32,0,0,No,children,Rural,107.02,N/A,Unknown,0\\n47691,Male,16,0,0,No,Private,Rural,97.23,30.6,never smoked,0\\n25982,Male,24,0,0,No,Private,Rural,91.21,28.1,formerly smoked,0\\n70058,Female,62,1,0,Yes,Self-employed,Urban,103.69,35.2,smokes,0\\n61868,Female,62,0,0,Yes,Private,Urban,74.12,21.8,formerly smoked,0\\n46086,Female,59,0,0,Yes,Private,Urban,71.08,28.1,never smoked,0\\n68596,Female,19,0,0,No,Private,Urban,58.39,28.2,never smoked,0\\n10281,Female,51,1,0,Yes,Self-employed,Rural,176.34,28.4,never smoked,0\\n31409,Male,38,0,0,Yes,Private,Rural,73.76,37.4,never smoked,0\\n54067,Female,26,0,0,No,Private,Rural,67.21,21.8,formerly smoked,0\\n9731,Male,13,0,0,No,children,Urban,87.98,19.8,Unknown,0\\n24009,Male,4,0,0,No,children,Urban,94.23,16.2,Unknown,0\\n61694,Male,55,0,0,Yes,Self-employed,Rural,111.36,33.6,never smoked,0\\n7453,Female,44,0,0,Yes,Private,Urban,84.07,21.2,smokes,0\\n66405,Female,31,0,0,Yes,Private,Urban,117.31,28.4,never smoked,0\\n2138,Male,58,0,0,Yes,Govt_job,Urban,84.94,N/A,never smoked,0\\n66650,Female,17,0,0,No,Private,Urban,68.86,41.1,never smoked,0\\n59945,Female,23,0,0,No,Private,Urban,132.88,24.9,never smoked,0\\n16245,Male,51,1,0,Yes,Self-employed,Rural,211.83,56.6,never smoked,0\\n68094,Female,46,0,0,Yes,Private,Rural,124.92,28.8,Unknown,0\\n64661,Female,81,0,0,No,Self-employed,Urban,57.42,33.7,never smoked,0\\n61376,Male,38,0,0,Yes,Private,Urban,215.69,38.6,formerly smoked,0\\n47236,Female,50,0,0,Yes,Private,Urban,154.67,33.8,never smoked,0\\n875,Female,34,0,0,No,Private,Urban,67.66,22.4,never smoked,0\\n63986,Male,60,0,0,Yes,Private,Rural,153.48,37.3,never smoked,0\\n55410,Female,50,0,0,Yes,Self-employed,Urban,62.63,23.4,never smoked,0\\n63287,Female,49,0,0,Yes,Private,Urban,77.93,39.1,smokes,0\\n3720,Female,2,0,0,No,children,Rural,80.3,21.2,Unknown,0\\n20274,Male,47,0,0,Yes,Private,Urban,106.69,31.2,Unknown,0\\n50338,Female,34,0,0,Yes,Private,Urban,83.07,28,formerly smoked,0\\n58209,Female,22,0,0,No,Private,Urban,140.14,21.1,never smoked,0\\n20634,Female,11,0,0,No,children,Urban,92.65,15.7,never smoked,0\\n3251,Male,54,0,0,Yes,Private,Urban,111.37,29.1,formerly smoked,0\\n12677,Female,60,0,0,Yes,Private,Rural,99,26.1,never smoked,0\\n45160,Male,3,0,0,No,children,Rural,78.24,16.2,Unknown,0\\n67940,Female,46,0,0,Yes,Govt_job,Rural,83.88,27.1,never smoked,0\\n8145,Male,30,0,0,No,Private,Urban,86.21,28.8,smokes,0\\n39393,Female,63,0,0,Yes,Private,Urban,57.06,37.9,never smoked,0\\n57710,Female,50,0,0,Yes,Private,Rural,112.25,21.6,Unknown,0\\n12487,Male,65,0,0,Yes,Private,Urban,81.06,30.1,smokes,0\\n16513,Male,78,0,0,Yes,Private,Urban,104.37,29.7,never smoked,0\\n42297,Female,36,0,0,Yes,Private,Urban,124.31,26.4,Unknown,0\\n63656,Female,18,0,0,No,Private,Urban,101.95,46,formerly smoked,0\\n56233,Female,44,0,0,No,Private,Rural,116.95,26.1,never smoked,0\\n22591,Female,4,0,0,No,children,Urban,99.76,23.2,Unknown,0\\n23757,Female,60,0,0,No,Private,Urban,105.48,28.4,Unknown,0\\n19601,Female,19,0,0,No,Private,Urban,100.6,20.5,never smoked,0\\n61801,Male,15,0,0,No,Private,Urban,65.05,24.6,Unknown,0\\n949,Male,20,0,0,No,Private,Rural,75.9,32.2,never smoked,0\\n10995,Male,76,1,0,Yes,Private,Rural,267.6,30.5,never smoked,0\\n1503,Male,31,0,0,No,Private,Urban,215.07,N/A,smokes,0\\n37431,Female,39,0,0,Yes,Govt_job,Urban,109.03,24.9,Unknown,0\\n53697,Male,58,0,1,Yes,Private,Rural,225.35,26.5,smokes,0\\n67012,Male,64,1,0,Yes,Private,Rural,196.26,34.5,Unknown,0\\n30525,Female,79,0,0,Yes,Govt_job,Urban,95.42,21.5,formerly smoked,0\\n25860,Female,11,0,0,No,children,Rural,123.04,15.9,Unknown,0\\n21743,Male,4,0,0,No,children,Urban,85.88,17.7,Unknown,0\\n25833,Female,43,0,0,Yes,Private,Rural,107.43,26.5,never smoked,0\\n64652,Female,44,0,0,Yes,Private,Rural,56.85,24.4,never smoked,0\\n45710,Female,37,0,0,Yes,Govt_job,Rural,102.15,26.6,Unknown,0\\n27853,Female,34,0,0,Yes,Self-employed,Rural,88.68,23.9,never smoked,0\\n5964,Female,59,0,0,Yes,Private,Urban,182.52,30.1,Unknown,0\\n6976,Female,40,0,0,Yes,Private,Urban,93.97,23.6,never smoked,0\\n11145,Female,8,0,0,No,children,Urban,104.03,18.4,Unknown,0\\n39229,Female,24,0,0,Yes,Private,Rural,67.99,32.1,never smoked,0\\n14189,Male,18,0,0,No,Private,Rural,83.37,24.4,Unknown,0\\n49929,Male,20,0,0,No,Private,Rural,124.66,27.3,never smoked,0\\n56328,Female,70,0,0,Yes,Private,Rural,212.87,34.8,never smoked,0\\n26742,Female,68,0,0,Yes,Govt_job,Urban,96.75,28.4,formerly smoked,0\\n63158,Male,17,0,0,No,Private,Urban,63.28,40.2,Unknown,0\\n27435,Female,17,0,0,No,Private,Urban,82.64,31.1,Unknown,0\\n10829,Female,21,0,0,No,Private,Rural,71.34,24,never smoked,0\\n70593,Female,38,0,0,Yes,Private,Rural,183.43,38.1,formerly smoked,0\\n42647,Female,59,0,0,Yes,Govt_job,Urban,101.19,29.9,formerly smoked,0\\n48109,Female,79,0,1,Yes,Private,Rural,88.51,24.5,never smoked,0\\n40732,Female,50,0,0,Yes,Self-employed,Rural,126.85,49.5,formerly smoked,0\\n58635,Female,72,0,0,Yes,Self-employed,Urban,74.17,35.5,formerly smoked,0\\n844,Female,54,0,0,Yes,Private,Urban,76.04,29.5,smokes,0\\n14688,Female,44,0,0,Yes,Private,Urban,73.87,28.8,smokes,0\\n23026,Female,48,0,0,Yes,Private,Rural,99.07,22.1,never smoked,0\\n30463,Male,29,0,0,No,Private,Urban,82.93,29.4,formerly smoked,0\\n50140,Female,44,0,0,Yes,Govt_job,Rural,133.24,45,smokes,0\\n36837,Female,61,0,0,Yes,Self-employed,Urban,69.88,27.1,never smoked,0\\n57333,Female,58,0,0,Yes,Govt_job,Rural,69.12,28.3,Unknown,0\\n19826,Female,81,0,0,Yes,Self-employed,Rural,86.05,20.1,formerly smoked,0\\n37713,Male,29,0,0,Yes,Private,Urban,185.27,31.3,never smoked,0\\n6278,Male,5,0,0,No,children,Urban,97.46,17.6,Unknown,0\\n15517,Female,35,0,0,Yes,Private,Urban,81.9,24.5,never smoked,0\\n25326,Female,40,0,0,No,Private,Rural,99.58,24.1,Unknown,0\\n57034,Female,37,0,0,No,Private,Rural,124.54,31.3,never smoked,0\\n70718,Male,33,0,0,Yes,Private,Rural,153.34,31.5,never smoked,0\\n47461,Female,35,0,0,Yes,Private,Urban,112.35,29.9,Unknown,0\\n50091,Female,38,0,0,No,Govt_job,Urban,160.76,30.2,smokes,0\\n62416,Female,26,0,0,Yes,Private,Rural,73.29,27.8,never smoked,0\\n5288,Male,10,0,0,No,children,Urban,108.08,15.6,Unknown,0\\n66951,Female,72,0,0,Yes,Private,Urban,206.49,26.3,never smoked,0\\n28335,Male,21,0,0,Yes,Private,Rural,77.42,24.8,never smoked,0\\n67465,Female,20,0,0,No,Private,Rural,117.59,17.1,never smoked,0\\n67426,Female,1.24,0,0,No,children,Rural,61.94,20.3,Unknown,0\\n19508,Female,26,0,0,No,Private,Urban,116.68,18.7,formerly smoked,0\\n65405,Female,79,0,0,No,Private,Urban,253.86,28.8,formerly smoked,0\\n49773,Female,78,0,0,Yes,Private,Urban,203.36,28.7,formerly smoked,0\\n57159,Male,56,0,0,Yes,Self-employed,Rural,125.87,24.6,never smoked,0\\n69710,Female,46,0,0,No,Self-employed,Rural,64.09,25.3,never smoked,0\\n58834,Male,55,0,0,Yes,Govt_job,Urban,65.33,29.7,Unknown,0\\n42007,Male,41,0,0,No,Private,Rural,70.15,N/A,formerly smoked,0\\n5121,Male,30,0,0,Yes,Private,Urban,96.84,21.1,Unknown,0\\n44878,Male,53,0,0,Yes,Private,Rural,175.92,26.9,smokes,0\\n40220,Male,32,0,0,No,Private,Rural,100.65,26.2,formerly smoked,0\\n19692,Male,38,0,0,No,Private,Rural,112.39,26.3,Unknown,0\\n27616,Male,33,0,0,Yes,Govt_job,Rural,81.1,24.8,never smoked,0\\n19801,Female,44,0,0,Yes,Private,Rural,98.3,25,never smoked,0\\n21467,Male,44,0,0,Yes,Private,Urban,89.68,34.6,Unknown,0\\n25102,Female,51,0,0,Yes,Govt_job,Urban,95.16,42.7,formerly smoked,0\\n28788,Male,40,0,0,Yes,Private,Urban,191.15,N/A,smokes,0\\n29028,Female,41,0,0,Yes,Private,Rural,91.04,24.5,never smoked,0\\n15581,Male,5,0,0,No,children,Urban,101.87,19.3,Unknown,0\\n16738,Female,42,0,0,Yes,Private,Rural,96.86,29.3,never smoked,0\\n31836,Female,6,0,0,No,children,Urban,91.05,22.1,Unknown,0\\n43496,Female,46,0,0,Yes,Govt_job,Urban,55.84,27.8,never smoked,0\\n52677,Female,47,0,0,Yes,Private,Urban,84.04,24.7,never smoked,0\\n11630,Female,25,0,0,No,Private,Urban,92.06,25.3,smokes,0\\n53478,Female,40,0,0,Yes,Private,Urban,89.61,41.2,formerly smoked,0\\n38349,Female,49,0,0,Yes,Govt_job,Urban,69.92,47.6,never smoked,0\\n48425,Male,21,0,0,No,Private,Rural,89.29,23.4,never smoked,0\\n64420,Female,61,0,0,Yes,Govt_job,Rural,120.23,22.7,Unknown,0\\n60271,Male,78,0,0,Yes,Private,Urban,60.22,29.7,formerly smoked,0\\n38009,Male,41,0,0,Yes,Private,Urban,223.78,32.3,never smoked,0\\n11184,Female,82,0,0,Yes,Self-employed,Rural,211.58,36.9,never smoked,0\\n68967,Male,39,0,0,Yes,Private,Urban,179.38,27.7,Unknown,0\\n66684,Male,70,0,0,Yes,Self-employed,Rural,193.88,24.3,Unknown,0\\n7789,Female,31,0,0,Yes,Private,Urban,89.01,37.4,never smoked,0\\n40112,Female,37,0,0,No,Private,Urban,118.41,25.1,never smoked,0\\n65814,Male,21,0,0,No,Private,Urban,138.51,24.3,never smoked,0\\n49598,Male,80,0,0,Yes,Self-employed,Urban,120.03,24.3,formerly smoked,0\\n15599,Female,21,0,0,No,Private,Urban,91.01,28.7,never smoked,0\\n62425,Female,5,0,0,No,children,Urban,61.98,16.8,Unknown,0\\n52652,Male,81,0,0,Yes,Private,Rural,135.32,35.8,Unknown,0\\n71957,Female,35,0,0,Yes,Private,Rural,58.72,40,smokes,0\\n17231,Female,24,0,0,No,Private,Urban,90.42,24.3,never smoked,0\\n30379,Female,52,0,0,Yes,Govt_job,Urban,104,25.6,smokes,0\\n63997,Male,70,0,0,Yes,Private,Urban,102.5,37.8,Unknown,0\\n39935,Female,34,0,0,Yes,Private,Rural,174.37,23,never smoked,0\\n8203,Male,17,0,0,No,Private,Rural,106.56,21,Unknown,0\\n27446,Female,8,0,0,No,children,Urban,76.31,15.5,Unknown,0\\n42709,Male,1.72,0,0,No,children,Urban,77.28,17.1,Unknown,0\\n22691,Female,29,0,0,Yes,Self-employed,Urban,90.52,28,never smoked,0\\n37680,Male,55,0,0,Yes,Govt_job,Rural,108.35,40.8,formerly smoked,0\\n24552,Female,44,0,0,Yes,Private,Rural,72.03,37.5,smokes,0\\n72914,Female,19,0,0,No,Private,Urban,90.57,24.2,Unknown,0\\n29540,Male,67,0,0,Yes,Private,Rural,97.04,26.9,smokes,0\\n53525,Female,72,0,0,Yes,Private,Urban,83.89,33.1,formerly smoked,0\\n65411,Female,51,0,0,Yes,Private,Urban,152.56,21.8,Unknown,0\\n26214,Female,63,0,0,Yes,Self-employed,Rural,75.93,34.7,formerly smoked,0\\n22190,Female,64,1,0,Yes,Self-employed,Urban,76.89,30.2,Unknown,0\\n56714,Female,0.72,0,0,No,children,Rural,62.13,16.8,Unknown,0\\n4211,Male,26,0,0,No,Govt_job,Rural,100.85,21,smokes,0\\n6369,Male,59,1,0,Yes,Private,Rural,95.05,30.9,never smoked,0\\n56799,Male,76,0,0,Yes,Govt_job,Urban,82.35,38.9,never smoked,0\\n32235,Female,45,1,0,Yes,Govt_job,Rural,95.02,N/A,smokes,0\\n28048,Male,13,0,0,No,children,Urban,82.38,24.3,Unknown,0\\n68598,Male,1.08,0,0,No,children,Rural,79.15,17.4,Unknown,0\\n41512,Male,57,0,0,Yes,Govt_job,Rural,76.62,28.2,never smoked,0\\n64520,Male,68,0,0,Yes,Self-employed,Urban,91.68,40.8,Unknown,0\\n579,Male,9,0,0,No,children,Urban,71.88,17.5,Unknown,0\\n7293,Male,40,0,0,Yes,Private,Rural,83.94,N/A,smokes,0\\n68398,Male,82,1,0,Yes,Self-employed,Rural,71.97,28.3,never smoked,0\\n36901,Female,45,0,0,Yes,Private,Urban,97.95,24.5,Unknown,0\\n45010,Female,57,0,0,Yes,Private,Rural,77.93,21.7,never smoked,0\\n22127,Female,18,0,0,No,Private,Urban,82.85,46.9,Unknown,0\\n14180,Female,13,0,0,No,children,Rural,103.08,18.6,Unknown,0\\n18234,Female,80,1,0,Yes,Private,Urban,83.75,N/A,never smoked,0\\n44873,Female,81,0,0,Yes,Self-employed,Urban,125.2,40,never smoked,0\\n19723,Female,35,0,0,Yes,Self-employed,Rural,82.99,30.6,never smoked,0\\n37544,Male,51,0,0,Yes,Private,Rural,166.29,25.6,formerly smoked,0\\n44679,Female,44,0,0,Yes,Govt_job,Urban,85.28,26.2,Unknown,0'}"
            ]
          },
          "metadata": {},
          "execution_count": 212
        }
      ]
    },
    {
      "cell_type": "code",
      "source": [
        "stroke_data = pd.read_csv('healthcare-dataset-stroke-data.csv')\n",
        "stroke_data"
      ],
      "metadata": {
        "colab": {
          "base_uri": "https://localhost:8080/",
          "height": 424
        },
        "id": "FCjsRPwj5D4n",
        "outputId": "354a0e9d-4093-46d7-fda5-1aa1476df1c2"
      },
      "execution_count": 213,
      "outputs": [
        {
          "output_type": "execute_result",
          "data": {
            "text/plain": [
              "         id  gender   age  hypertension  heart_disease ever_married  \\\n",
              "0      9046    Male  67.0             0              1          Yes   \n",
              "1     51676  Female  61.0             0              0          Yes   \n",
              "2     31112    Male  80.0             0              1          Yes   \n",
              "3     60182  Female  49.0             0              0          Yes   \n",
              "4      1665  Female  79.0             1              0          Yes   \n",
              "...     ...     ...   ...           ...            ...          ...   \n",
              "5105  18234  Female  80.0             1              0          Yes   \n",
              "5106  44873  Female  81.0             0              0          Yes   \n",
              "5107  19723  Female  35.0             0              0          Yes   \n",
              "5108  37544    Male  51.0             0              0          Yes   \n",
              "5109  44679  Female  44.0             0              0          Yes   \n",
              "\n",
              "          work_type Residence_type  avg_glucose_level   bmi   smoking_status  \\\n",
              "0           Private          Urban             228.69  36.6  formerly smoked   \n",
              "1     Self-employed          Rural             202.21   NaN     never smoked   \n",
              "2           Private          Rural             105.92  32.5     never smoked   \n",
              "3           Private          Urban             171.23  34.4           smokes   \n",
              "4     Self-employed          Rural             174.12  24.0     never smoked   \n",
              "...             ...            ...                ...   ...              ...   \n",
              "5105        Private          Urban              83.75   NaN     never smoked   \n",
              "5106  Self-employed          Urban             125.20  40.0     never smoked   \n",
              "5107  Self-employed          Rural              82.99  30.6     never smoked   \n",
              "5108        Private          Rural             166.29  25.6  formerly smoked   \n",
              "5109       Govt_job          Urban              85.28  26.2          Unknown   \n",
              "\n",
              "      stroke  \n",
              "0          1  \n",
              "1          1  \n",
              "2          1  \n",
              "3          1  \n",
              "4          1  \n",
              "...      ...  \n",
              "5105       0  \n",
              "5106       0  \n",
              "5107       0  \n",
              "5108       0  \n",
              "5109       0  \n",
              "\n",
              "[5110 rows x 12 columns]"
            ],
            "text/html": [
              "\n",
              "  <div id=\"df-8140c0a2-4ad2-4744-bf86-7af9b7c7ec40\">\n",
              "    <div class=\"colab-df-container\">\n",
              "      <div>\n",
              "<style scoped>\n",
              "    .dataframe tbody tr th:only-of-type {\n",
              "        vertical-align: middle;\n",
              "    }\n",
              "\n",
              "    .dataframe tbody tr th {\n",
              "        vertical-align: top;\n",
              "    }\n",
              "\n",
              "    .dataframe thead th {\n",
              "        text-align: right;\n",
              "    }\n",
              "</style>\n",
              "<table border=\"1\" class=\"dataframe\">\n",
              "  <thead>\n",
              "    <tr style=\"text-align: right;\">\n",
              "      <th></th>\n",
              "      <th>id</th>\n",
              "      <th>gender</th>\n",
              "      <th>age</th>\n",
              "      <th>hypertension</th>\n",
              "      <th>heart_disease</th>\n",
              "      <th>ever_married</th>\n",
              "      <th>work_type</th>\n",
              "      <th>Residence_type</th>\n",
              "      <th>avg_glucose_level</th>\n",
              "      <th>bmi</th>\n",
              "      <th>smoking_status</th>\n",
              "      <th>stroke</th>\n",
              "    </tr>\n",
              "  </thead>\n",
              "  <tbody>\n",
              "    <tr>\n",
              "      <th>0</th>\n",
              "      <td>9046</td>\n",
              "      <td>Male</td>\n",
              "      <td>67.0</td>\n",
              "      <td>0</td>\n",
              "      <td>1</td>\n",
              "      <td>Yes</td>\n",
              "      <td>Private</td>\n",
              "      <td>Urban</td>\n",
              "      <td>228.69</td>\n",
              "      <td>36.6</td>\n",
              "      <td>formerly smoked</td>\n",
              "      <td>1</td>\n",
              "    </tr>\n",
              "    <tr>\n",
              "      <th>1</th>\n",
              "      <td>51676</td>\n",
              "      <td>Female</td>\n",
              "      <td>61.0</td>\n",
              "      <td>0</td>\n",
              "      <td>0</td>\n",
              "      <td>Yes</td>\n",
              "      <td>Self-employed</td>\n",
              "      <td>Rural</td>\n",
              "      <td>202.21</td>\n",
              "      <td>NaN</td>\n",
              "      <td>never smoked</td>\n",
              "      <td>1</td>\n",
              "    </tr>\n",
              "    <tr>\n",
              "      <th>2</th>\n",
              "      <td>31112</td>\n",
              "      <td>Male</td>\n",
              "      <td>80.0</td>\n",
              "      <td>0</td>\n",
              "      <td>1</td>\n",
              "      <td>Yes</td>\n",
              "      <td>Private</td>\n",
              "      <td>Rural</td>\n",
              "      <td>105.92</td>\n",
              "      <td>32.5</td>\n",
              "      <td>never smoked</td>\n",
              "      <td>1</td>\n",
              "    </tr>\n",
              "    <tr>\n",
              "      <th>3</th>\n",
              "      <td>60182</td>\n",
              "      <td>Female</td>\n",
              "      <td>49.0</td>\n",
              "      <td>0</td>\n",
              "      <td>0</td>\n",
              "      <td>Yes</td>\n",
              "      <td>Private</td>\n",
              "      <td>Urban</td>\n",
              "      <td>171.23</td>\n",
              "      <td>34.4</td>\n",
              "      <td>smokes</td>\n",
              "      <td>1</td>\n",
              "    </tr>\n",
              "    <tr>\n",
              "      <th>4</th>\n",
              "      <td>1665</td>\n",
              "      <td>Female</td>\n",
              "      <td>79.0</td>\n",
              "      <td>1</td>\n",
              "      <td>0</td>\n",
              "      <td>Yes</td>\n",
              "      <td>Self-employed</td>\n",
              "      <td>Rural</td>\n",
              "      <td>174.12</td>\n",
              "      <td>24.0</td>\n",
              "      <td>never smoked</td>\n",
              "      <td>1</td>\n",
              "    </tr>\n",
              "    <tr>\n",
              "      <th>...</th>\n",
              "      <td>...</td>\n",
              "      <td>...</td>\n",
              "      <td>...</td>\n",
              "      <td>...</td>\n",
              "      <td>...</td>\n",
              "      <td>...</td>\n",
              "      <td>...</td>\n",
              "      <td>...</td>\n",
              "      <td>...</td>\n",
              "      <td>...</td>\n",
              "      <td>...</td>\n",
              "      <td>...</td>\n",
              "    </tr>\n",
              "    <tr>\n",
              "      <th>5105</th>\n",
              "      <td>18234</td>\n",
              "      <td>Female</td>\n",
              "      <td>80.0</td>\n",
              "      <td>1</td>\n",
              "      <td>0</td>\n",
              "      <td>Yes</td>\n",
              "      <td>Private</td>\n",
              "      <td>Urban</td>\n",
              "      <td>83.75</td>\n",
              "      <td>NaN</td>\n",
              "      <td>never smoked</td>\n",
              "      <td>0</td>\n",
              "    </tr>\n",
              "    <tr>\n",
              "      <th>5106</th>\n",
              "      <td>44873</td>\n",
              "      <td>Female</td>\n",
              "      <td>81.0</td>\n",
              "      <td>0</td>\n",
              "      <td>0</td>\n",
              "      <td>Yes</td>\n",
              "      <td>Self-employed</td>\n",
              "      <td>Urban</td>\n",
              "      <td>125.20</td>\n",
              "      <td>40.0</td>\n",
              "      <td>never smoked</td>\n",
              "      <td>0</td>\n",
              "    </tr>\n",
              "    <tr>\n",
              "      <th>5107</th>\n",
              "      <td>19723</td>\n",
              "      <td>Female</td>\n",
              "      <td>35.0</td>\n",
              "      <td>0</td>\n",
              "      <td>0</td>\n",
              "      <td>Yes</td>\n",
              "      <td>Self-employed</td>\n",
              "      <td>Rural</td>\n",
              "      <td>82.99</td>\n",
              "      <td>30.6</td>\n",
              "      <td>never smoked</td>\n",
              "      <td>0</td>\n",
              "    </tr>\n",
              "    <tr>\n",
              "      <th>5108</th>\n",
              "      <td>37544</td>\n",
              "      <td>Male</td>\n",
              "      <td>51.0</td>\n",
              "      <td>0</td>\n",
              "      <td>0</td>\n",
              "      <td>Yes</td>\n",
              "      <td>Private</td>\n",
              "      <td>Rural</td>\n",
              "      <td>166.29</td>\n",
              "      <td>25.6</td>\n",
              "      <td>formerly smoked</td>\n",
              "      <td>0</td>\n",
              "    </tr>\n",
              "    <tr>\n",
              "      <th>5109</th>\n",
              "      <td>44679</td>\n",
              "      <td>Female</td>\n",
              "      <td>44.0</td>\n",
              "      <td>0</td>\n",
              "      <td>0</td>\n",
              "      <td>Yes</td>\n",
              "      <td>Govt_job</td>\n",
              "      <td>Urban</td>\n",
              "      <td>85.28</td>\n",
              "      <td>26.2</td>\n",
              "      <td>Unknown</td>\n",
              "      <td>0</td>\n",
              "    </tr>\n",
              "  </tbody>\n",
              "</table>\n",
              "<p>5110 rows × 12 columns</p>\n",
              "</div>\n",
              "      <button class=\"colab-df-convert\" onclick=\"convertToInteractive('df-8140c0a2-4ad2-4744-bf86-7af9b7c7ec40')\"\n",
              "              title=\"Convert this dataframe to an interactive table.\"\n",
              "              style=\"display:none;\">\n",
              "        \n",
              "  <svg xmlns=\"http://www.w3.org/2000/svg\" height=\"24px\"viewBox=\"0 0 24 24\"\n",
              "       width=\"24px\">\n",
              "    <path d=\"M0 0h24v24H0V0z\" fill=\"none\"/>\n",
              "    <path d=\"M18.56 5.44l.94 2.06.94-2.06 2.06-.94-2.06-.94-.94-2.06-.94 2.06-2.06.94zm-11 1L8.5 8.5l.94-2.06 2.06-.94-2.06-.94L8.5 2.5l-.94 2.06-2.06.94zm10 10l.94 2.06.94-2.06 2.06-.94-2.06-.94-.94-2.06-.94 2.06-2.06.94z\"/><path d=\"M17.41 7.96l-1.37-1.37c-.4-.4-.92-.59-1.43-.59-.52 0-1.04.2-1.43.59L10.3 9.45l-7.72 7.72c-.78.78-.78 2.05 0 2.83L4 21.41c.39.39.9.59 1.41.59.51 0 1.02-.2 1.41-.59l7.78-7.78 2.81-2.81c.8-.78.8-2.07 0-2.86zM5.41 20L4 18.59l7.72-7.72 1.47 1.35L5.41 20z\"/>\n",
              "  </svg>\n",
              "      </button>\n",
              "      \n",
              "  <style>\n",
              "    .colab-df-container {\n",
              "      display:flex;\n",
              "      flex-wrap:wrap;\n",
              "      gap: 12px;\n",
              "    }\n",
              "\n",
              "    .colab-df-convert {\n",
              "      background-color: #E8F0FE;\n",
              "      border: none;\n",
              "      border-radius: 50%;\n",
              "      cursor: pointer;\n",
              "      display: none;\n",
              "      fill: #1967D2;\n",
              "      height: 32px;\n",
              "      padding: 0 0 0 0;\n",
              "      width: 32px;\n",
              "    }\n",
              "\n",
              "    .colab-df-convert:hover {\n",
              "      background-color: #E2EBFA;\n",
              "      box-shadow: 0px 1px 2px rgba(60, 64, 67, 0.3), 0px 1px 3px 1px rgba(60, 64, 67, 0.15);\n",
              "      fill: #174EA6;\n",
              "    }\n",
              "\n",
              "    [theme=dark] .colab-df-convert {\n",
              "      background-color: #3B4455;\n",
              "      fill: #D2E3FC;\n",
              "    }\n",
              "\n",
              "    [theme=dark] .colab-df-convert:hover {\n",
              "      background-color: #434B5C;\n",
              "      box-shadow: 0px 1px 3px 1px rgba(0, 0, 0, 0.15);\n",
              "      filter: drop-shadow(0px 1px 2px rgba(0, 0, 0, 0.3));\n",
              "      fill: #FFFFFF;\n",
              "    }\n",
              "  </style>\n",
              "\n",
              "      <script>\n",
              "        const buttonEl =\n",
              "          document.querySelector('#df-8140c0a2-4ad2-4744-bf86-7af9b7c7ec40 button.colab-df-convert');\n",
              "        buttonEl.style.display =\n",
              "          google.colab.kernel.accessAllowed ? 'block' : 'none';\n",
              "\n",
              "        async function convertToInteractive(key) {\n",
              "          const element = document.querySelector('#df-8140c0a2-4ad2-4744-bf86-7af9b7c7ec40');\n",
              "          const dataTable =\n",
              "            await google.colab.kernel.invokeFunction('convertToInteractive',\n",
              "                                                     [key], {});\n",
              "          if (!dataTable) return;\n",
              "\n",
              "          const docLinkHtml = 'Like what you see? Visit the ' +\n",
              "            '<a target=\"_blank\" href=https://colab.research.google.com/notebooks/data_table.ipynb>data table notebook</a>'\n",
              "            + ' to learn more about interactive tables.';\n",
              "          element.innerHTML = '';\n",
              "          dataTable['output_type'] = 'display_data';\n",
              "          await google.colab.output.renderOutput(dataTable, element);\n",
              "          const docLink = document.createElement('div');\n",
              "          docLink.innerHTML = docLinkHtml;\n",
              "          element.appendChild(docLink);\n",
              "        }\n",
              "      </script>\n",
              "    </div>\n",
              "  </div>\n",
              "  "
            ]
          },
          "metadata": {},
          "execution_count": 213
        }
      ]
    },
    {
      "cell_type": "code",
      "source": [
        "type(stroke_data)    # print the type of dataframe"
      ],
      "metadata": {
        "colab": {
          "base_uri": "https://localhost:8080/"
        },
        "id": "ds_P-XBM5LNU",
        "outputId": "1cdca724-92cc-4d11-c197-c25b20f422c6"
      },
      "execution_count": 214,
      "outputs": [
        {
          "output_type": "execute_result",
          "data": {
            "text/plain": [
              "pandas.core.frame.DataFrame"
            ]
          },
          "metadata": {},
          "execution_count": 214
        }
      ]
    },
    {
      "cell_type": "code",
      "source": [
        "stroke_data.head()  # print the first 5 rows for inspection"
      ],
      "metadata": {
        "colab": {
          "base_uri": "https://localhost:8080/",
          "height": 206
        },
        "id": "R6xMdtw25Nw3",
        "outputId": "4fd971d5-2b67-4f1b-9a3f-6dfd6b6c29fa"
      },
      "execution_count": 215,
      "outputs": [
        {
          "output_type": "execute_result",
          "data": {
            "text/plain": [
              "      id  gender   age  hypertension  heart_disease ever_married  \\\n",
              "0   9046    Male  67.0             0              1          Yes   \n",
              "1  51676  Female  61.0             0              0          Yes   \n",
              "2  31112    Male  80.0             0              1          Yes   \n",
              "3  60182  Female  49.0             0              0          Yes   \n",
              "4   1665  Female  79.0             1              0          Yes   \n",
              "\n",
              "       work_type Residence_type  avg_glucose_level   bmi   smoking_status  \\\n",
              "0        Private          Urban             228.69  36.6  formerly smoked   \n",
              "1  Self-employed          Rural             202.21   NaN     never smoked   \n",
              "2        Private          Rural             105.92  32.5     never smoked   \n",
              "3        Private          Urban             171.23  34.4           smokes   \n",
              "4  Self-employed          Rural             174.12  24.0     never smoked   \n",
              "\n",
              "   stroke  \n",
              "0       1  \n",
              "1       1  \n",
              "2       1  \n",
              "3       1  \n",
              "4       1  "
            ],
            "text/html": [
              "\n",
              "  <div id=\"df-7478a11c-0a26-4040-92e6-1664c48e761b\">\n",
              "    <div class=\"colab-df-container\">\n",
              "      <div>\n",
              "<style scoped>\n",
              "    .dataframe tbody tr th:only-of-type {\n",
              "        vertical-align: middle;\n",
              "    }\n",
              "\n",
              "    .dataframe tbody tr th {\n",
              "        vertical-align: top;\n",
              "    }\n",
              "\n",
              "    .dataframe thead th {\n",
              "        text-align: right;\n",
              "    }\n",
              "</style>\n",
              "<table border=\"1\" class=\"dataframe\">\n",
              "  <thead>\n",
              "    <tr style=\"text-align: right;\">\n",
              "      <th></th>\n",
              "      <th>id</th>\n",
              "      <th>gender</th>\n",
              "      <th>age</th>\n",
              "      <th>hypertension</th>\n",
              "      <th>heart_disease</th>\n",
              "      <th>ever_married</th>\n",
              "      <th>work_type</th>\n",
              "      <th>Residence_type</th>\n",
              "      <th>avg_glucose_level</th>\n",
              "      <th>bmi</th>\n",
              "      <th>smoking_status</th>\n",
              "      <th>stroke</th>\n",
              "    </tr>\n",
              "  </thead>\n",
              "  <tbody>\n",
              "    <tr>\n",
              "      <th>0</th>\n",
              "      <td>9046</td>\n",
              "      <td>Male</td>\n",
              "      <td>67.0</td>\n",
              "      <td>0</td>\n",
              "      <td>1</td>\n",
              "      <td>Yes</td>\n",
              "      <td>Private</td>\n",
              "      <td>Urban</td>\n",
              "      <td>228.69</td>\n",
              "      <td>36.6</td>\n",
              "      <td>formerly smoked</td>\n",
              "      <td>1</td>\n",
              "    </tr>\n",
              "    <tr>\n",
              "      <th>1</th>\n",
              "      <td>51676</td>\n",
              "      <td>Female</td>\n",
              "      <td>61.0</td>\n",
              "      <td>0</td>\n",
              "      <td>0</td>\n",
              "      <td>Yes</td>\n",
              "      <td>Self-employed</td>\n",
              "      <td>Rural</td>\n",
              "      <td>202.21</td>\n",
              "      <td>NaN</td>\n",
              "      <td>never smoked</td>\n",
              "      <td>1</td>\n",
              "    </tr>\n",
              "    <tr>\n",
              "      <th>2</th>\n",
              "      <td>31112</td>\n",
              "      <td>Male</td>\n",
              "      <td>80.0</td>\n",
              "      <td>0</td>\n",
              "      <td>1</td>\n",
              "      <td>Yes</td>\n",
              "      <td>Private</td>\n",
              "      <td>Rural</td>\n",
              "      <td>105.92</td>\n",
              "      <td>32.5</td>\n",
              "      <td>never smoked</td>\n",
              "      <td>1</td>\n",
              "    </tr>\n",
              "    <tr>\n",
              "      <th>3</th>\n",
              "      <td>60182</td>\n",
              "      <td>Female</td>\n",
              "      <td>49.0</td>\n",
              "      <td>0</td>\n",
              "      <td>0</td>\n",
              "      <td>Yes</td>\n",
              "      <td>Private</td>\n",
              "      <td>Urban</td>\n",
              "      <td>171.23</td>\n",
              "      <td>34.4</td>\n",
              "      <td>smokes</td>\n",
              "      <td>1</td>\n",
              "    </tr>\n",
              "    <tr>\n",
              "      <th>4</th>\n",
              "      <td>1665</td>\n",
              "      <td>Female</td>\n",
              "      <td>79.0</td>\n",
              "      <td>1</td>\n",
              "      <td>0</td>\n",
              "      <td>Yes</td>\n",
              "      <td>Self-employed</td>\n",
              "      <td>Rural</td>\n",
              "      <td>174.12</td>\n",
              "      <td>24.0</td>\n",
              "      <td>never smoked</td>\n",
              "      <td>1</td>\n",
              "    </tr>\n",
              "  </tbody>\n",
              "</table>\n",
              "</div>\n",
              "      <button class=\"colab-df-convert\" onclick=\"convertToInteractive('df-7478a11c-0a26-4040-92e6-1664c48e761b')\"\n",
              "              title=\"Convert this dataframe to an interactive table.\"\n",
              "              style=\"display:none;\">\n",
              "        \n",
              "  <svg xmlns=\"http://www.w3.org/2000/svg\" height=\"24px\"viewBox=\"0 0 24 24\"\n",
              "       width=\"24px\">\n",
              "    <path d=\"M0 0h24v24H0V0z\" fill=\"none\"/>\n",
              "    <path d=\"M18.56 5.44l.94 2.06.94-2.06 2.06-.94-2.06-.94-.94-2.06-.94 2.06-2.06.94zm-11 1L8.5 8.5l.94-2.06 2.06-.94-2.06-.94L8.5 2.5l-.94 2.06-2.06.94zm10 10l.94 2.06.94-2.06 2.06-.94-2.06-.94-.94-2.06-.94 2.06-2.06.94z\"/><path d=\"M17.41 7.96l-1.37-1.37c-.4-.4-.92-.59-1.43-.59-.52 0-1.04.2-1.43.59L10.3 9.45l-7.72 7.72c-.78.78-.78 2.05 0 2.83L4 21.41c.39.39.9.59 1.41.59.51 0 1.02-.2 1.41-.59l7.78-7.78 2.81-2.81c.8-.78.8-2.07 0-2.86zM5.41 20L4 18.59l7.72-7.72 1.47 1.35L5.41 20z\"/>\n",
              "  </svg>\n",
              "      </button>\n",
              "      \n",
              "  <style>\n",
              "    .colab-df-container {\n",
              "      display:flex;\n",
              "      flex-wrap:wrap;\n",
              "      gap: 12px;\n",
              "    }\n",
              "\n",
              "    .colab-df-convert {\n",
              "      background-color: #E8F0FE;\n",
              "      border: none;\n",
              "      border-radius: 50%;\n",
              "      cursor: pointer;\n",
              "      display: none;\n",
              "      fill: #1967D2;\n",
              "      height: 32px;\n",
              "      padding: 0 0 0 0;\n",
              "      width: 32px;\n",
              "    }\n",
              "\n",
              "    .colab-df-convert:hover {\n",
              "      background-color: #E2EBFA;\n",
              "      box-shadow: 0px 1px 2px rgba(60, 64, 67, 0.3), 0px 1px 3px 1px rgba(60, 64, 67, 0.15);\n",
              "      fill: #174EA6;\n",
              "    }\n",
              "\n",
              "    [theme=dark] .colab-df-convert {\n",
              "      background-color: #3B4455;\n",
              "      fill: #D2E3FC;\n",
              "    }\n",
              "\n",
              "    [theme=dark] .colab-df-convert:hover {\n",
              "      background-color: #434B5C;\n",
              "      box-shadow: 0px 1px 3px 1px rgba(0, 0, 0, 0.15);\n",
              "      filter: drop-shadow(0px 1px 2px rgba(0, 0, 0, 0.3));\n",
              "      fill: #FFFFFF;\n",
              "    }\n",
              "  </style>\n",
              "\n",
              "      <script>\n",
              "        const buttonEl =\n",
              "          document.querySelector('#df-7478a11c-0a26-4040-92e6-1664c48e761b button.colab-df-convert');\n",
              "        buttonEl.style.display =\n",
              "          google.colab.kernel.accessAllowed ? 'block' : 'none';\n",
              "\n",
              "        async function convertToInteractive(key) {\n",
              "          const element = document.querySelector('#df-7478a11c-0a26-4040-92e6-1664c48e761b');\n",
              "          const dataTable =\n",
              "            await google.colab.kernel.invokeFunction('convertToInteractive',\n",
              "                                                     [key], {});\n",
              "          if (!dataTable) return;\n",
              "\n",
              "          const docLinkHtml = 'Like what you see? Visit the ' +\n",
              "            '<a target=\"_blank\" href=https://colab.research.google.com/notebooks/data_table.ipynb>data table notebook</a>'\n",
              "            + ' to learn more about interactive tables.';\n",
              "          element.innerHTML = '';\n",
              "          dataTable['output_type'] = 'display_data';\n",
              "          await google.colab.output.renderOutput(dataTable, element);\n",
              "          const docLink = document.createElement('div');\n",
              "          docLink.innerHTML = docLinkHtml;\n",
              "          element.appendChild(docLink);\n",
              "        }\n",
              "      </script>\n",
              "    </div>\n",
              "  </div>\n",
              "  "
            ]
          },
          "metadata": {},
          "execution_count": 215
        }
      ]
    },
    {
      "cell_type": "code",
      "source": [
        "stroke_data.tail()  # print the last 5 rows for inspection"
      ],
      "metadata": {
        "colab": {
          "base_uri": "https://localhost:8080/",
          "height": 206
        },
        "id": "0QygQsCd5Pxw",
        "outputId": "796a99e2-bb6e-4220-c53b-bb4f4522ed88"
      },
      "execution_count": 216,
      "outputs": [
        {
          "output_type": "execute_result",
          "data": {
            "text/plain": [
              "         id  gender   age  hypertension  heart_disease ever_married  \\\n",
              "5105  18234  Female  80.0             1              0          Yes   \n",
              "5106  44873  Female  81.0             0              0          Yes   \n",
              "5107  19723  Female  35.0             0              0          Yes   \n",
              "5108  37544    Male  51.0             0              0          Yes   \n",
              "5109  44679  Female  44.0             0              0          Yes   \n",
              "\n",
              "          work_type Residence_type  avg_glucose_level   bmi   smoking_status  \\\n",
              "5105        Private          Urban              83.75   NaN     never smoked   \n",
              "5106  Self-employed          Urban             125.20  40.0     never smoked   \n",
              "5107  Self-employed          Rural              82.99  30.6     never smoked   \n",
              "5108        Private          Rural             166.29  25.6  formerly smoked   \n",
              "5109       Govt_job          Urban              85.28  26.2          Unknown   \n",
              "\n",
              "      stroke  \n",
              "5105       0  \n",
              "5106       0  \n",
              "5107       0  \n",
              "5108       0  \n",
              "5109       0  "
            ],
            "text/html": [
              "\n",
              "  <div id=\"df-e14d7c5a-a123-46d3-8fcf-5bc181b20d9b\">\n",
              "    <div class=\"colab-df-container\">\n",
              "      <div>\n",
              "<style scoped>\n",
              "    .dataframe tbody tr th:only-of-type {\n",
              "        vertical-align: middle;\n",
              "    }\n",
              "\n",
              "    .dataframe tbody tr th {\n",
              "        vertical-align: top;\n",
              "    }\n",
              "\n",
              "    .dataframe thead th {\n",
              "        text-align: right;\n",
              "    }\n",
              "</style>\n",
              "<table border=\"1\" class=\"dataframe\">\n",
              "  <thead>\n",
              "    <tr style=\"text-align: right;\">\n",
              "      <th></th>\n",
              "      <th>id</th>\n",
              "      <th>gender</th>\n",
              "      <th>age</th>\n",
              "      <th>hypertension</th>\n",
              "      <th>heart_disease</th>\n",
              "      <th>ever_married</th>\n",
              "      <th>work_type</th>\n",
              "      <th>Residence_type</th>\n",
              "      <th>avg_glucose_level</th>\n",
              "      <th>bmi</th>\n",
              "      <th>smoking_status</th>\n",
              "      <th>stroke</th>\n",
              "    </tr>\n",
              "  </thead>\n",
              "  <tbody>\n",
              "    <tr>\n",
              "      <th>5105</th>\n",
              "      <td>18234</td>\n",
              "      <td>Female</td>\n",
              "      <td>80.0</td>\n",
              "      <td>1</td>\n",
              "      <td>0</td>\n",
              "      <td>Yes</td>\n",
              "      <td>Private</td>\n",
              "      <td>Urban</td>\n",
              "      <td>83.75</td>\n",
              "      <td>NaN</td>\n",
              "      <td>never smoked</td>\n",
              "      <td>0</td>\n",
              "    </tr>\n",
              "    <tr>\n",
              "      <th>5106</th>\n",
              "      <td>44873</td>\n",
              "      <td>Female</td>\n",
              "      <td>81.0</td>\n",
              "      <td>0</td>\n",
              "      <td>0</td>\n",
              "      <td>Yes</td>\n",
              "      <td>Self-employed</td>\n",
              "      <td>Urban</td>\n",
              "      <td>125.20</td>\n",
              "      <td>40.0</td>\n",
              "      <td>never smoked</td>\n",
              "      <td>0</td>\n",
              "    </tr>\n",
              "    <tr>\n",
              "      <th>5107</th>\n",
              "      <td>19723</td>\n",
              "      <td>Female</td>\n",
              "      <td>35.0</td>\n",
              "      <td>0</td>\n",
              "      <td>0</td>\n",
              "      <td>Yes</td>\n",
              "      <td>Self-employed</td>\n",
              "      <td>Rural</td>\n",
              "      <td>82.99</td>\n",
              "      <td>30.6</td>\n",
              "      <td>never smoked</td>\n",
              "      <td>0</td>\n",
              "    </tr>\n",
              "    <tr>\n",
              "      <th>5108</th>\n",
              "      <td>37544</td>\n",
              "      <td>Male</td>\n",
              "      <td>51.0</td>\n",
              "      <td>0</td>\n",
              "      <td>0</td>\n",
              "      <td>Yes</td>\n",
              "      <td>Private</td>\n",
              "      <td>Rural</td>\n",
              "      <td>166.29</td>\n",
              "      <td>25.6</td>\n",
              "      <td>formerly smoked</td>\n",
              "      <td>0</td>\n",
              "    </tr>\n",
              "    <tr>\n",
              "      <th>5109</th>\n",
              "      <td>44679</td>\n",
              "      <td>Female</td>\n",
              "      <td>44.0</td>\n",
              "      <td>0</td>\n",
              "      <td>0</td>\n",
              "      <td>Yes</td>\n",
              "      <td>Govt_job</td>\n",
              "      <td>Urban</td>\n",
              "      <td>85.28</td>\n",
              "      <td>26.2</td>\n",
              "      <td>Unknown</td>\n",
              "      <td>0</td>\n",
              "    </tr>\n",
              "  </tbody>\n",
              "</table>\n",
              "</div>\n",
              "      <button class=\"colab-df-convert\" onclick=\"convertToInteractive('df-e14d7c5a-a123-46d3-8fcf-5bc181b20d9b')\"\n",
              "              title=\"Convert this dataframe to an interactive table.\"\n",
              "              style=\"display:none;\">\n",
              "        \n",
              "  <svg xmlns=\"http://www.w3.org/2000/svg\" height=\"24px\"viewBox=\"0 0 24 24\"\n",
              "       width=\"24px\">\n",
              "    <path d=\"M0 0h24v24H0V0z\" fill=\"none\"/>\n",
              "    <path d=\"M18.56 5.44l.94 2.06.94-2.06 2.06-.94-2.06-.94-.94-2.06-.94 2.06-2.06.94zm-11 1L8.5 8.5l.94-2.06 2.06-.94-2.06-.94L8.5 2.5l-.94 2.06-2.06.94zm10 10l.94 2.06.94-2.06 2.06-.94-2.06-.94-.94-2.06-.94 2.06-2.06.94z\"/><path d=\"M17.41 7.96l-1.37-1.37c-.4-.4-.92-.59-1.43-.59-.52 0-1.04.2-1.43.59L10.3 9.45l-7.72 7.72c-.78.78-.78 2.05 0 2.83L4 21.41c.39.39.9.59 1.41.59.51 0 1.02-.2 1.41-.59l7.78-7.78 2.81-2.81c.8-.78.8-2.07 0-2.86zM5.41 20L4 18.59l7.72-7.72 1.47 1.35L5.41 20z\"/>\n",
              "  </svg>\n",
              "      </button>\n",
              "      \n",
              "  <style>\n",
              "    .colab-df-container {\n",
              "      display:flex;\n",
              "      flex-wrap:wrap;\n",
              "      gap: 12px;\n",
              "    }\n",
              "\n",
              "    .colab-df-convert {\n",
              "      background-color: #E8F0FE;\n",
              "      border: none;\n",
              "      border-radius: 50%;\n",
              "      cursor: pointer;\n",
              "      display: none;\n",
              "      fill: #1967D2;\n",
              "      height: 32px;\n",
              "      padding: 0 0 0 0;\n",
              "      width: 32px;\n",
              "    }\n",
              "\n",
              "    .colab-df-convert:hover {\n",
              "      background-color: #E2EBFA;\n",
              "      box-shadow: 0px 1px 2px rgba(60, 64, 67, 0.3), 0px 1px 3px 1px rgba(60, 64, 67, 0.15);\n",
              "      fill: #174EA6;\n",
              "    }\n",
              "\n",
              "    [theme=dark] .colab-df-convert {\n",
              "      background-color: #3B4455;\n",
              "      fill: #D2E3FC;\n",
              "    }\n",
              "\n",
              "    [theme=dark] .colab-df-convert:hover {\n",
              "      background-color: #434B5C;\n",
              "      box-shadow: 0px 1px 3px 1px rgba(0, 0, 0, 0.15);\n",
              "      filter: drop-shadow(0px 1px 2px rgba(0, 0, 0, 0.3));\n",
              "      fill: #FFFFFF;\n",
              "    }\n",
              "  </style>\n",
              "\n",
              "      <script>\n",
              "        const buttonEl =\n",
              "          document.querySelector('#df-e14d7c5a-a123-46d3-8fcf-5bc181b20d9b button.colab-df-convert');\n",
              "        buttonEl.style.display =\n",
              "          google.colab.kernel.accessAllowed ? 'block' : 'none';\n",
              "\n",
              "        async function convertToInteractive(key) {\n",
              "          const element = document.querySelector('#df-e14d7c5a-a123-46d3-8fcf-5bc181b20d9b');\n",
              "          const dataTable =\n",
              "            await google.colab.kernel.invokeFunction('convertToInteractive',\n",
              "                                                     [key], {});\n",
              "          if (!dataTable) return;\n",
              "\n",
              "          const docLinkHtml = 'Like what you see? Visit the ' +\n",
              "            '<a target=\"_blank\" href=https://colab.research.google.com/notebooks/data_table.ipynb>data table notebook</a>'\n",
              "            + ' to learn more about interactive tables.';\n",
              "          element.innerHTML = '';\n",
              "          dataTable['output_type'] = 'display_data';\n",
              "          await google.colab.output.renderOutput(dataTable, element);\n",
              "          const docLink = document.createElement('div');\n",
              "          docLink.innerHTML = docLinkHtml;\n",
              "          element.appendChild(docLink);\n",
              "        }\n",
              "      </script>\n",
              "    </div>\n",
              "  </div>\n",
              "  "
            ]
          },
          "metadata": {},
          "execution_count": 216
        }
      ]
    },
    {
      "cell_type": "code",
      "source": [
        "stroke_data.shape     # print the number of rows and columns"
      ],
      "metadata": {
        "colab": {
          "base_uri": "https://localhost:8080/"
        },
        "id": "gTED1igZ5SMQ",
        "outputId": "ddfe65b2-11c7-4f6f-fc6a-cdd6ef96860c"
      },
      "execution_count": 217,
      "outputs": [
        {
          "output_type": "execute_result",
          "data": {
            "text/plain": [
              "(5110, 12)"
            ]
          },
          "metadata": {},
          "execution_count": 217
        }
      ]
    },
    {
      "cell_type": "code",
      "source": [
        "stroke_data.info()   # print the summary of dataset"
      ],
      "metadata": {
        "colab": {
          "base_uri": "https://localhost:8080/"
        },
        "id": "tFADYCGb5WMi",
        "outputId": "106c0792-867b-45e2-9462-c52fd1befc64"
      },
      "execution_count": 218,
      "outputs": [
        {
          "output_type": "stream",
          "name": "stdout",
          "text": [
            "<class 'pandas.core.frame.DataFrame'>\n",
            "RangeIndex: 5110 entries, 0 to 5109\n",
            "Data columns (total 12 columns):\n",
            " #   Column             Non-Null Count  Dtype  \n",
            "---  ------             --------------  -----  \n",
            " 0   id                 5110 non-null   int64  \n",
            " 1   gender             5110 non-null   object \n",
            " 2   age                5110 non-null   float64\n",
            " 3   hypertension       5110 non-null   int64  \n",
            " 4   heart_disease      5110 non-null   int64  \n",
            " 5   ever_married       5110 non-null   object \n",
            " 6   work_type          5110 non-null   object \n",
            " 7   Residence_type     5110 non-null   object \n",
            " 8   avg_glucose_level  5110 non-null   float64\n",
            " 9   bmi                4909 non-null   float64\n",
            " 10  smoking_status     5110 non-null   object \n",
            " 11  stroke             5110 non-null   int64  \n",
            "dtypes: float64(3), int64(4), object(5)\n",
            "memory usage: 479.2+ KB\n"
          ]
        }
      ]
    },
    {
      "cell_type": "code",
      "source": [
        "stroke_data.describe()     # print the statistical summary of all numerical attributes"
      ],
      "metadata": {
        "colab": {
          "base_uri": "https://localhost:8080/",
          "height": 300
        },
        "id": "L3pj_-Iv5ZrW",
        "outputId": "6f7bbbb3-1317-4234-cef4-7663acdef721"
      },
      "execution_count": 219,
      "outputs": [
        {
          "output_type": "execute_result",
          "data": {
            "text/plain": [
              "                 id          age  hypertension  heart_disease  \\\n",
              "count   5110.000000  5110.000000   5110.000000    5110.000000   \n",
              "mean   36517.829354    43.226614      0.097456       0.054012   \n",
              "std    21161.721625    22.612647      0.296607       0.226063   \n",
              "min       67.000000     0.080000      0.000000       0.000000   \n",
              "25%    17741.250000    25.000000      0.000000       0.000000   \n",
              "50%    36932.000000    45.000000      0.000000       0.000000   \n",
              "75%    54682.000000    61.000000      0.000000       0.000000   \n",
              "max    72940.000000    82.000000      1.000000       1.000000   \n",
              "\n",
              "       avg_glucose_level          bmi       stroke  \n",
              "count        5110.000000  4909.000000  5110.000000  \n",
              "mean          106.147677    28.893237     0.048728  \n",
              "std            45.283560     7.854067     0.215320  \n",
              "min            55.120000    10.300000     0.000000  \n",
              "25%            77.245000    23.500000     0.000000  \n",
              "50%            91.885000    28.100000     0.000000  \n",
              "75%           114.090000    33.100000     0.000000  \n",
              "max           271.740000    97.600000     1.000000  "
            ],
            "text/html": [
              "\n",
              "  <div id=\"df-d63730e2-276e-4944-9089-f6b5aee966ae\">\n",
              "    <div class=\"colab-df-container\">\n",
              "      <div>\n",
              "<style scoped>\n",
              "    .dataframe tbody tr th:only-of-type {\n",
              "        vertical-align: middle;\n",
              "    }\n",
              "\n",
              "    .dataframe tbody tr th {\n",
              "        vertical-align: top;\n",
              "    }\n",
              "\n",
              "    .dataframe thead th {\n",
              "        text-align: right;\n",
              "    }\n",
              "</style>\n",
              "<table border=\"1\" class=\"dataframe\">\n",
              "  <thead>\n",
              "    <tr style=\"text-align: right;\">\n",
              "      <th></th>\n",
              "      <th>id</th>\n",
              "      <th>age</th>\n",
              "      <th>hypertension</th>\n",
              "      <th>heart_disease</th>\n",
              "      <th>avg_glucose_level</th>\n",
              "      <th>bmi</th>\n",
              "      <th>stroke</th>\n",
              "    </tr>\n",
              "  </thead>\n",
              "  <tbody>\n",
              "    <tr>\n",
              "      <th>count</th>\n",
              "      <td>5110.000000</td>\n",
              "      <td>5110.000000</td>\n",
              "      <td>5110.000000</td>\n",
              "      <td>5110.000000</td>\n",
              "      <td>5110.000000</td>\n",
              "      <td>4909.000000</td>\n",
              "      <td>5110.000000</td>\n",
              "    </tr>\n",
              "    <tr>\n",
              "      <th>mean</th>\n",
              "      <td>36517.829354</td>\n",
              "      <td>43.226614</td>\n",
              "      <td>0.097456</td>\n",
              "      <td>0.054012</td>\n",
              "      <td>106.147677</td>\n",
              "      <td>28.893237</td>\n",
              "      <td>0.048728</td>\n",
              "    </tr>\n",
              "    <tr>\n",
              "      <th>std</th>\n",
              "      <td>21161.721625</td>\n",
              "      <td>22.612647</td>\n",
              "      <td>0.296607</td>\n",
              "      <td>0.226063</td>\n",
              "      <td>45.283560</td>\n",
              "      <td>7.854067</td>\n",
              "      <td>0.215320</td>\n",
              "    </tr>\n",
              "    <tr>\n",
              "      <th>min</th>\n",
              "      <td>67.000000</td>\n",
              "      <td>0.080000</td>\n",
              "      <td>0.000000</td>\n",
              "      <td>0.000000</td>\n",
              "      <td>55.120000</td>\n",
              "      <td>10.300000</td>\n",
              "      <td>0.000000</td>\n",
              "    </tr>\n",
              "    <tr>\n",
              "      <th>25%</th>\n",
              "      <td>17741.250000</td>\n",
              "      <td>25.000000</td>\n",
              "      <td>0.000000</td>\n",
              "      <td>0.000000</td>\n",
              "      <td>77.245000</td>\n",
              "      <td>23.500000</td>\n",
              "      <td>0.000000</td>\n",
              "    </tr>\n",
              "    <tr>\n",
              "      <th>50%</th>\n",
              "      <td>36932.000000</td>\n",
              "      <td>45.000000</td>\n",
              "      <td>0.000000</td>\n",
              "      <td>0.000000</td>\n",
              "      <td>91.885000</td>\n",
              "      <td>28.100000</td>\n",
              "      <td>0.000000</td>\n",
              "    </tr>\n",
              "    <tr>\n",
              "      <th>75%</th>\n",
              "      <td>54682.000000</td>\n",
              "      <td>61.000000</td>\n",
              "      <td>0.000000</td>\n",
              "      <td>0.000000</td>\n",
              "      <td>114.090000</td>\n",
              "      <td>33.100000</td>\n",
              "      <td>0.000000</td>\n",
              "    </tr>\n",
              "    <tr>\n",
              "      <th>max</th>\n",
              "      <td>72940.000000</td>\n",
              "      <td>82.000000</td>\n",
              "      <td>1.000000</td>\n",
              "      <td>1.000000</td>\n",
              "      <td>271.740000</td>\n",
              "      <td>97.600000</td>\n",
              "      <td>1.000000</td>\n",
              "    </tr>\n",
              "  </tbody>\n",
              "</table>\n",
              "</div>\n",
              "      <button class=\"colab-df-convert\" onclick=\"convertToInteractive('df-d63730e2-276e-4944-9089-f6b5aee966ae')\"\n",
              "              title=\"Convert this dataframe to an interactive table.\"\n",
              "              style=\"display:none;\">\n",
              "        \n",
              "  <svg xmlns=\"http://www.w3.org/2000/svg\" height=\"24px\"viewBox=\"0 0 24 24\"\n",
              "       width=\"24px\">\n",
              "    <path d=\"M0 0h24v24H0V0z\" fill=\"none\"/>\n",
              "    <path d=\"M18.56 5.44l.94 2.06.94-2.06 2.06-.94-2.06-.94-.94-2.06-.94 2.06-2.06.94zm-11 1L8.5 8.5l.94-2.06 2.06-.94-2.06-.94L8.5 2.5l-.94 2.06-2.06.94zm10 10l.94 2.06.94-2.06 2.06-.94-2.06-.94-.94-2.06-.94 2.06-2.06.94z\"/><path d=\"M17.41 7.96l-1.37-1.37c-.4-.4-.92-.59-1.43-.59-.52 0-1.04.2-1.43.59L10.3 9.45l-7.72 7.72c-.78.78-.78 2.05 0 2.83L4 21.41c.39.39.9.59 1.41.59.51 0 1.02-.2 1.41-.59l7.78-7.78 2.81-2.81c.8-.78.8-2.07 0-2.86zM5.41 20L4 18.59l7.72-7.72 1.47 1.35L5.41 20z\"/>\n",
              "  </svg>\n",
              "      </button>\n",
              "      \n",
              "  <style>\n",
              "    .colab-df-container {\n",
              "      display:flex;\n",
              "      flex-wrap:wrap;\n",
              "      gap: 12px;\n",
              "    }\n",
              "\n",
              "    .colab-df-convert {\n",
              "      background-color: #E8F0FE;\n",
              "      border: none;\n",
              "      border-radius: 50%;\n",
              "      cursor: pointer;\n",
              "      display: none;\n",
              "      fill: #1967D2;\n",
              "      height: 32px;\n",
              "      padding: 0 0 0 0;\n",
              "      width: 32px;\n",
              "    }\n",
              "\n",
              "    .colab-df-convert:hover {\n",
              "      background-color: #E2EBFA;\n",
              "      box-shadow: 0px 1px 2px rgba(60, 64, 67, 0.3), 0px 1px 3px 1px rgba(60, 64, 67, 0.15);\n",
              "      fill: #174EA6;\n",
              "    }\n",
              "\n",
              "    [theme=dark] .colab-df-convert {\n",
              "      background-color: #3B4455;\n",
              "      fill: #D2E3FC;\n",
              "    }\n",
              "\n",
              "    [theme=dark] .colab-df-convert:hover {\n",
              "      background-color: #434B5C;\n",
              "      box-shadow: 0px 1px 3px 1px rgba(0, 0, 0, 0.15);\n",
              "      filter: drop-shadow(0px 1px 2px rgba(0, 0, 0, 0.3));\n",
              "      fill: #FFFFFF;\n",
              "    }\n",
              "  </style>\n",
              "\n",
              "      <script>\n",
              "        const buttonEl =\n",
              "          document.querySelector('#df-d63730e2-276e-4944-9089-f6b5aee966ae button.colab-df-convert');\n",
              "        buttonEl.style.display =\n",
              "          google.colab.kernel.accessAllowed ? 'block' : 'none';\n",
              "\n",
              "        async function convertToInteractive(key) {\n",
              "          const element = document.querySelector('#df-d63730e2-276e-4944-9089-f6b5aee966ae');\n",
              "          const dataTable =\n",
              "            await google.colab.kernel.invokeFunction('convertToInteractive',\n",
              "                                                     [key], {});\n",
              "          if (!dataTable) return;\n",
              "\n",
              "          const docLinkHtml = 'Like what you see? Visit the ' +\n",
              "            '<a target=\"_blank\" href=https://colab.research.google.com/notebooks/data_table.ipynb>data table notebook</a>'\n",
              "            + ' to learn more about interactive tables.';\n",
              "          element.innerHTML = '';\n",
              "          dataTable['output_type'] = 'display_data';\n",
              "          await google.colab.output.renderOutput(dataTable, element);\n",
              "          const docLink = document.createElement('div');\n",
              "          docLink.innerHTML = docLinkHtml;\n",
              "          element.appendChild(docLink);\n",
              "        }\n",
              "      </script>\n",
              "    </div>\n",
              "  </div>\n",
              "  "
            ]
          },
          "metadata": {},
          "execution_count": 219
        }
      ]
    },
    {
      "cell_type": "code",
      "source": [
        "stroke_data.isnull().sum()    # checking the missing values"
      ],
      "metadata": {
        "colab": {
          "base_uri": "https://localhost:8080/"
        },
        "id": "dehznW_G5fJn",
        "outputId": "5df918b2-4898-4d6e-9355-4e3132045a11"
      },
      "execution_count": 220,
      "outputs": [
        {
          "output_type": "execute_result",
          "data": {
            "text/plain": [
              "id                     0\n",
              "gender                 0\n",
              "age                    0\n",
              "hypertension           0\n",
              "heart_disease          0\n",
              "ever_married           0\n",
              "work_type              0\n",
              "Residence_type         0\n",
              "avg_glucose_level      0\n",
              "bmi                  201\n",
              "smoking_status         0\n",
              "stroke                 0\n",
              "dtype: int64"
            ]
          },
          "metadata": {},
          "execution_count": 220
        }
      ]
    },
    {
      "cell_type": "code",
      "source": [
        "stroke_data = stroke_data.dropna()    # drop the null values in the dataset"
      ],
      "metadata": {
        "id": "PW1pM4tj57gm"
      },
      "execution_count": 221,
      "outputs": []
    },
    {
      "cell_type": "code",
      "source": [
        "stroke_data.isnull().sum()         # checking the missing values"
      ],
      "metadata": {
        "colab": {
          "base_uri": "https://localhost:8080/"
        },
        "id": "fDIlhGmP6SF1",
        "outputId": "a6cf2256-1837-45e0-d6c4-45a49f8aa5cb"
      },
      "execution_count": 222,
      "outputs": [
        {
          "output_type": "execute_result",
          "data": {
            "text/plain": [
              "id                   0\n",
              "gender               0\n",
              "age                  0\n",
              "hypertension         0\n",
              "heart_disease        0\n",
              "ever_married         0\n",
              "work_type            0\n",
              "Residence_type       0\n",
              "avg_glucose_level    0\n",
              "bmi                  0\n",
              "smoking_status       0\n",
              "stroke               0\n",
              "dtype: int64"
            ]
          },
          "metadata": {},
          "execution_count": 222
        }
      ]
    },
    {
      "cell_type": "code",
      "source": [
        "stroke_data.head()    # print the first 5 rows for inspection"
      ],
      "metadata": {
        "colab": {
          "base_uri": "https://localhost:8080/",
          "height": 206
        },
        "id": "1QArfOas6xuX",
        "outputId": "df807573-c93a-4da7-c696-0cfe70566155"
      },
      "execution_count": 223,
      "outputs": [
        {
          "output_type": "execute_result",
          "data": {
            "text/plain": [
              "      id  gender   age  hypertension  heart_disease ever_married  \\\n",
              "0   9046    Male  67.0             0              1          Yes   \n",
              "2  31112    Male  80.0             0              1          Yes   \n",
              "3  60182  Female  49.0             0              0          Yes   \n",
              "4   1665  Female  79.0             1              0          Yes   \n",
              "5  56669    Male  81.0             0              0          Yes   \n",
              "\n",
              "       work_type Residence_type  avg_glucose_level   bmi   smoking_status  \\\n",
              "0        Private          Urban             228.69  36.6  formerly smoked   \n",
              "2        Private          Rural             105.92  32.5     never smoked   \n",
              "3        Private          Urban             171.23  34.4           smokes   \n",
              "4  Self-employed          Rural             174.12  24.0     never smoked   \n",
              "5        Private          Urban             186.21  29.0  formerly smoked   \n",
              "\n",
              "   stroke  \n",
              "0       1  \n",
              "2       1  \n",
              "3       1  \n",
              "4       1  \n",
              "5       1  "
            ],
            "text/html": [
              "\n",
              "  <div id=\"df-2fabf0a8-7781-4c13-8885-06e5fc9b1872\">\n",
              "    <div class=\"colab-df-container\">\n",
              "      <div>\n",
              "<style scoped>\n",
              "    .dataframe tbody tr th:only-of-type {\n",
              "        vertical-align: middle;\n",
              "    }\n",
              "\n",
              "    .dataframe tbody tr th {\n",
              "        vertical-align: top;\n",
              "    }\n",
              "\n",
              "    .dataframe thead th {\n",
              "        text-align: right;\n",
              "    }\n",
              "</style>\n",
              "<table border=\"1\" class=\"dataframe\">\n",
              "  <thead>\n",
              "    <tr style=\"text-align: right;\">\n",
              "      <th></th>\n",
              "      <th>id</th>\n",
              "      <th>gender</th>\n",
              "      <th>age</th>\n",
              "      <th>hypertension</th>\n",
              "      <th>heart_disease</th>\n",
              "      <th>ever_married</th>\n",
              "      <th>work_type</th>\n",
              "      <th>Residence_type</th>\n",
              "      <th>avg_glucose_level</th>\n",
              "      <th>bmi</th>\n",
              "      <th>smoking_status</th>\n",
              "      <th>stroke</th>\n",
              "    </tr>\n",
              "  </thead>\n",
              "  <tbody>\n",
              "    <tr>\n",
              "      <th>0</th>\n",
              "      <td>9046</td>\n",
              "      <td>Male</td>\n",
              "      <td>67.0</td>\n",
              "      <td>0</td>\n",
              "      <td>1</td>\n",
              "      <td>Yes</td>\n",
              "      <td>Private</td>\n",
              "      <td>Urban</td>\n",
              "      <td>228.69</td>\n",
              "      <td>36.6</td>\n",
              "      <td>formerly smoked</td>\n",
              "      <td>1</td>\n",
              "    </tr>\n",
              "    <tr>\n",
              "      <th>2</th>\n",
              "      <td>31112</td>\n",
              "      <td>Male</td>\n",
              "      <td>80.0</td>\n",
              "      <td>0</td>\n",
              "      <td>1</td>\n",
              "      <td>Yes</td>\n",
              "      <td>Private</td>\n",
              "      <td>Rural</td>\n",
              "      <td>105.92</td>\n",
              "      <td>32.5</td>\n",
              "      <td>never smoked</td>\n",
              "      <td>1</td>\n",
              "    </tr>\n",
              "    <tr>\n",
              "      <th>3</th>\n",
              "      <td>60182</td>\n",
              "      <td>Female</td>\n",
              "      <td>49.0</td>\n",
              "      <td>0</td>\n",
              "      <td>0</td>\n",
              "      <td>Yes</td>\n",
              "      <td>Private</td>\n",
              "      <td>Urban</td>\n",
              "      <td>171.23</td>\n",
              "      <td>34.4</td>\n",
              "      <td>smokes</td>\n",
              "      <td>1</td>\n",
              "    </tr>\n",
              "    <tr>\n",
              "      <th>4</th>\n",
              "      <td>1665</td>\n",
              "      <td>Female</td>\n",
              "      <td>79.0</td>\n",
              "      <td>1</td>\n",
              "      <td>0</td>\n",
              "      <td>Yes</td>\n",
              "      <td>Self-employed</td>\n",
              "      <td>Rural</td>\n",
              "      <td>174.12</td>\n",
              "      <td>24.0</td>\n",
              "      <td>never smoked</td>\n",
              "      <td>1</td>\n",
              "    </tr>\n",
              "    <tr>\n",
              "      <th>5</th>\n",
              "      <td>56669</td>\n",
              "      <td>Male</td>\n",
              "      <td>81.0</td>\n",
              "      <td>0</td>\n",
              "      <td>0</td>\n",
              "      <td>Yes</td>\n",
              "      <td>Private</td>\n",
              "      <td>Urban</td>\n",
              "      <td>186.21</td>\n",
              "      <td>29.0</td>\n",
              "      <td>formerly smoked</td>\n",
              "      <td>1</td>\n",
              "    </tr>\n",
              "  </tbody>\n",
              "</table>\n",
              "</div>\n",
              "      <button class=\"colab-df-convert\" onclick=\"convertToInteractive('df-2fabf0a8-7781-4c13-8885-06e5fc9b1872')\"\n",
              "              title=\"Convert this dataframe to an interactive table.\"\n",
              "              style=\"display:none;\">\n",
              "        \n",
              "  <svg xmlns=\"http://www.w3.org/2000/svg\" height=\"24px\"viewBox=\"0 0 24 24\"\n",
              "       width=\"24px\">\n",
              "    <path d=\"M0 0h24v24H0V0z\" fill=\"none\"/>\n",
              "    <path d=\"M18.56 5.44l.94 2.06.94-2.06 2.06-.94-2.06-.94-.94-2.06-.94 2.06-2.06.94zm-11 1L8.5 8.5l.94-2.06 2.06-.94-2.06-.94L8.5 2.5l-.94 2.06-2.06.94zm10 10l.94 2.06.94-2.06 2.06-.94-2.06-.94-.94-2.06-.94 2.06-2.06.94z\"/><path d=\"M17.41 7.96l-1.37-1.37c-.4-.4-.92-.59-1.43-.59-.52 0-1.04.2-1.43.59L10.3 9.45l-7.72 7.72c-.78.78-.78 2.05 0 2.83L4 21.41c.39.39.9.59 1.41.59.51 0 1.02-.2 1.41-.59l7.78-7.78 2.81-2.81c.8-.78.8-2.07 0-2.86zM5.41 20L4 18.59l7.72-7.72 1.47 1.35L5.41 20z\"/>\n",
              "  </svg>\n",
              "      </button>\n",
              "      \n",
              "  <style>\n",
              "    .colab-df-container {\n",
              "      display:flex;\n",
              "      flex-wrap:wrap;\n",
              "      gap: 12px;\n",
              "    }\n",
              "\n",
              "    .colab-df-convert {\n",
              "      background-color: #E8F0FE;\n",
              "      border: none;\n",
              "      border-radius: 50%;\n",
              "      cursor: pointer;\n",
              "      display: none;\n",
              "      fill: #1967D2;\n",
              "      height: 32px;\n",
              "      padding: 0 0 0 0;\n",
              "      width: 32px;\n",
              "    }\n",
              "\n",
              "    .colab-df-convert:hover {\n",
              "      background-color: #E2EBFA;\n",
              "      box-shadow: 0px 1px 2px rgba(60, 64, 67, 0.3), 0px 1px 3px 1px rgba(60, 64, 67, 0.15);\n",
              "      fill: #174EA6;\n",
              "    }\n",
              "\n",
              "    [theme=dark] .colab-df-convert {\n",
              "      background-color: #3B4455;\n",
              "      fill: #D2E3FC;\n",
              "    }\n",
              "\n",
              "    [theme=dark] .colab-df-convert:hover {\n",
              "      background-color: #434B5C;\n",
              "      box-shadow: 0px 1px 3px 1px rgba(0, 0, 0, 0.15);\n",
              "      filter: drop-shadow(0px 1px 2px rgba(0, 0, 0, 0.3));\n",
              "      fill: #FFFFFF;\n",
              "    }\n",
              "  </style>\n",
              "\n",
              "      <script>\n",
              "        const buttonEl =\n",
              "          document.querySelector('#df-2fabf0a8-7781-4c13-8885-06e5fc9b1872 button.colab-df-convert');\n",
              "        buttonEl.style.display =\n",
              "          google.colab.kernel.accessAllowed ? 'block' : 'none';\n",
              "\n",
              "        async function convertToInteractive(key) {\n",
              "          const element = document.querySelector('#df-2fabf0a8-7781-4c13-8885-06e5fc9b1872');\n",
              "          const dataTable =\n",
              "            await google.colab.kernel.invokeFunction('convertToInteractive',\n",
              "                                                     [key], {});\n",
              "          if (!dataTable) return;\n",
              "\n",
              "          const docLinkHtml = 'Like what you see? Visit the ' +\n",
              "            '<a target=\"_blank\" href=https://colab.research.google.com/notebooks/data_table.ipynb>data table notebook</a>'\n",
              "            + ' to learn more about interactive tables.';\n",
              "          element.innerHTML = '';\n",
              "          dataTable['output_type'] = 'display_data';\n",
              "          await google.colab.output.renderOutput(dataTable, element);\n",
              "          const docLink = document.createElement('div');\n",
              "          docLink.innerHTML = docLinkHtml;\n",
              "          element.appendChild(docLink);\n",
              "        }\n",
              "      </script>\n",
              "    </div>\n",
              "  </div>\n",
              "  "
            ]
          },
          "metadata": {},
          "execution_count": 223
        }
      ]
    },
    {
      "cell_type": "code",
      "source": [
        "stroke_data['gender'].value_counts()    # returns count values in a particular column gender"
      ],
      "metadata": {
        "colab": {
          "base_uri": "https://localhost:8080/"
        },
        "id": "PbAyPXk-606z",
        "outputId": "578e9c9f-0f8b-4660-fae5-cbdeb261621d"
      },
      "execution_count": 224,
      "outputs": [
        {
          "output_type": "execute_result",
          "data": {
            "text/plain": [
              "Female    2897\n",
              "Male      2011\n",
              "Other        1\n",
              "Name: gender, dtype: int64"
            ]
          },
          "metadata": {},
          "execution_count": 224
        }
      ]
    },
    {
      "cell_type": "code",
      "source": [
        "stroke_data['ever_married'].value_counts()         # returns count values in a particular column ever_married"
      ],
      "metadata": {
        "colab": {
          "base_uri": "https://localhost:8080/"
        },
        "id": "Oj-aj8Qt7buT",
        "outputId": "4b9802c4-99cb-4cc5-8657-30c60bc98acc"
      },
      "execution_count": 225,
      "outputs": [
        {
          "output_type": "execute_result",
          "data": {
            "text/plain": [
              "Yes    3204\n",
              "No     1705\n",
              "Name: ever_married, dtype: int64"
            ]
          },
          "metadata": {},
          "execution_count": 225
        }
      ]
    },
    {
      "cell_type": "code",
      "source": [
        "stroke_data['work_type'].value_counts()      # returns count values in a particular column work_type"
      ],
      "metadata": {
        "colab": {
          "base_uri": "https://localhost:8080/"
        },
        "id": "aI2D0zQE7usd",
        "outputId": "9f93e98b-6fac-4c5a-9d11-b7b6955c1427"
      },
      "execution_count": 226,
      "outputs": [
        {
          "output_type": "execute_result",
          "data": {
            "text/plain": [
              "Private          2811\n",
              "Self-employed     775\n",
              "children          671\n",
              "Govt_job          630\n",
              "Never_worked       22\n",
              "Name: work_type, dtype: int64"
            ]
          },
          "metadata": {},
          "execution_count": 226
        }
      ]
    },
    {
      "cell_type": "code",
      "source": [
        "stroke_data['Residence_type'].value_counts()   # returns count values in a particular column Residence_type\n"
      ],
      "metadata": {
        "colab": {
          "base_uri": "https://localhost:8080/"
        },
        "id": "dRgaBCsD81hB",
        "outputId": "77e15ea3-74e5-41ae-ad3a-075bd59ac6e0"
      },
      "execution_count": 227,
      "outputs": [
        {
          "output_type": "execute_result",
          "data": {
            "text/plain": [
              "Urban    2490\n",
              "Rural    2419\n",
              "Name: Residence_type, dtype: int64"
            ]
          },
          "metadata": {},
          "execution_count": 227
        }
      ]
    },
    {
      "cell_type": "code",
      "source": [
        "stroke_data['smoking_status'].value_counts()    # returns count values in a particular column smoking_status"
      ],
      "metadata": {
        "colab": {
          "base_uri": "https://localhost:8080/"
        },
        "id": "l2R-tKRI9UHh",
        "outputId": "f85bd74b-2796-4e30-c335-18d3b3ac599c"
      },
      "execution_count": 228,
      "outputs": [
        {
          "output_type": "execute_result",
          "data": {
            "text/plain": [
              "never smoked       1852\n",
              "Unknown            1483\n",
              "formerly smoked     837\n",
              "smokes              737\n",
              "Name: smoking_status, dtype: int64"
            ]
          },
          "metadata": {},
          "execution_count": 228
        }
      ]
    },
    {
      "cell_type": "code",
      "source": [
        "# Label Encoding\n",
        "stroke_data.replace({\"gender\": {'Female': 0, 'Male': 1, 'Other' : 2}, \"ever_married\": {'Yes': 0, 'No': 1}, \"work_type\": {'Private': 0, 'Self-employed': 1, \n",
        "                                      'children': 2, 'Govt_job': 3, 'Never_worked': 4}, \"Residence_type\": {'Urban': 0, 'Rural': 1}, \n",
        "                                      \"smoking_status\": {'never smoked': 0, 'Unknown': 1, 'formerly smoked': 2, 'smokes': 3}}, inplace = True)"
      ],
      "metadata": {
        "colab": {
          "base_uri": "https://localhost:8080/"
        },
        "id": "MA-qU_Lo67_g",
        "outputId": "6e04d22e-0bcb-4a2b-d328-eaeadd02a549"
      },
      "execution_count": 229,
      "outputs": [
        {
          "output_type": "stream",
          "name": "stderr",
          "text": [
            "/usr/local/lib/python3.7/dist-packages/pandas/core/indexing.py:1773: SettingWithCopyWarning: \n",
            "A value is trying to be set on a copy of a slice from a DataFrame.\n",
            "Try using .loc[row_indexer,col_indexer] = value instead\n",
            "\n",
            "See the caveats in the documentation: https://pandas.pydata.org/pandas-docs/stable/user_guide/indexing.html#returning-a-view-versus-a-copy\n",
            "  self._setitem_single_column(ilocs[0], value, pi)\n"
          ]
        }
      ]
    },
    {
      "cell_type": "code",
      "source": [
        "stroke_data.head()     # print the first 5 rows for inspection"
      ],
      "metadata": {
        "colab": {
          "base_uri": "https://localhost:8080/",
          "height": 206
        },
        "id": "8Y04mcUh9wzM",
        "outputId": "089a470a-3e4c-4463-f73b-1dd31cc5d29d"
      },
      "execution_count": 230,
      "outputs": [
        {
          "output_type": "execute_result",
          "data": {
            "text/plain": [
              "      id  gender   age  hypertension  heart_disease  ever_married  work_type  \\\n",
              "0   9046       1  67.0             0              1             0          0   \n",
              "2  31112       1  80.0             0              1             0          0   \n",
              "3  60182       0  49.0             0              0             0          0   \n",
              "4   1665       0  79.0             1              0             0          1   \n",
              "5  56669       1  81.0             0              0             0          0   \n",
              "\n",
              "   Residence_type  avg_glucose_level   bmi  smoking_status  stroke  \n",
              "0               0             228.69  36.6               2       1  \n",
              "2               1             105.92  32.5               0       1  \n",
              "3               0             171.23  34.4               3       1  \n",
              "4               1             174.12  24.0               0       1  \n",
              "5               0             186.21  29.0               2       1  "
            ],
            "text/html": [
              "\n",
              "  <div id=\"df-e7c2b90b-0f16-4031-a96f-909590bb4bfa\">\n",
              "    <div class=\"colab-df-container\">\n",
              "      <div>\n",
              "<style scoped>\n",
              "    .dataframe tbody tr th:only-of-type {\n",
              "        vertical-align: middle;\n",
              "    }\n",
              "\n",
              "    .dataframe tbody tr th {\n",
              "        vertical-align: top;\n",
              "    }\n",
              "\n",
              "    .dataframe thead th {\n",
              "        text-align: right;\n",
              "    }\n",
              "</style>\n",
              "<table border=\"1\" class=\"dataframe\">\n",
              "  <thead>\n",
              "    <tr style=\"text-align: right;\">\n",
              "      <th></th>\n",
              "      <th>id</th>\n",
              "      <th>gender</th>\n",
              "      <th>age</th>\n",
              "      <th>hypertension</th>\n",
              "      <th>heart_disease</th>\n",
              "      <th>ever_married</th>\n",
              "      <th>work_type</th>\n",
              "      <th>Residence_type</th>\n",
              "      <th>avg_glucose_level</th>\n",
              "      <th>bmi</th>\n",
              "      <th>smoking_status</th>\n",
              "      <th>stroke</th>\n",
              "    </tr>\n",
              "  </thead>\n",
              "  <tbody>\n",
              "    <tr>\n",
              "      <th>0</th>\n",
              "      <td>9046</td>\n",
              "      <td>1</td>\n",
              "      <td>67.0</td>\n",
              "      <td>0</td>\n",
              "      <td>1</td>\n",
              "      <td>0</td>\n",
              "      <td>0</td>\n",
              "      <td>0</td>\n",
              "      <td>228.69</td>\n",
              "      <td>36.6</td>\n",
              "      <td>2</td>\n",
              "      <td>1</td>\n",
              "    </tr>\n",
              "    <tr>\n",
              "      <th>2</th>\n",
              "      <td>31112</td>\n",
              "      <td>1</td>\n",
              "      <td>80.0</td>\n",
              "      <td>0</td>\n",
              "      <td>1</td>\n",
              "      <td>0</td>\n",
              "      <td>0</td>\n",
              "      <td>1</td>\n",
              "      <td>105.92</td>\n",
              "      <td>32.5</td>\n",
              "      <td>0</td>\n",
              "      <td>1</td>\n",
              "    </tr>\n",
              "    <tr>\n",
              "      <th>3</th>\n",
              "      <td>60182</td>\n",
              "      <td>0</td>\n",
              "      <td>49.0</td>\n",
              "      <td>0</td>\n",
              "      <td>0</td>\n",
              "      <td>0</td>\n",
              "      <td>0</td>\n",
              "      <td>0</td>\n",
              "      <td>171.23</td>\n",
              "      <td>34.4</td>\n",
              "      <td>3</td>\n",
              "      <td>1</td>\n",
              "    </tr>\n",
              "    <tr>\n",
              "      <th>4</th>\n",
              "      <td>1665</td>\n",
              "      <td>0</td>\n",
              "      <td>79.0</td>\n",
              "      <td>1</td>\n",
              "      <td>0</td>\n",
              "      <td>0</td>\n",
              "      <td>1</td>\n",
              "      <td>1</td>\n",
              "      <td>174.12</td>\n",
              "      <td>24.0</td>\n",
              "      <td>0</td>\n",
              "      <td>1</td>\n",
              "    </tr>\n",
              "    <tr>\n",
              "      <th>5</th>\n",
              "      <td>56669</td>\n",
              "      <td>1</td>\n",
              "      <td>81.0</td>\n",
              "      <td>0</td>\n",
              "      <td>0</td>\n",
              "      <td>0</td>\n",
              "      <td>0</td>\n",
              "      <td>0</td>\n",
              "      <td>186.21</td>\n",
              "      <td>29.0</td>\n",
              "      <td>2</td>\n",
              "      <td>1</td>\n",
              "    </tr>\n",
              "  </tbody>\n",
              "</table>\n",
              "</div>\n",
              "      <button class=\"colab-df-convert\" onclick=\"convertToInteractive('df-e7c2b90b-0f16-4031-a96f-909590bb4bfa')\"\n",
              "              title=\"Convert this dataframe to an interactive table.\"\n",
              "              style=\"display:none;\">\n",
              "        \n",
              "  <svg xmlns=\"http://www.w3.org/2000/svg\" height=\"24px\"viewBox=\"0 0 24 24\"\n",
              "       width=\"24px\">\n",
              "    <path d=\"M0 0h24v24H0V0z\" fill=\"none\"/>\n",
              "    <path d=\"M18.56 5.44l.94 2.06.94-2.06 2.06-.94-2.06-.94-.94-2.06-.94 2.06-2.06.94zm-11 1L8.5 8.5l.94-2.06 2.06-.94-2.06-.94L8.5 2.5l-.94 2.06-2.06.94zm10 10l.94 2.06.94-2.06 2.06-.94-2.06-.94-.94-2.06-.94 2.06-2.06.94z\"/><path d=\"M17.41 7.96l-1.37-1.37c-.4-.4-.92-.59-1.43-.59-.52 0-1.04.2-1.43.59L10.3 9.45l-7.72 7.72c-.78.78-.78 2.05 0 2.83L4 21.41c.39.39.9.59 1.41.59.51 0 1.02-.2 1.41-.59l7.78-7.78 2.81-2.81c.8-.78.8-2.07 0-2.86zM5.41 20L4 18.59l7.72-7.72 1.47 1.35L5.41 20z\"/>\n",
              "  </svg>\n",
              "      </button>\n",
              "      \n",
              "  <style>\n",
              "    .colab-df-container {\n",
              "      display:flex;\n",
              "      flex-wrap:wrap;\n",
              "      gap: 12px;\n",
              "    }\n",
              "\n",
              "    .colab-df-convert {\n",
              "      background-color: #E8F0FE;\n",
              "      border: none;\n",
              "      border-radius: 50%;\n",
              "      cursor: pointer;\n",
              "      display: none;\n",
              "      fill: #1967D2;\n",
              "      height: 32px;\n",
              "      padding: 0 0 0 0;\n",
              "      width: 32px;\n",
              "    }\n",
              "\n",
              "    .colab-df-convert:hover {\n",
              "      background-color: #E2EBFA;\n",
              "      box-shadow: 0px 1px 2px rgba(60, 64, 67, 0.3), 0px 1px 3px 1px rgba(60, 64, 67, 0.15);\n",
              "      fill: #174EA6;\n",
              "    }\n",
              "\n",
              "    [theme=dark] .colab-df-convert {\n",
              "      background-color: #3B4455;\n",
              "      fill: #D2E3FC;\n",
              "    }\n",
              "\n",
              "    [theme=dark] .colab-df-convert:hover {\n",
              "      background-color: #434B5C;\n",
              "      box-shadow: 0px 1px 3px 1px rgba(0, 0, 0, 0.15);\n",
              "      filter: drop-shadow(0px 1px 2px rgba(0, 0, 0, 0.3));\n",
              "      fill: #FFFFFF;\n",
              "    }\n",
              "  </style>\n",
              "\n",
              "      <script>\n",
              "        const buttonEl =\n",
              "          document.querySelector('#df-e7c2b90b-0f16-4031-a96f-909590bb4bfa button.colab-df-convert');\n",
              "        buttonEl.style.display =\n",
              "          google.colab.kernel.accessAllowed ? 'block' : 'none';\n",
              "\n",
              "        async function convertToInteractive(key) {\n",
              "          const element = document.querySelector('#df-e7c2b90b-0f16-4031-a96f-909590bb4bfa');\n",
              "          const dataTable =\n",
              "            await google.colab.kernel.invokeFunction('convertToInteractive',\n",
              "                                                     [key], {});\n",
              "          if (!dataTable) return;\n",
              "\n",
              "          const docLinkHtml = 'Like what you see? Visit the ' +\n",
              "            '<a target=\"_blank\" href=https://colab.research.google.com/notebooks/data_table.ipynb>data table notebook</a>'\n",
              "            + ' to learn more about interactive tables.';\n",
              "          element.innerHTML = '';\n",
              "          dataTable['output_type'] = 'display_data';\n",
              "          await google.colab.output.renderOutput(dataTable, element);\n",
              "          const docLink = document.createElement('div');\n",
              "          docLink.innerHTML = docLinkHtml;\n",
              "          element.appendChild(docLink);\n",
              "        }\n",
              "      </script>\n",
              "    </div>\n",
              "  </div>\n",
              "  "
            ]
          },
          "metadata": {},
          "execution_count": 230
        }
      ]
    },
    {
      "cell_type": "code",
      "source": [
        "# seperating the data and labels\n",
        "X = stroke_data.drop(columns = ['stroke'], axis = 1)\n",
        "Y = stroke_data['stroke']"
      ],
      "metadata": {
        "id": "-L6N5L7H7NpO"
      },
      "execution_count": 231,
      "outputs": []
    },
    {
      "cell_type": "code",
      "source": [
        "print(X)"
      ],
      "metadata": {
        "colab": {
          "base_uri": "https://localhost:8080/"
        },
        "id": "jP2d5l35_tuY",
        "outputId": "f3ce1e16-7956-4c14-b49a-e7c96d4a29e5"
      },
      "execution_count": 232,
      "outputs": [
        {
          "output_type": "stream",
          "name": "stdout",
          "text": [
            "         id  gender   age  hypertension  heart_disease  ever_married  \\\n",
            "0      9046       1  67.0             0              1             0   \n",
            "2     31112       1  80.0             0              1             0   \n",
            "3     60182       0  49.0             0              0             0   \n",
            "4      1665       0  79.0             1              0             0   \n",
            "5     56669       1  81.0             0              0             0   \n",
            "...     ...     ...   ...           ...            ...           ...   \n",
            "5104  14180       0  13.0             0              0             1   \n",
            "5106  44873       0  81.0             0              0             0   \n",
            "5107  19723       0  35.0             0              0             0   \n",
            "5108  37544       1  51.0             0              0             0   \n",
            "5109  44679       0  44.0             0              0             0   \n",
            "\n",
            "      work_type  Residence_type  avg_glucose_level   bmi  smoking_status  \n",
            "0             0               0             228.69  36.6               2  \n",
            "2             0               1             105.92  32.5               0  \n",
            "3             0               0             171.23  34.4               3  \n",
            "4             1               1             174.12  24.0               0  \n",
            "5             0               0             186.21  29.0               2  \n",
            "...         ...             ...                ...   ...             ...  \n",
            "5104          2               1             103.08  18.6               1  \n",
            "5106          1               0             125.20  40.0               0  \n",
            "5107          1               1              82.99  30.6               0  \n",
            "5108          0               1             166.29  25.6               2  \n",
            "5109          3               0              85.28  26.2               1  \n",
            "\n",
            "[4909 rows x 11 columns]\n"
          ]
        }
      ]
    },
    {
      "cell_type": "code",
      "source": [
        "print(Y)"
      ],
      "metadata": {
        "colab": {
          "base_uri": "https://localhost:8080/"
        },
        "id": "0Jv1W7sZ_u-0",
        "outputId": "1decba95-0f2c-4474-df34-d231f27151fa"
      },
      "execution_count": 233,
      "outputs": [
        {
          "output_type": "stream",
          "name": "stdout",
          "text": [
            "0       1\n",
            "2       1\n",
            "3       1\n",
            "4       1\n",
            "5       1\n",
            "       ..\n",
            "5104    0\n",
            "5106    0\n",
            "5107    0\n",
            "5108    0\n",
            "5109    0\n",
            "Name: stroke, Length: 4909, dtype: int64\n"
          ]
        }
      ]
    },
    {
      "cell_type": "markdown",
      "source": [
        "**DATA VISUALIZATION**"
      ],
      "metadata": {
        "id": "q31HvwLoHuON"
      }
    },
    {
      "cell_type": "code",
      "source": [
        "# gender and stroke\n",
        "sns.countplot(x = 'gender', hue = 'stroke', data = stroke_data)"
      ],
      "metadata": {
        "colab": {
          "base_uri": "https://localhost:8080/",
          "height": 296
        },
        "id": "jsggRnK5Hxem",
        "outputId": "c8c9f579-58be-4235-d9f8-97ed7d97bfe8"
      },
      "execution_count": 234,
      "outputs": [
        {
          "output_type": "execute_result",
          "data": {
            "text/plain": [
              "<matplotlib.axes._subplots.AxesSubplot at 0x7f91c97eda10>"
            ]
          },
          "metadata": {},
          "execution_count": 234
        },
        {
          "output_type": "display_data",
          "data": {
            "text/plain": [
              "<Figure size 432x288 with 1 Axes>"
            ],
            "image/png": "[encoded data removed]"
          },
          "metadata": {
            "needs_background": "light"
          }
        }
      ]
    },
    {
      "cell_type": "code",
      "source": [
        "# age\n",
        "sns.distplot(stroke_data['age'])"
      ],
      "metadata": {
        "colab": {
          "base_uri": "https://localhost:8080/",
          "height": 351
        },
        "id": "11vuuw6DIExH",
        "outputId": "e1f19436-dd61-4c57-c878-8afed172ca39"
      },
      "execution_count": 235,
      "outputs": [
        {
          "output_type": "stream",
          "name": "stderr",
          "text": [
            "/usr/local/lib/python3.7/dist-packages/seaborn/distributions.py:2619: FutureWarning: `distplot` is a deprecated function and will be removed in a future version. Please adapt your code to use either `displot` (a figure-level function with similar flexibility) or `histplot` (an axes-level function for histograms).\n",
            "  warnings.warn(msg, FutureWarning)\n"
          ]
        },
        {
          "output_type": "execute_result",
          "data": {
            "text/plain": [
              "<matplotlib.axes._subplots.AxesSubplot at 0x7f91c97f64d0>"
            ]
          },
          "metadata": {},
          "execution_count": 235
        },
        {
          "output_type": "display_data",
          "data": {
            "text/plain": [
              "<Figure size 432x288 with 1 Axes>"
            ],
            "image/png": "[encoded data removed]"
          },
          "metadata": {
            "needs_background": "light"
          }
        }
      ]
    },
    {
      "cell_type": "code",
      "source": [
        "# hypertension and stroke\n",
        "sns.countplot(x = 'hypertension', hue = 'gender', data = stroke_data)"
      ],
      "metadata": {
        "colab": {
          "base_uri": "https://localhost:8080/",
          "height": 296
        },
        "id": "wrlwq4dAIg6Q",
        "outputId": "8c9311dd-7463-4621-a050-01a90b097bf5"
      },
      "execution_count": 236,
      "outputs": [
        {
          "output_type": "execute_result",
          "data": {
            "text/plain": [
              "<matplotlib.axes._subplots.AxesSubplot at 0x7f91c970cd50>"
            ]
          },
          "metadata": {},
          "execution_count": 236
        },
        {
          "output_type": "display_data",
          "data": {
            "text/plain": [
              "<Figure size 432x288 with 1 Axes>"
            ],
            "image/png": "[encoded data removed]"
          },
          "metadata": {
            "needs_background": "light"
          }
        }
      ]
    },
    {
      "cell_type": "code",
      "source": [
        "# heart disease and stroke\n",
        "sns.countplot(x = 'heart_disease', hue = 'stroke', data = stroke_data)"
      ],
      "metadata": {
        "colab": {
          "base_uri": "https://localhost:8080/",
          "height": 297
        },
        "id": "BfWSH3HUIcb6",
        "outputId": "83ffa086-e6e5-4e45-843c-79cf91d49170"
      },
      "execution_count": 237,
      "outputs": [
        {
          "output_type": "execute_result",
          "data": {
            "text/plain": [
              "<matplotlib.axes._subplots.AxesSubplot at 0x7f91c97aa290>"
            ]
          },
          "metadata": {},
          "execution_count": 237
        },
        {
          "output_type": "display_data",
          "data": {
            "text/plain": [
              "<Figure size 432x288 with 1 Axes>"
            ],
            "image/png": "[encoded data removed]"
          },
          "metadata": {
            "needs_background": "light"
          }
        }
      ]
    },
    {
      "cell_type": "code",
      "source": [
        "sns.countplot(x = 'stroke', data = stroke_data)"
      ],
      "metadata": {
        "id": "gNfQT_HDMJdg",
        "colab": {
          "base_uri": "https://localhost:8080/",
          "height": 296
        },
        "outputId": "d42df2f3-5c7b-4cd9-e7b7-004a125137a1"
      },
      "execution_count": 238,
      "outputs": [
        {
          "output_type": "execute_result",
          "data": {
            "text/plain": [
              "<matplotlib.axes._subplots.AxesSubplot at 0x7f91c9651cd0>"
            ]
          },
          "metadata": {},
          "execution_count": 238
        },
        {
          "output_type": "display_data",
          "data": {
            "text/plain": [
              "<Figure size 432x288 with 1 Axes>"
            ],
            "image/png": "[encoded data removed]"
          },
          "metadata": {
            "needs_background": "light"
          }
        }
      ]
    },
    {
      "cell_type": "code",
      "source": [
        "sns.catplot(x = 'ever_married', data = stroke_data, kind = 'count')"
      ],
      "metadata": {
        "id": "wlR-k3YsLnzg",
        "colab": {
          "base_uri": "https://localhost:8080/",
          "height": 386
        },
        "outputId": "64beeccf-3a29-4c0b-a298-848b5a88d734"
      },
      "execution_count": 239,
      "outputs": [
        {
          "output_type": "execute_result",
          "data": {
            "text/plain": [
              "<seaborn.axisgrid.FacetGrid at 0x7f91c96d6450>"
            ]
          },
          "metadata": {},
          "execution_count": 239
        },
        {
          "output_type": "display_data",
          "data": {
            "text/plain": [
              "<Figure size 360x360 with 1 Axes>"
            ],
            "image/png": "[encoded data removed]"
          },
          "metadata": {
            "needs_background": "light"
          }
        }
      ]
    },
    {
      "cell_type": "code",
      "source": [
        "sns.barplot(x = 'work_type', y = 'stroke', data = stroke_data)"
      ],
      "metadata": {
        "id": "z4lQVQC1Lh5l",
        "colab": {
          "base_uri": "https://localhost:8080/",
          "height": 297
        },
        "outputId": "31797db7-c434-4c6e-f80b-f8c4f50e767a"
      },
      "execution_count": 240,
      "outputs": [
        {
          "output_type": "execute_result",
          "data": {
            "text/plain": [
              "<matplotlib.axes._subplots.AxesSubplot at 0x7f91c95a5250>"
            ]
          },
          "metadata": {},
          "execution_count": 240
        },
        {
          "output_type": "display_data",
          "data": {
            "text/plain": [
              "<Figure size 432x288 with 1 Axes>"
            ],
            "image/png": "[encoded data removed]"
          },
          "metadata": {
            "needs_background": "light"
          }
        }
      ]
    },
    {
      "cell_type": "code",
      "source": [
        "sns.barplot(x = 'smoking_status', y = 'stroke', data = stroke_data)"
      ],
      "metadata": {
        "colab": {
          "base_uri": "https://localhost:8080/",
          "height": 297
        },
        "id": "Od4ei6CASNQB",
        "outputId": "77a11a5d-82fe-44a8-f2d9-34077920c43a"
      },
      "execution_count": 241,
      "outputs": [
        {
          "output_type": "execute_result",
          "data": {
            "text/plain": [
              "<matplotlib.axes._subplots.AxesSubplot at 0x7f91c94ff4d0>"
            ]
          },
          "metadata": {},
          "execution_count": 241
        },
        {
          "output_type": "display_data",
          "data": {
            "text/plain": [
              "<Figure size 432x288 with 1 Axes>"
            ],
            "image/png": "[encoded data removed]"
          },
          "metadata": {
            "needs_background": "light"
          }
        }
      ]
    },
    {
      "cell_type": "code",
      "source": [
        "sns.distplot(stroke_data['bmi'])"
      ],
      "metadata": {
        "colab": {
          "base_uri": "https://localhost:8080/",
          "height": 351
        },
        "id": "BwbHZv8ES3lL",
        "outputId": "b5814475-4ade-43b5-9863-e35487e3a6ab"
      },
      "execution_count": 242,
      "outputs": [
        {
          "output_type": "stream",
          "name": "stderr",
          "text": [
            "/usr/local/lib/python3.7/dist-packages/seaborn/distributions.py:2619: FutureWarning: `distplot` is a deprecated function and will be removed in a future version. Please adapt your code to use either `displot` (a figure-level function with similar flexibility) or `histplot` (an axes-level function for histograms).\n",
            "  warnings.warn(msg, FutureWarning)\n"
          ]
        },
        {
          "output_type": "execute_result",
          "data": {
            "text/plain": [
              "<matplotlib.axes._subplots.AxesSubplot at 0x7f91c948ea10>"
            ]
          },
          "metadata": {},
          "execution_count": 242
        },
        {
          "output_type": "display_data",
          "data": {
            "text/plain": [
              "<Figure size 432x288 with 1 Axes>"
            ],
            "image/png": "[encoded data removed]"
          },
          "metadata": {
            "needs_background": "light"
          }
        }
      ]
    },
    {
      "cell_type": "code",
      "source": [
        "sns.distplot(stroke_data['avg_glucose_level'])"
      ],
      "metadata": {
        "colab": {
          "base_uri": "https://localhost:8080/",
          "height": 352
        },
        "id": "3crb3JN0TXSK",
        "outputId": "c4e9c7e9-6052-467a-a0e6-955a51062b3c"
      },
      "execution_count": 243,
      "outputs": [
        {
          "output_type": "stream",
          "name": "stderr",
          "text": [
            "/usr/local/lib/python3.7/dist-packages/seaborn/distributions.py:2619: FutureWarning: `distplot` is a deprecated function and will be removed in a future version. Please adapt your code to use either `displot` (a figure-level function with similar flexibility) or `histplot` (an axes-level function for histograms).\n",
            "  warnings.warn(msg, FutureWarning)\n"
          ]
        },
        {
          "output_type": "execute_result",
          "data": {
            "text/plain": [
              "<matplotlib.axes._subplots.AxesSubplot at 0x7f91c9496650>"
            ]
          },
          "metadata": {},
          "execution_count": 243
        },
        {
          "output_type": "display_data",
          "data": {
            "text/plain": [
              "<Figure size 432x288 with 1 Axes>"
            ],
            "image/png": "[encoded data removed]"
          },
          "metadata": {
            "needs_background": "light"
          }
        }
      ]
    },
    {
      "cell_type": "code",
      "source": [
        "#Train and Test Split\n",
        "X_train, X_test, Y_train, Y_test = train_test_split(X, Y, test_size = 0.1, stratify = Y, random_state = 2)"
      ],
      "metadata": {
        "id": "Ko4239ub_4T9"
      },
      "execution_count": 244,
      "outputs": []
    },
    {
      "cell_type": "code",
      "source": [
        "print(X.shape, X_train.shape, X_test.shape)"
      ],
      "metadata": {
        "colab": {
          "base_uri": "https://localhost:8080/"
        },
        "id": "dF9kIx97AMoh",
        "outputId": "0205aad4-54cb-46e6-c221-4efed541e3e0"
      },
      "execution_count": 245,
      "outputs": [
        {
          "output_type": "stream",
          "name": "stdout",
          "text": [
            "(4909, 11) (4418, 11) (491, 11)\n"
          ]
        }
      ]
    },
    {
      "cell_type": "code",
      "source": [
        "print(X_train)"
      ],
      "metadata": {
        "colab": {
          "base_uri": "https://localhost:8080/"
        },
        "id": "BOG80Ng9AQzM",
        "outputId": "6f474fb0-174b-4bfd-d70b-0cf085a0d65c"
      },
      "execution_count": 246,
      "outputs": [
        {
          "output_type": "stream",
          "name": "stdout",
          "text": [
            "         id  gender   age  hypertension  heart_disease  ever_married  \\\n",
            "2128  56420       1  17.0             1              0             1   \n",
            "2180  57270       0  57.0             0              0             0   \n",
            "3479   3167       1  53.0             0              1             0   \n",
            "4288  47886       0  43.0             1              0             0   \n",
            "521   17242       1  67.0             0              0             0   \n",
            "...     ...     ...   ...           ...            ...           ...   \n",
            "4430  60964       0  71.0             1              0             0   \n",
            "1460  13736       1  24.0             0              0             0   \n",
            "3286   3984       0  33.0             0              0             0   \n",
            "1092  67603       1  70.0             0              0             0   \n",
            "3981  69404       1  73.0             0              0             0   \n",
            "\n",
            "      work_type  Residence_type  avg_glucose_level   bmi  smoking_status  \n",
            "2128          0               1              61.67  97.6               1  \n",
            "2180          0               1             189.44  35.8               0  \n",
            "3479          0               0              91.57  30.1               2  \n",
            "4288          3               1              56.94  45.3               1  \n",
            "521           1               0              68.52  26.2               0  \n",
            "...         ...             ...                ...   ...             ...  \n",
            "4430          3               1             105.72  29.1               2  \n",
            "1460          0               0              94.66  32.1               2  \n",
            "3286          0               1              84.13  26.3               0  \n",
            "1092          1               0             223.68  34.3               2  \n",
            "3981          3               1              76.45  28.7               1  \n",
            "\n",
            "[4418 rows x 11 columns]\n"
          ]
        }
      ]
    },
    {
      "cell_type": "code",
      "source": [
        "print(Y_train)"
      ],
      "metadata": {
        "colab": {
          "base_uri": "https://localhost:8080/"
        },
        "id": "Qa_FpxHYASUk",
        "outputId": "ed254185-e8be-4189-e3e5-83ce6df7ef89"
      },
      "execution_count": 247,
      "outputs": [
        {
          "output_type": "stream",
          "name": "stdout",
          "text": [
            "2128    0\n",
            "2180    0\n",
            "3479    0\n",
            "4288    0\n",
            "521     0\n",
            "       ..\n",
            "4430    0\n",
            "1460    0\n",
            "3286    0\n",
            "1092    0\n",
            "3981    0\n",
            "Name: stroke, Length: 4418, dtype: int64\n"
          ]
        }
      ]
    },
    {
      "cell_type": "markdown",
      "source": [
        "**MODEL TRAINING**"
      ],
      "metadata": {
        "id": "bgQ2EFfwAY4D"
      }
    },
    {
      "cell_type": "code",
      "source": [
        "classifier = svm.SVC(kernel = 'linear')"
      ],
      "metadata": {
        "id": "le-w26uYAbbH"
      },
      "execution_count": 248,
      "outputs": []
    },
    {
      "cell_type": "code",
      "source": [
        "classifier.fit(X_train, Y_train)"
      ],
      "metadata": {
        "colab": {
          "base_uri": "https://localhost:8080/"
        },
        "id": "fxV9WkekAkDO",
        "outputId": "fa5e042b-c6c4-4714-928f-c2ca70697adb"
      },
      "execution_count": 249,
      "outputs": [
        {
          "output_type": "execute_result",
          "data": {
            "text/plain": [
              "SVC(kernel='linear')"
            ]
          },
          "metadata": {},
          "execution_count": 249
        }
      ]
    },
    {
      "cell_type": "markdown",
      "source": [
        "**MODEL EVALUATION**"
      ],
      "metadata": {
        "id": "VJuNSPaSGZwY"
      }
    },
    {
      "cell_type": "code",
      "source": [
        "# accuracy on training data\n",
        "training_data_prediction = classifier.predict(X_train)\n",
        "training_data_accuracy = accuracy_score(training_data_prediction, Y_train)"
      ],
      "metadata": {
        "id": "fv74MnjVGkr3"
      },
      "execution_count": 250,
      "outputs": []
    },
    {
      "cell_type": "code",
      "source": [
        "print('Accuracy of training data: ', training_data_accuracy)"
      ],
      "metadata": {
        "colab": {
          "base_uri": "https://localhost:8080/"
        },
        "id": "km9sZ1KrG8nw",
        "outputId": "50ec8c39-aeea-44e6-ca33-cccf8770eaae"
      },
      "execution_count": 251,
      "outputs": [
        {
          "output_type": "stream",
          "name": "stdout",
          "text": [
            "Accuracy of training data:  0.9520144861928475\n"
          ]
        }
      ]
    },
    {
      "cell_type": "code",
      "source": [
        "# accuracy of testing data\n",
        "testing_data_prediction = classifier.predict(X_test)\n",
        "testing_data_accuracy = accuracy_score(testing_data_prediction, Y_test)"
      ],
      "metadata": {
        "id": "LwybFqqEHE7k"
      },
      "execution_count": 252,
      "outputs": []
    },
    {
      "cell_type": "code",
      "source": [
        "print(' Accuracy of testing data: ', testing_data_accuracy)"
      ],
      "metadata": {
        "colab": {
          "base_uri": "https://localhost:8080/"
        },
        "id": "tReGn0cTHXKa",
        "outputId": "bbabfb5e-e4b9-4f94-fd39-b91d8c270b84"
      },
      "execution_count": 253,
      "outputs": [
        {
          "output_type": "stream",
          "name": "stdout",
          "text": [
            " Accuracy of testing data:  0.9490835030549898\n"
          ]
        }
      ]
    }
  ]
}