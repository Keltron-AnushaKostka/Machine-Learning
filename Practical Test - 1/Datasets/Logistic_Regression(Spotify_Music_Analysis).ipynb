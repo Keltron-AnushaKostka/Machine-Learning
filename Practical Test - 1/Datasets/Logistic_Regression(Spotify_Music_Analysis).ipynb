{
  "nbformat": 4,
  "nbformat_minor": 0,
  "metadata": {
    "colab": {
      "provenance": []
    },
    "kernelspec": {
      "name": "python3",
      "display_name": "Python 3"
    },
    "language_info": {
      "name": "python"
    }
  },
  "cells": [
    {
      "cell_type": "markdown",
      "source": [
        "# **Homework**"
      ],
      "metadata": {
        "id": "c1aGHrw5pKFo"
      }
    },
    {
      "cell_type": "markdown",
      "source": [
        "# **Spotify Music Analysis**"
      ],
      "metadata": {
        "id": "Ps2glF6jpX0V"
      }
    },
    {
      "cell_type": "code",
      "source": [
        "import numpy as np\n",
        "import pandas as pd\n",
        "import matplotlib.pyplot as plt\n",
        "import seaborn as sns\n",
        "from sklearn.model_selection import train_test_split\n",
        "from sklearn.linear_model import LogisticRegression\n",
        "from sklearn.metrics import accuracy_score"
      ],
      "metadata": {
        "id": "qctf92gsph0s"
      },
      "execution_count": 4,
      "outputs": []
    },
    {
      "cell_type": "code",
      "source": [
        "from google.colab import files\n",
        "files.upload()"
      ],
      "metadata": {
        "colab": {
          "base_uri": "https://localhost:8080/",
          "height": 1000
        },
        "id": "1j4SV0q2qPCQ",
        "outputId": "80af6bb0-7c98-4caa-b0c7-6aa5835d4d17"
      },
      "execution_count": 5,
      "outputs": [
        {
          "output_type": "display_data",
          "data": {
            "text/plain": [
              "<IPython.core.display.HTML object>"
            ],
            "text/html": [
              "\n",
              "     <input type=\"file\" id=\"files-d083ec86-726a-440d-89ab-acad441d0d88\" name=\"files[]\" multiple disabled\n",
              "        style=\"border:none\" />\n",
              "     <output id=\"result-d083ec86-726a-440d-89ab-acad441d0d88\">\n",
              "      Upload widget is only available when the cell has been executed in the\n",
              "      current browser session. Please rerun this cell to enable.\n",
              "      </output>\n",
              "      <script>// Copyright 2017 Google LLC\n",
              "//\n",
              "// Licensed under the Apache License, Version 2.0 (the \"License\");\n",
              "// you may not use this file except in compliance with the License.\n",
              "// You may obtain a copy of the License at\n",
              "//\n",
              "//      http://www.apache.org/licenses/LICENSE-2.0\n",
              "//\n",
              "// Unless required by applicable law or agreed to in writing, software\n",
              "// distributed under the License is distributed on an \"AS IS\" BASIS,\n",
              "// WITHOUT WARRANTIES OR CONDITIONS OF ANY KIND, either express or implied.\n",
              "// See the License for the specific language governing permissions and\n",
              "// limitations under the License.\n",
              "\n",
              "/**\n",
              " * @fileoverview Helpers for google.colab Python module.\n",
              " */\n",
              "(function(scope) {\n",
              "function span(text, styleAttributes = {}) {\n",
              "  const element = document.createElement('span');\n",
              "  element.textContent = text;\n",
              "  for (const key of Object.keys(styleAttributes)) {\n",
              "    element.style[key] = styleAttributes[key];\n",
              "  }\n",
              "  return element;\n",
              "}\n",
              "\n",
              "// Max number of bytes which will be uploaded at a time.\n",
              "const MAX_PAYLOAD_SIZE = 100 * 1024;\n",
              "\n",
              "function _uploadFiles(inputId, outputId) {\n",
              "  const steps = uploadFilesStep(inputId, outputId);\n",
              "  const outputElement = document.getElementById(outputId);\n",
              "  // Cache steps on the outputElement to make it available for the next call\n",
              "  // to uploadFilesContinue from Python.\n",
              "  outputElement.steps = steps;\n",
              "\n",
              "  return _uploadFilesContinue(outputId);\n",
              "}\n",
              "\n",
              "// This is roughly an async generator (not supported in the browser yet),\n",
              "// where there are multiple asynchronous steps and the Python side is going\n",
              "// to poll for completion of each step.\n",
              "// This uses a Promise to block the python side on completion of each step,\n",
              "// then passes the result of the previous step as the input to the next step.\n",
              "function _uploadFilesContinue(outputId) {\n",
              "  const outputElement = document.getElementById(outputId);\n",
              "  const steps = outputElement.steps;\n",
              "\n",
              "  const next = steps.next(outputElement.lastPromiseValue);\n",
              "  return Promise.resolve(next.value.promise).then((value) => {\n",
              "    // Cache the last promise value to make it available to the next\n",
              "    // step of the generator.\n",
              "    outputElement.lastPromiseValue = value;\n",
              "    return next.value.response;\n",
              "  });\n",
              "}\n",
              "\n",
              "/**\n",
              " * Generator function which is called between each async step of the upload\n",
              " * process.\n",
              " * @param {string} inputId Element ID of the input file picker element.\n",
              " * @param {string} outputId Element ID of the output display.\n",
              " * @return {!Iterable<!Object>} Iterable of next steps.\n",
              " */\n",
              "function* uploadFilesStep(inputId, outputId) {\n",
              "  const inputElement = document.getElementById(inputId);\n",
              "  inputElement.disabled = false;\n",
              "\n",
              "  const outputElement = document.getElementById(outputId);\n",
              "  outputElement.innerHTML = '';\n",
              "\n",
              "  const pickedPromise = new Promise((resolve) => {\n",
              "    inputElement.addEventListener('change', (e) => {\n",
              "      resolve(e.target.files);\n",
              "    });\n",
              "  });\n",
              "\n",
              "  const cancel = document.createElement('button');\n",
              "  inputElement.parentElement.appendChild(cancel);\n",
              "  cancel.textContent = 'Cancel upload';\n",
              "  const cancelPromise = new Promise((resolve) => {\n",
              "    cancel.onclick = () => {\n",
              "      resolve(null);\n",
              "    };\n",
              "  });\n",
              "\n",
              "  // Wait for the user to pick the files.\n",
              "  const files = yield {\n",
              "    promise: Promise.race([pickedPromise, cancelPromise]),\n",
              "    response: {\n",
              "      action: 'starting',\n",
              "    }\n",
              "  };\n",
              "\n",
              "  cancel.remove();\n",
              "\n",
              "  // Disable the input element since further picks are not allowed.\n",
              "  inputElement.disabled = true;\n",
              "\n",
              "  if (!files) {\n",
              "    return {\n",
              "      response: {\n",
              "        action: 'complete',\n",
              "      }\n",
              "    };\n",
              "  }\n",
              "\n",
              "  for (const file of files) {\n",
              "    const li = document.createElement('li');\n",
              "    li.append(span(file.name, {fontWeight: 'bold'}));\n",
              "    li.append(span(\n",
              "        `(${file.type || 'n/a'}) - ${file.size} bytes, ` +\n",
              "        `last modified: ${\n",
              "            file.lastModifiedDate ? file.lastModifiedDate.toLocaleDateString() :\n",
              "                                    'n/a'} - `));\n",
              "    const percent = span('0% done');\n",
              "    li.appendChild(percent);\n",
              "\n",
              "    outputElement.appendChild(li);\n",
              "\n",
              "    const fileDataPromise = new Promise((resolve) => {\n",
              "      const reader = new FileReader();\n",
              "      reader.onload = (e) => {\n",
              "        resolve(e.target.result);\n",
              "      };\n",
              "      reader.readAsArrayBuffer(file);\n",
              "    });\n",
              "    // Wait for the data to be ready.\n",
              "    let fileData = yield {\n",
              "      promise: fileDataPromise,\n",
              "      response: {\n",
              "        action: 'continue',\n",
              "      }\n",
              "    };\n",
              "\n",
              "    // Use a chunked sending to avoid message size limits. See b/62115660.\n",
              "    let position = 0;\n",
              "    do {\n",
              "      const length = Math.min(fileData.byteLength - position, MAX_PAYLOAD_SIZE);\n",
              "      const chunk = new Uint8Array(fileData, position, length);\n",
              "      position += length;\n",
              "\n",
              "      const base64 = btoa(String.fromCharCode.apply(null, chunk));\n",
              "      yield {\n",
              "        response: {\n",
              "          action: 'append',\n",
              "          file: file.name,\n",
              "          data: base64,\n",
              "        },\n",
              "      };\n",
              "\n",
              "      let percentDone = fileData.byteLength === 0 ?\n",
              "          100 :\n",
              "          Math.round((position / fileData.byteLength) * 100);\n",
              "      percent.textContent = `${percentDone}% done`;\n",
              "\n",
              "    } while (position < fileData.byteLength);\n",
              "  }\n",
              "\n",
              "  // All done.\n",
              "  yield {\n",
              "    response: {\n",
              "      action: 'complete',\n",
              "    }\n",
              "  };\n",
              "}\n",
              "\n",
              "scope.google = scope.google || {};\n",
              "scope.google.colab = scope.google.colab || {};\n",
              "scope.google.colab._files = {\n",
              "  _uploadFiles,\n",
              "  _uploadFilesContinue,\n",
              "};\n",
              "})(self);\n",
              "</script> "
            ]
          },
          "metadata": {}
        },
        {
          "output_type": "stream",
          "name": "stdout",
          "text": [
            "Saving music_data.csv to music_data.csv\n"
          ]
        },
        {
          "output_type": "execute_result",
          "data": {
            "text/plain": [
              "{'music_data.csv': b',acousticness,danceability,duration_ms,energy,instrumentalness,key,liveness,loudness,mode,speechiness,tempo,time_signature,valence,target,song_title,artist\\r\\n0,0.0102,0.833,204600,0.434,0.0219,2,0.165,-8.795,1,0.431,150.062,4,0.286,1,Mask Off,Future\\r\\n1,0.199,0.743,326933,0.359,0.00611,1,0.137,-10.401,1,0.0794,160.083,4,0.588,1,Redbone,Childish Gambino\\r\\n2,0.0344,0.838,185707,0.412,0.000234,2,0.159,-7.148,1,0.289,75.044,4,0.173,1,Xanny Family,Future\\r\\n3,0.604,0.494,199413,0.338,0.51,5,0.0922,-15.236,1,0.0261,86.468,4,0.23,1,Master Of None,Beach House\\r\\n4,0.18,0.678,392893,0.561,0.512,5,0.439,-11.648,0,0.0694,174.004,4,0.904,1,Parallel Lines,Junior Boys\\r\\n5,0.00479,0.804,251333,0.56,0,8,0.164,-6.682,1,0.185,85.023,4,0.264,1,Sneakin\\xe2\\x80\\x99,Drake\\r\\n6,0.0145,0.739,241400,0.472,7.27E-06,1,0.207,-11.204,1,0.156,80.03,4,0.308,1,Childs Play,Drake\\r\\n7,0.0202,0.266,349667,0.348,0.664,10,0.16,-11.609,0,0.0371,144.154,4,0.393,1,Gy\\xc3\\xb6ngyhaj\\xc3\\xba l\\xc3\\xa1ny,Omega\\r\\n8,0.0481,0.603,202853,0.944,0,11,0.342,-3.626,0,0.347,130.035,4,0.398,1,I\\'ve Seen Footage,Death Grips\\r\\n9,0.00208,0.836,226840,0.603,0,7,0.571,-7.792,1,0.237,99.994,4,0.386,1,Digital Animal,Honey Claws\\r\\n10,0.0572,0.525,358187,0.855,0.0143,5,0.649,-7.372,0,0.0548,111.951,3,0.524,1,Subways - In Flagranti Extended Edit,The Avalanches\\r\\n11,0.0915,0.753,324880,0.748,0.00348,10,0.212,-8.62,1,0.0494,104.322,4,0.642,1,Donme Dolap - Baris K Edit,Modern Folk \\xc3\\x9c\\xc3\\xa7l\\xc3\\xbcs\\xc3\\xbc\\r\\n12,0.253,0.603,356973,0.434,0.0619,0,0.108,-11.062,1,0.0342,127.681,4,0.381,1,Cemalim,Erkin Koray\\r\\n13,0.366,0.762,243270,0.476,0,0,0.103,-12.686,1,0.114,130.007,4,0.367,1,One Night,Lil Yachty\\r\\n14,0.44,0.662,247288,0.603,0,9,0.0972,-8.317,0,0.0793,125.011,4,0.351,1,Oh lala,PNL\\r\\n15,0.019,0.637,188333,0.832,0.0563,6,0.316,-6.637,1,0.163,99.988,4,0.317,1,Char,Crystal Castles\\r\\n16,0.0239,0.603,270827,0.955,0.0451,1,0.119,-4.111,1,0.0458,123.922,4,0.773,1,World In Motion,New Order\\r\\n17,0.233,0.789,447907,0.659,0.00049,4,0.184,-12.654,0,0.0429,122.415,4,0.842,1,One Nation Under a Groove,Funkadelic\\r\\n18,0.314,0.713,195429,0.611,0,1,0.117,-6.702,0,0.241,140.061,4,0.783,1,Bouncin,Chief Keef\\r\\n19,0.0242,0.735,214347,0.759,0.185,1,0.0966,-6.914,0,0.0449,109.982,4,0.763,1,C O O L - Radio Edit,Le Youth\\r\\n20,0.000702,0.854,249253,0.719,0.308,10,0.428,-9.335,0,0.0655,128.049,4,0.471,1,Percolator (Jamie Jones Vault Mix) - mixed,Cajmere\\r\\n21,0.00024,0.747,307680,0.74,0.369,1,0.0995,-4.134,1,0.0323,130.031,4,0.77,1,House of Jealous Lovers,The Rapture\\r\\n22,0.118,0.854,287086,0.401,0,9,0.527,-8.553,1,0.395,139.922,4,0.441,1,Imma Ride,Young Thug\\r\\n23,0.000596,0.224,132760,0.925,1.35E-06,11,0.0663,-1.71,0,0.0834,138.022,4,0.364,1,Girlfriend,Ty Segall\\r\\n24,0.279,0.512,203400,0.564,1.54E-05,10,0.133,-5.892,1,0.0316,94.498,4,0.401,1,If I Gave You My Love,Myron & E\\r\\n25,0.00219,0.781,205160,0.795,0.269,7,0.0673,-6.758,1,0.036,109.977,4,0.795,1,This Ready Flesh,TR/ST\\r\\n26,0.341,0.411,199500,0.684,1.42E-06,11,0.198,-6.889,0,0.383,110.016,4,0.598,1,Lose My Mind,A-Trak\\r\\n27,0.018,0.646,188333,0.837,0.0403,6,0.316,-6.615,1,0.134,100.04,4,0.32,1,Char,Crystal Castles\\r\\n28,0.0516,0.782,228562,0.572,0,4,0.33,-7.467,0,0.0385,120.021,4,0.237,1,Look Alive,Rae Sremmurd\\r\\n29,0.282,0.735,186096,0.4,0.125,1,0.0811,-12.766,1,0.102,129.004,4,0.326,1,Please Stop Making Fake Versace,Father\\r\\n30,0.00791,0.45,220934,0.449,0,2,0.173,-12.037,1,0.156,135.45,4,0.137,1,Milly Rock,2milly\\r\\n31,0.0219,0.897,285240,0.642,1.31E-06,2,0.159,-8.828,1,0.0534,127.984,4,0.27,1,Blas\\xc3\\xa9 (feat. Future & Rae Sremmurd),Ty Dolla $ign\\r\\n32,0.0358,0.959,213000,0.598,0,8,0.358,-5.534,1,0.0713,127.029,4,0.424,1,Best Friend,Young Thug\\r\\n33,0.0324,0.742,280831,0.559,0,5,0.0987,-5.876,1,0.141,146.923,4,0.429,1,Hercules,Young Thug\\r\\n34,0.118,0.805,232880,0.687,0,9,0.0842,-7.771,1,0.0458,119.999,4,0.683,1,Who Be Lovin Me (feat. ILOVEMAKONNEN),Santigold\\r\\n35,0.0428,0.667,230693,0.581,0,0,0.183,-5.164,0,0.323,110.953,4,0.372,1,Check,Young Thug\\r\\n36,0.297,0.722,175613,0.823,0,7,0.489,-3.916,1,0.081,148.23,4,0.855,1,Poppin\\' My Collar,Three 6 Mafia\\r\\n37,0.0565,0.853,205879,0.547,0,1,0.341,-7.535,1,0.194,142.065,4,0.677,1,Jumpman,Drake\\r\\n38,0.0128,0.747,213507,0.705,0,9,0.126,-5.137,0,0.126,136.024,4,0.571,1,11-Jul,Beyonc\\xc3\\xa9\\r\\n39,0.135,0.777,237187,0.591,5.50E-05,1,0.126,-7.431,0,0.0327,124.111,4,0.848,1,Somebody\\'s Watching Me,Rockwell\\r\\n40,0.00041,0.731,324541,0.852,0.625,11,0.358,-6.08,1,0.0476,125.008,4,0.622,1,Bang That,Disclosure\\r\\n41,0.00356,0.76,186122,0.402,0,8,0.333,-8.751,1,0.164,147.028,4,0.069,1,I Don\\'t Sell Molly No More,ILoveMakonnen\\r\\n42,0.00156,0.624,183000,0.792,1.54E-06,10,0.0772,-5.33,0,0.0473,139.94,4,0.318,1,Versace Python,Riff Raff\\r\\n43,0.00243,0.621,378893,0.683,0.00856,11,0.525,-5.619,0,0.242,124.283,5,0.0891,1,Monster,Kanye West\\r\\n44,0.533,0.64,234526,0.819,0,7,0.156,-4.108,1,0.455,166.012,4,0.624,1,OOOUUU,Young M.A.\\r\\n45,0.00631,0.715,213093,0.833,0,2,0.164,-5.379,1,0.108,95.487,4,0.607,1,Return Of The Mack - C & J Street Mix,Mark Morrison\\r\\n46,0.00182,0.7,386160,0.756,0.711,2,0.0575,-10.714,1,0.0575,114.28,4,0.947,1,Fantastic Man,William Onyeabor\\r\\n47,0.0923,0.789,175240,0.494,0.000408,1,0.144,-13.702,1,0.0456,104.593,4,0.832,1,Right Place Wrong Time,Dr. John\\r\\n48,0.375,0.796,252547,0.86,0.00457,5,0.0745,-6.202,0,0.0653,129.008,3,0.973,1,Azon de ma gnin kpevi,T. P. Orchestre Poly-Rythmo\\r\\n49,0.183,0.716,576888,0.957,0.058,3,0.182,-4.814,1,0.0689,106.714,4,0.93,1,Odofo Nyi Akyiri Biara,Ebo Taylor\\r\\n50,0.0185,0.74,241341,0.846,0.0624,2,0.254,-6.039,1,0.0808,95.995,4,0.852,1,Annie,Neon Indian\\r\\n51,0.0638,0.7,224480,0.84,0.112,7,0.141,-6.227,0,0.0292,132.475,4,0.745,1,The Chase,Future Islands\\r\\n52,0.456,0.514,215613,0.453,0.000181,6,0.178,-7.062,1,0.0267,75.548,4,0.532,1,Coming Home,Leon Bridges\\r\\n53,0.128,0.313,286960,0.77,0.0787,7,0.0873,-7.265,1,0.0335,74.749,4,0.186,1,Wishes,Beach House\\r\\n54,0.246,0.676,254769,0.528,0,7,0.0803,-8.699,1,0.0366,130.073,4,0.301,1,White Iverson,Post Malone\\r\\n55,0.12,0.532,213622,0.596,0,11,0.504,-9.912,0,0.187,119.296,5,0.486,1,I Know There\\'s Gonna Be (Good Times),Jamie xx\\r\\n56,0.00426,0.646,283067,0.629,0.277,8,0.122,-10.775,0,0.0427,109.013,4,0.176,1,Loud Places,Jamie xx\\r\\n57,0.193,0.598,238307,0.252,0.138,2,0.0992,-15.086,1,0.0647,120.06,4,0.0359,1,L$D,A$AP Rocky\\r\\n58,0.0174,0.754,113373,0.442,9.40E-05,5,0.0622,-8.873,0,0.127,148.04,4,0.599,1,Dopeman,Vince Staples\\r\\n59,0.000392,0.294,311360,0.786,0.865,2,0.272,-3.626,1,0.0378,81.108,4,0.136,1,California Nights,Best Coast\\r\\n60,0.435,0.622,287427,0.253,0.471,2,0.0941,-14.36,1,0.0331,92.584,4,0.328,1,Baby,Ariel Pink\\'s Haunted Graffiti\\r\\n61,0.257,0.559,225347,0.656,0.000171,9,0.2,-8.699,0,0.0469,79.638,4,0.671,1,Ain\\'t No Love In The Heart Of The City - Single Version,\"Bobby \"\"Blue\"\" Bland\"\\r\\n62,0.000145,0.54,293646,0.945,0.753,9,0.667,-6.64,1,0.0406,92.995,4,0.87,1,Fail to Cry,Yacht Club\\r\\n63,0.273,0.793,232251,0.7,0,0,0.174,-6.641,0,0.0572,140.058,4,0.887,1,Evil Friends (feat. Danny Brown) - Jake One Remix,Portugal. The Man\\r\\n64,0.374,0.549,223720,0.715,3.50E-06,1,0.17,-11.164,1,0.0633,82.118,4,0.785,1,Ikimiz Bir Fidaniz - Baris K Edit,Umit Aksu Orkestrasi\\r\\n65,0.00266,0.557,186397,0.607,0.771,0,0.33,-10.088,1,0.0578,73.061,4,0.259,1,Sentimental Trash,Sweet Valley\\r\\n66,0.000546,0.597,279240,0.444,0.051,2,0.335,-8.39,0,0.03,120.074,4,0.361,1,Get Away,CHVRCHES\\r\\n67,0.00781,0.879,213786,0.512,1.45E-05,0,0.134,-7.83,1,0.0775,127.95,4,0.277,1,Look At Wrist,Father\\r\\n68,0.125,0.726,334173,0.497,0.89,10,0.104,-10.742,0,0.0433,125.004,4,0.472,1,Our Love,Caribou\\r\\n69,0.00158,0.857,134062,0.831,0,2,0.154,-4.664,1,0.0995,106.059,4,0.251,1,I Ain\\'t Trippin off Nothin,Ezale\\r\\n70,0.0132,0.807,330920,0.778,0.666,0,0.109,-5.485,1,0.0399,120.001,4,0.797,1,They Don\\'t Know - Original Mix,Disciples\\r\\n71,0.783,0.596,196627,0.639,0.569,0,0.331,-6.546,1,0.03,124.012,4,0.197,1,Sabali,Amadou & Mariam\\r\\n72,0.518,0.683,155133,0.708,2.08E-05,4,0.175,-6.852,0,0.0289,106.446,4,0.967,1,Spooky,Dusty Springfield\\r\\n73,0.0548,0.768,239908,0.853,0.13,10,0.0188,-5.915,0,0.0427,107.234,4,0.887,1,Pick Up The Pieces,Average White Band\\r\\n74,0.727,0.506,160400,0.948,0,10,0.0904,-5.626,1,0.105,130.195,4,0.936,1,Have Love Will Travel,The Sonics\\r\\n75,0.000313,0.457,293533,0.918,0.000215,11,0.769,-5.295,0,0.0471,105.018,4,0.297,1,Capitol,TR/ST\\r\\n76,0.34,0.468,386760,0.58,0.821,7,0.0737,-8.131,1,0.0278,76.27,4,0.324,1,Uncast Shadow Of A Southern Myth,Parquet Courts\\r\\n77,0.47,0.537,232453,0.447,1.86E-05,9,0.0519,-8.261,1,0.0289,84.362,3,0.549,1,I Shall Be Released - Remastered,Nina Simone\\r\\n78,0.855,0.515,378253,0.217,0.463,3,0.598,-13.382,0,0.0351,80.015,4,0.194,1,Words I Don\\'t Remember,How To Dress Well\\r\\n79,0.00502,0.429,196933,0.725,1.54E-05,2,0.266,-6.156,1,0.0371,82.925,4,0.174,1,To The Top,Twin Shadow\\r\\n80,0.555,0.791,187210,0.58,0.00155,8,0.116,-8.377,1,0.0588,81.678,4,0.733,1,Them Changes (feat. Flying Lotus & Kamasi Washington),Thundercat\\r\\n81,0.186,0.711,221350,0.705,0,10,0.148,-6.248,0,0.252,144.053,4,0.403,1,Aquafina (feat. GoldLink & Chaz French),Falcons\\r\\n82,0.0249,0.683,201049,0.824,0.627,1,0.0533,-8.569,0,0.222,154.008,4,0.921,1,Hot Blur,How Sad\\r\\n83,0.0108,0.309,257867,0.325,0.854,6,0.0742,-16.4,0,0.0366,175.88,4,0.46,1,Summer Madness,Kool & The Gang\\r\\n84,0.193,0.867,460400,0.733,0.000219,10,0.749,-7.54,0,0.237,97.835,4,0.761,1,The Payback,James Brown\\r\\n85,0.0192,0.619,275533,0.734,0.263,5,0.0771,-9.366,0,0.0343,106.034,4,0.853,1,I\\'m In Love,Fool\\'s Gold\\r\\n86,0.00776,0.898,429897,0.5,0.292,1,0.0771,-11.089,1,0.0571,122.281,4,0.868,1,I Need You Tonight,Punkin Machine\\r\\n87,0.17,0.589,206240,0.745,0.000406,7,0.376,-8.109,1,0.076,99.407,4,0.76,1,Everybody Likes Something Good,Ify Jerry Crusade\\r\\n88,0.0221,0.606,234987,0.668,1.65E-05,5,0.0527,-9.168,0,0.0729,158.859,4,0.958,1,Dadje Von O Von Non,Gnonnas P\\xc3\\xa9dro\\r\\n89,0.0397,0.786,302840,0.547,0.272,1,0.0378,-11.416,1,0.262,92.603,4,0.68,1,Sugah Daddy,D\\'Angelo\\r\\n90,0.0213,0.734,321933,0.548,0,11,0.512,-9.682,1,0.386,128.289,4,0.72,1,International Players Anthem,Swishahouse\\r\\n91,0.0454,0.812,268421,0.676,0,1,0.0929,-4.502,1,0.0491,114.047,4,0.399,1,Swerve,ILoveMakonnen\\r\\n92,0.00672,0.876,213246,0.606,1.06E-05,0,0.14,-5.471,1,0.0645,127.975,4,0.249,1,Look At Wrist,Father\\r\\n93,0.00488,0.601,467587,0.873,0.0365,1,0.113,-5.866,0,0.0448,124.997,4,0.566,1,Let It Happen,Tame Impala\\r\\n94,0.00419,0.748,213053,0.741,0,6,0.147,-3.103,1,0.0531,128.077,4,0.533,1,My Way (feat. Monty),Fetty Wap\\r\\n95,0.17,0.615,214150,0.814,0,9,0.218,-3.903,0,0.0677,144.005,4,0.601,1,Walk,Kwabs\\r\\n96,0.0604,0.799,333520,0.789,0,0,0.0338,-8.208,1,0.0396,116.081,4,0.833,1,The Magnificent Seven - Remastered,The Clash\\r\\n97,0.0571,0.398,247390,0.776,0.0172,9,0.303,-7.388,0,0.0374,110.815,4,0.689,1,NOBO,Tijuana Panthers\\r\\n98,0.716,0.685,427227,0.423,0.518,11,0.0765,-9.031,0,0.0475,138.034,4,0.649,1,The Gaudy Side of Town,Gayngs\\r\\n99,0.0151,0.706,299799,0.581,0,9,0.368,-6.492,1,0.055,134.009,4,0.463,1,U Mad,Vic Mensa\\r\\n100,0.228,0.63,315595,0.98,0.00661,1,0.487,-4.914,1,0.059,108.009,4,0.805,1,Slumlord,Neon Indian\\r\\n101,0.017,0.57,237480,0.736,5.74E-05,9,0.178,-5.822,1,0.0844,99.86,4,0.267,1,Leave A Trace,CHVRCHES\\r\\n102,0.247,0.525,292760,0.643,0,5,0.106,-6.874,0,0.816,199.727,4,0.943,1,Willing & Able,Disclosure\\r\\n103,0.123,0.698,236760,0.793,0,1,0.0805,-5.332,0,0.105,129.948,4,0.46,1,White Girl,Shy Glizzy\\r\\n104,0.00705,0.763,213375,0.773,0.032,0,0.772,-4.722,1,0.0533,130.025,4,0.347,1,Maneuvering,ILoveMakonnen\\r\\n105,0.181,0.511,160907,0.769,0,4,0.0921,-7.032,1,0.042,129.657,4,0.814,1,Be My Baby,The Ronettes\\r\\n106,0.378,0.506,159253,0.813,0.0293,4,0.276,-5.78,1,0.0392,108.212,4,0.855,1,Why Don\\'t They Let Us Fall in Love,The Ronettes\\r\\n107,0.677,0.513,162040,0.494,6.43E-05,0,0.143,-5.072,1,0.0315,135.894,4,0.521,1,Will You Love Me Tomorrow,The Shirelles\\r\\n108,0.488,0.251,126827,0.868,7.34E-06,1,0.818,-2.685,1,0.128,177.125,4,0.587,1,One Fine Day,The Chiffons\\r\\n109,0.487,0.559,111270,0.633,0,7,0.164,-3.265,1,0.0329,72.496,4,0.842,1,He\\'s So Fine - 2000 Digital Remaster,The Chiffons\\r\\n110,0.7,0.431,158685,0.678,6.37E-06,4,0.199,-7.945,1,0.0365,135.919,4,0.632,1,Then He Kissed Me,The Crystals\\r\\n111,0.403,0.683,142333,0.71,0,9,0.086,-7.445,1,0.114,128.181,4,0.93,1,It\\'s My Party,Lesley Gore\\r\\n112,0.656,0.78,149440,0.599,0,2,0.129,-10.251,1,0.0329,121.198,4,0.967,1,Please Mr. Postman,The Marvelettes\\r\\n113,0.00904,0.614,196352,0.907,0.000131,4,0.36,-2.536,0,0.143,122.906,4,0.354,1,Fiesta - Remix,Bomba Est\\xc3\\xa9reo\\r\\n114,0.141,0.661,196615,0.531,0,7,0.136,-10.113,0,0.548,93.287,5,0.657,1,Queen\\'s Speech 4,Lady Leshurr\\r\\n115,0.119,0.564,213622,0.594,0,11,0.536,-9.912,0,0.155,89.394,4,0.489,1,I Know There\\'s Gonna Be (Good Times),Jamie xx\\r\\n116,0.0659,0.751,202533,0.597,0,9,0.0881,-6.59,0,0.125,123.997,4,0.168,1,With That (feat. Duke),Young Thug\\r\\n117,0.00257,0.896,267024,0.623,0.000258,2,0.039,-8.008,1,0.0571,134.962,4,0.564,1,Hotline Bling,Drake\\r\\n118,0.00256,0.618,196693,0.717,0,7,0.625,-5.738,1,0.318,190.05,4,0.601,1,679 (feat. Remy Boyz),Fetty Wap\\r\\n119,0.0244,0.746,222093,0.873,0,7,0.354,-3.803,1,0.128,148.075,4,0.808,1,Trap Queen,Fetty Wap\\r\\n120,0.013,0.888,200080,0.483,4.85E-06,6,0.0926,-7.797,1,0.154,125.008,4,0.221,1,No Type,Rae Sremmurd\\r\\n121,0.0127,0.443,318750,0.645,0.952,6,0.122,-6.24,1,0.0515,128.044,4,0.138,1,Chasing Heaven,Bassnectar\\r\\n122,0.00943,0.507,282273,0.934,0.0018,8,0.222,-2.325,0,0.188,175.954,4,0.472,1,Speakerbox (feat. Lafa Taylor),Bassnectar\\r\\n123,0.000758,0.695,253773,0.912,0.000103,10,0.302,-3.331,0,0.193,160.043,4,0.612,1,Movin\\' Bass - GTA Remix,Rick Ross\\r\\n124,0.674,0.462,226333,0.449,0.000632,0,0.0993,-9.271,0,0.0916,209.686,4,0.748,1,Danger and Dread,Brown Bird\\r\\n125,0.0161,0.526,241440,0.712,0,11,0.179,-6.525,0,0.0356,105.009,4,0.299,1,Midnight City,M83\\r\\n126,0.107,0.645,591707,0.924,0.0266,10,0.0982,-7.697,0,0.0569,90.852,4,0.886,1,Water No Get Enemy - Edit,Fela Kuti\\r\\n127,0.0134,0.405,592920,0.647,7.62E-05,5,0.819,-6.109,0,0.0482,131.952,4,0.204,1,Pyramids,Frank Ocean\\r\\n128,0.0219,0.735,269817,0.641,0.89,7,0.168,-6.177,0,0.0284,105.993,4,0.886,1,Hercules Theme,Hercules & Love Affair\\r\\n129,0.0452,0.746,238146,0.416,7.77E-05,11,0.12,-6.607,1,0.0482,132.036,4,0.216,1,Rewind,Kelela\\r\\n130,0.0551,0.547,251093,0.643,0,1,0.267,-8.904,1,0.227,143.064,4,0.187,1,My Sub (Pt. 2: The Jackin\\') - Album Version (Edited),Big K.R.I.T.\\r\\n131,0.0224,0.634,221960,0.609,0,6,0.099,-8.982,1,0.172,83.021,4,0.659,1,Kush,Lil Wayne\\r\\n132,0.244,0.607,253800,0.488,0.000177,8,0.113,-8.704,1,0.193,77.021,4,0.16,1,9,Willow\\r\\n133,0.0668,0.704,199246,0.647,1.93E-06,10,0.101,-7.874,0,0.171,92.002,4,0.694,1,Magnets,Disclosure\\r\\n134,7.19E-05,0.558,258187,0.642,0.00746,5,0.201,-5.206,0,0.0321,99.977,4,0.492,1,Don\\'t Move,Phantogram\\r\\n135,0.0227,0.698,248053,0.804,0.0599,4,0.566,-6.616,1,0.111,92.001,4,0.786,1,Pussy,Brazilian Girls\\r\\n136,0.103,0.772,191160,0.582,6.61E-05,4,0.323,-5.96,0,0.309,172.03,4,0.564,1,Black Mags,The Cool Kids\\r\\n137,0.0956,0.788,238467,0.864,0,11,0.335,-5.767,1,0.0335,133.295,4,0.678,1,Stay Fly - Explicit Album Version,Three 6 Mafia\\r\\n138,0.00919,0.944,261973,0.839,0,11,0.0921,-4.141,1,0.108,136.019,4,0.891,1,Sippin On Some Syrup,Three 6 Mafia\\r\\n139,0.354,0.729,176880,0.795,0,7,0.536,-4.579,1,0.144,146.747,4,0.853,1,Poppin\\' My Collar - feat. Project Pat - Explicit,Three 6 Mafia\\r\\n140,0.00469,0.721,228933,0.621,0.0103,1,0.199,-4.378,1,0.306,159.967,4,0.578,1,Sittin\\' Sidewayz - feat. Big Pokey Explicit,Paul Wall\\r\\n141,0.00102,0.798,227587,0.751,3.22E-06,1,0.0271,-6.335,1,0.263,162.003,4,0.482,1,Gold and a Pager,The Cool Kids\\r\\n142,0.0512,0.851,224653,0.387,0,0,0.0996,-13.584,1,0.334,116.629,4,0.365,1,Smell Yo D*ck,Riskay\\r\\n143,0.0252,0.34,147467,0.805,0,7,0.138,-3.397,1,0.0387,167.922,4,0.654,1,Don\\'\\xc2\\x80\\xc2\\x99t Wanna Lose,Ex Hex\\r\\n144,0.221,0.767,194066,0.891,0.0723,4,0.0935,-6.426,1,0.0402,122.026,4,0.779,1,Endless Rhythm,Baio\\r\\n145,0.937,0.772,220093,0.635,0.018,0,0.0961,-8.412,1,0.0536,168.039,4,0.592,1,Demon,Shamir\\r\\n146,2.13E-05,0.259,350920,0.847,0.823,2,0.133,-6.298,1,0.0332,150.162,4,0.682,1,Nothing Ever Happened,Deerhunter\\r\\n147,0.284,0.633,226747,0.77,0,10,0.308,-6.954,0,0.327,149.97,4,0.324,1,Oh My Darling Don\\'t Meow (Just Blaze Remix),Run The Jewels\\r\\n148,0.0962,0.654,252095,0.292,0.0031,2,0.106,-12.977,1,0.474,153.547,4,0.111,1,River,Ibeyi\\r\\n149,0.334,0.726,221787,0.583,0.00135,0,0.122,-6.434,0,0.23,140.943,4,0.48,1,The Buzz (feat. Mataya & Young Tapz),Hermitude\\r\\n150,0.0648,0.855,310907,0.638,0,9,0.162,-4.968,0,0.143,122.967,4,0.433,1,All Day,Kanye West\\r\\n151,0.185,0.704,282253,0.431,0.0972,8,0.249,-7.893,1,0.131,146.003,4,0.349,1,Blood On the Money,Future\\r\\n152,0.689,0.658,238560,0.179,0,8,0.17,-10.866,1,0.0448,128.128,4,0.197,1,River,Leon Bridges\\r\\n153,0.000472,0.502,244204,0.833,0.043,2,0.352,-4.982,1,0.0638,142.053,4,0.593,1,Trust Me Danny,ILoveMakonnen\\r\\n154,0.00157,0.79,217707,0.676,0,8,0.25,-6.432,0,0.271,132.002,4,0.314,1,Big Rings,Drake\\r\\n155,0.0233,0.738,242188,0.849,0.0317,2,0.309,-6.246,1,0.0822,95.987,4,0.863,1,Annie,Neon Indian\\r\\n156,0.00212,0.777,500550,0.739,0.868,9,0.109,-9.089,1,0.039,119.992,4,0.201,1,Acamar,Frankey\\r\\n157,0.0734,0.791,219333,0.779,0,7,0.0832,-5.972,1,0.235,110.037,4,0.581,1,Alright,Kendrick Lamar\\r\\n158,0.19,0.735,275840,0.41,0,11,0.341,-8.735,0,0.2,114.812,4,0.16,1,Know Yourself,Drake\\r\\n159,0.188,0.556,294360,0.582,0.911,6,0.229,-10.65,0,0.0357,131.023,4,0.516,1,Deicide,Crystal Castles\\r\\n160,0.461,0.427,206387,0.465,5.52E-05,6,0.154,-6.595,1,0.0291,112.137,3,0.462,1,Coming Home,Leon Bridges\\r\\n161,0.0111,0.563,176361,0.81,2.71E-05,8,0.142,-9.158,1,0.0372,99.996,4,0.767,1,Hercules Theme 2014,Hercules & Love Affair\\r\\n162,0.0496,0.753,256320,0.708,0.0123,6,0.0872,-7.217,0,0.223,115.004,4,0.445,1,Forever,Majid Jordan\\r\\n163,0.149,0.785,262979,0.764,0.813,4,0.201,-5.245,0,0.04,93.984,4,0.961,1,Next to You,Poolside\\r\\n164,0.0682,0.557,293910,0.608,0.0263,5,0.196,-7.657,0,0.0862,109.67,4,0.211,1,Papi Pacify,FKA twigs\\r\\n165,0.489,0.594,235693,0.42,0.00452,4,0.0833,-8.467,0,0.031,140.04,4,0.311,1,Magnolia,Young & Sick\\r\\n166,0.000259,0.644,237120,0.758,0.0708,5,0.0726,-7.859,1,0.0458,108.99,4,0.752,1,Dark Matter,Feathers\\r\\n167,0.217,0.704,185437,0.657,0.000118,10,0.0888,-7.172,0,0.35,150.058,4,0.804,1,Callie (feat. Vic Mensa),Donnie Trumpet\\r\\n168,0.0472,0.849,217693,0.408,0,6,0.101,-8.67,0,0.284,99.876,4,0.337,1,Wu-Tang Forever,Drake\\r\\n169,0.228,0.628,260947,0.568,0.0183,10,0.0906,-10.695,1,0.14,191.404,4,0.618,1,Fame (2007 Remastered),David Bowie\\r\\n170,0.00689,0.717,224933,0.862,0,8,0.321,-4.736,1,0.054,130.021,4,0.512,1,We Dem Boyz,Wiz Khalifa\\r\\n171,0.0109,0.584,243480,0.68,1.03E-06,9,0.129,-4.685,0,0.0524,104.89,4,0.326,1,Ego Free Sex Free,Autre Ne Veut\\r\\n172,0.0246,0.586,374133,0.806,0.000167,1,0.353,-9.542,1,0.0548,110.325,4,0.207,1,Her Fantasy,Matthew Dear\\r\\n173,0.00399,0.648,560600,0.85,0.294,1,0.35,-6.277,1,0.0439,112.014,4,0.559,1,Little People (Black City),Matthew Dear\\r\\n174,0.037,0.807,250130,0.785,0.000763,8,0.18,-7.928,1,0.148,124.051,4,0.421,1,Confess To Me,Disclosure\\r\\n175,0.0789,0.577,355881,0.941,0.207,10,0.342,-4.338,1,0.0422,99.995,4,0.381,1,Let Me Show You Love,Cut Copy\\r\\n176,0.141,0.5,256093,0.593,6.21E-06,1,0.0969,-4.34,1,0.0898,68.456,4,0.325,1,New Slaves,Kanye West\\r\\n177,0.108,0.804,336160,0.708,0.0636,10,0.0528,-5.099,0,0.0394,141.996,4,0.966,1,Sexy Socialite,Chromeo\\r\\n178,0.0108,0.787,273853,0.658,0.0152,8,0.13,-5.379,0,0.0324,110.983,4,0.867,1,Okay,Holy Ghost!\\r\\n179,0.0107,0.246,230230,0.784,5.71E-06,5,0.0825,-5.004,1,0.0529,153.027,4,0.189,1,Weight,Mikal Cronin\\r\\n180,0.0107,0.882,284027,0.743,0.00152,7,0.327,-6.972,1,0.141,123.97,4,0.678,1,When A Fire Starts To Burn,Disclosure\\r\\n181,0.0315,0.628,308527,0.824,0.543,0,0.0999,-7.983,1,0.112,122.01,4,0.86,1,When A Fire Starts To Burn - Midland Remix,Disclosure\\r\\n182,0.00807,0.451,179947,0.79,0,11,0.0394,-4.261,0,0.0461,127.142,4,0.674,1,Fake Tales Of San Francisco,Arctic Monkeys\\r\\n183,0.64,0.518,405027,0.385,0.000536,9,0.0931,-11.125,0,0.0286,100.878,4,0.264,1,Billie Holiday,Warpaint\\r\\n184,0.0414,0.774,269867,0.901,4.84E-06,9,0.873,-5.398,0,0.216,128.024,4,0.768,1,Goody Two Shoes,Duck Sauce\\r\\n185,0.0127,0.547,245293,0.635,5.01E-06,2,0.0585,-5.569,1,0.137,113.678,4,0.496,1,The Wire,HAIM\\r\\n186,0.0585,0.552,283636,0.878,0.892,1,0.0746,-5.767,1,0.0353,176.057,4,0.603,1,Awake,Tycho\\r\\n187,0.00856,0.542,216827,0.946,5.38E-06,10,0.386,-6.307,1,0.0505,108.496,4,0.389,1,Man I Need,Jagwar Ma\\r\\n188,0.019,0.695,246521,0.94,0.8,7,0.623,-2.935,1,0.127,100.262,4,0.337,1,N.O. Bounce,Big Freedia\\r\\n189,0.0488,0.633,224720,0.492,0.00047,2,0.0758,-7.672,1,0.0524,114.845,4,0.357,1,Now Is Not The Time,CHVRCHES\\r\\n190,0.365,0.312,222719,0.445,0.0038,11,0.13,-7.202,0,0.0305,97.967,4,0.308,1,No Rest For The Wicked,Lykke Li\\r\\n191,0.17,0.43,154414,0.436,0,8,0.128,-4.816,1,0.119,90.053,4,0.22,1,Holdin On,Flume\\r\\n192,0.0346,0.19,230693,0.908,0.0369,0,0.241,-4.679,1,0.111,148.951,4,0.181,1,Rocking Chair,The Districts\\r\\n193,0.0361,0.312,281360,0.907,0.618,7,0.363,-6.571,1,0.229,120.286,4,0.122,1,Marriage,Gold Panda\\r\\n194,0.00818,0.539,224907,0.582,0.0717,7,0.15,-7.414,1,0.0328,95.07,4,0.249,1,Ride On / Right On,Phosphorescent\\r\\n195,0.613,0.698,230200,0.878,1.61E-05,8,0.518,-0.307,1,0.314,182.126,4,0.816,1,GodLovesUgly,Atmosphere\\r\\n196,0.00275,0.476,195200,0.818,0.757,2,0.279,-7.933,1,0.0318,159.089,4,0.745,1,New York City,Christopher Owens\\r\\n197,0.064,0.568,322544,0.936,0.00099,0,0.148,-6.365,1,0.0504,150.067,4,0.792,1,Moving to the Left,Woods\\r\\n198,0.00192,0.558,301573,0.74,8.97E-06,6,0.129,-6.22,1,0.0448,118.293,4,0.214,1,All These Things That I\\'ve Done,The Killers\\r\\n199,0.0212,0.604,187253,0.894,0,2,0.0299,-5,1,0.037,145.014,4,0.893,1,Junk of the Heart (Happy),The Kooks\\r\\n200,0.0516,0.718,224267,0.921,0.0473,5,0.315,-3.978,0,0.0375,121.922,4,0.898,1,When The Night Falls - feat. Solange Knowles,Chromeo\\r\\n201,0.0855,0.737,332453,0.545,9.32E-05,6,0.153,-8.536,0,0.362,140.086,4,0.438,1,Mercy,Kanye West\\r\\n202,0.0293,0.769,214333,0.712,2.12E-06,8,0.103,-4.692,0,0.029,120.975,4,0.948,1,Don\\'t You Evah,Spoon\\r\\n203,0.00731,0.567,343784,0.506,0.205,1,0.103,-8.742,1,0.0264,116.392,4,0.354,1,We Exist,Arcade Fire\\r\\n204,0.000467,0.817,213059,0.588,1.51E-06,7,0.0911,-6.603,1,0.0399,119.934,4,0.448,1,Le Goudron (Edit),YACHT\\r\\n205,0.0411,0.767,179240,0.912,0.402,1,0.0288,-1.157,1,0.054,144.084,4,0.496,1,Double Bubble Trouble,M.I.A.\\r\\n206,0.000195,0.77,391686,0.895,0.897,7,0.0455,-8.102,0,0.0488,120.986,4,0.678,1,Careless,Dusky\\r\\n207,0.827,0.712,279800,0.77,0.548,10,0.0726,-13.187,0,0.0345,106.963,4,0.973,1,Look at You,George McCrae\\r\\n208,0.39,0.706,131250,0.577,0.692,0,0.407,-6.226,0,0.0299,96.056,4,0.385,1,How Did I Get Here,ODESZA\\r\\n209,0.00471,0.542,227160,0.799,0.0161,4,0.0814,-3.641,0,0.0354,92.215,4,0.426,1,Black Out Days,Phantogram\\r\\n210,0.827,0.583,248213,0.776,3.81E-05,3,0.298,-5.293,1,0.0661,126.536,4,0.782,1,Bang! Bang!,Joe Cuba\\r\\n211,0.0628,0.727,289267,0.548,0.526,10,0.133,-7.393,1,0.0291,107.826,4,0.93,1,Every 1\\'s A Winner - Single Version,Hot Chocolate\\r\\n212,0.00919,0.45,201602,0.782,0.101,11,0.123,-6.769,1,0.0364,173.954,4,0.209,1,Unbound,Cathedrals\\r\\n213,0.0027,0.602,215518,0.764,0.0053,10,0.0822,-4.897,0,0.0435,105.997,5,0.468,1,Operate,ASTR\\r\\n214,0.385,0.415,359800,0.681,0,2,0.101,-4.104,0,0.189,171.893,4,0.372,1,Blood On The Leaves,Kanye West\\r\\n215,0.0304,0.614,315000,0.838,0.000297,10,0.166,-6.896,1,0.028,127.971,4,0.584,1,Come Save Me,Jagwar Ma\\r\\n216,0.105,0.901,212712,0.744,7.79E-06,0,0.0964,-3.484,1,0.283,135.95,4,0.606,1,Hannah Montana,Migos\\r\\n217,0.359,0.7,218733,0.986,0.0221,0,0.963,-4.403,1,0.0573,123.033,4,0.64,1,High School Lover,Cayucas\\r\\n218,0.119,0.583,202710,0.843,0,1,0.602,-7.416,0,0.409,108.066,5,0.422,1,They Come in Gold,Shabazz Palaces\\r\\n219,0.0112,0.6,215000,0.586,0.535,7,0.115,-9.414,1,0.0296,129.952,4,0.193,1,Tides of Neptune,Virgo\\r\\n220,0.251,0.786,255094,0.706,0.213,9,0.142,-6.212,0,0.0537,120.011,4,0.318,1,Cocaine Model,ZHU\\r\\n221,0.0696,0.512,287147,0.821,0.33,9,0.0998,-7.442,0,0.0334,149.988,4,0.396,1,Light House,Future Islands\\r\\n222,0.403,0.791,199973,0.664,0,7,0.61,-5.713,1,0.0831,149.939,4,0.96,1,Pass The Dutchie,Musical Youth\\r\\n223,0.849,0.533,378253,0.213,0.565,3,0.449,-13.437,0,0.0342,80.004,4,0.196,1,Words I Don\\'t Remember,How To Dress Well\\r\\n224,0.0862,0.731,178987,0.75,0.000388,2,0.202,-10.457,1,0.0321,135.406,4,0.648,1,I Would Die 4 U,Prince\\r\\n225,0.000156,0.853,356560,0.532,0.88,1,0.0643,-13.443,1,0.121,99.989,4,0.499,1,Bless My Soul,Nightmares On Wax\\r\\n226,0.0398,0.674,313147,0.501,0.000123,2,0.0818,-12.907,0,0.0579,107.363,4,0.567,1,Heaven And Hell Is On Earth,20th Century Steel Band\\r\\n227,0.0448,0.788,243800,0.617,0,2,0.088,-4.516,1,0.0651,122.065,4,0.13,1,Upper Echelon,Travis Scott\\r\\n228,0.000686,0.745,384907,0.857,0.2,0,0.022,-5.754,1,0.0393,115.945,4,0.946,1,Flying High (Part 1),Cloud One\\r\\n229,0.0107,0.621,240760,0.796,0.187,8,0.0719,-6.179,0,0.0327,140.012,4,0.288,1,Go,Grimes\\r\\n230,0.377,0.818,242067,0.528,0,2,0.131,-10.666,0,0.0716,120.368,4,0.895,1,Spill The Wine,Eric Burdon\\r\\n231,0.0988,0.856,247800,0.874,0.000472,11,0.339,-8.037,0,0.0401,122.416,4,0.91,1,Got To Give It Up (Part 1),Marvin Gaye\\r\\n232,0.0913,0.614,286315,0.857,0,2,0.069,-8.85,0,0.0859,85.125,4,0.944,1,Never Gonna Give You Up,Barry White\\r\\n233,0.0778,0.729,289627,0.527,0,9,0.382,-6.338,1,0.0708,126.012,4,0.23,1,Sanctified,Rick Ross\\r\\n234,0.0608,0.42,151853,0.776,0.0107,11,0.248,-8.827,1,0.0451,114.217,4,0.416,1,It #1,Ty Segall\\r\\n235,0.011,0.757,280427,0.578,0.00672,0,0.127,-3.886,1,0.0386,102.96,4,0.952,1,Dangerous (feat. Joywave),Big Data\\r\\n236,0.0249,0.618,221840,0.538,1.37E-05,2,0.352,-5.828,0,0.0319,79.925,4,0.299,1,Counting,Autre Ne Veut\\r\\n237,0.642,0.657,175333,0.393,4.03E-05,0,0.14,-7.667,1,0.0367,99.946,4,0.266,1,You\\'re the Best,Wet\\r\\n238,0.538,0.879,313493,0.495,0.000333,7,0.0827,-10.584,0,0.0765,102.652,4,0.797,1,Estrelar,Marcos Valle\\r\\n239,0.0172,0.496,190582,0.54,0.0367,7,0.13,-7.121,0,0.0324,131.337,5,0.172,1,Hold On We\\'re Going Home,ASTR\\r\\n240,0.0639,0.742,256693,0.945,0.165,5,0.131,-6.445,1,0.0428,112.977,4,0.748,1,Uncle ACE,Blood Orange\\r\\n241,0.245,0.623,227907,0.65,0.000913,10,0.146,-7.953,1,0.0274,116.74,4,0.884,1,San Francisco,Foxygen\\r\\n242,0.00101,0.736,258387,0.68,0.897,4,0.0922,-7.036,0,0.0361,120.995,4,0.0793,1,Stay High - Habits Remix,Tove Lo\\r\\n243,0.254,0.482,139267,0.96,2.43E-06,0,0.294,-5.269,0,0.126,113.263,4,0.539,1,Crosstown Traffic,Jimi Hendrix\\r\\n244,0.0117,0.683,175357,0.86,0.000379,7,0.356,-7.317,1,0.31,143.311,4,0.317,1,Ziggy Starfish (Anxiety Raps) [feat. Gold Panda],Open Mike Eagle\\r\\n245,0.0626,0.697,181149,0.655,0.774,1,0.353,-9.781,0,0.15,86.969,4,0.436,1,Marijuana,Chrome Sparks\\r\\n246,0.479,0.631,187617,0.626,0,9,0.108,-7.747,0,0.114,107.007,4,0.104,1,Crown Violet - Bonus Track,Azizi Gibson\\r\\n247,0.0957,0.747,202349,0.722,0.000519,8,0.208,-7.33,1,0.0349,100.215,4,0.56,1,Glad I Met You,D. Gookin\\r\\n248,0.251,0.569,265827,0.74,2.68E-06,0,0.134,-6.235,1,0.283,180.559,4,0.709,1,Dancing In The Rain,Blu\\r\\n249,0.029,0.674,202733,0.832,5.56E-06,9,0.0927,-3.593,1,0.0616,102.833,4,0.807,1,You Know I\\'m No Good - Ghostface UK Version,Amy Winehouse\\r\\n250,0.00744,0.578,246007,0.947,0.0816,11,0.105,-2.431,0,0.036,134.034,4,0.452,1,Kill V. Maim,Grimes\\r\\n251,0.449,0.586,217120,0.658,0.368,10,0.109,-9.71,0,0.0457,144.933,4,0.276,1,Life Round Here,James Blake\\r\\n252,0.275,0.756,206378,0.44,0,1,0.101,-9.973,0,0.179,112.14,4,0.307,1,Sitting Pretty (feat. Wiz Khalifa),Ty Dolla $ign\\r\\n253,0.212,0.723,322050,0.687,5.83E-05,11,0.137,-7.019,0,0.0373,95.237,4,0.867,1,\"Glyde 2nyte (feat. Leon Sylvers III, Leon Sylvers IV)\",D\\xc3\\xa2m-Funk\\r\\n254,0.0559,0.599,243589,0.645,0.108,0,0.0857,-6.098,1,0.0315,141.209,4,0.371,1,Clouds Over the Pacific,James Pants\\r\\n255,0.00333,0.586,238507,0.671,0.916,10,0.0521,-9.787,0,0.0445,91.412,4,0.771,1,Distant Land,Madlib\\r\\n256,0.0332,0.749,267800,0.802,0.0499,7,0.611,-6.159,0,0.0471,106.077,4,0.824,1,Flashlight,Parliament\\r\\n257,0.539,0.689,171560,0.83,0,8,0.0882,-8.774,1,0.0954,140.732,4,0.822,1,Can You Get To That,Funkadelic\\r\\n258,0.0257,0.283,186369,0.331,0.00489,0,0.174,-7.459,0,0.0315,101.797,3,0.151,1,Better,Banks\\r\\n259,0.0193,0.413,216771,0.676,0,6,0.1,-7.639,0,0.241,71.607,4,0.601,1,Pony,Pretty Sister\\r\\n260,0.0181,0.932,192773,0.819,6.81E-06,8,0.0577,-3.484,0,0.203,119.941,4,0.552,1,WTF (Where They From) [feat. Pharrell Williams],Missy Elliott\\r\\n261,0.0062,0.748,312240,0.733,0,11,0.329,-4.421,0,0.072,93.019,4,0.273,1,Again,Fetty Wap\\r\\n262,0.108,0.53,194613,0.433,0,6,0.135,-10.598,1,0.185,160.14,4,0.272,1,Exchange,Bryson Tiller\\r\\n263,0.196,0.388,238000,0.688,0.00883,5,0.0781,-8.407,0,0.0708,170.678,3,0.804,1,Sugar for the Queen,Bells Atlas\\r\\n264,0.667,0.371,275013,0.703,0.00186,3,0.0986,-7.358,1,0.0404,120.599,4,0.558,1,Symphony of the Nymph,Ariel Pink\\'s Haunted Graffiti\\r\\n265,0.124,0.875,347667,0.532,0.0123,10,0.314,-13.265,0,0.0686,116.556,4,0.704,1,Cool It Now,New Edition\\r\\n266,0.074,0.523,215867,0.722,0.00336,6,0.122,-6.533,1,0.0307,129.424,4,0.496,1,Jumpin\\' Jack Flash,Ananda Shankar\\r\\n267,0.0962,0.654,252095,0.292,0.0031,2,0.106,-12.977,1,0.474,153.547,4,0.111,1,River,Ibeyi\\r\\n268,0.455,0.847,191541,0.654,0.0622,5,0.0674,-6.443,0,0.113,119.998,4,0.624,1,You Know You Like It - Bondax Remix,AlunaGeorge\\r\\n269,0.015,0.836,229715,0.537,0.00103,4,0.0805,-9.854,0,0.261,160.188,4,0.43,1,Batuque (Jeremy Sole & Atropolis Remix),Dom La Nena\\r\\n270,0.172,0.413,273545,0.555,0.000309,11,0.256,-9.699,0,0.0427,121.976,4,0.542,1,Mykonos (feat. Fleet Foxes),Rhythms Del Mundo\\r\\n271,0.123,0.473,153973,0.865,0.968,0,0.897,-6.391,1,0.0332,100.018,4,0.554,1,So Destroyed (channeling Rage Peace),Prince Rama\\r\\n272,0.00593,0.609,207301,0.641,0.585,8,0.105,-5.309,1,0.0266,84.957,4,0.0844,1,Bitch,Allie X\\r\\n273,0.174,0.544,181400,0.427,0.0248,9,0.133,-8.33,0,0.0298,139.939,4,0.189,1,Locket,Kilo Kish\\r\\n274,0.0059,0.379,325500,0.674,1.04E-05,8,0.0957,-5.762,0,0.0305,99.797,3,0.0647,1,Apathy,Shlohmo\\r\\n275,0.000304,0.316,245880,0.748,0.0139,2,0.608,-8.187,1,0.0413,79.337,4,0.239,1,It All Feels Right,Washed Out\\r\\n276,0.29,0.857,222573,0.484,3.04E-06,10,0.112,-6.232,0,0.148,107.434,4,0.729,1,Last Chance to Dance,Ekkah\\r\\n277,0.00412,0.389,215560,0.884,0.172,9,0.31,-4.602,1,0.0741,128.604,4,0.399,1,The Righteous One,The Orwells\\r\\n278,0.00492,0.519,282659,0.793,0.93,10,0.235,-9.83,0,0.0777,164.032,4,0.222,1,The New International Sound,GENER8ION\\r\\n279,0.384,0.478,281774,0.6,0.808,5,0.0987,-11.025,0,0.0356,143.98,4,0.0635,1,Like Lust,MOVEMENT\\r\\n280,0.00978,0.706,362413,0.643,0.00955,2,0.103,-9.357,0,0.0859,160.026,4,0.808,1,Rhythm of Devotion,Sisyphus\\r\\n281,0.0621,0.736,190440,0.539,0.0312,1,0.12,-8.316,1,0.0936,147.73,4,0.761,1,Zion Gate Dub,King Tubby\\r\\n282,0.081,0.651,253587,0.77,6.54E-05,0,0.114,-8.08,0,0.0274,112.923,4,0.738,1,Enjoy The Silence - Remastered Version Original,Depeche Mode\\r\\n283,0.0269,0.869,270520,0.658,0.299,8,0.115,-5.025,1,0.036,109.998,4,0.244,1,Fried Neck Bones And Some Home Fries - Dan The Automator Remix,Willie Bobo\\r\\n284,0.428,0.624,238427,0.852,0.656,1,0.114,-10.184,1,0.153,135.223,4,0.517,1,Archangel,Burial\\r\\n285,0.699,0.386,328966,0.509,0.872,2,0.131,-12.745,0,0.034,129.982,4,0.254,1,\"Lone Wolf and Cub (feat. Herbie Hancock, Flying Lotus, Miguel Atwood-Ferguson & Mono/poly)\",Thundercat\\r\\n286,0.22,0.234,207186,0.747,0.000176,11,0.157,-3.332,0,0.0577,81.805,4,0.365,1,Skyscraper,Elephant\\r\\n287,0.516,0.525,216520,0.797,5.00E-06,1,0.152,-11.168,0,0.0656,100.518,4,0.769,1,I Want You - Single Version,Marvin Gaye\\r\\n288,0.00564,0.521,208613,0.888,0.0226,8,0.0633,-5.197,1,0.0357,81.971,4,0.264,1,\"The New International Sound, Pt. 2 (feat. M.I.A.)\",GENER8ION\\r\\n289,0.504,0.719,181459,0.697,0,2,0.295,-5.647,1,0.31,117.123,4,0.668,1,Suede (feat. Anderson Paak & Knxwledge),NxWorries\\r\\n290,0.825,0.722,196507,0.605,0.0178,5,0.248,-6.07,1,0.153,165.998,4,0.69,1,Bam Bam,Sister Nancy\\r\\n291,0.0453,0.806,218280,0.696,5.71E-06,11,0.0785,-5.109,1,0.0502,127.023,4,0.131,1,Alright,Logic\\r\\n292,0.259,0.763,156484,0.491,0.902,9,0.14,-8.587,0,0.0316,93.024,4,0.475,1,Rainy Streets,Blue In Green\\r\\n293,0.00403,0.736,168451,0.68,5.49E-06,9,0.116,-6.438,1,0.342,149.902,4,0.601,1,Hazelton Trump,OB OBrien\\r\\n294,0.0141,0.651,256667,0.824,6.02E-06,0,0.129,-9.368,1,0.0617,141.226,4,0.731,1,Free Stress Test,Professor Murder\\r\\n295,0.127,0.479,278147,0.609,0,11,0.0815,-8.678,0,0.236,107.699,5,0.522,1,I\\'m Ya Dogg,Snoop Dogg\\r\\n296,0.379,0.535,293213,0.374,0.0464,9,0.0914,-8.83,1,0.0317,121.93,3,0.339,1,Hot Dreams,Timber Timbre\\r\\n297,0.0861,0.356,242253,0.567,0,0,0.137,-7.011,0,0.0798,135.553,5,0.116,1,The Hills,The Weeknd\\r\\n298,0.26,0.753,200213,0.9,0.000102,11,0.165,-1.866,0,0.0322,119.72,4,0.967,1,\"When They Fight, They Fight\",Generationals\\r\\n299,0.032,0.694,273949,0.789,0.00129,4,0.127,-5.201,0,0.0378,109.014,4,0.549,1,The River,Son Little\\r\\n300,0.0356,0.483,229893,0.804,1.60E-06,8,0.0736,-3.452,1,0.0501,73.048,4,0.803,1,Rill Rill,Sleigh Bells\\r\\n301,0.0453,0.878,372096,0.43,0.751,11,0.101,-8.445,0,0.0658,119.999,4,0.138,1,Awake,Sant\\xc3\\xa9\\r\\n302,0.19,0.703,228040,0.412,5.26E-06,6,0.221,-9.827,0,0.0288,152.219,4,0.815,1,Johnny Was,Bob Marley & The Wailers\\r\\n303,0.407,0.688,192040,0.488,0,11,0.43,-14.195,0,0.357,69.77,4,0.708,1,Monster Mash,\"Bobby \"\"Boris\"\" Pickett\"\\r\\n304,0.854,0.316,659560,0.308,0.888,2,0.585,-15.944,1,0.0411,103.459,4,0.0933,1,Night on Bald Mountain,Modest Mussorgsky\\r\\n305,0.153,0.725,230400,0.918,0.0328,10,0.113,-4.912,0,0.0676,125.009,4,0.191,1,Feel The Volume,Jauz\\r\\n306,0.321,0.749,308947,0.422,0.155,1,0.11,-11.004,0,0.0733,98.82,4,0.587,1,Water Me (feat. Leon Ware),Theophilus London\\r\\n307,0.00079,0.771,248991,0.248,0.1,5,0.341,-20.815,0,0.0802,139.937,4,0.281,1,Kathy Lee,Jessy Lanza\\r\\n308,0.0259,0.69,225533,0.548,0.00243,10,0.106,-9.587,0,0.352,121.509,4,0.693,1,Love Buzz,Shocking Blue\\r\\n309,0.058,0.648,201848,0.887,0,1,0.0382,-4.536,0,0.188,102.128,4,0.464,1,Beautiful Life (feat. Action Bronson & Joey Bada$$),Statik Selektah\\r\\n310,0.0498,0.403,274480,0.742,0,11,0.418,-5.889,0,0.338,90.336,4,0.734,1,Auditorium,Mos Def\\r\\n311,0.0803,0.664,472013,0.727,0.000253,0,0.38,-8.738,1,0.263,77.92,4,0.527,1,Disco Devil,\"Lee \"\"Scratch\"\" Perry\"\\r\\n312,0.118,0.704,288347,0.894,0.000115,6,0.386,-7.415,1,0.243,98.946,4,0.408,1,Frontier Psychiatrist,The Avalanches\\r\\n313,0.00189,0.554,252140,0.749,0.39,10,0.124,-7.365,1,0.0266,168.045,4,0.824,1,Had Ten Dollaz,Cherry Glazerr\\r\\n314,0.0174,0.446,241800,0.752,0,6,0.128,-6.088,1,0.368,96.318,4,0.585,1,Sometimes,Heems\\r\\n315,0.124,0.612,265133,0.628,0.85,1,0.231,-7.82,1,0.0447,172.176,4,0.373,1,VHS Sex,Com Truise\\r\\n316,0.00838,0.587,235440,0.866,3.55E-05,9,0.15,-6.444,1,0.0816,107.986,3,0.42,1,Ambling Alp,Yeasayer\\r\\n317,0.429,0.551,141493,0.952,0.000686,7,0.0721,-4.886,1,0.0944,136.958,4,0.628,1,All Day And All Of The Night,The Kinks\\r\\n318,0.419,0.331,133093,0.957,0,7,0.102,-6.101,0,0.0504,143.299,4,0.561,1,Strychnine,The Sonics\\r\\n319,0.106,0.912,194040,0.317,0.000208,6,0.0723,-12.719,0,0.0378,99.346,4,0.949,1,Who Is He (And What Is He to You?),Bill Withers\\r\\n320,0.0211,0.697,236456,0.905,0.893,6,0.119,-7.787,0,0.0339,119.977,4,0.311,1,Acamar,Frankey\\r\\n321,0.00799,0.883,382015,0.333,0.804,5,0.257,-17.848,0,0.053,121.099,4,0.964,1,It Looks Like Love,Goody Goody\\r\\n322,0.00236,0.733,232375,0.87,0.00102,0,0.327,-6.199,1,0.0624,118.449,4,0.657,1,Freak Connection - Edit,Cerrone\\r\\n323,0.0602,0.803,446307,0.579,0.000627,10,0.226,-11.156,0,0.059,108.567,4,0.726,1,\"I\\'ll Be Good - 12\"\" Mix\",Rene & Angela\\r\\n324,0.219,0.698,223191,0.515,0,4,0.124,-13.029,1,0.0605,85.023,4,0.712,1,Here I Come (Broader Than Broadway),Barrington Levy\\r\\n325,0.0138,0.677,144280,0.905,0,6,0.219,-4.597,1,0.0721,89.988,4,0.742,1,Swords,M.I.A.\\r\\n326,0.0169,0.648,197800,0.862,0,1,0.0937,-4.527,0,0.0777,127.857,4,0.176,1,Hands On The Wheel,ScHoolboy Q\\r\\n327,0.315,0.65,190734,0.448,0,5,0.0931,-9.979,1,0.0947,85.045,4,0.193,1,Kush High,Eighty4 Fly\\r\\n328,0.518,0.672,248372,0.527,0.26,9,0.0946,-12.702,0,0.111,87.996,4,0.356,1,M\\xc3\\xa9tele,Buscabulla\\r\\n329,0.0567,0.838,194828,0.537,0.799,8,0.0991,-11.689,1,0.116,121.986,4,0.357,1,What I Might Do,Ben Pearce\\r\\n330,0.0286,0.76,479547,0.391,0.00691,1,0.0582,-8.73,1,0.0353,116.873,4,0.965,1,Atomic Bomb,William Onyeabor\\r\\n331,0.00909,0.646,279200,0.621,0.000124,0,0.249,-11.358,1,0.0747,90.986,4,0.408,1,World Restart,Kindness\\r\\n332,0.0445,0.808,237853,0.687,0.3,9,0.0933,-8.668,1,0.0397,109.953,4,0.458,1,Swingin\\' Party,Kindness\\r\\n333,0.119,0.716,263817,0.647,1.38E-05,1,0.121,-4.008,1,0.0345,131.04,4,0.159,1,Antidote,Travis Scott\\r\\n334,0.0111,0.846,233387,0.501,0.00257,11,0.0883,-6.076,1,0.0334,118.001,4,0.825,1,Pieces,Tanlines\\r\\n335,0.388,0.704,745653,0.942,0.0147,2,0.302,-5.115,0,0.171,131.69,4,0.584,1,Zombie,Fela Kuti\\r\\n336,2.84E-06,0.305,97560,0.827,0.00245,5,0.335,-5.789,1,0.147,159.882,4,0.463,1,Time-Out,Terror Train\\r\\n337,0.0115,0.82,349720,0.616,0.445,4,0.082,-8.427,0,0.0361,127.86,4,0.972,1,Let\\'s Lovedance Tonight - Danny Krivit Re-edit - Dk Re-Edit,Gary\\'s Gang\\r\\n338,0.136,0.185,105858,0.89,0,2,0.777,-4.182,1,0.0524,163.315,4,0.322,1,I\\'m a Dildo,No Parents\\r\\n339,0.00328,0.562,238457,0.801,0,11,0.605,-3.069,0,0.267,169.988,4,0.634,1,Do It (High School Dropout),Tayyib Ali\\r\\n340,0.376,0.565,217648,0.86,0.000121,11,0.119,-5.449,1,0.0285,95.019,4,0.782,1,Cadillac Girl,Only Real\\r\\n341,0.196,0.464,199053,0.772,0.0088,2,0.0716,-5.046,0,0.0397,107.651,4,0.627,1,Today,Tom Scott\\r\\n342,0.248,0.576,235187,0.602,0.000609,0,0.144,-6.591,0,0.315,141.345,4,0.57,1,\"The Buzz (feat. Big K.R.I.T., Mataya & Young Tapz) - Bonus Track\",Hermitude\\r\\n343,0.0686,0.388,220467,0.598,0,4,0.657,-9.485,0,0.0296,154.78,4,0.641,1,I Choose You,Willie Hutch\\r\\n344,0.602,0.637,156430,0.498,0.119,1,0.305,-9.367,1,0.0231,92.227,4,0.931,1,The Way You\\xe2\\x80\\x99d Love Her,Mac Demarco\\r\\n345,0.0893,0.636,235813,0.72,0.0178,11,0.0868,-6.195,1,0.0432,124.944,4,0.444,1,Shooting Stars,Bag Raiders\\r\\n346,0.000141,0.688,324437,0.587,0.92,2,0.0421,-8.521,1,0.046,125.012,4,0.757,1,Bloom - Lane 8 Remix,ODESZA\\r\\n347,0.0469,0.766,237867,0.82,0,2,0.336,-5.851,1,0.124,117.012,4,0.401,1,Pacifier,Young Thug\\r\\n348,0.133,0.402,206920,0.794,0,11,0.133,-3.982,0,0.125,195.058,3,0.706,1,Powerful,Major Lazer\\r\\n349,0.157,0.599,218342,0.524,0,1,0.238,-8.036,1,0.13,83.013,4,0.44,1,Unbreakable,Janet Jackson\\r\\n350,0.371,0.837,245581,0.492,0.0401,0,0.102,-7.792,1,0.354,85.951,4,0.407,1,It\\'s Strange (feat. K.Flay),Louis The Child\\r\\n351,0.0124,0.612,231765,0.858,0,7,0.0984,-5.437,0,0.0478,145.306,4,0.451,1,Make Them Gold,CHVRCHES\\r\\n352,0.19,0.63,348742,0.671,0.753,6,0.466,-7.727,0,0.0602,96.478,4,0.142,1,Don\\'t Mean A Thing,Lapalux\\r\\n353,0.0953,0.614,237073,0.858,0.0559,6,0.125,-7.068,0,0.097,164.025,4,0.477,1,White Lies - The Soundmen Remix,Max Frost\\r\\n354,0.27,0.446,259765,0.89,0.661,7,0.451,-7.974,1,0.0308,170.002,4,0.503,1,Sophia So Far,Goodnight Radio\\r\\n355,0.0846,0.481,263187,0.851,0.907,7,0.178,-4.528,1,0.127,174.144,4,0.852,1,Nimble Girl,Hotel Eden\\r\\n356,0.00855,0.293,202160,0.792,0.0111,7,0.133,-3.747,1,0.0363,161.933,4,0.696,1,Grinder,Gary Clark Jr.\\r\\n357,0.128,0.889,272720,0.597,0.0004,9,0.0924,-7.301,0,0.374,119.999,4,0.261,1,Choices (Yup),E-40\\r\\n358,0.088,0.673,347613,0.857,0.0108,4,0.0754,-7.493,0,0.0422,109.99,4,0.457,1,Two Brothers,Hanni El Khatib\\r\\n359,0.0406,0.536,238893,0.922,8.92E-05,2,0.214,-6.247,1,0.0667,121.977,4,0.368,1,Walkabout (W/ Noah Lennox),Atlas Sound\\r\\n360,0.0377,0.575,215973,0.691,0.563,5,0.0657,-7.595,0,0.0301,131.588,4,0.718,1,Ferus Gallery,Allah-Las\\r\\n361,0.021,0.571,237680,0.719,0,11,0.458,-7.206,0,0.0378,80.694,4,0.538,1,Everybody Loves The Sunshine,Roy Ayers Ubiquity\\r\\n362,0.0466,0.784,252663,0.803,1.57E-05,9,0.0773,-3.458,0,0.0597,111.044,4,0.79,1,Number One,Tuxedo\\r\\n363,0.16,0.746,179091,0.682,0,7,0.177,-6.353,1,0.117,98.977,4,0.836,1,Sick Beat,Kero Kero Bonito\\r\\n364,0.00266,0.444,217733,0.498,0.0299,2,0.135,-7.631,1,0.199,119.914,4,0.294,1,She a Go (feat. Spinn & Taso),DJ Rashad\\r\\n365,0.0833,0.736,218312,0.882,0.000349,11,0.354,-4.285,0,0.0398,126.012,4,0.512,1,Lost You,Zeds Dead\\r\\n366,0.445,0.915,183159,0.54,3.63E-05,7,0.11,-6.578,1,0.0661,100.039,4,0.113,1,Norf Norf,Vince Staples\\r\\n367,0.304,0.75,229588,0.835,0,4,0.165,-7.882,1,0.152,127.026,4,0.504,1,Eleven 11: / 11,Rob Curly\\r\\n368,0.109,0.632,197963,0.519,0,1,0.122,-7.207,1,0.0265,99.999,4,0.602,1,Buffalo,Toro y Moi\\r\\n369,0.0152,0.814,234640,0.83,0.36,10,0.0899,-5.766,0,0.0822,124.998,4,0.287,1,Talk About,Les Sins\\r\\n370,0.273,0.893,142012,0.378,0,9,0.141,-7.324,1,0.305,119.969,4,0.642,1,Probably Nu It,Tree\\r\\n371,0.0146,0.823,274320,0.768,1.03E-06,11,0.127,-6.21,1,0.0819,115.021,4,0.207,1,Mamacita,Travis Scott\\r\\n372,0.0573,0.639,284080,0.749,0.0294,1,0.153,-5.916,0,0.0468,84.452,4,0.553,1,Star,Gary Clark Jr.\\r\\n373,0.726,0.49,289307,0.376,2.54E-05,11,0.0849,-13.463,0,0.0433,182.969,4,0.107,1,Gooey,Glass Animals\\r\\n374,0.0487,0.289,273000,0.523,0.000293,6,0.0561,-9.531,1,0.0488,145.556,4,0.366,1,Walk On By - Single Version,Isaac Hayes\\r\\n375,0.111,0.615,196817,0.781,0,5,0.373,-4.838,0,0.203,105.967,4,0.664,1,Omen - Radio Edit,Disclosure\\r\\n376,0.0207,0.808,292373,0.41,0.364,9,0.0769,-12.428,1,0.0658,122.663,4,0.752,1,Champagne Coast,Blood Orange\\r\\n377,0.102,0.775,423747,0.528,0.582,9,0.233,-7.756,1,0.0441,94.967,4,0.961,1,Running Back To You,The Juan Maclean\\r\\n378,0.00757,0.393,261187,0.838,0.145,9,0.223,-3.815,1,0.0985,142.019,4,0.474,1,BKNY,Fat Tony\\r\\n379,0.01,0.449,191425,0.416,0.122,0,0.0778,-5.571,1,0.0608,140.804,3,0.118,1,Pains,Silk Rhodes\\r\\n380,2.24E-05,0.595,224094,0.549,0.835,4,0.274,-10.41,0,0.0339,122.199,4,0.131,1,Night Drive,Part Time\\r\\n381,0.038,0.728,176675,0.62,0,2,0.342,-7.533,1,0.0434,81.998,4,0.904,1,\"Flex (Ooh, Ooh, Ooh)\",Rich Homie Quan\\r\\n382,0.765,0.561,213786,0.896,0.685,2,0.124,-4.903,1,0.0528,86.808,4,0.654,1,Indian Food,Dumbo Gets Mad\\r\\n383,0.775,0.758,216234,0.343,0,1,0.11,-9.044,0,0.0402,99.995,4,0.218,1,Childs Play (feat. Chance the Rapper),SZA\\r\\n384,0.000429,0.782,351707,0.938,0.121,10,0.118,-8.692,0,0.05,118.086,4,0.872,1,Lets Start the Dance,Bohannon\\r\\n385,0.323,0.839,369067,0.48,0.0505,6,0.0758,-12.223,1,0.113,120.973,4,0.45,1,Rollerskate,Matias Aguayo\\r\\n386,0.0301,0.226,247027,0.261,0.0677,2,0.0628,-11.276,1,0.0339,108.915,4,0.0795,1,Outro,M83\\r\\n387,0.268,0.763,322093,0.623,4.37E-06,2,0.0768,-6.128,1,0.179,115.032,4,0.369,1,Grindin\\xe2\\x80\\x99 My Whole Life,HS87\\r\\n388,0.0626,0.858,254920,0.717,0.243,0,0.216,-8.734,1,0.0995,120.004,4,0.593,1,Slyd,!!!\\r\\n389,0.000239,0.329,255413,0.814,0.0944,7,0.0936,-6.005,1,0.0674,120.462,4,0.403,1,The Moment,Tame Impala\\r\\n390,0.317,0.727,197133,0.599,0,1,0.219,-6.941,1,0.327,167.909,3,0.381,1,R.I.C.O. (feat. Drake),Meek Mill\\r\\n391,0.00605,0.318,182987,0.975,0.832,9,0.345,-4.211,1,0.0916,174.205,4,0.683,1,Black And White,Parquet Courts\\r\\n392,0.0818,0.61,290667,0.791,0,2,0.0847,-10.918,0,0.101,85.338,4,0.938,1,Never Never Gonna Give Ya Up,Barry White\\r\\n393,0.0021,0.646,219754,0.892,0.00626,10,0.117,-5.015,1,0.0331,119.998,4,0.935,1,Wait & See,Holy Ghost!\\r\\n394,0.016,0.79,233813,0.616,0.13,0,0.136,-7.081,1,0.0388,111.038,4,0.373,1,Wait for a Minute,tUnE-yArDs\\r\\n395,0.0385,0.484,205500,0.492,0.66,7,0.111,-9.297,1,0.0326,76.467,4,0.193,1,5ft7,Tonstartssbandht\\r\\n396,0.304,0.785,373243,0.573,0.403,5,0.0824,-9.082,0,0.0416,126.465,4,0.626,1,200 Press,James Blake\\r\\n397,0.113,0.715,329169,0.64,0.0418,2,0.0848,-7.168,1,0.0317,113.507,4,0.398,1,Huarache Lights,Hot Chip\\r\\n398,0.0414,0.811,312360,0.635,0.142,7,0.204,-8.394,1,0.0971,137.595,4,0.752,1,Leave House,Caribou\\r\\n399,0.704,0.597,318261,0.721,0.0119,0,0.188,-9.433,1,0.0377,110.761,4,0.854,1,\"Sweet Power, Your Embrace\",James Mason\\r\\n400,0.785,0.6,299711,0.413,0.0289,7,0.109,-9.572,1,0.0258,93.618,4,0.0768,1,Hunger Of The Pine,alt-J\\r\\n401,0.629,0.811,141000,0.461,1.40E-05,9,0.0767,-10.829,1,0.264,75.286,4,0.72,1,Money Money,Horace Andy\\r\\n402,0.0167,0.797,211882,0.961,0.919,10,0.107,-8.083,0,0.0677,128.015,4,0.355,1,Symptom - Original Mix,Deapmash\\r\\n403,0.391,0.799,157068,0.657,3.16E-06,3,0.0763,-5.293,1,0.0377,141.655,4,0.956,1,I\\'ll Do a Little Bit More,The Olympics\\r\\n404,0.0301,0.769,703107,0.514,0.016,9,0.0394,-14.157,1,0.052,119.674,4,0.719,1,Who Is He And What Is He To You,Creative Source\\r\\n405,0.27,0.865,462467,0.896,0.0488,3,0.0676,-7.031,0,0.0623,111.457,4,0.939,1,Bustin\\' Loose,Chuck Brown and the Soul Searchers\\r\\n406,0.107,0.826,253747,0.751,7.71E-05,10,0.0596,-9.621,0,0.0564,105.909,4,0.919,1,I Wish,Stevie Wonder\\r\\n407,0.96,0.508,250533,0.325,0.00259,2,0.188,-11.627,1,0.037,92.187,4,0.271,1,Baby,Donnie & Joe Emerson\\r\\n408,0.124,0.85,311120,0.818,0.00135,0,0.349,-8.623,1,0.0904,105.266,4,0.845,1,More Bounce To The Ounce,Zapp\\r\\n409,0.0245,0.819,302000,0.684,0.358,2,0.115,-6.97,1,0.0599,130.268,4,0.84,1,Outlaw,War\\r\\n410,0.0194,0.896,474040,0.482,0.033,0,0.0273,-8.35,1,0.127,112,4,0.847,1,Walking Into Sunshine,Central Line\\r\\n411,0.0129,0.401,592920,0.661,7.72E-05,5,0.791,-6.111,0,0.0462,107.998,4,0.173,1,Pyramids,Frank Ocean\\r\\n412,0.0106,0.346,301867,0.808,0.685,11,0.247,-5.791,0,0.0302,219.331,4,0.711,1,Lazuli,Beach House\\r\\n413,0.115,0.697,251267,0.529,0.901,2,0.0895,-8.838,1,0.0338,155.974,4,0.483,1,Oblivion,Grimes\\r\\n414,0.195,0.605,209573,0.732,0.0135,6,0.246,-5.643,0,0.15,195.978,4,0.136,1,Obedear,Purity Ring\\r\\n415,0.034,0.691,425320,0.71,0.00225,10,0.0903,-6.351,0,0.0322,118.006,4,0.334,1,Flutes,Hot Chip\\r\\n416,0.0079,0.428,316444,0.74,0.935,0,0.0985,-10.026,1,0.0588,134.981,4,0.0576,1,Club Rez,Girl Unit\\r\\n417,0.00525,0.555,263213,0.612,0,4,0.346,-7.841,0,0.0353,100.036,4,0.319,1,Cry Like A Ghost,Passion Pit\\r\\n418,0.482,0.732,167547,0.468,0.809,9,0.371,-13.662,0,0.0409,118.994,4,0.191,1,Chained,The xx\\r\\n419,0.0124,0.633,284925,0.926,0.689,1,0.156,-4.056,1,0.0404,152.032,4,0.512,1,Disparate Youth,Santigold\\r\\n420,0.000199,0.284,141813,0.961,0,9,0.365,-3.993,1,0.0567,186.287,4,0.199,1,Cheap Beer,FIDLAR\\r\\n421,0.119,0.68,313787,0.489,2.86E-05,11,0.606,-7.837,0,0.432,74.04,4,0.261,1,Swimming Pools (Drank) - Extended Version,Kendrick Lamar\\r\\n422,0.0463,0.578,208139,0.825,0.0201,5,0.162,-4.659,0,0.0284,113.907,4,0.959,1,Origins,Tennis\\r\\n423,0.0602,0.658,156707,0.835,0.00781,4,0.14,-7.165,0,0.0501,124.654,4,0.568,1,Affection,Crystal Castles\\r\\n424,0.00914,0.385,180493,0.902,0.522,7,0.317,-5.464,1,0.098,159.939,4,0.52,1,Comeback Kid,Sleigh Bells\\r\\n425,0.0555,0.735,260400,0.798,0.0627,0,0.161,-6.175,1,0.127,113.997,4,0.469,1,Losing You,Solange\\r\\n426,0.132,0.635,139931,0.766,0,11,0.122,-6.449,1,0.26,93.603,4,0.675,1,Grown Up,Danny Brown\\r\\n427,0.0101,0.569,305680,0.857,0.0145,7,0.141,-5.571,1,0.0337,104.981,4,0.291,1,\"It\\'s Not My Fault, I\\'m Happy\",Passion Pit\\r\\n428,0.000613,0.469,387640,0.823,0.000829,9,0.185,-3.948,0,0.0583,122.316,4,0.138,1,How Deep Is Your Love?,The Rapture\\r\\n429,0.0571,0.502,287827,0.632,0.054,4,0.226,-9.971,0,0.271,82.738,4,0.207,1,Are you... Can you... Were you? (Felt),Shabazz Palaces\\r\\n430,0.0212,0.597,260467,0.798,0.473,5,0.143,-5.307,1,0.0367,99.999,4,0.383,1,Second Song,TV On The Radio\\r\\n431,0.459,0.673,132049,0.764,0.000237,11,0.0955,-5.482,1,0.401,182.13,4,0.551,1,Mornin\\',Star Slinger\\r\\n432,0.198,0.507,286413,0.739,0.865,2,0.185,-9.728,1,0.04,87.569,4,0.17,1,Before,Washed Out\\r\\n433,0.0198,0.517,245013,0.491,1.31E-06,11,0.0786,-13.742,0,0.0341,104.996,4,0.331,1,Midnight City,M83\\r\\n434,0.00417,0.356,193653,0.872,0.00975,2,0.0997,-7.837,1,0.068,166.3,4,0.592,1,Lonely Boy,The Black Keys\\r\\n435,0.00529,0.563,200600,0.924,0.883,10,0.145,-3.909,0,0.0511,94.057,4,0.6,1,Caffeinated Consciousness,TV On The Radio\\r\\n436,0.0039,0.567,176893,0.876,0,9,0.531,-4.573,0,0.0376,114.902,4,0.697,1,Wild Window,Fool\\'s Gold\\r\\n437,0.00501,0.633,264000,0.884,1.93E-05,9,0.134,-4.158,0,0.0369,111.98,4,0.455,1,Polish Girl,Neon Indian\\r\\n438,0.929,0.445,250200,0.461,0.167,11,0.623,-11.488,1,0.0379,119.951,4,0.091,1,Calgary,Bon Iver\\r\\n439,0.00145,0.575,250826,0.625,0,9,0.0817,-5.296,0,0.0345,111.984,4,0.295,1,Civilization,Justice\\r\\n440,0.369,0.662,236733,0.571,0.000197,6,0.0908,-7.382,0,0.106,152.009,4,0.442,1,Headlines,Drake\\r\\n441,0.00096,0.573,256800,0.946,0.00191,7,0.115,-5.065,1,0.377,151.817,4,0.769,1,Michael Jackson,Das Racist\\r\\n442,0.0244,0.605,369387,0.755,0.586,1,0.0937,-5.169,1,0.0358,122.3,4,0.367,1,Need You Now,Cut Copy\\r\\n443,0.00632,0.374,172960,0.937,0.0207,9,0.186,-3.882,1,0.082,149.812,4,0.337,1,Abducted,Cults\\r\\n444,0.158,0.714,187293,0.924,1.29E-05,10,0.91,-2.91,0,0.0662,77.516,4,0.897,1,Gucci Gucci,Kreayshawn\\r\\n445,0.00441,0.207,287667,0.878,0.421,4,0.341,-7.212,1,0.0449,89.969,4,0.135,1,Eyes Be Closed,Washed Out\\r\\n446,0.0729,0.589,248200,0.938,0.942,2,0.166,-10.475,0,0.0567,120.007,4,0.556,1,Echoes,Washed Out\\r\\n447,0.652,0.36,217798,0.362,0.000128,10,0.107,-7.102,1,0.0385,116.846,4,0.144,1,The Daily Mail,Radiohead\\r\\n448,0.00091,0.516,251011,0.66,0,9,0.0663,-5.002,0,0.0489,112.065,4,0.238,1,Civilization,Justice\\r\\n449,0.126,0.579,212227,0.767,3.28E-05,9,0.384,-3.713,1,0.078,144.001,4,0.67,1,Punch Drunk Love,Teams vs. Star Slinger\\r\\n450,0.0184,0.845,415371,0.59,0.00581,0,0.084,-8.225,1,0.0538,126.024,4,0.346,1,Principles,Benoit & Sergio\\r\\n451,0.0914,0.568,277335,0.662,0.459,8,0.317,-10.651,0,0.257,173.937,4,0.452,1,Slow Peels,Com Truise\\r\\n452,0.154,0.716,208027,0.724,0.000309,9,0.224,-8.06,1,0.24,137.131,4,0.698,1,Dead Wrong,Hanni El Khatib\\r\\n453,0.386,0.791,317467,0.729,0.0126,11,0.0771,-9.856,0,0.054,108.274,4,0.717,1,Do It Roger,Zapp\\r\\n454,0.00983,0.795,218147,0.578,0.743,5,0.115,-8.507,0,0.0569,127.014,4,0.639,1,Pharaohs (feat. Roses Gabor),SBTRKT\\r\\n455,0.00215,0.584,318373,0.761,0.0217,9,0.0989,-5.056,1,0.0287,122.494,4,0.722,1,No Fun,The Stooges\\r\\n456,0.676,0.679,282308,0.709,0,7,0.292,-5.851,0,0.133,84.543,4,0.677,1,Computer Love,Zapp\\r\\n457,0.0693,0.646,180036,0.947,0,1,0.283,-2.762,1,0.119,164.111,4,0.957,1,Dutchie Courage,Star Slinger\\r\\n458,0.0961,0.704,241733,0.49,0.000114,9,0.157,-6.667,1,0.339,155.909,4,0.646,1,Osaka Loop Line,Discovery\\r\\n459,0.00254,0.812,237320,0.554,0.698,7,0.0558,-10.978,1,0.0567,123.289,4,0.786,1,White Horse,Laid Back\\r\\n460,0.394,0.76,520133,0.971,0.775,5,0.138,-4.582,0,0.0549,125.439,4,0.992,1,Abataka - Original Mix,Ida Engberg\\r\\n461,2.15E-05,0.657,214600,0.699,0.153,11,0.0525,-4.718,0,0.0297,123.017,4,0.531,1,Danger! High Voltage (Soulchild Radio Mix),Electric Six\\r\\n462,0.185,0.731,207496,0.812,0.154,5,0.131,-6.691,1,0.0608,91.96,4,0.861,1,Say Please,Teams vs. Star Slinger\\r\\n463,0.00649,0.805,213280,0.596,0.00772,7,0.299,-6.007,1,0.119,81.004,4,0.753,1,You Don\\'t Love Me (No No No),Dawn Penn\\r\\n464,0.00947,0.718,171933,0.844,0.711,8,0.122,-8.045,1,0.0581,94.988,4,0.54,1,The Yes Strut,Teams vs. Star Slinger\\r\\n465,0.0507,0.597,183798,0.746,0.000198,11,0.493,-7.991,0,0.542,172.215,4,0.891,1,86 Carrot Gold,Teams vs. Star Slinger\\r\\n466,0.738,0.698,101039,0.923,8.21E-06,1,0.296,-5.382,0,0.316,95.009,4,0.779,1,Close to Me,Teams vs. Star Slinger\\r\\n467,0.000419,0.823,259680,0.811,0.0745,1,0.176,-6.158,1,0.0661,104.63,4,0.718,1,How Do You See Me Now,Zdar\\r\\n468,0.00176,0.819,231747,0.777,0.0931,8,0.0627,-7.734,0,0.0614,104.651,4,0.769,1,See Me Now,Cassius\\r\\n469,0.02,0.671,200754,0.781,0,2,0.0718,-5.363,1,0.311,134.02,4,0.684,1,Every Freakin\\' - DJ Ayres remix,DJ Eleven\\r\\n470,0.00402,0.872,198101,0.565,0.237,7,0.0947,-10.236,1,0.0708,125.992,4,0.885,1,Dance Our Way,DJ Eleven\\r\\n471,0.00241,0.85,205663,0.664,0.0672,0,0.192,-9.141,1,0.105,126.018,4,0.584,1,Flashing Lights,DJ Ayres\\r\\n472,0.652,0.36,217798,0.362,0.000128,10,0.107,-7.102,1,0.0385,116.845,4,0.144,1,The Daily Mail,Radiohead\\r\\n473,0.196,0.76,263733,0.76,0.00185,10,0.113,-5.964,0,0.0509,111.01,4,0.616,1,Bizness,tUnE-yArDs\\r\\n474,0.0305,0.874,217783,0.492,0,2,0.117,-4.898,1,0.328,64.992,4,0.644,1,Long Heels Red Bottoms,Trina\\r\\n475,0.0229,0.527,188560,0.871,0.155,4,0.419,-8.708,1,0.0354,120.722,4,0.12,1,I Wanna Be Your Dog,The Stooges\\r\\n476,0.000963,0.767,317320,0.712,0.00275,5,0.243,-7.28,1,0.0564,125.025,4,0.947,1,Jealousy,Martin Solveig\\r\\n477,0.233,0.328,225627,0.827,0.00517,6,0.632,-2.545,0,0.252,103.127,4,0.709,1,Embody,Sebastian\\r\\n478,0.0175,0.702,185840,0.773,0.00165,9,0.651,-3.741,1,0.214,100.006,4,0.484,1,Love In Motion - feat. Mayer Hawthorne,Sebastian\\r\\n479,0.00314,0.654,410897,0.734,0.000249,0,0.0802,-6.216,1,0.112,126.995,4,0.243,1,Save the World,Swedish House Mafia\\r\\n480,0.0369,0.448,258653,0.733,0.0425,3,0.169,-6.238,1,0.0292,142.008,4,0.404,1,Myth,Beach House\\r\\n481,0.0152,0.542,265480,0.854,0,8,0.0639,-5.041,1,0.0445,128.041,4,0.262,1,Ready 2 Go,Martin Solveig\\r\\n482,0.00206,0.469,235301,0.821,0.00914,2,0.258,-5.055,0,0.0397,173.964,4,0.226,1,We Are Young - The Popopopops Remix,Juveniles\\r\\n483,0.429,0.857,287200,0.889,5.21E-06,6,0.143,-4.382,1,0.0795,103.072,4,0.82,1,Bop Gun (One Nation) - Radio Edit,Ice Cube\\r\\n484,0.000407,0.796,279952,0.774,0.812,9,0.0784,-4.833,0,0.0509,124.989,4,0.327,1,La Funky,Destructo feat. Oliver\\r\\n485,0.0401,0.67,400742,0.897,0.0021,7,0.293,-5.19,0,0.0922,127.994,4,0.294,1,In My Mind (Axwell Remix),Ivan Gough & Feenixpawl feat. Georgi Kay\\r\\n486,0.000299,0.697,238206,0.68,0.00674,2,0.125,-6.847,1,0.0318,98.002,4,0.288,1,On\\'n\\'On - Ruined by Rick Rubin,Justice\\r\\n487,0.0193,0.352,248133,0.807,6.04E-06,0,0.0963,-7.781,1,0.173,90.772,4,0.0459,1,Don\\'t Die,Killer Mike\\r\\n488,0.122,0.687,357280,0.799,0.0011,1,0.107,-9.181,0,0.355,128.001,4,0.0397,1,Van Vogue,Azealia Banks\\r\\n489,0.0998,0.666,285320,0.811,0.0614,11,0.0588,-5.079,0,0.0357,124.954,4,0.955,1,How Do You Do?,Hot Chip\\r\\n490,0.0285,0.764,270680,0.768,0.0235,5,0.122,-5.614,1,0.0382,125.988,4,0.627,1,Night And Day,Hot Chip\\r\\n491,0.0132,0.677,271480,0.86,0.0119,1,0.0487,-5.074,1,0.0348,121.989,4,0.793,1,Don\\'t Deny Your Heart,Hot Chip\\r\\n492,0.275,0.735,212333,0.801,0,1,0.137,-5.067,1,0.0554,123.094,4,0.491,1,Focused - feat. Kid Cudi,Wale\\r\\n493,0.000483,0.286,242653,0.694,0.00252,6,0.0773,-7.481,1,0.0335,169.904,4,0.411,1,Neptune,Lemonade\\r\\n494,0.00138,0.881,259200,0.564,0,2,0.0983,-5.239,1,0.232,100.032,4,0.36,1,\"Function - feat. YG, IAmSu & Problem\",E-40\\r\\n495,0.0086,0.246,237947,0.843,0.241,4,0.137,-10.022,1,0.0396,80.047,4,0.681,1,Didn\\'t You,Cloud Nothings\\r\\n496,0.000248,0.515,172520,0.876,0.156,5,0.0606,-5.448,1,0.0375,105.128,4,0.707,1,Search Party,Small Black\\r\\n497,0.0227,0.816,222920,0.894,7.23E-05,6,0.331,-9.243,1,0.0819,99.995,4,0.968,1,Mi Swing es Tropical,Nickodemus\\r\\n498,0.00569,0.715,346773,0.518,0.772,5,0.0983,-11,0,0.0699,129.87,4,0.923,1,Stock Exchange,Miss Kittin\\r\\n499,0.0365,0.829,336906,0.637,0.0233,5,0.267,-9.481,0,0.0882,120.761,4,0.688,1,Changes,Crazy P\\r\\n500,0.289,0.444,346360,0.978,0.778,6,0.171,-6.238,1,0.0998,125.371,4,0.463,1,Play This (Also),J Rocc\\r\\n501,0.232,0.612,212944,0.725,0.011,6,0.395,-5.775,0,0.0966,195.972,4,0.153,1,Obedear,Purity Ring\\r\\n502,0.0989,0.7,285211,0.718,0.0609,2,0.218,-5.882,1,0.0535,81.997,4,0.343,1,Slow Down,Poolside\\r\\n503,0.000869,0.754,295867,0.877,0,2,0.0576,-3.486,1,0.0586,132.033,4,0.557,1,I Don\\'t Like,Chief Keef\\r\\n504,0.148,0.327,275286,0.654,0.00442,6,0.0939,-6.258,0,0.0364,102.532,3,0.262,1,Sleeping Ute,Grizzly Bear\\r\\n505,0.0173,0.646,197132,0.778,0,1,0.0702,-7.44,0,0.103,127.813,4,0.173,1,Hands On the Wheel (feat. a$Ap Rocky),ScHoolboy Q\\r\\n506,0.00991,0.486,252707,0.526,0.158,0,0.0976,-9.041,1,0.0272,75.461,4,0.726,1,The Kids Were Wrong,Memoryhouse\\r\\n507,0.473,0.551,283373,0.504,0.664,7,0.0818,-11.166,1,0.0309,115.998,4,0.137,1,Walk With Me,Memoryhouse\\r\\n508,0.0246,0.586,374133,0.806,0.000167,1,0.353,-9.542,1,0.0548,110.325,4,0.207,1,Her Fantasy,Matthew Dear\\r\\n509,0.00909,0.694,337187,0.716,0.000814,7,0.0772,-7.468,1,0.0513,121.427,4,0.896,1,Der Kommissar,After The Fire\\r\\n510,0.122,0.817,220987,0.528,0,1,0.284,-6.551,1,0.0656,100.997,4,0.161,1,Slow Down,Clyde Carson\\r\\n511,0.0764,0.611,255320,0.677,0.0698,10,0.241,-6.745,0,0.034,166.04,4,0.233,1,Genesis,Grimes\\r\\n512,0.419,0.727,239360,0.657,0,0,0.0624,-5.307,1,0.188,82.553,4,0.794,1,About to Die,Dirty Projectors\\r\\n513,0.229,0.485,330920,0.793,0.784,0,0.406,-8.693,1,0.0573,131.951,4,0.295,1,Best Night,The War On Drugs\\r\\n514,0.0413,0.52,269000,0.872,0.725,8,0.161,-8.104,1,0.0483,111.958,4,0.524,1,Brothers,The War On Drugs\\r\\n515,0.000105,0.399,304907,0.761,0.0456,9,0.0757,-6.318,1,0.0334,140.084,4,0.244,1,We Own The Sky,M83\\r\\n516,0.52,0.582,212602,0.903,0.779,0,0.243,-4.505,1,0.0335,119.457,4,0.902,1,Chicken Half,Sugarman Three\\r\\n517,0.0833,0.852,237533,0.523,0,5,0.106,-6.716,0,0.032,130.154,4,0.648,1,Two Of Hearts,Stacey Q\\r\\n518,0.0156,0.623,289640,0.806,0.0769,0,0.201,-8.533,1,0.0352,130.049,4,0.847,1,The Perfect Kiss,New Order\\r\\n519,0.145,0.844,265400,0.688,0.00351,4,0.104,-8.594,0,0.291,96.671,4,0.747,1,Can I Kick It?,A Tribe Called Quest\\r\\n520,0.0275,0.684,195373,0.603,0.000311,11,0.191,-8.127,0,0.0989,81,4,0.508,1,Sure Thing,Miguel\\r\\n521,0.000103,0.498,322933,0.553,0.528,5,0.273,-6.193,1,0.0332,111.015,4,0.228,1,Kim & Jessie,M83\\r\\n522,0.0329,0.162,247027,0.254,0.122,2,0.0631,-11.251,1,0.0359,108.943,4,0.0778,1,Outro,M83\\r\\n523,0.0842,0.671,272175,0.784,0.0121,4,0.231,-5.514,0,0.0303,122.995,4,0.545,1,We Are the People,Empire of the Sun\\r\\n524,0.597,0.792,239427,0.387,0.000106,8,0.0757,-8.192,0,0.0464,136.996,4,0.677,1,Look At Where We Are,Hot Chip\\r\\n525,0.0801,0.417,213853,0.944,0.00141,9,0.0862,-5.192,1,0.0459,109.721,4,0.376,1,Don\\'t Owe You a Thang,Gary Clark Jr.\\r\\n526,0.0726,0.739,386907,0.526,0,4,0.215,-7.384,0,0.101,143.948,4,0.374,1,Money Trees,Kendrick Lamar\\r\\n527,0.203,0.791,286213,0.916,0,2,0.0924,-2.009,1,0.178,103.709,4,0.62,1,Hood Pass Intact feat. MC Eiht,D\\xc3\\xa2m-Funk\\r\\n528,0.00341,0.491,128187,0.935,0.348,1,0.121,-4.22,1,0.0343,157.993,4,0.964,1,Got No Money,FIDLAR\\r\\n529,0.0581,0.748,306600,0.586,0,1,0.156,-2.554,1,0.0512,140.067,4,0.162,1,Birthday Song,2 Chainz\\r\\n530,7.79E-05,0.351,141305,0.931,0.129,6,0.226,-5.746,0,0.0539,126.394,4,0.604,1,Oh,FIDLAR\\r\\n531,0.001,0.48,139560,0.964,0.000273,7,0.131,-3.681,1,0.0656,98.496,4,0.579,1,No Waves,FIDLAR\\r\\n532,3.41E-05,0.123,99413,0.963,0.0329,10,0.292,-4.182,1,0.0543,198.04,4,0.68,1,Wake Bake Skate,FIDLAR\\r\\n533,0.00814,0.401,93267,0.972,0.878,0,0.382,-2.236,1,0.0886,152.839,4,0.405,1,No Ass,FIDLAR\\r\\n534,0.00023,0.228,182600,0.886,0.848,9,0.307,-3.87,0,0.0497,165.201,4,0.499,1,Black Out Stout,FIDLAR\\r\\n535,0.0214,0.465,295880,0.633,0.79,11,0.105,-9.493,0,0.0578,130.074,4,0.0451,1,Plague,Crystal Castles\\r\\n536,0.11,0.438,192000,0.539,0,8,0.143,-9.578,1,0.166,166.649,5,0.0759,1,Kerosene,Crystal Castles\\r\\n537,0.0036,0.396,186627,0.601,0.531,0,0.116,-9.347,1,0.0515,129.996,4,0.351,1,Wrath Of God,Crystal Castles\\r\\n538,0.000183,0.596,178800,0.628,0.00767,5,0.187,-7.582,0,0.0503,139.965,4,0.52,1,Pale Flesh,Crystal Castles\\r\\n539,0.000964,0.276,141627,0.766,0.858,7,0.15,-6.012,0,0.0373,158.188,4,0.547,1,Past Lives,DIIV\\r\\n540,0.104,0.241,194600,0.588,0.00042,7,0.087,-6.914,1,0.0313,171.882,4,0.506,1,Pictures Of Matchstick Men,Status Quo\\r\\n541,0.000341,0.821,397166,0.902,0.909,11,0.0898,-7.203,1,0.0542,112.98,4,0.269,1,Get Up,Craig Bratley\\r\\n542,0.854,0.354,476164,0.228,0.8,0,0.113,-10.304,1,0.0296,82.758,3,0.0745,1,Cloud Atlas End Title,Tom Tykwer\\r\\n543,0.0372,0.638,210160,0.897,0.00748,7,0.0691,-5.78,0,0.0504,133.948,4,0.915,1,Keep You,Wild Belle\\r\\n544,0.0101,0.651,247360,0.642,0.000186,2,0.0902,-4.276,1,0.167,88.237,4,0.711,1,Anything New,Bibio\\r\\n545,0.0543,0.625,193147,0.576,4.07E-05,11,0.187,-5.693,0,0.175,179.063,4,0.223,1,Adorn,Miguel\\r\\n546,0.169,0.759,346160,0.772,0.0687,7,0.0668,-8.052,1,0.125,89.245,4,0.752,1,Louie Louie,Toots & The Maytals\\r\\n547,0.0175,0.726,190360,0.664,0,0,0.195,-6.275,1,0.108,75.571,4,0.494,1,Under Mi Sensi,Barrington Levy\\r\\n548,0.8,0.611,448315,0.9,0.872,1,0.19,-10.026,1,0.0593,129.729,4,0.322,1,Loner,Burial\\r\\n549,0.0845,0.865,233300,0.549,0.158,0,0.081,-10.083,1,0.244,142.8,4,0.619,1,Murderer,Barrington Levy\\r\\n550,0.00135,0.794,375179,0.481,0.883,6,0.0833,-11.97,1,0.149,114.003,4,0.314,1,Space Cakes - Original,Tanner Ross\\r\\n551,0.0193,0.614,323600,0.677,0.518,9,0.108,-8.317,0,0.0323,126.477,4,0.726,1,\"There, There\",Radiohead\\r\\n552,0.0113,0.535,258413,0.857,0.00751,9,0.472,-5.2,0,0.0543,91.053,4,0.431,1,Nightcall,Kavinsky\\r\\n553,0.453,0.815,230307,0.672,0,8,0.112,-5.675,1,0.27,151.362,4,0.813,1,Jacket & Tie,Toyan\\r\\n554,0.00104,0.595,247175,0.794,0.00733,0,0.0693,-5.186,1,0.0345,131.619,4,0.685,1,Doom And Gloom - Jeff Bhasker Mix,The Rolling Stones\\r\\n555,4.06E-05,0.683,230587,0.698,0.000113,9,0.058,-6.255,1,0.0395,125.999,4,0.962,1,All Of Me,Tanlines\\r\\n556,0.0829,0.722,192026,0.619,0,9,0.0533,-8.324,0,0.352,140.031,4,0.606,1,Females Welcomed (feat. Reija Lee),Trinidad James\\r\\n557,0.0985,0.647,277375,0.841,0,10,0.897,-2.507,1,0.164,139.963,4,0.886,1,Blueberry (Pills & Cocaine) (feat. Danny Brown),Darq E Freaker\\r\\n558,0.000455,0.428,146227,0.972,0.000854,11,0.313,-4.329,0,0.0514,133.064,4,0.48,1,Max Can\\'t Surf,FIDLAR\\r\\n559,9.19E-06,0.325,109533,0.918,0.000288,2,0.276,-4.823,1,0.071,95.537,4,0.184,1,Wait for the Man,FIDLAR\\r\\n560,0.074,0.912,400751,0.781,0.762,7,0.348,-7.018,0,0.0444,119.978,4,0.891,1,Inspector Norse,Todd Terje\\r\\n561,0.0324,0.771,246573,0.416,0,0,0.111,-8.188,0,0.0894,131.952,4,0.218,1,Love Sosa,Chief Keef\\r\\n562,0.00069,0.759,398615,0.764,0.719,10,0.116,-7.416,0,0.0446,117.996,4,0.315,1,This Time Around,Softwar\\r\\n563,0.135,0.691,264213,0.737,0.0291,10,0.127,-5.758,0,0.0447,108.049,4,0.675,1,See Blind Through,Canyons\\r\\n564,0.139,0.701,261120,0.822,0.0526,6,0.0726,-6.13,1,0.0366,129.03,4,0.739,1,Vowels = space and time,Grimes\\r\\n565,0.263,0.736,260413,0.58,0.663,5,0.101,-9.643,0,0.0485,140.04,4,0.144,1,Be A Body,Grimes\\r\\n566,0.131,0.564,171573,0.912,8.05E-06,5,0.369,-4.718,0,0.143,92.054,4,0.582,1,Unchained (The Payback / Untouchable),James Brown\\r\\n567,0.164,0.824,181800,0.513,0,8,0.0487,-9.591,1,0.208,99.938,4,0.568,1,Stomp - Dirty,5kinAndBone5\\r\\n568,0.0451,0.406,152040,0.74,0.722,0,0.637,-7.232,1,0.031,92.333,4,0.822,1,Borrowed Time,Parquet Courts\\r\\n569,0.116,0.762,204293,0.883,0,0,0.3,-4.397,1,0.18,140.974,4,0.781,1,Young N*****,Gucci Mane\\r\\n570,0.078,0.54,187847,0.77,0,7,0.0846,-7.748,1,0.354,99.882,4,0.62,1,All Gold Everything,Trinidad James\\r\\n571,0.109,0.834,389508,0.481,0.822,8,0.111,-9.511,1,0.135,121.999,4,0.306,1,What I Might Do - Club Mix,Ben Pearce\\r\\n572,0.00855,0.714,155337,0.905,2.55E-05,8,0.146,-2.663,1,0.0289,125.927,4,0.824,1,I Love It (feat. Charli XCX) - Original Version,Icona Pop\\r\\n573,0.0015,0.36,162168,0.774,0.807,3,0.0996,-8.758,1,0.0384,80.205,4,0.664,1,Kenosha,Swearin\\'\\r\\n574,0.018,0.609,209760,0.798,8.68E-06,5,0.434,-4.448,0,0.0404,130.034,4,0.405,1,Fineshrine,Purity Ring\\r\\n575,0.0047,0.777,309180,0.688,0.69,8,0.096,-8.692,0,0.0681,126.019,4,0.18,1,Flow,Disclosure\\r\\n576,0.135,0.749,267307,0.647,0,2,0.142,-6.878,1,0.137,146.024,4,0.196,1,C\\'Est La Vie,Booba\\r\\n577,0.0202,0.67,260853,0.544,0.00792,1,0.14,-9.643,0,0.124,140.037,4,0.331,1,Caramel,Booba\\r\\n578,0.00627,0.684,228907,0.637,0,9,0.297,-6.378,1,0.061,140.063,4,0.245,1,O.G,Booba\\r\\n579,0.151,0.633,321627,0.85,0,5,0.0556,-5.915,0,0.344,97.933,4,0.761,1,HLM 3,Lunatic\\r\\n580,0.049,0.594,457205,0.77,0.9,0,0.103,-7.082,1,0.0629,125.987,4,0.14,1,The Mighty Ming - Original Club Mix,Funkagenda\\r\\n581,0.0119,0.473,196664,0.794,0.00218,9,0.418,-5.151,1,0.0462,139.313,4,0.293,1,Harlem Shake,Baauer\\r\\n582,0.00207,0.931,255844,0.606,0.461,1,0.092,-8.366,1,0.269,94.018,4,0.865,1,Purp Walk,Lunice\\r\\n583,0.432,0.744,232611,0.685,0,7,0.319,-8.332,1,0.34,87.675,4,0.56,1,Do You Like It? (Feat. Kool A.D),Chaz Van Queen\\r\\n584,0.0452,0.752,150053,0.783,0,9,0.194,-7.507,1,0.151,159.912,4,0.611,1,Gucci On The Rise,Gucci Mane\\r\\n585,0.00469,0.821,280173,0.469,0,8,0.141,-7.152,1,0.0473,132.002,4,0.321,1,Hate Bein\\' Sober,Chief Keef\\r\\n586,0.00271,0.908,237293,0.513,0,2,0.141,-5.318,1,0.0973,130.047,4,0.256,1,Traffic,Lil Reese\\r\\n587,0.0401,0.636,267147,0.702,0,11,0.105,-5.437,1,0.0743,125.998,4,0.471,1,Hold Me Back,Rick Ross\\r\\n588,0.239,0.839,636213,0.583,0,1,0.262,-5.941,1,0.268,87.99,4,0.557,1,Oldie,Odd Future\\r\\n589,0.0425,0.79,173160,0.531,0,8,0.266,-6.968,1,0.197,86.306,4,0.498,1,Started From the Bottom,Drake\\r\\n590,0.0596,0.787,121874,0.81,0.125,5,0.625,-7.822,1,0.0993,77.505,4,0.606,1,Dum Dum,Baauer\\r\\n591,0.000451,0.603,342020,0.978,0.493,11,0.404,-1.367,0,0.186,150.072,4,0.496,1,Higher - Extended,Just Blaze and Baauer\\r\\n592,0.00402,0.937,225940,0.67,0,9,0.108,-6.149,1,0.107,136.029,4,0.592,1,\"Gone, Gone\",Juicy J\\r\\n593,0.0912,0.748,275907,0.703,0.0036,2,0.0635,-11.869,1,0.0663,110.615,4,0.618,1,Rock Creek Park,The Blackbyrds\\r\\n594,0.00741,0.727,250587,0.235,0.0159,0,0.0769,-20.263,1,0.16,127.16,4,0.59,1,Leaving Babylon,Bad Brains\\r\\n595,0.000117,0.857,222330,0.948,0.816,10,0.317,-6.901,0,0.204,140.002,4,0.669,1,Trap Shit V7,UZ\\r\\n596,0.0295,0.793,432800,0.978,0.0331,11,0.0764,-9.229,0,0.0648,124.922,4,0.711,1,Good Life - Original 12\\'\\' Mix,Inner City\\r\\n597,0.0492,0.738,461560,0.808,0.734,10,0.036,-9.772,0,0.0522,120.248,4,0.816,1,Big Fun - Original 12\\'\\' Mix,Inner City\\r\\n598,0.00905,0.864,223071,0.86,0,11,0.183,-1.92,1,0.178,140.029,4,0.883,1,Piss Test (feat. Juicy J & Dany Brown),A-Trak\\r\\n599,0.0234,0.688,219618,0.457,0,7,0.127,-9.86,1,0.0338,109.278,4,0.645,1,Can\\'t Seem To Make You Mine,Sky Saxon & The Seeds\\r\\n600,0.423,0.786,267160,0.525,0.461,1,0.0876,-8.271,0,0.0388,128.014,4,0.43,1,Borderline,Classixx\\r\\n601,0.00201,0.734,394857,0.686,0.11,5,0.0408,-9.781,0,0.0761,128.021,4,0.543,1,Elevate - Q45 Remix,Toni Toni Lee\\r\\n602,0.0196,0.765,246823,0.891,0.0145,9,0.0293,-6.43,0,0.0514,126.99,4,0.564,1,With You (feat. Alexis Taylor),Carte Blanche (feat. Alexis Taylor)\\r\\n603,0.00263,0.725,238640,0.798,2.14E-06,0,0.0791,-6.75,0,0.162,124.045,4,0.72,1,Can\\'t Shake This Feeling,Grum\\r\\n604,0.014,0.962,156800,0.592,0.642,9,0.134,-11.716,0,0.108,130.684,4,0.361,1,Check Me Out Like,Blaqstarr\\r\\n605,0.00167,0.845,292654,0.455,5.97E-05,11,0.0414,-5.209,1,0.0693,119.987,4,0.832,1,Second Summer,YACHT\\r\\n606,0.000321,0.5,261587,0.95,0.0293,6,0.382,-4.333,1,0.0677,120.038,4,0.298,1,Demon To Lean On,Wavves\\r\\n607,0.0537,0.648,322760,0.547,0.0439,5,0.0826,-6.547,1,0.0245,141.378,4,0.851,1,Walk In The Park,Beach House\\r\\n608,0.00576,0.77,347387,0.69,0.0107,9,0.0684,-4.903,0,0.0977,118.989,4,0.721,1,Reckless (With Your Love),Azari & III\\r\\n609,3.13E-05,0.61,420384,0.907,0.698,11,0.23,-5.857,0,0.0384,112.007,4,0.397,1,Reckless (With Your Love) - Tensnake Remix,Azari & III\\r\\n610,0.00318,0.663,146906,0.877,0.00217,5,0.124,-3.37,0,0.0538,135.989,4,0.396,1,Never Be Your Woman (Shy FX Radio Edit) [feat. Emeli Sand\\xc3\\xa9],Wiley\\r\\n611,0.000548,0.831,155042,0.373,0.000362,1,0.1,-6.896,1,0.157,96.115,4,0.356,1,(Bonus) Break Her Down,Iamsu!\\r\\n612,0.0482,0.653,141724,0.817,0,1,0.157,-5.077,1,0.239,135.345,4,0.493,1,Molly Ringwald,Danny Brown\\r\\n613,8.34E-05,0.72,255135,0.748,0,5,0.11,-7.607,1,0.447,182.064,4,0.555,1,8 Feet Tall,Problem\\r\\n614,0.769,0.808,118353,0.593,2.07E-06,1,0.111,-9.395,1,0.344,89.876,4,0.88,1,36 Chamber Flow,Flatbush Zombies\\r\\n615,0.0302,0.798,216585,0.481,0,7,0.128,-10.488,1,0.314,127.136,4,0.64,1,Trill Hoe,Western Tink\\r\\n616,0.00706,0.586,245733,0.915,0.236,6,0.192,-6.264,1,0.031,117.99,4,0.747,1,Saturday Love,Toro y Moi\\r\\n617,0.15,0.695,240040,0.615,0.000212,7,0.0879,-5.325,0,0.042,124.015,4,0.425,1,Sweater Weather,The Neighbourhood\\r\\n618,0.00749,0.587,250299,0.784,0.0126,9,0.264,-4.878,1,0.0469,139.99,4,0.13,1,Oh My - Club Mix,The Partysquad\\r\\n619,0.0765,0.675,205533,0.862,0.000609,8,0.364,-5.309,0,0.0501,124.982,4,0.819,1,Saltkin,Purity Ring\\r\\n620,0.116,0.671,239613,0.73,0.000356,8,0.201,-6.773,1,0.0369,112.011,4,0.302,1,Lofticries,Purity Ring\\r\\n621,0.00221,0.632,156614,0.793,0,10,0.171,-4.171,0,0.102,189.992,4,0.393,1,Get It In,Iamsu!\\r\\n622,0.0106,0.774,227327,0.92,0.433,11,0.146,-4.213,1,0.25,128.97,4,0.223,1,My Bad - Club Mix,The Partysquad\\r\\n623,0.0415,0.941,207040,0.685,0,10,0.08,-5.24,1,0.0752,97.524,4,0.695,1,I\\'m Different,2 Chainz\\r\\n624,0.0426,0.794,248413,0.811,1.07E-06,6,0.101,-8.966,0,0.038,116.047,4,0.865,1,Get Lucky - Radio Edit,Daft Punk\\r\\n625,0.0436,0.805,192623,0.634,0,7,0.0579,-7.759,1,0.0535,143.944,4,0.76,1,Had A Dream,EMP DASME\\r\\n626,0.00584,0.394,225680,0.669,0,7,0.334,-4.461,1,0.056,169.929,4,0.195,1,Recover,CHVRCHES\\r\\n627,0.0347,0.635,224747,0.459,0.000184,2,0.077,-7.59,1,0.0491,114.865,4,0.345,1,Now Is Not the Time,CHVRCHES\\r\\n628,0.00116,0.669,211042,0.765,0,8,0.312,-7.885,1,0.051,131.946,4,0.163,1,MDA,Problem\\r\\n629,0.0637,0.742,304880,0.912,0,6,0.599,-1.188,0,0.13,137.975,4,0.562,1,Pop That,French Montana\\r\\n630,0.244,0.624,205973,0.752,0,4,0.131,-5.43,1,0.121,134.021,4,0.862,1,Young & Gettin\\' It - feat. Kirko Bangz,Meek Mill\\r\\n631,0.45,0.622,218480,0.628,0,7,0.251,-9.964,0,0.243,144.812,4,0.304,1,Best Wishes,Iamsu!\\r\\n632,0.121,0.719,216000,0.66,0,2,0.127,-8.22,1,0.0829,119.996,4,0.357,1,Kids,Iamsu!\\r\\n633,0.000478,0.525,200015,0.8,0.429,11,0.319,-11.484,1,0.122,80.032,4,0.52,1,Levitate,Paper Diamond\\r\\n634,0.14,0.525,291162,0.538,0.117,11,0.095,-9.366,0,0.0783,175.953,4,0.791,1,Get Free (feat. Amber of Dirty Projectors),Major Lazer\\r\\n635,0.000373,0.472,246427,0.855,0.93,0,0.887,-6.937,1,0.069,154.908,4,0.166,1,Balance,Future Islands\\r\\n636,0.00417,0.9,262168,0.929,2.04E-05,7,0.524,-0.718,1,0.148,129.991,4,0.566,1,The Lion - Original Mix,The Partysquad\\r\\n637,0.000839,0.802,334849,0.586,0.0212,5,0.0587,-6.245,1,0.103,128.011,4,0.407,1,For Your Love - Club Edit,The Partysquad\\r\\n638,0.000423,0.723,358436,0.669,0.936,11,0.0751,-5.026,0,0.0582,126.013,4,0.156,1,For Your Love - Olav Basoski Remix,The Partysquad\\r\\n639,0.284,0.797,253187,0.508,0.00859,9,0.356,-8.154,0,0.0455,118.032,4,0.958,1,Slippin\\xe2\\x80\\x99,Quadron\\r\\n640,0.00255,0.869,224107,0.426,0.534,7,0.113,-8.187,1,0.202,127.059,4,0.457,1,Take You On,Peaches\\r\\n641,0.0302,0.756,256933,0.595,1.98E-06,1,0.146,-6.924,1,0.0333,130.031,4,0.0681,1,One of Those Nights,Juicy J\\r\\n642,0.0267,0.821,632693,0.793,1.37E-05,6,0.0751,-9.003,0,0.0391,116.009,4,0.91,1,Get Lucky - Daft Punk Remix,Daft Punk\\r\\n643,0.000891,0.806,297907,0.772,0.864,6,0.101,-14.369,1,0.0856,125.325,4,0.436,1,No Way Back,Adonis\\r\\n644,0.152,0.702,420107,0.504,5.11E-06,9,0.22,-16.794,1,0.342,121.374,4,0.794,1,Ride The Rhythm,On The House featuring Marshall Jefferson\\r\\n645,0.0956,0.646,282791,0.929,1.12E-06,2,0.159,-1.501,1,0.194,128.995,4,0.229,1,Move Your Body - Extended Mix,Benny Benassi\\r\\n646,0.000736,0.491,281853,0.883,3.19E-05,4,0.369,-4.986,0,0.0306,131.75,4,0.516,1,Rockin\\' In The Free World,Neil Young\\r\\n647,0.028,0.291,192960,0.901,0.627,2,0.116,-2.327,0,0.0563,150.052,4,0.511,1,Feels Like We Only Go Backwards,Tame Impala\\r\\n648,0.274,0.683,266173,0.776,0.0748,0,0.0885,-7.029,1,0.0754,126.18,4,0.667,1,Half Full Glass of Wine,Tame Impala\\r\\n649,0.00845,0.799,207843,0.605,0.0143,7,0.485,-10.011,1,0.286,194.055,4,0.378,1,\"Bubble Butt [Radio Mix] [feat. Bruno Mars, 2 Chainz, Tyga & Mystic]\",Major Lazer\\r\\n650,0.00968,0.836,230627,0.817,0,7,0.114,-5.672,1,0.0677,112.007,4,0.658,1,Wop (Official Version),J. Dash\\r\\n651,0.0613,0.931,202199,0.415,0,7,0.059,-8.491,1,0.293,97.995,4,0.614,1,Don\\xe2\\x80\\x99t Drop That Thun Thun,Finatticz\\r\\n652,0.00579,0.683,284267,0.989,0.00108,9,0.0964,-2.092,0,0.0616,91.558,4,0.78,1,Give It Away,Red Hot Chili Peppers\\r\\n653,0.0472,0.379,570733,0.782,0.748,11,0.265,-8.163,1,0.0358,101.698,4,0.529,1,Wakin on a Pretty Day,Kurt Vile\\r\\n654,0.000289,0.771,227143,0.949,0.602,8,0.595,-4.712,1,0.175,111.959,4,0.372,1,Hulk (Dillon Francis Remix),Clockwork\\r\\n655,0.000183,0.695,295714,0.792,0.439,9,0.0638,-4.595,0,0.0328,112.008,4,0.424,1,Dill the Noise,Dillon Francis and Kill The Noise\\r\\n656,0.000258,0.375,212947,0.804,0.694,7,0.322,-5.673,0,0.0372,154.066,4,0.394,1,Dead Sound,The Raveonettes\\r\\n657,0.00533,0.421,164289,0.8,0.332,11,0.381,-5.85,1,0.303,189.935,4,0.0951,1,Rvtchet Bitch,Brillz & Teddy Tuxedo\\r\\n658,0.0216,0.886,217893,0.474,0,1,0.088,-8.045,0,0.274,150.068,4,0.823,1,Swing,Savage\\r\\n659,0.0597,0.65,242056,0.985,0.325,6,0.36,-3.406,0,0.133,153.009,4,0.667,1,You & Me - Baauer Remix,Disclosure\\r\\n660,0.0155,0.76,285651,0.944,0.85,6,0.363,-3.793,0,0.0733,123.985,4,0.294,1,Next Order,Dog Blood\\r\\n661,0.0645,0.824,180107,0.883,0.0707,0,0.409,-2.715,1,0.108,127.989,4,0.846,1,It\\'s You,Duck Sauce\\r\\n662,0.0553,0.482,350120,0.72,2.07E-06,2,0.461,-6.812,1,0.271,90.999,4,0.222,1,m.A.A.d city,Kendrick Lamar\\r\\n663,0.00778,0.786,263120,0.604,0,6,0.102,-8.372,1,0.0614,140.054,4,0.502,1,Bounce It,Juicy J\\r\\n664,0.00842,0.853,139240,0.578,0,10,0.095,-4.897,0,0.2,98.027,4,0.566,1,Pu$$y Magnet (feat. Keayshawn),Roach Gigz\\r\\n665,0.315,0.794,236280,0.82,0,11,0.531,-5.214,1,0.152,140.042,4,0.821,1,Fashion Killa,A$AP Rocky\\r\\n666,0.114,0.725,251333,0.661,0,7,0.291,-3.903,1,0.131,127.82,4,0.432,1,I Wanna Be With You,DJ Khaled\\r\\n667,0.025,0.854,207264,0.46,0,10,0.128,-9.71,0,0.14,97.512,4,0.492,1,Gas Pedal (feat. IamSu),Sage The Gemini\\r\\n668,0.436,0.862,198531,0.364,0,11,0.0688,-9.727,0,0.137,97.51,4,0.766,1,Red Nose,Sage The Gemini\\r\\n669,0.461,0.432,262857,0.703,0,10,0.779,-3.845,0,0.332,187.302,3,0.675,1,\"U.O.E.N.O. Remix (feat. Future, Wiz Khalifa)\",Rocko\\r\\n670,0.0235,0.847,246100,0.713,0,6,0.331,-3.89,0,0.241,132.063,4,0.338,1,VERSACE,Flap Jack\\r\\n671,0.444,0.654,165432,0.794,0,1,0.127,-4.307,1,0.322,96.973,4,0.464,1,Strictly 4 My Jeeps,Action Bronson\\r\\n672,0.000134,0.701,389493,0.914,0.000137,7,0.169,-4.463,1,0.129,123.966,4,0.372,1,The Giver - Original Mix,Duke Dumont\\r\\n673,0.00264,0.844,310334,0.728,0.865,11,0.0544,-6.805,0,0.0582,124.297,4,0.635,1,Lean & Bounce,Duke Dumont\\r\\n674,0.155,0.582,311093,0.884,0,8,0.0725,-5.635,0,0.166,150.195,4,0.67,1,Swishas and Dosha - Main Version - Clean,UGK\\r\\n675,0.0352,0.697,172760,0.682,0,7,0.664,-9.022,1,0.219,155.742,4,0.672,1,Players Anthem,UGK\\r\\n676,0.003,0.766,227027,0.453,3.49E-05,6,0.0923,-6.651,0,0.067,100.002,4,0.346,1,\"Hold On, We\\'re Going Home\",Drake\\r\\n677,0.426,0.872,188347,0.541,0.000789,5,0.132,-5.911,1,0.103,95.971,4,0.653,1,Living,2 Chainz\\r\\n678,0.0152,0.621,335156,0.813,0,6,0.691,-3.59,0,0.158,141.91,4,0.524,1,Taylor Gang - Bonus Track,Wiz Khalifa\\r\\n679,0.311,0.675,205740,0.617,0,10,0.19,-7.74,1,0.256,140.124,4,0.508,1,I\\'m A Martian,Brian Pumper\\r\\n680,0.104,0.689,229853,0.879,0.0376,0,0.49,-4.03,0,0.0978,170.036,4,0.544,1,The Drop,Bro Safari\\r\\n681,0.011,0.63,160858,0.664,0.082,9,0.105,-7.245,1,0.172,179.955,4,0.231,1,Drippin,MiM0SA\\r\\n682,0.00246,0.514,296400,0.75,0.0285,2,0.139,-7.847,1,0.028,86.018,4,0.551,1,Heaven,TR/ST\\r\\n683,0.0557,0.599,222160,0.677,0.00018,11,0.434,-6.328,1,0.0314,126.012,4,0.108,1,I Need You,Glass Figure\\r\\n684,0.0281,0.64,197120,0.888,8.01E-05,1,0.0584,-5.251,0,0.169,87.93,4,0.664,1,From Nowhere,Dan Croll\\r\\n685,0.475,0.599,228467,0.533,0.00153,9,0.235,-14.032,0,0.0472,122.262,4,0.609,1,I Follow Rivers,Lykke Li\\r\\n686,0.356,0.667,234994,0.901,0.00393,9,0.0774,-3.719,0,0.0275,140.026,4,0.824,1,L\\'Amour Parfait,Yelle\\r\\n687,0.109,0.742,214693,0.77,0.0239,10,0.104,-6.339,0,0.0514,96.988,4,0.687,1,Northern Lights,Kate Boy\\r\\n688,0.0938,0.874,281373,0.704,0,9,0.409,-6.27,1,0.102,119.954,4,0.444,1,Shabba,A$AP Ferg\\r\\n689,0.152,0.726,178507,0.834,0.683,10,0.0845,-5.564,1,0.0565,130.04,4,0.574,1,Work,A$AP Ferg\\r\\n690,0.0247,0.834,285947,0.732,0,1,0.112,-5.121,1,0.138,130.011,4,0.308,1,Work REMIX,A$AP Ferg\\r\\n691,0.00469,0.712,252313,0.865,0.0412,1,0.121,-6.411,1,0.083,113.015,4,0.831,1,The Way We Are,Kate Boy\\r\\n692,0.422,0.422,260276,0.641,0,10,0.317,-4.947,0,0.323,187.027,3,0.668,1,\"U.O.E.N.O. (feat. Rick Ross, Future)\",Rocko\\r\\n693,0.268,0.651,182384,0.773,0,6,0.172,-6.855,0,0.262,129.882,4,0.418,1,Now You Do,A-1\\r\\n694,0.00142,0.728,294011,0.77,0.229,10,0.603,-4.945,0,0.0426,108.991,4,0.668,1,Holding On - Jerome LOL Remix,Classixx\\r\\n695,0.0296,0.907,849960,0.643,0.0265,1,0.105,-8.657,0,0.0549,124.909,4,0.363,1,Music Is the Answer - Original Extended 12-Inch Mix,Celeda\\r\\n696,0.00255,0.855,233272,0.898,2.95E-05,7,0.0563,-3.863,1,0.061,135.965,4,0.525,1,Test Me - UZ Remix,Flosstradamus & DJ Sliink\\r\\n697,0.000901,0.769,215294,0.792,0,7,0.385,-4.086,1,0.111,136.021,4,0.323,1,Test Me,Flosstradamus & DJ Sliink\\r\\n698,0.00525,0.7,307467,0.675,0,2,0.657,-6.362,1,0.149,124.882,4,0.227,1,No New Friends - SFTB Remix,DJ Khaled\\r\\n699,0.0215,0.825,199973,0.489,0,11,0.111,-9.32,1,0.263,96.99,4,0.424,1,R.I.P.,Jeezy\\r\\n700,0.015,0.607,216453,0.913,0.118,11,0.164,-6.822,1,0.069,124.677,4,0.517,1,Baby Blue,Badfinger\\r\\n701,0.0193,0.751,211825,0.882,0,1,0.15,-5.605,1,0.0819,140.103,4,0.657,1,Dip,Danny Brown\\r\\n702,0.32,0.723,210880,0.848,0,5,0.144,-7.11,1,0.0833,116.021,4,0.261,1,25 Bucks [feat. Purity Ring],Danny Brown\\r\\n703,0.00152,0.626,299383,0.888,0.0551,9,0.243,-4.981,0,0.0461,126.976,4,0.728,1,Fascism,Sam Sparro\\r\\n704,0.00723,0.743,259683,0.633,0,9,0.246,-8.224,1,0.235,85.041,4,0.398,1,Marc Jacobs,Riff Raff\\r\\n705,0.224,0.752,437293,0.767,0.931,5,0.0833,-8.022,0,0.0469,117.973,4,0.564,1,One Of Us - Original Mix,Iron Galaxy & Sexlife\\r\\n706,0.000768,0.66,214636,0.763,0.0389,4,0.0637,-6.832,0,0.0636,137.932,4,0.661,1,Can We Go Up?,Paper Diamond\\r\\n707,0.00144,0.211,162436,0.963,0.000732,7,0.162,-4.061,1,0.118,128.113,3,0.395,1,This Lonely Morning,Best Coast\\r\\n708,0.0252,0.528,290933,0.514,0.0894,2,0.0725,-11.909,1,0.133,122.872,4,0.428,1,Time Has Come Today,The Chambers Brothers\\r\\n709,4.91E-05,0.442,207027,0.797,0.293,1,0.0749,-7.352,1,0.0349,135.018,4,0.274,1,Sad Eyes,Crystal Castles\\r\\n710,0.0468,0.876,170480,0.716,0.000482,1,0.0667,-6.884,1,0.135,131.942,4,0.758,1,Wearing My Rolex - Radio Edit,Wiley\\r\\n711,0.00174,0.67,174122,0.848,0.00168,0,0.385,-5.103,0,0.0537,124.029,4,0.46,1,Need U (100%) [feat. A*M*E] [Radio Edit],Duke Dumont\\r\\n712,0.268,0.237,311680,0.89,0.843,5,0.122,-7.445,1,0.0599,169.792,4,0.308,1,Stoned and Starving,Parquet Courts\\r\\n713,0.0438,0.59,453949,0.721,0.0155,11,0.352,-8.32,0,0.0317,111.524,4,0.663,1,Reflektor,Arcade Fire\\r\\n714,0.000334,0.907,183581,0.616,0.425,6,0.11,-7.073,0,0.0577,124.036,4,0.614,1,Jack,Breach\\r\\n715,0.0175,0.764,198907,0.547,0.000161,0,0.23,-8.6,1,0.0576,89.993,4,0.404,1,Tennis Court,Lorde\\r\\n716,0.0426,0.667,280080,0.465,0.00649,8,0.465,-8.096,1,0.0339,123.883,4,0.338,1,Primetime (feat. Miguel),Janelle Mon\\xc3\\xa1e\\r\\n717,0.00349,0.772,227880,0.407,2.40E-05,6,0.0705,-7.442,0,0.0907,100.006,4,0.287,1,\"Hold On, We\\'re Going Home\",Drake\\r\\n718,0.717,0.345,237973,0.313,0.000822,4,0.1,-10.098,1,0.0681,207.969,4,0.166,1,Hannah Hunt,Vampire Weekend\\r\\n719,0.0151,0.502,255632,0.732,0.000119,1,0.0897,-5.45,1,0.168,122.025,4,0.529,1,Latch,Disclosure\\r\\n720,0.03,0.35,313707,0.844,0,1,0.177,-4.161,0,0.0438,114.64,4,0.107,1,Play by Play,Autre Ne Veut\\r\\n721,0.344,0.69,237040,0.737,0,1,0.243,-4.123,1,0.0363,115.02,4,0.821,1,I Blame Myself,Sky Ferreira\\r\\n722,0.278,0.716,205800,0.568,1.98E-06,2,0.385,-8.904,1,0.212,136.894,4,0.915,1,Sunday,Earl Sweatshirt\\r\\n723,0.591,0.624,251627,0.724,7.79E-06,10,0.101,-7.113,1,0.101,78.008,4,0.62,1,Step,Vampire Weekend\\r\\n724,0.189,0.74,261360,0.798,0.00128,0,0.305,-6.55,1,0.146,119.964,4,0.574,1,You\\'re Not Good Enough,Blood Orange\\r\\n725,0.0543,0.81,527705,0.949,0.957,2,0.155,-8.732,1,0.0428,121.971,4,0.778,1,Strandbar (disko),Todd Terje\\r\\n726,0.886,0.574,217053,0.324,0.0817,0,0.28,-10.993,1,0.0307,91.007,4,0.226,1,Open,Rhye\\r\\n727,0.076,0.741,257733,0.894,4.89E-05,2,0.0835,-5.648,1,0.069,111.969,4,0.31,1,Falling,HAIM\\r\\n728,0.00963,0.667,277688,0.848,0.000213,10,0.317,-6.164,0,0.05,119.975,4,0.895,1,White Noise,Disclosure\\r\\n729,0.000195,0.122,377177,0.913,0.713,11,0.269,-5.815,0,0.0499,185.906,4,0.0957,1,Bumpy Road,Destruction Unit\\r\\n730,0.0715,0.869,275867,0.712,0,9,0.272,-6.136,1,0.103,120,4,0.458,1,Shabba,A$AP Ferg\\r\\n731,0.0246,0.841,283693,0.733,0,1,0.174,-5.077,1,0.142,130.009,4,0.291,1,Work REMIX,A$AP Ferg\\r\\n732,0.0116,0.816,224853,0.543,0,0,0.13,-6.923,1,0.238,95.04,4,0.373,1,Dope,Tyga\\r\\n733,0.649,0.288,171620,0.394,0.712,7,0.145,-14.352,1,0.0399,151.632,3,0.0733,1,Here Comes The Night Time II,Arcade Fire\\r\\n734,0.0392,0.57,405213,0.742,0.177,6,0.0993,-12.475,1,0.0366,127.193,4,0.039,1,Warm In The Winter,Glass Candy\\r\\n735,0.00626,0.807,442213,0.634,0.0288,11,0.0442,-9.035,1,0.0727,94.242,4,0.674,1,Don\\'t Let It Get to Your Head,Black Harmony\\r\\n736,0.0086,0.656,224286,0.787,0.0923,8,0.376,-5.01,1,0.043,94.495,4,0.0933,1,We Fall Down,ASTR\\r\\n737,0.0152,0.333,264384,0.789,0,6,0.0639,-5.784,1,0.0782,82.66,4,0.338,1,R U With Me,ASTR\\r\\n738,0.064,0.652,224685,0.744,2.87E-05,7,0.342,-4.098,0,0.0378,123.006,4,0.488,1,Blue Hawaii,ASTR\\r\\n739,0.000986,0.771,218356,0.857,0.0161,8,0.323,-6.114,0,0.102,108.03,4,0.66,1,Razor,ASTR\\r\\n740,0.949,0.619,240707,0.324,5.42E-05,9,0.114,-10.146,0,0.0271,111.927,4,0.0968,1,Stay,Rihanna\\r\\n741,0.000483,0.701,224200,0.829,0.00223,6,0.14,-5.749,0,0.0513,132.349,4,0.501,1,The Sound Of San Francisco - Progressive Album Mix,Global Deejays\\r\\n742,0.503,0.683,250653,0.478,5.26E-05,2,0.113,-12.501,1,0.0356,115.121,4,0.771,1,Sunshine Of Your Love,Cream\\r\\n743,0.364,0.507,180000,0.63,0.0127,4,0.293,-8.746,1,0.0355,130.141,4,0.559,1,Somebody to Love,Jefferson Airplane\\r\\n744,0.514,0.529,178507,0.645,0.00821,7,0.113,-8.158,1,0.0265,112.575,4,0.464,1,San Francisco (Be Sure to Wear Flowers In Your Hair) - Single Version,Scott McKenzie\\r\\n745,0.351,0.561,155040,0.329,0.0311,2,0.116,-12.68,1,0.0282,105.029,4,0.297,1,White Rabbit,Jefferson Airplane\\r\\n746,0.000294,0.827,352341,0.462,0.543,8,0.0886,-10.673,1,0.0623,123.994,4,0.341,1,Pleasure Power (DJ Smash Disco Remix),Afrolicious\\r\\n747,0.134,0.359,229147,0.662,0,1,0.0907,-2.843,1,0.0466,152.096,4,0.296,1,Bound 2,Kanye West\\r\\n748,0.00969,0.589,323480,0.621,0.00104,5,0.181,-6.902,0,0.0468,140.03,4,0.398,1,Drunk in Love,Beyonc\\xc3\\xa9\\r\\n749,7.59E-05,0.597,343878,0.839,0.825,7,0.55,-6.964,1,0.0377,108.993,4,0.199,1,Viol - Original Mix,Gesaffelstein\\r\\n750,0.00778,0.677,256133,0.64,0.477,11,0.093,-6.408,0,0.0428,110.639,4,0.912,1,Good Mistake,Mr Little Jeans\\r\\n751,0.0261,0.556,260147,0.722,0.0163,9,0.166,-9.541,1,0.0475,130.028,4,0.508,1,Runaway,Mr Little Jeans\\r\\n752,0.0416,0.348,223227,0.856,0,2,0.203,-3.216,0,0.0979,188.046,4,0.261,1,Fall In Love,Phantogram\\r\\n753,0.00207,0.468,235920,0.971,0.00329,1,0.146,-3.382,0,0.0609,92.003,4,0.814,1,You\\xe2\\x80\\x99re Not The One,Sky Ferreira\\r\\n754,0.162,0.529,230213,0.95,0.00199,9,0.616,-3.446,1,0.056,119.964,4,0.456,1,Sacrilege,Yeah Yeah Yeahs\\r\\n755,0.0233,0.824,299960,0.572,8.19E-06,11,0.208,-4.868,1,0.0652,153.977,4,0.669,1,Collard Greens,ScHoolboy Q\\r\\n756,0.37,0.645,272453,0.836,0,2,0.125,-7.23,0,0.159,123.966,4,0.176,1,Hell Of A Night,ScHoolboy Q\\r\\n757,0.00392,0.683,201987,0.692,0.000441,9,0.105,-7.189,0,0.0396,103.848,4,0.593,1,1977,Ana Tijoux\\r\\n758,0.14,0.85,220347,0.534,0.000893,1,0.313,-5.278,1,0.322,98.004,4,0.963,1,Latino & Proud,DJ Raff\\r\\n759,0.0796,0.868,342773,0.627,0,1,0.0983,-4.843,0,0.116,131.097,4,0.314,1,Move That Dope,Future\\r\\n760,0.00135,0.702,218483,0.74,0.896,5,0.0481,-5.949,0,0.173,145.05,4,0.583,1,Slasherr,Rustie\\r\\n761,0.858,0.741,227627,0.449,0.000522,5,0.133,-6.621,1,0.0583,95.108,4,0.444,1,Outlines,AlunaGeorge\\r\\n762,0.464,0.655,190330,0.704,0.877,0,0.134,-10.341,0,0.0413,99.96,4,0.696,1,Platoon,Jungle\\r\\n763,0.00539,0.749,216013,0.857,0,3,0.192,-5.24,1,0.0435,111.906,4,0.355,1,Man Of The Year,ScHoolboy Q\\r\\n764,0.00011,0.742,449499,0.965,0.607,1,0.0703,-8.291,0,0.0538,123.04,4,0.391,1,Spacer Woman - Vocal,Charlie\\r\\n765,0.000595,0.805,445417,0.79,0.889,0,0.0296,-7.93,1,0.0577,122.994,4,0.533,1,Nobody Else - Original Mix,Dusky\\r\\n766,0.421,0.876,240000,0.675,1.16E-06,3,0.0667,-3.28,0,0.146,135.959,4,0.618,1,Stoner,Young Thug\\r\\n767,0.00767,0.541,308360,0.982,0.000765,2,0.291,-4.908,1,0.107,104.03,4,0.721,1,Elevate,St. Lucia\\r\\n768,0.112,0.857,223784,0.981,0.000157,8,0.0875,-4.223,1,0.12,148.009,4,0.709,1,Independent - House Remix,Hoodfellas\\r\\n769,0.000518,0.771,393387,0.963,0.901,11,0.147,-7.294,1,0.0363,124,4,0.591,1,Au Seve,Julio Bashmore\\r\\n770,0.0235,0.761,387774,0.478,0.00972,4,0.0458,-7.437,0,0.0545,118.925,4,0.948,1,Synchronize,Discodeine\\r\\n771,0.00204,0.805,285015,0.879,0.595,6,0.0578,-5.747,1,0.0521,123.013,4,0.713,1,Don\\'t Miss,The Alexanders\\r\\n772,0.00118,0.682,295020,0.953,0.622,11,0.256,-3.873,0,0.0474,124.996,4,0.324,1,Coucou disco,Dim Sum\\r\\n773,0.000725,0.801,315001,0.718,0.91,0,0.0747,-6.246,1,0.0746,123.999,4,0.817,1,Vowel Play - Original,Them Jeans\\r\\n774,0.00188,0.661,311920,0.837,0,5,0.362,-3.78,0,0.114,102.831,4,0.615,1,The Devil Is A Lie,Rick Ross\\r\\n775,0.0454,0.895,194133,0.783,0,6,0.137,-4.983,1,0.102,147.65,4,0.696,1,North North,Project Pat\\r\\n776,0.548,0.706,206148,0.707,0.000313,0,0.1,-5.212,0,0.0351,144.877,4,0.246,1,Temporary View,SBTRKT\\r\\n777,0.15,0.516,210680,0.718,0.0163,5,0.167,-8.571,0,0.257,129.857,4,0.58,1,\"III. Telegraph Ave. (\"\"Oakland\"\" by Lloyd)\",Childish Gambino\\r\\n778,0.106,0.653,184538,0.781,0.568,0,0.596,-7.433,1,0.0376,101.029,4,0.49,1,Accelerate,Jungle\\r\\n779,0.763,0.707,275227,0.709,0,11,0.274,-3.979,0,0.34,89.094,4,0.497,1,0 To 100 / The Catch Up,Drake\\r\\n780,0.0505,0.794,194561,0.51,1.81E-06,9,0.0562,-7.314,1,0.42,167.879,4,0.189,1,Hot N*gga,Bobby Shmurda\\r\\n781,0.394,0.484,160187,0.265,0,0,0.149,-11.101,1,0.0322,113.564,3,0.282,1,You\\'ll Never Walk Alone - 2002 Remastered Version,Gerry & The Pacemakers\\r\\n782,0.000599,0.487,324807,0.68,0.0339,7,0.144,-8.497,0,0.0408,94.46,3,0.076,1,Your Soul,Hippie Sabotage\\r\\n783,0.0126,0.6,588520,0.811,0.05,8,0.969,-10.199,0,0.102,100.894,4,0.372,1,dance yrself clean - live at madison square garden,LCD Soundsystem\\r\\n784,0.713,0.628,303560,0.575,0.00233,10,0.0635,-11.591,0,0.0588,108.166,4,0.182,1,Running Up That Hill (A Deal With God),Kate Bush\\r\\n785,0.0323,0.227,230373,0.635,0.125,7,0.117,-9.169,1,0.0754,170.179,4,0.36,1,High Ball Stepper,Jack White\\r\\n786,0.768,0.275,283872,0.216,0.897,5,0.0832,-13.818,1,0.0345,116.388,4,0.176,1,The Great Gig In The Sky - 2011 Remastered Version,Pink Floyd\\r\\n787,0.00416,0.644,211200,0.848,0.0168,4,0.0629,-4.952,0,0.0511,99.989,4,0.302,1,All We Need (feat. Shy Girls),ODESZA\\r\\n788,0.00692,0.564,212986,0.846,0.00175,4,0.0452,-5.897,0,0.0437,122.035,4,0.695,1,Catamaran,Allah-Las\\r\\n789,0.712,0.277,235747,0.29,0.0459,1,0.228,-8.541,1,0.0332,71.302,4,0.0576,1,Fool,Perfume Genius\\r\\n790,0.296,0.609,291092,0.909,0.0785,5,0.262,-7.302,0,0.0921,114.019,4,0.416,1,Bulbform,TR/ST\\r\\n791,0.000563,0.417,167091,0.73,3.31E-06,5,0.0766,-6.774,1,0.0363,81.179,4,0.44,1,Passing Out Pieces,Mac Demarco\\r\\n792,0.36,0.784,212154,0.649,0.000684,0,0.115,-6.905,1,0.292,140.203,4,0.503,1,Tuesday,ILoveMakonnen\\r\\n793,0.0674,0.289,149013,0.942,0.917,2,0.405,-3.207,1,0.0519,137.281,4,0.302,1,Drop Dead Baby,Ty Segall\\r\\n794,0.00342,0.313,155013,0.893,0,11,0.0877,-3.891,0,0.0463,127.11,4,0.709,1,My Sunshine,Ty Segall\\r\\n795,0.000588,0.803,426850,0.769,0.9,6,0.0683,-7.025,1,0.0561,122.992,4,0.17,1,BIG Fun - Full Intention 88 Remix,Inner City\\r\\n796,0.0421,0.895,232533,0.517,9.72E-06,2,0.0511,-9.972,1,0.101,141.536,4,0.961,1,Natty Dread A Weh She Want,Horace Andy\\r\\n797,0.0326,0.598,228707,0.885,0.00265,8,0.107,-3.992,0,0.0383,87.914,4,0.593,1,DLZ,TV On The Radio\\r\\n798,0.123,0.749,258773,0.855,0.164,1,0.329,-10.105,1,0.406,128.339,4,0.61,1,Whatcha Gonna Do,Koopsta Knicca\\r\\n799,0.0625,0.758,252333,0.629,0.000144,7,0.109,-8.283,0,0.106,112.575,3,0.26,1,18 With A Bullet,Pete Wingfield\\r\\n800,0.602,0.746,190733,0.484,0.00824,1,0.0576,-9.614,1,0.0434,97.923,4,0.596,1,The Boss,James Brown\\r\\n801,0.00234,0.191,194400,0.979,0.283,7,0.617,-3.402,1,0.191,179.236,4,0.313,1,Drifting In And Out,Porcelain Raft\\r\\n802,0.0389,0.856,194747,0.719,9.03E-06,10,0.0935,-6.519,0,0.0746,146.032,4,0.369,1,Made Me,Snootie Wild\\r\\n803,0.605,0.583,263397,0.515,0.000691,11,0.0931,-9.283,0,0.0571,115.732,4,0.621,1,Way to be Loved,TOPS\\r\\n804,0.00042,0.22,82893,0.94,0.000541,0,0.0926,-2.397,1,0.0511,83.072,4,0.72,1,Just Wanna Love You Girl,Epsilons\\r\\n805,0.464,0.535,178867,0.91,9.32E-05,10,0.0745,-4.827,1,0.0328,111.027,4,0.956,1,Be Brave,The Strange Boys\\r\\n806,0.619,0.722,175867,0.28,0.0786,10,0.141,-13.483,0,0.0583,66.711,4,0.466,1,Tupelo (Pt. 1) - Single Version,Albert King\\r\\n807,0.0758,0.747,229640,0.894,0.897,1,0.0918,-5.226,1,0.0961,90.493,4,0.57,1,Candyman,Cornershop\\r\\n808,0.565,0.63,247293,0.374,0.00146,5,0.107,-11.305,1,0.177,166.999,4,0.573,1,Somebody Was Watching,Pops Staples\\r\\n809,0.615,0.508,174067,0.247,0.0352,0,0.166,-15.432,0,0.0748,200.749,3,0.484,1,Tupelo - Part 1,Pop Staples\\r\\n810,0.207,0.54,360867,0.21,0.0765,0,0.334,-18.687,0,0.0461,103.081,3,0.411,1,Tupelo,Steve Cropper\\r\\n811,0.114,0.665,216728,0.513,0.303,0,0.122,-7.314,1,0.331,100.344,3,0.0373,1,\"Damn Son, Where\\'d You Find This? - Future of TRAP Mix\",Trendsetter\\r\\n812,0.00884,0.51,286290,0.603,0.286,9,0.0569,-6.949,0,0.174,139.876,4,0.094,1,I\\'m in LOVE With GO-GO Dancer (Disco Diva) - Future of TRAP Mix,Trendsetter\\r\\n813,0.114,0.665,216728,0.513,0.303,0,0.122,-7.314,1,0.331,100.344,3,0.0373,1,Damn Son Where\\'d You Find This? (feat. Kelly Holiday) - Markus Maximus Remix,Markus Maximus\\r\\n814,0.000321,0.647,369235,0.793,0.833,3,0.401,-7.416,0,0.0454,130.007,4,0.188,1,Work - The Advent & Spiriakos Remix,ZZT\\r\\n815,0.612,0.649,175733,0.406,0,2,0.103,-10.43,1,0.0803,110.091,3,0.478,1,Mannish Boy,Muddy Waters\\r\\n816,0.172,0.683,315094,0.805,0.000231,5,0.357,-5.24,1,0.353,123.658,4,0.836,1,Holding On,Disclosure\\r\\n817,0.99,0.148,175173,0.031,0.595,2,0.12,-25.756,0,0.0365,141.84,3,0.0638,1,\"Mozart: Requiem in D Minor, K. 626: VIII. Lacrimosa\",Nikolaus Harnoncourt\\r\\n818,0.227,0.873,165544,0.504,0,0,0.121,-5.39,1,0.166,145.995,4,0.647,1,My Main,Mykfresh\\r\\n819,0.00497,0.376,825027,0.801,0.149,2,0.683,-10.662,0,0.0474,152.826,4,0.807,1,Southern Man - Live,\"Crosby, Stills, Nash & Young\"\\r\\n820,0.0113,0.523,203046,0.863,0.204,8,0.113,-4.975,0,0.0553,124.046,4,0.428,1,Won\\'t Look Back,Duke Dumont\\r\\n821,0.0226,0.586,214227,0.892,0.00827,11,0.17,-4.937,0,0.0574,132.048,4,0.523,1,Chrome Knight - Feat. Chromeo,Surkin\\r\\n822,0.666,0.827,202360,0.503,0.443,1,0.123,-11.007,1,0.0352,119.35,4,0.94,1,Black Boy,Pops Staples\\r\\n823,0.11,0.589,382733,0.616,0.204,5,0.0721,-9.475,0,0.0312,96.616,4,0.869,1,Give Me The Sunshine,Leo\\'s Sunshipp\\r\\n824,0.391,0.702,311892,0.495,0.8,0,0.112,-11.645,0,0.0493,78.507,4,0.292,1,Motherless Child,Romare\\r\\n825,0.0975,0.582,252038,0.875,0.912,0,0.143,-6.912,1,0.0513,113.036,4,0.358,1,Giudecca,Ghost Culture\\r\\n826,0.0169,0.374,293851,0.853,2.72E-05,11,0.322,-3.571,0,0.295,200.035,4,0.422,1,Living Every Dream,Antwon\\r\\n827,0.0339,0.422,259301,0.851,0,11,0.152,-4.031,1,0.0398,93.649,4,0.667,1,Easy Rider,Action Bronson\\r\\n828,0.127,0.474,271822,0.837,0.0197,5,0.169,-6.503,1,0.0514,165.844,4,0.243,1,Nissim,The Gaslamp Killer\\r\\n829,0.13,0.61,178560,0.672,0.00283,7,0.109,-7.436,0,0.305,129.986,4,0.925,1,Topless,Orlando Julius\\r\\n830,0.597,0.571,207360,0.836,0.0108,10,0.106,-6.906,0,0.215,93.641,4,0.54,1,Breakthrough,The Funkees\\r\\n831,0.0672,0.802,451341,0.872,0.0197,5,0.0941,-6.346,0,0.0557,117.005,4,0.68,1,Stand Up - Tiger & Woods Remix,Pitchben\\r\\n832,0.218,0.793,194240,0.607,4.95E-06,4,0.348,-6.488,0,0.0821,140.992,4,0.16,1,Blow a Bag,Future\\r\\n833,0.0319,0.846,328962,0.472,0.0398,0,0.1,-9.13,0,0.0662,124.984,4,0.671,1,Ain\\'t got nobody,S\\xc3\\xads\\xc3\\xbd Ey\\r\\n834,0.269,0.575,302987,0.641,0.0121,6,0.211,-8.105,0,0.0325,91.714,4,0.901,1,I Want\\'a Do Something Freaky To You,Leon Haywood\\r\\n835,0.000997,0.787,484853,0.916,0.811,0,0.0588,-8.542,0,0.047,116.007,4,0.507,1,I Got a Feeling,Shit Robot\\r\\n836,0.304,0.614,218413,0.575,0.0116,5,0.108,-5.819,0,0.0285,150.009,4,0.284,1,Standard,Empress Of\\r\\n837,0.103,0.835,389508,0.481,0.81,8,0.113,-9.606,1,0.136,121.993,4,0.304,1,What I Might Do - Club Mix,Ben Pearce\\r\\n838,0.201,0.696,398747,0.852,0.00125,4,0.0736,-4.281,0,0.0373,128.28,4,0.971,1,Let\\'s Lovedance Tonight - Danny Krivit Re-edit - Original Disco Version,Gary\\'s Gang\\r\\n839,0.611,0.597,172667,0.71,0,5,0.104,-9.798,1,0.0378,150.13,4,0.767,1,Do You Love Me,The Contours\\r\\n840,0.0185,0.609,377893,0.664,0.0195,7,0.105,-9.116,0,0.0472,105.976,4,0.0944,1,Too Bad I Have To Destroy You Now,Kid Cudi\\r\\n841,0.737,0.571,176800,0.839,0.0281,3,0.195,-5.799,0,0.0517,127.356,4,0.813,1,Louie Louie,The Sonics\\r\\n842,0.229,0.494,147893,0.666,5.69E-05,9,0.0469,-9.743,0,0.0351,140.832,4,0.704,1,Heart Full of Soul,The Yardbirds\\r\\n843,0.236,0.347,150627,0.638,0,2,0.0894,-10.258,1,0.0409,94.506,4,0.594,1,For Your Love,The Yardbirds\\r\\n844,0.436,0.684,250000,0.486,9.77E-05,2,0.12,-12.521,1,0.0385,115.076,4,0.821,1,Sunshine Of Your Love,Cream\\r\\n845,0.000641,0.787,520311,0.679,0.912,7,0.0618,-12.377,1,0.0534,117.501,3,0.214,1,Taifa - The Emperor Machine Mix,Partial Arts\\r\\n846,0.00254,0.696,502888,0.643,0.834,7,0.276,-10.124,1,0.0407,117.514,4,0.537,1,Taifa,Partial Arts\\r\\n847,0.0043,0.894,376000,0.676,0.348,8,0.425,-9.707,1,0.0979,121,4,0.715,1,Make It,Patrick Di Stefano\\r\\n848,0.00524,0.81,418187,0.547,0.854,10,0.101,-12.295,0,0.0558,120.752,4,0.817,1,Face It,Master C & J\\r\\n849,0.0263,0.739,257600,0.878,0.407,6,0.0477,-5.464,0,0.0788,126.705,4,0.855,1,Mary-Mary (M&M Unreleased Mix) [feat. Dajae],Grand High Priest\\r\\n850,0.000173,0.641,262000,0.954,0.425,5,0.0535,-6.765,0,0.0589,122.79,4,0.827,1,Supernature - Edit,Cerrone\\r\\n851,0.136,0.829,321067,0.65,2.15E-05,10,0.15,-9.691,1,0.06,108.398,4,0.744,1,I\\'ll Be Good,Rene & Angela\\r\\n852,0.00479,0.777,318470,0.671,0.0244,11,0.286,-7.803,0,0.0386,123.974,4,0.482,1,Defected In The House Ibiza 2013 Mixtape,Simon Dunmore\\r\\n853,0.271,0.567,336800,0.851,0,1,0.569,-5.897,1,0.484,80.935,4,0.598,1,\"A Day In The Life - feat. RZA, The Mars Volta & AG + Good Hygiene feat. Tim Meadows Amended CD Version\",Handsome Boy Modeling School\\r\\n854,0.934,0.44,254360,0.433,0.811,2,0.273,-17.453,0,0.0412,79.952,4,0.217,1,Episode I - Duel of The Fates,John Williams\\r\\n855,0.813,0.745,132947,0.544,0,5,0.0975,-9.137,0,0.0654,125.345,4,0.776,1,Three Cool Cats,The Coasters\\r\\n856,0.00113,0.616,200800,0.943,1.67E-06,1,0.346,-5.305,0,0.0444,129.963,4,0.802,1,Mercy,The Third Degree\\r\\n857,0.557,0.462,176147,0.714,0.000881,1,0.0368,-8.772,1,0.0386,144.952,4,0.375,1,Do I Love You?,The Ronettes\\r\\n858,0.916,0.334,700027,0.265,0.837,2,0.168,-17.219,1,0.0477,113.12,4,0.0549,1,Night on Bald Mountain,Modest Mussorgsky\\r\\n859,0.00325,0.686,280480,0.61,0.000123,5,0.0984,-7.952,0,0.0297,143.598,4,0.861,1,Akue We Non Houme - Jerk Fon,T. P. Orchestre Poly-Rythmo\\r\\n860,0.517,0.691,445227,0.714,0.0164,1,0.178,-9.694,1,0.046,91.045,4,0.96,1,Ecoute ma m\\xc3\\xa9lodie - Bossa Afro,T. P. Orchestre Poly-Rythmo\\r\\n861,0.292,0.592,265827,0.688,0.268,6,0.0508,-14.107,1,0.115,102.099,4,0.927,1,Ole,The Funkees\\r\\n862,0.0164,0.653,373333,0.875,0.0311,9,0.377,-5.232,1,0.125,116.956,4,0.796,1,Greetings,Joni Haastrup\\r\\n863,0.0314,0.86,304138,0.857,0.38,6,0.0694,-4.23,1,0.0933,121.999,4,0.826,1,5thep,Todd Osborn\\r\\n864,0.0114,0.682,319760,0.78,0.735,7,0.0862,-9.948,1,0.0538,115.564,4,0.334,1,Cavern,Liquid Liquid\\r\\n865,0.0491,0.703,194147,0.464,0,6,0.146,-5.977,0,0.118,95.012,4,0.689,1,Your Love,Mick Jenkins\\r\\n866,0.895,0.444,151092,0.412,0.64,0,0.145,-11.569,1,0.0465,184.012,3,0.364,1,Sleepwalk,Santo & Johnny\\r\\n867,0.0624,0.476,309064,0.571,0.353,5,0.349,-7.223,0,0.055,141.221,5,0.419,1,What I Might Do - Kilter Remix,Ben Pearce\\r\\n868,0.000286,0.313,309524,0.872,2.26E-05,1,0.15,-5.058,0,0.0733,122.362,4,0.389,1,Waiting Around For Grace,Pond\\r\\n869,4.19E-05,0.636,326129,0.864,0.887,5,0.104,-9.618,0,0.044,123.972,4,0.611,1,Nobodys Fool - Ben Pearce Remix,Real Connoisseur\\r\\n870,0.0983,0.632,342173,0.586,0.581,0,0.0535,-11.333,1,0.0284,114.243,4,0.889,1,Smoke On The Water,Deep Purple\\r\\n871,0.314,0.43,193427,0.734,0.000286,9,0.0808,-10.043,0,0.102,133.992,4,0.0537,1,Able to See Me,Hippie Sabotage\\r\\n872,0.809,0.833,186567,0.684,0,7,0.0952,-6.325,1,0.043,112.7,4,0.954,1,Oogum Boogum Song,Brenton Wood\\r\\n873,0.723,0.688,427227,0.421,0.625,11,0.0734,-9.015,0,0.0445,138,4,0.63,1,The Gaudy Side of Town,Gayngs\\r\\n874,0.577,0.438,290587,0.404,0.759,4,0.0767,-11.815,0,0.0389,137.895,4,0.134,1,The Walker,Gayngs\\r\\n875,0.59,0.789,219129,0.698,0.802,7,0.11,-7.842,1,0.0304,120.961,4,0.713,1,Ultimate Painting,Ultimate Painting\\r\\n876,0.156,0.819,214154,0.671,0.000136,5,0.2,-6.947,0,0.393,129.921,4,0.555,1,Agorinha,Sango\\r\\n877,0.887,0.366,210400,0.407,0.263,2,0.114,-10.047,1,0.0265,148.436,3,0.352,1,I\\'m Glad,Captain Beefheart & His Magic Band\\r\\n878,0.149,0.71,255333,0.959,2.10E-05,1,0.336,-6.697,0,0.209,108.006,4,0.492,1,Apollo Throwdown (Star Slinger Remix),The Go! Team\\r\\n879,0.00727,0.582,302120,0.734,0.202,6,0.76,-6.987,0,0.0675,127.071,4,0.638,1,Boys Life,Small Black\\r\\n880,0.349,0.545,212147,0.507,2.92E-06,0,0.157,-7.534,0,0.0392,124.311,4,0.685,1,Dirt And Grime,Fathers Children\\r\\n881,4.61E-06,0.479,230560,0.854,5.72E-05,11,0.372,-6.101,1,0.0405,136.067,4,0.55,1,Pedestrian at Best,Courtney Barnett\\r\\n882,0.0175,0.564,220573,0.737,0,9,0.054,-4.079,1,0.0414,104.764,4,0.231,1,Middle,DJ Snake\\r\\n883,0.198,0.89,326318,0.52,0.273,2,0.0638,-6.927,0,0.187,114.959,4,0.717,1,Something About You - Extended Mix,Hayden James\\r\\n884,0.00543,0.363,178772,0.755,0.00105,1,0.084,-6.654,0,0.12,114.407,4,0.736,1,Only You,Mac Demarco\\r\\n885,0.101,0.867,302880,0.669,0.683,9,0.0583,-7.897,0,0.0573,121.99,4,0.696,1,The One,ZHU\\r\\n886,0.612,0.59,219560,0.578,0.000162,10,0.0837,-5.798,0,0.0528,81.663,4,0.262,1,Way Down We Go,Kaleo\\r\\n887,0.000825,0.832,365747,0.496,0.825,11,0.114,-10.601,0,0.0597,117.741,4,0.854,1,Deeper Than Love,Colleen Green\\r\\n888,0.478,0.839,181260,0.585,0.00281,2,0.0435,-7.738,1,0.153,89.821,4,0.894,1,Back Pocket,Vulfpeck\\r\\n889,0.0716,0.447,156467,0.416,0.00426,9,0.125,-12.181,0,0.0258,103.068,4,0.309,1,All I Wanna Do,The Beach Boys\\r\\n890,0.0328,0.598,260400,0.657,2.72E-05,8,0.172,-7.466,1,0.0386,114.969,4,0.2,1,Water,Jamaican Queens\\r\\n891,0.0664,0.643,335399,0.889,0.884,3,0.0904,-7.043,0,0.0499,131.999,4,0.658,1,You,Ejeca\\r\\n892,0.00324,0.746,383107,0.613,0.672,7,0.167,-10.104,1,0.0475,125.317,4,0.627,1,Voodoo Ray - Danny Tenaglia Remix,A Guy Called Gerald\\r\\n893,0.000624,0.906,311365,0.648,0.0857,11,0.272,-8.742,0,0.0734,123.98,4,0.646,1,Jack,Breach\\r\\n894,0.000334,0.907,183581,0.616,0.425,6,0.11,-7.073,0,0.0577,124.036,4,0.614,1,Jack,Breach\\r\\n895,0.331,0.578,237672,0.633,0,8,0.635,-10.117,0,0.279,101.534,4,0.635,1,Mary Jane (Jamie Xx - Girl Remix),Jamie xx\\r\\n896,0.00431,0.808,362282,0.916,0.598,10,0.0445,-4.54,1,0.0635,121.99,4,0.69,1,Chunky - Club Mix,Format:B\\r\\n897,0.0252,0.745,272677,0.894,0.878,8,0.137,-4.721,0,0.0448,127.99,4,0.49,1,One Who Lost,DJ Dodger Stadium\\r\\n898,0.0125,0.634,405933,0.858,0.84,1,0.0984,-11.661,1,0.0417,123.991,4,0.233,1,Delorean Dynamite,Todd Terje\\r\\n899,0.198,0.603,145773,0.921,0.00035,5,0.133,-3.555,0,0.0931,122.978,4,0.814,1,Do You Want a Man - Heaven & Hell Remix,William Onyeabor\\r\\n900,0.00166,0.587,205307,0.841,0.53,11,0.117,-5.079,0,0.0476,142.95,4,0.696,1,Celebrando,CLUBZ\\r\\n901,0.0289,0.93,204992,0.483,0.00244,3,0.103,-9.925,1,0.0411,120.022,4,0.577,1,No Eyes (Radio Edit),Claptone\\r\\n902,0.0124,0.585,264000,0.62,0.0164,6,0.135,-9.075,1,0.0538,80.021,4,0.715,1,Fanfare,Magic City Hippies\\r\\n903,0.0245,0.803,316373,0.427,0.405,8,0.0953,-10.819,1,0.0509,118.008,4,0.451,1,Dorothy,Polo & Pan\\r\\n904,0.411,0.757,199200,0.868,0.00221,9,0.355,-9.326,1,0.062,138.923,4,0.787,1,Long Cool Woman (In A Black Dress) - 1999 Remastered Version,The Hollies\\r\\n905,0.157,0.729,267000,0.818,0.285,2,0.195,-9.992,1,0.0732,125.811,4,0.909,1,Bang A Gong [Get It On] (Remastered Single/LP Version),T. Rex\\r\\n906,2.60E-05,0.76,272082,0.669,0.076,11,0.0666,-8.583,1,0.0521,122.007,4,0.683,1,Paris Groove (Original Mix),Boston Bun\\r\\n907,0.000885,0.79,312000,0.427,0.446,11,0.0514,-11.361,0,0.0541,116.986,4,0.961,1,Nothing,HNNY\\r\\n908,0.207,0.786,206081,0.963,0.0012,9,0.169,-2.84,0,0.127,94.63,4,0.9,1,Hey DJ,Worlds Famous Supreme Team\\r\\n909,0.242,0.708,196000,0.441,0.000147,11,0.0899,-12.931,1,0.196,125.191,4,0.717,1,Tighten Up - Pt. 1,Archie Bell & The Drells\\r\\n910,0.643,0.729,261853,0.666,0.135,5,0.0947,-10.721,1,0.0525,109.554,4,0.872,1,Ohye Atar Gyan,Ebo Taylor\\r\\n911,0.312,0.76,370813,0.636,0.534,8,0.0622,-11.605,1,0.0902,99.223,4,0.682,1,Heaven,Ebo Taylor\\r\\n912,0.847,0.661,128053,0.76,0.334,9,0.137,-9.509,1,0.0918,111.165,4,0.975,1,I\\'m Walkin\\' - 2002 Digital Remaster,Fats Domino\\r\\n913,0.00428,0.704,405560,0.895,0.28,10,0.267,-7.81,1,0.0647,118.662,4,0.865,1,\"Bizarre Love Triangle - Shep Pettibone 12\"\" Remix\",New Order\\r\\n914,0.0154,0.606,195307,0.913,0.905,9,0.326,-7.865,1,0.0417,146.15,4,0.82,1,Dreams Never End - 2015 Remastered Version,New Order\\r\\n915,0.00207,0.587,546467,0.915,0.579,4,0.136,-8.307,0,0.0404,128.004,4,0.539,1,Plastic - Extended Mix,New Order\\r\\n916,0.16,0.66,172507,0.591,0.848,4,0.632,-8.497,0,0.026,100.034,4,0.835,1,You Are the Right One,Sports\\r\\n917,0.000779,0.34,207813,0.454,0.0188,9,0.337,-12.279,0,0.0503,100.089,5,0.39,1,Let Me Try,Kaleidoscope\\r\\n918,0.0476,0.723,418880,0.755,0.00147,10,0.469,-9.381,1,0.0576,97.195,4,0.573,1,Thinking of You,Lord Echo\\r\\n919,0.717,0.285,163213,0.512,0,7,0.0842,-8.103,1,0.0334,94.922,4,0.48,1,Just Say The Word,Jerry Townes\\r\\n920,0.218,0.63,590707,0.862,0.0527,2,0.0618,-6.12,0,0.0501,103.118,4,0.698,1,Obi Agye Me Dofo,Vis \\xc3\\xa0 Vis\\r\\n921,0.783,0.418,219800,0.0962,6.61E-05,0,0.136,-15.078,1,0.0559,184.721,3,0.342,1,I\\'m Going Down,Rose Royce\\r\\n922,0.087,0.529,258440,0.571,6.34E-06,6,0.876,-6.264,0,0.0298,102.428,4,0.104,1,Said So What,French Kicks\\r\\n923,0.0112,0.465,232867,0.727,0.802,8,0.0964,-5.181,0,0.0353,118.149,4,0.47,1,Carl Sagan,Night Moves\\r\\n924,0.0133,0.69,498333,0.911,0.907,6,0.127,-9.075,1,0.0499,124.019,4,0.62,1,Muzik Xpress,X-Press 2\\r\\n925,0.0044,0.449,234613,0.962,0.897,1,0.397,-4.293,0,0.112,154.979,4,0.296,1,A Hundred Ropes,Minor Victories\\r\\n926,0.9,0.582,238400,0.401,0.538,2,0.157,-8.731,1,0.028,112.357,4,0.414,1,No Woman,Whitney\\r\\n927,0.934,0.44,254360,0.433,0.811,2,0.273,-17.453,0,0.0412,79.952,4,0.217,1,Episode I - Duel of The Fates,John Williams\\r\\n928,0.0395,0.669,574800,0.904,0.406,11,0.116,-5.487,1,0.0598,107.83,4,0.921,1,Giant,The The\\r\\n929,0.189,0.622,319125,0.752,0.0124,4,0.0443,-6.964,0,0.124,126.047,4,0.576,1,Hush,Magic City Hippies\\r\\n930,6.89E-05,0.286,215822,0.704,0.034,9,0.192,-5.12,0,0.0374,145.843,4,0.185,1,Desire,DILLY DALLY\\r\\n931,0.0552,0.373,202200,0.63,0,7,0.107,-5.131,1,0.0461,115.942,4,0.357,1,Shut Up Kiss Me,Angel Olsen\\r\\n932,0.136,0.906,235040,0.444,6.44E-05,4,0.173,-8.692,0,0.384,140.063,4,0.68,1,No Heart,21 Savage\\r\\n933,0.00134,0.789,162815,0.682,1.39E-06,10,0.128,-6.841,0,0.054,109.988,4,0.562,1,We Want Some Pussy,Ezale\\r\\n934,0.155,0.822,156879,0.863,0.000632,7,0.0913,-8.035,1,0.196,100.959,4,0.608,1,We Out Here,Ezale\\r\\n935,0.0599,0.756,257053,0.853,0.000562,9,0.115,-5.92,0,0.0525,100.004,4,0.426,1,By Design,Kid Cudi\\r\\n936,0.189,0.555,52006,0.759,0.459,7,0.248,-6.214,0,0.142,192.272,4,0.23,1,Aloha,Chris Bear\\r\\n937,0.0633,0.897,334467,0.661,0,8,0.116,-6.2,0,0.27,127.081,4,0.204,1,Bad and Boujee (feat. Lil Uzi Vert),Migos\\r\\n938,0.56,0.654,185804,0.499,0.907,4,0.169,-9.084,0,0.0428,103.966,4,0.124,1,The Winner Is - from Little Miss Sunshine,DeVotchKa\\r\\n939,0.0442,0.679,321560,0.462,0.793,3,0.0846,-10.128,1,0.0326,120.012,4,0.289,1,Virile,The Blaze\\r\\n940,0.0004,0.804,434958,0.64,0.935,5,0.0812,-8.598,1,0.0404,124.007,4,0.0451,1,Let Me Tell U,Jimmy Edgar\\r\\n941,0.078,0.815,489750,0.459,0.826,10,0.067,-12.588,0,0.0906,124.996,4,0.616,1,Wonky Bassline Disco Banger,Red Rack\\'Em\\r\\n942,1.65E-05,0.499,395200,0.506,0.941,9,0.0784,-16.778,0,0.149,186.328,3,0.367,1,Remember,Gino Soccio\\r\\n943,0.0423,0.84,397388,0.918,0.613,7,0.306,-9.251,1,0.0672,124.847,4,0.468,1,Anti Social Tendencies,The Parallax Corporation\\r\\n944,0.0109,0.816,179865,0.747,0.756,3,0.0811,-8.066,1,0.0711,119.98,4,0.144,1,What Time Is Love (Live at SSL mix),Lifelike\\r\\n945,0.016,0.646,142584,0.757,0.0243,7,0.112,-6.089,1,0.101,108.438,4,0.635,1,The Spirit Blossoms All Over the Land,Onra\\r\\n946,0.028,0.658,109031,0.568,0.00356,1,0.105,-7.579,1,0.0312,128.638,4,0.881,1,On the Lips,Frankie Cosmos\\r\\n947,0.00159,0.865,250273,0.603,0.428,3,0.0782,-11.289,1,0.0532,135.006,4,0.595,1,Stripper,Fancy Fux\\r\\n948,0.003,0.754,281658,0.968,0.795,9,0.194,-4.419,1,0.168,124.971,4,0.55,1,Operator (Ring Ring) ft. Dances With White Girls,Chris Lake\\r\\n949,0.0372,0.89,400926,0.443,0.385,0,0.369,-8.654,1,0.0497,122.002,4,0.195,1,Big Jet Plane - Animal Trainer Remix,Jan Blomqvist\\r\\n950,0.514,0.731,515087,0.638,0.332,9,0.144,-8.738,0,0.144,143.018,4,0.33,1,Fight,Nicolas Jaar\\r\\n951,0.109,0.748,250000,0.623,0,5,0.15,-5.08,1,0.0285,105.045,4,0.194,1,Bambi,Jidenna\\r\\n952,0.758,0.744,169333,0.555,0,3,0.108,-6.744,1,0.0321,121.241,4,0.775,1,Raindrops,The Silvertones\\r\\n953,0.34,0.77,181867,0.409,0,4,0.0993,-13.387,1,0.436,80.126,4,0.869,1,Truths & Rights,Johnny Osbourne\\r\\n954,0.269,0.663,361173,0.602,8.81E-05,9,0.118,-11.013,1,0.132,149.51,4,0.899,1,Smoke,Ohio Players\\r\\n955,0.411,0.236,186426,0.706,5.43E-06,0,0.953,-6.544,1,0.0601,105.624,3,0.313,1,You Are My Special Angel,The Vogues\\r\\n956,0.666,0.354,138933,0.366,0,5,0.167,-10.799,0,0.0345,111.057,3,0.561,1,Just A Little Lovin\\',Dusty Springfield\\r\\n957,0.517,0.367,215840,0.215,0,0,0.618,-16.652,1,0.0288,98.742,3,0.255,1,Unchained Melody,The Righteous Brothers\\r\\n958,0.00594,0.58,213560,0.859,0.00163,0,0.463,-4.532,1,0.0649,129.959,4,0.285,1,Howl,Florence + The Machine\\r\\n959,0.0173,0.916,183695,0.571,1.11E-06,10,0.153,-8.241,0,0.2,103.521,4,0.467,1,For Free,DJ Khaled\\r\\n960,0.0681,0.767,430576,0.686,0.91,7,0.111,-10.476,1,0.0461,114.07,4,0.578,1,Mystery Of Love,Mr. Fingers\\r\\n961,0.0853,0.864,126467,0.552,0.778,5,0.094,-8.851,0,0.0495,112.378,4,0.74,1,Hung Over,The Martini\\'s\\r\\n962,0.661,0.457,176613,0.909,1.54E-06,7,0.124,-3.189,1,0.0576,93.193,4,0.844,1,\"Bold Soul Sister, Bold Soul Brother - USDEA0400901\",The Black On White Affair\\r\\n963,0.543,0.785,196570,0.796,0.291,5,0.108,-5.815,0,0.0379,136.05,4,0.806,1,Cane Shuga,Glass Animals\\r\\n964,0.211,0.418,230720,0.547,0.0443,1,0.187,-4.932,1,0.0295,131.99,4,0.127,1,Queen,Perfume Genius\\r\\n965,0.0378,0.81,369627,0.793,1.82E-06,6,0.072,-9.404,0,0.0403,116.049,4,0.86,1,Get Lucky,Daft Punk\\r\\n966,0.0159,0.588,269267,0.596,0,1,0.0898,-4.994,1,0.0556,130.346,4,0.0602,1,Bugatti,Ace Hood\\r\\n967,0.0384,0.841,195474,0.729,0,6,0.276,-3.047,0,0.239,132.073,4,0.43,1,Versace,Migos\\r\\n968,0.000954,0.775,188013,0.823,0,1,0.144,-6.091,1,0.271,130.041,4,0.288,1,Black Skinhead,Kanye West\\r\\n969,0.147,0.85,261321,0.509,0,6,0.0759,-9.637,0,0.378,134.9,4,0.769,1,Type of Way,Rich Homie Quan\\r\\n970,0.00444,0.413,225867,0.633,0,7,0.361,-5.188,1,0.0558,170.016,4,0.184,1,Recover,CHVRCHES\\r\\n971,0.222,0.76,199227,0.79,0,10,0.268,-3.835,1,0.344,94.017,4,0.57,1,Bitter Rivals,Sleigh Bells\\r\\n972,0.0745,0.409,175480,0.532,0.00523,2,0.0795,-6.266,1,0.033,99.935,4,0.354,1,Gonna Die,Autre Ne Veut\\r\\n973,0.957,0.342,171613,0.159,0.114,9,0.101,-18.127,1,0.0477,91.963,4,0.329,1,Angels,The xx\\r\\n974,0.0475,0.606,228147,0.503,0,7,0.116,-6.678,0,0.155,80.04,4,0.325,1,GOT IT GOOD,KAYTRANADA\\r\\n975,0.00369,0.647,285596,0.762,0.00641,0,0.0884,-7.765,1,0.0363,120.832,4,0.438,1,I Got U,Duke Dumont\\r\\n976,0.0216,0.709,343800,0.669,0.0125,11,0.146,-8.422,0,0.0409,105.004,4,0.106,1,Something About You - ODESZA Remix,Hayden James\\r\\n977,0.156,0.378,282053,0.572,0.152,0,0.0579,-6.361,1,0.175,134.957,4,0.332,1,Oblivion,The Seshen\\r\\n978,0.112,0.555,187000,0.699,0.00319,6,0.488,-7.871,0,0.105,170.02,4,0.544,1,Distant Heart,The Seshen\\r\\n979,0.382,0.735,277975,0.555,0.856,1,0.0952,-8.84,0,0.0366,100.01,4,0.535,1,Finally Moving,Pretty Lights\\r\\n980,0.0564,0.607,248000,0.435,0.0178,6,0.171,-6.604,0,0.0475,120.045,4,0.255,1,Want My Love,Cathedrals\\r\\n981,0.0369,0.448,258653,0.733,0.0425,3,0.169,-6.238,1,0.0292,142.008,4,0.404,1,Myth,Beach House\\r\\n982,0.655,0.507,194253,0.466,0.363,1,0.0929,-11.966,1,0.0862,157.013,4,0.0978,1,Weary,Solange\\r\\n983,0.138,0.667,250707,0.658,0.00685,6,0.602,-7.71,1,0.0756,91.98,4,0.36,1,Treat Me Like Fire,LION BABE\\r\\n984,0.345,0.855,225181,0.605,0.0573,2,0.0757,-7.403,0,0.0637,114.999,4,0.676,1,Something About You,Hayden James\\r\\n985,0.2,0.739,556924,0.848,0.824,1,0.111,-4.598,0,0.0332,125.02,4,0.782,1,Let It Happen - Soulwax Remix,Tame Impala\\r\\n986,0.0739,0.833,301240,0.663,0.00351,2,0.0814,-3.639,1,0.105,103.693,4,0.457,1,Hood Pass Intact,D\\xc3\\xa2m-Funk\\r\\n987,0.00535,0.654,247600,0.641,0.00321,8,0.209,-9.771,1,0.0482,114.696,4,0.778,1,Let\\'s Dance (Single Version) [2002 Remastered Version],David Bowie\\r\\n988,0.208,0.514,233818,0.632,0.0132,2,0.115,-6.305,1,0.0501,94.569,4,0.31,1,Ode To Viceroy,Mac Demarco\\r\\n989,0.0019,0.468,260013,0.88,0.00704,1,0.409,-5.086,1,0.057,176.972,4,0.645,1,Five Seconds,Twin Shadow\\r\\n990,0.135,0.756,246893,0.415,0,8,0.144,-14.429,1,0.0555,96.99,4,0.662,1,No Sleep Till Brooklyn,Beastie Boys\\r\\n991,0.0208,0.869,233787,0.687,1.00E-06,1,0.114,-6.816,1,0.263,96.006,4,0.668,1,F**kin\\' Problems,A$AP Rocky\\r\\n992,0.144,0.709,310187,0.412,0.000101,8,0.0814,-11.602,1,0.488,174.062,4,0.505,1,Swerve... the reeping of all that is worthwhile (Noir not withstanding),Shabazz Palaces\\r\\n993,0.0559,0.521,182160,0.851,0,2,0.267,-3.235,1,0.0336,130.032,4,0.825,1,Never Saw The Point,Cults\\r\\n994,0.0852,0.858,203373,0.789,0,11,0.229,-7.462,0,0.291,125.993,4,0.658,1,212,Azealia Banks\\r\\n995,4.69E-06,0.566,123547,0.869,0.309,0,0.0503,-7.614,1,0.0335,129.948,4,0.656,1,Forgiven/Forgotten,Angel Olsen\\r\\n996,0.148,0.701,462267,0.788,0.625,2,0.0977,-5.611,1,0.0425,142.584,4,0.794,1,All My Friends,LCD Soundsystem\\r\\n997,0.374,0.772,167158,0.612,2.44E-06,7,0.108,-7.274,0,0.254,142.911,4,0.557,1,Lay Up,Future\\r\\n998,0.142,0.714,135920,0.566,1.25E-06,7,0.57,-4.408,1,0.056,113.074,4,0.429,1,Father Stretch My Hands Pt. 1,Kanye West\\r\\n999,0.0313,0.515,238419,0.902,0,6,0.093,-4.729,0,0.383,174.589,5,0.617,1,Big For Your Boots,Stormzy\\r\\n1000,0.00531,0.859,219737,0.624,0.000124,1,0.184,-5.437,1,0.0915,149.948,4,0.628,1,No Security,Skepta\\r\\n1001,0.0381,0.709,176589,0.797,0,0,0.143,-4.316,1,0.335,139.639,4,0.474,1,Fam,Saskilla\\r\\n1002,0.102,0.699,197452,0.724,0,1,0.0865,-5.126,1,0.223,140.157,4,0.412,1,Mr Skeng,Stormzy\\r\\n1003,0.377,0.497,196480,0.734,0,1,0.151,-6.112,1,0.382,139.096,4,0.382,1,Beauty and the Beast,Bugzy Malone\\r\\n1004,0.0669,0.832,187585,0.854,0,2,0.0802,-4.92,1,0.296,136.213,4,0.583,1,I Win,Lethal Bizzle\\r\\n1005,0.285,0.88,151987,0.697,7.66E-05,4,0.0889,-8.468,0,0.328,129.989,4,0.761,1,Plottin,J HUS\\r\\n1006,0.289,0.506,240363,0.43,0.0139,10,0.135,-17.402,0,0.317,137.644,4,0.294,1,M.E.N,Bugzy Malone\\r\\n1007,0.202,0.732,156961,0.974,0,1,0.0853,-2.158,1,0.168,137.905,4,0.713,1,Cold,Stormzy\\r\\n1008,0.671,0.539,166304,0.74,0,6,0.12,-7.157,0,0.401,139.608,4,0.645,1,Toothache,Jaykae\\r\\n1009,0.352,0.494,179009,0.78,0,2,0.396,-5.841,1,0.301,139.725,4,0.884,1,Coward,Chip\\r\\n1010,0.00298,0.545,278227,0.904,0.00117,6,0.0679,-5.201,1,0.34,139.871,4,0.681,1,3 Wheel-ups (feat. Wiley & Giggs),Kano\\r\\n1011,0.397,0.739,181714,0.665,0,1,0.0901,-6.075,0,0.441,139.87,4,0.357,1,T On the Wing,President T\\r\\n1012,0.134,0.603,246685,0.64,0,1,0.434,-5.215,1,0.291,125.462,4,0.311,1,Bad Boys (feat. Ghetts and J Hus),Stormzy\\r\\n1013,0.0641,0.667,201964,0.673,4.00E-06,0,0.0975,-7.574,1,0.323,144.256,4,0.661,1,Thiago Silva,Dave\\r\\n1014,0.375,0.561,195419,0.588,0,8,0.084,-7.628,1,0.413,83.204,5,0.683,1,And Dat (Ft. Stormzy),Bonkaz\\r\\n1015,0.258,0.812,181114,0.937,0,1,0.239,-1.894,1,0.295,139.997,4,0.851,1,6 In The Morning,Wiley\\r\\n1016,0.0103,0.745,143214,0.822,4.20E-06,7,0.155,-6.354,1,0.252,86.733,5,0.374,1,Skepta Interlude,Drake\\r\\n1017,0.329,0.673,213251,0.922,0,4,0.0924,-5.311,1,0.217,140.008,4,0.364,1,Man Don\\'t Care,Jme\\r\\n1018,0.35,0.794,187400,0.801,0,0,0.0799,-6.433,1,0.271,147.072,4,0.73,1,Luke Cage,AJ Tracey\\r\\n1019,0.1,0.575,188875,0.723,0,7,0.483,-4.956,1,0.314,107.039,3,0.822,1,Shutdown,Skepta\\r\\n1020,0.819,0.64,227222,0.196,3.63E-05,4,0.0978,-11.478,1,0.0267,143.919,4,0.273,0,My Old Man,Zac Brown Band\\r\\n1021,0.0677,0.587,180252,0.628,1.88E-06,1,0.122,-5.703,1,0.0431,92.003,4,0.65,0,Losing Sleep,Chris Young\\r\\n1022,0.013,0.631,187813,0.716,0,10,0.0756,-5.713,1,0.0432,88.541,4,0.637,0,Sleep Without You,Brett Young\\r\\n1023,0.231,0.589,194413,0.809,0,3,0.0719,-5.292,1,0.0376,88.965,4,0.464,0,Yeah Boy,Kelsea Ballerini\\r\\n1024,0.000907,0.612,227373,0.841,0,9,0.37,-3.795,0,0.0353,104.986,4,0.502,0,Craving You,Thomas Rhett\\r\\n1025,0.01,0.553,154320,0.743,0,2,0.0812,-5.483,1,0.0368,149.962,4,0.574,0,More Girls Like You,Kip Moore\\r\\n1026,0.0538,0.548,188293,0.877,8.22E-06,7,0.314,-5.481,1,0.0367,84.009,4,0.694,0,Heart Break,Lady Antebellum\\r\\n1027,0.151,0.528,251067,0.842,3.00E-05,11,0.117,-6.217,1,0.0411,83.948,4,0.797,0,Cut Your Groove,Charlie Worsham\\r\\n1028,0.27,0.663,211160,0.656,0.000279,1,0.117,-6.548,1,0.0413,120.037,4,0.555,0,Black,Dierks Bentley\\r\\n1029,0.0549,0.53,187760,0.809,0,6,0.0741,-4.745,0,0.0388,82.022,4,0.703,0,The Weekend,Brantley Gilbert\\r\\n1030,0.0966,0.525,190227,0.657,0,1,0.119,-5.28,0,0.054,176.127,4,0.313,0,Reasons,Jillian Jacqueline\\r\\n1031,0.0244,0.553,206573,0.747,0,9,0.363,-5.905,1,0.0292,73.033,4,0.702,0,Small Town Boy,Dustin Lynch\\r\\n1032,0.0102,0.533,208733,0.91,0,8,0.108,-3.087,1,0.0566,113.054,4,0.481,0,Yours If You Want It,Rascal Flatts\\r\\n1033,0.148,0.726,231173,0.595,0.000433,11,0.106,-6.846,1,0.0393,115,4,0.666,0,Roots,Zac Brown Band\\r\\n1034,0.00733,0.584,171067,0.716,0,0,0.0879,-4.737,1,0.0342,90.005,4,0.527,0,Sunday Morning,Parmalee\\r\\n1035,0.0165,0.443,223800,0.804,2.89E-06,10,0.181,-6.432,1,0.0406,151.928,4,0.437,0,Hurricane,Luke Combs\\r\\n1036,0.124,0.521,176987,0.805,0.000219,9,0.33,-4.481,1,0.0289,141.967,4,0.549,0,Think A Little Less,Michael Ray\\r\\n1037,0.661,0.476,231920,0.527,0,1,0.307,-6.406,1,0.0399,152.117,3,0.205,0,Speak to a Girl,Tim McGraw\\r\\n1038,0.0159,0.591,185474,0.577,0,2,0.162,-6.107,1,0.0331,156.107,4,0.52,0,Man Enough Now,Chris Bandi\\r\\n1039,0.335,0.5,214507,0.622,0,9,0.327,-6.691,1,0.0329,83.886,4,0.293,0,If I Told You,Darius Rucker\\r\\n1040,0.234,0.674,167200,0.706,7.98E-05,8,0.0958,-4.824,1,0.0586,160.023,4,0.962,0,Happy People,Little Big Town\\r\\n1041,0.144,0.631,227573,0.658,0,5,0.22,-5.313,1,0.0281,80.996,4,0.692,0,All On Me,Devin Dawson\\r\\n1042,0.0494,0.562,217280,0.94,0,5,0.217,-4.337,1,0.114,103.009,4,0.466,0,Somethin\\' I\\'m Good At,Brett Eldredge\\r\\n1043,0.214,0.638,196422,0.634,0,6,0.0866,-6.474,1,0.0468,92.097,4,0.445,0,I Could Use a Love Song,Maren Morris\\r\\n1044,0.733,0.409,16042,0.645,0,1,0.132,-8.336,0,0.0771,74.923,4,0.421,0,Zac Brown Band - Hot Country,Various Artists\\r\\n1045,0.0968,0.434,266787,0.664,0,8,0.141,-5.883,1,0.0346,145.861,4,0.478,0,Trying To Drive,Zac Brown Band\\r\\n1046,0.333,0.439,183413,0.802,0,7,0.377,-3.644,1,0.054,168.032,4,0.688,0,\"God, Your Mama, And Me\",Florida Georgia Line\\r\\n1047,0.0915,0.533,230722,0.533,0,0,0.0972,-8.266,1,0.0324,159.907,4,0.506,0,Real Thing,Zac Brown Band\\r\\n1048,0.0207,0.434,195307,0.921,0.00209,10,0.116,-2.248,0,0.0688,171.945,4,0.426,0,They Don\\'t Know,Jason Aldean\\r\\n1049,0.0558,0.523,214800,0.725,6.96E-06,2,0.0937,-5.448,1,0.0339,155.855,4,0.52,0,Every Time I Hear That Song,Blake Shelton\\r\\n1050,0.00898,0.612,188253,0.799,0,10,0.172,-4.603,1,0.0275,125.976,4,0.675,0,What Ifs,Kane Brown\\r\\n1051,0.0993,0.51,211227,0.904,0,6,0.173,-4.291,1,0.0357,150.004,4,0.542,0,For Her,Chris Lane\\r\\n1052,0.424,0.55,232253,0.774,0,11,0.067,-4.397,1,0.0967,170.124,4,0.462,0,Act Like You Don\\'t,Brooke Eden\\r\\n1053,0.397,0.596,224853,0.544,0,10,0.106,-7.294,1,0.0315,147.976,4,0.381,0,In Case You Didn\\'t Know,Brett Young\\r\\n1054,0.0166,0.622,194240,0.745,0.000875,1,0.292,-5.674,1,0.0262,91,4,0.585,0,Two Black X\\'s,Dylan Schneider\\r\\n1055,0.0344,0.659,183747,0.926,0.00121,0,0.113,-4.66,1,0.0461,152.015,4,0.949,0,You Look Good,Lady Antebellum\\r\\n1056,0.00566,0.479,178027,0.86,0,0,0.168,-4.318,1,0.0347,80.018,4,0.759,0,Close,Ryan Kinder\\r\\n1057,0.186,0.56,209840,0.78,0,1,0.364,-5.164,1,0.0459,160.052,4,0.466,0,Ain\\'t Always Pretty,Logan Mize\\r\\n1058,0.0179,0.512,187342,0.587,0,1,0.107,-6.403,1,0.0291,134.006,4,0.313,0,Love in a Bar,Ryan Hurd\\r\\n1059,0.0292,0.403,211307,0.745,0,1,0.0985,-6.534,0,0.0858,186.241,4,0.634,0,Family Table,Zac Brown Band\\r\\n1060,0.312,0.536,203293,0.722,0,4,0.117,-4.163,1,0.0284,143.78,4,0.472,0,Any Ol\\' Barstool,Jason Aldean\\r\\n1061,0.116,0.685,201893,0.783,0,11,0.194,-4.152,1,0.0276,90.008,4,0.532,0,Dirt On My Boots,Jon Pardi\\r\\n1062,0.638,0.71,186627,0.498,0,4,0.0916,-5.478,1,0.0322,136.093,4,0.52,0,Just a Phase,Adam Craig\\r\\n1063,0.463,0.731,165387,0.469,1.04E-06,5,0.103,-7.226,1,0.0326,98.963,4,0.618,0,Body Like A Back Road,Sam Hunt\\r\\n1064,0.208,0.501,192000,0.836,0,11,0.152,-3.587,0,0.0491,159.863,4,0.627,0,How Not To,Dan + Shay\\r\\n1065,0.861,0.425,259280,0.372,0.0148,0,0.0733,-10.92,1,0.03,79.456,4,0.297,0,Tin Man,Miranda Lambert\\r\\n1066,0.0209,0.458,211240,0.894,0,9,0.221,-4.903,1,0.0398,160.125,4,0.709,0,Blue Tacoma,Russell Dickerson\\r\\n1067,0.0406,0.488,226173,0.915,0,7,0.351,-4.255,1,0.0389,75.019,4,0.637,0,May We All,Florida Georgia Line\\r\\n1068,0.422,0.482,230832,0.739,1.87E-05,7,0.468,-5.476,1,0.0342,155.932,4,0.596,0,Last Time for Everything,Brad Paisley\\r\\n1069,0.0527,0.442,173187,0.784,0,2,0.0597,-4.001,1,0.0344,170.139,4,0.554,0,Getting Over You,Jackie Lee\\r\\n1070,0.00434,0.555,177067,0.896,0,0,0.145,-3.295,1,0.0388,114.995,4,0.558,0,Flatliner (feat. Dierks Bentley),Cole Swindell\\r\\n1071,0.0551,0.41,158667,0.738,0,9,0.0988,-3.833,1,0.0719,184.059,4,0.592,0,Like You That Way,Canaan Smith\\r\\n1072,0.273,0.507,216187,0.81,0.0567,3,0.121,-5.628,0,0.0317,156.004,4,0.492,0,Hometown Girl,Josh Turner\\r\\n1073,0.129,0.69,181200,0.626,0,7,0.169,-5.831,1,0.0275,101.958,4,0.652,0,Star Of The Show,Thomas Rhett\\r\\n1074,0.865,0.641,248053,0.0628,4.08E-06,4,0.105,-14.155,1,0.0417,129.004,4,0.289,0,Either Way,Chris Stapleton\\r\\n1075,0.279,0.655,178840,0.785,0,8,0.116,-4.022,1,0.0697,171.969,4,0.931,0,No Such Thing as a Broken Heart,Old Dominion\\r\\n1076,0.2,0.529,215600,0.803,0,7,0.0894,-5.379,1,0.0389,97.043,4,0.343,0,There\\xe2\\x80\\x99s A Girl,Trent Harmon\\r\\n1077,0.0304,0.681,184040,0.845,0,11,0.197,-5.147,0,0.0525,132.023,4,0.761,0,The Fighter,Keith Urban\\r\\n1078,0.229,0.694,228827,0.815,0,2,0.0924,-4.328,1,0.12,88.931,4,0.826,0,Despacito - Remix,Luis Fonsi\\r\\n1079,0.231,0.755,229849,0.789,0,5,0.351,-4.502,1,0.146,93.973,4,0.734,0,Felices los 4,Maluma\\r\\n1080,0.0744,0.684,208163,0.823,0,9,0.111,-3.297,0,0.0773,91.048,4,0.645,0,SUBEME LA RADIO,Enrique Iglesias\\r\\n1081,0.0258,0.746,205741,0.794,0,1,0.0497,-6.331,1,0.0698,104.827,4,0.471,0,Me Reh\\xc3\\xbaso,Danny Ocean\\r\\n1082,0.243,0.683,219507,0.691,0,8,0.14,-5.535,1,0.0432,179.91,4,0.746,0,El Amante,Nicky Jam\\r\\n1083,0.0245,0.747,232787,0.864,4.46E-05,8,0.0853,-3.181,0,0.0599,92.028,4,0.746,0,Esc\\xc3\\xa1pate Conmigo,Wisin\\r\\n1084,0.286,0.706,271080,0.689,0,6,0.123,-5.533,1,0.17,144.127,4,0.42,0,Ahora Dice,Chris Jeday\\r\\n1085,0.168,0.859,195613,0.756,4.65E-05,8,0.163,-3.36,0,0.0643,102.033,4,0.913,0,Chantaje,Shakira\\r\\n1086,0.0277,0.489,194942,0.962,6.18E-06,0,0.128,-2.597,1,0.215,104.563,4,0.507,0,Hey Ma (with Pitbull & J Balvin feat. Camila Cabello) - Spanish Version,Pitbull\\r\\n1087,0.154,0.889,201280,0.853,0.000107,9,0.205,-4.26,1,0.241,93.022,4,0.916,0,Sigo Extra\\xc3\\xb1\\xc3\\xa1ndote,J Balvin\\r\\n1088,0.0559,0.832,209453,0.772,0.000486,10,0.44,-5.429,1,0.1,96.016,4,0.714,0,Otra Vez (feat. J Balvin),Zion & Lennox\\r\\n1089,0.116,0.685,204520,0.859,0,5,0.317,-2.595,0,0.0553,176.018,4,0.886,0,La Rompe Corazones,Daddy Yankee\\r\\n1090,0.27,0.639,307910,0.869,0,11,0.0802,-4.024,1,0.147,169.801,4,0.766,0,\"Sola (Remix) [feat. Daddy Yankee, Wisin, Farruko, Zion & Lennox]\",Anuel Aa\\r\\n1091,0.209,0.66,228200,0.786,0,2,0.112,-4.757,1,0.17,177.833,4,0.849,0,Despacito (Featuring Daddy Yankee),Luis Fonsi\\r\\n1092,0.4,0.761,222560,0.838,0,4,0.176,-3.073,0,0.0502,93.974,4,0.717,0,Reggaet\\xc3\\xb3n Lento (Bailemos),CNCO\\r\\n1093,0.0309,0.792,205520,0.819,0,5,0.389,-5.418,1,0.0867,89.98,4,0.45,0,Hey DJ,CNCO\\r\\n1094,0.547,0.76,210323,0.838,1.30E-06,7,0.0664,-3.828,0,0.0529,93.05,4,0.74,0,Me Llamas (feat. Maluma) - Remix,Piso 21\\r\\n1095,0.211,0.711,225813,0.875,0.000198,5,0.0862,-2.211,1,0.104,103.637,4,0.929,0,Me Enamor\\xc3\\xa9,Shakira\\r\\n1096,0.205,0.735,193118,0.482,0.000194,7,0.0894,-9.21,1,0.0508,175.907,4,0.783,0,Tu Foto,Ozuna\\r\\n1097,0.00431,0.663,259196,0.92,1.69E-05,11,0.101,-4.07,0,0.226,99.935,4,0.521,0,Vente Pa\\' Ca,Ricky Martin\\r\\n1098,0.551,0.508,205600,0.687,3.41E-06,0,0.126,-4.361,1,0.326,180.044,4,0.565,0,Safari,J Balvin\\r\\n1099,0.0897,0.745,223613,0.921,0,0,0.178,-2.674,1,0.082,92.973,4,0.645,0,Alguien Robo,Sebastian Yatra\\r\\n1100,0.256,0.772,238800,0.909,0,6,0.255,-3.225,0,0.166,96.031,4,0.679,0,Vacaciones,Wisin\\r\\n1101,0.125,0.761,211627,0.82,2.10E-05,1,0.183,-4.003,1,0.0623,88.997,4,0.619,0,Te Quiero Pa\\xc2\\xb4Mi,Don Omar\\r\\n1102,0.167,0.761,252003,0.829,0,0,0.189,-3.203,0,0.0681,92.033,4,0.82,0,Ay Mi Dios,IAmChino\\r\\n1103,0.142,0.776,228467,0.669,0,11,0.219,-4.933,1,0.0638,91.012,4,0.646,0,Traicionera,Sebastian Yatra\\r\\n1104,0.204,0.685,221027,0.731,0,5,0.0722,-5.119,0,0.093,177.912,4,0.776,0,Si T\\xc3\\xba La Ves,Nicky Jam\\r\\n1105,0.053,0.724,197087,0.84,0,0,0.727,-3.581,1,0.0392,92.01,4,0.833,0,Lumbra,Cali Y El Dandee\\r\\n1106,0.206,0.746,227457,0.961,1.84E-06,0,0.329,-2.243,1,0.13,179.984,4,0.954,0,La Bicicleta,Carlos Vives\\r\\n1107,0.163,0.817,207200,0.869,0.00226,6,0.0497,-4.791,1,0.18,96.029,4,0.56,0,Bailame,Nacho\\r\\n1108,0.0998,0.721,226400,0.687,0,1,0.0679,-6.682,1,0.0782,175.914,4,0.828,0,Dile Que Tu Me Quieres,Ozuna\\r\\n1109,0.39,0.732,196480,0.801,0,9,0.31,-3.859,1,0.0327,123.981,4,0.818,0,Deja vu,Prince Royce\\r\\n1110,0.245,0.682,228147,0.858,0,9,0.104,-4.711,1,0.0708,94.954,4,0.772,0,S\\xc3\\xa9 Que Te Duele,Alejandro Fernandez\\r\\n1111,0.132,0.73,207307,0.701,0,5,0.151,-5.885,0,0.106,175.95,4,0.789,0,Borro Cassette,Maluma\\r\\n1112,0.0786,0.724,200813,0.904,0,8,0.226,-3.354,0,0.0966,90.999,4,0.851,0,DUELE EL CORAZON,Enrique Iglesias\\r\\n1113,0.0244,0.68,247493,0.954,0,9,0.112,-1.823,1,0.119,104.029,4,0.524,0,Andas En Mi Cabeza,Chino & Nacho\\r\\n1114,0.0724,0.827,197840,0.646,0,1,0.247,-4.727,0,0.0766,92.057,4,0.51,0,Chillax,Farruko\\r\\n1115,0.282,0.832,198707,0.608,0,6,0.0761,-6.042,0,0.0385,94.013,4,0.579,0,Hasta el Amanecer,Nicky Jam\\r\\n1116,0.163,0.688,240000,0.719,0,2,0.15,-4.746,1,0.0555,88.015,4,0.589,0,Bailame Despacio,Xantos\\r\\n1117,0.076,0.899,234320,0.626,0,6,0.0631,-4.228,0,0.292,88.007,4,0.871,0,Shaky Shaky,Daddy Yankee\\r\\n1118,0.0345,0.724,181048,0.809,0,7,0.169,-4.96,1,0.056,95.037,4,0.495,0,Bes\\xc3\\xa1ndote,Piso 21\\r\\n1119,0.0685,0.712,199281,0.841,7.87E-05,7,0.0672,-5.432,0,0.0455,98.003,4,0.656,0,Ando buscando (feat. Piso 21),Carlos Baute\\r\\n1120,0.113,0.801,236493,0.822,0.00424,6,0.0877,-4.655,1,0.0831,176.048,4,0.938,0,Hula Hoop,Daddy Yankee\\r\\n1121,0.0869,0.49,246853,0.894,0,11,0.103,-1.708,0,0.0947,197.989,4,0.656,0,Qu\\xc3\\xa9 Gano Olvid\\xc3\\xa1ndote - Versi\\xc3\\xb3n Urbana,Reik\\r\\n1122,0.234,0.768,219227,0.742,0,9,0.14,-6.308,1,0.0443,114.679,5,0.8,0,Ya Me Enter\\xc3\\xa9 (feat. Nicky Jam) - Urban Version,Reik\\r\\n1123,0.0821,0.725,246653,0.711,0,10,0.0931,-4.544,1,0.0335,93.003,4,0.476,0,Mi Tesoro (feat. Nicky Jam),Zion & Lennox\\r\\n1124,0.803,0.612,245493,0.57,3.29E-05,1,0.122,-9.62,0,0.0735,169.842,4,0.813,0,T\\xc3\\xba S\\xc3\\xad Sabes Quererme,Natalia Lafourcade\\r\\n1125,0.189,0.67,276688,0.679,0,7,0.168,-5.618,1,0.118,172.069,4,0.794,0,Si Me Dices Que Si (feat. Nicky Jam),Cosculluela\\r\\n1126,0.0525,0.779,166600,0.659,0,0,0.128,-5.455,1,0.0808,95.003,4,0.924,0,Fuego,Juanes\\r\\n1127,0.051,0.712,214072,0.901,0,1,0.162,-4.699,0,0.0595,97.98,4,0.84,0,Al Filo de Tu Amor,Carlos Vives\\r\\n1128,0.0983,0.648,223800,0.833,0.001,11,0.127,-5.116,1,0.0543,108.001,4,0.301,0,Young And Menace,Fall Out Boy\\r\\n1129,0.00898,0.499,229093,0.824,0,7,0.163,-4.741,1,0.0794,161.977,4,0.692,0,\"Sugar, We\\'re Goin Down\",Fall Out Boy\\r\\n1130,0.004,0.385,228360,0.866,0,4,0.111,-2.817,0,0.0697,176.014,4,0.548,0,Centuries,Fall Out Boy\\r\\n1131,0.0313,0.561,186827,0.927,2.34E-05,9,0.529,-4.374,0,0.0619,152.011,4,0.562,0,My Songs Know What You Did In The Dark (Light Em Up),Fall Out Boy\\r\\n1132,0.00139,0.613,189387,0.874,1.82E-06,2,0.656,-3.594,1,0.0697,108.038,4,0.532,0,Immortals,Fall Out Boy\\r\\n1133,0.119,0.623,211573,0.956,0.000227,4,0.617,-2.608,0,0.0753,149.958,4,0.718,0,Uma Thurman,Fall Out Boy\\r\\n1134,0.00494,0.616,180267,0.961,0,11,0.078,-3.144,0,0.139,114.492,4,0.531,0,\"Dance, Dance\",Fall Out Boy\\r\\n1135,0.000965,0.607,212040,0.889,0,9,0.0839,-4.034,1,0.0394,100.034,4,0.376,0,\"This Ain\\'t A Scene, It\\'s An Arms Race\",Fall Out Boy\\r\\n1136,0.177,0.95,214648,0.412,0,1,0.077,-6.592,1,0.0731,121.019,4,0.741,0,Bad Liar,Selena Gomez\\r\\n1137,0.222,0.63,228827,0.815,0,2,0.091,-4.265,1,0.152,88.357,4,0.814,0,Despacito - Remix,Luis Fonsi\\r\\n1138,0.00593,0.608,187761,0.841,0.0573,0,0.121,-3.798,1,0.0464,167.969,4,0.25,0,Thunder,Imagine Dragons\\r\\n1139,0.0969,0.774,211475,0.626,3.12E-05,3,0.0848,-4.432,0,0.0432,100.041,4,0.758,0,Attention,Charlie Puth\\r\\n1140,0.381,0.857,199440,0.8,0,2,0.0913,-4.035,1,0.0583,121.996,4,0.965,0,There\\'s Nothing Holdin\\' Me Back,Shawn Mendes\\r\\n1141,0.102,0.44,258188,0.413,1.70E-05,0,0.103,-7.425,0,0.0446,131.659,4,0.125,0,Quit (feat. Ariana Grande),Cashmere Cat\\r\\n1142,0.0745,0.696,211364,0.503,0,8,0.0869,-4.842,1,0.0356,99.977,4,0.539,0,The Cure,Lady Gaga\\r\\n1143,0.197,0.633,193511,0.592,0,0,0.099,-7.245,0,0.112,90.066,4,0.643,0,First Time,Kygo\\r\\n1144,0.062,0.711,223190,0.722,0,5,0.14,-3.946,1,0.0472,99.954,4,0.483,0,No Vacancy,OneRepublic\\r\\n1145,0.0485,0.76,204400,0.588,0,9,0.0847,-7.082,1,0.0775,102.974,4,0.384,0,Most Girls,Hailee Steinfeld\\r\\n1146,0.0577,0.565,231906,0.782,4.16E-05,8,0.0757,-6.413,1,0.0506,140.004,4,0.392,0,Malibu,Miley Cyrus\\r\\n1147,0.238,0.457,210091,0.627,0,5,0.116,-5.091,0,0.111,101.384,4,0.535,0,Stay (with Alessia Cara),Zedd\\r\\n1148,0.56,0.622,250200,0.593,0,5,0.175,-7.755,0,0.0414,100.048,4,0.361,0,1-800-273-8255,Logic\\r\\n1149,0.15,0.703,193613,0.868,0.132,7,0.104,-4.661,0,0.0291,121.03,4,0.732,0,Pretty Girl - Cheat Codes X CADE Remix,Maggie Lindemann\\r\\n1150,0.115,0.66,214802,0.575,1.59E-06,6,0.131,-4.934,0,0.0367,110.091,4,0.485,0,Now Or Never,Halsey\\r\\n1151,0.0575,0.741,223504,0.667,0,10,0.106,-5.445,1,0.134,112.956,4,0.609,0,No Promises (feat. Demi Lovato),Cheat Codes\\r\\n1152,0.0133,0.726,188174,0.429,0,0,0.0574,-6.623,1,0.0519,85.899,4,0.874,0,Slow Hands,Niall Horan\\r\\n1153,0.0283,0.656,197253,0.615,0,5,0.234,-6.252,1,0.0539,139.91,4,0.364,0,Bad Bitch (feat. Ty Dolla $ign),Bebe Rexha\\r\\n1154,0.00464,0.565,225526,0.771,0,1,0.0568,-5.22,1,0.212,168.385,4,0.551,0,Good Life (with G-Eazy & Kehlani),G-Eazy\\r\\n1155,0.97,0.549,206933,0.371,0.132,2,0.639,-9.56,1,0.0378,87.024,3,0.117,0,The Night We Met,Lord Huron\\r\\n1156,0.45,0.754,272667,0.762,6.67E-05,6,0.224,-4.486,0,0.0849,92.002,4,0.673,0,Rollin,Calvin Harris\\r\\n1157,0.00728,0.741,221983,0.559,0.000971,10,0.21,-7.775,1,0.03,101.999,4,0.441,0,Obsession (feat. Jon Bellion),Vice\\r\\n1158,0.549,0.87,160597,0.502,0.00356,5,0.0916,-7.497,0,0.0549,82.53,4,0.676,0,Whippin (feat. Felix Snow),Kiiara\\r\\n1159,0.281,0.718,214867,0.609,3.29E-05,0,0.234,-4.699,0,0.0429,122.948,4,0.47,0,Symphony,Clean Bandit\\r\\n1160,0.00411,0.624,207520,0.806,0,1,0.0872,-5.957,1,0.0437,149.999,4,0.536,0,Break Up Every Night,The Chainsmokers\\r\\n1161,0.0293,0.726,233833,0.769,0.0101,6,0.104,-5.043,1,0.123,97.985,4,0.75,0,Unforgettable,French Montana\\r\\n1162,0.000339,0.905,177604,0.596,2.05E-05,1,0.0897,-7.496,0,0.118,149.996,4,0.419,0,HUMBLE.,Kendrick Lamar\\r\\n1163,0.00517,0.747,212027,0.592,1.48E-05,8,0.124,-6.334,1,0.0457,110.991,3,0.16,0,do re mi,Blackbear\\r\\n1164,0.075,0.696,216409,0.817,0,1,0.187,-3.862,1,0.109,98.064,4,0.779,0,Swalla (feat. Nicki Minaj & Ty Dolla $ign),Jason Derulo\\r\\n1165,0.0355,0.673,201601,0.676,0,1,0.107,-5.002,1,0.0308,134.944,4,0.568,0,Whatever It Takes,Imagine Dragons\\r\\n1166,0.032,0.607,213307,0.718,0,4,0.403,-4.095,1,0.0978,101.821,4,0.521,0,Touch,Little Mix\\r\\n1167,0.0303,0.415,251423,0.369,7.64E-06,8,0.383,-10.044,1,0.0741,95.746,4,0.0951,0,Selfish,Future\\r\\n1168,0.0905,0.648,220781,0.532,0,0,0.0831,-6.597,1,0.0746,99.983,4,0.497,0,It Ain\\xe2\\x80\\x99t Me (with Selena Gomez),Kygo\\r\\n1169,0.128,0.747,184134,0.799,0,11,0.0541,-4.066,0,0.0405,104.02,4,0.537,0,Mama,Jonas Blue\\r\\n1170,0.238,0.76,177573,0.303,8.09E-06,2,0.294,-11.362,1,0.0284,99.991,4,0.157,0,The One,The Chainsmokers\\r\\n1171,0.401,0.763,197495,0.671,1.16E-05,1,0.375,-4.029,0,0.1,120.06,4,0.608,0,Nights With You,M\\xc3\\x98\\r\\n1172,0.0235,0.667,172893,0.648,1.52E-05,3,0.0427,-6.398,0,0.0626,95.031,4,0.585,0,TG4M,Zara Larsson\\r\\n1173,0.0102,0.833,204600,0.434,0.0219,2,0.165,-8.795,1,0.431,150.062,4,0.286,0,Mask Off,Future\\r\\n1174,0.122,0.803,227292,0.793,5.81E-05,6,0.154,-5.769,1,0.0635,106.035,4,0.54,0,Bon App\\xc3\\xa9tit,Katy Perry\\r\\n1175,0.0275,0.516,340707,0.595,0,5,0.109,-4.63,1,0.0313,119.972,4,0.209,0,Sign of the Times,Harry Styles\\r\\n1176,0.00246,0.532,200733,0.778,0.000111,7,0.153,-6.69,0,0.218,169.923,4,0.242,0,At My Best (feat. Hailee Steinfeld),Machine Gun Kelly\\r\\n1177,0.416,0.704,176347,0.423,0,8,0.0607,-6.792,1,0.0862,113.962,4,0.45,0,Issues,Julia Michaels\\r\\n1178,0.013,0.853,206693,0.56,0,1,0.0944,-4.961,1,0.0406,134.066,4,0.853,0,That\\'s What I Like,Bruno Mars\\r\\n1179,0.0561,0.623,220291,0.656,0,0,0.0855,-5.608,0,0.0416,95.878,4,0.371,0,September Song,JP Cooper\\r\\n1180,0.131,0.748,188491,0.627,0,7,0.0852,-6.029,1,0.0644,120.963,4,0.513,0,Still Got Time,ZAYN\\r\\n1181,0.33,0.736,219080,0.449,0.000162,1,0.0898,-11.462,0,0.425,80.126,4,0.322,0,Location,Khalid\\r\\n1182,0.0895,0.584,220883,0.54,0,1,0.261,-7.786,0,0.0576,137.972,4,0.19,0,Scared to Be Lonely,Martin Garrix\\r\\n1183,0.304,0.804,298941,0.459,0.0862,11,0.11,-11.556,1,0.039,111.963,4,0.372,0,Passionfruit,Drake\\r\\n1184,0.581,0.825,233713,0.652,0,1,0.0931,-3.183,0,0.0802,95.977,4,0.933,0,Shape of You,Ed Sheeran\\r\\n1185,0.0991,0.608,232947,0.86,0,5,0.262,-5.324,0,0.0554,127.075,4,0.441,0,Wild Ones (feat. Sia),Flo Rida\\r\\n1186,0.167,0.748,210627,0.727,0,11,0.166,-2.42,0,0.0871,125.014,4,0.68,0,Starships,Nicki Minaj\\r\\n1187,0.0656,0.828,299333,0.433,0.000876,0,0.122,-9.716,1,0.199,148.073,4,0.446,0,Lollipop,Lil Wayne\\r\\n1188,0.0921,0.72,229360,0.802,0,1,0.694,-5.797,1,0.0582,124.043,4,0.716,0,Time of Our Lives,Pitbull\\r\\n1189,0.0319,0.646,210960,0.795,0,9,0.267,-3.293,1,0.0976,89.99,4,0.791,0,Stereo Hearts (feat. Adam Levine),Gym Class Heroes\\r\\n1190,0.0643,0.755,198187,0.838,1.59E-05,7,0.118,-4.5,0,0.0687,126.877,4,0.454,0,Glad You Came,The Wanted\\r\\n1191,0.00622,0.75,203867,0.78,0,4,0.0263,-3.155,1,0.0898,119.985,4,0.819,0,Dynamite,Taio Cruz\\r\\n1192,0.0567,0.467,293533,0.564,0,9,0.194,-4.986,0,0.353,81.966,4,0.304,0,Clique,JAY Z\\r\\n1193,0.11,0.66,180480,0.867,0,6,0.0368,-4.285,0,0.116,93.033,4,0.376,0,Airplanes (feat. Hayley Williams of Paramore),B.o.B\\r\\n1194,0.555,0.635,217419,0.691,0,0,0.097,-4.862,1,0.258,82.142,4,0.63,0,Trumpets,Jason Derulo\\r\\n1195,0.071,0.375,338853,0.862,0,11,0.211,-3.363,0,0.255,159.841,4,0.472,0,Live Your Life - feat. Rihanna,T.I.\\r\\n1196,0.00738,0.352,216893,0.843,0,7,0.0883,-7.983,0,0.482,165.29,5,0.716,0,Like A G6,Far East Movement\\r\\n1197,0.039,0.673,229507,0.758,0,7,0.341,-3.632,1,0.158,135.956,4,0.541,0,Feel This Moment,Pitbull\\r\\n1198,0.0295,0.581,204160,0.963,0,11,0.139,-4.087,1,0.0981,129.992,4,0.792,0,Timber,Pitbull\\r\\n1199,0.0384,0.72,175427,0.791,0,1,0.157,-4.689,1,0.124,102.071,4,0.767,0,Classic,MKTO\\r\\n1200,0.069,0.599,245041,0.803,0.137,0,0.129,-3.641,0,0.0986,126.057,4,0.254,0,Titanium (feat. Sia),David Guetta\\r\\n1201,0.0181,0.62,229573,0.869,0,1,0.369,-5.252,1,0.175,151.684,4,0.769,0,E.T. - feat. Kanye West,Katy Perry\\r\\n1202,0.000704,0.657,190186,0.827,0.00534,5,0.065,-4.036,1,0.0734,145.889,4,0.698,0,GDFR (feat. Sage The Gemini & Lookas),Flo Rida\\r\\n1203,0.0525,0.715,207333,0.655,0,0,0.115,-6.425,1,0.137,95.078,4,0.557,0,\"Young, Wild & Free (feat. Bruno Mars)\",Snoop Dogg\\r\\n1204,0.0514,0.786,250189,0.857,0,9,0.112,-3.765,1,0.0734,110.038,4,0.602,0,The Monster,Eminem\\r\\n1205,0.0746,0.755,199693,0.832,1.27E-06,2,0.291,-2.741,0,0.116,120.032,4,0.719,0,TiK ToK,Kesha\\r\\n1206,0.0715,0.859,188453,0.697,0,1,0.0761,-3.79,0,0.0569,117.008,4,0.875,0,Love You Like A Love Song,Selena Gomez & The Scene\\r\\n1207,0.112,0.612,212862,0.84,0,11,0.116,-3.145,0,0.0509,129.042,4,0.441,0,Don\\'t You Worry Child (Radio Edit) [feat. John Martin],Swedish House Mafia\\r\\n1208,0.0762,0.809,195853,0.628,0.000371,11,0.113,-5.021,0,0.0561,130.008,4,0.797,0,Sexy Bitch (feat. Akon) - Featuring Akon;explicit,David Guetta\\r\\n1209,0.000979,0.842,189907,0.531,1.34E-05,0,0.0667,-8.729,1,0.0377,105.013,4,0.758,0,Somebody,Natalie La Rose\\r\\n1210,0.0183,0.745,189959,0.714,0,1,0.0636,-5.501,0,0.0302,120.025,4,0.847,0,Maps,Maroon 5\\r\\n1211,0.162,0.725,247520,0.68,2.13E-06,8,0.158,-5.465,1,0.0306,119.939,4,0.753,0,Am I Wrong,Nico & Vinz\\r\\n1212,0.0117,0.579,275987,0.821,0,1,0.0631,-4.616,1,0.152,174.063,4,0.561,0,Umbrella,Rihanna\\r\\n1213,0.0649,0.663,257840,0.714,0,1,0.116,-4.944,0,0.038,121.99,4,0.471,0,Counting Stars,OneRepublic\\r\\n1214,0.00107,0.818,213733,0.799,0.128,1,0.057,-4.1,0,0.156,100.014,4,0.0953,0,Turn Down for What,DJ Snake\\r\\n1215,0.0378,0.81,369627,0.793,1.82E-06,6,0.072,-9.404,0,0.0403,116.049,4,0.86,0,Get Lucky,Daft Punk\\r\\n1216,0.0533,0.441,225160,0.87,3.70E-06,2,0.0936,-4.845,1,0.057,134.469,4,0.281,0,A Dustland Fairytale,The Killers\\r\\n1217,0.0215,0.688,192191,0.702,0,7,0.128,-4.792,0,0.0499,94.006,4,0.731,0,My House,Flo Rida\\r\\n1218,0.219,0.427,257760,0.861,0,1,0.277,-4.874,1,0.376,161.776,4,0.581,0,Best I Ever Had,Drake\\r\\n1219,0.0196,0.592,206880,0.752,0,1,0.0477,-6.589,1,0.114,74.784,4,0.73,0,Stitches,Shawn Mendes\\r\\n1220,0.403,0.753,203467,0.801,0,4,0.128,-3.215,1,0.0296,128.011,4,0.787,0,I Will Never Let You Down,Rita Ora\\r\\n1221,0.186,0.548,272394,0.532,0.000263,5,0.217,-7.596,1,0.0323,85.03,4,0.428,0,Do I Wanna Know?,Arctic Monkeys\\r\\n1222,0.00901,0.635,307987,0.983,0.00799,6,0.0683,-3.807,0,0.174,145.085,4,0.422,0,Cinema - Skrillex Remix,Benny Benassi\\r\\n1223,0.0431,0.697,277387,0.527,1.25E-05,0,0.0882,-10.438,0,0.211,121.849,4,0.289,0,Take Care,Drake\\r\\n1224,0.0208,0.583,258827,0.786,0,2,0.188,-3.142,0,0.0301,123.052,4,0.556,0,Love Song,Sara Bareilles\\r\\n1225,0.00373,0.862,263827,0.608,6.14E-06,7,0.0856,-4.762,1,0.0402,120.002,4,0.825,0,Blurred Lines,Robin Thicke\\r\\n1226,0.119,0.68,313787,0.489,2.86E-05,11,0.606,-7.837,0,0.432,74.04,4,0.261,0,Swimming Pools (Drank) - Extended Version,Kendrick Lamar\\r\\n1227,0.161,0.772,225560,0.648,0,9,0.269,-6.222,1,0.0612,129.966,4,0.744,0,Beautiful Girls - Radio Disney Version,Sean Kingston\\r\\n1228,0.0532,0.709,189333,0.697,5.15E-05,2,0.349,-3.471,1,0.0275,112.017,4,0.78,0,Cool,Gwen Stefani\\r\\n1229,0.455,0.627,262853,0.56,0,5,0.126,-5.378,1,0.0667,97.967,4,0.488,0,Can\\xe2\\x80\\x99t Live Without,Hollyn\\r\\n1230,0.0394,0.567,217480,0.678,0,10,0.102,-6.642,0,0.0404,141.951,4,0.381,0,Glimpse,Kim Walker-Smith\\r\\n1231,0.0495,0.547,187013,0.513,0,0,0.181,-7.451,1,0.0309,110.54,4,0.262,0,Broken Things,Matthew West\\r\\n1232,0.379,0.335,255160,0.582,2.67E-05,5,0.0954,-5.09,1,0.0375,110.522,4,0.13,0,Even If,MercyMe\\r\\n1233,0.0363,0.468,219720,0.786,0,9,0.31,-2.757,1,0.0334,84.992,4,0.479,0,Home,Chris Tomlin\\r\\n1234,0.648,0.322,228067,0.508,0.00297,7,0.152,-7.681,1,0.0341,155.128,4,0.191,0,Nowhere,Sarah Reeves\\r\\n1235,0.766,0.486,250123,0.331,0,2,0.072,-9.106,1,0.0328,79.277,4,0.421,0,Hills and Valleys (The Valleys Version),Tauren Wells\\r\\n1236,0.0189,0.475,195907,0.672,0,0,0.117,-5.925,1,0.0329,77.857,4,0.382,0,Chain Breaker,Zach Williams\\r\\n1237,0.912,0.361,277973,0.236,7.79E-05,6,0.0831,-7.781,1,0.0315,147.309,3,0.184,0,Clean,Natalie Grant\\r\\n1238,0.447,0.519,245853,0.684,0,6,0.0901,-3.746,1,0.0325,133.943,4,0.293,0,I Will,Citizen Way\\r\\n1239,0.0353,0.576,254262,0.686,6.68E-05,3,0.114,-6.032,1,0.0554,153.901,4,0.599,0,The Gospel,Ryan Stevenson\\r\\n1240,0.0342,0.511,284947,0.815,0,6,0.09,-6.317,0,0.048,128.004,4,0.245,0,Throne Room,Kim Walker-Smith\\r\\n1241,0.0164,0.526,237467,0.692,0,4,0.0786,-3.895,1,0.0278,137.849,4,0.266,0,I Won\\'t Let You Go - Radio Version,Switchfoot\\r\\n1242,0.0176,0.621,215050,0.674,0,6,0.242,-4.635,0,0.0323,92.994,4,0.255,0,Unfinished,Mandisa\\r\\n1243,0.117,0.673,176453,0.813,0,0,0.148,-5.895,1,0.0363,103.999,4,0.638,0,Old Church Choir,Zach Williams\\r\\n1244,0.28,0.555,236667,0.663,0,0,0.107,-5.628,1,0.042,75.976,4,0.295,0,Forgiven,Crowder\\r\\n1245,0.379,0.534,225933,0.508,0,2,0.0867,-7.085,1,0.0322,153.947,4,0.407,0,Love Wins,Love and Theft\\r\\n1246,0.199,0.422,204800,0.336,0,0,0.189,-7.199,1,0.0306,108.009,4,0.0974,0,I Have This Hope,Tenth Avenue North\\r\\n1247,0.568,0.448,218133,0.412,5.68E-05,11,0.159,-7.877,1,0.0281,133.881,4,0.308,0,In Awe,Hollyn\\r\\n1248,0.498,0.331,255173,0.427,0,3,0.108,-7.431,1,0.0302,157.938,3,0.129,0,Oh My Soul,Casting Crowns\\r\\n1249,0.0229,0.385,222400,0.663,0,2,0.0841,-5.902,1,0.0271,156.066,3,0.237,0,You Redeem - Studio Version,Aaron Shust\\r\\n1250,0.0141,0.447,212701,0.89,0,6,0.0858,-4.563,1,0.0676,93.894,4,0.331,0,Amen,Hunter Hayes\\r\\n1251,0.0107,0.619,220840,0.733,0,8,0.176,-5.055,1,0.0405,100.071,4,0.507,0,Brand New Life,Colton Dixon\\r\\n1252,0.202,0.497,249640,0.604,0,2,0.299,-9.438,1,0.0313,131.935,4,0.225,0,Oceans (Where Feet May Fail) - Radio Version,Hillsong United\\r\\n1253,0.587,0.464,205387,0.225,5.64E-06,0,0.116,-9.155,1,0.0403,84.677,4,0.209,0,O God Forgive Us,for KING & COUNTRY\\r\\n1254,0.0298,0.306,293331,0.742,0,11,0.126,-3.914,1,0.0427,155.873,3,0.149,0,Death Was Arrested,North Point InsideOut\\r\\n1255,0.149,0.536,243013,0.711,0,6,0.112,-4.916,1,0.0367,147.9,4,0.326,0,Back To God,Reba McEntire\\r\\n1256,0.000767,0.429,264320,0.636,5.14E-05,5,0.203,-7.684,1,0.0325,123.966,4,0.233,0,Say The Word,Hillsong United\\r\\n1257,0.627,0.295,252360,0.326,0,9,0.157,-6.125,0,0.0318,126.704,3,0.136,0,On My Side,Kim Walker-Smith\\r\\n1258,0.0218,0.534,168040,0.933,0,6,0.159,-4.021,1,0.0781,174.081,4,0.783,0,Bloom,Grayson Reed\\r\\n1259,0.104,0.475,219280,0.92,0,5,0.575,-4.991,1,0.0941,154.906,4,0.729,0,Revival,Third Day\\r\\n1260,0.415,0.436,248962,0.618,2.46E-06,3,0.177,-8.402,0,0.0432,83.982,4,0.352,0,Hold It All,Cody Carnes\\r\\n1261,0.0458,0.704,201093,0.928,0,8,0.345,-3.422,1,0.0443,113.981,4,0.96,0,Lifer,MercyMe\\r\\n1262,0.0166,0.543,202039,0.944,0,11,0.146,-2.647,1,0.0759,93.957,4,0.728,0,Now,Mallary Hope\\r\\n1263,0.0108,0.534,235733,0.862,0,1,0.104,-4.282,1,0.0486,104.012,4,0.435,0,Battles,The Afters\\r\\n1264,0.85,0.227,247020,0.309,0,0,0.0898,-7.368,1,0.0292,167.097,4,0.225,0,Prove Me Wrong,Mandisa\\r\\n1265,0.193,0.732,207052,0.606,1.25E-06,10,0.165,-5.21,1,0.0313,115.985,4,0.637,0,Run the Race,Holly Starr\\r\\n1266,0.322,0.659,167711,0.848,0,4,0.243,-3.273,1,0.202,166.009,4,0.961,0,The Happy Song,Jamie Grace\\r\\n1267,0.298,0.588,228453,0.58,0,0,0.0811,-7.833,1,0.0272,138.013,4,0.492,0,Find You Here,Ellie Holcomb\\r\\n1268,0.0875,0.353,199111,0.87,0,0,0.079,-5.386,1,0.127,135.045,4,0.308,0,Change The World (feat. Hollyn),Derek Minor\\r\\n1269,0.225,0.696,230933,0.713,2.22E-06,11,0.194,-5.114,0,0.123,189.932,4,0.368,0,Rise,Kim Walker-Smith\\r\\n1270,0.00532,0.529,208520,0.769,0,11,0.19,-6.369,1,0.0469,73.946,4,0.648,0,Priceless,for KING & COUNTRY\\r\\n1271,0.000774,0.525,239999,0.657,0,7,0.0778,-6.394,1,0.0271,77.013,4,0.286,0,Alive In You - Studio Version,Jesus Culture\\r\\n1272,0.187,0.423,238200,0.502,0,2,0.108,-5.924,1,0.0293,135.858,4,0.0968,0,What A Beautiful Name,Hillsong Worship\\r\\n1273,0.00497,0.574,240453,0.802,0,11,0.333,-4.801,0,0.0299,128.062,4,0.52,0,Beloved,Jordan Feliz\\r\\n1274,0.000619,0.388,347893,0.542,0,2,0.175,-6.122,1,0.0321,135.866,3,0.128,0,There Is a Cloud,Elevation Worship\\r\\n1275,0.0643,0.519,217800,0.907,0,4,0.264,-3.918,1,0.0444,147.957,4,0.603,0,Rise,Danny Gokey\\r\\n1276,0.00687,0.688,183413,0.843,0,5,0.0464,-4.12,1,0.0452,105.02,4,0.841,0,Fearless,Jasmine Murray\\r\\n1277,0.807,0.569,235680,0.484,9.35E-06,0,0.163,-6.536,1,0.0304,122.08,4,0.308,0,Tears,Matt Hammitt\\r\\n1278,0.0024,0.547,228040,0.511,1.24E-06,11,0.109,-5.802,1,0.0294,143.968,4,0.179,0,To Live Is Christ,Sidewalk Prophets\\r\\n1279,0.0198,0.511,237453,0.831,0,11,0.661,-4.826,1,0.131,141.971,4,0.544,0,Be The Change,Britt Nicole\\r\\n1280,0.000937,0.676,200481,0.79,8.94E-05,7,0.0938,-3.674,1,0.0338,99.948,4,0.0484,0,Parachute,Joshua Micah\\r\\n1281,0.0646,0.587,203937,0.791,0,8,0.25,-6.313,0,0.0911,125.993,4,0.593,0,Where You Are (Reimagined),Hillsong Young & Free\\r\\n1282,0.183,0.389,297320,0.525,0,9,0.308,-7.941,1,0.0403,143.919,3,0.0963,0,The Cause Of Christ,Kari Jobe\\r\\n1283,0.105,0.528,216400,0.59,0,6,0.104,-6.682,1,0.0352,118.031,4,0.113,0,King Of The World,Natalie Grant\\r\\n1284,0.0326,0.37,235227,0.723,0,0,0.0982,-4.774,1,0.0364,149.923,4,0.117,0,Come Alive (Dry Bones),Lauren Daigle\\r\\n1285,0.0919,0.301,254373,0.762,0,7,0.0822,-3.392,1,0.0402,161.864,3,0.208,0,Even So Come - Radio Version/Live,Passion\\r\\n1286,0.0839,0.459,256933,0.561,0,7,0.0998,-7.091,1,0.0271,144.784,4,0.298,0,\"10,000 Reasons (Bless the Lord) [Radio Version]\",Matt Redman\\r\\n1287,0.0793,0.545,234199,0.576,0,6,0.103,-11.081,1,0.0277,100.304,4,0.416,0,More Than Conquerors (Radio Version),Steven Curtis Chapman\\r\\n1288,0.471,0.495,243800,0.71,0,0,0.0703,-3.941,1,0.0288,90.024,4,0.332,0,TESTIFY,NEEDTOBREATHE\\r\\n1289,0.0832,0.492,232379,0.656,0,9,0.202,-7.361,1,0.0365,147.948,3,0.336,0,Great Are You Lord (Radio Mix),one sonic society\\r\\n1290,0.0551,0.401,307680,0.7,0,0,0.0961,-5.07,1,0.0368,81.049,4,0.171,0,Worthy Of Your Name - Studio,Passion\\r\\n1291,0.00392,0.436,288253,0.836,1.12E-06,10,0.113,-4.884,1,0.0497,147.978,4,0.314,0,My All In All,Phil Wickham\\r\\n1292,0.0101,0.674,237146,0.895,0,0,0.0996,-3.973,1,0.0337,102.984,4,0.558,0,Love Broke Thru,tobyMac\\r\\n1293,0.133,0.566,208627,0.766,0,11,0.117,-6.87,1,0.0552,139.955,4,0.393,0,Magnify,We Are Messengers\\r\\n1294,0.157,0.211,252965,0.649,0,0,0.117,-7.28,1,0.0393,150.11,4,0.289,0,The Cross Has The Final Word,Cody Carnes\\r\\n1295,0.196,0.305,331613,0.726,0,9,0.464,-6.375,1,0.061,82.673,4,0.547,0,Eye of the Storm (feat. Gabe Real),Ryan Stevenson\\r\\n1296,0.000127,0.237,247533,0.99,0.0914,7,0.393,-3.331,1,0.24,151.545,4,0.169,0,Black Colors,Victim Of Deception\\r\\n1297,1.51E-05,0.455,311217,0.994,0.0012,4,0.0908,-4.584,0,0.193,125.035,4,0.0703,0,A Darkened Gospel,A Wake in Providence\\r\\n1298,7.94E-06,0.236,239696,0.981,0.874,6,0.325,-2.635,1,0.299,160.114,4,0.129,0,Soil the Stillborn,Infant Annihilator\\r\\n1299,0.00256,0.468,201783,0.998,0,9,0.233,-0.994,0,0.15,140.003,4,0.064,0,No Absolution,Thy Art Is Murder\\r\\n1300,0.000102,0.476,314907,0.962,0.106,8,0.137,-4.023,1,0.12,145.947,4,0.451,0,Hearteater,To The Grave\\r\\n1301,8.35E-06,0.226,209563,0.553,0.0379,1,0.0728,-9.169,1,0.0546,129.255,4,0.323,0,Shapeless Abomination,Beyond the Extraction\\r\\n1302,0.00105,0.495,263687,0.955,0.0551,6,0.308,-4.181,1,0.0798,130.002,4,0.362,0,Dirty Waters,Into Oblivion\\r\\n1303,5.83E-05,0.296,229859,0.983,0.146,11,0.508,-2.999,1,0.169,115.003,4,0.231,0,Defiled,Hive\\r\\n1304,1.84E-05,0.474,260706,0.925,0.901,2,0.324,-3.539,1,0.146,139.97,4,0.142,0,Negative,FRCTRD\\r\\n1305,0.000168,0.406,180872,0.936,0.242,2,0.062,-4.564,0,0.11,139.922,4,0.26,0,Distorting of Perception,Until We Die\\r\\n1306,8.12E-05,0.173,267600,0.927,0.23,1,0.229,-5.22,1,0.0869,99.131,4,0.183,0,Ruin,Altered Perceptions\\r\\n1307,1.01E-05,0.404,224812,0.989,0.556,2,0.536,-1.374,1,0.184,94.291,4,0.153,0,Fauxhammer,Black Tongue\\r\\n1308,0.000393,0.456,217133,0.97,0.0432,1,0.0914,-4.655,1,0.175,124.976,4,0.0399,0,Spiteful Nature,I Shall Devour\\r\\n1309,0.0147,0.242,233796,0.96,0.0562,1,0.0923,-4.112,1,0.306,169.896,4,0.199,0,We Wait,I Declare War\\r\\n1310,4.42E-05,0.472,229640,0.942,0.823,11,0.324,-3.954,0,0.0951,150.005,4,0.186,0,Plague of Immortality (feat. Dean Lamb Of Archspire),Within Destruction\\r\\n1311,2.95E-05,0.227,244181,0.921,0.792,1,0.154,-6.149,0,0.099,175.167,3,0.116,0,Arrogance,Traitors\\r\\n1312,5.73E-05,0.444,268187,0.943,0.00704,1,0.114,-4.955,0,0.09,119.945,4,0.292,0,Inferiority,Neberu\\r\\n1313,8.53E-05,0.17,319582,0.866,0.976,4,0.569,-7.304,1,0.101,117.539,4,0.11,0,Senseless Order,Signs of the Swarm\\r\\n1314,4.19E-05,0.276,294034,0.919,0.181,1,0.479,-3.773,1,0.111,116.038,3,0.149,0,Advent,Shotgun Surgeon\\r\\n1315,6.49E-05,0.401,264107,0.988,0.116,1,0.342,-4.104,0,0.192,155.356,4,0.191,0,Venomous,Whitechapel\\r\\n1316,7.53E-05,0.398,200525,0.974,0.0076,1,0.389,-2.823,0,0.16,129.983,4,0.245,0,Substance Affliction,Advocates\\r\\n1317,0.000696,0.566,250647,0.986,0.0164,1,0.399,-5.016,1,0.0884,127.515,4,0.15,0,To Encompass and Eclipse,A Trust Unclean\\r\\n1318,0.000103,0.39,192011,0.978,0.941,11,0.12,-4.209,1,0.289,100.221,4,0.102,0,Rope,Obscure of Acacia\\r\\n1319,2.67E-05,0.336,282401,0.983,0.00362,11,0.257,-1.812,0,0.128,113.711,4,0.131,0,Permanent Intoxication,Mycelia\\r\\n1320,0.00545,0.48,228923,0.984,0.283,3,0.588,-5.718,0,0.116,130.02,4,0.146,0,Tremendous Strain,Science Of Sleep\\r\\n1321,0.000273,0.285,232999,0.989,0.797,7,0.104,-4.407,1,0.147,140.019,4,0.201,0,Of Talons and Teeth,Reaping Asmodeia\\r\\n1322,4.95E-05,0.428,221776,0.997,0.955,8,0.253,-3.587,1,0.185,149.998,4,0.0533,0,Pitchblack,Walking Dead On Broadway\\r\\n1323,0.000283,0.256,197684,0.98,0.0196,3,0.618,-5.107,1,0.0964,94.99,4,0.11,0,Zerotonin 2,Darknet\\r\\n1324,0.000102,0.491,309734,0.928,0.363,9,0.14,-3.866,1,0.0938,132.973,4,0.14,0,False Hope,The Machinist\\r\\n1325,0.000673,0.274,198011,0.925,0.156,1,0.47,-5.204,1,0.111,161.25,4,0.102,0,1208,Extortionist\\r\\n1326,0.00125,0.217,255725,0.98,0.00139,5,0.287,-3.332,1,0.133,139.024,4,0.0658,0,Plagues,The End At The Beginning\\r\\n1327,4.58E-05,0.261,149278,0.863,7.33E-06,11,0.329,-7.199,1,0.0721,108.347,4,0.316,0,Hear Me Out,Risking It All\\r\\n1328,1.35E-05,0.517,256920,0.991,1.44E-05,9,0.0501,-2.406,0,0.112,120.026,4,0.194,0,Down into the Abyss,Conjonctive\\r\\n1329,0.000482,0.258,282101,0.905,0.000489,10,0.686,-4.897,1,0.136,112.94,4,0.16,0,Dance of the Witch,At Rest\\r\\n1330,1.20E-05,0.484,328000,0.98,0.188,0,0.779,-1.939,1,0.075,119.997,4,0.165,0,New World Slaughter,Iconoclast\\r\\n1331,6.56E-05,0.387,300000,0.967,0.226,5,0.337,-3.335,0,0.128,129.904,4,0.0536,0,FVNERAL MOON,Lorna Shore\\r\\n1332,0.00029,0.424,271560,0.992,2.13E-05,5,0.322,-2.976,0,0.19,145.144,4,0.0914,0,Beautiful Agony,Within The Ruins\\r\\n1333,0.000111,0.45,267000,0.986,0.251,1,0.0645,-2.384,1,0.151,159.976,4,0.172,0,Ways Of Transfiguration,Buried Side\\r\\n1334,2.13E-05,0.222,278577,0.985,0.00644,7,0.775,-4.105,1,0.149,136.227,4,0.16,0,Black Mammoth,Fit For An Autopsy\\r\\n1335,5.40E-05,0.455,210426,0.973,0.00193,1,0.365,-4.597,0,0.132,102.076,4,0.448,0,Solicitude,Belie My Burial\\r\\n1336,0.000123,0.398,252005,0.955,0.458,7,0.299,-3.39,0,0.0698,100.03,4,0.134,0,The Call of Mighty,Crucify Me Gently\\r\\n1337,8.80E-06,0.399,267209,0.877,0.358,11,0.677,-5.418,0,0.0804,112.351,3,0.254,0,Manufactured Existence,Lord of War\\r\\n1338,3.28E-05,0.401,194000,0.921,0.753,6,0.359,-3.287,0,0.0781,102.035,4,0.372,0,Bastard Son,God Of Nothing\\r\\n1339,1.94E-05,0.209,246689,0.955,0.0118,11,0.0925,-4.527,1,0.143,199.988,4,0.114,0,The Shaping Sickness,Shadow of Intent\\r\\n1340,1.56E-05,0.493,258868,0.964,0.00733,1,0.727,-3.079,1,0.0954,110.005,4,0.17,0,Drown Me in Blood,Carnifex\\r\\n1341,0.00115,0.339,219317,0.958,1.56E-05,9,0.651,-2.909,0,0.153,128.806,4,0.273,0,Inferno,\"Above, Below\"\\r\\n1342,5.32E-05,0.458,184482,0.957,8.97E-05,0,0.364,-6.16,1,0.107,120.006,4,0.154,0,Debris,Paragon\\r\\n1343,1.45E-05,0.263,275719,0.896,0.876,6,0.363,-8.048,1,0.11,113.106,4,0.251,0,\"I, the Weak\",The Voynich Code\\r\\n1344,0.00192,0.482,198947,0.968,0.000454,6,0.108,-4.395,1,0.149,114.001,4,0.245,0,American Dream,Chelsea Grin\\r\\n1345,2.21E-05,0.379,256114,0.979,0.877,9,0.453,-3.77,1,0.107,140.029,4,0.156,0,Temptress,Enterprise Earth\\r\\n1346,2.05E-05,0.535,203500,0.974,0.000149,10,0.263,-3.566,0,0.172,116.956,4,0.431,0,Flag of the Beast,Emmure\\r\\n1347,1.69E-05,0.329,135653,0.993,0.641,6,0.342,-3.416,1,0.0969,116.461,4,0.372,0,Unanswered,Suicide Silence\\r\\n1348,4.55E-05,0.162,200961,0.957,0.867,10,0.669,-6.229,0,0.147,96.822,5,0.119,0,Be My Valentine (feat. Dickie Allen),Brojob\\r\\n1349,5.41E-06,0.389,220558,0.985,0.954,1,0.305,-2.795,0,0.112,135.019,4,0.0637,0,Prismatic Abyss,Aversions Crown\\r\\n1350,0.00631,0.636,180400,0.802,4.14E-05,2,0.059,-2.168,1,0.167,139.815,4,0.334,0,Right In,Skrillex\\r\\n1351,0.0145,0.716,215253,0.972,3.22E-05,7,0.317,-2.302,1,0.196,110.026,4,0.566,0,Bangarang (feat. Sirah),Skrillex\\r\\n1352,0.0049,0.596,301987,0.921,0.00019,11,0.536,-2.5,0,0.074,139.969,4,0.232,0,Breakn\\' A Sweat,Skrillex\\r\\n1353,0.00075,0.616,292907,0.946,0.0777,1,0.355,-2.876,1,0.0687,127.992,4,0.332,0,The Devil\\'s Den,Skrillex\\r\\n1354,0.0106,0.633,245053,0.926,0.54,11,0.133,-4.749,0,0.0971,140.037,4,0.493,0,Right On Time,Skrillex\\r\\n1355,0.0012,0.605,200787,0.92,0.000596,4,0.483,-2.298,0,0.0713,174.974,4,0.22,0,Kyoto (feat. Sirah),Skrillex\\r\\n1356,0.654,0.176,414747,0.479,0.591,7,0.13,-7.471,0,0.0282,100.831,4,0.0622,0,Skrillex Orchestral Suite By Varien - Bonus Track,Skrillex\\r\\n1357,0.218,0.385,232716,0.404,1.57E-06,8,0.113,-6.999,1,0.029,146.128,4,0.0703,0,Satellite,SALTNPAPER\\r\\n1358,0.328,0.68,231679,0.593,0,1,0.105,-6.496,1,0.176,94.007,4,0.396,0,Nosedive,Dynamic Duo\\r\\n1359,0.0171,0.726,212409,0.889,0.00106,6,0.0741,-4.251,0,0.0304,119.983,4,0.531,0,PIZZA,Oohyo\\r\\n1360,0.773,0.741,193217,0.219,2.84E-06,11,0.116,-11.944,1,0.0432,101.78,4,0.198,0,\\xec\\x9d\\xb4\\xeb\\x8c\\x80\\xeb\\xa1\\x9c \\xec\\x9e\\x88\\xec\\x96\\xb4\\xec\\xa4\\x98\\xec\\x9a\\x94 Stay With Me,\\xeb\\x8f\\x84\\xec\\x8b\\x9c\\xec\\xb4\\x9d\\xea\\xb0\\x81 Dosichonggak\\r\\n1361,0.498,0.587,246457,0.554,0.000663,1,0.106,-7.212,1,0.0424,80.013,4,0.431,0,Stardust,Kevin Oh\\r\\n1362,2.54E-05,0.321,128340,0.751,0.235,9,0.109,-4.655,1,0.0543,110.182,4,0.174,0,Burning youth,Hyukoh\\r\\n1363,0.263,0.697,193605,0.692,0,7,0.104,-5.34,1,0.0511,124.829,4,0.275,0,Wi Ing Wi Ing,Hyukoh\\r\\n1364,0.712,0.483,229261,0.524,0,11,0.0975,-3.92,1,0.0261,91.878,4,0.519,0,Wonder,Standing Egg\\r\\n1365,0.285,0.498,221293,0.436,0,6,0.06,-4.592,1,0.0304,79.871,4,0.261,0,I\\'ll Pick You Up,Standing Egg\\r\\n1366,0.0262,0.635,183781,0.575,0.00337,11,0.361,-8.8,0,0.0581,159.913,4,0.493,0,VAMOS,Oohyo\\r\\n1367,0.364,0.819,186817,0.677,0.0313,5,0.0915,-5.703,0,0.0423,94.975,4,0.93,0,MWAH,Humming Urban Stereo\\r\\n1368,0.564,0.676,238895,0.508,0.000142,2,0.101,-7.515,1,0.0577,106.015,4,0.327,0,Loop,NELL\\r\\n1369,0.873,0.657,201667,0.427,0,0,0.109,-6.879,1,0.0377,144.014,4,0.24,0,With Me,Vanilla Acoustic\\r\\n1370,0.0989,0.483,263979,0.747,0.000409,5,0.24,-4.363,1,0.0549,80.117,4,0.223,0,Monster,PALGOU\\r\\n1371,0.264,0.62,225800,0.529,0,5,0.354,-5.333,0,0.0353,94.951,4,0.572,0,What 2 Do,DEAN\\r\\n1372,0.669,0.751,230493,0.489,3.57E-06,8,0.177,-5.418,1,0.0343,140.013,4,0.468,0,For Me,Gyepy\\r\\n1373,0.765,0.767,203263,0.445,0.000727,6,0.0897,-8.527,1,0.0328,119.923,4,0.375,0,Fallen in Love (Only With You),Jang Beom June\\r\\n1374,0.164,0.844,226600,0.32,0,6,0.107,-9.532,0,0.0475,125.927,4,0.575,0,Talk,10cm\\r\\n1375,0.253,0.743,237588,0.886,0.00267,8,0.714,-3.503,0,0.0831,109.961,4,0.397,0,Black Out,PALGOU\\r\\n1376,0.107,0.54,204589,0.408,0.000811,0,0.111,-11.899,0,0.0457,159.813,4,0.655,0,Sleeping Habits,Donguy\\r\\n1377,0.224,0.657,230000,0.536,0.00432,4,0.352,-7.073,1,0.0303,119.95,4,0.184,0,Romance in Seoul,Neon Bunny\\r\\n1378,0.532,0.549,200231,0.451,3.44E-05,1,0.0425,-10.302,0,0.15,85.296,4,0.621,0,Hot and Cold (feat. Yun Cheoljong of 10cm),SunWoo Jung-A\\r\\n1379,0.859,0.762,175792,0.277,0,7,0.161,-9.263,1,0.0459,109.689,3,0.286,0,Ki-dult,SBGB\\r\\n1380,0.837,0.214,249727,0.484,9.66E-05,9,0.114,-5.44,1,0.0324,81.625,4,0.267,0,\"\\xec\\xa7\\x80\\xea\\xb8\\x88 \\xec\\x97\\xac\\xea\\xb8\\xb0, \\xec\\x9d\\xb4\\xea\\xb3\\xb3\\xec\\x97\\x90\\xec\\x84\\x9c (Duet With \\xeb\\xa3\\xa8\\xec\\x8b\\x9c\\xec\\x95\\x84) , \\xec\\xa7\\x80\\xea\\xb8\\x88 \\xec\\x97\\xac\\xea\\xb8\\xb0, \\xec\\x9d\\xb4\\xea\\xb3\\xb3\\xec\\x97\\x90\\xec\\x84\\x9c\",Sentimental Scenery\\r\\n1381,0.0219,0.63,222546,0.684,0.00108,11,0.103,-6.74,0,0.0399,142.952,4,0.881,0,\\xeb\\x84\\x88\\xec\\x99\\x80\\xec\\x9d\\x98 \\xea\\xb3\\xb5\\xec\\x8b\\x9d Love Equation,\\xed\\x94\\x8c\\xeb\\x9e\\xab\\xed\\x95\\x8f Flat Feet\\r\\n1382,0.806,0.35,254925,0.347,4.37E-06,4,0.102,-6.154,1,0.0318,146.661,4,0.241,0,I Don\\'t Love You,Urban Zakapa\\r\\n1383,0.439,0.892,157001,0.443,0,0,0.0866,-6.181,1,0.0379,107.984,4,0.729,0,My eyes,10cm\\r\\n1384,0.881,0.764,99610,0.177,3.34E-05,9,0.121,-13.596,0,0.0983,115.697,4,0.569,0,Zig Zag,Kwon Jin Ah\\r\\n1385,0.0117,0.432,278999,0.761,2.88E-05,1,0.75,-4.126,1,0.0305,138.004,4,0.334,0,Cake Love (PROD. BY The Black Skirts),XIA\\r\\n1386,0.423,0.7,215005,0.425,1.72E-06,7,0.0879,-9.52,1,0.0287,95.058,4,0.283,0,HOW WAS YOUR DAY,Sugarbowl\\r\\n1387,0.00922,0.453,388463,0.678,5.11E-05,9,0.0477,-7.291,0,0.0494,131.936,4,0.0827,0,\\xeb\\xb3\\x80\\xeb\\xaa\\x85 Shame,DyoN Joo\\r\\n1388,0.414,0.574,299008,0.51,0.000213,7,0.0995,-7.63,1,0.0334,121.989,4,0.125,0,You Wouldn\\'t Even Know,Flower Soo\\r\\n1389,0.705,0.894,222307,0.161,0.0033,4,0.312,-14.311,1,0.088,104.968,4,0.818,0,\\xec\\x9e\\xa5\\xea\\xb0\\x80\\xea\\xb0\\x88 \\xec\\x88\\x98 \\xec\\x9e\\x88\\xec\\x9d\\x84\\xea\\xb9\\x8c Can I Get Married?,Coffeeboy\\r\\n1390,0.368,0.717,232944,0.844,1.93E-05,1,0.255,-5.363,0,0.0299,110.023,4,0.825,0,Sneakers,Humming Urban Stereo\\r\\n1391,0.289,0.712,223333,0.625,0,7,0.127,-8.832,1,0.149,100.004,4,0.718,0,Dangerous,Clazziquai Project\\r\\n1392,0.138,0.768,224009,0.743,0.00128,0,0.142,-6.09,1,0.0455,89.983,4,0.692,0,Night Time Melody,Rude Paper\\r\\n1393,0.909,0.489,202827,0.173,0,3,0.117,-9.827,1,0.0567,121.054,3,0.625,0,Reason Why We Have To Break Up,Only U\\r\\n1394,0.508,0.597,210893,0.575,0,10,0.265,-3.705,1,0.0341,85.018,4,0.516,0,\"Love, Love.\",Big Brain\\r\\n1395,0.772,0.598,224779,0.515,4.91E-06,5,0.164,-4.695,0,0.0363,117.762,3,0.377,0,I Don\\'t Want,Jungkey\\r\\n1396,0.286,0.616,236960,0.387,0,9,0.277,-6.079,0,0.0335,81.856,4,0.47,0,All in Vain,Mot\\r\\n1397,0.0805,0.766,319360,0.602,0.765,0,0.0889,-8.388,0,0.0273,100.042,4,0.378,0,\\xea\\xb7\\x80\\xea\\xb0\\x80 Return Home,\\xec\\xb9\\xb4\\xec\\x9a\\xb0\\xec\\xb9\\xa9\\xec\\x8a\\xa4 The CowChips\\r\\n1398,0.804,0.792,293458,0.15,1.30E-05,1,0.0704,-15.644,1,0.0486,83.625,4,0.33,0,\\xeb\\xac\\xbc Water,\\xea\\xb6\\x8c\\xeb\\x82\\x98\\xeb\\xac\\xb4 Kwon Tree\\r\\n1399,0.805,0.709,206013,0.29,0,4,0.17,-11.092,1,0.0322,90.046,4,0.584,0,Summer Night You and I,Standing Egg\\r\\n1400,0.858,0.679,257187,0.126,0.000102,11,0.114,-10.562,0,0.0369,129.75,3,0.114,0,Let You Go,Mot\\r\\n1401,0.175,0.581,247497,0.312,5.57E-05,5,0.104,-8.984,0,0.054,181.893,4,0.506,0,Sooni (I\\'m your fanatic girl),SunWoo Jung-A\\r\\n1402,0.578,0.652,177090,0.512,7.49E-06,5,0.101,-7.062,1,0.0276,104.98,4,0.284,0,Run,Okdal\\r\\n1403,0.654,0.73,205333,0.418,7.51E-05,2,0.13,-6.735,1,0.0319,139.888,4,0.401,0,Petals on The Wind (Remake Version),Wable\\r\\n1404,0.663,0.719,227827,0.478,0.000886,2,0.0496,-9.58,1,0.0297,77.996,4,0.354,0,Morning Call - Remix Version,Ibadi\\r\\n1405,0.827,0.524,193406,0.392,0,10,0.363,-8.938,0,0.0305,145.88,4,0.296,0,Rub off,Kim Woo-Joo\\r\\n1406,0.503,0.41,256333,0.648,0,7,0.219,-4.469,1,0.0362,60.391,4,0.342,0,Don\\'t You Cry For Me,Cobi\\r\\n1407,0.947,0.483,248176,0.199,0,2,0.109,-11.37,1,0.0586,78.103,4,0.162,0,Waves - Acoustic,Dean Lewis\\r\\n1408,0.461,0.59,162084,0.568,0.0562,7,0.106,-8.332,1,0.0252,153.113,4,0.731,0,Runner,Jon and Roy\\r\\n1409,0.302,0.696,292987,0.521,0,10,0.0565,-8.465,0,0.332,100,4,0.471,0,No Role Modelz,J. Cole\\r\\n1410,0.0752,0.504,239320,0.705,0,6,0.128,-8.205,0,0.364,175.483,4,0.564,0,Wet Dreamz,J. Cole\\r\\n1411,0.358,0.894,216520,0.284,0.000487,11,0.11,-13.002,0,0.33,138.944,4,0.413,0,Neighbors,J. Cole\\r\\n1412,0.361,0.653,264747,0.409,0.00012,9,0.189,-11.446,1,0.421,174.324,4,0.181,0,Deja Vu,J. Cole\\r\\n1413,0.331,0.889,301133,0.393,8.67E-06,4,0.283,-10.821,0,0.267,128.065,4,0.31,0,G.O.M.D.,J. Cole\\r\\n1414,0.0451,0.592,280615,0.701,0,10,0.327,-4.014,0,0.0858,129.501,4,0.299,0,Litty (feat. Tory Lanez),Meek Mill\\r\\n1415,0.0242,0.589,223973,0.658,0,11,0.118,-5.288,0,0.203,77.521,4,0.254,0,All Eyes On You (feat. Chris Brown & Nicki Minaj),Meek Mill\\r\\n1416,0.00375,0.7,210472,0.693,0,2,0.314,-6.553,1,0.14,133.981,4,0.513,0,Froze (feat. Lil Uzi Vert & Nicki Minaj),Meek Mill\\r\\n1417,0.0415,0.37,250240,0.87,0,5,0.604,-2.09,1,0.271,79.092,4,0.334,0,Ima Boss - feat. Rick Ross,Meek Mill\\r\\n1418,0.214,0.523,291280,0.783,0,6,0.612,-3.755,0,0.185,117.264,5,0.312,0,Apple of My Eye,Rick Ross\\r\\n1419,0.00895,0.434,332600,0.785,0,4,0.132,-4.169,0,0.128,106.926,5,0.393,0,Santorini Greece,Rick Ross\\r\\n1420,0.0123,0.481,341680,0.716,0,10,0.141,-5.996,0,0.622,78.829,4,0.399,0,Idols Become Rivals,Rick Ross\\r\\n1421,0.00612,0.729,275720,0.838,0,8,0.0721,-4.476,0,0.313,136.869,4,0.35,0,Trap Trap Trap,Rick Ross\\r\\n1422,0.00589,0.662,267720,0.808,0,9,0.613,-3.06,1,0.122,76.493,4,0.448,0,Dead Presidents,Rick Ross\\r\\n1423,0.00184,0.541,225427,0.609,0,1,0.179,-3.715,1,0.127,158.314,4,0.298,0,She On My Dick,Rick Ross\\r\\n1424,0.0084,0.629,242373,0.7,0,2,0.118,-6.212,1,0.264,85.814,4,0.159,0,I Think She Like Me,Rick Ross\\r\\n1425,0.0273,0.501,269720,0.775,0,7,0.211,-6.248,0,0.436,85.929,4,0.615,0,Powers That Be,Rick Ross\\r\\n1426,0.00755,0.54,224707,0.82,0,5,0.642,-3.824,1,0.138,78.063,4,0.516,0,Game Ain\\'t Based On Sympathy,Rick Ross\\r\\n1427,0.0171,0.801,160000,0.642,0.000946,9,0.112,-5.926,0,0.0903,126.013,4,0.703,0,Humble,Wahlstedt\\r\\n1428,0.033,0.707,201707,0.929,0.205,8,0.0626,-4.199,0,0.0901,123.004,4,0.403,0,My Friend,EDX\\r\\n1429,0.306,0.696,192000,0.795,7.72E-06,8,0.243,-4.892,0,0.187,126.186,4,0.16,0,White Label (Is This Love),Still Young\\r\\n1430,0.00551,0.562,228414,0.885,0.805,8,0.0621,-3.096,1,0.0431,145.06,4,0.679,0,Home,Marshmello\\r\\n1431,0.0171,0.47,251350,0.863,0.143,6,0.096,-6.52,0,0.0461,170.137,4,0.335,0,Front to Back,Buku\\r\\n1432,0.0227,0.726,335609,0.929,0.379,0,0.924,-7.146,0,0.0771,123.036,4,0.706,0,Best Thing About,Lex Luca\\r\\n1433,0.00121,0.984,188852,0.941,0.0539,9,0.026,-4.56,0,0.0805,122.003,4,0.331,0,Flashwind - Radio Edit,Ben Remember\\r\\n1434,0.135,0.72,188852,0.643,0.812,9,0.112,-7.691,1,0.0369,122.012,4,0.323,0,Fuego,Alok\\r\\n1435,0.00613,0.473,169756,0.885,0.00023,5,0.219,-3.42,0,0.0454,149.698,4,0.278,0,Rose Horizon,Yellow Claw\\r\\n1436,0.00101,0.466,16588,0.943,0,6,0.458,-3.545,0,0.385,113.457,5,0.598,0,dance alot,Various Artists\\r\\n1437,0.588,0.614,179613,0.792,0,5,0.105,-3.528,0,0.352,154.823,4,0.554,0,Save You,Wahlstedt\\r\\n1438,0.00433,0.775,248007,0.883,0.346,11,0.057,-5.83,0,0.0703,125.006,4,0.682,0,I Want You,Chris Lake\\r\\n1439,0.0362,0.67,585000,0.792,0.881,7,0.101,-8.211,1,0.0465,128.018,3,0.0348,0,Polaris,deadmau5\\r\\n1440,0.643,0.549,185726,0.816,1.38E-06,10,0.137,-5.044,0,0.233,109.774,4,0.523,0,Midnight Sun,Dirtcaps\\r\\n1441,0.00145,0.715,183752,0.964,0.468,0,0.174,-4.71,0,0.0651,128.059,4,0.307,0,One Life Short,Geoxor\\r\\n1442,0.0771,0.466,224212,0.849,2.89E-06,9,0.104,-3.85,0,0.0633,183.76,4,0.353,0,On Our Own (feat. Natalie Major),Showtek\\r\\n1443,0.000679,0.503,249655,0.989,0.542,6,0.548,-0.787,1,0.065,174.012,4,0.615,0,The Wall,Matrix & Futurebound\\r\\n1444,0.00518,0.718,148801,0.944,0.477,1,0.114,-5.041,1,0.0386,125.004,4,0.328,0,All I Know,EDX\\r\\n1445,0.0987,0.443,210884,0.727,9.35E-06,0,0.118,-5.171,0,0.0984,74.827,4,0.423,0,Freesol (feat. Skyler Stonestreet),Seven Lions\\r\\n1446,0.00576,0.396,265543,0.821,0.000424,8,0.116,-3.826,1,0.104,171.927,4,0.122,0,Mantra - Mat Zo Remix,Noisia\\r\\n1447,0.044,0.597,192041,0.832,2.96E-05,11,0.0864,-5.48,0,0.147,162.03,4,0.479,0,Good Life,Kiso\\r\\n1448,0.291,0.675,166286,0.929,0.00724,9,0.397,-2.578,1,0.0478,140.006,4,0.428,0,Twinbow,Slushii\\r\\n1449,0.0256,0.559,210968,0.854,2.61E-06,11,0.294,-3.923,0,0.036,156.008,4,0.474,0,Limitless (feat. Sophie Rose),Sam F\\r\\n1450,0.0235,0.714,176250,0.851,0.00697,6,0.1,-3.387,0,0.121,128.004,4,0.692,0,Move On Me,Tom & Jame\\r\\n1451,0.325,0.531,195252,0.769,0,10,0.305,-2.881,0,0.063,77.351,4,0.454,0,Wildcard,Mickey Valen\\r\\n1452,0.149,0.738,190476,0.646,0.00157,8,0.162,-5.384,1,0.0611,125.923,4,0.401,0,Find You,Wahlstedt\\r\\n1453,0.0214,0.587,198426,0.772,0.698,4,0.447,-4.439,0,0.0375,127.978,4,0.201,0,Legacy,Dimitri Vangelis & Wyman\\r\\n1454,0.316,0.519,182720,0.829,0,5,0.0759,-5.121,0,0.0901,123.659,4,0.629,0,Show You Love,Kato\\r\\n1455,0.139,0.718,188160,0.89,0.00103,2,0.341,-3.931,1,0.144,124.943,4,0.304,0,Make U Love Me,Tujamo\\r\\n1456,0.474,0.871,184762,0.893,0.852,5,0.0891,-3.774,1,0.0403,126.016,4,0.639,0,Bassline Riddim,Vato Gonzalez\\r\\n1457,0.108,0.641,302506,0.676,0,9,0.152,-4.461,1,0.0385,119.108,4,0.174,0,Light - GOSLO Remix,San Holo\\r\\n1458,0.265,0.677,185613,0.778,0,6,0.247,-5.19,0,0.0291,97.97,4,0.335,0,Walk Away,LVNDSCAPE\\r\\n1459,0.158,0.633,155963,0.964,0.0159,2,0.204,-3.573,1,0.0298,124.022,4,0.111,0,Touch The Sky,Cedric Gervais\\r\\n1460,0.0144,0.529,179200,0.739,0.000255,9,0.39,-5.356,0,0.0543,149.915,4,0.403,0,\"Afraid, Unafraid\",SLUMBERJACK\\r\\n1461,0.282,0.738,202286,0.818,0.000543,2,0.101,-3.652,0,0.0692,139.998,4,0.53,0,Make You Mine,Aire Atlantica\\r\\n1462,0.0238,0.303,199405,0.879,3.84E-05,8,0.431,-4.748,1,0.0758,80.329,4,0.564,0,Riot Call (feat. Nevve),QUIX\\r\\n1463,0.128,0.617,185089,0.524,0.00438,5,0.362,-8.885,0,0.103,142.046,4,0.225,0,Modern Flame (feat. Yuna),Emmit Fenn\\r\\n1464,0.056,0.164,206897,0.878,0.0617,6,0.205,-4.953,0,0.11,171.908,4,0.196,0,Right Here,Keys N Krates\\r\\n1465,0.00129,0.823,207293,0.815,0.0494,11,0.599,-3.947,1,0.134,125.989,4,0.473,0,Chicken Soup,Skrillex\\r\\n1466,0.0165,0.597,209664,0.952,0.145,9,0.305,-3.586,0,0.0415,127.907,4,0.206,0,No Sleep,Bougenvilla\\r\\n1467,0.0705,0.71,166290,0.884,0,1,0.0765,-1.258,1,0.347,149.995,4,0.579,0,Help,Borgore\\r\\n1468,0.00931,0.715,198750,0.989,0.109,2,0.0475,-1.723,1,0.194,128.054,4,0.679,0,Waist Time,Diplo\\r\\n1469,0.0126,0.604,200625,0.796,0,1,0.106,-2.416,0,0.0597,127.991,4,0.209,0,Scared To Be Lonely (Brooks Remix),Martin Garrix\\r\\n1470,0.00173,0.548,226172,0.811,3.56E-05,11,0.323,-3.985,1,0.0475,155.08,4,0.411,0,Fuck It All Up (feat. JVZEL),DOLF\\r\\n1471,0.0509,0.546,174031,0.737,1.68E-05,5,0.114,-3.794,1,0.054,97.9,4,0.188,0,After All,Khrebto\\r\\n1472,0.125,0.72,230853,0.746,0.000476,11,0.0929,-5.567,0,0.0985,124.045,4,0.508,0,Something Just Like This - Don Diablo Remix,The Chainsmokers\\r\\n1473,0.000817,0.68,192200,0.941,0.621,0,0.0852,-8.093,1,0.0532,124.035,4,0.338,0,The Jam,Kideko\\r\\n1474,0.0143,0.626,219174,0.748,0,1,0.123,-5.899,1,0.0345,121.067,4,0.217,0,Get What You Give,Felix Cartal\\r\\n1475,0.0107,0.723,211890,0.784,0.772,2,0.0791,-5.547,1,0.0334,128.027,4,0.382,0,Joyride,Bassjackers\\r\\n1476,0.131,0.522,210816,0.86,0.0209,10,0.122,-3.773,0,0.145,128.019,4,0.263,0,Open,Yellow Claw\\r\\n1477,0.0533,0.599,288877,0.667,0,7,0.134,-4.267,1,0.0367,80.984,4,0.811,0,I\\'m the One,DJ Khaled\\r\\n1478,0.0521,0.719,194320,0.657,0,11,0.0872,-4.588,0,0.0494,122.02,4,0.694,0,There\\'s Nothing Holdin\\' Me Back - NOTD Remix,Shawn Mendes\\r\\n1479,0.00461,0.615,201387,0.638,0.00979,1,0.382,-5.341,1,0.13,106.002,4,0.41,0,Bon App\\xc3\\xa9tit - MUNA Remix,Katy Perry\\r\\n1480,0.00647,0.695,182693,0.818,4.87E-06,5,0.0219,-5.379,0,0.0334,119.965,4,0.923,0,Hard Times,Paramore\\r\\n1481,0.00064,0.375,176387,0.93,0,2,0.318,-2.631,1,0.0561,147.124,4,0.5,0,Kiwi,Harry Styles\\r\\n1482,0.166,0.766,181000,0.771,2.51E-06,8,0.105,-4.358,1,0.0483,113.946,4,0.655,0,Issues - Alan Walker Remix,Julia Michaels\\r\\n1483,0.0105,0.615,224773,0.564,0,9,0.148,-6.384,1,0.0291,103.006,4,0.443,0,Young,The Chainsmokers\\r\\n1484,0.0121,0.692,195889,0.896,6.59E-05,1,0.199,-4.017,1,0.0502,134.056,4,0.809,0,That\\'s What I Like - Alan Walker Remix,Bruno Mars\\r\\n1485,0.0771,0.709,225253,0.782,4.71E-06,7,0.302,-3.526,0,0.0469,102.032,4,0.706,0,No More Sad Songs (feat. Machine Gun Kelly),Little Mix\\r\\n1486,0.000569,0.624,189613,0.673,1.54E-06,4,0.104,-4.017,0,0.0268,121.986,4,0.458,0,Carolina,Harry Styles\\r\\n1487,0.101,0.867,191240,0.487,0,5,0.148,-5.872,1,0.0777,101.959,4,0.777,0,High Without Your Love,Loote\\r\\n1488,0.217,0.62,248156,0.713,3.30E-06,2,0.222,-4.753,1,0.0342,137.957,4,0.465,0,Feel Good,Gryffin\\r\\n1489,0.57,0.629,250173,0.572,0,5,0.192,-7.733,0,0.0387,100.015,4,0.38,0,1-800-273-8255,Logic\\r\\n1490,0.00377,0.61,176111,0.747,0,11,0.0662,-4.25,0,0.0531,129.976,4,0.443,0,Middle Of The Night,The Vamps\\r\\n1491,0.0156,0.841,241875,0.639,0.0654,9,0.0545,-6.052,0,0.0688,99.002,4,0.673,0,Tuesday (feat. Danelle Sandoval),Burak Yeter\\r\\n1492,0.186,0.509,183229,0.712,0,7,0.102,-5.747,1,0.111,99.831,4,0.648,0,Hunter,Galantis\\r\\n1493,0.00466,0.722,182728,0.614,0,11,0.106,-7.549,0,0.115,154.903,4,0.504,0,XO TOUR Llif3,Lil Uzi Vert\\r\\n1494,0.0506,0.776,202480,0.741,0,7,0.0701,-5.804,1,0.041,120.079,4,0.845,0,Kissing Strangers,DNCE\\r\\n1495,0.127,0.698,200105,0.882,0,4,0.15,-3.078,0,0.0863,106.083,4,0.462,0,Ciao Adios,Anne-Marie\\r\\n1496,0.267,0.732,172751,0.629,0,0,0.118,-4.64,1,0.286,91.7,4,0.685,0,Overwhelming,Jon Bellion\\r\\n1497,0.242,0.592,210947,0.763,0,1,0.0715,-3.334,1,0.366,180.084,4,0.647,0,Go For Broke (feat. James Arthur),Machine Gun Kelly\\r\\n1498,0.393,0.602,200187,0.707,0,11,0.165,-4.097,1,0.302,75.09,4,0.539,0,Human,Rag\\'n\\'Bone Man\\r\\n1499,0.0219,0.568,202439,0.69,2.30E-05,1,0.0815,-5.034,0,0.0431,130.12,4,0.044,0,Eyes Closed,Halsey\\r\\n1500,0.0913,0.769,203992,0.631,0,1,0.114,-6.769,1,0.0568,100.968,4,0.501,0,History,Olivia Holt\\r\\n1501,0.0261,0.555,174467,0.645,0,4,0.079,-5.799,0,0.0637,140.911,4,0.195,0,Calm Down,Skip Marley\\r\\n1502,0.0909,0.583,199756,0.729,2.02E-05,6,0.367,-4.525,1,0.0314,144.994,4,0.313,0,Be There,Krewella\\r\\n1503,0.0182,0.836,242174,0.71,2.23E-05,5,0.137,-5.185,0,0.0595,119.952,4,0.531,0,Swish Swish,Katy Perry\\r\\n1504,0.0018,0.598,205746,0.748,0.000196,8,0.116,-6.239,1,0.0706,130.057,4,0.321,0,Confident,Demi Lovato\\r\\n1505,0.00477,0.585,214740,0.614,0.000155,10,0.0762,-5.594,0,0.037,114.059,4,0.273,0,Cool for the Summer,Demi Lovato\\r\\n1506,0.214,0.626,204188,0.695,0,7,0.224,-6.528,0,0.0594,154.023,4,0.586,0,Old Ways,Demi Lovato\\r\\n1507,0.0418,0.505,221050,0.705,0,5,0.0815,-6.097,1,0.0395,126.021,4,0.309,0,For You,Demi Lovato\\r\\n1508,0.48,0.414,191308,0.469,0,8,0.0974,-7.583,1,0.0485,139.401,3,0.322,0,Stone Cold,Demi Lovato\\r\\n1509,0.0234,0.556,244014,0.802,0,5,0.398,-5.089,0,0.0694,176.003,4,0.263,0,Kingdom Come,Demi Lovato\\r\\n1510,0.242,0.587,192918,0.659,0,7,0.0874,-6.406,0,0.203,150.026,4,0.411,0,Waitin for You,Demi Lovato\\r\\n1511,0.559,0.628,199140,0.694,0,5,0.0556,-3.909,0,0.0378,130.057,4,0.447,0,Wildfire,Demi Lovato\\r\\n1512,0.92,0.442,408600,0.124,0.605,3,0.21,-22.227,1,0.0388,65.003,4,0.205,0,I\\'ll Let You Know,David Hazeltine\\r\\n1513,0.89,0.475,206360,0.0588,0.0238,5,0.129,-17.464,0,0.0418,115.642,4,0.229,0,I\\'ll Wait And Pray,John Coltrane\\r\\n1514,0.915,0.487,388347,0.135,0.00353,2,0.686,-11.211,0,0.0434,105.854,5,0.23,0,The Shadow of Your Smile,Scott Hamilton\\r\\n1515,0.922,0.535,297653,0.107,0.649,10,0.105,-18.989,0,0.0323,102.186,4,0.159,0,\"Vid Fr\\xc3\\xb6s\\xc3\\xb6 kyrka (At Fr\\xc3\\xb6s\\xc3\\xb6 Church) - From Fr\\xc3\\xb6s\\xc3\\xb6blomster (Fr\\xc3\\xb6s\\xc3\\xb6 Flowers) (arr. J. Ekberg, P.V. Johansson and L. Simonsson)\",Trio X of Sweden\\r\\n1516,0.941,0.349,176297,0.227,0.819,6,0.109,-12.298,1,0.031,100.449,4,0.15,0,Jackie Gets Out,Terence Blanchard\\r\\n1517,0.935,0.428,285601,0.187,0.853,10,0.103,-21.001,1,0.0375,108.962,4,0.171,0,Romance / Hommage \\xc3\\xa0 Milhaud,Enrico Pieranunzi\\r\\n1518,0.859,0.456,243013,0.257,0.475,10,0.111,-16.877,0,0.0298,104.311,4,0.171,0,Leave Me Here,Triosence\\r\\n1519,0.871,0.421,265320,0.0867,0.429,0,0.115,-18.732,1,0.037,95.438,4,0.0718,0,Where We Used To Live,Esbj\\xc3\\xb6rn Svensson Trio\\r\\n1520,0.95,0.34,305427,0.237,0.927,8,0.14,-14.901,1,0.0302,162.892,4,0.0728,0,Mommy\\'s Shawl,Yelena Eckemoff\\r\\n1521,0.973,0.478,388040,0.0757,0.939,5,0.108,-20.847,1,0.0505,76.952,4,0.235,0,For Wee Folks,Joey Alexander\\r\\n1522,0.854,0.46,278071,0.141,0.885,9,0.11,-14.994,1,0.0314,168.807,3,0.16,0,All I See is Us,Sassy Players\\r\\n1523,0.957,0.356,342373,0.0937,0.096,8,0.209,-16.64,0,0.0353,86.669,3,0.259,0,Goodbye Pork Pie Hat,Charles Mingus\\r\\n1524,0.974,0.385,182653,0.0562,0.532,11,0.107,-14.812,1,0.0415,116.666,4,0.186,0,Ballad for MC,Grace Kelly\\r\\n1525,0.958,0.4,364627,0.144,0.878,10,0.119,-15.52,1,0.037,120.329,4,0.154,0,Soul in Twilight,John Moulder\\r\\n1526,0.967,0.296,340507,0.0709,0.804,3,0.105,-14.832,0,0.0312,95.028,4,0.066,0,So Lovely,Ben Wolfe\\r\\n1527,0.914,0.425,176272,0.136,0.921,11,0.127,-17.382,1,0.0293,168.527,3,0.227,0,The Sweetest Nighlife,Ellie & The Bunch\\r\\n1528,0.988,0.479,440133,0.146,0.692,7,0.103,-14.319,1,0.0351,111.643,3,0.0728,0,I Got It Bad,Enrico Pieranunzi\\r\\n1529,0.886,0.466,255107,0.0753,0.927,0,0.0984,-18.864,1,0.0297,87.791,4,0.0877,0,Gramercy Sunset,The Hot Sardines\\r\\n1530,0.986,0.371,66762,0.0295,0.937,10,0.125,-22.038,0,0.0335,82.313,3,0.276,0,I\\'m a Fool to Want You,Passport Quartet\\r\\n1531,0.94,0.317,234373,0.0302,0.298,1,0.0792,-30.447,1,0.0342,47.859,4,0.155,0,\"I Was So Young, and You Were So Beautiful\",Bill Charlap\\r\\n1532,0.946,0.505,294940,0.159,0.0127,7,0.218,-11.235,0,0.0336,59.385,4,0.205,0,Journey Into Melody - 2007 Digital Remaster,Stanley Turrentine\\r\\n1533,0.929,0.55,484627,0.249,0.828,5,0.258,-15.919,0,0.0325,121.37,4,0.296,0,I\\'m Glad There Is You,Bill Mobley\\r\\n1534,0.623,0.47,394920,0.156,0.187,2,0.104,-17.036,1,0.0399,118.176,4,0.0591,0,Blue Ballad,Phil Woods\\r\\n1535,0.992,0.447,1004627,0.163,0.776,8,0.654,-14.835,1,0.0707,74.933,3,0.19,0,The Nearness of You,Joshua Redman\\r\\n1536,0.921,0.445,391707,0.223,0.884,3,0.131,-17.402,1,0.0374,110.821,4,0.22,0,It Never Entered my Mind,Mulgrew Miller\\r\\n1537,0.81,0.421,337733,0.0161,0.0021,2,0.0978,-25.358,0,0.0374,110.926,4,0.155,0,Blue in Green,Miles Davis\\r\\n1538,0.99,0.326,168667,0.0575,0.887,4,0.281,-16.5,1,0.0393,127.397,5,0.311,0,Where or When,Wynton Marsalis\\r\\n1539,0.87,0.446,492080,0.242,0.497,8,0.105,-14.152,1,0.0368,126.681,4,0.176,0,Count Your Blessings,Seamus Blake\\r\\n1540,0.823,0.526,322133,0.17,0.777,9,0.114,-13.089,0,0.0411,117.414,4,0.173,0,Good Morning Heartache,Scott Hamilton\\r\\n1541,0.965,0.445,396520,0.0978,0.915,3,0.121,-26.924,1,0.0397,117.283,4,0.172,0,Two Sleepy People,Marcus Gilmore\\r\\n1542,0.924,0.533,221733,0.148,0.932,0,0.112,-18.275,1,0.0329,63.637,4,0.103,0,Can\\'t Help Loving,Beegie Adair\\r\\n1543,0.761,0.383,447280,0.131,0.194,7,0.0973,-17.764,1,0.033,98.606,4,0.0999,0,The Nearness Of You,Bill Charlap\\r\\n1544,0.846,0.569,282320,0.117,0.852,5,0.0978,-22.741,1,0.0446,60.483,4,0.102,0,When Sunny Gets Blue,McCoy Tyner\\r\\n1545,0.961,0.484,389893,0.0291,0.474,10,0.115,-23.363,1,0.0459,98.434,4,0.38,0,Blue and Sentimental,Julian Dash\\r\\n1546,0.986,0.388,232046,0.0354,0.956,7,0.178,-25.766,1,0.0421,143.514,4,0.192,0,Almas vaggvisa,Jan Lundgren Trio\\r\\n1547,0.857,0.364,317946,0.114,0.635,1,0.0839,-16.552,1,0.0333,117.715,3,0.0581,0,Before It\\'s Time To Say Goodbye,Kenny Garrett\\r\\n1548,0.967,0.539,294667,0.0678,0.168,0,0.114,-18.039,1,0.0468,124.105,4,0.257,0,Autumn Nocturne,Lou Donaldson\\r\\n1549,0.971,0.45,289693,0.0437,0.88,10,0.0948,-29.46,1,0.0374,63.938,4,0.0906,0,Eleanor,Hank Jones\\r\\n1550,0.886,0.386,348533,0.125,0.878,9,0.189,-19.892,0,0.0572,78.553,3,0.132,0,Angel Eyes,\"Tommy Flanagan, Ron Carter & Tony Williams\"\\r\\n1551,0.868,0.42,336373,0.105,0.587,6,0.0957,-20.502,1,0.035,99.873,4,0.108,0,Good Morning.Goodbye,Dan Cray Trio\\r\\n1552,0.971,0.428,294587,0.212,0.73,0,0.169,-15.442,0,0.032,98.096,3,0.312,0,Doubts 2,Ibrahim Maalouf\\r\\n1553,0.96,0.32,325400,0.156,0.904,2,0.0775,-12.258,1,0.033,159.618,3,0.0623,0,The Last Goodbye,Nicholas Payton\\r\\n1554,0.96,0.411,246067,0.0416,0.925,1,0.064,-23.23,1,0.0414,97.96,4,0.0746,0,Where Do You Start,Brad Mehldau Trio\\r\\n1555,0.748,0.52,341667,0.0748,0.633,8,0.102,-24.477,1,0.0497,107.327,4,0.134,0,The Man I Love,Marcus Roberts\\r\\n1556,0.905,0.42,257693,0.0802,0.857,7,0.135,-21.795,1,0.04,122.041,3,0.0513,0,Gary\\'s Theme - Remastered,Bill Evans\\r\\n1557,0.912,0.399,325587,0.307,0.623,1,0.115,-14.38,1,0.0347,116.308,4,0.0621,0,Trust,Roy Hargrove\\r\\n1558,0.937,0.428,240093,0.3,0.658,0,0.168,-8.885,1,0.034,122.667,5,0.221,0,The Folks Who Live on the Hill,Joshua Redman\\r\\n1559,0.717,0.423,335333,0.158,0.0075,0,0.0975,-15.59,0,0.0346,106.974,4,0.19,0,All The Way,Bob Berg\\r\\n1560,0.93,0.336,314493,0.328,0.732,7,0.111,-15.005,0,0.0386,184.007,3,0.198,0,Emperor Jones - Instrumental,Joe Lovano\\r\\n1561,0.903,0.257,376573,0.216,0.134,8,0.0979,-16.266,0,0.0365,65.125,3,0.19,0,Isadora,Christian Scott\\r\\n1562,0.901,0.368,428973,0.14,0.874,0,0.0688,-15.005,0,0.045,61.758,4,0.172,0,I Remember Clifford,Lee Morgan\\r\\n1563,0.195,0.323,244867,0.118,0.694,5,0.241,-22.751,0,0.0449,79.554,4,0.0706,0,Sous le Ciel de Paris,Jacky Terrasson\\r\\n1564,0.978,0.575,258040,0.0935,0.452,3,0.109,-15.906,1,0.0858,65.23,4,0.289,0,You Go To My Head,Art Pepper\\r\\n1565,0.91,0.421,763467,0.0967,0.415,7,0.218,-16.441,0,0.0509,77.401,4,0.183,0,Gloomy Sunday,Branford Marsalis\\r\\n1566,0.936,0.358,212493,0.16,0.34,8,0.0896,-12.658,0,0.0352,179.955,3,0.246,0,I Didn\\'t Know About You,Johnny Hodges\\r\\n1567,0.918,0.331,507533,0.0861,0.902,5,0.106,-21.226,1,0.0354,107.436,4,0.152,0,I Have Dreamed,Christian McBride\\r\\n1568,0.971,0.633,149072,0.12,0.871,5,0.121,-20.066,0,0.0428,115.51,3,0.473,0,Fools Rush In,Teddy Wilson\\r\\n1569,0.899,0.461,477173,0.0389,0.015,0,0.0927,-20.482,1,0.0399,109.374,4,0.121,0,Dreamsville,David Halliday\\r\\n1570,0.827,0.458,482187,0.217,0.805,5,0.194,-16.582,1,0.0328,107.506,4,0.125,0,Old Folks,Xavier Davis\\r\\n1571,0.972,0.448,308893,0.0532,0.876,5,0.0863,-27.35,1,0.0454,99.757,4,0.189,0,I Got It Bad And That Ain\\'t Good,Oscar Peterson Trio\\r\\n1572,0.97,0.509,252947,0.0461,0.911,1,0.134,-10.693,1,0.0427,132.709,4,0.368,0,My Romance,Gene Ammons\\r\\n1573,0.949,0.386,567920,0.148,0.792,0,0.0665,-18.921,0,0.0367,94.88,4,0.128,0,The Peacocks,Anthony Wonsey Trio\\r\\n1574,0.973,0.407,418000,0.106,0.0762,1,0.123,-19.078,1,0.0375,94.231,4,0.23,0,A Nightingale Sang In Berkeley Square,Stan Getz\\r\\n1575,0.967,0.384,206040,0.0544,0.964,0,0.115,-19.791,1,0.0485,181.262,3,0.301,0,A Hundred Dreams from Now,Ray Bryant\\r\\n1576,0.978,0.514,323200,0.0814,0.00873,0,0.219,-17.149,0,0.0361,64.97,3,0.235,0,My Little Brown Book,Duke Ellington\\r\\n1577,0.577,0.848,261933,0.465,0.0543,1,0.101,-9.029,0,0.0524,94.02,4,0.622,0,Moving On and Getting Over,John Mayer\\r\\n1578,0.144,0.736,185588,0.616,2.29E-06,4,0.268,-8.016,1,0.0345,101.966,4,0.89,0,Safe,Bay Ledges\\r\\n1579,0.652,0.865,246610,0.548,0.0161,10,0.113,-7.379,0,0.192,109.989,4,0.879,0,Second Nature,Stalking Gia\\r\\n1580,0.311,0.677,236786,0.738,0.000144,6,0.138,-6.287,1,0.0467,98.963,4,0.561,0,The Best Crew,Tep No\\r\\n1581,0.273,0.784,266455,0.587,0.0107,9,0.356,-6.361,1,0.0422,107.999,4,0.85,0,Hideout,Parcels\\r\\n1582,0.83,0.534,238265,0.582,0,2,0.125,-6.22,1,0.0424,186.346,4,0.289,0,No Le Digas Que Hacer,Karina Vismara\\r\\n1583,0.826,0.876,51547,0.301,0,0,0.419,-7.866,1,0.0436,69.009,4,0.932,0,Peas Pudding Hot,The Kids Band\\r\\n1584,0.791,0.718,144733,0.315,0,6,0.228,-13.869,1,0.181,96.981,4,0.592,0,Biscuits in the Oven,Raffi\\r\\n1585,0.0071,0.498,106680,0.721,0,4,0.122,-6.695,1,0.0327,93.31,4,0.673,0,Jelly Beans,The Hipwaders\\r\\n1586,0.0336,0.89,129187,0.891,0,2,0.097,-5.542,1,0.0483,119.993,4,0.947,0,My Favorite Snack,Imagination Movers\\r\\n1587,0.649,0.603,100693,0.355,0,0,0.0952,-9.624,1,0.0566,111.405,4,0.441,0,Curse of the Spinach,Trout Fishing in America\\r\\n1588,0.519,0.567,160133,0.436,0,2,0.247,-9.45,1,0.158,97.206,4,0.598,0,Mosquito Burrito,Roger Day\\r\\n1589,0.147,0.554,191947,0.844,7.27E-06,9,0.329,-7.763,1,0.0468,159.119,4,0.935,0,C\\'mon Let\\'s Make A Pizza,We Kids Rock\\r\\n1590,0.461,0.873,127227,0.511,1.22E-06,2,0.0655,-12.303,1,0.0368,127.93,4,0.972,0,Jelly On A Plate,The Kids Band\\r\\n1591,0.741,0.941,47547,0.256,1.06E-05,1,0.0841,-11.478,1,0.108,110.082,4,0.545,0,Little Green Apple,Tumble Tots\\r\\n1592,0.809,0.802,156373,0.288,0,7,0.0745,-11.372,1,0.129,119.882,4,0.722,0,Always Chew Your Food,Trout Fishing in America\\r\\n1593,0.278,0.693,87705,0.578,1.52E-06,0,0.121,-11.129,1,0.18,78.158,4,0.851,0,\"Icy, Creamy Ice Cream\",Barney\\r\\n1594,0.995,0.471,82293,0.0148,0.934,3,0.181,-33.097,1,0.0558,102.271,3,0.183,0,\"Lyric Pieces, Book I Op. 12: I. Arietta\",Edvard Grieg\\r\\n1595,0.915,0.277,295747,0.0156,0.00654,7,0.148,-24.801,1,0.0482,117.119,3,0.0855,0,\"String Quartet No. 4 in C Major, D. 46: II. Andante con moto\",Franz Schubert\\r\\n1596,0.995,0.333,221173,0.0288,0.819,1,0.073,-31.367,1,0.0423,100.189,3,0.0857,0,\"8 Fantasiest\\xc3\\xbccke, Op.12 : 1. Des Abends\",Robert Schumann\\r\\n1597,0.971,0.338,455307,0.0539,0.328,9,0.121,-21.863,0,0.0414,103.861,4,0.205,0,\"String Quartet No. 5 in C Major, Op. 29, \"\"Serenade\"\": II. Ballata: Allegretto scherzando\",Wilhelm Stenhammar\\r\\n1598,0.953,0.156,458000,0.023,0.338,10,0.165,-31.082,1,0.0445,140.715,4,0.0588,0,\"Piano Quartet in E flat, Op.47: 3. Andante cantabile\",Robert Schumann\\r\\n1599,0.993,0.294,621280,0.142,0.912,7,0.0673,-20.374,1,0.0388,94.296,4,0.199,0,\"Piano Sonata No. 18 in G Major, Op. 78, D. 894: IV. Allegretto\",Franz Schubert\\r\\n1600,0.913,0.152,275653,0.0626,0.00204,5,0.142,-20.947,1,0.0395,137.174,5,0.0484,0,\"Trio Sonata in G Major, Wq. 144: I. Adagio\",Carl Philipp Emanuel Bach\\r\\n1601,0.983,0.236,260000,0.0632,0.452,10,0.101,-21.189,0,0.0439,133.959,5,0.0559,0,\"Trio No. 2 en Mi Mineur, Op. 92: III. Andante con moto\",Camille Saint-Sa\\xc3\\xabns\\r\\n1602,0.951,0.173,649415,0.0619,0.526,5,0.132,-20.788,1,0.0466,72.695,4,0.0886,0,\"String Quintet in C Major, Op. 29: II. Adagio molto espressivo\",Ludwig van Beethoven\\r\\n1603,0.991,0.295,784013,0.0918,0.884,0,0.114,-22.769,0,0.0385,98.939,4,0.119,0,Viola Sonata in C Minor: III. Andante con variazioni,Felix Mendelssohn\\r\\n1604,0.0841,0.757,175238,0.867,0.0992,0,0.125,-2.529,0,0.0362,125.962,4,0.518,0,Magic City,Wahlstedt\\r\\n1605,0.0319,0.514,184762,0.862,0.171,0,0.119,-6.329,0,0.156,126.112,4,0.487,0,Livin\\' 4 Ya,MOTi\\r\\n1606,0.0682,0.412,257846,0.83,0.00739,3,0.108,-4.976,0,0.0651,127.894,4,0.239,0,Last Chance,Kaskade\\r\\n1607,0.00623,0.654,236308,0.728,0.404,6,0.688,-8.477,0,0.0577,130.006,4,0.281,0,Nite Time - Ruby & Tony Radio Edit,George Acosta\\r\\n1608,0.043,0.638,196132,0.828,0,7,0.0903,-4.53,1,0.0393,122.037,4,0.102,0,Satellites,DubVision\\r\\n1609,0.0316,0.591,185171,0.881,0.00203,6,0.303,-4.073,0,0.0614,128.076,4,0.16,0,Can\\'t Take It,Breathe Carolina\\r\\n1610,0.059,0.624,187838,0.732,0.0142,4,0.254,-6.372,0,0.0273,132.025,4,0.292,0,All Aloud,Adrian Lux\\r\\n1611,0.282,0.369,187549,0.801,0,1,0.266,-5.302,1,0.384,128.09,4,0.311,0,Close,IZECOLD\\r\\n1612,0.0058,0.704,377153,0.962,0.128,7,0.22,-3.095,1,0.115,127.997,4,0.0727,0,Cascade - Original Mix,Tommy Trash\\r\\n1613,0.141,0.48,179893,0.878,0,6,0.0587,-6.59,0,0.0743,136.006,4,0.19,0,Waiting,Dash Berlin\\r\\n1614,0.0086,0.707,220640,0.471,0.00839,9,0.179,-7.667,1,0.0354,125.014,4,0.354,0,Everytime We Touch,David Guetta - S\\xc3\\xa9bastian Ingrosso - Joachim Garraud - Chris Willis - Steve Angello\\r\\n1615,0.00732,0.623,192000,0.975,0.16,3,0.0614,-2.632,0,0.109,125.94,4,0.247,0,Milky Way,Madison Mars\\r\\n1616,0.00837,0.184,221286,0.871,0.167,8,0.15,-3.245,0,0.0661,127.972,4,0.213,0,You,Galantis\\r\\n1617,0.024,0.691,381732,0.951,0.0412,0,0.0316,-4.989,1,0.0879,126.989,4,0.617,0,La Tromba Risin\\' (feat. Tasita D\\'Mour),Chris Lake\\r\\n1618,0.00259,0.66,254879,0.652,0,8,0.0673,-4.747,1,0.0582,127.977,4,0.167,0,Crash 2.0 (Adventure Club vs. DallasK),Adventure Club\\r\\n1619,0.00338,0.569,190155,0.896,0.958,1,0.0633,-3.114,1,0.0489,128.083,4,0.113,0,Raven,John Dahlb\\xc3\\xa4ck\\r\\n1620,0.00689,0.798,194000,0.809,0.0765,1,0.0998,-5.898,0,0.063,120.044,4,0.766,0,Icarus - Black Caviar Remix,R3hab\\r\\n1621,0.475,0.539,209531,0.936,0.104,10,0.106,-3.803,1,0.112,128.015,4,0.211,0,Wasted Love (feat. Dougy),Steve Angello\\r\\n1622,0.00695,0.583,233239,0.748,0.0241,6,0.22,-4.798,1,0.0292,142.029,4,0.234,0,Summer,Marshmello\\r\\n1623,0.0362,0.56,162383,0.916,0.000963,7,0.102,-3.328,0,0.0661,144.933,4,0.577,0,Catch Me (feat. Naaz),Flux Pavilion\\r\\n1624,0.0144,0.507,213338,0.665,0,0,0.0759,-7.598,1,0.0474,126.879,4,0.406,0,Save the World - Radio Mix,Swedish House Mafia\\r\\n1625,0.00164,0.703,346930,0.684,0.000378,8,0.0744,-6.532,1,0.0778,126.027,4,0.222,0,\"Wild One Two - feat. David Guetta, Nicky Romero & Sia\",Jack Back\\r\\n1626,0.00136,0.526,322227,0.861,0.732,2,0.596,-5.871,0,0.0587,128.032,4,0.114,0,Fire In Your New Shoes (feat. Martina of Dragonette) - Sultan & Ned Shepard Electric Daisy Remix,Kaskade\\r\\n1627,0.0124,0.412,205440,0.871,0.000128,1,0.2,-4.893,0,0.0458,125.043,4,0.132,0,Calling (Lose My Mind) - Radio Edit,Sebastian Ingrosso\\r\\n1628,0.0168,0.737,368476,0.614,0.0534,6,0.0682,-6.001,0,0.4,127.987,4,0.394,0,Language,Porter Robinson\\r\\n1629,8.45E-05,0.649,214042,0.706,0.831,8,0.163,-7.209,0,0.031,128.032,4,0.0744,0,Strobe - Radio Edit,deadmau5\\r\\n1630,0.0896,0.49,200992,0.811,0,1,0.0898,-2.524,0,0.044,125.965,4,0.564,0,Seek Bromance (Avicii Vocal Edit) - Avicii Vocal Edit,Tim Berg\\r\\n1631,0.00429,0.502,248447,0.756,0.769,7,0.377,-6.118,0,0.0363,128.125,4,0.0605,0,Poison,Martin Garrix\\r\\n1632,0.241,0.713,208620,0.81,0,0,0.0936,-3.353,0,0.0918,130.006,4,0.667,0,Take Over Control - Radio Edit,Afrojack\\r\\n1633,0.00338,0.575,300013,0.913,0.816,7,0.605,-6.081,1,0.0402,128.014,4,0.208,0,Teenage Crime - Axwell & Henrik B Remode,Adrian Lux\\r\\n1634,0.0375,0.747,166138,0.877,0.000833,9,0.233,-3.782,0,0.0664,107.991,4,0.763,0,Light It Up (feat. Nyla & Fuse ODG) [Remix],Major Lazer\\r\\n1635,0.021,0.719,251429,0.81,0.672,8,0.5,-4.769,0,0.0672,126.033,4,0.483,0,Turn Me Up - ViP Mix,MOTi\\r\\n1636,0.0732,0.509,221274,0.729,2.73E-05,1,0.233,-4.773,1,0.0343,127.871,4,0.185,0,Together,Martin Garrix\\r\\n1637,0.0663,0.393,147231,0.94,0.00264,6,0.546,-3.894,0,0.0718,129.958,4,0.293,0,Whatcha Need,W&W\\r\\n1638,0.0534,0.605,199904,0.873,0.837,1,0.314,-5.938,0,0.0344,126.026,4,0.47,0,Levels - Radio Edit,Avicii\\r\\n1639,0.0291,0.589,212627,0.651,3.20E-06,6,0.111,-5.097,1,0.0306,90.011,4,0.161,0,Faded,Alan Walker\\r\\n1640,0.0344,0.561,235873,0.771,0.000151,1,0.0756,-5.533,1,0.036,128.025,4,0.212,0,Move for Me,Kaskade\\r\\n1641,0.09,0.692,183747,0.898,0.941,10,0.478,-5.276,1,0.044,127.993,4,0.331,0,Turn up the Speakers - Radio Edit,Afrojack\\r\\n1642,0.00233,0.672,295035,0.785,0.127,8,0.111,-4.473,1,0.0346,122.999,4,0.352,0,Counting Down The Days - Yotto Edit,Above & Beyond\\r\\n1643,0.00626,0.691,203302,0.721,0.000562,11,0.297,-6.206,1,0.03,117.021,4,0.463,0,Summer Dreams,Michael Brun\\r\\n1644,0.000552,0.841,485293,0.673,0.419,9,0.228,-7.361,0,0.119,127.006,4,0.197,0,Changes - Dirty South Remix,Chris Lake Feat. Laura V\\r\\n1645,0.031,0.51,210013,0.747,0,5,0.233,-4.124,1,0.0651,125.951,4,0.349,0,Heroes (we could be),Alesso\\r\\n1646,0.0583,0.516,174500,0.786,1.77E-06,4,0.662,-5.514,0,0.106,130.069,4,0.182,0,Everything,R3hab\\r\\n1647,0.00346,0.723,176561,0.809,0.00123,7,0.565,-3.081,0,0.0625,98.007,4,0.271,0,Lean On (feat. M\\xc3\\x98 & DJ Snake),Major Lazer\\r\\n1648,0.00354,0.568,196000,0.928,0.0211,10,0.478,-3.556,1,0.045,122.997,4,0.57,0,Starlight - Radio Mix,SOVI\\r\\n1649,0.0028,0.476,226867,0.815,0.00593,4,0.357,-5.073,1,0.0359,127.964,4,0.144,0,City Of Dreams - Radio Edit,Dirty South\\r\\n1650,0.00388,0.605,325714,0.642,0.598,3,0.102,-7.002,1,0.0411,125.967,4,0.157,0,Chords Of Life - Original Mix,Tim Mason\\r\\n1651,0.0856,0.605,235000,0.884,0.000162,7,0.0501,-3.094,0,0.0611,125.989,4,0.364,0,Blackout - Madison Mars Radio Mix,Tritonal\\r\\n1652,0.00273,0.408,247655,0.849,3.04E-05,11,0.139,-5.284,0,0.0646,174.029,4,0.141,0,Freak,Friction\\r\\n1653,0.00158,0.598,383495,0.534,0.124,4,0.319,-5.666,0,0.0272,115.005,4,0.0473,0,Skyscrapers,Daydreamer\\r\\n1654,0.0344,0.529,222075,0.955,4.55E-05,10,0.353,-2.59,0,0.0794,125.988,4,0.102,0,Chemicals - Radio Edit,Ti\\xc3\\xabsto\\r\\n1655,0.00481,0.475,224973,0.838,0,1,0.304,-2.948,0,0.0666,127.921,4,0.236,0,Run Wild - Alternative Edit Mix Cut,Hardwell\\r\\n1656,0.0111,0.668,212323,0.977,0.17,1,0.363,-2.673,1,0.0515,128.06,3,0.561,0,Blackout,Pegboard Nerds\\r\\n1657,0.0178,0.69,230792,0.841,0.79,4,0.137,-5.592,0,0.0868,130.052,4,0.533,0,Rock The House - Radio Edit,Afrojack\\r\\n1658,0.0268,0.624,157452,0.923,0.000228,9,0.0509,-5.449,0,0.0335,124.994,4,0.39,0,Sweet Memories,CID\\r\\n1659,0.0711,0.719,313580,0.737,0.00285,2,0.304,-5.219,1,0.032,127.991,4,0.356,0,Borrowed Lives (feat. NVDES),Pierce Fulton\\r\\n1660,0.0107,0.631,235025,0.893,0.00632,7,0.147,-5.123,1,0.0411,130.015,4,0.558,0,Concrete Angel (Radio Edit) (feat. Christina Novelli),Gareth Emery\\r\\n1661,0.0024,0.54,201290,0.933,0.954,2,0.371,-6.784,1,0.0364,123.988,4,0.23,0,Yebisah,Mark Knight\\r\\n1662,0.306,0.546,191250,0.772,0,5,0.0733,-5.311,0,0.0477,127.942,4,0.255,0,Otherside,Suyano\\r\\n1663,0.00281,0.608,219398,0.878,4.83E-06,0,0.415,-3.631,1,0.0765,128.069,4,0.326,0,Falling Back - Radio Edit,Cosmic Gate\\r\\n1664,0.0294,0.591,228347,0.649,0,3,0.133,-6.72,1,0.0417,90.002,4,0.482,0,Fireflies,Owl City\\r\\n1665,0.0314,0.559,205933,0.882,1.71E-05,3,0.605,-4.281,1,0.157,126.064,4,0.644,0,Good Time,Owl City\\r\\n1666,0.0243,0.631,218093,0.838,0,11,0.0512,-6.817,0,0.0818,127.938,4,0.392,0,When Can I See You Again?,Owl City\\r\\n1667,0.0002,0.55,213026,0.747,1.44E-06,2,0.113,-6.897,1,0.0334,128.014,4,0.185,0,Verge,Owl City\\r\\n1668,0.0082,0.581,231707,0.526,0.000369,11,0.113,-7.584,1,0.0265,166.151,4,0.551,0,Vanilla Twilight,Owl City\\r\\n1669,0.0359,0.761,219120,0.639,0,5,0.0945,-7.577,0,0.0539,164.088,4,0.933,0,You Make Me Wanna...,Usher\\r\\n1670,0.157,0.715,277320,0.721,1.75E-06,8,0.309,-5.622,0,0.0541,86.26,4,0.814,0,Can\\'t You See,Total\\r\\n1671,0.27,0.67,254147,0.348,0,0,0.104,-12.229,1,0.138,113.306,5,0.81,0,Lost Without U,Robin Thicke\\r\\n1672,0.0757,0.572,297893,0.853,0,1,0.0798,-3.203,1,0.217,171.297,4,0.0995,0,\\'Till I Collapse,Eminem\\r\\n1673,0.114,0.858,290836,0.697,0,2,0.224,-5.361,1,0.23,98.012,4,0.365,0,$ave Dat Money (feat. Fetty Wap & Rich Homie Quan),Lil Dicky\\r\\n1674,0.000175,0.537,127427,0.624,2.20E-06,11,0.116,-8.794,1,0.325,102.315,4,0.4,0,Calm Down,G-Eazy\\r\\n1675,0.0583,0.688,230493,0.835,2.87E-06,8,0.0795,-4.162,1,0.0911,84.858,4,0.879,0,Remember The Name (feat. Styles Of Beyond),Fort Minor\\r\\n1676,0.00436,0.578,233182,0.909,0.00128,7,0.707,-3.672,1,0.105,87.983,4,0.518,0,Mind Tricks,Bassnectar\\r\\n1677,0.00107,0.507,215291,0.918,8.70E-06,2,0.311,-4.684,1,0.0701,92.006,4,0.275,0,Help,Papa Roach\\r\\n1678,0.0765,0.54,231107,0.661,0,3,0.125,-5.534,0,0.0381,90.012,4,0.509,0,Follow You,Bring Me The Horizon\\r\\n1679,0.00278,0.231,200920,0.791,0.00055,4,0.396,-4.297,0,0.0446,87.337,4,0.404,0,Snow Cats,AFI\\r\\n1680,4.82E-05,0.409,200677,0.992,2.03E-06,3,0.1,-2.803,0,0.108,149.859,4,0.339,0,Paranoia,A Day To Remember\\r\\n1681,0.000285,0.458,211430,0.99,0.000893,8,0.454,-3.717,1,0.183,166.904,4,0.462,0,Hated,Beartooth\\r\\n1682,4.24E-05,0.396,257120,0.912,0.631,7,0.124,-4.026,0,0.0856,125.923,4,0.146,0,Shock Me,Baroness\\r\\n1683,1.85E-05,0.55,238653,0.917,0.214,7,0.0333,-4.575,1,0.0378,109.552,3,0.247,0,The Devil\\'s Bleeding Crown,Volbeat\\r\\n1684,6.04E-05,0.505,219763,0.985,1.02E-05,5,0.351,-4.401,1,0.119,119.993,4,0.267,0,Go Down in History,Four Year Strong\\r\\n1685,2.79E-05,0.351,165047,0.915,0.0725,1,0.0972,-4.53,0,0.0881,184.815,4,0.457,0,Serpents,Neck Deep\\r\\n1686,0.00267,0.442,239451,0.892,7.92E-06,9,0.0758,-6.431,0,0.086,151.914,4,0.258,0,Black Honey,Thrice\\r\\n1687,0.000353,0.42,210240,0.929,0.000747,7,0.122,-3.899,0,0.121,127.204,4,0.318,0,Chop Suey!,System Of A Down\\r\\n1688,0.0245,0.623,228467,0.886,0,1,0.247,-3.044,1,0.0404,92.021,4,0.691,0,Something To Believe In,Young the Giant\\r\\n1689,0.00643,0.585,216760,0.757,0,4,0.741,-5.424,1,0.0302,109.781,4,0.615,0,She Hates Me,Puddle Of Mudd\\r\\n1690,0.0154,0.559,213093,0.895,0,1,0.175,-4.476,0,0.0832,183.825,4,0.563,0,Don\\'t Threaten Me With A Good Time,Panic! At The Disco\\r\\n1691,0.00172,0.542,203347,0.905,0.0104,9,0.136,-5.653,1,0.054,153.398,4,0.365,0,Sex on Fire,Kings of Leon\\r\\n1692,0.122,0.7,234308,0.714,0,9,0.0428,-6.295,0,0.104,99.909,4,0.482,0,Cold,Maroon 5\\r\\n1693,0.119,0.64,220781,0.533,0,0,0.0864,-6.596,1,0.0706,99.968,4,0.5,0,It Ain\\'t Me (with Selena Gomez),Kygo\\r\\n1694,0.687,0.393,239451,0.505,0,5,0.101,-7.048,1,0.0289,163.938,3,0.205,0,Bring Me the Night,Sam Tsui feat. Kina Grannis\\r\\n1695,0.0109,0.599,212013,0.677,8.04E-06,0,0.0612,-4.722,0,0.035,81.021,4,0.458,0,Crush,David Archuleta\\r\\n1696,0.0576,0.591,218373,0.866,0,2,0.146,-2.877,1,0.0536,86.981,4,0.496,0,Song 2 You,Victorious Cast\\r\\n1697,0.0109,0.616,179600,0.91,0,8,0.0806,-3.316,0,0.124,150.038,4,0.709,0,L.A. Boyz,Victorious Cast feat. Victoria Justice and Ariana Grande\\r\\n1698,0.0197,0.593,194893,0.814,0,9,0.18,-4.802,1,0.166,146.919,4,0.47,0,Faster than Boyz,Victorious Cast\\r\\n1699,0.000501,0.581,197160,0.86,0,10,0.305,-3.459,1,0.036,122.941,4,0.48,0,Bad Boys,Victorious Cast\\r\\n1700,0.0123,0.428,221720,0.781,1.47E-05,6,0.104,-5.032,0,0.0608,82.353,4,0.72,0,\"Too Little, Too Late\",JoJo\\r\\n1701,0.799,0.66,304293,0.255,0,10,0.0797,-9.79,1,0.0278,103.087,4,0.508,0,Fast Car (feat. Kina Grannis),Kina Grannis\\r\\n1702,0.474,0.672,184960,0.396,0,2,0.0921,-9.489,0,0.0349,130.015,4,0.464,0,In Your Arms,Kina Grannis\\r\\n1703,0.292,0.862,150707,0.351,0,9,0.105,-11.793,1,0.0439,124.964,4,0.504,0,Valentine,Kina Grannis\\r\\n1704,0.436,0.696,157187,0.439,0,7,0.353,-9.438,1,0.07,135.925,4,0.686,0,The One You Say Goodnight To,Kina Grannis\\r\\n1705,0.167,0.631,253107,0.591,0,11,0.0812,-7.669,1,0.0333,137.917,4,0.459,0,Gone,Kina Grannis\\r\\n1706,0.00634,0.637,195167,0.507,0,6,0.386,-9.59,0,0.0283,105.932,4,0.566,0,Strong Enough,Kina Grannis\\r\\n1707,0.226,0.546,231240,0.522,0,4,0.129,-7.113,1,0.0361,117.299,4,0.494,0,Without Me,Kina Grannis\\r\\n1708,0.0784,0.593,208000,0.872,0,1,0.286,-4.525,0,0.0959,91.964,4,0.521,0,L.A. Story,Sammy Adams\\r\\n1709,0.112,0.688,186800,0.795,0,5,0.133,-6.161,1,0.047,125.044,4,0.773,0,Something About the Sunshine,Anna Margaret\\r\\n1710,0.114,0.586,176360,0.896,0,3,0.175,-4.572,1,0.11,94.954,4,0.353,0,Like Nobody\\'s Around,Big Time Rush\\r\\n1711,0.101,0.403,201720,0.883,0,4,0.109,-3.385,1,0.087,202.013,4,0.769,0,Amazing,Big Time Rush\\r\\n1712,0.0987,0.614,201040,0.857,0,1,0.177,-4.171,0,0.111,164.146,4,0.655,0,Boyfriend,Big Time Rush\\r\\n1713,0.0735,0.531,224333,0.771,0,4,0.17,-6.162,1,0.0468,159.973,4,0.608,0,Worldwide,Big Time Rush\\r\\n1714,0.0273,0.599,197587,0.888,0,11,0.28,-2.931,0,0.0514,121.05,4,0.84,0,Big Time Rush,Big Time Rush\\r\\n1715,0.178,0.644,200613,0.842,0,8,0.0796,-4.787,1,0.0429,99.05,4,0.852,0,Popular Song,MIKA\\r\\n1716,0.0671,0.543,183960,0.852,0,1,0.0822,-3.737,1,0.0787,129.023,4,0.689,0,All About Tonight - featuring Cymphonique Miller,How To Rock Cast\\r\\n1717,0.219,0.638,209933,0.705,0,2,0.156,-4.47,1,0.035,91.961,4,0.292,0,Count On You,Big Time Rush\\r\\n1718,0.0196,0.437,175587,0.802,0,2,0.0709,-5.709,1,0.0997,121.387,5,0.604,0,I Know You Know,Big Time Rush\\r\\n1719,0.000479,0.695,218187,0.579,0,0,0.0556,-5.066,1,0.0325,88.957,4,0.731,0,Bring It All to Me,Blaque\\r\\n1720,0.0117,0.85,258113,0.398,0,7,0.263,-9.816,1,0.0534,99.717,4,0.717,0,Too Close,Next\\r\\n1721,0.0453,0.841,278467,0.552,0.00154,7,0.0533,-10.345,1,0.0498,99.018,4,0.596,0,I\\'m So Into You,SWV\\r\\n1722,0.409,0.618,291880,0.688,6.32E-06,5,0.3,-5.867,0,0.0477,78.311,4,0.561,0,Don\\'t Let Go (Love),En Vogue\\r\\n1723,0.0029,0.583,271093,0.681,6.03E-05,11,0.0999,-8.152,0,0.0585,188.256,4,0.57,0,Candy Rain,Soul For Real\\r\\n1724,0.067,0.829,243159,0.652,0,7,0.0812,-8.693,0,0.108,99.581,4,0.717,0,Wifey,Next\\r\\n1725,0.396,0.635,329907,0.53,0,8,0.118,-8.1,1,0.0328,116.631,4,0.204,0,On Bended Knee,Boyz II Men\\r\\n1726,0.267,0.809,275080,0.522,1.97E-05,10,0.0729,-8.747,0,0.0821,99.001,4,0.879,0,Get It On Tonite,Montell Jordan\\r\\n1727,0.074,0.642,348893,0.421,0,5,0.0676,-9.32,0,0.0237,74.849,3,0.453,0,End Of The Road,Boyz II Men\\r\\n1728,0.105,0.563,235853,0.487,0,2,0.0884,-7.775,1,0.0234,142.53,3,0.248,0,I\\'ll Make Love To You,Boyz II Men\\r\\n1729,0.468,0.578,201280,0.375,0,0,0.156,-12.951,1,0.0272,89.605,4,0.561,0,Water Runs Dry,Boyz II Men\\r\\n1730,0.499,0.571,301587,0.447,0,7,0.125,-8.757,1,0.0338,75.019,4,0.162,0,A Song For Mama,Boyz II Men\\r\\n1731,0.0788,0.873,301200,0.591,0.0071,7,0.104,-8.942,1,0.102,123.091,4,0.49,0,Together Again,Janet Jackson\\r\\n1732,0.135,0.729,272360,0.914,0.000672,2,0.156,-4.043,1,0.041,127.907,4,0.918,0,Someone To Call My Lover,Janet Jackson\\r\\n1733,0.0264,0.815,283934,0.944,0.00038,1,0.181,-6.698,1,0.0513,115.219,4,0.681,0,Escapade,Janet Jackson\\r\\n1734,0.0198,0.571,199640,0.87,6.60E-06,8,0.0564,-3.877,0,0.0641,172.716,4,0.815,0,Bye Bye Bye,*NSYNC\\r\\n1735,0.3,0.55,266293,0.563,0,2,0.122,-7.019,1,0.0313,166.004,4,0.462,0,This I Promise You - Radio Edit,*NSYNC\\r\\n1736,0.0479,0.647,191280,0.87,0,0,0.0485,-4.702,0,0.0798,165.103,4,0.906,0,It\\'s Gonna Be Me,*NSYNC\\r\\n1737,0.44,0.468,243493,0.535,0,10,0.101,-8.264,1,0.0436,168.001,4,0.298,0,God Must Have Spent a Little More Time on You - Remix,*NSYNC\\r\\n1738,0.0743,0.754,199787,0.946,0.000391,8,0.401,-2.149,0,0.0403,112.042,4,0.865,0,I Want You Back - Radio Edit,*NSYNC\\r\\n1739,0.0412,0.841,175520,0.866,0,11,0.212,-6.342,1,0.118,119.941,4,0.875,0,Pop - Radio Version,*NSYNC\\r\\n1740,0.00799,0.685,209560,0.872,0,7,0.323,-6.939,1,0.0321,110.046,4,0.806,0,Tearin\\' up My Heart - Radio Edit,*NSYNC\\r\\n1741,0.16,0.773,211907,0.801,0,0,0.111,-5.562,1,0.0281,98.205,4,0.8,0,As Long as You Love Me,Backstreet Boys\\r\\n1742,0.066,0.798,232027,0.862,1.65E-06,11,0.168,-4.95,0,0.0336,100.031,4,0.893,0,Quit Playing Games (With My Heart),Backstreet Boys\\r\\n1743,0.0877,0.527,287027,0.578,0,7,0.155,-6.012,0,0.0283,162.11,3,0.35,0,I\\'ll Never Break Your Heart,Backstreet Boys\\r\\n1744,0.0563,0.729,274827,0.561,0,1,0.0657,-7.162,1,0.028,95.981,4,0.395,0,All I Have to Give,Backstreet Boys\\r\\n1745,0.117,0.697,203600,0.856,0,10,0.287,-4.439,0,0.0752,104.202,4,0.732,0,The Call,Backstreet Boys\\r\\n1746,0.24,0.683,213027,0.687,0,6,0.131,-5.833,0,0.0274,99.035,4,0.486,0,I Want It That Way,Backstreet Boys\\r\\n1747,0.245,0.634,234587,0.624,0,6,0.0767,-5.095,0,0.0255,167.992,4,0.668,0,Show Me the Meaning of Being Lonely,Backstreet Boys\\r\\n1748,0.252,0.571,230280,0.77,0,9,0.154,-5.46,1,0.03,96.09,4,0.529,0,Shape of My Heart,Backstreet Boys\\r\\n1749,0.0522,0.862,301520,0.479,0.00126,7,0.589,-9.199,1,0.0646,109.878,4,0.919,0,I\\'ll Be Missing You (feat. 112),Diddy\\r\\n1750,0.397,0.66,268800,0.707,0,6,0.211,-5.758,1,0.208,89.279,4,0.779,0,I Need A Girl (Part One) (feat. Usher & Loon),Diddy\\r\\n1751,0.31,0.596,232573,0.661,0,5,0.0847,-6.239,0,0.226,129.491,5,0.864,0,Where the Party At,Jagged Edge\\r\\n1752,0.26,0.725,296693,0.487,1.09E-05,8,0.431,-5.959,0,0.0368,136.086,4,0.595,0,I Wanna Know,Joe\\r\\n1753,0.00819,0.651,232227,0.645,0,1,0.0919,-6.741,1,0.223,96.394,4,0.668,0,Stay,Ne-Yo\\r\\n1754,0.273,0.699,207187,0.592,0,6,0.202,-8.298,1,0.262,94.933,4,0.587,0,So Sick,Ne-Yo\\r\\n1755,0.304,0.654,222000,0.564,0,6,0.107,-7.186,1,0.235,86.948,4,0.458,0,When You\\'re Mad,Ne-Yo\\r\\n1756,0.265,0.622,220853,0.503,0.000473,8,0.0596,-6.417,1,0.0433,93.984,4,0.6,0,Sexy Love,Ne-Yo\\r\\n1757,0.117,0.634,331240,0.528,2.26E-06,1,0.0565,-8.834,1,0.0309,128,4,0.187,0,All My Life,K-Ci & JoJo\\r\\n1758,0.0786,0.779,254067,0.711,2.40E-05,0,0.373,-4.054,1,0.144,96.472,4,0.857,0,Take Me There - Remix,Blackstreet\\r\\n1759,0.0058,0.686,267947,0.952,0.00333,9,0.283,-5.169,1,0.0458,104.889,4,0.641,0,MMMBop,Hanson\\r\\n1760,0.0565,0.78,236827,0.69,8.19E-05,1,0.0716,-4.958,0,0.0445,98.002,4,0.327,0,Case Of The Ex (Whatcha Gonna Do),M\\xc3\\xbda\\r\\n1761,0.207,0.833,209490,0.677,3.92E-06,4,0.286,-6.413,1,0.103,132.876,4,0.731,0,My Love Is Like...Wo - Main Mix/Album Version,M\\xc3\\xbda\\r\\n1762,0.00373,0.592,250173,0.562,3.23E-05,10,0.223,-6.869,0,0.0239,90.16,4,0.2,0,Angel of Mine - Radio Mix,Monica\\r\\n1763,0.243,0.652,294867,0.473,0,0,0.134,-7.981,0,0.0313,123.208,4,0.36,0,For You I Will,Monica\\r\\n1764,0.0862,0.621,230733,0.579,0,9,0.0827,-8.574,1,0.221,82.897,4,0.415,0,Two Wrongs,Wyclef Jean\\r\\n1765,0.0925,0.685,257173,0.784,0,9,0.314,-4.971,1,0.11,90.89,4,0.734,0,Take Me As I Am,Wyclef Jean\\r\\n1766,0.0772,0.733,241133,0.744,0,1,0.341,-3.51,1,0.0553,92.515,4,0.528,0,Sweetest Girl (Dollar Bill),Wyclef Jean\\r\\n1767,0.0138,0.701,283093,0.457,0,8,0.054,-8.562,0,0.0311,127.925,4,0.292,0,Slow Jam,Usher\\r\\n1768,0.218,0.408,230000,0.582,0,11,0.159,-8.305,1,0.0508,114.926,5,0.34,0,Ironic - 2015 Remastered,Alanis Morissette\\r\\n1769,0.0227,0.816,247840,0.5,1.53E-06,1,0.0733,-4.551,1,0.03,124.037,4,0.654,0,U Got It Bad,Usher\\r\\n1770,0.257,0.662,223440,0.507,0,5,0.0465,-8.238,1,0.118,86.412,4,0.652,0,My Boo,Usher\\r\\n1771,0.466,0.635,244160,0.54,0,7,0.0524,-8.122,1,0.0246,99.99,4,0.586,0,Don\\'t Love You No More (I\\'m Sorry),Craig David\\r\\n1772,0.163,0.622,249093,0.593,0,7,0.0979,-8.352,0,0.0916,94.364,4,0.595,0,Let Me Love You,Mario\\r\\n1773,0.00541,0.538,214200,0.677,0,0,0.236,-6.099,1,0.187,132.346,5,0.919,0,Just a Friend 2002 - Radio Edit,Mario\\r\\n1774,0.273,0.713,271333,0.678,0,5,0.149,-3.525,0,0.102,138.009,4,0.738,0,Say My Name,Destiny\\'s Child\\r\\n1775,0.00543,0.771,230200,0.685,0.00157,1,0.0537,-4.639,1,0.0567,88.997,4,0.683,0,\"Jumpin\\', Jumpin\\'\",Destiny\\'s Child\\r\\n1776,0.362,0.73,221133,0.602,3.69E-06,6,0.169,-3.782,0,0.206,97.954,4,0.932,0,\"Independent Women, Pt. I\",Destiny\\'s Child\\r\\n1777,0.139,0.845,256027,0.576,0,11,0.0764,-5.15,0,0.153,127.641,4,0.455,0,\"Bills, Bills, Bills\",Destiny\\'s Child\\r\\n1778,0.102,0.721,263440,0.723,4.40E-06,2,0.0651,-7.08,0,0.0631,88.933,4,0.769,0,No More (Baby I\\'ma Do Right),3LW\\r\\n1779,0.0382,0.518,300573,0.666,2.47E-05,0,0.289,-5.306,1,0.0313,130.048,4,0.254,0,Summer Is Over feat. Sara Bareilles,Jon McLaughlin\\r\\n1780,0.201,0.415,251640,0.661,0,7,0.143,-4.629,1,0.0296,156.177,4,0.283,0,Beautiful Disaster,Jon McLaughlin\\r\\n1781,0.245,0.319,252053,0.664,0,1,0.0812,-4.85,1,0.0357,112.377,5,0.441,0,Human,Jon McLaughlin\\r\\n1782,0.787,0.386,226840,0.248,1.49E-06,11,0.143,-11.42,1,0.0291,106.259,3,0.153,0,So Close,Jon McLaughlin\\r\\n1783,0.0193,0.439,206000,0.906,0,3,0.373,-4.8,1,0.0439,161.905,4,0.69,0,In Love With a Girl,Gavin DeGraw\\r\\n1784,0.789,0.764,224987,0.348,0,9,0.0997,-7.98,1,0.0643,119.651,4,0.773,0,Simple Love Song,Anuhea\\r\\n1785,0.214,0.685,339733,0.607,0,11,0.345,-5.301,1,0.0431,125.011,4,0.463,0,Honeymoon Avenue,Ariana Grande\\r\\n1786,0.413,0.454,194707,0.521,0,7,0.119,-4.143,1,0.0285,72.28,4,0.231,0,Tattooed Heart,Ariana Grande\\r\\n1787,0.831,0.4,327773,0.337,0,2,0.0934,-7.404,1,0.0355,108.196,5,0.354,0,Almost Is Never Enough,Nathan Sykes\\r\\n1788,0.789,0.664,145707,0.32,0,4,0.152,-7.356,1,0.0322,141.916,3,0.71,0,Perfect Harmony,Rags Cast\\r\\n1789,0.268,0.562,235947,0.659,0,10,0.133,-5.234,1,0.0824,87.539,4,0.246,0,Pyramid (feat. Iyaz),Charice\\r\\n1790,0.74,0.637,233000,0.659,0,3,0.227,-6.964,1,0.0409,102.029,4,0.531,0,Best Friend,Jason Chen\\r\\n1791,0.962,0.47,246896,0.271,0,8,0.106,-8.335,1,0.0392,129.623,4,0.396,0,Over And Over Again,Nathan Sykes\\r\\n1792,0.126,0.758,222733,0.699,0,0,0.0643,-4.217,1,0.051,95.011,4,0.724,0,Put Your Arms Around Me,Natasha Bedingfield\\r\\n1793,0.0269,0.704,196853,0.604,0,1,0.0835,-4.865,1,0.0308,115.48,4,0.486,0,Try Everything,Shakira\\r\\n1794,0.39,0.712,181880,0.62,0,4,0.0994,-4.187,1,0.0888,99.953,4,0.519,0,Starving,Hailee Steinfeld\\r\\n1795,0.00406,0.616,206013,0.709,2.56E-06,10,0.501,-6.134,1,0.0312,122.984,4,0.545,0,I Dare You,Bea Miller\\r\\n1796,0.771,0.658,241813,0.566,0,7,0.167,-6.179,1,0.0259,80.035,4,0.513,0,Force of Nature,Bea Miller\\r\\n1797,0.0305,0.555,187973,0.79,0,3,0.094,-5.777,1,0.0507,79.016,4,0.519,0,Perfect Picture,Bea Miller\\r\\n1798,0.0278,0.51,164347,0.708,3.86E-06,9,0.117,-3.092,0,0.051,188.058,4,0.767,0,Tangled Up In Me,Skye Sweetnam\\r\\n1799,0.0273,0.487,208360,0.759,0,11,0.165,-4.849,1,0.0405,80.958,4,0.238,0,Why Can\\'t I?,Liz Phair\\r\\n1800,0.0901,0.635,225400,0.977,2.61E-06,5,0.241,-3.213,0,0.0588,111.955,4,0.431,0,God Is a DJ,P!nk\\r\\n1801,0.0637,0.406,224848,0.638,0,9,0.107,-6.085,0,0.13,177.916,4,0.404,0,Save My Soul,JoJo\\r\\n1802,0.0368,0.277,244413,0.604,0,0,0.365,-3.778,0,0.062,199.519,3,0.28,0,Mad Love.,JoJo\\r\\n1803,0.19,0.776,239880,0.507,0,9,0.12,-5.752,0,0.0405,98.051,4,0.51,0,Secret Love,JoJo\\r\\n1804,0.122,0.498,197847,0.586,0,6,0.106,-5.936,1,0.31,81.945,4,0.489,0,Dear No One,Tori Kelly\\r\\n1805,0.466,0.657,204960,0.485,0,3,0.0889,-5.634,0,0.0672,135.805,4,0.402,0,First Heartbreak,Tori Kelly\\r\\n1806,0.104,0.652,249960,0.621,5.30E-06,9,0.0382,-8.677,0,0.263,169.983,4,0.647,0,Video,India.Arie\\r\\n1807,0.152,0.494,227928,0.542,0,6,0.101,-6.995,1,0.0277,81.34,4,0.246,0,\"Beauty and the Beast - From \"\"Beauty and the Beast\"\"\",Ariana Grande\\r\\n1808,0.0458,0.732,241387,0.772,0,11,0.76,-7.974,0,0.0382,130.14,4,0.763,0,I2I,Tevin Campbell\\r\\n1809,0.00411,0.557,242973,0.796,0,3,0.0951,-4.147,1,0.0482,127.999,4,0.452,0,Confetti Falling,Big Time Rush\\r\\n1810,0.211,0.627,245200,0.669,2.72E-06,0,0.111,-9.985,1,0.0412,94.029,4,0.5,0,You Gotta Be,Des\\'ree\\r\\n1811,0.429,0.616,169307,0.401,0,0,0.161,-7.318,1,0.0344,143.75,4,0.354,0,Can\\'t Blame a Girl for Trying,Sabrina Carpenter\\r\\n1812,0.00486,0.586,192720,0.637,2.97E-06,8,0.112,-6.621,1,0.0274,88.025,4,0.331,0,Eyes Wide Open,Sabrina Carpenter\\r\\n1813,0.00397,0.763,187960,0.569,7.85E-05,6,0.0755,-5.585,1,0.0401,122.988,4,0.751,0,\"Wildside - From \"\"Adventures in Babysitting\"\"\",Sofia Carson\\r\\n1814,0.256,0.539,243773,0.658,0,0,0.286,-5.109,1,0.0295,136.357,3,0.494,0,Can I Have This Dance,High School Musical Cast\\r\\n1815,0.4,0.679,266867,0.657,0,5,0.0497,-9.897,1,0.0255,97.8,4,0.558,0,Hold On,Wilson Phillips\\r\\n1816,0.0156,0.627,164840,0.871,4.63E-06,1,0.23,-4.403,0,0.0336,129.059,4,0.677,0,Be My Baby,Bea Miller\\r\\n1817,0.828,0.717,260187,0.32,0,3,0.107,-8.393,1,0.0283,107.946,4,0.331,0,Photograph (feat. Bea Miller),Boyce Avenue\\r\\n1818,0.41,0.694,244189,0.472,0,8,0.233,-8.62,1,0.0281,95.002,4,0.466,0,Closer (feat. Sarah Hyland),Boyce Avenue\\r\\n1819,0.299,0.51,178320,0.602,0,3,0.126,-6.317,1,0.0616,148.077,4,0.305,0,\"Flashlight (Sweet Life Mix) - From \"\"Pitch Perfect 2\"\" Soundtrack\",Hailee Steinfeld\\r\\n1820,0.382,0.428,291640,0.514,0,7,0.186,-5.021,1,0.0271,135.819,4,0.141,0,From This Moment On,Shania Twain\\r\\n1821,0.45,0.551,212560,0.527,0,3,0.0867,-7.119,1,0.0302,133.758,4,0.662,0,You\\'re Still The One,Shania Twain\\r\\n1822,0.0136,0.523,214827,0.828,0.000255,1,0.165,-4.696,1,0.0762,96.952,4,0.473,0,Everywhere,Michelle Branch\\r\\n1823,0.00509,0.571,234147,0.89,0,9,0.0769,-1.6,1,0.0395,110.958,4,0.725,0,Just The Girl,The Click Five\\r\\n1824,0.0535,0.5,217440,0.802,0,2,0.103,-4.205,1,0.104,174.039,4,0.743,0,Pieces Of Me,Ashlee Simpson\\r\\n1825,0.000668,0.493,202496,0.956,0,1,0.416,-4.221,0,0.138,160.006,4,0.467,0,She Looks So Perfect,5 Seconds of Summer\\r\\n1826,0.00216,0.659,216454,0.9,0,4,0.111,-4.856,1,0.0317,118.04,4,0.882,0,She\\'s Kinda Hot,5 Seconds of Summer\\r\\n1827,0.0236,0.92,293827,0.654,0.0158,11,0.0359,-3.051,0,0.0401,117.046,4,0.856,0,Billie Jean,Michael Jackson\\r\\n1828,0.0491,0.779,258040,0.867,7.98E-06,3,0.197,-3.704,0,0.0457,138.858,4,0.918,0,Beat It - Single Version,Michael Jackson\\r\\n1829,0.11,0.758,198507,0.927,0.0285,9,0.374,-2.768,1,0.0509,115.076,4,0.953,0,Black or White - Single Version,Michael Jackson\\r\\n1830,0.0367,0.608,297400,0.816,0.000554,1,0.116,-5.926,1,0.11,114.484,4,0.497,0,The Way You Make Me Feel,Michael Jackson\\r\\n1831,0.43,0.794,319307,0.798,1.15E-05,8,0.114,-5.639,1,0.0366,100.338,4,0.268,0,Man In The Mirror,Michael Jackson\\r\\n1832,0.23,0.888,238733,0.815,0.000424,11,0.127,-4.909,0,0.0404,127.273,4,0.96,0,P.Y.T. (Pretty Young Thing),Michael Jackson\\r\\n1833,0.00388,0.492,186867,0.797,0,11,0.466,-4.666,1,0.0388,79.513,4,0.533,0,Ultimate,Lindsay Lohan\\r\\n1834,0.107,0.632,249147,0.518,0,6,0.354,-6.126,1,0.0313,90.007,4,0.45,0,If I Were a Boy,Beyonc\\xc3\\xa9\\r\\n1835,0.143,0.658,252053,0.696,0,3,0.131,-4.293,1,0.0707,85.998,4,0.655,0,With You,Chris Brown\\r\\n1836,0.0371,0.672,278036,0.819,0.000184,11,0.203,-4.457,1,0.0463,120.013,4,0.452,0,Forever,Chris Brown\\r\\n1837,0.309,0.421,285120,0.407,0.000961,10,0.11,-7.445,1,0.0267,139.028,3,0.168,0,A Thousand Years,Christina Perri\\r\\n1838,0.0345,0.589,207145,0.83,0,1,0.344,-5.547,1,0.0984,94.999,4,0.595,0,Gave Me Something,Jess Glynne\\r\\n1839,0.00159,0.642,227344,0.823,0,0,0.0776,-5.717,1,0.0289,122.977,4,0.441,0,Hold My Hand,Jess Glynne\\r\\n1840,0.106,0.677,152333,0.437,0,4,0.0897,-7.413,1,0.0322,108.054,4,0.455,0,\"When Will My Life Begin - From \"\"Tangled\"\"/Soundtrack Version\",Mandy Moore\\r\\n1841,0.845,0.24,224240,0.16,0,5,0.0842,-14.213,1,0.0301,92.742,4,0.199,0,\"I See the Light - From \"\"Tangled\"\"/Soundtrack Version\",Mandy Moore\\r\\n1842,0.0647,0.575,244667,0.886,0.000187,5,0.709,-5.182,1,0.034,96.308,4,0.608,0,Torn,Natalie Imbruglia\\r\\n1843,0.197,0.794,281773,0.891,9.04E-05,1,0.136,-6.918,1,0.0439,104.315,4,0.813,0,Ain\\'t Nobody,Chaka Khan\\r\\n1844,0.0029,0.555,271560,0.63,0.00681,4,0.336,-13.11,1,0.0353,128.661,4,0.488,0,Dreams,The Cranberries\\r\\n1845,0.307,0.556,251253,0.517,0.00115,9,0.077,-8.769,1,0.0287,169.938,4,0.779,0,I Knew I Loved You,Savage Garden\\r\\n1846,0.413,0.625,270333,0.426,0,2,0.116,-8.392,0,0.0271,110.018,4,0.123,0,Un-Break My Heart,Toni Braxton\\r\\n1847,0.0704,0.689,269173,0.677,0,0,0.0877,-6.36,1,0.0326,153.919,4,0.265,0,Breathe Again,Toni Braxton\\r\\n1848,0.0117,0.852,267440,0.563,1.96E-05,10,0.119,-8.663,0,0.0377,92.112,4,0.887,0,You\\'re Makin\\' Me High,Toni Braxton\\r\\n1849,0.371,0.814,268040,0.431,0,8,0.335,-9.125,1,0.0936,129.957,4,0.546,0,My Little Secret,Xscape\\r\\n1850,0.0527,0.701,255453,0.383,0,10,0.0525,-9.016,1,0.0284,135.877,4,0.241,0,One Of Those Love Songs,Xscape\\r\\n1851,0.415,0.773,256720,0.309,0.00014,7,0.111,-8.5,0,0.0339,128.105,4,0.411,0,Softest Place On Earth,Xscape\\r\\n1852,0.311,0.657,260427,0.456,0,0,0.0922,-8.917,1,0.0345,115.4,4,0.181,0,The Arms of the One Who Loves You,Xscape\\r\\n1853,0.00947,0.739,261933,0.947,2.99E-05,11,0.326,-1.915,0,0.0412,88.009,4,0.762,0,He Wasn\\'t Man Enough,Toni Braxton\\r\\n1854,0.259,0.534,249813,0.642,0,9,0.29,-3.971,1,0.0504,92.963,4,0.139,0,Secret Love Song,Little Mix\\r\\n1855,0.784,0.485,180640,0.332,0.000122,4,0.146,-9.244,1,0.0338,130.813,4,0.255,0,I Can\\'t Fall in Love Without You,Zara Larsson\\r\\n1856,0.965,0.71,275280,0.0565,0,7,0.0889,-15.099,1,0.0534,123.994,4,0.352,0,Lost Boy,Ruth B.\\r\\n1857,0.524,0.849,203720,0.531,0,7,0.0693,-5.534,1,0.258,91.927,4,0.771,0,Yesterday,Atmosphere\\r\\n1858,0.622,0.413,168480,0.439,0.00562,10,0.0704,-8.537,1,0.031,97.942,4,0.336,0,Honest,Joseph\\r\\n1859,0.904,0.513,193917,0.274,9.27E-06,0,0.1,-13.577,1,0.0289,129.834,4,0.381,0,When Will I Learn,Kina Grannis\\r\\n1860,0.701,0.447,171046,0.288,1.56E-06,4,0.0915,-9.131,1,0.0298,139.522,4,0.352,0,Lady Brain,The Harmaleighs\\r\\n1861,0.265,0.546,201413,0.76,7.47E-05,8,0.0948,-6.763,1,0.0428,151.456,4,0.461,0,Cleopatra,The Lumineers\\r\\n1862,0.286,0.614,264151,0.549,2.64E-06,5,0.142,-6.986,1,0.0516,77.926,4,0.255,0,Heavy,Birdtalker\\r\\n1863,0.0299,0.604,203310,0.841,0.00382,1,0.136,-5.145,1,0.0423,138.976,4,0.585,0,Celeste,Ezra Vine\\r\\n1864,0.859,0.606,201333,0.411,0.00247,1,0.252,-11.765,1,0.0316,117.819,4,0.234,0,Don\\'t Say,Lullanas\\r\\n1865,0.323,0.661,186492,0.544,0.0222,7,0.0871,-11.193,1,0.0304,139.012,4,0.307,0,Like Home,Colin & Caroline\\r\\n1866,0.395,0.644,195107,0.523,0,4,0.093,-7.66,1,0.0378,95.966,4,0.453,0,I Know,Sammy Brue\\r\\n1867,0.208,0.645,150706,0.52,0,1,0.0842,-7.417,1,0.0576,169.986,4,0.395,0,Adventurers,Holley Maher\\r\\n1868,0.0897,0.499,195000,0.94,7.28E-05,0,0.109,-2.741,1,0.0332,112.02,4,0.451,0,Back to You,WILD\\r\\n1869,0.185,0.52,238093,0.497,0.00785,2,0.109,-9.925,1,0.0403,148.895,4,0.41,0,Memorial Day,The Accidentals\\r\\n1870,0.0754,0.655,202163,0.873,0,7,0.105,-4.992,0,0.0692,130.018,4,0.571,0,Fire,Majozi\\r\\n1871,0.245,0.602,156360,0.771,0,3,0.107,-4.494,1,0.04,125.024,4,0.387,0,I Keep Ticking On,The Harmaleighs\\r\\n1872,0.266,0.626,233760,0.601,0.00405,2,0.112,-6.4,1,0.0309,120.046,4,0.187,0,Automatic,Castro\\r\\n1873,0.58,0.599,245960,0.699,0.276,1,0.108,-7.588,0,0.1,120.927,4,0.312,0,Ohio - filous Remix,Damien Jurado\\r\\n1874,0.0331,0.678,198760,0.783,1.51E-05,7,0.134,-4.672,0,0.0828,102,4,0.687,0,I Took A Pill In Ibiza - Seeb Remix,Mike Posner\\r\\n1875,0.0816,0.611,152869,0.487,0.116,2,0.111,-10.629,1,0.0275,105.034,3,0.667,0,Bath Salts,Travis Hayes\\r\\n1876,0.994,0.206,336000,0.0347,0.828,1,0.131,-25.351,1,0.0431,67.584,4,0.0378,0,\"Nocturne No.1 In B Flat Minor, Op.9 No.1\",Fr\\xc3\\xa9d\\xc3\\xa9ric Chopin\\r\\n1877,0.00832,0.64,268360,0.864,0,7,0.123,-6.576,1,0.0315,102.026,4,0.735,0,Semi-Charmed Life,Third Eye Blind\\r\\n1878,0.211,0.581,272507,0.817,1.42E-06,0,0.246,-6.542,1,0.0382,141.607,4,0.772,0,Mr. Jones,Counting Crows\\r\\n1879,0.00162,0.543,256733,0.912,2.10E-06,7,0.0565,-10.71,1,0.0601,103.731,4,0.83,0,Two Princes,Spin Doctors\\r\\n1880,9.24E-05,0.547,239227,0.693,5.46E-05,0,0.113,-8.786,1,0.0353,119.567,4,0.581,0,Save Tonight,Eagle-Eye Cherry\\r\\n1881,0.00117,0.464,236067,0.785,1.46E-06,6,0.328,-7.42,0,0.0436,153.005,4,0.505,0,Hey Jealousy,Gin Blossoms\\r\\n1882,0.000372,0.615,185093,0.657,0.0204,7,0.132,-6.873,1,0.029,109.95,4,0.78,0,Good,Better Than Ezra\\r\\n1883,0.00131,0.417,263280,0.946,0,10,0.154,-4.056,0,0.0507,95.245,4,0.501,0,If You Could Only See,Tonic\\r\\n1884,0.171,0.618,300773,0.896,0,2,0.0875,-5.357,1,0.0307,113.961,4,0.727,0,You Get What You Give,New Radicals\\r\\n1885,0.00913,0.638,238093,0.666,0.000843,8,0.111,-7.056,0,0.0233,100.01,4,0.474,0,Why I\\'m Here,Oleander\\r\\n1886,0.00468,0.499,134200,0.873,0,6,0.165,-3.902,1,0.0386,142.726,4,0.869,0,Lump,The Presidents Of The United States Of America\\r\\n1887,0.0108,0.743,243333,0.67,0.0702,1,0.22,-4.547,0,0.0293,110.832,4,0.934,0,Someday - Remastered,Sugar Ray\\r\\n1888,0.0558,0.6,196116,0.811,6.82E-06,5,0.109,-7.693,1,0.0788,124.303,4,0.601,0,All I Want,Toad The Wet Sprocket\\r\\n1889,0.0067,0.42,238667,0.672,0,6,0.108,-7.902,1,0.027,168.019,4,0.459,0,Push,Matchbox Twenty\\r\\n1890,0.16,0.561,295493,0.555,0,11,0.114,-9.734,0,0.0287,134.369,4,0.509,0,What\\'s Up?,4 Non Blondes\\r\\n1891,0.000891,0.481,189333,0.94,0,7,0.0939,-5.204,1,0.066,96.493,4,0.643,0,Absolutely (Story of a Girl) - Radio Mix,Nine Days\\r\\n1892,0.417,0.566,132307,0.804,0,6,0.112,-5.783,1,0.0364,149.989,4,0.868,0,Roll To Me,Del Amitri\\r\\n1893,0.0437,0.637,208493,0.846,0,1,0.105,-3.663,1,0.0346,103.119,4,0.596,0,Hey Leonardo (She Likes Me For Me),Blessid Union Of Souls\\r\\n1894,0.114,0.483,219467,0.818,0,11,0.367,-7.666,1,0.0444,175.668,4,0.69,0,Inside Out,Eve 6\\r\\n1895,0.219,0.701,144333,0.261,0,0,0.0821,-19.846,1,0.0938,97.042,4,0.895,0,Blister in the Sun - 2002 Remastered Version,Violent Femmes\\r\\n1896,0.00971,0.498,215573,0.685,0.775,3,0.365,-11.795,1,0.0394,112.49,4,0.781,0,Cannonball,The Breeders\\r\\n1897,0.00133,0.291,289907,0.79,5.61E-06,11,0.0811,-5.683,0,0.0363,155.667,3,0.493,0,Iris,The Goo Goo Dolls\\r\\n1898,0.0271,0.48,164467,0.891,3.24E-06,2,0.185,-5.001,1,0.0332,123.961,4,0.646,0,Into Your Arms,The Lemonheads\\r\\n1899,0.25,0.58,235173,0.575,1.83E-05,3,0.0813,-7.72,1,0.0231,92.934,4,0.372,0,Mmm Mmm Mmm Mmm,Crash Test Dummies\\r\\n1900,0.35,0.926,199853,0.916,6.17E-06,10,0.0234,-2.221,0,0.0929,110.007,4,0.903,0,Hollaback Girl,Gwen Stefani\\r\\n1901,0.0584,0.967,242733,0.583,0,7,0.0519,-5.562,0,0.0789,117,4,0.965,0,SexyBack,Justin Timberlake\\r\\n1902,0.0823,0.741,289133,0.748,0,0,0.34,-6.299,1,0.0264,127.965,4,0.616,0,I Gotta Feeling,The Black Eyed Peas\\r\\n1903,0.185,0.757,211160,0.725,5.56E-05,0,0.568,-4.86,0,0.0315,92.96,4,0.887,0,...Baby One More Time,Britney Spears\\r\\n1904,0.173,0.618,217893,0.794,0.000226,1,0.144,-6.985,1,0.126,175.822,4,0.919,0,Genie In A Bottle (Album Version),Christina Aguilera\\r\\n1905,0.139,0.671,243493,0.727,0,7,0.123,-7.585,1,0.035,102.358,4,0.82,0,Fantasy,Mariah Carey\\r\\n1906,0.0251,0.743,214400,0.675,0.000717,8,0.0685,-4.267,0,0.0953,92.909,4,0.604,0,No Scrubs,TLC\\r\\n1907,0.0661,0.639,232987,0.849,0.02,4,0.15,-5.474,0,0.0361,90.562,4,0.668,0,Drive,Incubus\\r\\n1908,0.00129,0.494,169027,0.946,0,4,0.398,-2.757,1,0.0637,103.408,4,0.713,0,My Own Worst Enemy,Lit\\r\\n1909,0.101,0.768,173027,0.864,0,11,0.162,-6.145,1,0.0324,110.008,4,0.876,0,Wannabe - Radio Edit,Spice Girls\\r\\n1910,0.0028,0.686,211000,0.915,7.16E-06,7,0.233,-4.447,1,0.0364,110.054,4,0.784,0,Tearin\\' up My Heart - Radio Edit,*NSYNC\\r\\n1911,0.313,0.593,239440,0.642,0.000582,2,0.0804,-7.284,1,0.0299,76.403,4,0.755,0,I Try,Macy Gray\\r\\n1912,0.25,0.295,225933,0.593,0,11,0.236,-7.572,1,0.0555,85.482,4,0.361,0,Ironic,Alanis Morissette\\r\\n1913,1.92E-05,0.439,234800,0.931,1.21E-05,11,0.193,-2.59,0,0.0473,135.944,4,0.516,0,Learn to Fly,Foo Fighters\\r\\n1914,0.16,0.609,294987,0.923,4.73E-06,9,0.295,-3.908,1,0.0338,115.996,4,0.96,0,Smooth,Santana\\r\\n1915,0.161,0.667,213000,0.728,0,6,0.199,-5.476,0,0.0272,99.014,4,0.449,0,I Want It That Way,Backstreet Boys\\r\\n1916,0.43,0.566,279400,0.705,0,0,0.109,-7.569,1,0.0311,168.152,4,0.785,0,Truly Madly Deeply,Savage Garden\\r\\n1917,0.0534,0.748,198067,0.939,0,0,0.32,-4.288,0,0.0341,104.001,4,0.962,0,(You Drive Me) Crazy,Britney Spears\\r\\n1918,0.0962,0.72,188107,0.898,0,11,0.0675,-3.701,0,0.0997,143.431,4,0.964,0,Pretty Fly (For a White Guy),The Offspring\\r\\n1919,0.0449,0.706,225253,0.893,1.04E-06,10,0.301,-4.355,0,0.0449,108.006,4,0.616,0,Everybody (Backstreet\\'s Back) - Radio Edit,Backstreet Boys\\r\\n1920,0.153,0.831,239227,0.921,0.00213,5,0.305,-2.383,0,0.0581,108.002,4,0.808,0,Remember the Time,Michael Jackson\\r\\n1921,0.0863,0.675,239933,0.553,7.58E-06,7,0.118,-7.775,1,0.0486,90.02,4,0.57,0,Meet Virginia,Train\\r\\n1922,0.363,0.622,195467,0.692,0.000158,7,0.193,-6.97,1,0.0276,112.053,4,0.758,0,Last Kiss,Pearl Jam\\r\\n1923,0.000501,0.749,195107,0.745,0.00403,2,0.333,-10.625,1,0.164,101.972,4,0.461,0,Jump,Kris Kross\\r\\n1924,0.0296,0.6,270427,0.931,7.10E-05,7,0.392,-4.647,1,0.0734,140.123,4,0.527,0,\"Girls, Girls, Girls\",M\\xc3\\xb6tley Cr\\xc3\\xbce\\r\\n1925,0.0475,0.559,209413,0.868,0.000176,5,0.776,-5.276,1,0.17,156.295,4,0.608,0,Don\\'t Stop Me Now - Remastered 2011,Queen\\r\\n1926,0.632,0.631,219160,0.363,4.64E-05,5,0.084,-14.331,1,0.0336,138.367,4,0.268,0,Coming Around Again,Carly Simon\\r\\n1927,0.284,0.778,218093,0.824,0,10,0.405,-5.892,0,0.0712,100.024,4,0.767,0,Hips Don\\'t Lie,Shakira\\r\\n1928,0.00542,0.875,272080,0.631,2.54E-06,1,0.127,-3.475,1,0.099,120.002,4,0.552,0,Don\\'t Cha,The Pussycat Dolls\\r\\n1929,0.00281,0.633,197124,0.976,1.29E-05,8,0.382,-5.362,1,0.0519,142.027,4,0.471,0,Every time we touch,Cascada\\r\\n1930,0.101,0.835,272533,0.687,0,5,0.132,-3.18,1,0.184,94.059,4,0.826,0,Where Is The Love?,The Black Eyed Peas\\r\\n1931,0.0446,0.853,267080,0.676,3.37E-05,6,0.0514,-5.533,0,0.0715,122.65,4,0.558,0,Don\\'t Stop The Music,Rihanna\\r\\n1932,0.0559,0.514,254027,0.911,0,1,0.775,-2.027,0,0.41,161.109,4,0.614,0,Survivor,Destiny\\'s Child\\r\\n1933,0.00125,0.649,230747,0.815,4.31E-05,3,0.671,-3.796,0,0.0415,126.03,4,0.774,0,Last Friday Night (T.G.I.F.),Katy Perry\\r\\n1934,0.265,0.793,197027,0.832,6.84E-06,1,0.207,-4.861,0,0.0405,107.647,4,0.859,0,\"Whenever, Wherever\",Shakira\\r\\n1935,0.12,0.851,237200,0.806,1.39E-06,4,0.122,-4.618,1,0.0788,119.002,4,0.769,0,Poker Face,Lady Gaga\\r\\n1936,0.0572,0.585,244507,0.776,7.74E-06,5,0.3,-5.898,1,0.0459,77.987,4,0.43,0,Complicated,Avril Lavigne\\r\\n1937,0.132,0.658,243493,0.781,0,9,0.0877,-8.759,1,0.124,168.883,4,0.929,0,Das Lied Der Schluempfe,Vader Abraham\\r\\n1938,0.121,0.81,226333,0.885,3.39E-06,1,0.191,-10.116,0,0.0659,107.024,4,0.853,0,Because We Want To,Billie Piper\\r\\n1939,0.0174,0.757,205080,0.902,6.04E-06,7,0.0975,-6.747,1,0.0369,130.05,4,0.853,0,Cheeky Song (Touch My Bum),The Cheeky Girls\\r\\n1940,0.00599,0.618,187760,0.96,0,4,0.058,-6.382,1,0.0327,131.988,4,0.949,0,Agadoo - original,Black Lace\\r\\n1941,0.0561,0.766,204960,0.725,0,9,0.0942,-6.36,1,0.0294,121.797,4,0.964,0,Achy Breaky Heart,Billy Ray Cyrus\\r\\n1942,0.00733,0.845,187840,0.768,5.04E-06,6,0.0575,-5.448,1,0.188,100,4,0.954,0,Jenny from the Block - Track Masters Remix,Jennifer Lopez\\r\\n1943,0.0581,0.64,272160,0.947,0,9,0.0656,-3.925,0,0.102,145.108,4,0.68,0,Look At Me,Geri Halliwell\\r\\n1944,0.0803,0.524,393827,0.429,1.37E-05,1,0.0726,-10.064,1,0.0279,131.206,4,0.237,0,(Everything I Do) I Do It For You,Bryan Adams\\r\\n1945,0.573,0.498,200400,0.467,0,1,0.103,-7.283,1,0.03,117.78,4,0.402,0,Against All Odds (Take a Look at Me Now),Mariah Carey\\r\\n1946,0.284,0.672,212288,0.709,0.000608,1,0.083,-7.884,1,0.0232,98.972,4,0.652,0,Anyone Can Fall In Love,Anita Dobson\\r\\n1947,0.674,0.528,182213,0.271,0,3,0.19,-12.762,1,0.0299,136.08,4,0.49,0,There\\'s No One Quite Like Grandma - 2003 Remastered Version,St. Winifred\\'s School Choir\\r\\n1948,0.453,0.511,406280,0.453,0.000212,3,0.0865,-6.803,0,0.0314,138.309,4,0.142,0,Earth Song - Remastered Version,Michael Jackson\\r\\n1949,0.342,0.53,259040,0.445,4.28E-06,10,0.0423,-10.907,1,0.0318,77.092,4,0.495,0,The Lady In Red,Chris de Burgh\\r\\n1950,0.707,0.433,281253,0.364,3.75E-06,4,0.171,-8.842,1,0.0293,98.981,1,0.0384,0,\"My Heart Will Go On (Love Theme from \"\"Titanic\"\")\",C\\xc3\\xa9line Dion\\r\\n1951,0.267,0.563,315787,0.847,0,0,0.243,-6.19,1,0.325,82.757,4,0.81,0,Can I Touch You...There?,Michael Bolton\\r\\n1952,0.25,0.764,205507,0.811,0.000112,1,0.198,-5.245,1,0.0323,95.024,4,0.967,0,Lucky,Britney Spears\\r\\n1953,0.00754,0.653,238693,0.933,0,6,0.0574,-6.041,1,0.0522,132.965,4,0.413,0,Believe,Cher\\r\\n1954,0.422,0.927,249382,0.721,4.36E-05,8,0.0422,-12.561,1,0.0908,103.018,4,0.966,0,Macarena,Los Del Rio\\r\\n1955,0.16,0.85,234827,0.623,0.523,5,0.0395,-12.256,0,0.034,119.891,4,0.963,0,Boys,Sabrina\\r\\n1956,0.441,0.762,193160,0.705,0,4,0.118,-5.082,1,0.0991,119.439,4,0.776,0,Shaddap You Face,Joe Dolce\\r\\n1957,0.0336,0.959,268840,0.545,0,7,0.15,-14.855,1,0.0623,115.266,4,0.733,0,Ice Ice Baby,Vanilla Ice\\r\\n1958,0.154,0.664,222029,0.679,0.000307,9,0.0694,-9.08,0,0.0298,104.851,4,0.728,0,Touch Me (I Want Your Body),Samantha Fox\\r\\n1959,0.719,0.836,204827,0.395,1.40E-05,3,0.0694,-12.015,1,0.0336,104.058,3,0.575,0,Grandad,Clive Dunn\\r\\n1960,0.537,0.191,184800,0.664,1.23E-06,1,0.353,-4.125,1,0.0456,203.822,3,0.545,0,Puppy Love,Donny Osmond\\r\\n1961,0.00769,0.771,197933,0.812,0.0013,10,0.37,-6.113,0,0.133,97.721,4,0.524,0,Girl You Know It\\'s True,Milli Vanilli\\r\\n1962,0.0588,0.653,216613,0.748,0,10,0.194,-6.323,0,0.211,172.008,4,0.809,0,Mysterious Girl,Peter Andre\\r\\n1963,0.721,0.366,191009,0.363,0.000636,3,0.154,-9.768,1,0.0288,132.758,4,0.262,0,Every Loser Wins,Nick Berry\\r\\n1964,0.00513,0.685,267947,0.948,0.00347,9,0.17,-5.182,1,0.0457,104.881,4,0.627,0,MMMBop,Hanson\\r\\n1965,0.677,0.423,322933,0.655,0,2,0.317,-5.374,1,0.0812,103.72,4,0.298,0,I\\'d Do Anything For Love (But I Won\\'t Do That),Meat Loaf\\r\\n1966,0.483,0.687,152400,0.724,0,7,0.057,-4.206,1,0.069,139.705,4,0.974,0,\"To Roz Bikini (Itsy, Bitsy, Teenie, Weenie)\",Polina\\r\\n1967,0.00141,0.895,179000,0.883,0.000383,7,0.274,-8.919,1,0.216,131.644,4,0.893,0,Hoochie Mama,2 LIVE CREW\\r\\n1968,0.0459,0.616,252040,0.91,0,0,0.343,-3.004,1,0.0386,144.073,4,0.684,0,Rockstar,Nickelback\\r\\n1969,0.288,0.668,312640,0.897,0,6,0.513,-3.982,1,0.255,95.952,4,0.512,0,Miracles,Insane Clown Posse\\r\\n1970,0.0364,0.549,202787,0.576,1.94E-06,9,0.147,-6.282,1,0.0263,118.709,3,0.462,0,Fuck You Bitch,Wheeler Walker Jr.\\r\\n1971,0.141,0.615,203067,0.403,0,0,0.0706,-17.264,1,0.102,80.171,4,0.707,0,Fog On the Tyne,Lindisfarne\\r\\n1972,0.0423,0.854,222080,0.903,0.00576,11,0.316,-6.821,0,0.147,131.02,4,0.818,0,Cha Cha Slide,Mr. C\\r\\n1973,0.00135,0.446,223840,0.764,0,10,0.099,-5.042,1,0.033,172.094,4,0.52,0,How You Remind Me - LP Mix,Nickelback\\r\\n1974,0.000204,0.614,211067,0.873,0.504,11,0.346,-6.353,1,0.0616,132.074,4,0.615,0,Burn It To The Ground,Nickelback\\r\\n1975,8.67E-05,0.485,249067,0.911,0,3,0.092,-5.749,1,0.0355,89.956,4,0.55,0,If Today Was Your Last Day,Nickelback\\r\\n1976,0.000102,0.446,190787,0.9,1.89E-05,10,0.0404,-3.541,0,0.0489,187.961,4,0.884,0,When We Stand Together,Nickelback\\r\\n1977,0.0707,0.947,150152,0.829,0,9,0.28,-5.337,0,0.361,129.991,4,0.837,0,Fuck Kd,StaRR Lyfe\\r\\n1978,0.17,0.466,183484,0.72,0,9,0.315,-6.105,1,0.348,139.87,4,0.393,0,Now I Do What I Want,Lil Zay Poppin\\r\\n1979,0.342,0.591,178026,0.75,0.363,1,0.0804,-6.599,0,0.0479,149.931,4,0.38,0,300 Violin Orchestra,Jorge Quintero\\r\\n1980,0.00574,0.682,192000,0.812,0,1,0.0553,-2.691,0,0.118,104.891,4,0.347,0,Shape of You (Major Lazer Remix) [feat. Nyla & Kranium],Ed Sheeran\\r\\n1981,0.181,0.585,249213,0.612,1.03E-05,1,0.293,-8.341,1,0.0806,77.487,4,0.173,0,Party Monster,The Weeknd\\r\\n1982,0.00194,0.616,208332,0.908,0.00235,10,0.0345,-6.867,0,0.0551,92.984,4,0.81,0,U got 2 believe,Paulo Mendonca\\r\\n1983,0.626,0.682,224000,0.518,0.43,8,0.0552,-10.089,1,0.227,118.539,4,0.963,0,Sah,Al Massrieen\\r\\n1984,0.119,0.904,217587,0.517,0.0147,7,0.176,-7.287,0,0.0598,96.999,4,0.722,0,Oh Devil,Electric Guest\\r\\n1985,0.00701,0.578,199080,0.866,0,1,0.257,-3.804,1,0.0619,128.038,4,0.619,0,Shut Up and Dance,WALK THE MOON\\r\\n1986,0.00173,0.472,321280,0.844,0,10,0.24,-6.578,1,0.054,140.034,4,0.343,0,Anna Sun,WALK THE MOON\\r\\n1987,0.0283,0.421,175907,0.831,0,4,0.464,-5.128,1,0.107,134.027,4,0.489,0,Work This Body,WALK THE MOON\\r\\n1988,8.39E-05,0.467,209187,0.794,0.00204,1,0.103,-6.174,0,0.0349,162.435,4,0.577,0,Tightrope,WALK THE MOON\\r\\n1989,0.000797,0.48,222053,0.826,1.01E-06,0,0.125,-4.602,1,0.0397,96,4,0.701,0,Different Colors,WALK THE MOON\\r\\n1990,0.00059,0.594,218720,0.858,3.11E-06,9,0.0642,-4.339,1,0.0387,138.021,4,0.646,0,Avalanche,WALK THE MOON\\r\\n1991,0.000366,0.544,245133,0.788,0,5,0.141,-5.593,0,0.0474,148.121,4,0.821,0,Jenny,WALK THE MOON\\r\\n1992,0.00749,0.446,241253,0.881,0,2,0.13,-4.368,1,0.0545,169.889,4,0.428,0,Portugal,WALK THE MOON\\r\\n1993,0.0019,0.551,195280,0.732,0,9,0.0764,-6.081,1,0.0627,145.107,4,0.628,0,Quesadilla,WALK THE MOON\\r\\n1994,0.51,0.63,240000,0.772,2.26E-05,1,0.0881,-6.986,1,0.0297,99.964,4,0.714,0,Aquaman,WALK THE MOON\\r\\n1995,0.0202,0.333,174240,0.913,0,2,0.146,-3.722,1,0.0808,99.889,4,0.129,0,Paris - Pegboard Nerds Remix,The Chainsmokers\\r\\n1996,0.00363,0.743,259889,0.889,0.143,10,0.383,-5.567,1,0.0409,103.963,4,0.186,0,Quit You - Wuki Remix,Lost Kings\\r\\n1997,0.00087,0.465,265600,0.953,0.0146,8,0.226,-4.684,0,0.295,160.064,4,0.554,0,Don\\'t Let Me Down - Zomboy Remix,The Chainsmokers\\r\\n1998,0.0316,0.68,211853,0.725,1.81E-05,6,0.112,-3.92,1,0.0611,140.048,4,0.26,0,Faded - Slushii Remix,Alan Walker\\r\\n1999,0.00499,0.619,245656,0.949,0.000418,6,0.179,-4.64,0,0.0658,149.935,4,0.257,0,Can\\'t Get Enough - Pegboard Nerds Remix,Tommie Sunshine\\r\\n2000,0.0935,0.52,231667,0.809,0.0035,1,0.0939,-4.18,1,0.05,170.032,4,0.362,0,Light - Loosid Remix,San Holo\\r\\n2001,0.00262,0.484,224320,0.609,0,11,0.339,-5.652,0,0.0303,131.049,4,0.266,0,Something Just Like This - ARMNHMR Remix,The Chainsmokers\\r\\n2002,0.0301,0.583,224092,0.891,3.25E-06,7,0.129,-3.495,1,0.447,149.843,4,0.321,0,Without U,Steve Aoki\\r\\n2003,0.000461,0.562,201031,0.96,0.0383,9,0.716,-2.981,1,0.0692,159.927,4,0.311,0,Hold Up,Borgeous\\r\\n2004,0.0969,0.595,198400,0.975,0,8,0.102,-2.339,0,0.364,150.001,4,0.183,0,Phone Down - Dodge & Fuski Remix,Lost Kings\\r\\n2005,0.0216,0.526,216072,0.825,1.39E-06,5,0.426,-3.506,0,0.0875,150.181,4,0.108,0,Spoon Me - Slushii Remix,Elliphant\\r\\n2006,0.178,0.501,202839,0.683,2.70E-06,1,0.385,-4.261,0,0.0651,154.901,4,0.307,0,Scared To Be Lonely (Conro Remix),Martin Garrix\\r\\n2007,0.00217,0.639,296276,0.978,0.112,11,0.0838,-2.376,1,0.073,144.986,4,0.494,0,Let It Go - Scott Melker & Mister Gray Remix,NERVO\\r\\n2008,0.0541,0.646,160408,0.714,0,0,0.134,-6.511,1,0.0378,97.957,4,0.589,0,\"Call On Me - EDWYNN X TIKAL, Spirix Remix\",Starley\\r\\n2009,0.00499,0.595,224000,0.837,0.0359,1,0.101,-6.011,1,0.0696,149.964,4,0.331,0,Aamon,Kuuro\\r\\n2010,0.00231,0.624,206013,0.971,0.121,6,0.255,-0.935,0,0.0643,102.003,4,0.442,0,Hey Baby - Steve Aoki Remix,Dimitri Vegas & Like Mike\\r\\n2011,0.000586,0.528,245053,0.879,0.00489,6,0.0432,-5.891,0,0.12,128.268,4,0.327,0,Brightside - Borgeous Remix,Icona Pop\\r\\n2012,0.00106,0.584,274404,0.932,0.00269,1,0.129,-3.501,1,0.333,74.976,4,0.211,0,Like A Bitch - Kill The Noise Remix,Kill The Noise\\r\\n2013,0.0877,0.894,182182,0.892,0.00167,1,0.0528,-2.663,1,0.131,110.041,4,0.867,0,Candy,Dillon Francis\\r\\n2014,0.00857,0.637,207200,0.935,0.00399,0,0.214,-2.467,1,0.107,150.082,4,0.47,0,Habit - Dack Janiels & Wenzday Remix,Rain Man\\r\\n2015,0.00164,0.557,185600,0.992,0.677,1,0.0913,-2.735,1,0.133,150.011,4,0.623,0,First Contact,Twin Moons\\r\\n2016,0.00281,0.446,204520,0.915,3.87E-05,9,0.218,-6.221,1,0.141,190.013,4,0.402,0,I Wanna Get Better,Bleachers\\r\\n'}"
            ]
          },
          "metadata": {},
          "execution_count": 5
        }
      ]
    },
    {
      "cell_type": "code",
      "source": [
        "music_dataset = pd.read_csv('music_data.csv')\n",
        "music_dataset"
      ],
      "metadata": {
        "colab": {
          "base_uri": "https://localhost:8080/",
          "height": 748
        },
        "id": "_AFJ--tirJk2",
        "outputId": "56d29678-63b4-405d-b4e8-a82aeb6b67b4"
      },
      "execution_count": 6,
      "outputs": [
        {
          "output_type": "execute_result",
          "data": {
            "text/plain": [
              "      Unnamed: 0  acousticness  danceability  duration_ms  energy  \\\n",
              "0              0       0.01020         0.833       204600   0.434   \n",
              "1              1       0.19900         0.743       326933   0.359   \n",
              "2              2       0.03440         0.838       185707   0.412   \n",
              "3              3       0.60400         0.494       199413   0.338   \n",
              "4              4       0.18000         0.678       392893   0.561   \n",
              "...          ...           ...           ...          ...     ...   \n",
              "2012        2012       0.00106         0.584       274404   0.932   \n",
              "2013        2013       0.08770         0.894       182182   0.892   \n",
              "2014        2014       0.00857         0.637       207200   0.935   \n",
              "2015        2015       0.00164         0.557       185600   0.992   \n",
              "2016        2016       0.00281         0.446       204520   0.915   \n",
              "\n",
              "      instrumentalness  key  liveness  loudness  mode  speechiness    tempo  \\\n",
              "0             0.021900    2    0.1650    -8.795     1       0.4310  150.062   \n",
              "1             0.006110    1    0.1370   -10.401     1       0.0794  160.083   \n",
              "2             0.000234    2    0.1590    -7.148     1       0.2890   75.044   \n",
              "3             0.510000    5    0.0922   -15.236     1       0.0261   86.468   \n",
              "4             0.512000    5    0.4390   -11.648     0       0.0694  174.004   \n",
              "...                ...  ...       ...       ...   ...          ...      ...   \n",
              "2012          0.002690    1    0.1290    -3.501     1       0.3330   74.976   \n",
              "2013          0.001670    1    0.0528    -2.663     1       0.1310  110.041   \n",
              "2014          0.003990    0    0.2140    -2.467     1       0.1070  150.082   \n",
              "2015          0.677000    1    0.0913    -2.735     1       0.1330  150.011   \n",
              "2016          0.000039    9    0.2180    -6.221     1       0.1410  190.013   \n",
              "\n",
              "      time_signature  valence  target                            song_title  \\\n",
              "0                  4    0.286       1                              Mask Off   \n",
              "1                  4    0.588       1                               Redbone   \n",
              "2                  4    0.173       1                          Xanny Family   \n",
              "3                  4    0.230       1                        Master Of None   \n",
              "4                  4    0.904       1                        Parallel Lines   \n",
              "...              ...      ...     ...                                   ...   \n",
              "2012               4    0.211       0   Like A Bitch - Kill The Noise Remix   \n",
              "2013               4    0.867       0                                 Candy   \n",
              "2014               4    0.470       0  Habit - Dack Janiels & Wenzday Remix   \n",
              "2015               4    0.623       0                         First Contact   \n",
              "2016               4    0.402       0                    I Wanna Get Better   \n",
              "\n",
              "                artist  \n",
              "0               Future  \n",
              "1     Childish Gambino  \n",
              "2               Future  \n",
              "3          Beach House  \n",
              "4          Junior Boys  \n",
              "...                ...  \n",
              "2012    Kill The Noise  \n",
              "2013    Dillon Francis  \n",
              "2014          Rain Man  \n",
              "2015        Twin Moons  \n",
              "2016         Bleachers  \n",
              "\n",
              "[2017 rows x 17 columns]"
            ],
            "text/html": [
              "\n",
              "  <div id=\"df-c390cb3e-a2ce-4acc-8d9e-fdf417edfe48\">\n",
              "    <div class=\"colab-df-container\">\n",
              "      <div>\n",
              "<style scoped>\n",
              "    .dataframe tbody tr th:only-of-type {\n",
              "        vertical-align: middle;\n",
              "    }\n",
              "\n",
              "    .dataframe tbody tr th {\n",
              "        vertical-align: top;\n",
              "    }\n",
              "\n",
              "    .dataframe thead th {\n",
              "        text-align: right;\n",
              "    }\n",
              "</style>\n",
              "<table border=\"1\" class=\"dataframe\">\n",
              "  <thead>\n",
              "    <tr style=\"text-align: right;\">\n",
              "      <th></th>\n",
              "      <th>Unnamed: 0</th>\n",
              "      <th>acousticness</th>\n",
              "      <th>danceability</th>\n",
              "      <th>duration_ms</th>\n",
              "      <th>energy</th>\n",
              "      <th>instrumentalness</th>\n",
              "      <th>key</th>\n",
              "      <th>liveness</th>\n",
              "      <th>loudness</th>\n",
              "      <th>mode</th>\n",
              "      <th>speechiness</th>\n",
              "      <th>tempo</th>\n",
              "      <th>time_signature</th>\n",
              "      <th>valence</th>\n",
              "      <th>target</th>\n",
              "      <th>song_title</th>\n",
              "      <th>artist</th>\n",
              "    </tr>\n",
              "  </thead>\n",
              "  <tbody>\n",
              "    <tr>\n",
              "      <th>0</th>\n",
              "      <td>0</td>\n",
              "      <td>0.01020</td>\n",
              "      <td>0.833</td>\n",
              "      <td>204600</td>\n",
              "      <td>0.434</td>\n",
              "      <td>0.021900</td>\n",
              "      <td>2</td>\n",
              "      <td>0.1650</td>\n",
              "      <td>-8.795</td>\n",
              "      <td>1</td>\n",
              "      <td>0.4310</td>\n",
              "      <td>150.062</td>\n",
              "      <td>4</td>\n",
              "      <td>0.286</td>\n",
              "      <td>1</td>\n",
              "      <td>Mask Off</td>\n",
              "      <td>Future</td>\n",
              "    </tr>\n",
              "    <tr>\n",
              "      <th>1</th>\n",
              "      <td>1</td>\n",
              "      <td>0.19900</td>\n",
              "      <td>0.743</td>\n",
              "      <td>326933</td>\n",
              "      <td>0.359</td>\n",
              "      <td>0.006110</td>\n",
              "      <td>1</td>\n",
              "      <td>0.1370</td>\n",
              "      <td>-10.401</td>\n",
              "      <td>1</td>\n",
              "      <td>0.0794</td>\n",
              "      <td>160.083</td>\n",
              "      <td>4</td>\n",
              "      <td>0.588</td>\n",
              "      <td>1</td>\n",
              "      <td>Redbone</td>\n",
              "      <td>Childish Gambino</td>\n",
              "    </tr>\n",
              "    <tr>\n",
              "      <th>2</th>\n",
              "      <td>2</td>\n",
              "      <td>0.03440</td>\n",
              "      <td>0.838</td>\n",
              "      <td>185707</td>\n",
              "      <td>0.412</td>\n",
              "      <td>0.000234</td>\n",
              "      <td>2</td>\n",
              "      <td>0.1590</td>\n",
              "      <td>-7.148</td>\n",
              "      <td>1</td>\n",
              "      <td>0.2890</td>\n",
              "      <td>75.044</td>\n",
              "      <td>4</td>\n",
              "      <td>0.173</td>\n",
              "      <td>1</td>\n",
              "      <td>Xanny Family</td>\n",
              "      <td>Future</td>\n",
              "    </tr>\n",
              "    <tr>\n",
              "      <th>3</th>\n",
              "      <td>3</td>\n",
              "      <td>0.60400</td>\n",
              "      <td>0.494</td>\n",
              "      <td>199413</td>\n",
              "      <td>0.338</td>\n",
              "      <td>0.510000</td>\n",
              "      <td>5</td>\n",
              "      <td>0.0922</td>\n",
              "      <td>-15.236</td>\n",
              "      <td>1</td>\n",
              "      <td>0.0261</td>\n",
              "      <td>86.468</td>\n",
              "      <td>4</td>\n",
              "      <td>0.230</td>\n",
              "      <td>1</td>\n",
              "      <td>Master Of None</td>\n",
              "      <td>Beach House</td>\n",
              "    </tr>\n",
              "    <tr>\n",
              "      <th>4</th>\n",
              "      <td>4</td>\n",
              "      <td>0.18000</td>\n",
              "      <td>0.678</td>\n",
              "      <td>392893</td>\n",
              "      <td>0.561</td>\n",
              "      <td>0.512000</td>\n",
              "      <td>5</td>\n",
              "      <td>0.4390</td>\n",
              "      <td>-11.648</td>\n",
              "      <td>0</td>\n",
              "      <td>0.0694</td>\n",
              "      <td>174.004</td>\n",
              "      <td>4</td>\n",
              "      <td>0.904</td>\n",
              "      <td>1</td>\n",
              "      <td>Parallel Lines</td>\n",
              "      <td>Junior Boys</td>\n",
              "    </tr>\n",
              "    <tr>\n",
              "      <th>...</th>\n",
              "      <td>...</td>\n",
              "      <td>...</td>\n",
              "      <td>...</td>\n",
              "      <td>...</td>\n",
              "      <td>...</td>\n",
              "      <td>...</td>\n",
              "      <td>...</td>\n",
              "      <td>...</td>\n",
              "      <td>...</td>\n",
              "      <td>...</td>\n",
              "      <td>...</td>\n",
              "      <td>...</td>\n",
              "      <td>...</td>\n",
              "      <td>...</td>\n",
              "      <td>...</td>\n",
              "      <td>...</td>\n",
              "      <td>...</td>\n",
              "    </tr>\n",
              "    <tr>\n",
              "      <th>2012</th>\n",
              "      <td>2012</td>\n",
              "      <td>0.00106</td>\n",
              "      <td>0.584</td>\n",
              "      <td>274404</td>\n",
              "      <td>0.932</td>\n",
              "      <td>0.002690</td>\n",
              "      <td>1</td>\n",
              "      <td>0.1290</td>\n",
              "      <td>-3.501</td>\n",
              "      <td>1</td>\n",
              "      <td>0.3330</td>\n",
              "      <td>74.976</td>\n",
              "      <td>4</td>\n",
              "      <td>0.211</td>\n",
              "      <td>0</td>\n",
              "      <td>Like A Bitch - Kill The Noise Remix</td>\n",
              "      <td>Kill The Noise</td>\n",
              "    </tr>\n",
              "    <tr>\n",
              "      <th>2013</th>\n",
              "      <td>2013</td>\n",
              "      <td>0.08770</td>\n",
              "      <td>0.894</td>\n",
              "      <td>182182</td>\n",
              "      <td>0.892</td>\n",
              "      <td>0.001670</td>\n",
              "      <td>1</td>\n",
              "      <td>0.0528</td>\n",
              "      <td>-2.663</td>\n",
              "      <td>1</td>\n",
              "      <td>0.1310</td>\n",
              "      <td>110.041</td>\n",
              "      <td>4</td>\n",
              "      <td>0.867</td>\n",
              "      <td>0</td>\n",
              "      <td>Candy</td>\n",
              "      <td>Dillon Francis</td>\n",
              "    </tr>\n",
              "    <tr>\n",
              "      <th>2014</th>\n",
              "      <td>2014</td>\n",
              "      <td>0.00857</td>\n",
              "      <td>0.637</td>\n",
              "      <td>207200</td>\n",
              "      <td>0.935</td>\n",
              "      <td>0.003990</td>\n",
              "      <td>0</td>\n",
              "      <td>0.2140</td>\n",
              "      <td>-2.467</td>\n",
              "      <td>1</td>\n",
              "      <td>0.1070</td>\n",
              "      <td>150.082</td>\n",
              "      <td>4</td>\n",
              "      <td>0.470</td>\n",
              "      <td>0</td>\n",
              "      <td>Habit - Dack Janiels &amp; Wenzday Remix</td>\n",
              "      <td>Rain Man</td>\n",
              "    </tr>\n",
              "    <tr>\n",
              "      <th>2015</th>\n",
              "      <td>2015</td>\n",
              "      <td>0.00164</td>\n",
              "      <td>0.557</td>\n",
              "      <td>185600</td>\n",
              "      <td>0.992</td>\n",
              "      <td>0.677000</td>\n",
              "      <td>1</td>\n",
              "      <td>0.0913</td>\n",
              "      <td>-2.735</td>\n",
              "      <td>1</td>\n",
              "      <td>0.1330</td>\n",
              "      <td>150.011</td>\n",
              "      <td>4</td>\n",
              "      <td>0.623</td>\n",
              "      <td>0</td>\n",
              "      <td>First Contact</td>\n",
              "      <td>Twin Moons</td>\n",
              "    </tr>\n",
              "    <tr>\n",
              "      <th>2016</th>\n",
              "      <td>2016</td>\n",
              "      <td>0.00281</td>\n",
              "      <td>0.446</td>\n",
              "      <td>204520</td>\n",
              "      <td>0.915</td>\n",
              "      <td>0.000039</td>\n",
              "      <td>9</td>\n",
              "      <td>0.2180</td>\n",
              "      <td>-6.221</td>\n",
              "      <td>1</td>\n",
              "      <td>0.1410</td>\n",
              "      <td>190.013</td>\n",
              "      <td>4</td>\n",
              "      <td>0.402</td>\n",
              "      <td>0</td>\n",
              "      <td>I Wanna Get Better</td>\n",
              "      <td>Bleachers</td>\n",
              "    </tr>\n",
              "  </tbody>\n",
              "</table>\n",
              "<p>2017 rows × 17 columns</p>\n",
              "</div>\n",
              "      <button class=\"colab-df-convert\" onclick=\"convertToInteractive('df-c390cb3e-a2ce-4acc-8d9e-fdf417edfe48')\"\n",
              "              title=\"Convert this dataframe to an interactive table.\"\n",
              "              style=\"display:none;\">\n",
              "        \n",
              "  <svg xmlns=\"http://www.w3.org/2000/svg\" height=\"24px\"viewBox=\"0 0 24 24\"\n",
              "       width=\"24px\">\n",
              "    <path d=\"M0 0h24v24H0V0z\" fill=\"none\"/>\n",
              "    <path d=\"M18.56 5.44l.94 2.06.94-2.06 2.06-.94-2.06-.94-.94-2.06-.94 2.06-2.06.94zm-11 1L8.5 8.5l.94-2.06 2.06-.94-2.06-.94L8.5 2.5l-.94 2.06-2.06.94zm10 10l.94 2.06.94-2.06 2.06-.94-2.06-.94-.94-2.06-.94 2.06-2.06.94z\"/><path d=\"M17.41 7.96l-1.37-1.37c-.4-.4-.92-.59-1.43-.59-.52 0-1.04.2-1.43.59L10.3 9.45l-7.72 7.72c-.78.78-.78 2.05 0 2.83L4 21.41c.39.39.9.59 1.41.59.51 0 1.02-.2 1.41-.59l7.78-7.78 2.81-2.81c.8-.78.8-2.07 0-2.86zM5.41 20L4 18.59l7.72-7.72 1.47 1.35L5.41 20z\"/>\n",
              "  </svg>\n",
              "      </button>\n",
              "      \n",
              "  <style>\n",
              "    .colab-df-container {\n",
              "      display:flex;\n",
              "      flex-wrap:wrap;\n",
              "      gap: 12px;\n",
              "    }\n",
              "\n",
              "    .colab-df-convert {\n",
              "      background-color: #E8F0FE;\n",
              "      border: none;\n",
              "      border-radius: 50%;\n",
              "      cursor: pointer;\n",
              "      display: none;\n",
              "      fill: #1967D2;\n",
              "      height: 32px;\n",
              "      padding: 0 0 0 0;\n",
              "      width: 32px;\n",
              "    }\n",
              "\n",
              "    .colab-df-convert:hover {\n",
              "      background-color: #E2EBFA;\n",
              "      box-shadow: 0px 1px 2px rgba(60, 64, 67, 0.3), 0px 1px 3px 1px rgba(60, 64, 67, 0.15);\n",
              "      fill: #174EA6;\n",
              "    }\n",
              "\n",
              "    [theme=dark] .colab-df-convert {\n",
              "      background-color: #3B4455;\n",
              "      fill: #D2E3FC;\n",
              "    }\n",
              "\n",
              "    [theme=dark] .colab-df-convert:hover {\n",
              "      background-color: #434B5C;\n",
              "      box-shadow: 0px 1px 3px 1px rgba(0, 0, 0, 0.15);\n",
              "      filter: drop-shadow(0px 1px 2px rgba(0, 0, 0, 0.3));\n",
              "      fill: #FFFFFF;\n",
              "    }\n",
              "  </style>\n",
              "\n",
              "      <script>\n",
              "        const buttonEl =\n",
              "          document.querySelector('#df-c390cb3e-a2ce-4acc-8d9e-fdf417edfe48 button.colab-df-convert');\n",
              "        buttonEl.style.display =\n",
              "          google.colab.kernel.accessAllowed ? 'block' : 'none';\n",
              "\n",
              "        async function convertToInteractive(key) {\n",
              "          const element = document.querySelector('#df-c390cb3e-a2ce-4acc-8d9e-fdf417edfe48');\n",
              "          const dataTable =\n",
              "            await google.colab.kernel.invokeFunction('convertToInteractive',\n",
              "                                                     [key], {});\n",
              "          if (!dataTable) return;\n",
              "\n",
              "          const docLinkHtml = 'Like what you see? Visit the ' +\n",
              "            '<a target=\"_blank\" href=https://colab.research.google.com/notebooks/data_table.ipynb>data table notebook</a>'\n",
              "            + ' to learn more about interactive tables.';\n",
              "          element.innerHTML = '';\n",
              "          dataTable['output_type'] = 'display_data';\n",
              "          await google.colab.output.renderOutput(dataTable, element);\n",
              "          const docLink = document.createElement('div');\n",
              "          docLink.innerHTML = docLinkHtml;\n",
              "          element.appendChild(docLink);\n",
              "        }\n",
              "      </script>\n",
              "    </div>\n",
              "  </div>\n",
              "  "
            ]
          },
          "metadata": {},
          "execution_count": 6
        }
      ]
    },
    {
      "cell_type": "code",
      "source": [
        "music_dataset.head()"
      ],
      "metadata": {
        "colab": {
          "base_uri": "https://localhost:8080/",
          "height": 357
        },
        "id": "bWHV0GTirb3c",
        "outputId": "243e4f56-87ab-4869-d72a-c753de07892b"
      },
      "execution_count": 7,
      "outputs": [
        {
          "output_type": "execute_result",
          "data": {
            "text/plain": [
              "   Unnamed: 0  acousticness  danceability  duration_ms  energy  \\\n",
              "0           0        0.0102         0.833       204600   0.434   \n",
              "1           1        0.1990         0.743       326933   0.359   \n",
              "2           2        0.0344         0.838       185707   0.412   \n",
              "3           3        0.6040         0.494       199413   0.338   \n",
              "4           4        0.1800         0.678       392893   0.561   \n",
              "\n",
              "   instrumentalness  key  liveness  loudness  mode  speechiness    tempo  \\\n",
              "0          0.021900    2    0.1650    -8.795     1       0.4310  150.062   \n",
              "1          0.006110    1    0.1370   -10.401     1       0.0794  160.083   \n",
              "2          0.000234    2    0.1590    -7.148     1       0.2890   75.044   \n",
              "3          0.510000    5    0.0922   -15.236     1       0.0261   86.468   \n",
              "4          0.512000    5    0.4390   -11.648     0       0.0694  174.004   \n",
              "\n",
              "   time_signature  valence  target      song_title            artist  \n",
              "0               4    0.286       1        Mask Off            Future  \n",
              "1               4    0.588       1         Redbone  Childish Gambino  \n",
              "2               4    0.173       1    Xanny Family            Future  \n",
              "3               4    0.230       1  Master Of None       Beach House  \n",
              "4               4    0.904       1  Parallel Lines       Junior Boys  "
            ],
            "text/html": [
              "\n",
              "  <div id=\"df-83dd44ac-1a94-4859-9a66-957e489fbe82\">\n",
              "    <div class=\"colab-df-container\">\n",
              "      <div>\n",
              "<style scoped>\n",
              "    .dataframe tbody tr th:only-of-type {\n",
              "        vertical-align: middle;\n",
              "    }\n",
              "\n",
              "    .dataframe tbody tr th {\n",
              "        vertical-align: top;\n",
              "    }\n",
              "\n",
              "    .dataframe thead th {\n",
              "        text-align: right;\n",
              "    }\n",
              "</style>\n",
              "<table border=\"1\" class=\"dataframe\">\n",
              "  <thead>\n",
              "    <tr style=\"text-align: right;\">\n",
              "      <th></th>\n",
              "      <th>Unnamed: 0</th>\n",
              "      <th>acousticness</th>\n",
              "      <th>danceability</th>\n",
              "      <th>duration_ms</th>\n",
              "      <th>energy</th>\n",
              "      <th>instrumentalness</th>\n",
              "      <th>key</th>\n",
              "      <th>liveness</th>\n",
              "      <th>loudness</th>\n",
              "      <th>mode</th>\n",
              "      <th>speechiness</th>\n",
              "      <th>tempo</th>\n",
              "      <th>time_signature</th>\n",
              "      <th>valence</th>\n",
              "      <th>target</th>\n",
              "      <th>song_title</th>\n",
              "      <th>artist</th>\n",
              "    </tr>\n",
              "  </thead>\n",
              "  <tbody>\n",
              "    <tr>\n",
              "      <th>0</th>\n",
              "      <td>0</td>\n",
              "      <td>0.0102</td>\n",
              "      <td>0.833</td>\n",
              "      <td>204600</td>\n",
              "      <td>0.434</td>\n",
              "      <td>0.021900</td>\n",
              "      <td>2</td>\n",
              "      <td>0.1650</td>\n",
              "      <td>-8.795</td>\n",
              "      <td>1</td>\n",
              "      <td>0.4310</td>\n",
              "      <td>150.062</td>\n",
              "      <td>4</td>\n",
              "      <td>0.286</td>\n",
              "      <td>1</td>\n",
              "      <td>Mask Off</td>\n",
              "      <td>Future</td>\n",
              "    </tr>\n",
              "    <tr>\n",
              "      <th>1</th>\n",
              "      <td>1</td>\n",
              "      <td>0.1990</td>\n",
              "      <td>0.743</td>\n",
              "      <td>326933</td>\n",
              "      <td>0.359</td>\n",
              "      <td>0.006110</td>\n",
              "      <td>1</td>\n",
              "      <td>0.1370</td>\n",
              "      <td>-10.401</td>\n",
              "      <td>1</td>\n",
              "      <td>0.0794</td>\n",
              "      <td>160.083</td>\n",
              "      <td>4</td>\n",
              "      <td>0.588</td>\n",
              "      <td>1</td>\n",
              "      <td>Redbone</td>\n",
              "      <td>Childish Gambino</td>\n",
              "    </tr>\n",
              "    <tr>\n",
              "      <th>2</th>\n",
              "      <td>2</td>\n",
              "      <td>0.0344</td>\n",
              "      <td>0.838</td>\n",
              "      <td>185707</td>\n",
              "      <td>0.412</td>\n",
              "      <td>0.000234</td>\n",
              "      <td>2</td>\n",
              "      <td>0.1590</td>\n",
              "      <td>-7.148</td>\n",
              "      <td>1</td>\n",
              "      <td>0.2890</td>\n",
              "      <td>75.044</td>\n",
              "      <td>4</td>\n",
              "      <td>0.173</td>\n",
              "      <td>1</td>\n",
              "      <td>Xanny Family</td>\n",
              "      <td>Future</td>\n",
              "    </tr>\n",
              "    <tr>\n",
              "      <th>3</th>\n",
              "      <td>3</td>\n",
              "      <td>0.6040</td>\n",
              "      <td>0.494</td>\n",
              "      <td>199413</td>\n",
              "      <td>0.338</td>\n",
              "      <td>0.510000</td>\n",
              "      <td>5</td>\n",
              "      <td>0.0922</td>\n",
              "      <td>-15.236</td>\n",
              "      <td>1</td>\n",
              "      <td>0.0261</td>\n",
              "      <td>86.468</td>\n",
              "      <td>4</td>\n",
              "      <td>0.230</td>\n",
              "      <td>1</td>\n",
              "      <td>Master Of None</td>\n",
              "      <td>Beach House</td>\n",
              "    </tr>\n",
              "    <tr>\n",
              "      <th>4</th>\n",
              "      <td>4</td>\n",
              "      <td>0.1800</td>\n",
              "      <td>0.678</td>\n",
              "      <td>392893</td>\n",
              "      <td>0.561</td>\n",
              "      <td>0.512000</td>\n",
              "      <td>5</td>\n",
              "      <td>0.4390</td>\n",
              "      <td>-11.648</td>\n",
              "      <td>0</td>\n",
              "      <td>0.0694</td>\n",
              "      <td>174.004</td>\n",
              "      <td>4</td>\n",
              "      <td>0.904</td>\n",
              "      <td>1</td>\n",
              "      <td>Parallel Lines</td>\n",
              "      <td>Junior Boys</td>\n",
              "    </tr>\n",
              "  </tbody>\n",
              "</table>\n",
              "</div>\n",
              "      <button class=\"colab-df-convert\" onclick=\"convertToInteractive('df-83dd44ac-1a94-4859-9a66-957e489fbe82')\"\n",
              "              title=\"Convert this dataframe to an interactive table.\"\n",
              "              style=\"display:none;\">\n",
              "        \n",
              "  <svg xmlns=\"http://www.w3.org/2000/svg\" height=\"24px\"viewBox=\"0 0 24 24\"\n",
              "       width=\"24px\">\n",
              "    <path d=\"M0 0h24v24H0V0z\" fill=\"none\"/>\n",
              "    <path d=\"M18.56 5.44l.94 2.06.94-2.06 2.06-.94-2.06-.94-.94-2.06-.94 2.06-2.06.94zm-11 1L8.5 8.5l.94-2.06 2.06-.94-2.06-.94L8.5 2.5l-.94 2.06-2.06.94zm10 10l.94 2.06.94-2.06 2.06-.94-2.06-.94-.94-2.06-.94 2.06-2.06.94z\"/><path d=\"M17.41 7.96l-1.37-1.37c-.4-.4-.92-.59-1.43-.59-.52 0-1.04.2-1.43.59L10.3 9.45l-7.72 7.72c-.78.78-.78 2.05 0 2.83L4 21.41c.39.39.9.59 1.41.59.51 0 1.02-.2 1.41-.59l7.78-7.78 2.81-2.81c.8-.78.8-2.07 0-2.86zM5.41 20L4 18.59l7.72-7.72 1.47 1.35L5.41 20z\"/>\n",
              "  </svg>\n",
              "      </button>\n",
              "      \n",
              "  <style>\n",
              "    .colab-df-container {\n",
              "      display:flex;\n",
              "      flex-wrap:wrap;\n",
              "      gap: 12px;\n",
              "    }\n",
              "\n",
              "    .colab-df-convert {\n",
              "      background-color: #E8F0FE;\n",
              "      border: none;\n",
              "      border-radius: 50%;\n",
              "      cursor: pointer;\n",
              "      display: none;\n",
              "      fill: #1967D2;\n",
              "      height: 32px;\n",
              "      padding: 0 0 0 0;\n",
              "      width: 32px;\n",
              "    }\n",
              "\n",
              "    .colab-df-convert:hover {\n",
              "      background-color: #E2EBFA;\n",
              "      box-shadow: 0px 1px 2px rgba(60, 64, 67, 0.3), 0px 1px 3px 1px rgba(60, 64, 67, 0.15);\n",
              "      fill: #174EA6;\n",
              "    }\n",
              "\n",
              "    [theme=dark] .colab-df-convert {\n",
              "      background-color: #3B4455;\n",
              "      fill: #D2E3FC;\n",
              "    }\n",
              "\n",
              "    [theme=dark] .colab-df-convert:hover {\n",
              "      background-color: #434B5C;\n",
              "      box-shadow: 0px 1px 3px 1px rgba(0, 0, 0, 0.15);\n",
              "      filter: drop-shadow(0px 1px 2px rgba(0, 0, 0, 0.3));\n",
              "      fill: #FFFFFF;\n",
              "    }\n",
              "  </style>\n",
              "\n",
              "      <script>\n",
              "        const buttonEl =\n",
              "          document.querySelector('#df-83dd44ac-1a94-4859-9a66-957e489fbe82 button.colab-df-convert');\n",
              "        buttonEl.style.display =\n",
              "          google.colab.kernel.accessAllowed ? 'block' : 'none';\n",
              "\n",
              "        async function convertToInteractive(key) {\n",
              "          const element = document.querySelector('#df-83dd44ac-1a94-4859-9a66-957e489fbe82');\n",
              "          const dataTable =\n",
              "            await google.colab.kernel.invokeFunction('convertToInteractive',\n",
              "                                                     [key], {});\n",
              "          if (!dataTable) return;\n",
              "\n",
              "          const docLinkHtml = 'Like what you see? Visit the ' +\n",
              "            '<a target=\"_blank\" href=https://colab.research.google.com/notebooks/data_table.ipynb>data table notebook</a>'\n",
              "            + ' to learn more about interactive tables.';\n",
              "          element.innerHTML = '';\n",
              "          dataTable['output_type'] = 'display_data';\n",
              "          await google.colab.output.renderOutput(dataTable, element);\n",
              "          const docLink = document.createElement('div');\n",
              "          docLink.innerHTML = docLinkHtml;\n",
              "          element.appendChild(docLink);\n",
              "        }\n",
              "      </script>\n",
              "    </div>\n",
              "  </div>\n",
              "  "
            ]
          },
          "metadata": {},
          "execution_count": 7
        }
      ]
    },
    {
      "cell_type": "code",
      "source": [
        "music_dataset.shape"
      ],
      "metadata": {
        "colab": {
          "base_uri": "https://localhost:8080/"
        },
        "id": "2aS5UxSYrecs",
        "outputId": "344d1b38-0758-4350-83b2-53bf8d3c7b32"
      },
      "execution_count": 8,
      "outputs": [
        {
          "output_type": "execute_result",
          "data": {
            "text/plain": [
              "(2017, 17)"
            ]
          },
          "metadata": {},
          "execution_count": 8
        }
      ]
    },
    {
      "cell_type": "code",
      "source": [
        "music_dataset.info()"
      ],
      "metadata": {
        "colab": {
          "base_uri": "https://localhost:8080/"
        },
        "id": "Ltj8_AgcrgzE",
        "outputId": "805e14d5-91cd-49a8-8ec2-0a950c5894a6"
      },
      "execution_count": 9,
      "outputs": [
        {
          "output_type": "stream",
          "name": "stdout",
          "text": [
            "<class 'pandas.core.frame.DataFrame'>\n",
            "RangeIndex: 2017 entries, 0 to 2016\n",
            "Data columns (total 17 columns):\n",
            " #   Column            Non-Null Count  Dtype  \n",
            "---  ------            --------------  -----  \n",
            " 0   Unnamed: 0        2017 non-null   int64  \n",
            " 1   acousticness      2017 non-null   float64\n",
            " 2   danceability      2017 non-null   float64\n",
            " 3   duration_ms       2017 non-null   int64  \n",
            " 4   energy            2017 non-null   float64\n",
            " 5   instrumentalness  2017 non-null   float64\n",
            " 6   key               2017 non-null   int64  \n",
            " 7   liveness          2017 non-null   float64\n",
            " 8   loudness          2017 non-null   float64\n",
            " 9   mode              2017 non-null   int64  \n",
            " 10  speechiness       2017 non-null   float64\n",
            " 11  tempo             2017 non-null   float64\n",
            " 12  time_signature    2017 non-null   int64  \n",
            " 13  valence           2017 non-null   float64\n",
            " 14  target            2017 non-null   int64  \n",
            " 15  song_title        2017 non-null   object \n",
            " 16  artist            2017 non-null   object \n",
            "dtypes: float64(9), int64(6), object(2)\n",
            "memory usage: 268.0+ KB\n"
          ]
        }
      ]
    },
    {
      "cell_type": "code",
      "source": [
        "music_dataset.describe()"
      ],
      "metadata": {
        "colab": {
          "base_uri": "https://localhost:8080/",
          "height": 364
        },
        "id": "tFMxsP5LrjoU",
        "outputId": "3ca56275-bdbe-4855-a232-59a58d26ba17"
      },
      "execution_count": 10,
      "outputs": [
        {
          "output_type": "execute_result",
          "data": {
            "text/plain": [
              "        Unnamed: 0  acousticness  danceability   duration_ms       energy  \\\n",
              "count  2017.000000   2017.000000   2017.000000  2.017000e+03  2017.000000   \n",
              "mean   1008.000000      0.187590      0.618422  2.463062e+05     0.681577   \n",
              "std     582.402066      0.259989      0.161029  8.198181e+04     0.210273   \n",
              "min       0.000000      0.000003      0.122000  1.604200e+04     0.014800   \n",
              "25%     504.000000      0.009630      0.514000  2.000150e+05     0.563000   \n",
              "50%    1008.000000      0.063300      0.631000  2.292610e+05     0.715000   \n",
              "75%    1512.000000      0.265000      0.738000  2.703330e+05     0.846000   \n",
              "max    2016.000000      0.995000      0.984000  1.004627e+06     0.998000   \n",
              "\n",
              "       instrumentalness          key     liveness     loudness         mode  \\\n",
              "count       2017.000000  2017.000000  2017.000000  2017.000000  2017.000000   \n",
              "mean           0.133286     5.342588     0.190844    -7.085624     0.612295   \n",
              "std            0.273162     3.648240     0.155453     3.761684     0.487347   \n",
              "min            0.000000     0.000000     0.018800   -33.097000     0.000000   \n",
              "25%            0.000000     2.000000     0.092300    -8.394000     0.000000   \n",
              "50%            0.000076     6.000000     0.127000    -6.248000     1.000000   \n",
              "75%            0.054000     9.000000     0.247000    -4.746000     1.000000   \n",
              "max            0.976000    11.000000     0.969000    -0.307000     1.000000   \n",
              "\n",
              "       speechiness        tempo  time_signature      valence       target  \n",
              "count  2017.000000  2017.000000     2017.000000  2017.000000  2017.000000  \n",
              "mean      0.092664   121.603272        3.968270     0.496815     0.505702  \n",
              "std       0.089931    26.685604        0.255853     0.247195     0.500091  \n",
              "min       0.023100    47.859000        1.000000     0.034800     0.000000  \n",
              "25%       0.037500   100.189000        4.000000     0.295000     0.000000  \n",
              "50%       0.054900   121.427000        4.000000     0.492000     1.000000  \n",
              "75%       0.108000   137.849000        4.000000     0.691000     1.000000  \n",
              "max       0.816000   219.331000        5.000000     0.992000     1.000000  "
            ],
            "text/html": [
              "\n",
              "  <div id=\"df-b4ce5ab1-0a01-4f17-b8f0-c091ae57d7d4\">\n",
              "    <div class=\"colab-df-container\">\n",
              "      <div>\n",
              "<style scoped>\n",
              "    .dataframe tbody tr th:only-of-type {\n",
              "        vertical-align: middle;\n",
              "    }\n",
              "\n",
              "    .dataframe tbody tr th {\n",
              "        vertical-align: top;\n",
              "    }\n",
              "\n",
              "    .dataframe thead th {\n",
              "        text-align: right;\n",
              "    }\n",
              "</style>\n",
              "<table border=\"1\" class=\"dataframe\">\n",
              "  <thead>\n",
              "    <tr style=\"text-align: right;\">\n",
              "      <th></th>\n",
              "      <th>Unnamed: 0</th>\n",
              "      <th>acousticness</th>\n",
              "      <th>danceability</th>\n",
              "      <th>duration_ms</th>\n",
              "      <th>energy</th>\n",
              "      <th>instrumentalness</th>\n",
              "      <th>key</th>\n",
              "      <th>liveness</th>\n",
              "      <th>loudness</th>\n",
              "      <th>mode</th>\n",
              "      <th>speechiness</th>\n",
              "      <th>tempo</th>\n",
              "      <th>time_signature</th>\n",
              "      <th>valence</th>\n",
              "      <th>target</th>\n",
              "    </tr>\n",
              "  </thead>\n",
              "  <tbody>\n",
              "    <tr>\n",
              "      <th>count</th>\n",
              "      <td>2017.000000</td>\n",
              "      <td>2017.000000</td>\n",
              "      <td>2017.000000</td>\n",
              "      <td>2.017000e+03</td>\n",
              "      <td>2017.000000</td>\n",
              "      <td>2017.000000</td>\n",
              "      <td>2017.000000</td>\n",
              "      <td>2017.000000</td>\n",
              "      <td>2017.000000</td>\n",
              "      <td>2017.000000</td>\n",
              "      <td>2017.000000</td>\n",
              "      <td>2017.000000</td>\n",
              "      <td>2017.000000</td>\n",
              "      <td>2017.000000</td>\n",
              "      <td>2017.000000</td>\n",
              "    </tr>\n",
              "    <tr>\n",
              "      <th>mean</th>\n",
              "      <td>1008.000000</td>\n",
              "      <td>0.187590</td>\n",
              "      <td>0.618422</td>\n",
              "      <td>2.463062e+05</td>\n",
              "      <td>0.681577</td>\n",
              "      <td>0.133286</td>\n",
              "      <td>5.342588</td>\n",
              "      <td>0.190844</td>\n",
              "      <td>-7.085624</td>\n",
              "      <td>0.612295</td>\n",
              "      <td>0.092664</td>\n",
              "      <td>121.603272</td>\n",
              "      <td>3.968270</td>\n",
              "      <td>0.496815</td>\n",
              "      <td>0.505702</td>\n",
              "    </tr>\n",
              "    <tr>\n",
              "      <th>std</th>\n",
              "      <td>582.402066</td>\n",
              "      <td>0.259989</td>\n",
              "      <td>0.161029</td>\n",
              "      <td>8.198181e+04</td>\n",
              "      <td>0.210273</td>\n",
              "      <td>0.273162</td>\n",
              "      <td>3.648240</td>\n",
              "      <td>0.155453</td>\n",
              "      <td>3.761684</td>\n",
              "      <td>0.487347</td>\n",
              "      <td>0.089931</td>\n",
              "      <td>26.685604</td>\n",
              "      <td>0.255853</td>\n",
              "      <td>0.247195</td>\n",
              "      <td>0.500091</td>\n",
              "    </tr>\n",
              "    <tr>\n",
              "      <th>min</th>\n",
              "      <td>0.000000</td>\n",
              "      <td>0.000003</td>\n",
              "      <td>0.122000</td>\n",
              "      <td>1.604200e+04</td>\n",
              "      <td>0.014800</td>\n",
              "      <td>0.000000</td>\n",
              "      <td>0.000000</td>\n",
              "      <td>0.018800</td>\n",
              "      <td>-33.097000</td>\n",
              "      <td>0.000000</td>\n",
              "      <td>0.023100</td>\n",
              "      <td>47.859000</td>\n",
              "      <td>1.000000</td>\n",
              "      <td>0.034800</td>\n",
              "      <td>0.000000</td>\n",
              "    </tr>\n",
              "    <tr>\n",
              "      <th>25%</th>\n",
              "      <td>504.000000</td>\n",
              "      <td>0.009630</td>\n",
              "      <td>0.514000</td>\n",
              "      <td>2.000150e+05</td>\n",
              "      <td>0.563000</td>\n",
              "      <td>0.000000</td>\n",
              "      <td>2.000000</td>\n",
              "      <td>0.092300</td>\n",
              "      <td>-8.394000</td>\n",
              "      <td>0.000000</td>\n",
              "      <td>0.037500</td>\n",
              "      <td>100.189000</td>\n",
              "      <td>4.000000</td>\n",
              "      <td>0.295000</td>\n",
              "      <td>0.000000</td>\n",
              "    </tr>\n",
              "    <tr>\n",
              "      <th>50%</th>\n",
              "      <td>1008.000000</td>\n",
              "      <td>0.063300</td>\n",
              "      <td>0.631000</td>\n",
              "      <td>2.292610e+05</td>\n",
              "      <td>0.715000</td>\n",
              "      <td>0.000076</td>\n",
              "      <td>6.000000</td>\n",
              "      <td>0.127000</td>\n",
              "      <td>-6.248000</td>\n",
              "      <td>1.000000</td>\n",
              "      <td>0.054900</td>\n",
              "      <td>121.427000</td>\n",
              "      <td>4.000000</td>\n",
              "      <td>0.492000</td>\n",
              "      <td>1.000000</td>\n",
              "    </tr>\n",
              "    <tr>\n",
              "      <th>75%</th>\n",
              "      <td>1512.000000</td>\n",
              "      <td>0.265000</td>\n",
              "      <td>0.738000</td>\n",
              "      <td>2.703330e+05</td>\n",
              "      <td>0.846000</td>\n",
              "      <td>0.054000</td>\n",
              "      <td>9.000000</td>\n",
              "      <td>0.247000</td>\n",
              "      <td>-4.746000</td>\n",
              "      <td>1.000000</td>\n",
              "      <td>0.108000</td>\n",
              "      <td>137.849000</td>\n",
              "      <td>4.000000</td>\n",
              "      <td>0.691000</td>\n",
              "      <td>1.000000</td>\n",
              "    </tr>\n",
              "    <tr>\n",
              "      <th>max</th>\n",
              "      <td>2016.000000</td>\n",
              "      <td>0.995000</td>\n",
              "      <td>0.984000</td>\n",
              "      <td>1.004627e+06</td>\n",
              "      <td>0.998000</td>\n",
              "      <td>0.976000</td>\n",
              "      <td>11.000000</td>\n",
              "      <td>0.969000</td>\n",
              "      <td>-0.307000</td>\n",
              "      <td>1.000000</td>\n",
              "      <td>0.816000</td>\n",
              "      <td>219.331000</td>\n",
              "      <td>5.000000</td>\n",
              "      <td>0.992000</td>\n",
              "      <td>1.000000</td>\n",
              "    </tr>\n",
              "  </tbody>\n",
              "</table>\n",
              "</div>\n",
              "      <button class=\"colab-df-convert\" onclick=\"convertToInteractive('df-b4ce5ab1-0a01-4f17-b8f0-c091ae57d7d4')\"\n",
              "              title=\"Convert this dataframe to an interactive table.\"\n",
              "              style=\"display:none;\">\n",
              "        \n",
              "  <svg xmlns=\"http://www.w3.org/2000/svg\" height=\"24px\"viewBox=\"0 0 24 24\"\n",
              "       width=\"24px\">\n",
              "    <path d=\"M0 0h24v24H0V0z\" fill=\"none\"/>\n",
              "    <path d=\"M18.56 5.44l.94 2.06.94-2.06 2.06-.94-2.06-.94-.94-2.06-.94 2.06-2.06.94zm-11 1L8.5 8.5l.94-2.06 2.06-.94-2.06-.94L8.5 2.5l-.94 2.06-2.06.94zm10 10l.94 2.06.94-2.06 2.06-.94-2.06-.94-.94-2.06-.94 2.06-2.06.94z\"/><path d=\"M17.41 7.96l-1.37-1.37c-.4-.4-.92-.59-1.43-.59-.52 0-1.04.2-1.43.59L10.3 9.45l-7.72 7.72c-.78.78-.78 2.05 0 2.83L4 21.41c.39.39.9.59 1.41.59.51 0 1.02-.2 1.41-.59l7.78-7.78 2.81-2.81c.8-.78.8-2.07 0-2.86zM5.41 20L4 18.59l7.72-7.72 1.47 1.35L5.41 20z\"/>\n",
              "  </svg>\n",
              "      </button>\n",
              "      \n",
              "  <style>\n",
              "    .colab-df-container {\n",
              "      display:flex;\n",
              "      flex-wrap:wrap;\n",
              "      gap: 12px;\n",
              "    }\n",
              "\n",
              "    .colab-df-convert {\n",
              "      background-color: #E8F0FE;\n",
              "      border: none;\n",
              "      border-radius: 50%;\n",
              "      cursor: pointer;\n",
              "      display: none;\n",
              "      fill: #1967D2;\n",
              "      height: 32px;\n",
              "      padding: 0 0 0 0;\n",
              "      width: 32px;\n",
              "    }\n",
              "\n",
              "    .colab-df-convert:hover {\n",
              "      background-color: #E2EBFA;\n",
              "      box-shadow: 0px 1px 2px rgba(60, 64, 67, 0.3), 0px 1px 3px 1px rgba(60, 64, 67, 0.15);\n",
              "      fill: #174EA6;\n",
              "    }\n",
              "\n",
              "    [theme=dark] .colab-df-convert {\n",
              "      background-color: #3B4455;\n",
              "      fill: #D2E3FC;\n",
              "    }\n",
              "\n",
              "    [theme=dark] .colab-df-convert:hover {\n",
              "      background-color: #434B5C;\n",
              "      box-shadow: 0px 1px 3px 1px rgba(0, 0, 0, 0.15);\n",
              "      filter: drop-shadow(0px 1px 2px rgba(0, 0, 0, 0.3));\n",
              "      fill: #FFFFFF;\n",
              "    }\n",
              "  </style>\n",
              "\n",
              "      <script>\n",
              "        const buttonEl =\n",
              "          document.querySelector('#df-b4ce5ab1-0a01-4f17-b8f0-c091ae57d7d4 button.colab-df-convert');\n",
              "        buttonEl.style.display =\n",
              "          google.colab.kernel.accessAllowed ? 'block' : 'none';\n",
              "\n",
              "        async function convertToInteractive(key) {\n",
              "          const element = document.querySelector('#df-b4ce5ab1-0a01-4f17-b8f0-c091ae57d7d4');\n",
              "          const dataTable =\n",
              "            await google.colab.kernel.invokeFunction('convertToInteractive',\n",
              "                                                     [key], {});\n",
              "          if (!dataTable) return;\n",
              "\n",
              "          const docLinkHtml = 'Like what you see? Visit the ' +\n",
              "            '<a target=\"_blank\" href=https://colab.research.google.com/notebooks/data_table.ipynb>data table notebook</a>'\n",
              "            + ' to learn more about interactive tables.';\n",
              "          element.innerHTML = '';\n",
              "          dataTable['output_type'] = 'display_data';\n",
              "          await google.colab.output.renderOutput(dataTable, element);\n",
              "          const docLink = document.createElement('div');\n",
              "          docLink.innerHTML = docLinkHtml;\n",
              "          element.appendChild(docLink);\n",
              "        }\n",
              "      </script>\n",
              "    </div>\n",
              "  </div>\n",
              "  "
            ]
          },
          "metadata": {},
          "execution_count": 10
        }
      ]
    },
    {
      "cell_type": "code",
      "source": [
        "music_dataset.isnull().sum()"
      ],
      "metadata": {
        "colab": {
          "base_uri": "https://localhost:8080/"
        },
        "id": "pdEdh83GrnaU",
        "outputId": "51d6dda0-f55a-41e7-8c7f-2aa1d9d467de"
      },
      "execution_count": 11,
      "outputs": [
        {
          "output_type": "execute_result",
          "data": {
            "text/plain": [
              "Unnamed: 0          0\n",
              "acousticness        0\n",
              "danceability        0\n",
              "duration_ms         0\n",
              "energy              0\n",
              "instrumentalness    0\n",
              "key                 0\n",
              "liveness            0\n",
              "loudness            0\n",
              "mode                0\n",
              "speechiness         0\n",
              "tempo               0\n",
              "time_signature      0\n",
              "valence             0\n",
              "target              0\n",
              "song_title          0\n",
              "artist              0\n",
              "dtype: int64"
            ]
          },
          "metadata": {},
          "execution_count": 11
        }
      ]
    },
    {
      "cell_type": "code",
      "source": [
        "music_dataset['target'].value_counts()"
      ],
      "metadata": {
        "colab": {
          "base_uri": "https://localhost:8080/"
        },
        "id": "SsUzT3iXr1K0",
        "outputId": "e8e5688a-f0bd-41a5-ecc9-26c433ebe2b7"
      },
      "execution_count": 29,
      "outputs": [
        {
          "output_type": "execute_result",
          "data": {
            "text/plain": [
              "1    1020\n",
              "0     997\n",
              "Name: target, dtype: int64"
            ]
          },
          "metadata": {},
          "execution_count": 29
        }
      ]
    },
    {
      "cell_type": "code",
      "source": [
        "# seperating data and labels\n",
        "X = music_dataset.drop(columns = ['song_title', 'artist', 'target'], axis = 1)\n",
        "Y = music_dataset['target']"
      ],
      "metadata": {
        "id": "jNbKDjaNsP1U"
      },
      "execution_count": 40,
      "outputs": []
    },
    {
      "cell_type": "code",
      "source": [
        "print(X)"
      ],
      "metadata": {
        "colab": {
          "base_uri": "https://localhost:8080/"
        },
        "id": "k-oCLzI5sfOk",
        "outputId": "7029ae10-edcf-4f1c-a5cf-08a49b0cd41a"
      },
      "execution_count": 41,
      "outputs": [
        {
          "output_type": "stream",
          "name": "stdout",
          "text": [
            "      Unnamed: 0  acousticness  danceability  duration_ms  energy  \\\n",
            "0              0       0.01020         0.833       204600   0.434   \n",
            "1              1       0.19900         0.743       326933   0.359   \n",
            "2              2       0.03440         0.838       185707   0.412   \n",
            "3              3       0.60400         0.494       199413   0.338   \n",
            "4              4       0.18000         0.678       392893   0.561   \n",
            "...          ...           ...           ...          ...     ...   \n",
            "2012        2012       0.00106         0.584       274404   0.932   \n",
            "2013        2013       0.08770         0.894       182182   0.892   \n",
            "2014        2014       0.00857         0.637       207200   0.935   \n",
            "2015        2015       0.00164         0.557       185600   0.992   \n",
            "2016        2016       0.00281         0.446       204520   0.915   \n",
            "\n",
            "      instrumentalness  key  liveness  loudness  mode  speechiness    tempo  \\\n",
            "0             0.021900    2    0.1650    -8.795     1       0.4310  150.062   \n",
            "1             0.006110    1    0.1370   -10.401     1       0.0794  160.083   \n",
            "2             0.000234    2    0.1590    -7.148     1       0.2890   75.044   \n",
            "3             0.510000    5    0.0922   -15.236     1       0.0261   86.468   \n",
            "4             0.512000    5    0.4390   -11.648     0       0.0694  174.004   \n",
            "...                ...  ...       ...       ...   ...          ...      ...   \n",
            "2012          0.002690    1    0.1290    -3.501     1       0.3330   74.976   \n",
            "2013          0.001670    1    0.0528    -2.663     1       0.1310  110.041   \n",
            "2014          0.003990    0    0.2140    -2.467     1       0.1070  150.082   \n",
            "2015          0.677000    1    0.0913    -2.735     1       0.1330  150.011   \n",
            "2016          0.000039    9    0.2180    -6.221     1       0.1410  190.013   \n",
            "\n",
            "      time_signature  valence  \n",
            "0                  4    0.286  \n",
            "1                  4    0.588  \n",
            "2                  4    0.173  \n",
            "3                  4    0.230  \n",
            "4                  4    0.904  \n",
            "...              ...      ...  \n",
            "2012               4    0.211  \n",
            "2013               4    0.867  \n",
            "2014               4    0.470  \n",
            "2015               4    0.623  \n",
            "2016               4    0.402  \n",
            "\n",
            "[2017 rows x 14 columns]\n"
          ]
        }
      ]
    },
    {
      "cell_type": "code",
      "source": [
        "print(Y)"
      ],
      "metadata": {
        "colab": {
          "base_uri": "https://localhost:8080/"
        },
        "id": "fj7jNopPsgYz",
        "outputId": "eb9fd14e-5a23-44a7-ac51-9b0798d09ee5"
      },
      "execution_count": 42,
      "outputs": [
        {
          "output_type": "stream",
          "name": "stdout",
          "text": [
            "0       1\n",
            "1       1\n",
            "2       1\n",
            "3       1\n",
            "4       1\n",
            "       ..\n",
            "2012    0\n",
            "2013    0\n",
            "2014    0\n",
            "2015    0\n",
            "2016    0\n",
            "Name: target, Length: 2017, dtype: int64\n"
          ]
        }
      ]
    },
    {
      "cell_type": "markdown",
      "source": [
        "**Visualize the dataset**"
      ],
      "metadata": {
        "id": "khDRVn1Xsost"
      }
    },
    {
      "cell_type": "code",
      "source": [
        "# mode\n",
        "sns.set()\n",
        "plt.figure(figsize = (6,6))\n",
        "sns.countplot(x = 'mode', data = music_dataset)\n",
        "plt.title('Mode')\n",
        "plt.show()"
      ],
      "metadata": {
        "colab": {
          "base_uri": "https://localhost:8080/",
          "height": 410
        },
        "id": "4OLnD_oTsr4E",
        "outputId": "022654ed-c1e6-4916-e229-0b0203dd8064"
      },
      "execution_count": 43,
      "outputs": [
        {
          "output_type": "display_data",
          "data": {
            "text/plain": [
              "<Figure size 432x432 with 1 Axes>"
            ],
            "image/png": "[encoded data removed]"
          },
          "metadata": {}
        }
      ]
    },
    {
      "cell_type": "code",
      "source": [
        "# Duration\n",
        "sns.set()\n",
        "plt.figure(figsize = (6,6))\n",
        "sns.distplot(music_dataset['duration_ms'])\n",
        "plt.title('Mode')\n",
        "plt.show()"
      ],
      "metadata": {
        "colab": {
          "base_uri": "https://localhost:8080/",
          "height": 465
        },
        "id": "008fzwtZtWPd",
        "outputId": "408f917b-3311-4fd8-8c55-44af8777c4bf"
      },
      "execution_count": 44,
      "outputs": [
        {
          "output_type": "stream",
          "name": "stderr",
          "text": [
            "/usr/local/lib/python3.7/dist-packages/seaborn/distributions.py:2619: FutureWarning: `distplot` is a deprecated function and will be removed in a future version. Please adapt your code to use either `displot` (a figure-level function with similar flexibility) or `histplot` (an axes-level function for histograms).\n",
            "  warnings.warn(msg, FutureWarning)\n"
          ]
        },
        {
          "output_type": "display_data",
          "data": {
            "text/plain": [
              "<Figure size 432x432 with 1 Axes>"
            ],
            "image/png": "[encoded data removed]"
          },
          "metadata": {}
        }
      ]
    },
    {
      "cell_type": "markdown",
      "source": [
        "**Training and Testing Data**"
      ],
      "metadata": {
        "id": "ry5pI8q3ulqc"
      }
    },
    {
      "cell_type": "code",
      "source": [
        "X_train, X_test, Y_train, Y_test = train_test_split(X, Y, test_size = 0.1, stratify = Y, random_state = 2)"
      ],
      "metadata": {
        "id": "M5uhMdx4ulCU"
      },
      "execution_count": 45,
      "outputs": []
    },
    {
      "cell_type": "code",
      "source": [
        "print(X.shape, X_train.shape, X_test.shape)"
      ],
      "metadata": {
        "colab": {
          "base_uri": "https://localhost:8080/"
        },
        "id": "S5ufRH63vN7k",
        "outputId": "2a930174-cb6d-4287-ac0c-f1721706578d"
      },
      "execution_count": 46,
      "outputs": [
        {
          "output_type": "stream",
          "name": "stdout",
          "text": [
            "(2017, 14) (1815, 14) (202, 14)\n"
          ]
        }
      ]
    },
    {
      "cell_type": "code",
      "source": [
        "print(X_train)"
      ],
      "metadata": {
        "colab": {
          "base_uri": "https://localhost:8080/"
        },
        "id": "GLjmJvuavTnz",
        "outputId": "88c56fde-c69a-40d8-9253-a9d50bc7e426"
      },
      "execution_count": 47,
      "outputs": [
        {
          "output_type": "stream",
          "name": "stdout",
          "text": [
            "      Unnamed: 0  acousticness  danceability  duration_ms  energy  \\\n",
            "458          458      0.096100         0.704       241733   0.490   \n",
            "1978        1978      0.170000         0.466       183484   0.720   \n",
            "1873        1873      0.580000         0.599       245960   0.699   \n",
            "1175        1175      0.027500         0.516       340707   0.595   \n",
            "530          530      0.000078         0.351       141305   0.931   \n",
            "...          ...           ...           ...          ...     ...   \n",
            "1772        1772      0.163000         0.622       249093   0.593   \n",
            "838          838      0.201000         0.696       398747   0.852   \n",
            "1135        1135      0.000965         0.607       212040   0.889   \n",
            "872          872      0.809000         0.833       186567   0.684   \n",
            "416          416      0.007900         0.428       316444   0.740   \n",
            "\n",
            "      instrumentalness  key  liveness  loudness  mode  speechiness    tempo  \\\n",
            "458           0.000114    9    0.1570    -6.667     1       0.3390  155.909   \n",
            "1978          0.000000    9    0.3150    -6.105     1       0.3480  139.870   \n",
            "1873          0.276000    1    0.1080    -7.588     0       0.1000  120.927   \n",
            "1175          0.000000    5    0.1090    -4.630     1       0.0313  119.972   \n",
            "530           0.129000    6    0.2260    -5.746     0       0.0539  126.394   \n",
            "...                ...  ...       ...       ...   ...          ...      ...   \n",
            "1772          0.000000    7    0.0979    -8.352     0       0.0916   94.364   \n",
            "838           0.001250    4    0.0736    -4.281     0       0.0373  128.280   \n",
            "1135          0.000000    9    0.0839    -4.034     1       0.0394  100.034   \n",
            "872           0.000000    7    0.0952    -6.325     1       0.0430  112.700   \n",
            "416           0.935000    0    0.0985   -10.026     1       0.0588  134.981   \n",
            "\n",
            "      time_signature  valence  \n",
            "458                4   0.6460  \n",
            "1978               4   0.3930  \n",
            "1873               4   0.3120  \n",
            "1175               4   0.2090  \n",
            "530                4   0.6040  \n",
            "...              ...      ...  \n",
            "1772               4   0.5950  \n",
            "838                4   0.9710  \n",
            "1135               4   0.3760  \n",
            "872                4   0.9540  \n",
            "416                4   0.0576  \n",
            "\n",
            "[1815 rows x 14 columns]\n"
          ]
        }
      ]
    },
    {
      "cell_type": "code",
      "source": [
        "print(Y_train)"
      ],
      "metadata": {
        "colab": {
          "base_uri": "https://localhost:8080/"
        },
        "id": "GBX2zkMuvX79",
        "outputId": "a087aef7-17bc-404e-965f-dffcf99eafb6"
      },
      "execution_count": 48,
      "outputs": [
        {
          "output_type": "stream",
          "name": "stdout",
          "text": [
            "458     1\n",
            "1978    0\n",
            "1873    0\n",
            "1175    0\n",
            "530     1\n",
            "       ..\n",
            "1772    0\n",
            "838     1\n",
            "1135    0\n",
            "872     1\n",
            "416     1\n",
            "Name: target, Length: 1815, dtype: int64\n"
          ]
        }
      ]
    },
    {
      "cell_type": "markdown",
      "source": [
        "**Modeling using Logistic Regression**"
      ],
      "metadata": {
        "id": "sH053PDsvhYV"
      }
    },
    {
      "cell_type": "code",
      "source": [
        "model = LogisticRegression()"
      ],
      "metadata": {
        "id": "I9nMJLXavkuE"
      },
      "execution_count": 49,
      "outputs": []
    },
    {
      "cell_type": "code",
      "source": [
        "model.fit(X_train, Y_train)\n",
        "LogisticRegression()"
      ],
      "metadata": {
        "colab": {
          "base_uri": "https://localhost:8080/"
        },
        "id": "20CoKSp7vqMM",
        "outputId": "6c28061a-e8d5-437e-e587-750c5fc5b981"
      },
      "execution_count": 50,
      "outputs": [
        {
          "output_type": "execute_result",
          "data": {
            "text/plain": [
              "LogisticRegression()"
            ]
          },
          "metadata": {},
          "execution_count": 50
        }
      ]
    },
    {
      "cell_type": "markdown",
      "source": [
        "**Model Evaluation**"
      ],
      "metadata": {
        "id": "Lm68Z1Qkw9Xc"
      }
    },
    {
      "cell_type": "code",
      "source": [
        "X_train_prediction = model.predict(X_train)\n",
        "training_data_accuracy = accuracy_score(Y_train, X_train_prediction)"
      ],
      "metadata": {
        "id": "IDJ7f1p1w7Ec"
      },
      "execution_count": 51,
      "outputs": []
    },
    {
      "cell_type": "code",
      "source": [
        "print('The accuracy is : ', training_data_accuracy)"
      ],
      "metadata": {
        "colab": {
          "base_uri": "https://localhost:8080/"
        },
        "id": "QuF-sUhMxHBu",
        "outputId": "2e926c04-3971-4730-c37f-23a08c084e84"
      },
      "execution_count": 52,
      "outputs": [
        {
          "output_type": "stream",
          "name": "stdout",
          "text": [
            "The accuracy is :  0.9399449035812673\n"
          ]
        }
      ]
    },
    {
      "cell_type": "code",
      "source": [
        "X_test_prediction = model.predict(X_test)\n",
        "testing_data_accuracy = accuracy_score(Y_test, X_test_prediction)"
      ],
      "metadata": {
        "id": "RWvPcoPlxfWz"
      },
      "execution_count": 54,
      "outputs": []
    },
    {
      "cell_type": "code",
      "source": [
        "print('The accuracy is :', testing_data_accuracy)"
      ],
      "metadata": {
        "colab": {
          "base_uri": "https://localhost:8080/"
        },
        "id": "LZqYIQA9x19k",
        "outputId": "53c8e390-7e52-4027-f30e-5efc20cfc162"
      },
      "execution_count": 55,
      "outputs": [
        {
          "output_type": "stream",
          "name": "stdout",
          "text": [
            "The accuracy is : 0.9306930693069307\n"
          ]
        }
      ]
    },
    {
      "cell_type": "code",
      "source": [
        "input_data = (0,0.0102,0.833,204600,0.434,0.0219,2,0.165,-8.795,1,0.431,150.062,4,0.286)"
      ],
      "metadata": {
        "id": "nT3wxYQayPoM"
      },
      "execution_count": 56,
      "outputs": []
    },
    {
      "cell_type": "code",
      "source": [
        "input_data_as_numpy_array = np.array(input_data) "
      ],
      "metadata": {
        "id": "K0Iu1Id0yTzs"
      },
      "execution_count": 57,
      "outputs": []
    },
    {
      "cell_type": "code",
      "source": [
        "input_data_reshaped = input_data_as_numpy_array.reshape(1, -1)"
      ],
      "metadata": {
        "id": "zmaCJ9C7yhvU"
      },
      "execution_count": 58,
      "outputs": []
    },
    {
      "cell_type": "code",
      "source": [
        "prediction = model.predict(input_data_reshaped)\n",
        "print(prediction)"
      ],
      "metadata": {
        "colab": {
          "base_uri": "https://localhost:8080/"
        },
        "id": "qe_-32QfyqZn",
        "outputId": "35d5cb8d-b380-44e4-d530-62ed9af036c5"
      },
      "execution_count": 59,
      "outputs": [
        {
          "output_type": "stream",
          "name": "stdout",
          "text": [
            "[1]\n"
          ]
        },
        {
          "output_type": "stream",
          "name": "stderr",
          "text": [
            "/usr/local/lib/python3.7/dist-packages/sklearn/base.py:451: UserWarning: X does not have valid feature names, but LogisticRegression was fitted with feature names\n",
            "  \"X does not have valid feature names, but\"\n"
          ]
        }
      ]
    },
    {
      "cell_type": "code",
      "source": [
        "input_data = (1948,0.453,0.511,406280,0.453,0.000212,3,0.0865,-6.803,0,0.0314,138.309,4,0.142)"
      ],
      "metadata": {
        "id": "gpKqUegW0NTW"
      },
      "execution_count": 67,
      "outputs": []
    },
    {
      "cell_type": "code",
      "source": [
        "input_data_as_numpy_array = np.array(input_data) "
      ],
      "metadata": {
        "id": "2hsV3Odw0SLF"
      },
      "execution_count": 68,
      "outputs": []
    },
    {
      "cell_type": "code",
      "source": [
        "input_data_reshaped = input_data_as_numpy_array.reshape(1, -1)"
      ],
      "metadata": {
        "id": "XQ_I7K610Ul7"
      },
      "execution_count": 69,
      "outputs": []
    },
    {
      "cell_type": "code",
      "source": [
        "prediction = model.predict(input_data_reshaped)\n",
        "print(prediction)"
      ],
      "metadata": {
        "colab": {
          "base_uri": "https://localhost:8080/"
        },
        "id": "efGnJlRy0WoT",
        "outputId": "73d54d8a-b804-4dae-cbc2-e260cccde6da"
      },
      "execution_count": 70,
      "outputs": [
        {
          "output_type": "stream",
          "name": "stdout",
          "text": [
            "[0]\n"
          ]
        },
        {
          "output_type": "stream",
          "name": "stderr",
          "text": [
            "/usr/local/lib/python3.7/dist-packages/sklearn/base.py:451: UserWarning: X does not have valid feature names, but LogisticRegression was fitted with feature names\n",
            "  \"X does not have valid feature names, but\"\n"
          ]
        }
      ]
    }
  ]
}