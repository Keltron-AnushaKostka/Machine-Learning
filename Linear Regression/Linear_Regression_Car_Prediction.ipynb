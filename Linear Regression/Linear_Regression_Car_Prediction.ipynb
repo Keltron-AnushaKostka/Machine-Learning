{
  "nbformat": 4,
  "nbformat_minor": 0,
  "metadata": {
    "colab": {
      "provenance": []
    },
    "kernelspec": {
      "name": "python3",
      "display_name": "Python 3"
    },
    "language_info": {
      "name": "python"
    }
  },
  "cells": [
    {
      "cell_type": "code",
      "source": [
        "import numpy as np\n",
        "import pandas as pd\n",
        "import matplotlib.pyplot as plt\n",
        "import seaborn as sns\n",
        "from sklearn.model_selection import train_test_split\n",
        "from sklearn.linear_model import LinearRegression\n",
        "from sklearn import metrics"
      ],
      "metadata": {
        "id": "hJMUB9pA6bPu"
      },
      "execution_count": null,
      "outputs": []
    },
    {
      "cell_type": "code",
      "source": [
        "from google.colab import files\n",
        "files.upload()"
      ],
      "metadata": {
        "id": "kXM0zqbm6xdJ"
      },
      "execution_count": null,
      "outputs": []
    },
    {
      "cell_type": "code",
      "source": [
        "car_dataset = pd.read_csv('car data.csv')\n",
        "car_dataset"
      ],
      "metadata": {
        "id": "KsbVR_zF62yo"
      },
      "execution_count": null,
      "outputs": []
    },
    {
      "cell_type": "code",
      "source": [
        "car_dataset.head()"
      ],
      "metadata": {
        "id": "I2mK4MOk7Asa"
      },
      "execution_count": null,
      "outputs": []
    },
    {
      "cell_type": "code",
      "source": [
        "car_dataset.shape"
      ],
      "metadata": {
        "id": "-FwfXN347FiR"
      },
      "execution_count": null,
      "outputs": []
    },
    {
      "cell_type": "code",
      "source": [
        "car_dataset.info()"
      ],
      "metadata": {
        "id": "5kYWTDE27I0_"
      },
      "execution_count": null,
      "outputs": []
    },
    {
      "cell_type": "code",
      "source": [
        "#checking for missing values\n",
        "car_dataset.isnull().sum()"
      ],
      "metadata": {
        "id": "pc276QQ17Lko"
      },
      "execution_count": null,
      "outputs": []
    },
    {
      "cell_type": "code",
      "source": [
        "car_dataset.describe()"
      ],
      "metadata": {
        "id": "9jVw3wOT7TAB"
      },
      "execution_count": null,
      "outputs": []
    },
    {
      "cell_type": "markdown",
      "source": [
        "**Categorical Features:**\n"
      ],
      "metadata": {
        "id": "yg8qaeg97Z2Z"
      }
    },
    {
      "cell_type": "markdown",
      "source": [
        "- .fuel type\n",
        "- .seller type\n",
        "- .transmission "
      ],
      "metadata": {
        "id": "hgJe6-lp70Xs"
      }
    },
    {
      "cell_type": "code",
      "source": [
        "# distribution of year\n",
        "sns.set()\n",
        "plt.figure(figsize = (6,6))\n",
        "sns.distplot(car_dataset['Year'])\n",
        "plt.title('Year Distribution')\n",
        "plt.show()"
      ],
      "metadata": {
        "id": "j7oVp0TR7slG"
      },
      "execution_count": null,
      "outputs": []
    },
    {
      "cell_type": "code",
      "source": [
        "# fuel type column\n",
        "plt.figure(figsize = (6,6))\n",
        "sns.countplot(x = 'Fuel_Type', data = car_dataset)\n",
        "plt.title('Fuel Type Distribution')\n",
        "plt.show()"
      ],
      "metadata": {
        "id": "HfKzguZa8XYp"
      },
      "execution_count": null,
      "outputs": []
    },
    {
      "cell_type": "code",
      "source": [
        "car_dataset['Fuel_Type'].value_counts()"
      ],
      "metadata": {
        "id": "Ni-T6sLZ7dJL"
      },
      "execution_count": null,
      "outputs": []
    },
    {
      "cell_type": "code",
      "source": [
        "# selling price distribution\n",
        "plt.figure(figsize = (6,6))\n",
        "sns.distplot(car_dataset['Selling_Price'])\n",
        "plt.title('Selling_Price Distribution')\n",
        "plt.show()"
      ],
      "metadata": {
        "id": "NJAgspvX7WbJ"
      },
      "execution_count": null,
      "outputs": []
    },
    {
      "cell_type": "code",
      "source": [
        "# Seller type column\n",
        "plt.figure(figsize = (6, 6))\n",
        "sns.countplot(x = 'Seller_Type', data = car_dataset)\n",
        "plt.title('Seller_Type')\n",
        "plt.show()"
      ],
      "metadata": {
        "id": "cePIchIv9S-K"
      },
      "execution_count": null,
      "outputs": []
    },
    {
      "cell_type": "code",
      "source": [
        "car_dataset['Seller_Type'].value_counts()"
      ],
      "metadata": {
        "id": "prDyaUYz9r5B"
      },
      "execution_count": null,
      "outputs": []
    },
    {
      "cell_type": "code",
      "source": [
        "#Transmission Column\n",
        "plt.figure(figsize = (6,6))\n",
        "sns.countplot(x = 'Transmission', data = car_dataset)\n",
        "plt.title('Transmission')\n",
        "plt.show()"
      ],
      "metadata": {
        "id": "OhvkajFE90ty"
      },
      "execution_count": null,
      "outputs": []
    },
    {
      "cell_type": "code",
      "source": [
        "car_dataset['Transmission'].value_counts()"
      ],
      "metadata": {
        "id": "7NNNOoYX-MKD"
      },
      "execution_count": null,
      "outputs": []
    },
    {
      "cell_type": "code",
      "source": [
        "#distribution pf present price\n",
        "sns.set()\n",
        "plt.figure(figsize = (6,6))\n",
        "sns.distplot(car_dataset['Present_Price'])\n",
        "plt.title('Present_Price Distribution')\n",
        "plt.show()"
      ],
      "metadata": {
        "id": "elqOi0F_-TJB"
      },
      "execution_count": null,
      "outputs": []
    },
    {
      "cell_type": "code",
      "source": [
        "# distribution of kms driven\n",
        "sns.set()\n",
        "plt.figure(figsize = (6,6))\n",
        "sns.distplot(car_dataset['KMS_Driven'])\n",
        "plt.title('Kms_Driven Distribution')\n",
        "plt.show()"
      ],
      "metadata": {
        "id": "JqAIVGK7-uSb"
      },
      "execution_count": null,
      "outputs": []
    },
    {
      "cell_type": "code",
      "source": [
        "# ENCODING THE SET COLUMN\n",
        "car_dataset.replace({'Fuel_Type' : {'Petrol': 0, 'Diesal': 1, 'CNG': 2}}, inplace = True)\n",
        "\n",
        "#ENCODING THE SMOKER COLUMN\n",
        "car_dataset.replace({'Seller_Type': {'Dealer': 0, 'Individual': 1}}, inplace = True)\n",
        "\n",
        "# ENCODING THE REGION COLUMN\n",
        "car_dataset.replace({'Transmission': {'Manual': 0, 'Automatic': 1}}, inplace = True)\n",
        "\n"
      ],
      "metadata": {
        "id": "QsOxUtj68omK"
      },
      "execution_count": null,
      "outputs": []
    },
    {
      "cell_type": "code",
      "source": [
        "X = car_dataset.drop(columns = ['Ownwer', 'Car_Name'], axis = 1)\n",
        "Y = car_dataset['Owner']"
      ],
      "metadata": {
        "id": "vytM-HVf9wfZ"
      },
      "execution_count": null,
      "outputs": []
    },
    {
      "cell_type": "code",
      "source": [
        "print(X)"
      ],
      "metadata": {
        "id": "8qn0BUQ9-A7X"
      },
      "execution_count": null,
      "outputs": []
    },
    {
      "cell_type": "code",
      "source": [
        "print(Y)"
      ],
      "metadata": {
        "id": "CEB2oJv2-DbP"
      },
      "execution_count": null,
      "outputs": []
    },
    {
      "cell_type": "markdown",
      "source": [
        "**Splitting the training data and testing data**"
      ],
      "metadata": {
        "id": "rKeLwCEm-F6y"
      }
    },
    {
      "cell_type": "code",
      "source": [
        "X_train, X_test, Y_train, Y_test = train_test_split(X, Y, test_size = 0.2, random_state = 2)"
      ],
      "metadata": {
        "id": "Z085BIB7-L3X"
      },
      "execution_count": null,
      "outputs": []
    },
    {
      "cell_type": "code",
      "source": [
        "print(X.shape, X_train.shape, X_test.shape)"
      ],
      "metadata": {
        "id": "0SEJM49P-dng"
      },
      "execution_count": null,
      "outputs": []
    },
    {
      "cell_type": "code",
      "source": [
        "print(X.shape, X_train.shape, X_test.shape)"
      ],
      "metadata": {
        "id": "KUnf28xi-npf"
      },
      "execution_count": null,
      "outputs": []
    },
    {
      "cell_type": "code",
      "source": [
        "print(X_train)"
      ],
      "metadata": {
        "id": "xHlGWK5B-v2I"
      },
      "execution_count": null,
      "outputs": []
    },
    {
      "cell_type": "code",
      "source": [
        "print(Y_train)"
      ],
      "metadata": {
        "id": "jPul6lg4-yfw"
      },
      "execution_count": null,
      "outputs": []
    },
    {
      "cell_type": "code",
      "source": [
        "X_train, X_test, Y_train, Y_test = train_test_split(X, Y, test_size = 0.2, random_state = 0)"
      ],
      "metadata": {
        "id": "E_T20JTf-1dI"
      },
      "execution_count": null,
      "outputs": []
    },
    {
      "cell_type": "markdown",
      "source": [
        "**Model Training**"
      ],
      "metadata": {
        "id": "pH__xvLH_J7f"
      }
    },
    {
      "cell_type": "code",
      "source": [
        "regressor = LinearRegression()\n",
        "regressor.fit(X_train, Y_train) # training the algorithm"
      ],
      "metadata": {
        "id": "bsfl_gKj_Mzh"
      },
      "execution_count": null,
      "outputs": []
    },
    {
      "cell_type": "markdown",
      "source": [
        "**Model Evaluation**"
      ],
      "metadata": {
        "id": "TymoP4Ie_ego"
      }
    },
    {
      "cell_type": "code",
      "source": [
        "# prediction on training data\n",
        "training_data_prediction =regressor.predict(X_train)"
      ],
      "metadata": {
        "id": "YCV0xf0h_hOH"
      },
      "execution_count": null,
      "outputs": []
    },
    {
      "cell_type": "code",
      "source": [
        "# R squared value\n",
        "r2_train = metrics.r2_score(Y_train, training_data_prediction)\n",
        "print('R squared value:', r2_train)"
      ],
      "metadata": {
        "id": "Ni7ppB98_sjH"
      },
      "execution_count": null,
      "outputs": []
    },
    {
      "cell_type": "code",
      "source": [
        "# prediction on testing data\n",
        "test_data_prediction = regressor.predict(X_test)"
      ],
      "metadata": {
        "id": "4CJCUqwU_9ev"
      },
      "execution_count": null,
      "outputs": []
    },
    {
      "cell_type": "code",
      "source": [
        "# R squared value\n",
        "r2_test = metrics.r2_score(Y_test, test_data_prediction)\n",
        "print('R squared value:', r2_test)"
      ],
      "metadata": {
        "id": "IaW2ihOPAHdn"
      },
      "execution_count": null,
      "outputs": []
    }
  ]
}