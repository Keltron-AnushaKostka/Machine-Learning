{
  "nbformat": 4,
  "nbformat_minor": 0,
  "metadata": {
    "colab": {
      "provenance": []
    },
    "kernelspec": {
      "name": "python3",
      "display_name": "Python 3"
    },
    "language_info": {
      "name": "python"
    }
  },
  "cells": [
    {
      "cell_type": "code",
      "source": [
        "import numpy as np\n",
        "import pandas as pd\n",
        "import matplotlib.pyplot as plt\n",
        "import seaborn as sns\n",
        "from sklearn.model_selection import train_test_split\n",
        "from sklearn.linear_model import LinearRegression\n",
        "from sklearn import metrics"
      ],
      "metadata": {
        "id": "hJMUB9pA6bPu"
      },
      "execution_count": 1,
      "outputs": []
    },
    {
      "cell_type": "code",
      "source": [
        "from google.colab import files\n",
        "files.upload()"
      ],
      "metadata": {
        "id": "kXM0zqbm6xdJ",
        "colab": {
          "base_uri": "https://localhost:8080/",
          "height": 1000
        },
        "outputId": "aab5b8ba-6844-4134-ec0c-f589d4bbd6a3"
      },
      "execution_count": 2,
      "outputs": [
        {
          "output_type": "display_data",
          "data": {
            "text/plain": [
              "<IPython.core.display.HTML object>"
            ],
            "text/html": [
              "\n",
              "     <input type=\"file\" id=\"files-520e9778-1bde-4095-8ada-68bb173d4d46\" name=\"files[]\" multiple disabled\n",
              "        style=\"border:none\" />\n",
              "     <output id=\"result-520e9778-1bde-4095-8ada-68bb173d4d46\">\n",
              "      Upload widget is only available when the cell has been executed in the\n",
              "      current browser session. Please rerun this cell to enable.\n",
              "      </output>\n",
              "      <script>// Copyright 2017 Google LLC\n",
              "//\n",
              "// Licensed under the Apache License, Version 2.0 (the \"License\");\n",
              "// you may not use this file except in compliance with the License.\n",
              "// You may obtain a copy of the License at\n",
              "//\n",
              "//      http://www.apache.org/licenses/LICENSE-2.0\n",
              "//\n",
              "// Unless required by applicable law or agreed to in writing, software\n",
              "// distributed under the License is distributed on an \"AS IS\" BASIS,\n",
              "// WITHOUT WARRANTIES OR CONDITIONS OF ANY KIND, either express or implied.\n",
              "// See the License for the specific language governing permissions and\n",
              "// limitations under the License.\n",
              "\n",
              "/**\n",
              " * @fileoverview Helpers for google.colab Python module.\n",
              " */\n",
              "(function(scope) {\n",
              "function span(text, styleAttributes = {}) {\n",
              "  const element = document.createElement('span');\n",
              "  element.textContent = text;\n",
              "  for (const key of Object.keys(styleAttributes)) {\n",
              "    element.style[key] = styleAttributes[key];\n",
              "  }\n",
              "  return element;\n",
              "}\n",
              "\n",
              "// Max number of bytes which will be uploaded at a time.\n",
              "const MAX_PAYLOAD_SIZE = 100 * 1024;\n",
              "\n",
              "function _uploadFiles(inputId, outputId) {\n",
              "  const steps = uploadFilesStep(inputId, outputId);\n",
              "  const outputElement = document.getElementById(outputId);\n",
              "  // Cache steps on the outputElement to make it available for the next call\n",
              "  // to uploadFilesContinue from Python.\n",
              "  outputElement.steps = steps;\n",
              "\n",
              "  return _uploadFilesContinue(outputId);\n",
              "}\n",
              "\n",
              "// This is roughly an async generator (not supported in the browser yet),\n",
              "// where there are multiple asynchronous steps and the Python side is going\n",
              "// to poll for completion of each step.\n",
              "// This uses a Promise to block the python side on completion of each step,\n",
              "// then passes the result of the previous step as the input to the next step.\n",
              "function _uploadFilesContinue(outputId) {\n",
              "  const outputElement = document.getElementById(outputId);\n",
              "  const steps = outputElement.steps;\n",
              "\n",
              "  const next = steps.next(outputElement.lastPromiseValue);\n",
              "  return Promise.resolve(next.value.promise).then((value) => {\n",
              "    // Cache the last promise value to make it available to the next\n",
              "    // step of the generator.\n",
              "    outputElement.lastPromiseValue = value;\n",
              "    return next.value.response;\n",
              "  });\n",
              "}\n",
              "\n",
              "/**\n",
              " * Generator function which is called between each async step of the upload\n",
              " * process.\n",
              " * @param {string} inputId Element ID of the input file picker element.\n",
              " * @param {string} outputId Element ID of the output display.\n",
              " * @return {!Iterable<!Object>} Iterable of next steps.\n",
              " */\n",
              "function* uploadFilesStep(inputId, outputId) {\n",
              "  const inputElement = document.getElementById(inputId);\n",
              "  inputElement.disabled = false;\n",
              "\n",
              "  const outputElement = document.getElementById(outputId);\n",
              "  outputElement.innerHTML = '';\n",
              "\n",
              "  const pickedPromise = new Promise((resolve) => {\n",
              "    inputElement.addEventListener('change', (e) => {\n",
              "      resolve(e.target.files);\n",
              "    });\n",
              "  });\n",
              "\n",
              "  const cancel = document.createElement('button');\n",
              "  inputElement.parentElement.appendChild(cancel);\n",
              "  cancel.textContent = 'Cancel upload';\n",
              "  const cancelPromise = new Promise((resolve) => {\n",
              "    cancel.onclick = () => {\n",
              "      resolve(null);\n",
              "    };\n",
              "  });\n",
              "\n",
              "  // Wait for the user to pick the files.\n",
              "  const files = yield {\n",
              "    promise: Promise.race([pickedPromise, cancelPromise]),\n",
              "    response: {\n",
              "      action: 'starting',\n",
              "    }\n",
              "  };\n",
              "\n",
              "  cancel.remove();\n",
              "\n",
              "  // Disable the input element since further picks are not allowed.\n",
              "  inputElement.disabled = true;\n",
              "\n",
              "  if (!files) {\n",
              "    return {\n",
              "      response: {\n",
              "        action: 'complete',\n",
              "      }\n",
              "    };\n",
              "  }\n",
              "\n",
              "  for (const file of files) {\n",
              "    const li = document.createElement('li');\n",
              "    li.append(span(file.name, {fontWeight: 'bold'}));\n",
              "    li.append(span(\n",
              "        `(${file.type || 'n/a'}) - ${file.size} bytes, ` +\n",
              "        `last modified: ${\n",
              "            file.lastModifiedDate ? file.lastModifiedDate.toLocaleDateString() :\n",
              "                                    'n/a'} - `));\n",
              "    const percent = span('0% done');\n",
              "    li.appendChild(percent);\n",
              "\n",
              "    outputElement.appendChild(li);\n",
              "\n",
              "    const fileDataPromise = new Promise((resolve) => {\n",
              "      const reader = new FileReader();\n",
              "      reader.onload = (e) => {\n",
              "        resolve(e.target.result);\n",
              "      };\n",
              "      reader.readAsArrayBuffer(file);\n",
              "    });\n",
              "    // Wait for the data to be ready.\n",
              "    let fileData = yield {\n",
              "      promise: fileDataPromise,\n",
              "      response: {\n",
              "        action: 'continue',\n",
              "      }\n",
              "    };\n",
              "\n",
              "    // Use a chunked sending to avoid message size limits. See b/62115660.\n",
              "    let position = 0;\n",
              "    do {\n",
              "      const length = Math.min(fileData.byteLength - position, MAX_PAYLOAD_SIZE);\n",
              "      const chunk = new Uint8Array(fileData, position, length);\n",
              "      position += length;\n",
              "\n",
              "      const base64 = btoa(String.fromCharCode.apply(null, chunk));\n",
              "      yield {\n",
              "        response: {\n",
              "          action: 'append',\n",
              "          file: file.name,\n",
              "          data: base64,\n",
              "        },\n",
              "      };\n",
              "\n",
              "      let percentDone = fileData.byteLength === 0 ?\n",
              "          100 :\n",
              "          Math.round((position / fileData.byteLength) * 100);\n",
              "      percent.textContent = `${percentDone}% done`;\n",
              "\n",
              "    } while (position < fileData.byteLength);\n",
              "  }\n",
              "\n",
              "  // All done.\n",
              "  yield {\n",
              "    response: {\n",
              "      action: 'complete',\n",
              "    }\n",
              "  };\n",
              "}\n",
              "\n",
              "scope.google = scope.google || {};\n",
              "scope.google.colab = scope.google.colab || {};\n",
              "scope.google.colab._files = {\n",
              "  _uploadFiles,\n",
              "  _uploadFilesContinue,\n",
              "};\n",
              "})(self);\n",
              "</script> "
            ]
          },
          "metadata": {}
        },
        {
          "output_type": "stream",
          "name": "stdout",
          "text": [
            "Saving car data.csv to car data.csv\n"
          ]
        },
        {
          "output_type": "execute_result",
          "data": {
            "text/plain": [
              "{'car data.csv': b'Car_Name,Year,Selling_Price,Present_Price,Kms_Driven,Fuel_Type,Seller_Type,Transmission,Owner\\r\\nritz,2014,3.35,5.59,27000,Petrol,Dealer,Manual,0\\r\\nsx4,2013,4.75,9.54,43000,Diesel,Dealer,Manual,0\\r\\nciaz,2017,7.25,9.85,6900,Petrol,Dealer,Manual,0\\r\\nwagon r,2011,2.85,4.15,5200,Petrol,Dealer,Manual,0\\r\\nswift,2014,4.6,6.87,42450,Diesel,Dealer,Manual,0\\r\\nvitara brezza,2018,9.25,9.83,2071,Diesel,Dealer,Manual,0\\r\\nciaz,2015,6.75,8.12,18796,Petrol,Dealer,Manual,0\\r\\ns cross,2015,6.5,8.61,33429,Diesel,Dealer,Manual,0\\r\\nciaz,2016,8.75,8.89,20273,Diesel,Dealer,Manual,0\\r\\nciaz,2015,7.45,8.92,42367,Diesel,Dealer,Manual,0\\r\\nalto 800,2017,2.85,3.6,2135,Petrol,Dealer,Manual,0\\r\\nciaz,2015,6.85,10.38,51000,Diesel,Dealer,Manual,0\\r\\nciaz,2015,7.5,9.94,15000,Petrol,Dealer,Automatic,0\\r\\nertiga,2015,6.1,7.71,26000,Petrol,Dealer,Manual,0\\r\\ndzire,2009,2.25,7.21,77427,Petrol,Dealer,Manual,0\\r\\nertiga,2016,7.75,10.79,43000,Diesel,Dealer,Manual,0\\r\\nertiga,2015,7.25,10.79,41678,Diesel,Dealer,Manual,0\\r\\nertiga,2016,7.75,10.79,43000,Diesel,Dealer,Manual,0\\r\\nwagon r,2015,3.25,5.09,35500,CNG,Dealer,Manual,0\\r\\nsx4,2010,2.65,7.98,41442,Petrol,Dealer,Manual,0\\r\\nalto k10,2016,2.85,3.95,25000,Petrol,Dealer,Manual,0\\r\\nignis,2017,4.9,5.71,2400,Petrol,Dealer,Manual,0\\r\\nsx4,2011,4.4,8.01,50000,Petrol,Dealer,Automatic,0\\r\\nalto k10,2014,2.5,3.46,45280,Petrol,Dealer,Manual,0\\r\\nwagon r,2013,2.9,4.41,56879,Petrol,Dealer,Manual,0\\r\\nswift,2011,3,4.99,20000,Petrol,Dealer,Manual,0\\r\\nswift,2013,4.15,5.87,55138,Petrol,Dealer,Manual,0\\r\\nswift,2017,6,6.49,16200,Petrol,Individual,Manual,0\\r\\nalto k10,2010,1.95,3.95,44542,Petrol,Dealer,Manual,0\\r\\nciaz,2015,7.45,10.38,45000,Diesel,Dealer,Manual,0\\r\\nritz,2012,3.1,5.98,51439,Diesel,Dealer,Manual,0\\r\\nritz,2011,2.35,4.89,54200,Petrol,Dealer,Manual,0\\r\\nswift,2014,4.95,7.49,39000,Diesel,Dealer,Manual,0\\r\\nertiga,2014,6,9.95,45000,Diesel,Dealer,Manual,0\\r\\ndzire,2014,5.5,8.06,45000,Diesel,Dealer,Manual,0\\r\\nsx4,2011,2.95,7.74,49998,CNG,Dealer,Manual,0\\r\\ndzire,2015,4.65,7.2,48767,Petrol,Dealer,Manual,0\\r\\n800,2003,0.35,2.28,127000,Petrol,Individual,Manual,0\\r\\nalto k10,2016,3,3.76,10079,Petrol,Dealer,Manual,0\\r\\nsx4,2003,2.25,7.98,62000,Petrol,Dealer,Manual,0\\r\\nbaleno,2016,5.85,7.87,24524,Petrol,Dealer,Automatic,0\\r\\nalto k10,2014,2.55,3.98,46706,Petrol,Dealer,Manual,0\\r\\nsx4,2008,1.95,7.15,58000,Petrol,Dealer,Manual,0\\r\\ndzire,2014,5.5,8.06,45780,Diesel,Dealer,Manual,0\\r\\nomni,2012,1.25,2.69,50000,Petrol,Dealer,Manual,0\\r\\nciaz,2014,7.5,12.04,15000,Petrol,Dealer,Automatic,0\\r\\nritz,2013,2.65,4.89,64532,Petrol,Dealer,Manual,0\\r\\nwagon r,2006,1.05,4.15,65000,Petrol,Dealer,Manual,0\\r\\nertiga,2015,5.8,7.71,25870,Petrol,Dealer,Manual,0\\r\\nciaz,2017,7.75,9.29,37000,Petrol,Dealer,Automatic,0\\r\\nfortuner,2012,14.9,30.61,104707,Diesel,Dealer,Automatic,0\\r\\nfortuner,2015,23,30.61,40000,Diesel,Dealer,Automatic,0\\r\\ninnova,2017,18,19.77,15000,Diesel,Dealer,Automatic,0\\r\\nfortuner,2013,16,30.61,135000,Diesel,Individual,Automatic,0\\r\\ninnova,2005,2.75,10.21,90000,Petrol,Individual,Manual,0\\r\\ncorolla altis,2009,3.6,15.04,70000,Petrol,Dealer,Automatic,0\\r\\netios cross,2015,4.5,7.27,40534,Petrol,Dealer,Manual,0\\r\\ncorolla altis,2010,4.75,18.54,50000,Petrol,Dealer,Manual,0\\r\\netios g,2014,4.1,6.8,39485,Petrol,Dealer,Manual,1\\r\\nfortuner,2014,19.99,35.96,41000,Diesel,Dealer,Automatic,0\\r\\ncorolla altis,2013,6.95,18.61,40001,Petrol,Dealer,Manual,0\\r\\netios cross,2015,4.5,7.7,40588,Petrol,Dealer,Manual,0\\r\\nfortuner,2014,18.75,35.96,78000,Diesel,Dealer,Automatic,0\\r\\nfortuner,2015,23.5,35.96,47000,Diesel,Dealer,Automatic,0\\r\\nfortuner,2017,33,36.23,6000,Diesel,Dealer,Automatic,0\\r\\netios liva,2014,4.75,6.95,45000,Diesel,Dealer,Manual,0\\r\\ninnova,2017,19.75,23.15,11000,Petrol,Dealer,Automatic,0\\r\\nfortuner,2010,9.25,20.45,59000,Diesel,Dealer,Manual,0\\r\\ncorolla altis,2011,4.35,13.74,88000,Petrol,Dealer,Manual,0\\r\\ncorolla altis,2016,14.25,20.91,12000,Petrol,Dealer,Manual,0\\r\\netios liva,2014,3.95,6.76,71000,Diesel,Dealer,Manual,0\\r\\ncorolla altis,2011,4.5,12.48,45000,Diesel,Dealer,Manual,0\\r\\ncorolla altis,2013,7.45,18.61,56001,Petrol,Dealer,Manual,0\\r\\netios liva,2011,2.65,5.71,43000,Petrol,Dealer,Manual,0\\r\\netios cross,2014,4.9,8.93,83000,Diesel,Dealer,Manual,0\\r\\netios g,2015,3.95,6.8,36000,Petrol,Dealer,Manual,0\\r\\ncorolla altis,2013,5.5,14.68,72000,Petrol,Dealer,Manual,0\\r\\ncorolla,2004,1.5,12.35,135154,Petrol,Dealer,Automatic,0\\r\\ncorolla altis,2010,5.25,22.83,80000,Petrol,Dealer,Automatic,0\\r\\nfortuner,2012,14.5,30.61,89000,Diesel,Dealer,Automatic,0\\r\\ncorolla altis,2016,14.73,14.89,23000,Diesel,Dealer,Manual,0\\r\\netios gd,2015,4.75,7.85,40000,Diesel,Dealer,Manual,0\\r\\ninnova,2017,23,25.39,15000,Diesel,Dealer,Automatic,0\\r\\ninnova,2015,12.5,13.46,38000,Diesel,Dealer,Manual,0\\r\\ninnova,2005,3.49,13.46,197176,Diesel,Dealer,Manual,0\\r\\ncamry,2006,2.5,23.73,142000,Petrol,Individual,Automatic,3\\r\\nland cruiser,2010,35,92.6,78000,Diesel,Dealer,Manual,0\\r\\ncorolla altis,2012,5.9,13.74,56000,Petrol,Dealer,Manual,0\\r\\netios liva,2013,3.45,6.05,47000,Petrol,Dealer,Manual,0\\r\\netios g,2014,4.75,6.76,40000,Petrol,Dealer,Manual,0\\r\\ncorolla altis,2009,3.8,18.61,62000,Petrol,Dealer,Manual,0\\r\\ninnova,2014,11.25,16.09,58242,Diesel,Dealer,Manual,0\\r\\ninnova,2005,3.51,13.7,75000,Petrol,Dealer,Manual,0\\r\\nfortuner,2015,23,30.61,40000,Diesel,Dealer,Automatic,0\\r\\ncorolla altis,2008,4,22.78,89000,Petrol,Dealer,Automatic,0\\r\\ncorolla altis,2012,5.85,18.61,72000,Petrol,Dealer,Manual,0\\r\\ninnova,2016,20.75,25.39,29000,Diesel,Dealer,Automatic,0\\r\\ncorolla altis,2017,17,18.64,8700,Petrol,Dealer,Manual,0\\r\\ncorolla altis,2013,7.05,18.61,45000,Petrol,Dealer,Manual,0\\r\\nfortuner,2010,9.65,20.45,50024,Diesel,Dealer,Manual,0\\r\\nRoyal Enfield Thunder 500,2016,1.75,1.9,3000,Petrol,Individual,Manual,0\\r\\nUM Renegade Mojave,2017,1.7,1.82,1400,Petrol,Individual,Manual,0\\r\\nKTM RC200,2017,1.65,1.78,4000,Petrol,Individual,Manual,0\\r\\nBajaj Dominar 400,2017,1.45,1.6,1200,Petrol,Individual,Manual,0\\r\\nRoyal Enfield Classic 350,2017,1.35,1.47,4100,Petrol,Individual,Manual,0\\r\\nKTM RC390,2015,1.35,2.37,21700,Petrol,Individual,Manual,0\\r\\nHyosung GT250R,2014,1.35,3.45,16500,Petrol,Individual,Manual,1\\r\\nRoyal Enfield Thunder 350,2013,1.25,1.5,15000,Petrol,Individual,Manual,0\\r\\nRoyal Enfield Thunder 350,2016,1.2,1.5,18000,Petrol,Individual,Manual,0\\r\\nRoyal Enfield Classic 350,2017,1.2,1.47,11000,Petrol,Individual,Manual,0\\r\\nKTM RC200,2016,1.2,1.78,6000,Petrol,Individual,Manual,0\\r\\nRoyal Enfield Thunder 350,2016,1.15,1.5,8700,Petrol,Individual,Manual,0\\r\\nKTM 390 Duke ,2014,1.15,2.4,7000,Petrol,Individual,Manual,0\\r\\nMahindra Mojo XT300,2016,1.15,1.4,35000,Petrol,Individual,Manual,0\\r\\nRoyal Enfield Classic 350,2015,1.15,1.47,17000,Petrol,Individual,Manual,0\\r\\nRoyal Enfield Classic 350,2015,1.11,1.47,17500,Petrol,Individual,Manual,0\\r\\nRoyal Enfield Classic 350,2013,1.1,1.47,33000,Petrol,Individual,Manual,0\\r\\nRoyal Enfield Thunder 500,2015,1.1,1.9,14000,Petrol,Individual,Manual,0\\r\\nRoyal Enfield Classic 350,2015,1.1,1.47,26000,Petrol,Individual,Manual,0\\r\\nRoyal Enfield Thunder 500,2013,1.05,1.9,5400,Petrol,Individual,Manual,0\\r\\nBajaj Pulsar RS200,2016,1.05,1.26,5700,Petrol,Individual,Manual,0\\r\\nRoyal Enfield Thunder 350,2011,1.05,1.5,6900,Petrol,Individual,Manual,0\\r\\nRoyal Enfield Bullet 350,2016,1.05,1.17,6000,Petrol,Individual,Manual,0\\r\\nRoyal Enfield Classic 350,2013,1,1.47,46500,Petrol,Individual,Manual,0\\r\\nRoyal Enfield Classic 500,2012,0.95,1.75,11500,Petrol,Individual,Manual,0\\r\\nRoyal Enfield Classic 500,2009,0.9,1.75,40000,Petrol,Individual,Manual,0\\r\\nBajaj Avenger 220,2017,0.9,0.95,1300,Petrol,Individual,Manual,0\\r\\nBajaj Avenger 150,2016,0.75,0.8,7000,Petrol,Individual,Manual,0\\r\\nHonda CB Hornet 160R,2017,0.8,0.87,3000,Petrol,Individual,Manual,0\\r\\nYamaha FZ S V 2.0,2017,0.78,0.84,5000,Petrol,Individual,Manual,0\\r\\nHonda CB Hornet 160R,2017,0.75,0.87,11000,Petrol,Individual,Manual,0\\r\\nYamaha FZ 16,2015,0.75,0.82,18000,Petrol,Individual,Manual,0\\r\\nBajaj Avenger 220,2017,0.75,0.95,3500,Petrol,Individual,Manual,0\\r\\nBajaj Avenger 220,2016,0.72,0.95,500,Petrol,Individual,Manual,0\\r\\nTVS Apache RTR 160,2017,0.65,0.81,11800,Petrol,Individual,Manual,0\\r\\nBajaj Pulsar 150,2015,0.65,0.74,5000,Petrol,Individual,Manual,0\\r\\nHonda CBR 150,2014,0.65,1.2,23500,Petrol,Individual,Manual,0\\r\\nHero Extreme,2013,0.65,0.787,16000,Petrol,Individual,Manual,0\\r\\nHonda CB Hornet 160R,2016,0.6,0.87,15000,Petrol,Individual,Manual,0\\r\\nBajaj Avenger 220 dtsi,2015,0.6,0.95,16600,Petrol,Individual,Manual,0\\r\\nHonda CBR 150,2013,0.6,1.2,32000,Petrol,Individual,Manual,0\\r\\nBajaj Avenger 150 street,2016,0.6,0.8,20000,Petrol,Individual,Manual,0\\r\\nYamaha FZ  v 2.0,2015,0.6,0.84,29000,Petrol,Individual,Manual,0\\r\\nYamaha FZ  v 2.0,2016,0.6,0.84,25000,Petrol,Individual,Manual,0\\r\\nBajaj Pulsar  NS 200,2014,0.6,0.99,25000,Petrol,Individual,Manual,0\\r\\nTVS Apache RTR 160,2012,0.6,0.81,19000,Petrol,Individual,Manual,0\\r\\nHero Extreme,2014,0.55,0.787,15000,Petrol,Individual,Manual,0\\r\\nYamaha FZ S V 2.0,2015,0.55,0.84,58000,Petrol,Individual,Manual,0\\r\\nBajaj Pulsar 220 F,2010,0.52,0.94,45000,Petrol,Individual,Manual,0\\r\\nBajaj Pulsar 220 F,2016,0.51,0.94,24000,Petrol,Individual,Manual,0\\r\\nTVS Apache RTR 180,2011,0.5,0.826,6000,Petrol,Individual,Manual,0\\r\\nHero Passion X pro,2016,0.5,0.55,31000,Petrol,Individual,Manual,0\\r\\nBajaj Pulsar NS 200,2012,0.5,0.99,13000,Petrol,Individual,Manual,0\\r\\nBajaj Pulsar NS 200,2013,0.5,0.99,45000,Petrol,Individual,Manual,0\\r\\nYamaha Fazer ,2014,0.5,0.88,8000,Petrol,Individual,Manual,0\\r\\nHonda Activa 4G,2017,0.48,0.51,4300,Petrol,Individual,Automatic,0\\r\\nTVS Sport ,2017,0.48,0.52,15000,Petrol,Individual,Manual,0\\r\\nYamaha FZ S V 2.0,2015,0.48,0.84,23000,Petrol,Individual,Manual,0\\r\\nHonda Dream Yuga ,2017,0.48,0.54,8600,Petrol,Individual,Manual,0\\r\\nHonda Activa 4G,2017,0.45,0.51,4000,Petrol,Individual,Automatic,0\\r\\nBajaj Avenger Street 220,2011,0.45,0.95,24000,Petrol,Individual,Manual,0\\r\\nTVS Apache RTR 180,2014,0.45,0.826,23000,Petrol,Individual,Manual,0\\r\\nBajaj Pulsar NS 200,2012,0.45,0.99,14500,Petrol,Individual,Manual,0\\r\\nBajaj Avenger 220 dtsi,2010,0.45,0.95,27000,Petrol,Individual,Manual,0\\r\\nHero Splender iSmart,2016,0.45,0.54,14000,Petrol,Individual,Manual,0\\r\\nActiva 3g,2016,0.45,0.54,500,Petrol,Individual,Automatic,0\\r\\nHero Passion Pro,2016,0.45,0.55,1000,Petrol,Individual,Manual,0\\r\\nTVS Apache RTR 160,2014,0.42,0.81,42000,Petrol,Individual,Manual,0\\r\\nHonda CB Trigger,2013,0.42,0.73,12000,Petrol,Individual,Manual,0\\r\\nHero Splender iSmart,2015,0.4,0.54,14000,Petrol,Individual,Manual,0\\r\\nYamaha FZ S ,2012,0.4,0.83,5500,Petrol,Individual,Manual,0\\r\\nHero Passion Pro,2015,0.4,0.55,6700,Petrol,Individual,Manual,0\\r\\nBajaj Pulsar 135 LS,2014,0.4,0.64,13700,Petrol,Individual,Manual,0\\r\\nActiva 4g,2017,0.4,0.51,1300,Petrol,Individual,Automatic,0\\r\\nHonda CB Unicorn,2015,0.38,0.72,38600,Petrol,Individual,Manual,0\\r\\nHero Honda CBZ extreme,2011,0.38,0.787,75000,Petrol,Individual,Manual,0\\r\\nHonda Karizma,2011,0.35,1.05,30000,Petrol,Individual,Manual,0\\r\\nHonda Activa 125,2016,0.35,0.57,24000,Petrol,Individual,Automatic,0\\r\\nTVS Jupyter,2014,0.35,0.52,19000,Petrol,Individual,Automatic,0\\r\\nHonda Karizma,2010,0.31,1.05,213000,Petrol,Individual,Manual,0\\r\\nHero Honda Passion Pro,2012,0.3,0.51,60000,Petrol,Individual,Manual,0\\r\\nHero Splender Plus,2016,0.3,0.48,50000,Petrol,Individual,Manual,0\\r\\nHonda CB Shine,2013,0.3,0.58,30000,Petrol,Individual,Manual,0\\r\\nBajaj Discover 100,2013,0.27,0.47,21000,Petrol,Individual,Manual,0\\r\\nBajaj Pulsar 150,2008,0.25,0.75,26000,Petrol,Individual,Manual,1\\r\\nSuzuki Access 125,2008,0.25,0.58,1900,Petrol,Individual,Automatic,0\\r\\nTVS Wego,2010,0.25,0.52,22000,Petrol,Individual,Automatic,0\\r\\nHonda CB twister,2013,0.25,0.51,32000,Petrol,Individual,Manual,0\\r\\nHero Glamour,2013,0.25,0.57,18000,Petrol,Individual,Manual,0\\r\\nHero Super Splendor,2005,0.2,0.57,55000,Petrol,Individual,Manual,0\\r\\nBajaj Pulsar 150,2008,0.2,0.75,60000,Petrol,Individual,Manual,0\\r\\nBajaj Discover 125,2012,0.2,0.57,25000,Petrol,Individual,Manual,1\\r\\nHero Hunk,2007,0.2,0.75,49000,Petrol,Individual,Manual,1\\r\\nHero  Ignitor Disc,2013,0.2,0.65,24000,Petrol,Individual,Manual,1\\r\\nHero  CBZ Xtreme,2008,0.2,0.787,50000,Petrol,Individual,Manual,0\\r\\nBajaj  ct 100,2015,0.18,0.32,35000,Petrol,Individual,Manual,0\\r\\nActiva 3g,2008,0.17,0.52,500000,Petrol,Individual,Automatic,0\\r\\nHonda CB twister,2010,0.16,0.51,33000,Petrol,Individual,Manual,0\\r\\nBajaj Discover 125,2011,0.15,0.57,35000,Petrol,Individual,Manual,1\\r\\nHonda CB Shine,2007,0.12,0.58,53000,Petrol,Individual,Manual,0\\r\\nBajaj Pulsar 150,2006,0.1,0.75,92233,Petrol,Individual,Manual,0\\r\\ni20,2010,3.25,6.79,58000,Diesel,Dealer,Manual,1\\r\\ngrand i10,2015,4.4,5.7,28200,Petrol,Dealer,Manual,0\\r\\ni10,2011,2.95,4.6,53460,Petrol,Dealer,Manual,0\\r\\neon,2015,2.75,4.43,28282,Petrol,Dealer,Manual,0\\r\\ngrand i10,2016,5.25,5.7,3493,Petrol,Dealer,Manual,1\\r\\nxcent,2017,5.75,7.13,12479,Petrol,Dealer,Manual,0\\r\\ngrand i10,2015,5.15,5.7,34797,Petrol,Dealer,Automatic,0\\r\\ni20,2017,7.9,8.1,3435,Petrol,Dealer,Manual,0\\r\\ngrand i10,2015,4.85,5.7,21125,Diesel,Dealer,Manual,0\\r\\ni10,2012,3.1,4.6,35775,Petrol,Dealer,Manual,0\\r\\nelantra,2015,11.75,14.79,43535,Diesel,Dealer,Manual,0\\r\\ncreta,2016,11.25,13.6,22671,Petrol,Dealer,Manual,0\\r\\ni20,2011,2.9,6.79,31604,Petrol,Dealer,Manual,0\\r\\ngrand i10,2017,5.25,5.7,20114,Petrol,Dealer,Manual,0\\r\\nverna,2012,4.5,9.4,36100,Petrol,Dealer,Manual,0\\r\\neon,2016,2.9,4.43,12500,Petrol,Dealer,Manual,0\\r\\neon,2016,3.15,4.43,15000,Petrol,Dealer,Manual,0\\r\\nverna,2014,6.45,9.4,45078,Petrol,Dealer,Manual,0\\r\\nverna,2012,4.5,9.4,36000,Petrol,Dealer,Manual,0\\r\\neon,2017,3.5,4.43,38488,Petrol,Dealer,Manual,0\\r\\ni20,2013,4.5,6.79,32000,Petrol,Dealer,Automatic,0\\r\\ni20,2014,6,7.6,77632,Diesel,Dealer,Manual,0\\r\\nverna,2015,8.25,9.4,61381,Diesel,Dealer,Manual,0\\r\\nverna,2013,5.11,9.4,36198,Petrol,Dealer,Automatic,0\\r\\ni10,2011,2.7,4.6,22517,Petrol,Dealer,Manual,0\\r\\ngrand i10,2015,5.25,5.7,24678,Petrol,Dealer,Manual,0\\r\\ni10,2011,2.55,4.43,57000,Petrol,Dealer,Manual,0\\r\\nverna,2012,4.95,9.4,60000,Diesel,Dealer,Manual,0\\r\\ni20,2012,3.1,6.79,52132,Diesel,Dealer,Manual,0\\r\\nverna,2013,6.15,9.4,45000,Diesel,Dealer,Manual,0\\r\\nverna,2017,9.25,9.4,15001,Petrol,Dealer,Manual,0\\r\\nelantra,2015,11.45,14.79,12900,Petrol,Dealer,Automatic,0\\r\\ngrand i10,2013,3.9,5.7,53000,Diesel,Dealer,Manual,0\\r\\ngrand i10,2015,5.5,5.7,4492,Petrol,Dealer,Manual,0\\r\\nverna,2017,9.1,9.4,15141,Petrol,Dealer,Manual,0\\r\\neon,2016,3.1,4.43,11849,Petrol,Dealer,Manual,0\\r\\ncreta,2015,11.25,13.6,68000,Diesel,Dealer,Manual,0\\r\\nverna,2013,4.8,9.4,60241,Petrol,Dealer,Manual,0\\r\\neon,2012,2,4.43,23709,Petrol,Dealer,Manual,0\\r\\nverna,2012,5.35,9.4,32322,Diesel,Dealer,Manual,0\\r\\nxcent,2015,4.75,7.13,35866,Petrol,Dealer,Manual,1\\r\\nxcent,2014,4.4,7.13,34000,Petrol,Dealer,Manual,0\\r\\ni20,2016,6.25,7.6,7000,Petrol,Dealer,Manual,0\\r\\nverna,2013,5.95,9.4,49000,Diesel,Dealer,Manual,0\\r\\nverna,2012,5.2,9.4,71000,Diesel,Dealer,Manual,0\\r\\ni20,2012,3.75,6.79,35000,Petrol,Dealer,Manual,0\\r\\nverna,2015,5.95,9.4,36000,Petrol,Dealer,Manual,0\\r\\ni10,2013,4,4.6,30000,Petrol,Dealer,Manual,0\\r\\ni20,2016,5.25,7.6,17000,Petrol,Dealer,Manual,0\\r\\ncreta,2016,12.9,13.6,35934,Diesel,Dealer,Manual,0\\r\\ncity,2013,5,9.9,56701,Petrol,Dealer,Manual,0\\r\\nbrio,2015,5.4,6.82,31427,Petrol,Dealer,Automatic,0\\r\\ncity,2014,7.2,9.9,48000,Diesel,Dealer,Manual,0\\r\\ncity,2013,5.25,9.9,54242,Petrol,Dealer,Manual,0\\r\\nbrio,2012,3,5.35,53675,Petrol,Dealer,Manual,0\\r\\ncity,2016,10.25,13.6,49562,Petrol,Dealer,Manual,0\\r\\ncity,2015,8.5,13.6,40324,Petrol,Dealer,Manual,0\\r\\ncity,2015,8.4,13.6,25000,Petrol,Dealer,Manual,0\\r\\namaze,2014,3.9,7,36054,Petrol,Dealer,Manual,0\\r\\ncity,2016,9.15,13.6,29223,Petrol,Dealer,Manual,0\\r\\nbrio,2016,5.5,5.97,5600,Petrol,Dealer,Manual,0\\r\\namaze,2015,4,5.8,40023,Petrol,Dealer,Manual,0\\r\\njazz,2016,6.6,7.7,16002,Petrol,Dealer,Manual,0\\r\\namaze,2015,4,7,40026,Petrol,Dealer,Manual,0\\r\\njazz,2017,6.5,8.7,21200,Petrol,Dealer,Manual,0\\r\\namaze,2014,3.65,7,35000,Petrol,Dealer,Manual,0\\r\\ncity,2016,8.35,9.4,19434,Diesel,Dealer,Manual,0\\r\\nbrio,2017,4.8,5.8,19000,Petrol,Dealer,Manual,0\\r\\ncity,2015,6.7,10,18828,Petrol,Dealer,Manual,0\\r\\ncity,2011,4.1,10,69341,Petrol,Dealer,Manual,0\\r\\ncity,2009,3,10,69562,Petrol,Dealer,Manual,0\\r\\ncity,2015,7.5,10,27600,Petrol,Dealer,Manual,0\\r\\njazz,2010,2.25,7.5,61203,Petrol,Dealer,Manual,0\\r\\nbrio,2014,5.3,6.8,16500,Petrol,Dealer,Manual,0\\r\\ncity,2016,10.9,13.6,30753,Petrol,Dealer,Automatic,0\\r\\ncity,2015,8.65,13.6,24800,Petrol,Dealer,Manual,0\\r\\ncity,2015,9.7,13.6,21780,Petrol,Dealer,Manual,0\\r\\njazz,2016,6,8.4,4000,Petrol,Dealer,Manual,0\\r\\ncity,2014,6.25,13.6,40126,Petrol,Dealer,Manual,0\\r\\nbrio,2015,5.25,5.9,14465,Petrol,Dealer,Manual,0\\r\\ncity,2006,2.1,7.6,50456,Petrol,Dealer,Manual,0\\r\\ncity,2014,8.25,14,63000,Diesel,Dealer,Manual,0\\r\\ncity,2016,8.99,11.8,9010,Petrol,Dealer,Manual,0\\r\\nbrio,2013,3.5,5.9,9800,Petrol,Dealer,Manual,0\\r\\njazz,2016,7.4,8.5,15059,Petrol,Dealer,Automatic,0\\r\\njazz,2016,5.65,7.9,28569,Petrol,Dealer,Manual,0\\r\\namaze,2015,5.75,7.5,44000,Petrol,Dealer,Automatic,0\\r\\ncity,2015,8.4,13.6,34000,Petrol,Dealer,Manual,0\\r\\ncity,2016,10.11,13.6,10980,Petrol,Dealer,Manual,0\\r\\namaze,2014,4.5,6.4,19000,Petrol,Dealer,Manual,0\\r\\nbrio,2015,5.4,6.1,31427,Petrol,Dealer,Manual,0\\r\\njazz,2016,6.4,8.4,12000,Petrol,Dealer,Manual,0\\r\\ncity,2010,3.25,9.9,38000,Petrol,Dealer,Manual,0\\r\\namaze,2014,3.75,6.8,33019,Petrol,Dealer,Manual,0\\r\\ncity,2015,8.55,13.09,60076,Diesel,Dealer,Manual,0\\r\\ncity,2016,9.5,11.6,33988,Diesel,Dealer,Manual,0\\r\\nbrio,2015,4,5.9,60000,Petrol,Dealer,Manual,0\\r\\ncity,2009,3.35,11,87934,Petrol,Dealer,Manual,0\\r\\ncity,2017,11.5,12.5,9000,Diesel,Dealer,Manual,0\\r\\nbrio,2016,5.3,5.9,5464,Petrol,Dealer,Manual,0\\r\\n'}"
            ]
          },
          "metadata": {},
          "execution_count": 2
        }
      ]
    },
    {
      "cell_type": "code",
      "source": [
        "car_dataset = pd.read_csv('car data.csv')\n",
        "car_dataset"
      ],
      "metadata": {
        "id": "KsbVR_zF62yo",
        "colab": {
          "base_uri": "https://localhost:8080/",
          "height": 424
        },
        "outputId": "fdba22bb-5d65-4823-e798-ea11ade08e69"
      },
      "execution_count": 34,
      "outputs": [
        {
          "output_type": "execute_result",
          "data": {
            "text/plain": [
              "    Car_Name  Year  Selling_Price  Present_Price  Kms_Driven Fuel_Type  \\\n",
              "0       ritz  2014           3.35           5.59       27000    Petrol   \n",
              "1        sx4  2013           4.75           9.54       43000    Diesel   \n",
              "2       ciaz  2017           7.25           9.85        6900    Petrol   \n",
              "3    wagon r  2011           2.85           4.15        5200    Petrol   \n",
              "4      swift  2014           4.60           6.87       42450    Diesel   \n",
              "..       ...   ...            ...            ...         ...       ...   \n",
              "296     city  2016           9.50          11.60       33988    Diesel   \n",
              "297     brio  2015           4.00           5.90       60000    Petrol   \n",
              "298     city  2009           3.35          11.00       87934    Petrol   \n",
              "299     city  2017          11.50          12.50        9000    Diesel   \n",
              "300     brio  2016           5.30           5.90        5464    Petrol   \n",
              "\n",
              "    Seller_Type Transmission  Owner  \n",
              "0        Dealer       Manual      0  \n",
              "1        Dealer       Manual      0  \n",
              "2        Dealer       Manual      0  \n",
              "3        Dealer       Manual      0  \n",
              "4        Dealer       Manual      0  \n",
              "..          ...          ...    ...  \n",
              "296      Dealer       Manual      0  \n",
              "297      Dealer       Manual      0  \n",
              "298      Dealer       Manual      0  \n",
              "299      Dealer       Manual      0  \n",
              "300      Dealer       Manual      0  \n",
              "\n",
              "[301 rows x 9 columns]"
            ],
            "text/html": [
              "\n",
              "  <div id=\"df-b618dcaa-b857-4962-af62-e563e6bbfa4f\">\n",
              "    <div class=\"colab-df-container\">\n",
              "      <div>\n",
              "<style scoped>\n",
              "    .dataframe tbody tr th:only-of-type {\n",
              "        vertical-align: middle;\n",
              "    }\n",
              "\n",
              "    .dataframe tbody tr th {\n",
              "        vertical-align: top;\n",
              "    }\n",
              "\n",
              "    .dataframe thead th {\n",
              "        text-align: right;\n",
              "    }\n",
              "</style>\n",
              "<table border=\"1\" class=\"dataframe\">\n",
              "  <thead>\n",
              "    <tr style=\"text-align: right;\">\n",
              "      <th></th>\n",
              "      <th>Car_Name</th>\n",
              "      <th>Year</th>\n",
              "      <th>Selling_Price</th>\n",
              "      <th>Present_Price</th>\n",
              "      <th>Kms_Driven</th>\n",
              "      <th>Fuel_Type</th>\n",
              "      <th>Seller_Type</th>\n",
              "      <th>Transmission</th>\n",
              "      <th>Owner</th>\n",
              "    </tr>\n",
              "  </thead>\n",
              "  <tbody>\n",
              "    <tr>\n",
              "      <th>0</th>\n",
              "      <td>ritz</td>\n",
              "      <td>2014</td>\n",
              "      <td>3.35</td>\n",
              "      <td>5.59</td>\n",
              "      <td>27000</td>\n",
              "      <td>Petrol</td>\n",
              "      <td>Dealer</td>\n",
              "      <td>Manual</td>\n",
              "      <td>0</td>\n",
              "    </tr>\n",
              "    <tr>\n",
              "      <th>1</th>\n",
              "      <td>sx4</td>\n",
              "      <td>2013</td>\n",
              "      <td>4.75</td>\n",
              "      <td>9.54</td>\n",
              "      <td>43000</td>\n",
              "      <td>Diesel</td>\n",
              "      <td>Dealer</td>\n",
              "      <td>Manual</td>\n",
              "      <td>0</td>\n",
              "    </tr>\n",
              "    <tr>\n",
              "      <th>2</th>\n",
              "      <td>ciaz</td>\n",
              "      <td>2017</td>\n",
              "      <td>7.25</td>\n",
              "      <td>9.85</td>\n",
              "      <td>6900</td>\n",
              "      <td>Petrol</td>\n",
              "      <td>Dealer</td>\n",
              "      <td>Manual</td>\n",
              "      <td>0</td>\n",
              "    </tr>\n",
              "    <tr>\n",
              "      <th>3</th>\n",
              "      <td>wagon r</td>\n",
              "      <td>2011</td>\n",
              "      <td>2.85</td>\n",
              "      <td>4.15</td>\n",
              "      <td>5200</td>\n",
              "      <td>Petrol</td>\n",
              "      <td>Dealer</td>\n",
              "      <td>Manual</td>\n",
              "      <td>0</td>\n",
              "    </tr>\n",
              "    <tr>\n",
              "      <th>4</th>\n",
              "      <td>swift</td>\n",
              "      <td>2014</td>\n",
              "      <td>4.60</td>\n",
              "      <td>6.87</td>\n",
              "      <td>42450</td>\n",
              "      <td>Diesel</td>\n",
              "      <td>Dealer</td>\n",
              "      <td>Manual</td>\n",
              "      <td>0</td>\n",
              "    </tr>\n",
              "    <tr>\n",
              "      <th>...</th>\n",
              "      <td>...</td>\n",
              "      <td>...</td>\n",
              "      <td>...</td>\n",
              "      <td>...</td>\n",
              "      <td>...</td>\n",
              "      <td>...</td>\n",
              "      <td>...</td>\n",
              "      <td>...</td>\n",
              "      <td>...</td>\n",
              "    </tr>\n",
              "    <tr>\n",
              "      <th>296</th>\n",
              "      <td>city</td>\n",
              "      <td>2016</td>\n",
              "      <td>9.50</td>\n",
              "      <td>11.60</td>\n",
              "      <td>33988</td>\n",
              "      <td>Diesel</td>\n",
              "      <td>Dealer</td>\n",
              "      <td>Manual</td>\n",
              "      <td>0</td>\n",
              "    </tr>\n",
              "    <tr>\n",
              "      <th>297</th>\n",
              "      <td>brio</td>\n",
              "      <td>2015</td>\n",
              "      <td>4.00</td>\n",
              "      <td>5.90</td>\n",
              "      <td>60000</td>\n",
              "      <td>Petrol</td>\n",
              "      <td>Dealer</td>\n",
              "      <td>Manual</td>\n",
              "      <td>0</td>\n",
              "    </tr>\n",
              "    <tr>\n",
              "      <th>298</th>\n",
              "      <td>city</td>\n",
              "      <td>2009</td>\n",
              "      <td>3.35</td>\n",
              "      <td>11.00</td>\n",
              "      <td>87934</td>\n",
              "      <td>Petrol</td>\n",
              "      <td>Dealer</td>\n",
              "      <td>Manual</td>\n",
              "      <td>0</td>\n",
              "    </tr>\n",
              "    <tr>\n",
              "      <th>299</th>\n",
              "      <td>city</td>\n",
              "      <td>2017</td>\n",
              "      <td>11.50</td>\n",
              "      <td>12.50</td>\n",
              "      <td>9000</td>\n",
              "      <td>Diesel</td>\n",
              "      <td>Dealer</td>\n",
              "      <td>Manual</td>\n",
              "      <td>0</td>\n",
              "    </tr>\n",
              "    <tr>\n",
              "      <th>300</th>\n",
              "      <td>brio</td>\n",
              "      <td>2016</td>\n",
              "      <td>5.30</td>\n",
              "      <td>5.90</td>\n",
              "      <td>5464</td>\n",
              "      <td>Petrol</td>\n",
              "      <td>Dealer</td>\n",
              "      <td>Manual</td>\n",
              "      <td>0</td>\n",
              "    </tr>\n",
              "  </tbody>\n",
              "</table>\n",
              "<p>301 rows × 9 columns</p>\n",
              "</div>\n",
              "      <button class=\"colab-df-convert\" onclick=\"convertToInteractive('df-b618dcaa-b857-4962-af62-e563e6bbfa4f')\"\n",
              "              title=\"Convert this dataframe to an interactive table.\"\n",
              "              style=\"display:none;\">\n",
              "        \n",
              "  <svg xmlns=\"http://www.w3.org/2000/svg\" height=\"24px\"viewBox=\"0 0 24 24\"\n",
              "       width=\"24px\">\n",
              "    <path d=\"M0 0h24v24H0V0z\" fill=\"none\"/>\n",
              "    <path d=\"M18.56 5.44l.94 2.06.94-2.06 2.06-.94-2.06-.94-.94-2.06-.94 2.06-2.06.94zm-11 1L8.5 8.5l.94-2.06 2.06-.94-2.06-.94L8.5 2.5l-.94 2.06-2.06.94zm10 10l.94 2.06.94-2.06 2.06-.94-2.06-.94-.94-2.06-.94 2.06-2.06.94z\"/><path d=\"M17.41 7.96l-1.37-1.37c-.4-.4-.92-.59-1.43-.59-.52 0-1.04.2-1.43.59L10.3 9.45l-7.72 7.72c-.78.78-.78 2.05 0 2.83L4 21.41c.39.39.9.59 1.41.59.51 0 1.02-.2 1.41-.59l7.78-7.78 2.81-2.81c.8-.78.8-2.07 0-2.86zM5.41 20L4 18.59l7.72-7.72 1.47 1.35L5.41 20z\"/>\n",
              "  </svg>\n",
              "      </button>\n",
              "      \n",
              "  <style>\n",
              "    .colab-df-container {\n",
              "      display:flex;\n",
              "      flex-wrap:wrap;\n",
              "      gap: 12px;\n",
              "    }\n",
              "\n",
              "    .colab-df-convert {\n",
              "      background-color: #E8F0FE;\n",
              "      border: none;\n",
              "      border-radius: 50%;\n",
              "      cursor: pointer;\n",
              "      display: none;\n",
              "      fill: #1967D2;\n",
              "      height: 32px;\n",
              "      padding: 0 0 0 0;\n",
              "      width: 32px;\n",
              "    }\n",
              "\n",
              "    .colab-df-convert:hover {\n",
              "      background-color: #E2EBFA;\n",
              "      box-shadow: 0px 1px 2px rgba(60, 64, 67, 0.3), 0px 1px 3px 1px rgba(60, 64, 67, 0.15);\n",
              "      fill: #174EA6;\n",
              "    }\n",
              "\n",
              "    [theme=dark] .colab-df-convert {\n",
              "      background-color: #3B4455;\n",
              "      fill: #D2E3FC;\n",
              "    }\n",
              "\n",
              "    [theme=dark] .colab-df-convert:hover {\n",
              "      background-color: #434B5C;\n",
              "      box-shadow: 0px 1px 3px 1px rgba(0, 0, 0, 0.15);\n",
              "      filter: drop-shadow(0px 1px 2px rgba(0, 0, 0, 0.3));\n",
              "      fill: #FFFFFF;\n",
              "    }\n",
              "  </style>\n",
              "\n",
              "      <script>\n",
              "        const buttonEl =\n",
              "          document.querySelector('#df-b618dcaa-b857-4962-af62-e563e6bbfa4f button.colab-df-convert');\n",
              "        buttonEl.style.display =\n",
              "          google.colab.kernel.accessAllowed ? 'block' : 'none';\n",
              "\n",
              "        async function convertToInteractive(key) {\n",
              "          const element = document.querySelector('#df-b618dcaa-b857-4962-af62-e563e6bbfa4f');\n",
              "          const dataTable =\n",
              "            await google.colab.kernel.invokeFunction('convertToInteractive',\n",
              "                                                     [key], {});\n",
              "          if (!dataTable) return;\n",
              "\n",
              "          const docLinkHtml = 'Like what you see? Visit the ' +\n",
              "            '<a target=\"_blank\" href=https://colab.research.google.com/notebooks/data_table.ipynb>data table notebook</a>'\n",
              "            + ' to learn more about interactive tables.';\n",
              "          element.innerHTML = '';\n",
              "          dataTable['output_type'] = 'display_data';\n",
              "          await google.colab.output.renderOutput(dataTable, element);\n",
              "          const docLink = document.createElement('div');\n",
              "          docLink.innerHTML = docLinkHtml;\n",
              "          element.appendChild(docLink);\n",
              "        }\n",
              "      </script>\n",
              "    </div>\n",
              "  </div>\n",
              "  "
            ]
          },
          "metadata": {},
          "execution_count": 34
        }
      ]
    },
    {
      "cell_type": "code",
      "source": [
        "car_dataset.head()"
      ],
      "metadata": {
        "id": "I2mK4MOk7Asa",
        "colab": {
          "base_uri": "https://localhost:8080/",
          "height": 206
        },
        "outputId": "005a8f06-ad76-4b7b-82ea-dfd8a8850433"
      },
      "execution_count": 35,
      "outputs": [
        {
          "output_type": "execute_result",
          "data": {
            "text/plain": [
              "  Car_Name  Year  Selling_Price  Present_Price  Kms_Driven Fuel_Type  \\\n",
              "0     ritz  2014           3.35           5.59       27000    Petrol   \n",
              "1      sx4  2013           4.75           9.54       43000    Diesel   \n",
              "2     ciaz  2017           7.25           9.85        6900    Petrol   \n",
              "3  wagon r  2011           2.85           4.15        5200    Petrol   \n",
              "4    swift  2014           4.60           6.87       42450    Diesel   \n",
              "\n",
              "  Seller_Type Transmission  Owner  \n",
              "0      Dealer       Manual      0  \n",
              "1      Dealer       Manual      0  \n",
              "2      Dealer       Manual      0  \n",
              "3      Dealer       Manual      0  \n",
              "4      Dealer       Manual      0  "
            ],
            "text/html": [
              "\n",
              "  <div id=\"df-a0c6e89a-cf8d-474a-bae9-84f661577a91\">\n",
              "    <div class=\"colab-df-container\">\n",
              "      <div>\n",
              "<style scoped>\n",
              "    .dataframe tbody tr th:only-of-type {\n",
              "        vertical-align: middle;\n",
              "    }\n",
              "\n",
              "    .dataframe tbody tr th {\n",
              "        vertical-align: top;\n",
              "    }\n",
              "\n",
              "    .dataframe thead th {\n",
              "        text-align: right;\n",
              "    }\n",
              "</style>\n",
              "<table border=\"1\" class=\"dataframe\">\n",
              "  <thead>\n",
              "    <tr style=\"text-align: right;\">\n",
              "      <th></th>\n",
              "      <th>Car_Name</th>\n",
              "      <th>Year</th>\n",
              "      <th>Selling_Price</th>\n",
              "      <th>Present_Price</th>\n",
              "      <th>Kms_Driven</th>\n",
              "      <th>Fuel_Type</th>\n",
              "      <th>Seller_Type</th>\n",
              "      <th>Transmission</th>\n",
              "      <th>Owner</th>\n",
              "    </tr>\n",
              "  </thead>\n",
              "  <tbody>\n",
              "    <tr>\n",
              "      <th>0</th>\n",
              "      <td>ritz</td>\n",
              "      <td>2014</td>\n",
              "      <td>3.35</td>\n",
              "      <td>5.59</td>\n",
              "      <td>27000</td>\n",
              "      <td>Petrol</td>\n",
              "      <td>Dealer</td>\n",
              "      <td>Manual</td>\n",
              "      <td>0</td>\n",
              "    </tr>\n",
              "    <tr>\n",
              "      <th>1</th>\n",
              "      <td>sx4</td>\n",
              "      <td>2013</td>\n",
              "      <td>4.75</td>\n",
              "      <td>9.54</td>\n",
              "      <td>43000</td>\n",
              "      <td>Diesel</td>\n",
              "      <td>Dealer</td>\n",
              "      <td>Manual</td>\n",
              "      <td>0</td>\n",
              "    </tr>\n",
              "    <tr>\n",
              "      <th>2</th>\n",
              "      <td>ciaz</td>\n",
              "      <td>2017</td>\n",
              "      <td>7.25</td>\n",
              "      <td>9.85</td>\n",
              "      <td>6900</td>\n",
              "      <td>Petrol</td>\n",
              "      <td>Dealer</td>\n",
              "      <td>Manual</td>\n",
              "      <td>0</td>\n",
              "    </tr>\n",
              "    <tr>\n",
              "      <th>3</th>\n",
              "      <td>wagon r</td>\n",
              "      <td>2011</td>\n",
              "      <td>2.85</td>\n",
              "      <td>4.15</td>\n",
              "      <td>5200</td>\n",
              "      <td>Petrol</td>\n",
              "      <td>Dealer</td>\n",
              "      <td>Manual</td>\n",
              "      <td>0</td>\n",
              "    </tr>\n",
              "    <tr>\n",
              "      <th>4</th>\n",
              "      <td>swift</td>\n",
              "      <td>2014</td>\n",
              "      <td>4.60</td>\n",
              "      <td>6.87</td>\n",
              "      <td>42450</td>\n",
              "      <td>Diesel</td>\n",
              "      <td>Dealer</td>\n",
              "      <td>Manual</td>\n",
              "      <td>0</td>\n",
              "    </tr>\n",
              "  </tbody>\n",
              "</table>\n",
              "</div>\n",
              "      <button class=\"colab-df-convert\" onclick=\"convertToInteractive('df-a0c6e89a-cf8d-474a-bae9-84f661577a91')\"\n",
              "              title=\"Convert this dataframe to an interactive table.\"\n",
              "              style=\"display:none;\">\n",
              "        \n",
              "  <svg xmlns=\"http://www.w3.org/2000/svg\" height=\"24px\"viewBox=\"0 0 24 24\"\n",
              "       width=\"24px\">\n",
              "    <path d=\"M0 0h24v24H0V0z\" fill=\"none\"/>\n",
              "    <path d=\"M18.56 5.44l.94 2.06.94-2.06 2.06-.94-2.06-.94-.94-2.06-.94 2.06-2.06.94zm-11 1L8.5 8.5l.94-2.06 2.06-.94-2.06-.94L8.5 2.5l-.94 2.06-2.06.94zm10 10l.94 2.06.94-2.06 2.06-.94-2.06-.94-.94-2.06-.94 2.06-2.06.94z\"/><path d=\"M17.41 7.96l-1.37-1.37c-.4-.4-.92-.59-1.43-.59-.52 0-1.04.2-1.43.59L10.3 9.45l-7.72 7.72c-.78.78-.78 2.05 0 2.83L4 21.41c.39.39.9.59 1.41.59.51 0 1.02-.2 1.41-.59l7.78-7.78 2.81-2.81c.8-.78.8-2.07 0-2.86zM5.41 20L4 18.59l7.72-7.72 1.47 1.35L5.41 20z\"/>\n",
              "  </svg>\n",
              "      </button>\n",
              "      \n",
              "  <style>\n",
              "    .colab-df-container {\n",
              "      display:flex;\n",
              "      flex-wrap:wrap;\n",
              "      gap: 12px;\n",
              "    }\n",
              "\n",
              "    .colab-df-convert {\n",
              "      background-color: #E8F0FE;\n",
              "      border: none;\n",
              "      border-radius: 50%;\n",
              "      cursor: pointer;\n",
              "      display: none;\n",
              "      fill: #1967D2;\n",
              "      height: 32px;\n",
              "      padding: 0 0 0 0;\n",
              "      width: 32px;\n",
              "    }\n",
              "\n",
              "    .colab-df-convert:hover {\n",
              "      background-color: #E2EBFA;\n",
              "      box-shadow: 0px 1px 2px rgba(60, 64, 67, 0.3), 0px 1px 3px 1px rgba(60, 64, 67, 0.15);\n",
              "      fill: #174EA6;\n",
              "    }\n",
              "\n",
              "    [theme=dark] .colab-df-convert {\n",
              "      background-color: #3B4455;\n",
              "      fill: #D2E3FC;\n",
              "    }\n",
              "\n",
              "    [theme=dark] .colab-df-convert:hover {\n",
              "      background-color: #434B5C;\n",
              "      box-shadow: 0px 1px 3px 1px rgba(0, 0, 0, 0.15);\n",
              "      filter: drop-shadow(0px 1px 2px rgba(0, 0, 0, 0.3));\n",
              "      fill: #FFFFFF;\n",
              "    }\n",
              "  </style>\n",
              "\n",
              "      <script>\n",
              "        const buttonEl =\n",
              "          document.querySelector('#df-a0c6e89a-cf8d-474a-bae9-84f661577a91 button.colab-df-convert');\n",
              "        buttonEl.style.display =\n",
              "          google.colab.kernel.accessAllowed ? 'block' : 'none';\n",
              "\n",
              "        async function convertToInteractive(key) {\n",
              "          const element = document.querySelector('#df-a0c6e89a-cf8d-474a-bae9-84f661577a91');\n",
              "          const dataTable =\n",
              "            await google.colab.kernel.invokeFunction('convertToInteractive',\n",
              "                                                     [key], {});\n",
              "          if (!dataTable) return;\n",
              "\n",
              "          const docLinkHtml = 'Like what you see? Visit the ' +\n",
              "            '<a target=\"_blank\" href=https://colab.research.google.com/notebooks/data_table.ipynb>data table notebook</a>'\n",
              "            + ' to learn more about interactive tables.';\n",
              "          element.innerHTML = '';\n",
              "          dataTable['output_type'] = 'display_data';\n",
              "          await google.colab.output.renderOutput(dataTable, element);\n",
              "          const docLink = document.createElement('div');\n",
              "          docLink.innerHTML = docLinkHtml;\n",
              "          element.appendChild(docLink);\n",
              "        }\n",
              "      </script>\n",
              "    </div>\n",
              "  </div>\n",
              "  "
            ]
          },
          "metadata": {},
          "execution_count": 35
        }
      ]
    },
    {
      "cell_type": "code",
      "source": [
        "car_dataset.shape"
      ],
      "metadata": {
        "id": "-FwfXN347FiR",
        "colab": {
          "base_uri": "https://localhost:8080/"
        },
        "outputId": "c973f207-4fda-4cd2-b1cd-52627a3f24a7"
      },
      "execution_count": 36,
      "outputs": [
        {
          "output_type": "execute_result",
          "data": {
            "text/plain": [
              "(301, 9)"
            ]
          },
          "metadata": {},
          "execution_count": 36
        }
      ]
    },
    {
      "cell_type": "code",
      "source": [
        "car_dataset.info()"
      ],
      "metadata": {
        "id": "5kYWTDE27I0_",
        "colab": {
          "base_uri": "https://localhost:8080/"
        },
        "outputId": "bd410bae-42d5-4c47-ce40-66c98873312d"
      },
      "execution_count": 37,
      "outputs": [
        {
          "output_type": "stream",
          "name": "stdout",
          "text": [
            "<class 'pandas.core.frame.DataFrame'>\n",
            "RangeIndex: 301 entries, 0 to 300\n",
            "Data columns (total 9 columns):\n",
            " #   Column         Non-Null Count  Dtype  \n",
            "---  ------         --------------  -----  \n",
            " 0   Car_Name       301 non-null    object \n",
            " 1   Year           301 non-null    int64  \n",
            " 2   Selling_Price  301 non-null    float64\n",
            " 3   Present_Price  301 non-null    float64\n",
            " 4   Kms_Driven     301 non-null    int64  \n",
            " 5   Fuel_Type      301 non-null    object \n",
            " 6   Seller_Type    301 non-null    object \n",
            " 7   Transmission   301 non-null    object \n",
            " 8   Owner          301 non-null    int64  \n",
            "dtypes: float64(2), int64(3), object(4)\n",
            "memory usage: 21.3+ KB\n"
          ]
        }
      ]
    },
    {
      "cell_type": "code",
      "source": [
        "#checking for missing values\n",
        "car_dataset.isnull().sum()"
      ],
      "metadata": {
        "id": "pc276QQ17Lko",
        "colab": {
          "base_uri": "https://localhost:8080/"
        },
        "outputId": "eb974df2-eb41-44be-e74a-33cdfd232044"
      },
      "execution_count": 38,
      "outputs": [
        {
          "output_type": "execute_result",
          "data": {
            "text/plain": [
              "Car_Name         0\n",
              "Year             0\n",
              "Selling_Price    0\n",
              "Present_Price    0\n",
              "Kms_Driven       0\n",
              "Fuel_Type        0\n",
              "Seller_Type      0\n",
              "Transmission     0\n",
              "Owner            0\n",
              "dtype: int64"
            ]
          },
          "metadata": {},
          "execution_count": 38
        }
      ]
    },
    {
      "cell_type": "code",
      "source": [
        "car_dataset.describe()"
      ],
      "metadata": {
        "id": "9jVw3wOT7TAB",
        "colab": {
          "base_uri": "https://localhost:8080/",
          "height": 300
        },
        "outputId": "b4de16ac-e08e-4468-de1b-4d2c30f40f0b"
      },
      "execution_count": 39,
      "outputs": [
        {
          "output_type": "execute_result",
          "data": {
            "text/plain": [
              "              Year  Selling_Price  Present_Price     Kms_Driven       Owner\n",
              "count   301.000000     301.000000     301.000000     301.000000  301.000000\n",
              "mean   2013.627907       4.661296       7.628472   36947.205980    0.043189\n",
              "std       2.891554       5.082812       8.644115   38886.883882    0.247915\n",
              "min    2003.000000       0.100000       0.320000     500.000000    0.000000\n",
              "25%    2012.000000       0.900000       1.200000   15000.000000    0.000000\n",
              "50%    2014.000000       3.600000       6.400000   32000.000000    0.000000\n",
              "75%    2016.000000       6.000000       9.900000   48767.000000    0.000000\n",
              "max    2018.000000      35.000000      92.600000  500000.000000    3.000000"
            ],
            "text/html": [
              "\n",
              "  <div id=\"df-e8ed3a71-cdf1-46e0-9043-5ed0a87faeab\">\n",
              "    <div class=\"colab-df-container\">\n",
              "      <div>\n",
              "<style scoped>\n",
              "    .dataframe tbody tr th:only-of-type {\n",
              "        vertical-align: middle;\n",
              "    }\n",
              "\n",
              "    .dataframe tbody tr th {\n",
              "        vertical-align: top;\n",
              "    }\n",
              "\n",
              "    .dataframe thead th {\n",
              "        text-align: right;\n",
              "    }\n",
              "</style>\n",
              "<table border=\"1\" class=\"dataframe\">\n",
              "  <thead>\n",
              "    <tr style=\"text-align: right;\">\n",
              "      <th></th>\n",
              "      <th>Year</th>\n",
              "      <th>Selling_Price</th>\n",
              "      <th>Present_Price</th>\n",
              "      <th>Kms_Driven</th>\n",
              "      <th>Owner</th>\n",
              "    </tr>\n",
              "  </thead>\n",
              "  <tbody>\n",
              "    <tr>\n",
              "      <th>count</th>\n",
              "      <td>301.000000</td>\n",
              "      <td>301.000000</td>\n",
              "      <td>301.000000</td>\n",
              "      <td>301.000000</td>\n",
              "      <td>301.000000</td>\n",
              "    </tr>\n",
              "    <tr>\n",
              "      <th>mean</th>\n",
              "      <td>2013.627907</td>\n",
              "      <td>4.661296</td>\n",
              "      <td>7.628472</td>\n",
              "      <td>36947.205980</td>\n",
              "      <td>0.043189</td>\n",
              "    </tr>\n",
              "    <tr>\n",
              "      <th>std</th>\n",
              "      <td>2.891554</td>\n",
              "      <td>5.082812</td>\n",
              "      <td>8.644115</td>\n",
              "      <td>38886.883882</td>\n",
              "      <td>0.247915</td>\n",
              "    </tr>\n",
              "    <tr>\n",
              "      <th>min</th>\n",
              "      <td>2003.000000</td>\n",
              "      <td>0.100000</td>\n",
              "      <td>0.320000</td>\n",
              "      <td>500.000000</td>\n",
              "      <td>0.000000</td>\n",
              "    </tr>\n",
              "    <tr>\n",
              "      <th>25%</th>\n",
              "      <td>2012.000000</td>\n",
              "      <td>0.900000</td>\n",
              "      <td>1.200000</td>\n",
              "      <td>15000.000000</td>\n",
              "      <td>0.000000</td>\n",
              "    </tr>\n",
              "    <tr>\n",
              "      <th>50%</th>\n",
              "      <td>2014.000000</td>\n",
              "      <td>3.600000</td>\n",
              "      <td>6.400000</td>\n",
              "      <td>32000.000000</td>\n",
              "      <td>0.000000</td>\n",
              "    </tr>\n",
              "    <tr>\n",
              "      <th>75%</th>\n",
              "      <td>2016.000000</td>\n",
              "      <td>6.000000</td>\n",
              "      <td>9.900000</td>\n",
              "      <td>48767.000000</td>\n",
              "      <td>0.000000</td>\n",
              "    </tr>\n",
              "    <tr>\n",
              "      <th>max</th>\n",
              "      <td>2018.000000</td>\n",
              "      <td>35.000000</td>\n",
              "      <td>92.600000</td>\n",
              "      <td>500000.000000</td>\n",
              "      <td>3.000000</td>\n",
              "    </tr>\n",
              "  </tbody>\n",
              "</table>\n",
              "</div>\n",
              "      <button class=\"colab-df-convert\" onclick=\"convertToInteractive('df-e8ed3a71-cdf1-46e0-9043-5ed0a87faeab')\"\n",
              "              title=\"Convert this dataframe to an interactive table.\"\n",
              "              style=\"display:none;\">\n",
              "        \n",
              "  <svg xmlns=\"http://www.w3.org/2000/svg\" height=\"24px\"viewBox=\"0 0 24 24\"\n",
              "       width=\"24px\">\n",
              "    <path d=\"M0 0h24v24H0V0z\" fill=\"none\"/>\n",
              "    <path d=\"M18.56 5.44l.94 2.06.94-2.06 2.06-.94-2.06-.94-.94-2.06-.94 2.06-2.06.94zm-11 1L8.5 8.5l.94-2.06 2.06-.94-2.06-.94L8.5 2.5l-.94 2.06-2.06.94zm10 10l.94 2.06.94-2.06 2.06-.94-2.06-.94-.94-2.06-.94 2.06-2.06.94z\"/><path d=\"M17.41 7.96l-1.37-1.37c-.4-.4-.92-.59-1.43-.59-.52 0-1.04.2-1.43.59L10.3 9.45l-7.72 7.72c-.78.78-.78 2.05 0 2.83L4 21.41c.39.39.9.59 1.41.59.51 0 1.02-.2 1.41-.59l7.78-7.78 2.81-2.81c.8-.78.8-2.07 0-2.86zM5.41 20L4 18.59l7.72-7.72 1.47 1.35L5.41 20z\"/>\n",
              "  </svg>\n",
              "      </button>\n",
              "      \n",
              "  <style>\n",
              "    .colab-df-container {\n",
              "      display:flex;\n",
              "      flex-wrap:wrap;\n",
              "      gap: 12px;\n",
              "    }\n",
              "\n",
              "    .colab-df-convert {\n",
              "      background-color: #E8F0FE;\n",
              "      border: none;\n",
              "      border-radius: 50%;\n",
              "      cursor: pointer;\n",
              "      display: none;\n",
              "      fill: #1967D2;\n",
              "      height: 32px;\n",
              "      padding: 0 0 0 0;\n",
              "      width: 32px;\n",
              "    }\n",
              "\n",
              "    .colab-df-convert:hover {\n",
              "      background-color: #E2EBFA;\n",
              "      box-shadow: 0px 1px 2px rgba(60, 64, 67, 0.3), 0px 1px 3px 1px rgba(60, 64, 67, 0.15);\n",
              "      fill: #174EA6;\n",
              "    }\n",
              "\n",
              "    [theme=dark] .colab-df-convert {\n",
              "      background-color: #3B4455;\n",
              "      fill: #D2E3FC;\n",
              "    }\n",
              "\n",
              "    [theme=dark] .colab-df-convert:hover {\n",
              "      background-color: #434B5C;\n",
              "      box-shadow: 0px 1px 3px 1px rgba(0, 0, 0, 0.15);\n",
              "      filter: drop-shadow(0px 1px 2px rgba(0, 0, 0, 0.3));\n",
              "      fill: #FFFFFF;\n",
              "    }\n",
              "  </style>\n",
              "\n",
              "      <script>\n",
              "        const buttonEl =\n",
              "          document.querySelector('#df-e8ed3a71-cdf1-46e0-9043-5ed0a87faeab button.colab-df-convert');\n",
              "        buttonEl.style.display =\n",
              "          google.colab.kernel.accessAllowed ? 'block' : 'none';\n",
              "\n",
              "        async function convertToInteractive(key) {\n",
              "          const element = document.querySelector('#df-e8ed3a71-cdf1-46e0-9043-5ed0a87faeab');\n",
              "          const dataTable =\n",
              "            await google.colab.kernel.invokeFunction('convertToInteractive',\n",
              "                                                     [key], {});\n",
              "          if (!dataTable) return;\n",
              "\n",
              "          const docLinkHtml = 'Like what you see? Visit the ' +\n",
              "            '<a target=\"_blank\" href=https://colab.research.google.com/notebooks/data_table.ipynb>data table notebook</a>'\n",
              "            + ' to learn more about interactive tables.';\n",
              "          element.innerHTML = '';\n",
              "          dataTable['output_type'] = 'display_data';\n",
              "          await google.colab.output.renderOutput(dataTable, element);\n",
              "          const docLink = document.createElement('div');\n",
              "          docLink.innerHTML = docLinkHtml;\n",
              "          element.appendChild(docLink);\n",
              "        }\n",
              "      </script>\n",
              "    </div>\n",
              "  </div>\n",
              "  "
            ]
          },
          "metadata": {},
          "execution_count": 39
        }
      ]
    },
    {
      "cell_type": "markdown",
      "source": [
        "**Categorical Features:**\n"
      ],
      "metadata": {
        "id": "yg8qaeg97Z2Z"
      }
    },
    {
      "cell_type": "markdown",
      "source": [
        "- .fuel type\n",
        "- .seller type\n",
        "- .transmission "
      ],
      "metadata": {
        "id": "hgJe6-lp70Xs"
      }
    },
    {
      "cell_type": "code",
      "source": [
        "# distribution of year\n",
        "sns.set()\n",
        "plt.figure(figsize = (6,6))\n",
        "sns.distplot(car_dataset['Year'])\n",
        "plt.title('Year Distribution')\n",
        "plt.show()"
      ],
      "metadata": {
        "id": "j7oVp0TR7slG",
        "colab": {
          "base_uri": "https://localhost:8080/",
          "height": 465
        },
        "outputId": "5920a668-ea44-4af9-d53e-dadc176e7c5c"
      },
      "execution_count": 40,
      "outputs": [
        {
          "output_type": "stream",
          "name": "stderr",
          "text": [
            "/usr/local/lib/python3.7/dist-packages/seaborn/distributions.py:2619: FutureWarning: `distplot` is a deprecated function and will be removed in a future version. Please adapt your code to use either `displot` (a figure-level function with similar flexibility) or `histplot` (an axes-level function for histograms).\n",
            "  warnings.warn(msg, FutureWarning)\n"
          ]
        },
        {
          "output_type": "display_data",
          "data": {
            "text/plain": [
              "<Figure size 432x432 with 1 Axes>"
            ],
            "image/png": "[encoded data removed]"
          },
          "metadata": {}
        }
      ]
    },
    {
      "cell_type": "code",
      "source": [
        "# fuel type column\n",
        "plt.figure(figsize = (6,6))\n",
        "sns.countplot(x = 'Fuel_Type', data = car_dataset)\n",
        "plt.title('Fuel Type Distribution')\n",
        "plt.show()"
      ],
      "metadata": {
        "id": "HfKzguZa8XYp",
        "colab": {
          "base_uri": "https://localhost:8080/",
          "height": 410
        },
        "outputId": "1ef10f67-a90c-41f4-b17b-263a8c522c23"
      },
      "execution_count": 41,
      "outputs": [
        {
          "output_type": "display_data",
          "data": {
            "text/plain": [
              "<Figure size 432x432 with 1 Axes>"
            ],
            "image/png": "[encoded data removed]"
          },
          "metadata": {}
        }
      ]
    },
    {
      "cell_type": "code",
      "source": [
        "car_dataset['Fuel_Type'].value_counts()"
      ],
      "metadata": {
        "id": "Ni-T6sLZ7dJL",
        "colab": {
          "base_uri": "https://localhost:8080/"
        },
        "outputId": "f2afc5b4-4468-4f3b-f83c-52ef8353a4ec"
      },
      "execution_count": 42,
      "outputs": [
        {
          "output_type": "execute_result",
          "data": {
            "text/plain": [
              "Petrol    239\n",
              "Diesel     60\n",
              "CNG         2\n",
              "Name: Fuel_Type, dtype: int64"
            ]
          },
          "metadata": {},
          "execution_count": 42
        }
      ]
    },
    {
      "cell_type": "code",
      "source": [
        "# selling price distribution\n",
        "plt.figure(figsize = (6,6))\n",
        "sns.distplot(car_dataset['Selling_Price'])\n",
        "plt.title('Selling_Price Distribution')\n",
        "plt.show()"
      ],
      "metadata": {
        "id": "NJAgspvX7WbJ",
        "colab": {
          "base_uri": "https://localhost:8080/",
          "height": 465
        },
        "outputId": "4840c4e0-6138-4aec-951a-0b724487e2d4"
      },
      "execution_count": 43,
      "outputs": [
        {
          "output_type": "stream",
          "name": "stderr",
          "text": [
            "/usr/local/lib/python3.7/dist-packages/seaborn/distributions.py:2619: FutureWarning: `distplot` is a deprecated function and will be removed in a future version. Please adapt your code to use either `displot` (a figure-level function with similar flexibility) or `histplot` (an axes-level function for histograms).\n",
            "  warnings.warn(msg, FutureWarning)\n"
          ]
        },
        {
          "output_type": "display_data",
          "data": {
            "text/plain": [
              "<Figure size 432x432 with 1 Axes>"
            ],
            "image/png": "[encoded data removed]"
          },
          "metadata": {}
        }
      ]
    },
    {
      "cell_type": "code",
      "source": [
        "# Seller type column\n",
        "plt.figure(figsize = (6, 6))\n",
        "sns.countplot(x = 'Seller_Type', data = car_dataset)\n",
        "plt.title('Seller_Type')\n",
        "plt.show()"
      ],
      "metadata": {
        "id": "cePIchIv9S-K",
        "colab": {
          "base_uri": "https://localhost:8080/",
          "height": 410
        },
        "outputId": "d9c2f0b1-fefa-474c-ca8c-c12039b08481"
      },
      "execution_count": 44,
      "outputs": [
        {
          "output_type": "display_data",
          "data": {
            "text/plain": [
              "<Figure size 432x432 with 1 Axes>"
            ],
            "image/png": "[encoded data removed]"
          },
          "metadata": {}
        }
      ]
    },
    {
      "cell_type": "code",
      "source": [
        "car_dataset['Seller_Type'].value_counts()"
      ],
      "metadata": {
        "id": "prDyaUYz9r5B",
        "colab": {
          "base_uri": "https://localhost:8080/"
        },
        "outputId": "abe6e708-1fc9-48b5-d5a1-bd990cda9b7f"
      },
      "execution_count": 45,
      "outputs": [
        {
          "output_type": "execute_result",
          "data": {
            "text/plain": [
              "Dealer        195\n",
              "Individual    106\n",
              "Name: Seller_Type, dtype: int64"
            ]
          },
          "metadata": {},
          "execution_count": 45
        }
      ]
    },
    {
      "cell_type": "code",
      "source": [
        "#Transmission Column\n",
        "plt.figure(figsize = (6,6))\n",
        "sns.countplot(x = 'Transmission', data = car_dataset)\n",
        "plt.title('Transmission')\n",
        "plt.show()"
      ],
      "metadata": {
        "id": "OhvkajFE90ty",
        "colab": {
          "base_uri": "https://localhost:8080/",
          "height": 410
        },
        "outputId": "19f23014-865f-468f-9e1d-24de486f592b"
      },
      "execution_count": 46,
      "outputs": [
        {
          "output_type": "display_data",
          "data": {
            "text/plain": [
              "<Figure size 432x432 with 1 Axes>"
            ],
            "image/png": "[encoded data removed]"
          },
          "metadata": {}
        }
      ]
    },
    {
      "cell_type": "code",
      "source": [
        "car_dataset['Transmission'].value_counts()"
      ],
      "metadata": {
        "id": "7NNNOoYX-MKD",
        "colab": {
          "base_uri": "https://localhost:8080/"
        },
        "outputId": "f0e9041a-b776-4bca-fb09-97523b25f4ad"
      },
      "execution_count": 47,
      "outputs": [
        {
          "output_type": "execute_result",
          "data": {
            "text/plain": [
              "Manual       261\n",
              "Automatic     40\n",
              "Name: Transmission, dtype: int64"
            ]
          },
          "metadata": {},
          "execution_count": 47
        }
      ]
    },
    {
      "cell_type": "code",
      "source": [
        "#distribution pf present price\n",
        "sns.set()\n",
        "plt.figure(figsize = (6,6))\n",
        "sns.distplot(car_dataset['Present_Price'])\n",
        "plt.title('Present_Price Distribution')\n",
        "plt.show()"
      ],
      "metadata": {
        "id": "elqOi0F_-TJB",
        "colab": {
          "base_uri": "https://localhost:8080/",
          "height": 465
        },
        "outputId": "d9cf827c-57e1-44fa-c989-75f2b8921002"
      },
      "execution_count": 48,
      "outputs": [
        {
          "output_type": "stream",
          "name": "stderr",
          "text": [
            "/usr/local/lib/python3.7/dist-packages/seaborn/distributions.py:2619: FutureWarning: `distplot` is a deprecated function and will be removed in a future version. Please adapt your code to use either `displot` (a figure-level function with similar flexibility) or `histplot` (an axes-level function for histograms).\n",
            "  warnings.warn(msg, FutureWarning)\n"
          ]
        },
        {
          "output_type": "display_data",
          "data": {
            "text/plain": [
              "<Figure size 432x432 with 1 Axes>"
            ],
            "image/png": "[encoded data removed]"
          },
          "metadata": {}
        }
      ]
    },
    {
      "cell_type": "code",
      "source": [
        "# distribution of kms driven\n",
        "sns.set()\n",
        "plt.figure(figsize = (6,6))\n",
        "sns.distplot(car_dataset['Kms_Driven'])\n",
        "plt.title('Kms_Driven Distribution')\n",
        "plt.show()"
      ],
      "metadata": {
        "id": "JqAIVGK7-uSb",
        "colab": {
          "base_uri": "https://localhost:8080/",
          "height": 465
        },
        "outputId": "ccb2a13d-bdeb-406c-ed4a-bd5d5172bcca"
      },
      "execution_count": 49,
      "outputs": [
        {
          "output_type": "stream",
          "name": "stderr",
          "text": [
            "/usr/local/lib/python3.7/dist-packages/seaborn/distributions.py:2619: FutureWarning: `distplot` is a deprecated function and will be removed in a future version. Please adapt your code to use either `displot` (a figure-level function with similar flexibility) or `histplot` (an axes-level function for histograms).\n",
            "  warnings.warn(msg, FutureWarning)\n"
          ]
        },
        {
          "output_type": "display_data",
          "data": {
            "text/plain": [
              "<Figure size 432x432 with 1 Axes>"
            ],
            "image/png": "[encoded data removed]"
          },
          "metadata": {}
        }
      ]
    },
    {
      "cell_type": "code",
      "source": [
        "# ENCODING THE SET COLUMN\n",
        "car_dataset.replace({'Fuel_Type' : {'Petrol': 0, 'Diesel': 1, 'CNG': 2}}, inplace = True)\n",
        "\n",
        "#ENCODING THE SMOKER COLUMN\n",
        "car_dataset.replace({'Seller_Type': {'Dealer': 0, 'Individual': 1}}, inplace = True)\n",
        "\n",
        "# ENCODING THE REGION COLUMN\n",
        "car_dataset.replace({'Transmission': {'Manual': 0, 'Automatic': 1}}, inplace = True)\n",
        "\n"
      ],
      "metadata": {
        "id": "QsOxUtj68omK"
      },
      "execution_count": 50,
      "outputs": []
    },
    {
      "cell_type": "code",
      "source": [
        "X = car_dataset.drop(columns = ['Owner', 'Car_Name'], axis = 1)\n",
        "Y = car_dataset['Owner']"
      ],
      "metadata": {
        "id": "vytM-HVf9wfZ"
      },
      "execution_count": 51,
      "outputs": []
    },
    {
      "cell_type": "code",
      "source": [
        "print(X)"
      ],
      "metadata": {
        "id": "8qn0BUQ9-A7X",
        "colab": {
          "base_uri": "https://localhost:8080/"
        },
        "outputId": "550db7cb-aa23-423f-fc2e-8c74be55de54"
      },
      "execution_count": 52,
      "outputs": [
        {
          "output_type": "stream",
          "name": "stdout",
          "text": [
            "     Year  Selling_Price  Present_Price  Kms_Driven  Fuel_Type  Seller_Type  \\\n",
            "0    2014           3.35           5.59       27000          0            0   \n",
            "1    2013           4.75           9.54       43000          1            0   \n",
            "2    2017           7.25           9.85        6900          0            0   \n",
            "3    2011           2.85           4.15        5200          0            0   \n",
            "4    2014           4.60           6.87       42450          1            0   \n",
            "..    ...            ...            ...         ...        ...          ...   \n",
            "296  2016           9.50          11.60       33988          1            0   \n",
            "297  2015           4.00           5.90       60000          0            0   \n",
            "298  2009           3.35          11.00       87934          0            0   \n",
            "299  2017          11.50          12.50        9000          1            0   \n",
            "300  2016           5.30           5.90        5464          0            0   \n",
            "\n",
            "     Transmission  \n",
            "0               0  \n",
            "1               0  \n",
            "2               0  \n",
            "3               0  \n",
            "4               0  \n",
            "..            ...  \n",
            "296             0  \n",
            "297             0  \n",
            "298             0  \n",
            "299             0  \n",
            "300             0  \n",
            "\n",
            "[301 rows x 7 columns]\n"
          ]
        }
      ]
    },
    {
      "cell_type": "code",
      "source": [
        "print(Y)"
      ],
      "metadata": {
        "id": "CEB2oJv2-DbP",
        "colab": {
          "base_uri": "https://localhost:8080/"
        },
        "outputId": "4060fb2f-4356-497f-bce3-d44610c5f288"
      },
      "execution_count": 53,
      "outputs": [
        {
          "output_type": "stream",
          "name": "stdout",
          "text": [
            "0      0\n",
            "1      0\n",
            "2      0\n",
            "3      0\n",
            "4      0\n",
            "      ..\n",
            "296    0\n",
            "297    0\n",
            "298    0\n",
            "299    0\n",
            "300    0\n",
            "Name: Owner, Length: 301, dtype: int64\n"
          ]
        }
      ]
    },
    {
      "cell_type": "markdown",
      "source": [
        "**Splitting the training data and testing data**"
      ],
      "metadata": {
        "id": "rKeLwCEm-F6y"
      }
    },
    {
      "cell_type": "code",
      "source": [
        "X_train, X_test, Y_train, Y_test = train_test_split(X, Y, test_size = 0.2, random_state = 2)"
      ],
      "metadata": {
        "id": "Z085BIB7-L3X"
      },
      "execution_count": 54,
      "outputs": []
    },
    {
      "cell_type": "code",
      "source": [
        "print(X.shape, X_train.shape, X_test.shape)"
      ],
      "metadata": {
        "id": "0SEJM49P-dng",
        "colab": {
          "base_uri": "https://localhost:8080/"
        },
        "outputId": "c5baf7b4-d4f4-4be7-8cdf-ca0b2eb9c9b6"
      },
      "execution_count": 55,
      "outputs": [
        {
          "output_type": "stream",
          "name": "stdout",
          "text": [
            "(301, 7) (240, 7) (61, 7)\n"
          ]
        }
      ]
    },
    {
      "cell_type": "code",
      "source": [
        "print(X.shape, X_train.shape, X_test.shape)"
      ],
      "metadata": {
        "id": "KUnf28xi-npf",
        "colab": {
          "base_uri": "https://localhost:8080/"
        },
        "outputId": "8f75053a-d681-4041-c02e-69c5d28e8918"
      },
      "execution_count": 56,
      "outputs": [
        {
          "output_type": "stream",
          "name": "stdout",
          "text": [
            "(301, 7) (240, 7) (61, 7)\n"
          ]
        }
      ]
    },
    {
      "cell_type": "code",
      "source": [
        "print(X_train)"
      ],
      "metadata": {
        "id": "xHlGWK5B-v2I",
        "colab": {
          "base_uri": "https://localhost:8080/"
        },
        "outputId": "00df69be-34b9-4f1b-8985-f6608b1c2f70"
      },
      "execution_count": 57,
      "outputs": [
        {
          "output_type": "stream",
          "name": "stdout",
          "text": [
            "     Year  Selling_Price  Present_Price  Kms_Driven  Fuel_Type  Seller_Type  \\\n",
            "235  2017           9.10           9.40       15141          0            0   \n",
            "106  2014           1.35           3.45       16500          0            1   \n",
            "10   2017           2.85           3.60        2135          0            0   \n",
            "152  2012           0.50           0.99       13000          0            1   \n",
            "77   2004           1.50          12.35      135154          0            0   \n",
            "..    ...            ...            ...         ...        ...          ...   \n",
            "75   2015           3.95           6.80       36000          0            0   \n",
            "22   2011           4.40           8.01       50000          0            0   \n",
            "72   2013           7.45          18.61       56001          0            0   \n",
            "15   2016           7.75          10.79       43000          1            0   \n",
            "168  2013           0.42           0.73       12000          0            1   \n",
            "\n",
            "     Transmission  \n",
            "235             0  \n",
            "106             0  \n",
            "10              0  \n",
            "152             0  \n",
            "77              1  \n",
            "..            ...  \n",
            "75              0  \n",
            "22              1  \n",
            "72              0  \n",
            "15              0  \n",
            "168             0  \n",
            "\n",
            "[240 rows x 7 columns]\n"
          ]
        }
      ]
    },
    {
      "cell_type": "code",
      "source": [
        "print(Y_train)"
      ],
      "metadata": {
        "id": "jPul6lg4-yfw",
        "colab": {
          "base_uri": "https://localhost:8080/"
        },
        "outputId": "a0fc7b2b-f161-476c-ba17-95b516c8deb9"
      },
      "execution_count": 58,
      "outputs": [
        {
          "output_type": "stream",
          "name": "stdout",
          "text": [
            "235    0\n",
            "106    1\n",
            "10     0\n",
            "152    0\n",
            "77     0\n",
            "      ..\n",
            "75     0\n",
            "22     0\n",
            "72     0\n",
            "15     0\n",
            "168    0\n",
            "Name: Owner, Length: 240, dtype: int64\n"
          ]
        }
      ]
    },
    {
      "cell_type": "code",
      "source": [
        "X_train, X_test, Y_train, Y_test = train_test_split(X, Y, test_size = 0.2, random_state = 0)"
      ],
      "metadata": {
        "id": "E_T20JTf-1dI"
      },
      "execution_count": 59,
      "outputs": []
    },
    {
      "cell_type": "markdown",
      "source": [
        "**Model Training**"
      ],
      "metadata": {
        "id": "pH__xvLH_J7f"
      }
    },
    {
      "cell_type": "code",
      "source": [
        "regressor = LinearRegression()\n",
        "regressor.fit(X_train, Y_train) # training the algorithm"
      ],
      "metadata": {
        "id": "bsfl_gKj_Mzh",
        "colab": {
          "base_uri": "https://localhost:8080/"
        },
        "outputId": "b79ea1d5-5853-49b6-b271-0d2e968c4818"
      },
      "execution_count": 60,
      "outputs": [
        {
          "output_type": "execute_result",
          "data": {
            "text/plain": [
              "LinearRegression()"
            ]
          },
          "metadata": {},
          "execution_count": 60
        }
      ]
    },
    {
      "cell_type": "markdown",
      "source": [
        "**Model Evaluation**"
      ],
      "metadata": {
        "id": "TymoP4Ie_ego"
      }
    },
    {
      "cell_type": "code",
      "source": [
        "# prediction on training data\n",
        "training_data_prediction =regressor.predict(X_train)"
      ],
      "metadata": {
        "id": "YCV0xf0h_hOH"
      },
      "execution_count": 61,
      "outputs": []
    },
    {
      "cell_type": "code",
      "source": [
        "# R squared value\n",
        "r2_train = metrics.r2_score(Y_train, training_data_prediction)\n",
        "print('R squared value:', r2_train)"
      ],
      "metadata": {
        "id": "Ni7ppB98_sjH",
        "colab": {
          "base_uri": "https://localhost:8080/"
        },
        "outputId": "b40c7cc2-f57c-4bd3-b15e-dbf1c550f631"
      },
      "execution_count": 62,
      "outputs": [
        {
          "output_type": "stream",
          "name": "stdout",
          "text": [
            "R squared value: 0.09356215656649924\n"
          ]
        }
      ]
    },
    {
      "cell_type": "code",
      "source": [
        "# prediction on testing data\n",
        "test_data_prediction = regressor.predict(X_test)"
      ],
      "metadata": {
        "id": "4CJCUqwU_9ev"
      },
      "execution_count": 63,
      "outputs": []
    },
    {
      "cell_type": "code",
      "source": [
        "# R squared value\n",
        "r2_test = metrics.r2_score(Y_test, test_data_prediction)\n",
        "print('R squared value:', r2_test)"
      ],
      "metadata": {
        "id": "IaW2ihOPAHdn",
        "colab": {
          "base_uri": "https://localhost:8080/"
        },
        "outputId": "e5d31bef-1987-46ee-a8ea-0f85fd638cd4"
      },
      "execution_count": 64,
      "outputs": [
        {
          "output_type": "stream",
          "name": "stdout",
          "text": [
            "R squared value: -0.08244065719681348\n"
          ]
        }
      ]
    }
  ]
}